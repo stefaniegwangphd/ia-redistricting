{
 "cells": [
  {
   "attachments": {},
   "cell_type": "markdown",
   "id": "794a648a",
   "metadata": {},
   "source": [
    "forked from iowa_contiguousdistricting on october 30\n",
    "\n",
    "testing a contiguity measure which doesn't include kitty-corners"
   ]
  },
  {
   "cell_type": "markdown",
   "id": "e7cd18f8",
   "metadata": {},
   "source": [
    "Shapefile dataframes used in this notebook\n",
    "\n",
    "shapefile_iowa: MGGG stuff merged with census stuff\n",
    "\n",
    "shapef_ia_proj: projected to UTM so we can run distance calculations on it\n",
    "\n",
    "shapef_ia_fordistricting: 99 rows for each county, ready for initial allocation; made from deep copy of shapef_ia_proj"
   ]
  },
  {
   "cell_type": "code",
   "execution_count": 1,
   "id": "77f457be",
   "metadata": {},
   "outputs": [],
   "source": [
    "import numpy as np\n",
    "import warnings\n",
    "warnings.simplefilter(action='ignore', category=FutureWarning)\n",
    "import pandas as pd\n",
    "import geopandas as gpd\n",
    "import seaborn as sns\n",
    "from PIL import Image, ImageOps\n",
    "import glob\n",
    "import os       #mkdir\n",
    "from scipy.sparse import csgraph #for laplacian\n",
    "from scipy.linalg import null_space\n",
    "from plotnine import (ggplot, aes, geom_map, geom_text, geom_label, \n",
    "                      ggtitle, element_blank, element_rect, \n",
    "                      scale_fill_manual, theme_minimal, theme) \n",
    "\n",
    "import math         ##for math.sqrt\n",
    "import random       #for random selection of district to start with"
   ]
  },
  {
   "attachments": {},
   "cell_type": "markdown",
   "id": "1f03496d",
   "metadata": {},
   "source": [
    "# OLD/unchanged stuff in the runup:\n",
    "\n",
    "Prepping the census and geopandas dataframes (all same as _contiguousdistricting file)\n",
    "\n",
    "(except some small modifications to map function)"
   ]
  },
  {
   "attachments": {},
   "cell_type": "markdown",
   "id": "ed8fb8bd",
   "metadata": {},
   "source": [
    "## Importing data"
   ]
  },
  {
   "cell_type": "code",
   "execution_count": 2,
   "id": "21899131",
   "metadata": {},
   "outputs": [
    {
     "data": {
      "text/html": [
       "<div>\n",
       "<style scoped>\n",
       "    .dataframe tbody tr th:only-of-type {\n",
       "        vertical-align: middle;\n",
       "    }\n",
       "\n",
       "    .dataframe tbody tr th {\n",
       "        vertical-align: top;\n",
       "    }\n",
       "\n",
       "    .dataframe thead th {\n",
       "        text-align: right;\n",
       "    }\n",
       "</style>\n",
       "<table border=\"1\" class=\"dataframe\">\n",
       "  <thead>\n",
       "    <tr style=\"text-align: right;\">\n",
       "      <th></th>\n",
       "      <th>county_id</th>\n",
       "      <th>county</th>\n",
       "      <th>population</th>\n",
       "      <th>COUNTYFP10</th>\n",
       "      <th>latitude</th>\n",
       "      <th>longitude</th>\n",
       "    </tr>\n",
       "  </thead>\n",
       "  <tbody>\n",
       "    <tr>\n",
       "      <th>0</th>\n",
       "      <td>0</td>\n",
       "      <td>Adair</td>\n",
       "      <td>7496</td>\n",
       "      <td>001</td>\n",
       "      <td>41.328528</td>\n",
       "      <td>-94.478164</td>\n",
       "    </tr>\n",
       "    <tr>\n",
       "      <th>1</th>\n",
       "      <td>1</td>\n",
       "      <td>Adams</td>\n",
       "      <td>3704</td>\n",
       "      <td>003</td>\n",
       "      <td>41.021656</td>\n",
       "      <td>-94.696906</td>\n",
       "    </tr>\n",
       "    <tr>\n",
       "      <th>2</th>\n",
       "      <td>2</td>\n",
       "      <td>Allamakee</td>\n",
       "      <td>14061</td>\n",
       "      <td>005</td>\n",
       "      <td>43.274964</td>\n",
       "      <td>-91.382751</td>\n",
       "    </tr>\n",
       "    <tr>\n",
       "      <th>3</th>\n",
       "      <td>3</td>\n",
       "      <td>Appanoose</td>\n",
       "      <td>12317</td>\n",
       "      <td>007</td>\n",
       "      <td>40.744683</td>\n",
       "      <td>-92.870345</td>\n",
       "    </tr>\n",
       "    <tr>\n",
       "      <th>4</th>\n",
       "      <td>4</td>\n",
       "      <td>Audubon</td>\n",
       "      <td>5674</td>\n",
       "      <td>009</td>\n",
       "      <td>41.679178</td>\n",
       "      <td>-94.904312</td>\n",
       "    </tr>\n",
       "  </tbody>\n",
       "</table>\n",
       "</div>"
      ],
      "text/plain": [
       "   county_id      county  population COUNTYFP10   latitude  longitude\n",
       "0          0      Adair         7496        001  41.328528 -94.478164\n",
       "1          1      Adams         3704        003  41.021656 -94.696906\n",
       "2          2  Allamakee        14061        005  43.274964 -91.382751\n",
       "3          3  Appanoose        12317        007  40.744683 -92.870345\n",
       "4          4    Audubon         5674        009  41.679178 -94.904312"
      ]
     },
     "execution_count": 2,
     "metadata": {},
     "output_type": "execute_result"
    }
   ],
   "source": [
    "#census.csv is data from Secretary of State's office.\n",
    "census_df=pd.read_csv('census.csv')\n",
    "census_df['COUNTYFP10']=census_df['COUNTYFP10'].astype(str).str.pad(3,fillchar='0')\n",
    "census_df.head()"
   ]
  },
  {
   "cell_type": "code",
   "execution_count": 3,
   "id": "3715462b",
   "metadata": {},
   "outputs": [
    {
     "name": "stdout",
     "output_type": "stream",
     "text": [
      "<class 'geopandas.geodataframe.GeoDataFrame'>\n",
      "RangeIndex: 99 entries, 0 to 98\n",
      "Data columns (total 57 columns):\n",
      " #   Column      Non-Null Count  Dtype   \n",
      "---  ------      --------------  -----   \n",
      " 0   STATEFP10   99 non-null     object  \n",
      " 1   COUNTYFP10  99 non-null     object  \n",
      " 2   GEOID10     99 non-null     int64   \n",
      " 3   NAME10      99 non-null     object  \n",
      " 4   NAMELSAD10  99 non-null     object  \n",
      " 5   ALAND10     99 non-null     int64   \n",
      " 6   AWATER10    99 non-null     int64   \n",
      " 7   INTPTLAT10  99 non-null     object  \n",
      " 8   INTPTLON10  99 non-null     object  \n",
      " 9   TOTPOP      99 non-null     int64   \n",
      " 10  NH_WHITE    99 non-null     int64   \n",
      " 11  NH_BLACK    99 non-null     int64   \n",
      " 12  NH_AMIN     99 non-null     int64   \n",
      " 13  NH_ASIAN    99 non-null     int64   \n",
      " 14  NH_NHPI     99 non-null     int64   \n",
      " 15  NH_OTHER    99 non-null     int64   \n",
      " 16  NH_2MORE    99 non-null     int64   \n",
      " 17  HISP        99 non-null     int64   \n",
      " 18  H_WHITE     99 non-null     int64   \n",
      " 19  H_BLACK     99 non-null     int64   \n",
      " 20  H_AMIN      99 non-null     int64   \n",
      " 21  H_ASIAN     99 non-null     int64   \n",
      " 22  N_NHPI      99 non-null     int64   \n",
      " 23  H_OTHER     99 non-null     int64   \n",
      " 24  H_2MORE     99 non-null     int64   \n",
      " 25  VAP         99 non-null     int64   \n",
      " 26  HVAP        99 non-null     int64   \n",
      " 27  WVAP        99 non-null     int64   \n",
      " 28  BVAP        99 non-null     int64   \n",
      " 29  AMINVAP     99 non-null     int64   \n",
      " 30  ASIANVAP    99 non-null     int64   \n",
      " 31  NHPIVAP     99 non-null     int64   \n",
      " 32  OTHERVAP    99 non-null     int64   \n",
      " 33  2MOREVAP    99 non-null     int64   \n",
      " 34  TOTVOT00    99 non-null     int64   \n",
      " 35  PRES00D     99 non-null     int64   \n",
      " 36  PRES00R     99 non-null     int64   \n",
      " 37  PRES00G     99 non-null     int64   \n",
      " 38  PRES00OTH   99 non-null     int64   \n",
      " 39  TOTVOT04    99 non-null     int64   \n",
      " 40  PRES04D     99 non-null     int64   \n",
      " 41  PRES04R     99 non-null     int64   \n",
      " 42  PRES04OTH   99 non-null     int64   \n",
      " 43  TOTVOT08    99 non-null     int64   \n",
      " 44  PRES08D     99 non-null     int64   \n",
      " 45  PRES08R     99 non-null     int64   \n",
      " 46  PRES08OTH   99 non-null     int64   \n",
      " 47  TOTVOT12    99 non-null     int64   \n",
      " 48  PRES12D     99 non-null     int64   \n",
      " 49  PRES12R     99 non-null     int64   \n",
      " 50  PRES12OTH   99 non-null     int64   \n",
      " 51  TOTVOT16    99 non-null     int64   \n",
      " 52  PRES16D     99 non-null     int64   \n",
      " 53  PRES16R     99 non-null     int64   \n",
      " 54  PRES16OTH   99 non-null     int64   \n",
      " 55  CD          99 non-null     object  \n",
      " 56  geometry    99 non-null     geometry\n",
      "dtypes: geometry(1), int64(49), object(7)\n",
      "memory usage: 44.2+ KB\n"
     ]
    }
   ],
   "source": [
    "#imports county shapefiles from MGGG\n",
    "shapefile_iowa = gpd.read_file('IA_counties/IA_counties.shp').sort_values('NAME10',ignore_index=True)\n",
    "shapefile_iowa.info()"
   ]
  },
  {
   "cell_type": "code",
   "execution_count": 4,
   "id": "b133ccb9",
   "metadata": {},
   "outputs": [],
   "source": [
    "## Merging ONLY 2020 population numbers and county_id from census df into shapefile_iowa\n",
    "shapefile_iowa = shapefile_iowa.merge(census_df[['COUNTYFP10','population','county_id']], on='COUNTYFP10').copy()"
   ]
  },
  {
   "cell_type": "code",
   "execution_count": 5,
   "id": "5e593671",
   "metadata": {},
   "outputs": [],
   "source": [
    "county_populations = np.array(census_df['population'])\n",
    "state_population = sum(county_populations)\n",
    "n_counties = 99\n",
    "n_districts = 4"
   ]
  },
  {
   "attachments": {},
   "cell_type": "markdown",
   "id": "3200c4d6",
   "metadata": {},
   "source": [
    "## Projecting shapefile to UTM 15N"
   ]
  },
  {
   "cell_type": "code",
   "execution_count": 6,
   "id": "b421efa3",
   "metadata": {},
   "outputs": [
    {
     "data": {
      "text/plain": [
       "<Geographic 2D CRS: EPSG:4269>\n",
       "Name: NAD83\n",
       "Axis Info [ellipsoidal]:\n",
       "- Lat[north]: Geodetic latitude (degree)\n",
       "- Lon[east]: Geodetic longitude (degree)\n",
       "Area of Use:\n",
       "- name: North America - NAD83\n",
       "- bounds: (167.65, 14.92, -47.74, 86.46)\n",
       "Datum: North American Datum 1983\n",
       "- Ellipsoid: GRS 1980\n",
       "- Prime Meridian: Greenwich"
      ]
     },
     "execution_count": 6,
     "metadata": {},
     "output_type": "execute_result"
    }
   ],
   "source": [
    "#First, show the current coordinate reference system\n",
    "shapefile_iowa.crs"
   ]
  },
  {
   "cell_type": "code",
   "execution_count": 7,
   "id": "6dc5ae2b",
   "metadata": {},
   "outputs": [
    {
     "data": {
      "text/plain": [
       "<Projected CRS: EPSG:26915>\n",
       "Name: NAD83 / UTM zone 15N\n",
       "Axis Info [cartesian]:\n",
       "- E[east]: Easting (metre)\n",
       "- N[north]: Northing (metre)\n",
       "Area of Use:\n",
       "- name: North America - 96°W to 90°W and NAD83 by country\n",
       "- bounds: (-96.0, 25.61, -90.0, 84.0)\n",
       "Coordinate Operation:\n",
       "- name: UTM zone 15N\n",
       "- method: Transverse Mercator\n",
       "Datum: North American Datum 1983\n",
       "- Ellipsoid: GRS 1980\n",
       "- Prime Meridian: Greenwich"
      ]
     },
     "execution_count": 7,
     "metadata": {},
     "output_type": "execute_result"
    }
   ],
   "source": [
    "#Then project the shapefiles to UTM 15N\n",
    "shapef_ia_proj = shapefile_iowa.to_crs(epsg=26915)\n",
    "\n",
    "shapef_ia_proj.crs"
   ]
  },
  {
   "cell_type": "code",
   "execution_count": 8,
   "id": "4fdd554b",
   "metadata": {},
   "outputs": [
    {
     "data": {
      "text/plain": [
       "0.0"
      ]
     },
     "execution_count": 8,
     "metadata": {},
     "output_type": "execute_result"
    }
   ],
   "source": [
    "#checking out geopandas automatic distance calculation\n",
    "shapef_ia_proj['geometry'].iloc[0].distance(shapef_ia_proj['geometry'].iloc[1])\n",
    "# adair-to-adams distance is 0, so shortest distance, not centroid-to-centroid"
   ]
  },
  {
   "attachments": {},
   "cell_type": "markdown",
   "id": "be2a11d2",
   "metadata": {},
   "source": [
    "## Merging pd and gpd dataframes and creating population heat map"
   ]
  },
  {
   "cell_type": "code",
   "execution_count": 9,
   "id": "bf1c9f02",
   "metadata": {},
   "outputs": [],
   "source": [
    "## Merging ONLY lat/long + county id from census df into shapefile_iowa (since population and county_id are already there)\n",
    "map_population_by_county_data = shapefile_iowa.merge(census_df[['COUNTYFP10','latitude','longitude']], on='COUNTYFP10').copy()"
   ]
  },
  {
   "cell_type": "code",
   "execution_count": 10,
   "id": "ef50d41d",
   "metadata": {},
   "outputs": [
    {
     "data": {
      "image/png": "[encoded data removed]",
      "text/plain": [
       "<Figure size 640x480 with 1 Axes>"
      ]
     },
     "metadata": {},
     "output_type": "display_data"
    },
    {
     "data": {
      "text/plain": [
       "<ggplot: (8775958412855)>"
      ]
     },
     "execution_count": 10,
     "metadata": {},
     "output_type": "execute_result"
    }
   ],
   "source": [
    "map_population_by_county = (\n",
    "    ggplot(map_population_by_county_data)\n",
    "    + geom_map(aes(fill='population'))\n",
    "    + geom_label(aes(x='longitude', y='latitude', \n",
    "                     label='NAME10',size=2), \n",
    "                 show_legend=False)\n",
    "    + theme_minimal()\n",
    "    + theme(axis_text_x=element_blank(),\n",
    "            axis_text_y=element_blank(),\n",
    "            axis_title_x=element_blank(),\n",
    "            axis_title_y=element_blank(),\n",
    "            axis_ticks=element_blank(),\n",
    "            panel_grid_major=element_blank(),\n",
    "            panel_grid_minor=element_blank()\n",
    "           )\n",
    "    )\n",
    "map_population_by_county"
   ]
  },
  {
   "cell_type": "code",
   "execution_count": 11,
   "id": "1b628dcd",
   "metadata": {},
   "outputs": [],
   "source": [
    "#input: shapefile of counties within a particular district \n",
    "#   (after undergoing identity overlay)\n",
    "#   label_field options: 'NAME10', 'population_2', 'county_id', 'county_id_string_2', etc\n",
    "def map_unmerged_districts(new_shapefile,label_field):\n",
    "    map_counties_by_district = (\n",
    "        ggplot(new_shapefile)\n",
    "        + geom_map(aes(fill='population'))\n",
    "        + geom_label(aes(x='xcentr_lon', y='ycentr_lat', \n",
    "                        label=label_field,size=2), \n",
    "                    show_legend=False)\n",
    "        + theme_minimal()\n",
    "        + theme(axis_text_x=element_blank(),\n",
    "                axis_text_y=element_blank(),\n",
    "                axis_title_x=element_blank(),\n",
    "                axis_title_y=element_blank(),\n",
    "                axis_ticks=element_blank(),\n",
    "                panel_grid_major=element_blank(),\n",
    "                panel_grid_minor=element_blank()\n",
    "            )\n",
    "        )\n",
    "\n",
    "    return map_counties_by_district"
   ]
  },
  {
   "attachments": {},
   "cell_type": "markdown",
   "id": "a16b8fea",
   "metadata": {},
   "source": [
    "## Creating distance matrix for Iowa counties"
   ]
  },
  {
   "cell_type": "code",
   "execution_count": 12,
   "id": "044c72dd",
   "metadata": {},
   "outputs": [],
   "source": [
    "# adding/fixing columns with (projected) centroid locations \n",
    "shapef_ia_proj['xcentr_lon'] = shapef_ia_proj.centroid.x\n",
    "shapef_ia_proj['ycentr_lat'] = shapef_ia_proj.centroid.y\n",
    "#shapef_ia_proj.info()\n",
    "# shapef_ia_proj['xcentr_lon'].iloc[1]"
   ]
  },
  {
   "cell_type": "code",
   "execution_count": 13,
   "id": "03d88c7e",
   "metadata": {},
   "outputs": [
    {
     "name": "stdout",
     "output_type": "stream",
     "text": [
      "<class 'geopandas.geodataframe.GeoDataFrame'>\n",
      "Int64Index: 99 entries, 0 to 98\n",
      "Data columns (total 9 columns):\n",
      " #   Column            Non-Null Count  Dtype   \n",
      "---  ------            --------------  -----   \n",
      " 0   COUNTYFP10        99 non-null     object  \n",
      " 1   NAME10            99 non-null     object  \n",
      " 2   geometry          99 non-null     geometry\n",
      " 3   population        99 non-null     int64   \n",
      " 4   county_id         99 non-null     int64   \n",
      " 5   xcentr_lon        99 non-null     float64 \n",
      " 6   ycentr_lat        99 non-null     float64 \n",
      " 7   county_id_string  99 non-null     object  \n",
      " 8   temp_district     99 non-null     int64   \n",
      "dtypes: float64(2), geometry(1), int64(3), object(3)\n",
      "memory usage: 7.7+ KB\n"
     ]
    }
   ],
   "source": [
    "# cutting out other columns from the shapefile to be dissolved on\n",
    "\n",
    "# 'TOTPOP' is the MGGG shapefile totpop (pre-2020), so removing\n",
    "# also removing: the un-projected 'INTPTLAT10' and 'INTPTLON10'\n",
    "#      and 'NAMELSAD10', the 2 word name\n",
    "#      and all demographic/voting data\n",
    "#      and (later on): also removing ALAND and AWATER, since they just get messy with merges and dissolves\n",
    "\n",
    "districting_columns = ['COUNTYFP10', 'NAME10', 'geometry', \n",
    "       'population', 'county_id', 'xcentr_lon', 'ycentr_lat']\n",
    "\n",
    "#make a new shapefile, which will be merged/dissolved on in the process of making districts\n",
    "shapef_ia_fordistricting = shapef_ia_proj[districting_columns].copy()\n",
    "\n",
    "#add column of county indices (which will get concatenated, as county_id_string)\n",
    "shapef_ia_fordistricting['county_id_string'] = shapef_ia_fordistricting['county_id']\n",
    "shapef_ia_fordistricting['county_id_string'] = shapef_ia_fordistricting['county_id_string'].astype(str).str.pad(2,fillchar='0')\n",
    "\n",
    "#add column of county indices (which will become district indices)\n",
    "shapef_ia_fordistricting['temp_district'] = shapef_ia_fordistricting.index\n",
    "\n",
    "shapef_ia_fordistricting.info()"
   ]
  },
  {
   "attachments": {},
   "cell_type": "markdown",
   "id": "0c3dccbe",
   "metadata": {},
   "source": [
    "# NEW! Set up subset of counties to test for adjacency, kitty-corners"
   ]
  },
  {
   "cell_type": "code",
   "execution_count": 14,
   "id": "7d531d9e",
   "metadata": {},
   "outputs": [
    {
     "data": {
      "text/html": [
       "<div>\n",
       "<style scoped>\n",
       "    .dataframe tbody tr th:only-of-type {\n",
       "        vertical-align: middle;\n",
       "    }\n",
       "\n",
       "    .dataframe tbody tr th {\n",
       "        vertical-align: top;\n",
       "    }\n",
       "\n",
       "    .dataframe thead th {\n",
       "        text-align: right;\n",
       "    }\n",
       "</style>\n",
       "<table border=\"1\" class=\"dataframe\">\n",
       "  <thead>\n",
       "    <tr style=\"text-align: right;\">\n",
       "      <th></th>\n",
       "      <th>NAME10</th>\n",
       "      <th>county_id</th>\n",
       "    </tr>\n",
       "  </thead>\n",
       "  <tbody>\n",
       "    <tr>\n",
       "      <th>0</th>\n",
       "      <td>Adair</td>\n",
       "      <td>0</td>\n",
       "    </tr>\n",
       "    <tr>\n",
       "      <th>1</th>\n",
       "      <td>Adams</td>\n",
       "      <td>1</td>\n",
       "    </tr>\n",
       "    <tr>\n",
       "      <th>2</th>\n",
       "      <td>Allamakee</td>\n",
       "      <td>2</td>\n",
       "    </tr>\n",
       "    <tr>\n",
       "      <th>3</th>\n",
       "      <td>Appanoose</td>\n",
       "      <td>3</td>\n",
       "    </tr>\n",
       "    <tr>\n",
       "      <th>4</th>\n",
       "      <td>Audubon</td>\n",
       "      <td>4</td>\n",
       "    </tr>\n",
       "    <tr>\n",
       "      <th>...</th>\n",
       "      <td>...</td>\n",
       "      <td>...</td>\n",
       "    </tr>\n",
       "    <tr>\n",
       "      <th>94</th>\n",
       "      <td>Winnebago</td>\n",
       "      <td>94</td>\n",
       "    </tr>\n",
       "    <tr>\n",
       "      <th>95</th>\n",
       "      <td>Winneshiek</td>\n",
       "      <td>95</td>\n",
       "    </tr>\n",
       "    <tr>\n",
       "      <th>96</th>\n",
       "      <td>Woodbury</td>\n",
       "      <td>96</td>\n",
       "    </tr>\n",
       "    <tr>\n",
       "      <th>97</th>\n",
       "      <td>Worth</td>\n",
       "      <td>97</td>\n",
       "    </tr>\n",
       "    <tr>\n",
       "      <th>98</th>\n",
       "      <td>Wright</td>\n",
       "      <td>98</td>\n",
       "    </tr>\n",
       "  </tbody>\n",
       "</table>\n",
       "<p>99 rows × 2 columns</p>\n",
       "</div>"
      ],
      "text/plain": [
       "        NAME10  county_id\n",
       "0        Adair          0\n",
       "1        Adams          1\n",
       "2    Allamakee          2\n",
       "3    Appanoose          3\n",
       "4      Audubon          4\n",
       "..         ...        ...\n",
       "94   Winnebago         94\n",
       "95  Winneshiek         95\n",
       "96    Woodbury         96\n",
       "97       Worth         97\n",
       "98      Wright         98\n",
       "\n",
       "[99 rows x 2 columns]"
      ]
     },
     "execution_count": 14,
     "metadata": {},
     "output_type": "execute_result"
    }
   ],
   "source": [
    "shapef_ia_fordistricting[[\"NAME10\",\"county_id\"]]"
   ]
  },
  {
   "cell_type": "markdown",
   "id": "50ff75f6",
   "metadata": {},
   "source": [
    "Pick the southwest corner of the state to work with, including some kitty-corners and some small overlaps\n",
    "\n",
    "\n",
    "[Monona, Crawford, Carroll]\n",
    "Harrison, Shelby, Audubon, Guthrie\n",
    "Pottawattamie, Cass, Adair\n",
    "Mills, Montgom, Adams\n",
    "Fremont, Page, Taylor\n",
    "\n",
    "\n",
    "[66, 23, 13]\n",
    "42, 82, 04, 38\n",
    "77, 14, 00\n",
    "64,68,01\n",
    "35,72,86"
   ]
  },
  {
   "cell_type": "code",
   "execution_count": 15,
   "id": "ef5f1760",
   "metadata": {},
   "outputs": [
    {
     "data": {
      "text/plain": [
       "[0, 1, 4, 14, 35, 38, 42, 64, 68, 72, 77, 82, 86]"
      ]
     },
     "execution_count": 15,
     "metadata": {},
     "output_type": "execute_result"
    }
   ],
   "source": [
    "test_counties_ids= [42,82,4,38,77,14,0,64,68,1,35,72,86]\n",
    "test_counties_ids.sort()\n",
    "test_counties_ids"
   ]
  },
  {
   "cell_type": "code",
   "execution_count": 16,
   "id": "0360a1e6",
   "metadata": {},
   "outputs": [],
   "source": [
    "shapef_testcounties = shapef_ia_fordistricting.iloc[test_counties_ids].copy()"
   ]
  },
  {
   "cell_type": "code",
   "execution_count": 17,
   "id": "95beb67a",
   "metadata": {},
   "outputs": [
    {
     "data": {
      "image/png": "[encoded data removed]",
      "text/plain": [
       "<Figure size 640x480 with 1 Axes>"
      ]
     },
     "metadata": {},
     "output_type": "display_data"
    },
    {
     "data": {
      "text/plain": [
       "<ggplot: (8775956285380)>"
      ]
     },
     "execution_count": 17,
     "metadata": {},
     "output_type": "execute_result"
    }
   ],
   "source": [
    "# map_unmerged_districts(shapef_testcounties,'NAME10')\n",
    "map_unmerged_districts(shapef_testcounties,'county_id')"
   ]
  },
  {
   "cell_type": "markdown",
   "id": "52b27820",
   "metadata": {},
   "source": [
    "# ORIGINAL ADJ_MAT_CALC which is used everywhere adjacency is calculated:"
   ]
  },
  {
   "cell_type": "code",
   "execution_count": 18,
   "id": "56b5747e",
   "metadata": {},
   "outputs": [],
   "source": [
    "# function for arbitrary adjacency matrix\n",
    "\n",
    "def adj_mat_calc(temp_shapefile):\n",
    "    curr_n_districts = len(temp_shapefile)\n",
    "    adjac_mat = pd.DataFrame()\n",
    "\n",
    "    for i in range(curr_n_districts):\n",
    "        adjac_mat[i] = temp_shapefile.intersects(temp_shapefile.iloc[[i]].unary_union)\n",
    "    \n",
    "    adjac_mat = adjac_mat - np.identity(curr_n_districts)\n",
    "    adjac_mat = adjac_mat.astype(int)\n",
    "\n",
    "    #and/or boolean?\n",
    "    # ia_adjac_matrix_bool = ia_adjac_matrix.astype(bool)\n",
    "\n",
    "    return adjac_mat\n"
   ]
  },
  {
   "cell_type": "code",
   "execution_count": 34,
   "id": "7d5814f9",
   "metadata": {},
   "outputs": [
    {
     "data": {
      "text/html": [
       "<div>\n",
       "<style scoped>\n",
       "    .dataframe tbody tr th:only-of-type {\n",
       "        vertical-align: middle;\n",
       "    }\n",
       "\n",
       "    .dataframe tbody tr th {\n",
       "        vertical-align: top;\n",
       "    }\n",
       "\n",
       "    .dataframe thead th {\n",
       "        text-align: right;\n",
       "    }\n",
       "</style>\n",
       "<table border=\"1\" class=\"dataframe\">\n",
       "  <thead>\n",
       "    <tr style=\"text-align: right;\">\n",
       "      <th></th>\n",
       "      <th>0</th>\n",
       "      <th>1</th>\n",
       "      <th>2</th>\n",
       "      <th>3</th>\n",
       "      <th>4</th>\n",
       "      <th>5</th>\n",
       "      <th>6</th>\n",
       "      <th>7</th>\n",
       "      <th>8</th>\n",
       "      <th>9</th>\n",
       "      <th>10</th>\n",
       "      <th>11</th>\n",
       "      <th>12</th>\n",
       "    </tr>\n",
       "  </thead>\n",
       "  <tbody>\n",
       "    <tr>\n",
       "      <th>0</th>\n",
       "      <td>0</td>\n",
       "      <td>1</td>\n",
       "      <td>1</td>\n",
       "      <td>1</td>\n",
       "      <td>0</td>\n",
       "      <td>1</td>\n",
       "      <td>0</td>\n",
       "      <td>0</td>\n",
       "      <td>0</td>\n",
       "      <td>0</td>\n",
       "      <td>0</td>\n",
       "      <td>0</td>\n",
       "      <td>0</td>\n",
       "    </tr>\n",
       "    <tr>\n",
       "      <th>1</th>\n",
       "      <td>1</td>\n",
       "      <td>0</td>\n",
       "      <td>0</td>\n",
       "      <td>1</td>\n",
       "      <td>0</td>\n",
       "      <td>0</td>\n",
       "      <td>0</td>\n",
       "      <td>0</td>\n",
       "      <td>1</td>\n",
       "      <td>1</td>\n",
       "      <td>0</td>\n",
       "      <td>0</td>\n",
       "      <td>1</td>\n",
       "    </tr>\n",
       "    <tr>\n",
       "      <th>4</th>\n",
       "      <td>1</td>\n",
       "      <td>0</td>\n",
       "      <td>0</td>\n",
       "      <td>1</td>\n",
       "      <td>0</td>\n",
       "      <td>1</td>\n",
       "      <td>0</td>\n",
       "      <td>0</td>\n",
       "      <td>0</td>\n",
       "      <td>0</td>\n",
       "      <td>0</td>\n",
       "      <td>1</td>\n",
       "      <td>0</td>\n",
       "    </tr>\n",
       "    <tr>\n",
       "      <th>14</th>\n",
       "      <td>1</td>\n",
       "      <td>1</td>\n",
       "      <td>1</td>\n",
       "      <td>0</td>\n",
       "      <td>0</td>\n",
       "      <td>1</td>\n",
       "      <td>0</td>\n",
       "      <td>0</td>\n",
       "      <td>1</td>\n",
       "      <td>0</td>\n",
       "      <td>1</td>\n",
       "      <td>1</td>\n",
       "      <td>0</td>\n",
       "    </tr>\n",
       "    <tr>\n",
       "      <th>35</th>\n",
       "      <td>0</td>\n",
       "      <td>0</td>\n",
       "      <td>0</td>\n",
       "      <td>0</td>\n",
       "      <td>0</td>\n",
       "      <td>0</td>\n",
       "      <td>0</td>\n",
       "      <td>1</td>\n",
       "      <td>1</td>\n",
       "      <td>1</td>\n",
       "      <td>0</td>\n",
       "      <td>0</td>\n",
       "      <td>0</td>\n",
       "    </tr>\n",
       "    <tr>\n",
       "      <th>38</th>\n",
       "      <td>1</td>\n",
       "      <td>0</td>\n",
       "      <td>1</td>\n",
       "      <td>1</td>\n",
       "      <td>0</td>\n",
       "      <td>0</td>\n",
       "      <td>0</td>\n",
       "      <td>0</td>\n",
       "      <td>0</td>\n",
       "      <td>0</td>\n",
       "      <td>0</td>\n",
       "      <td>0</td>\n",
       "      <td>0</td>\n",
       "    </tr>\n",
       "    <tr>\n",
       "      <th>42</th>\n",
       "      <td>0</td>\n",
       "      <td>0</td>\n",
       "      <td>0</td>\n",
       "      <td>0</td>\n",
       "      <td>0</td>\n",
       "      <td>0</td>\n",
       "      <td>0</td>\n",
       "      <td>0</td>\n",
       "      <td>0</td>\n",
       "      <td>0</td>\n",
       "      <td>1</td>\n",
       "      <td>1</td>\n",
       "      <td>0</td>\n",
       "    </tr>\n",
       "    <tr>\n",
       "      <th>64</th>\n",
       "      <td>0</td>\n",
       "      <td>0</td>\n",
       "      <td>0</td>\n",
       "      <td>0</td>\n",
       "      <td>1</td>\n",
       "      <td>0</td>\n",
       "      <td>0</td>\n",
       "      <td>0</td>\n",
       "      <td>1</td>\n",
       "      <td>1</td>\n",
       "      <td>1</td>\n",
       "      <td>0</td>\n",
       "      <td>0</td>\n",
       "    </tr>\n",
       "    <tr>\n",
       "      <th>68</th>\n",
       "      <td>0</td>\n",
       "      <td>1</td>\n",
       "      <td>0</td>\n",
       "      <td>1</td>\n",
       "      <td>1</td>\n",
       "      <td>0</td>\n",
       "      <td>0</td>\n",
       "      <td>1</td>\n",
       "      <td>0</td>\n",
       "      <td>1</td>\n",
       "      <td>1</td>\n",
       "      <td>0</td>\n",
       "      <td>1</td>\n",
       "    </tr>\n",
       "    <tr>\n",
       "      <th>72</th>\n",
       "      <td>0</td>\n",
       "      <td>1</td>\n",
       "      <td>0</td>\n",
       "      <td>0</td>\n",
       "      <td>1</td>\n",
       "      <td>0</td>\n",
       "      <td>0</td>\n",
       "      <td>1</td>\n",
       "      <td>1</td>\n",
       "      <td>0</td>\n",
       "      <td>0</td>\n",
       "      <td>0</td>\n",
       "      <td>1</td>\n",
       "    </tr>\n",
       "    <tr>\n",
       "      <th>77</th>\n",
       "      <td>0</td>\n",
       "      <td>0</td>\n",
       "      <td>0</td>\n",
       "      <td>1</td>\n",
       "      <td>0</td>\n",
       "      <td>0</td>\n",
       "      <td>1</td>\n",
       "      <td>1</td>\n",
       "      <td>1</td>\n",
       "      <td>0</td>\n",
       "      <td>0</td>\n",
       "      <td>1</td>\n",
       "      <td>0</td>\n",
       "    </tr>\n",
       "    <tr>\n",
       "      <th>82</th>\n",
       "      <td>0</td>\n",
       "      <td>0</td>\n",
       "      <td>1</td>\n",
       "      <td>1</td>\n",
       "      <td>0</td>\n",
       "      <td>0</td>\n",
       "      <td>1</td>\n",
       "      <td>0</td>\n",
       "      <td>0</td>\n",
       "      <td>0</td>\n",
       "      <td>1</td>\n",
       "      <td>0</td>\n",
       "      <td>0</td>\n",
       "    </tr>\n",
       "    <tr>\n",
       "      <th>86</th>\n",
       "      <td>0</td>\n",
       "      <td>1</td>\n",
       "      <td>0</td>\n",
       "      <td>0</td>\n",
       "      <td>0</td>\n",
       "      <td>0</td>\n",
       "      <td>0</td>\n",
       "      <td>0</td>\n",
       "      <td>1</td>\n",
       "      <td>1</td>\n",
       "      <td>0</td>\n",
       "      <td>0</td>\n",
       "      <td>0</td>\n",
       "    </tr>\n",
       "  </tbody>\n",
       "</table>\n",
       "</div>"
      ],
      "text/plain": [
       "    0   1   2   3   4   5   6   7   8   9   10  11  12\n",
       "0    0   1   1   1   0   1   0   0   0   0   0   0   0\n",
       "1    1   0   0   1   0   0   0   0   1   1   0   0   1\n",
       "4    1   0   0   1   0   1   0   0   0   0   0   1   0\n",
       "14   1   1   1   0   0   1   0   0   1   0   1   1   0\n",
       "35   0   0   0   0   0   0   0   1   1   1   0   0   0\n",
       "38   1   0   1   1   0   0   0   0   0   0   0   0   0\n",
       "42   0   0   0   0   0   0   0   0   0   0   1   1   0\n",
       "64   0   0   0   0   1   0   0   0   1   1   1   0   0\n",
       "68   0   1   0   1   1   0   0   1   0   1   1   0   1\n",
       "72   0   1   0   0   1   0   0   1   1   0   0   0   1\n",
       "77   0   0   0   1   0   0   1   1   1   0   0   1   0\n",
       "82   0   0   1   1   0   0   1   0   0   0   1   0   0\n",
       "86   0   1   0   0   0   0   0   0   1   1   0   0   0"
      ]
     },
     "execution_count": 34,
     "metadata": {},
     "output_type": "execute_result"
    }
   ],
   "source": [
    "#calculating the old way, where kitty-corner counts as adjacent\n",
    "adj_mat_calc(shapef_testcounties)"
   ]
  },
  {
   "cell_type": "markdown",
   "id": "0fb1d3c4",
   "metadata": {},
   "source": [
    "# NEW adj_mat_calc options!"
   ]
  },
  {
   "cell_type": "code",
   "execution_count": 35,
   "id": "57af1589",
   "metadata": {},
   "outputs": [
    {
     "data": {
      "text/plain": [
       "0      True\n",
       "1      True\n",
       "4      True\n",
       "14     True\n",
       "35    False\n",
       "38     True\n",
       "42    False\n",
       "64    False\n",
       "68    False\n",
       "72    False\n",
       "77    False\n",
       "82    False\n",
       "86    False\n",
       "dtype: bool"
      ]
     },
     "execution_count": 35,
     "metadata": {},
     "output_type": "execute_result"
    }
   ],
   "source": [
    "shapef_testcounties.intersects(shapef_testcounties.iloc[[0]].unary_union)"
   ]
  },
  {
   "cell_type": "code",
   "execution_count": 21,
   "id": "ef942965",
   "metadata": {},
   "outputs": [
    {
     "data": {
      "text/plain": [
       "0     POLYGON ((386139.673 4557123.147, 385899.972 4...\n",
       "1     MULTILINESTRING ((357317.284 4557700.050, 3578...\n",
       "4                        POINT (358067.272 4596120.802)\n",
       "14    MULTILINESTRING ((358067.272 4596120.802, 3580...\n",
       "35                                        POLYGON EMPTY\n",
       "38    MULTILINESTRING ((396378.070 4595416.727, 3963...\n",
       "42                                        POLYGON EMPTY\n",
       "64                                        POLYGON EMPTY\n",
       "68                                        POLYGON EMPTY\n",
       "72                                        POLYGON EMPTY\n",
       "77                                        POLYGON EMPTY\n",
       "82                                        POLYGON EMPTY\n",
       "86                                        POLYGON EMPTY\n",
       "dtype: geometry"
      ]
     },
     "execution_count": 21,
     "metadata": {},
     "output_type": "execute_result"
    }
   ],
   "source": [
    "# geopandas tool \"intersects\" (used above) gives boolean yes/no\n",
    "# geopandas tool \"intersection\" gives the actual intersection.\n",
    "# here, we test with Adair county (county 00):\n",
    "# the intersection with itself is a polygon\n",
    "# the intersections with 1, 14, and 38 are lines (\"multilinestring\") in geopandas-speak\n",
    "# the intersection with 4 is a point\n",
    "# all other intersections are empty\n",
    "\n",
    "shapef_testcounties.intersection(shapef_testcounties.iloc[[0]].unary_union)\n",
    "\n",
    "# putting .geom_type at the end grabs the specific geometry type:\n",
    "# shapef_testcounties.intersection(shapef_testcounties.iloc[[0]].unary_union).geom_type"
   ]
  },
  {
   "cell_type": "code",
   "execution_count": 22,
   "id": "c5d45204",
   "metadata": {},
   "outputs": [
    {
     "data": {
      "text/plain": [
       "0     153802.729052\n",
       "1      19319.245387\n",
       "4          0.000000\n",
       "14     38441.242159\n",
       "35         0.000000\n",
       "38     38346.312659\n",
       "42         0.000000\n",
       "64         0.000000\n",
       "68         0.000000\n",
       "72         0.000000\n",
       "77         0.000000\n",
       "82         0.000000\n",
       "86         0.000000\n",
       "dtype: float64"
      ]
     },
     "execution_count": 22,
     "metadata": {},
     "output_type": "execute_result"
    }
   ],
   "source": [
    "#could test length specifically, and cut off things which barely\n",
    "#       intersect by adding a threshold?\n",
    "#or! could use this as a proxy for cutting out the kittycorners!\n",
    "#\"length\" of a Point is 0, just like the empty polygons\n",
    "shapef_testcounties.intersection(shapef_testcounties.iloc[[0]].unary_union).length\n"
   ]
  },
  {
   "cell_type": "markdown",
   "id": "ddbf514a",
   "metadata": {},
   "source": [
    "## GOOD/FINAL actual working solution:\n",
    "\n",
    "use .length and np.sign"
   ]
  },
  {
   "cell_type": "code",
   "execution_count": 32,
   "id": "198ab8fc",
   "metadata": {},
   "outputs": [],
   "source": [
    "# function for arbitrary adjacency matrix\n",
    "\n",
    "def adj_mat_calc_new(temp_shapefile):\n",
    "    curr_n_districts = len(temp_shapefile)\n",
    "    adjac_mat = pd.DataFrame()\n",
    "    # adjac_mat = np.zeros([curr_n_districts,curr_n_districts])\n",
    "\n",
    "    for i in range(curr_n_districts):\n",
    "        adjac_mat[i] = temp_shapefile.intersection(temp_shapefile.iloc[[i]].unary_union).length\n",
    "    \n",
    "    #sign function turns all nonzero entries to 1\n",
    "    adjac_mat = np.sign(adjac_mat)\n",
    "\n",
    "    #eliminate diagonals, so county i is not adjacent to itself\n",
    "    adjac_mat = adjac_mat - np.identity(curr_n_districts)\n",
    "\n",
    "    # make everything an integer\n",
    "    adjac_mat = adjac_mat.astype(int)\n",
    "\n",
    "    #and/or boolean?\n",
    "    # ia_adjac_matrix_bool = ia_adjac_matrix.astype(bool)\n",
    "\n",
    "    return adjac_mat\n"
   ]
  },
  {
   "cell_type": "code",
   "execution_count": 33,
   "id": "17958e4a",
   "metadata": {},
   "outputs": [
    {
     "data": {
      "text/html": [
       "<div>\n",
       "<style scoped>\n",
       "    .dataframe tbody tr th:only-of-type {\n",
       "        vertical-align: middle;\n",
       "    }\n",
       "\n",
       "    .dataframe tbody tr th {\n",
       "        vertical-align: top;\n",
       "    }\n",
       "\n",
       "    .dataframe thead th {\n",
       "        text-align: right;\n",
       "    }\n",
       "</style>\n",
       "<table border=\"1\" class=\"dataframe\">\n",
       "  <thead>\n",
       "    <tr style=\"text-align: right;\">\n",
       "      <th></th>\n",
       "      <th>0</th>\n",
       "      <th>1</th>\n",
       "      <th>2</th>\n",
       "      <th>3</th>\n",
       "      <th>4</th>\n",
       "      <th>5</th>\n",
       "      <th>6</th>\n",
       "      <th>7</th>\n",
       "      <th>8</th>\n",
       "      <th>9</th>\n",
       "      <th>10</th>\n",
       "      <th>11</th>\n",
       "      <th>12</th>\n",
       "    </tr>\n",
       "  </thead>\n",
       "  <tbody>\n",
       "    <tr>\n",
       "      <th>0</th>\n",
       "      <td>0</td>\n",
       "      <td>1</td>\n",
       "      <td>0</td>\n",
       "      <td>1</td>\n",
       "      <td>0</td>\n",
       "      <td>1</td>\n",
       "      <td>0</td>\n",
       "      <td>0</td>\n",
       "      <td>0</td>\n",
       "      <td>0</td>\n",
       "      <td>0</td>\n",
       "      <td>0</td>\n",
       "      <td>0</td>\n",
       "    </tr>\n",
       "    <tr>\n",
       "      <th>1</th>\n",
       "      <td>1</td>\n",
       "      <td>0</td>\n",
       "      <td>0</td>\n",
       "      <td>1</td>\n",
       "      <td>0</td>\n",
       "      <td>0</td>\n",
       "      <td>0</td>\n",
       "      <td>0</td>\n",
       "      <td>1</td>\n",
       "      <td>0</td>\n",
       "      <td>0</td>\n",
       "      <td>0</td>\n",
       "      <td>1</td>\n",
       "    </tr>\n",
       "    <tr>\n",
       "      <th>4</th>\n",
       "      <td>0</td>\n",
       "      <td>0</td>\n",
       "      <td>0</td>\n",
       "      <td>1</td>\n",
       "      <td>0</td>\n",
       "      <td>1</td>\n",
       "      <td>0</td>\n",
       "      <td>0</td>\n",
       "      <td>0</td>\n",
       "      <td>0</td>\n",
       "      <td>0</td>\n",
       "      <td>1</td>\n",
       "      <td>0</td>\n",
       "    </tr>\n",
       "    <tr>\n",
       "      <th>14</th>\n",
       "      <td>1</td>\n",
       "      <td>1</td>\n",
       "      <td>1</td>\n",
       "      <td>0</td>\n",
       "      <td>0</td>\n",
       "      <td>0</td>\n",
       "      <td>0</td>\n",
       "      <td>0</td>\n",
       "      <td>1</td>\n",
       "      <td>0</td>\n",
       "      <td>1</td>\n",
       "      <td>1</td>\n",
       "      <td>0</td>\n",
       "    </tr>\n",
       "    <tr>\n",
       "      <th>35</th>\n",
       "      <td>0</td>\n",
       "      <td>0</td>\n",
       "      <td>0</td>\n",
       "      <td>0</td>\n",
       "      <td>0</td>\n",
       "      <td>0</td>\n",
       "      <td>0</td>\n",
       "      <td>1</td>\n",
       "      <td>0</td>\n",
       "      <td>1</td>\n",
       "      <td>0</td>\n",
       "      <td>0</td>\n",
       "      <td>0</td>\n",
       "    </tr>\n",
       "    <tr>\n",
       "      <th>38</th>\n",
       "      <td>1</td>\n",
       "      <td>0</td>\n",
       "      <td>1</td>\n",
       "      <td>0</td>\n",
       "      <td>0</td>\n",
       "      <td>0</td>\n",
       "      <td>0</td>\n",
       "      <td>0</td>\n",
       "      <td>0</td>\n",
       "      <td>0</td>\n",
       "      <td>0</td>\n",
       "      <td>0</td>\n",
       "      <td>0</td>\n",
       "    </tr>\n",
       "    <tr>\n",
       "      <th>42</th>\n",
       "      <td>0</td>\n",
       "      <td>0</td>\n",
       "      <td>0</td>\n",
       "      <td>0</td>\n",
       "      <td>0</td>\n",
       "      <td>0</td>\n",
       "      <td>0</td>\n",
       "      <td>0</td>\n",
       "      <td>0</td>\n",
       "      <td>0</td>\n",
       "      <td>1</td>\n",
       "      <td>1</td>\n",
       "      <td>0</td>\n",
       "    </tr>\n",
       "    <tr>\n",
       "      <th>64</th>\n",
       "      <td>0</td>\n",
       "      <td>0</td>\n",
       "      <td>0</td>\n",
       "      <td>0</td>\n",
       "      <td>1</td>\n",
       "      <td>0</td>\n",
       "      <td>0</td>\n",
       "      <td>0</td>\n",
       "      <td>1</td>\n",
       "      <td>0</td>\n",
       "      <td>1</td>\n",
       "      <td>0</td>\n",
       "      <td>0</td>\n",
       "    </tr>\n",
       "    <tr>\n",
       "      <th>68</th>\n",
       "      <td>0</td>\n",
       "      <td>1</td>\n",
       "      <td>0</td>\n",
       "      <td>1</td>\n",
       "      <td>0</td>\n",
       "      <td>0</td>\n",
       "      <td>0</td>\n",
       "      <td>1</td>\n",
       "      <td>0</td>\n",
       "      <td>1</td>\n",
       "      <td>1</td>\n",
       "      <td>0</td>\n",
       "      <td>0</td>\n",
       "    </tr>\n",
       "    <tr>\n",
       "      <th>72</th>\n",
       "      <td>0</td>\n",
       "      <td>0</td>\n",
       "      <td>0</td>\n",
       "      <td>0</td>\n",
       "      <td>1</td>\n",
       "      <td>0</td>\n",
       "      <td>0</td>\n",
       "      <td>0</td>\n",
       "      <td>1</td>\n",
       "      <td>0</td>\n",
       "      <td>0</td>\n",
       "      <td>0</td>\n",
       "      <td>1</td>\n",
       "    </tr>\n",
       "    <tr>\n",
       "      <th>77</th>\n",
       "      <td>0</td>\n",
       "      <td>0</td>\n",
       "      <td>0</td>\n",
       "      <td>1</td>\n",
       "      <td>0</td>\n",
       "      <td>0</td>\n",
       "      <td>1</td>\n",
       "      <td>1</td>\n",
       "      <td>1</td>\n",
       "      <td>0</td>\n",
       "      <td>0</td>\n",
       "      <td>1</td>\n",
       "      <td>0</td>\n",
       "    </tr>\n",
       "    <tr>\n",
       "      <th>82</th>\n",
       "      <td>0</td>\n",
       "      <td>0</td>\n",
       "      <td>1</td>\n",
       "      <td>1</td>\n",
       "      <td>0</td>\n",
       "      <td>0</td>\n",
       "      <td>1</td>\n",
       "      <td>0</td>\n",
       "      <td>0</td>\n",
       "      <td>0</td>\n",
       "      <td>1</td>\n",
       "      <td>0</td>\n",
       "      <td>0</td>\n",
       "    </tr>\n",
       "    <tr>\n",
       "      <th>86</th>\n",
       "      <td>0</td>\n",
       "      <td>1</td>\n",
       "      <td>0</td>\n",
       "      <td>0</td>\n",
       "      <td>0</td>\n",
       "      <td>0</td>\n",
       "      <td>0</td>\n",
       "      <td>0</td>\n",
       "      <td>0</td>\n",
       "      <td>1</td>\n",
       "      <td>0</td>\n",
       "      <td>0</td>\n",
       "      <td>0</td>\n",
       "    </tr>\n",
       "  </tbody>\n",
       "</table>\n",
       "</div>"
      ],
      "text/plain": [
       "    0   1   2   3   4   5   6   7   8   9   10  11  12\n",
       "0    0   1   0   1   0   1   0   0   0   0   0   0   0\n",
       "1    1   0   0   1   0   0   0   0   1   0   0   0   1\n",
       "4    0   0   0   1   0   1   0   0   0   0   0   1   0\n",
       "14   1   1   1   0   0   0   0   0   1   0   1   1   0\n",
       "35   0   0   0   0   0   0   0   1   0   1   0   0   0\n",
       "38   1   0   1   0   0   0   0   0   0   0   0   0   0\n",
       "42   0   0   0   0   0   0   0   0   0   0   1   1   0\n",
       "64   0   0   0   0   1   0   0   0   1   0   1   0   0\n",
       "68   0   1   0   1   0   0   0   1   0   1   1   0   0\n",
       "72   0   0   0   0   1   0   0   0   1   0   0   0   1\n",
       "77   0   0   0   1   0   0   1   1   1   0   0   1   0\n",
       "82   0   0   1   1   0   0   1   0   0   0   1   0   0\n",
       "86   0   1   0   0   0   0   0   0   0   1   0   0   0"
      ]
     },
     "execution_count": 33,
     "metadata": {},
     "output_type": "execute_result"
    }
   ],
   "source": [
    "adj_mat_calc_new(shapef_testcounties)"
   ]
  },
  {
   "cell_type": "markdown",
   "id": "f0d5e36a",
   "metadata": {},
   "source": [
    "## bad/temp/old idea: work with intersection raw or with geom_type by category\n",
    "\n",
    "if statement: if intersection is multiline, enter a 1 in the array, etc\n",
    "\n",
    "but it wasn't working, and also might be less good overall than working with lengths"
   ]
  },
  {
   "cell_type": "code",
   "execution_count": 23,
   "id": "8922b131",
   "metadata": {},
   "outputs": [
    {
     "data": {
      "text/plain": [
       "1    MULTILINESTRING ((357317.284 4557700.050, 3578...\n",
       "dtype: geometry"
      ]
     },
     "execution_count": 23,
     "metadata": {},
     "output_type": "execute_result"
    }
   ],
   "source": [
    "# we can pairwise check this: now, adair vs adams\n",
    "shapef_testcounties.iloc[[1]].intersection(shapef_testcounties.iloc[[0]].unary_union)"
   ]
  },
  {
   "cell_type": "code",
   "execution_count": 24,
   "id": "27aa7653",
   "metadata": {},
   "outputs": [
    {
     "data": {
      "text/plain": [
       "4    POINT (358067.272 4596120.802)\n",
       "dtype: geometry"
      ]
     },
     "execution_count": 24,
     "metadata": {},
     "output_type": "execute_result"
    }
   ],
   "source": [
    "# use actual index within set, not fake/old county number index\n",
    "shapef_testcounties.iloc[[2]].intersection(shapef_testcounties.iloc[[0]].unary_union)"
   ]
  },
  {
   "cell_type": "code",
   "execution_count": 25,
   "id": "5cb93c88",
   "metadata": {},
   "outputs": [
    {
     "data": {
      "text/plain": [
       "1    MultiLineString\n",
       "dtype: object"
      ]
     },
     "execution_count": 25,
     "metadata": {},
     "output_type": "execute_result"
    }
   ],
   "source": [
    "# geom_type gives the geometry type, but in a series, not by itself\n",
    "shapef_testcounties.iloc[[1]].intersection(shapef_testcounties.iloc[[0]].unary_union).geom_type"
   ]
  },
  {
   "cell_type": "markdown",
   "id": "e5c71f42",
   "metadata": {},
   "source": [
    "next goal to do an if statement off this geom_type, but that is tough because it is a (one element) series, not a stand-alone thing.\n",
    "\n",
    "So! Back to just doing length!"
   ]
  },
  {
   "cell_type": "code",
   "execution_count": 74,
   "id": "5e4cdd37",
   "metadata": {},
   "outputs": [],
   "source": [
    "# function for arbitrary adjacency matrix\n",
    "\n",
    "def adj_mat_calc_bad(temp_shapefile):\n",
    "    curr_n_districts = len(temp_shapefile)\n",
    "    # adjac_mat = pd.DataFrame()\n",
    "    adjac_mat = np.zeros([curr_n_districts,curr_n_districts])\n",
    "\n",
    "    for i in range(curr_n_districts):\n",
    "        for j in range(i):      #only go from j=0 to j=i-1, so skipping diagonals\n",
    "            adjac_mat[i,j]=1    #test case for diagonals and such\n",
    "            intersect_geom = temp_shapefile.iloc[[j]].intersection(temp_shapefile.iloc[[i]].unary_union)\n",
    "            if (intersect_geom.geom_type == 'MultiLineString'):\n",
    "                adjac_mat[i,j] = 1\n",
    "                adjac_mat[j,i] = 1\n",
    "    \n",
    "    # adjac_mat = adjac_mat - np.identity(curr_n_districts)\n",
    "    # adjac_mat = adjac_mat.astype(int)\n",
    "\n",
    "    #and/or boolean?\n",
    "    # ia_adjac_matrix_bool = ia_adjac_matrix.astype(bool)\n",
    "\n",
    "    return adjac_mat\n"
   ]
  },
  {
   "cell_type": "markdown",
   "id": "de8e2522",
   "metadata": {},
   "source": [
    "# other locations where adj_mat_calc is called\n",
    "\n",
    "just here to confirm output/input is still ok"
   ]
  },
  {
   "cell_type": "code",
   "execution_count": 22,
   "id": "d6693aea",
   "metadata": {},
   "outputs": [],
   "source": [
    "#-----------module to find neighboring districts with the greatest population difference---------------------\n",
    "def neighbor_popdiff_fun(df):\n",
    "    #adjacencey matrix for 4 districts\n",
    "    adj_mat_array = adj_mat_calc(df).to_numpy()   \n",
    "\n",
    "    #SIGNED population difference array\n",
    "    # row minus col\n",
    "    # positive value in row i column j means that pop(i) > pop(j)\n",
    "    # negative value in row i column j means that pop(i) < pop(j)\n",
    "    pop_diff_array = pop_diff_matrix(df)\n",
    "    # zero out any pairs that aren't adjacent\n",
    "    # for numpy arrays, \"*\" is piecewise multiplication\n",
    "    neighbor_popdiff = adj_mat_array * pop_diff_array\n",
    "\n",
    "    return neighbor_popdiff"
   ]
  },
  {
   "cell_type": "code",
   "execution_count": 25,
   "id": "ae57a1f9",
   "metadata": {},
   "outputs": [],
   "source": [
    "#helper function to check for contiguity of big district as switch_func identifies a county\n",
    "#to move from the big district to the small district\n",
    "\n",
    "#note to self: moving_index=dataframe_sorted.iloc[i]['county_id']\n",
    "def big_dist_contiguity_check_func(moving_index, big_dist_df):\n",
    "    df=big_dist_df.loc[big_dist_df['county_id']!=moving_index]\n",
    "    big_dist_laplacian=csgraph.laplacian(adj_mat_calc(df).to_numpy())\n",
    "    return  null_space(big_dist_laplacian).shape[1]\n",
    "\n",
    "def small_dist_contiguity_check_func(moving_index, border_counties, small_dist_df):\n",
    "    moving_candidate=border_counties.loc[border_counties['county_id']==moving_index]\n",
    "    df=small_dist_df.append(moving_candidate)\n",
    "    small_dist_laplacian=csgraph.laplacian(adj_mat_calc(df).to_numpy())\n",
    "    return null_space(small_dist_laplacian).shape[1]"
   ]
  }
 ],
 "metadata": {
  "kernelspec": {
   "display_name": "myenv",
   "language": "python",
   "name": "python3"
  },
  "language_info": {
   "codemirror_mode": {
    "name": "ipython",
    "version": 3
   },
   "file_extension": ".py",
   "mimetype": "text/x-python",
   "name": "python",
   "nbconvert_exporter": "python",
   "pygments_lexer": "ipython3",
   "version": "3.9.13"
  },
  "vscode": {
   "interpreter": {
    "hash": "857970f990130bbcaee778cf1846f7875676d945310dca1379fe4b5ef3d258a5"
   }
  }
 },
 "nbformat": 4,
 "nbformat_minor": 5
}
