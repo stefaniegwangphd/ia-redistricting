{
 "cells": [
  {
   "cell_type": "code",
   "execution_count": null,
   "metadata": {
    "vscode": {
     "languageId": "plaintext"
    }
   },
   "outputs": [],
   "source": [
    "import pandas as pd \n"
   ]
  },
  {
   "cell_type": "markdown",
   "metadata": {},
   "source": [
    "to do:\n",
    "\n",
    "    - create dataframe with previous and current district maps with 4 districts\n",
    "    - create gpd dataframes with shapef_ia_redist equivalent for above maps\n",
    "    - compute compactness scores for above maps\n",
    "    - export all scores to a csv in order to compare to simulated maps' compactness scores\n"
   ]
  },
  {
   "cell_type": "markdown",
   "metadata": {},
   "source": []
  }
 ],
 "metadata": {
  "language_info": {
   "name": "python"
  }
 },
 "nbformat": 4,
 "nbformat_minor": 2
}
