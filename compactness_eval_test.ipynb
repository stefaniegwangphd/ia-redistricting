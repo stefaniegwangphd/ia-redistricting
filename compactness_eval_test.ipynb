{
 "cells": [
  {
   "cell_type": "markdown",
   "metadata": {},
   "source": [
    "for future: get compactness scores for current map"
   ]
  },
  {
   "cell_type": "code",
   "execution_count": 1,
   "metadata": {},
   "outputs": [],
   "source": [
    "import numpy as np\n",
    "import pandas as pd\n",
    "import geopandas as gpd\n",
    "\n",
    "import os\n",
    "import glob"
   ]
  },
  {
   "cell_type": "code",
   "execution_count": 2,
   "metadata": {},
   "outputs": [
    {
     "name": "stdout",
     "output_type": "stream",
     "text": [
      "seed2_realloc_df.csv\n",
      "2022_turnout_voterstats.csv\n",
      "census.csv\n",
      "voter_numbers.csv\n"
     ]
    }
   ],
   "source": [
    "for files in glob.glob(\"*.csv\"):\n",
    "    print(files) "
   ]
  },
  {
   "cell_type": "code",
   "execution_count": 3,
   "metadata": {},
   "outputs": [
    {
     "data": {
      "text/plain": [
       "['./allocation_by_district/seed_000_by_district.csv',\n",
       " './allocation_by_district/seed_004_by_district.csv',\n",
       " './allocation_by_district/seed_002_by_district.csv',\n",
       " './allocation_by_district/seed_003_by_district.csv',\n",
       " './allocation_by_district/seed_001_by_district.csv']"
      ]
     },
     "execution_count": 3,
     "metadata": {},
     "output_type": "execute_result"
    }
   ],
   "source": [
    "glob.glob('./allocation_by_district/*.csv')"
   ]
  },
  {
   "cell_type": "code",
   "execution_count": 4,
   "metadata": {},
   "outputs": [],
   "source": [
    "# path is a string for the path of the folder we want to check\n",
    "# path = os.getcwd() + '/allocation_by_county'\n",
    "path = os.getcwd() + '/allocation_by_district'\n",
    "\n",
    "#list of all filenames in the path which end in .csv\n",
    "csv_files = glob.glob(os.path.join(path, \"*.csv\")) \n",
    "num_files = len(csv_files) #count of all files\n",
    "\n",
    "# file_name = './allocation_by_county/seed_{}_by_county.csv'\n",
    "file_name = './allocation_by_district/seed_{}_by_district.csv'\n",
    "df_list = []\n",
    "for i in range(num_files):\n",
    "   iter_number=str(i).rjust(3,'0')\n",
    "   df_list.append(pd.read_csv(file_name.format(iter_number)))\n"
   ]
  },
  {
   "cell_type": "code",
   "execution_count": 5,
   "metadata": {},
   "outputs": [],
   "source": [
    "full_nestedlist=[]\n",
    "for j in range(num_files):\n",
    "    temp_df = df_list[j]\n",
    "    list_for_j=[j, temp_df.loc[0,'Reock'],temp_df.loc[1,'Reock'],temp_df.loc[2,'Reock'],temp_df.loc[3,'Reock'],\n",
    "                temp_df['Reock'].min(),temp_df['Reock'].max(),temp_df['Reock'].mean(),\n",
    "    temp_df.loc[0,'PolsbyPopper'],temp_df.loc[1,'PolsbyPopper'],\n",
    "    temp_df.loc[2,'PolsbyPopper'],temp_df.loc[3,'PolsbyPopper'],\n",
    "                temp_df['PolsbyPopper'].min(),temp_df['PolsbyPopper'].max(),temp_df['PolsbyPopper'].mean(),\n",
    "    temp_df['population'].min(),temp_df['population'].max()\n",
    "    ]\n",
    "    full_nestedlist.append(list_for_j)\n",
    "\n",
    "# full_nestedlist\n"
   ]
  },
  {
   "cell_type": "code",
   "execution_count": 6,
   "metadata": {},
   "outputs": [],
   "source": [
    "column_dict=[\n",
    "    'seed',\n",
    "    'Reock_d1',\n",
    "    'Reock_d2',\n",
    "    'Reock_d3',\n",
    "    'Reock_d4',\n",
    "    'Reock_min',\n",
    "    'Reock_max',\n",
    "    'Reock_mean',\n",
    "    'PP_d1',\n",
    "    'PP_d2',\n",
    "    'PP_d3',\n",
    "    'PP_d4',\n",
    "    'PP_min',\n",
    "    'PP_max',\n",
    "    'PP_mean',\n",
    "    'min_pop',\n",
    "    'max_pop']"
   ]
  },
  {
   "cell_type": "code",
   "execution_count": 7,
   "metadata": {},
   "outputs": [],
   "source": [
    "compactness_data_df = pd.DataFrame(full_nestedlist,columns=column_dict)"
   ]
  },
  {
   "cell_type": "code",
   "execution_count": 8,
   "metadata": {},
   "outputs": [],
   "source": [
    "column_dict_analysis=[\n",
    "    'seed',\n",
    "    'Reock_min',\n",
    "    'Reock_max',\n",
    "    'Reock_mean',\n",
    "    'PP_min',\n",
    "    'PP_max',\n",
    "    'PP_mean',\n",
    "    'min_pop',\n",
    "    'max_pop']"
   ]
  },
  {
   "cell_type": "code",
   "execution_count": 9,
   "metadata": {},
   "outputs": [
    {
     "data": {
      "text/html": [
       "<div>\n",
       "<style scoped>\n",
       "    .dataframe tbody tr th:only-of-type {\n",
       "        vertical-align: middle;\n",
       "    }\n",
       "\n",
       "    .dataframe tbody tr th {\n",
       "        vertical-align: top;\n",
       "    }\n",
       "\n",
       "    .dataframe thead th {\n",
       "        text-align: right;\n",
       "    }\n",
       "</style>\n",
       "<table border=\"1\" class=\"dataframe\">\n",
       "  <thead>\n",
       "    <tr style=\"text-align: right;\">\n",
       "      <th></th>\n",
       "      <th>seed</th>\n",
       "      <th>Reock_min</th>\n",
       "      <th>Reock_max</th>\n",
       "      <th>Reock_mean</th>\n",
       "      <th>PP_min</th>\n",
       "      <th>PP_max</th>\n",
       "      <th>PP_mean</th>\n",
       "      <th>min_pop</th>\n",
       "      <th>max_pop</th>\n",
       "    </tr>\n",
       "  </thead>\n",
       "  <tbody>\n",
       "    <tr>\n",
       "      <th>0</th>\n",
       "      <td>0</td>\n",
       "      <td>0.308020</td>\n",
       "      <td>0.441293</td>\n",
       "      <td>0.381348</td>\n",
       "      <td>0.237099</td>\n",
       "      <td>0.403934</td>\n",
       "      <td>0.312950</td>\n",
       "      <td>791126</td>\n",
       "      <td>804596</td>\n",
       "    </tr>\n",
       "    <tr>\n",
       "      <th>1</th>\n",
       "      <td>1</td>\n",
       "      <td>0.383170</td>\n",
       "      <td>0.535205</td>\n",
       "      <td>0.469475</td>\n",
       "      <td>0.286042</td>\n",
       "      <td>0.498848</td>\n",
       "      <td>0.390578</td>\n",
       "      <td>791513</td>\n",
       "      <td>801282</td>\n",
       "    </tr>\n",
       "    <tr>\n",
       "      <th>2</th>\n",
       "      <td>2</td>\n",
       "      <td>0.443108</td>\n",
       "      <td>0.562262</td>\n",
       "      <td>0.493758</td>\n",
       "      <td>0.325877</td>\n",
       "      <td>0.473300</td>\n",
       "      <td>0.395423</td>\n",
       "      <td>790110</td>\n",
       "      <td>801769</td>\n",
       "    </tr>\n",
       "    <tr>\n",
       "      <th>3</th>\n",
       "      <td>3</td>\n",
       "      <td>0.491677</td>\n",
       "      <td>0.529227</td>\n",
       "      <td>0.512313</td>\n",
       "      <td>0.337342</td>\n",
       "      <td>0.563132</td>\n",
       "      <td>0.411731</td>\n",
       "      <td>790544</td>\n",
       "      <td>802949</td>\n",
       "    </tr>\n",
       "    <tr>\n",
       "      <th>4</th>\n",
       "      <td>4</td>\n",
       "      <td>0.342567</td>\n",
       "      <td>0.431556</td>\n",
       "      <td>0.388122</td>\n",
       "      <td>0.288226</td>\n",
       "      <td>0.409789</td>\n",
       "      <td>0.358882</td>\n",
       "      <td>795671</td>\n",
       "      <td>800138</td>\n",
       "    </tr>\n",
       "  </tbody>\n",
       "</table>\n",
       "</div>"
      ],
      "text/plain": [
       "   seed  Reock_min  Reock_max  Reock_mean    PP_min    PP_max   PP_mean  \\\n",
       "0     0   0.308020   0.441293    0.381348  0.237099  0.403934  0.312950   \n",
       "1     1   0.383170   0.535205    0.469475  0.286042  0.498848  0.390578   \n",
       "2     2   0.443108   0.562262    0.493758  0.325877  0.473300  0.395423   \n",
       "3     3   0.491677   0.529227    0.512313  0.337342  0.563132  0.411731   \n",
       "4     4   0.342567   0.431556    0.388122  0.288226  0.409789  0.358882   \n",
       "\n",
       "   min_pop  max_pop  \n",
       "0   791126   804596  \n",
       "1   791513   801282  \n",
       "2   790110   801769  \n",
       "3   790544   802949  \n",
       "4   795671   800138  "
      ]
     },
     "execution_count": 9,
     "metadata": {},
     "output_type": "execute_result"
    }
   ],
   "source": [
    "compactness_analysis_df = compactness_data_df[column_dict_analysis]\n",
    "compactness_analysis_df"
   ]
  }
 ],
 "metadata": {
  "kernelspec": {
   "display_name": "myenv",
   "language": "python",
   "name": "python3"
  },
  "language_info": {
   "codemirror_mode": {
    "name": "ipython",
    "version": 3
   },
   "file_extension": ".py",
   "mimetype": "text/x-python",
   "name": "python",
   "nbconvert_exporter": "python",
   "pygments_lexer": "ipython3",
   "version": "3.9.13"
  }
 },
 "nbformat": 4,
 "nbformat_minor": 2
}
