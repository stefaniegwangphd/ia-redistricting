{
 "cells": [
  {
   "cell_type": "code",
   "execution_count": 1,
   "metadata": {},
   "outputs": [],
   "source": [
    "import numpy as np\n",
    "import pandas as pd\n",
    "import geopandas as gpd\n",
    "import matplotlib.pyplot as plt\n",
    "import os\n",
    "import glob"
   ]
  },
  {
   "cell_type": "code",
   "execution_count": 2,
   "metadata": {},
   "outputs": [],
   "source": [
    "votes_df=pd.read_csv('voter_numbers.csv')\n",
    "votes_df['indep_votes'] = votes_df['indep_votes'].replace(np.nan, 0).astype(int)"
   ]
  },
  {
   "cell_type": "code",
   "execution_count": 3,
   "metadata": {},
   "outputs": [],
   "source": [
    "def winner_tabulation(votes_df, realloc_df):\n",
    "    votes_df['simulation_district']=realloc_df['DISTRICT']\n",
    "    winners_df=pd.DataFrame(columns=['district', 'dem_votes', 'rep_votes','indep_votes', 'party_winner'])\n",
    "    for i in range(1,5):\n",
    "        winners_df.loc[i]=[i,\n",
    "                      votes_df.loc[votes_df['simulation_district']==i]['dem_votes'].sum(),\n",
    "                      votes_df.loc[votes_df['simulation_district']==i]['rep_votes'].sum(),\n",
    "                    votes_df.loc[votes_df['simulation_district']==i]['indep_votes'].sum(),\n",
    "                      '']\n",
    "    for i in range(1,5):\n",
    "        if votes_df.loc[votes_df['simulation_district']==i]['dem_votes'].sum()>votes_df.loc[votes_df['simulation_district']==i]['rep_votes'].sum():\n",
    "            winners_df.loc[winners_df['district']==i,'party_winner']='D'\n",
    "        else:\n",
    "            winners_df.loc[winners_df['district']==i,'party_winner']='R'\n",
    "    return winners_df"
   ]
  },
  {
   "cell_type": "code",
   "execution_count": 8,
   "metadata": {},
   "outputs": [
    {
     "name": "stdout",
     "output_type": "stream",
     "text": [
      "Map  000 has  1 D seats and  3 R seats\n",
      "Map  001 has  1 D seats and  3 R seats\n",
      "Map  002 has  1 D seats and  3 R seats\n",
      "Map  003 has  0 D seats and  4 R seats\n",
      "Map  004 has  1 D seats and  3 R seats\n"
     ]
    }
   ],
   "source": [
    "file_name = './allocation_by_county/seed_{}_by_county.csv'\n",
    "winners_list=[]\n",
    "for i in range(5):\n",
    "    iter_number=str(i).rjust(3,'0')\n",
    "    realloc_df=pd.read_csv(file_name.format(iter_number))\n",
    "    votes_df['simulation_district']=realloc_df['DISTRICT']\n",
    "    winners=winner_tabulation(votes_df, realloc_df)\n",
    "    dems=winners.loc[winners['party_winner']=='D'].shape[0]\n",
    "    reps=winners.loc[winners['party_winner']=='R'].shape[0]\n",
    "    winners_list.append([iter_number, dems, reps])\n",
    "    # print(winners)\n",
    "    # print('Map ', iter_number,'has ',dems, 'D seats and ', reps, 'R seats')"
   ]
  },
  {
   "cell_type": "code",
   "execution_count": 7,
   "metadata": {},
   "outputs": [
    {
     "data": {
      "text/html": [
       "<div>\n",
       "<style scoped>\n",
       "    .dataframe tbody tr th:only-of-type {\n",
       "        vertical-align: middle;\n",
       "    }\n",
       "\n",
       "    .dataframe tbody tr th {\n",
       "        vertical-align: top;\n",
       "    }\n",
       "\n",
       "    .dataframe thead th {\n",
       "        text-align: right;\n",
       "    }\n",
       "</style>\n",
       "<table border=\"1\" class=\"dataframe\">\n",
       "  <thead>\n",
       "    <tr style=\"text-align: right;\">\n",
       "      <th></th>\n",
       "      <th>iteration</th>\n",
       "      <th>dem_seats</th>\n",
       "      <th>rep_seats</th>\n",
       "    </tr>\n",
       "  </thead>\n",
       "  <tbody>\n",
       "    <tr>\n",
       "      <th>0</th>\n",
       "      <td>000</td>\n",
       "      <td>1</td>\n",
       "      <td>3</td>\n",
       "    </tr>\n",
       "    <tr>\n",
       "      <th>1</th>\n",
       "      <td>001</td>\n",
       "      <td>1</td>\n",
       "      <td>3</td>\n",
       "    </tr>\n",
       "    <tr>\n",
       "      <th>2</th>\n",
       "      <td>002</td>\n",
       "      <td>1</td>\n",
       "      <td>3</td>\n",
       "    </tr>\n",
       "    <tr>\n",
       "      <th>3</th>\n",
       "      <td>003</td>\n",
       "      <td>0</td>\n",
       "      <td>4</td>\n",
       "    </tr>\n",
       "    <tr>\n",
       "      <th>4</th>\n",
       "      <td>004</td>\n",
       "      <td>1</td>\n",
       "      <td>3</td>\n",
       "    </tr>\n",
       "  </tbody>\n",
       "</table>\n",
       "</div>"
      ],
      "text/plain": [
       "  iteration  dem_seats  rep_seats\n",
       "0       000          1          3\n",
       "1       001          1          3\n",
       "2       002          1          3\n",
       "3       003          0          4\n",
       "4       004          1          3"
      ]
     },
     "execution_count": 7,
     "metadata": {},
     "output_type": "execute_result"
    }
   ],
   "source": [
    "winners_df=pd.DataFrame(winners_list,columns=['iteration', 'dem_seats', 'rep_seats'])\n",
    "winners_df"
   ]
  }
 ],
 "metadata": {
  "kernelspec": {
   "display_name": "myenv",
   "language": "python",
   "name": "python3"
  },
  "language_info": {
   "codemirror_mode": {
    "name": "ipython",
    "version": 3
   },
   "file_extension": ".py",
   "mimetype": "text/x-python",
   "name": "python",
   "nbconvert_exporter": "python",
   "pygments_lexer": "ipython3",
   "version": "3.10.4"
  }
 },
 "nbformat": 4,
 "nbformat_minor": 2
}
