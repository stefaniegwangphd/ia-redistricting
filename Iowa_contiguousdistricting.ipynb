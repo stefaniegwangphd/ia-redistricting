{
 "cells": [
  {
   "attachments": {},
   "cell_type": "markdown",
   "id": "794a648a",
   "metadata": {},
   "source": [
    "forked from main iowa_redistricting on march 28\n",
    "\n",
    "manually implementing algorithm described in Chen and Rodden (2013)"
   ]
  },
  {
   "cell_type": "markdown",
   "id": "e7cd18f8",
   "metadata": {},
   "source": [
    "Shapefile dataframes used in this notebook\n",
    "\n",
    "shapefile_iowa: MGGG stuff merged with census stuff\n",
    "\n",
    "shapef_ia_proj: projected to UTM so we can run distance calculations on it\n",
    "\n",
    "shapef_ia_fordistricting: 99 rows for each county, ready for initial allocation; made from deep copy of shapef_ia_proj\n",
    "\n",
    "shapef_counties_for_realloc: made from a deep copy from shapef_ia_fordistricting; this has a num_switches column and a district column populated with the district assignment from the initial allocation\n",
    "\n",
    "shapef_ia_initialdistricting: came from _fordistricting, went through the districting (step 1/2) process, and is now 4 rows\n",
    "\tas of Sept 18, not modified further for step 3/district balancing\n",
    "\n",
    "shapef_ia_redist: this is a deep copy of shapef_ia_initialdistricting with a few dropped columns. This df is used for making new districts"
   ]
  },
  {
   "cell_type": "code",
   "execution_count": 1,
   "id": "77f457be",
   "metadata": {},
   "outputs": [],
   "source": [
    "import numpy as np\n",
    "import pandas as pd\n",
    "import geopandas as gpd\n",
    "import seaborn as sns\n",
    "from PIL import Image, ImageOps\n",
    "import glob\n",
    "from plotnine import (ggplot, aes, geom_map, geom_text, geom_label, \n",
    "                      ggtitle, element_blank, element_rect, \n",
    "                      scale_fill_manual, theme_minimal, theme) \n",
    "from pulp import (LpProblem, LpMinimize, LpVariable, lpSum, \n",
    "                  PULP_CBC_CMD, GLPK_CMD, LpStatus, value) \n",
    "\n",
    "\n",
    "import math         ##for math.sqrt\n",
    "import random       #for random selection of district to start with"
   ]
  },
  {
   "attachments": {},
   "cell_type": "markdown",
   "id": "1f03496d",
   "metadata": {},
   "source": [
    "# Prepping the census and geopandas dataframes"
   ]
  },
  {
   "attachments": {},
   "cell_type": "markdown",
   "id": "ed8fb8bd",
   "metadata": {},
   "source": [
    "## Importing data"
   ]
  },
  {
   "cell_type": "code",
   "execution_count": 2,
   "id": "21899131",
   "metadata": {},
   "outputs": [
    {
     "data": {
      "text/html": [
       "<div>\n",
       "<style scoped>\n",
       "    .dataframe tbody tr th:only-of-type {\n",
       "        vertical-align: middle;\n",
       "    }\n",
       "\n",
       "    .dataframe tbody tr th {\n",
       "        vertical-align: top;\n",
       "    }\n",
       "\n",
       "    .dataframe thead th {\n",
       "        text-align: right;\n",
       "    }\n",
       "</style>\n",
       "<table border=\"1\" class=\"dataframe\">\n",
       "  <thead>\n",
       "    <tr style=\"text-align: right;\">\n",
       "      <th></th>\n",
       "      <th>county_id</th>\n",
       "      <th>county</th>\n",
       "      <th>population</th>\n",
       "      <th>COUNTYFP10</th>\n",
       "      <th>latitude</th>\n",
       "      <th>longitude</th>\n",
       "    </tr>\n",
       "  </thead>\n",
       "  <tbody>\n",
       "    <tr>\n",
       "      <th>0</th>\n",
       "      <td>0</td>\n",
       "      <td>Adair</td>\n",
       "      <td>7496</td>\n",
       "      <td>001</td>\n",
       "      <td>41.328528</td>\n",
       "      <td>-94.478164</td>\n",
       "    </tr>\n",
       "    <tr>\n",
       "      <th>1</th>\n",
       "      <td>1</td>\n",
       "      <td>Adams</td>\n",
       "      <td>3704</td>\n",
       "      <td>003</td>\n",
       "      <td>41.021656</td>\n",
       "      <td>-94.696906</td>\n",
       "    </tr>\n",
       "    <tr>\n",
       "      <th>2</th>\n",
       "      <td>2</td>\n",
       "      <td>Allamakee</td>\n",
       "      <td>14061</td>\n",
       "      <td>005</td>\n",
       "      <td>43.274964</td>\n",
       "      <td>-91.382751</td>\n",
       "    </tr>\n",
       "    <tr>\n",
       "      <th>3</th>\n",
       "      <td>3</td>\n",
       "      <td>Appanoose</td>\n",
       "      <td>12317</td>\n",
       "      <td>007</td>\n",
       "      <td>40.744683</td>\n",
       "      <td>-92.870345</td>\n",
       "    </tr>\n",
       "    <tr>\n",
       "      <th>4</th>\n",
       "      <td>4</td>\n",
       "      <td>Audubon</td>\n",
       "      <td>5674</td>\n",
       "      <td>009</td>\n",
       "      <td>41.679178</td>\n",
       "      <td>-94.904312</td>\n",
       "    </tr>\n",
       "  </tbody>\n",
       "</table>\n",
       "</div>"
      ],
      "text/plain": [
       "   county_id      county  population COUNTYFP10   latitude  longitude\n",
       "0          0      Adair         7496        001  41.328528 -94.478164\n",
       "1          1      Adams         3704        003  41.021656 -94.696906\n",
       "2          2  Allamakee        14061        005  43.274964 -91.382751\n",
       "3          3  Appanoose        12317        007  40.744683 -92.870345\n",
       "4          4    Audubon         5674        009  41.679178 -94.904312"
      ]
     },
     "execution_count": 2,
     "metadata": {},
     "output_type": "execute_result"
    }
   ],
   "source": [
    "#census.csv is data from Secretary of State's office.\n",
    "census_df=pd.read_csv('census.csv')\n",
    "census_df['COUNTYFP10']=census_df['COUNTYFP10'].astype(str).str.pad(3,fillchar='0')\n",
    "census_df.head()"
   ]
  },
  {
   "cell_type": "code",
   "execution_count": 3,
   "id": "3715462b",
   "metadata": {},
   "outputs": [
    {
     "name": "stdout",
     "output_type": "stream",
     "text": [
      "<class 'geopandas.geodataframe.GeoDataFrame'>\n",
      "RangeIndex: 99 entries, 0 to 98\n",
      "Data columns (total 57 columns):\n",
      " #   Column      Non-Null Count  Dtype   \n",
      "---  ------      --------------  -----   \n",
      " 0   STATEFP10   99 non-null     object  \n",
      " 1   COUNTYFP10  99 non-null     object  \n",
      " 2   GEOID10     99 non-null     int64   \n",
      " 3   NAME10      99 non-null     object  \n",
      " 4   NAMELSAD10  99 non-null     object  \n",
      " 5   ALAND10     99 non-null     int64   \n",
      " 6   AWATER10    99 non-null     int64   \n",
      " 7   INTPTLAT10  99 non-null     object  \n",
      " 8   INTPTLON10  99 non-null     object  \n",
      " 9   TOTPOP      99 non-null     int64   \n",
      " 10  NH_WHITE    99 non-null     int64   \n",
      " 11  NH_BLACK    99 non-null     int64   \n",
      " 12  NH_AMIN     99 non-null     int64   \n",
      " 13  NH_ASIAN    99 non-null     int64   \n",
      " 14  NH_NHPI     99 non-null     int64   \n",
      " 15  NH_OTHER    99 non-null     int64   \n",
      " 16  NH_2MORE    99 non-null     int64   \n",
      " 17  HISP        99 non-null     int64   \n",
      " 18  H_WHITE     99 non-null     int64   \n",
      " 19  H_BLACK     99 non-null     int64   \n",
      " 20  H_AMIN      99 non-null     int64   \n",
      " 21  H_ASIAN     99 non-null     int64   \n",
      " 22  N_NHPI      99 non-null     int64   \n",
      " 23  H_OTHER     99 non-null     int64   \n",
      " 24  H_2MORE     99 non-null     int64   \n",
      " 25  VAP         99 non-null     int64   \n",
      " 26  HVAP        99 non-null     int64   \n",
      " 27  WVAP        99 non-null     int64   \n",
      " 28  BVAP        99 non-null     int64   \n",
      " 29  AMINVAP     99 non-null     int64   \n",
      " 30  ASIANVAP    99 non-null     int64   \n",
      " 31  NHPIVAP     99 non-null     int64   \n",
      " 32  OTHERVAP    99 non-null     int64   \n",
      " 33  2MOREVAP    99 non-null     int64   \n",
      " 34  TOTVOT00    99 non-null     int64   \n",
      " 35  PRES00D     99 non-null     int64   \n",
      " 36  PRES00R     99 non-null     int64   \n",
      " 37  PRES00G     99 non-null     int64   \n",
      " 38  PRES00OTH   99 non-null     int64   \n",
      " 39  TOTVOT04    99 non-null     int64   \n",
      " 40  PRES04D     99 non-null     int64   \n",
      " 41  PRES04R     99 non-null     int64   \n",
      " 42  PRES04OTH   99 non-null     int64   \n",
      " 43  TOTVOT08    99 non-null     int64   \n",
      " 44  PRES08D     99 non-null     int64   \n",
      " 45  PRES08R     99 non-null     int64   \n",
      " 46  PRES08OTH   99 non-null     int64   \n",
      " 47  TOTVOT12    99 non-null     int64   \n",
      " 48  PRES12D     99 non-null     int64   \n",
      " 49  PRES12R     99 non-null     int64   \n",
      " 50  PRES12OTH   99 non-null     int64   \n",
      " 51  TOTVOT16    99 non-null     int64   \n",
      " 52  PRES16D     99 non-null     int64   \n",
      " 53  PRES16R     99 non-null     int64   \n",
      " 54  PRES16OTH   99 non-null     int64   \n",
      " 55  CD          99 non-null     object  \n",
      " 56  geometry    99 non-null     geometry\n",
      "dtypes: geometry(1), int64(49), object(7)\n",
      "memory usage: 44.2+ KB\n"
     ]
    }
   ],
   "source": [
    "#imports county shapefiles from MGGG\n",
    "shapefile_iowa = gpd.read_file('IA_counties/IA_counties.shp').sort_values('NAME10',ignore_index=True)\n",
    "shapefile_iowa.info()"
   ]
  },
  {
   "cell_type": "code",
   "execution_count": 4,
   "id": "b133ccb9",
   "metadata": {},
   "outputs": [],
   "source": [
    "## Merging ONLY 2020 population numbers and county_id from census df into shapefile_iowa\n",
    "shapefile_iowa = shapefile_iowa.merge(census_df[['COUNTYFP10','population','county_id']], on='COUNTYFP10').copy()"
   ]
  },
  {
   "cell_type": "code",
   "execution_count": 5,
   "id": "5e593671",
   "metadata": {},
   "outputs": [],
   "source": [
    "county_populations = np.array(census_df['population'])\n",
    "state_population = sum(county_populations)\n",
    "n_counties = 99\n",
    "n_districts = 4"
   ]
  },
  {
   "attachments": {},
   "cell_type": "markdown",
   "id": "3200c4d6",
   "metadata": {},
   "source": [
    "## Projecting shapefile to UTM 15N"
   ]
  },
  {
   "cell_type": "code",
   "execution_count": 6,
   "id": "b421efa3",
   "metadata": {},
   "outputs": [
    {
     "data": {
      "text/plain": [
       "<Geographic 2D CRS: EPSG:4269>\n",
       "Name: NAD83\n",
       "Axis Info [ellipsoidal]:\n",
       "- Lat[north]: Geodetic latitude (degree)\n",
       "- Lon[east]: Geodetic longitude (degree)\n",
       "Area of Use:\n",
       "- name: North America - onshore and offshore: Canada - Alberta; British Columbia; Manitoba; New Brunswick; Newfoundland and Labrador; Northwest Territories; Nova Scotia; Nunavut; Ontario; Prince Edward Island; Quebec; Saskatchewan; Yukon. Puerto Rico. United States (USA) - Alabama; Alaska; Arizona; Arkansas; California; Colorado; Connecticut; Delaware; Florida; Georgia; Hawaii; Idaho; Illinois; Indiana; Iowa; Kansas; Kentucky; Louisiana; Maine; Maryland; Massachusetts; Michigan; Minnesota; Mississippi; Missouri; Montana; Nebraska; Nevada; New Hampshire; New Jersey; New Mexico; New York; North Carolina; North Dakota; Ohio; Oklahoma; Oregon; Pennsylvania; Rhode Island; South Carolina; South Dakota; Tennessee; Texas; Utah; Vermont; Virginia; Washington; West Virginia; Wisconsin; Wyoming. US Virgin Islands. British Virgin Islands.\n",
       "- bounds: (167.65, 14.92, -47.74, 86.46)\n",
       "Datum: North American Datum 1983\n",
       "- Ellipsoid: GRS 1980\n",
       "- Prime Meridian: Greenwich"
      ]
     },
     "execution_count": 6,
     "metadata": {},
     "output_type": "execute_result"
    }
   ],
   "source": [
    "#First, show the current coordinate reference system\n",
    "shapefile_iowa.crs"
   ]
  },
  {
   "cell_type": "code",
   "execution_count": 7,
   "id": "6dc5ae2b",
   "metadata": {},
   "outputs": [
    {
     "data": {
      "text/plain": [
       "<Derived Projected CRS: EPSG:26915>\n",
       "Name: NAD83 / UTM zone 15N\n",
       "Axis Info [cartesian]:\n",
       "- E[east]: Easting (metre)\n",
       "- N[north]: Northing (metre)\n",
       "Area of Use:\n",
       "- name: North America - between 96°W and 90°W - onshore and offshore. Canada - Manitoba; Nunavut; Ontario. United States (USA) - Arkansas; Illinois; Iowa; Kansas; Louisiana; Michigan; Minnesota; Mississippi; Missouri; Nebraska; Oklahoma; Tennessee; Texas; Wisconsin.\n",
       "- bounds: (-96.0, 25.61, -90.0, 84.0)\n",
       "Coordinate Operation:\n",
       "- name: UTM zone 15N\n",
       "- method: Transverse Mercator\n",
       "Datum: North American Datum 1983\n",
       "- Ellipsoid: GRS 1980\n",
       "- Prime Meridian: Greenwich"
      ]
     },
     "execution_count": 7,
     "metadata": {},
     "output_type": "execute_result"
    }
   ],
   "source": [
    "#Then project the shapefiles to UTM 15N\n",
    "shapef_ia_proj = shapefile_iowa.to_crs(epsg=26915)\n",
    "\n",
    "shapef_ia_proj.crs"
   ]
  },
  {
   "cell_type": "code",
   "execution_count": 8,
   "id": "4fdd554b",
   "metadata": {},
   "outputs": [
    {
     "data": {
      "text/plain": [
       "0.0"
      ]
     },
     "execution_count": 8,
     "metadata": {},
     "output_type": "execute_result"
    }
   ],
   "source": [
    "#checking out geopandas automatic distance calculation\n",
    "shapef_ia_proj['geometry'].iloc[0].distance(shapef_ia_proj['geometry'].iloc[1])\n",
    "# adair-to-adams distance is 0, so shortest distance, not centroid-to-centroid"
   ]
  },
  {
   "attachments": {},
   "cell_type": "markdown",
   "id": "be2a11d2",
   "metadata": {},
   "source": [
    "## Merging pd and gpd dataframes and creating population heat map"
   ]
  },
  {
   "cell_type": "code",
   "execution_count": 9,
   "id": "bf1c9f02",
   "metadata": {},
   "outputs": [],
   "source": [
    "## Merging ONLY lat/long + county id from census df into shapefile_iowa (since population and county_id are already there)\n",
    "map_population_by_county_data = shapefile_iowa.merge(census_df[['COUNTYFP10','latitude','longitude']], on='COUNTYFP10').copy()"
   ]
  },
  {
   "cell_type": "code",
   "execution_count": 10,
   "id": "ef50d41d",
   "metadata": {},
   "outputs": [
    {
     "data": {
      "image/png": "[encoded data removed]",
      "text/plain": [
       "<Figure size 432x288 with 1 Axes>"
      ]
     },
     "metadata": {},
     "output_type": "display_data"
    },
    {
     "data": {
      "text/plain": [
       "<ggplot: (378557843)>"
      ]
     },
     "execution_count": 10,
     "metadata": {},
     "output_type": "execute_result"
    }
   ],
   "source": [
    "map_population_by_county = (\n",
    "    ggplot(map_population_by_county_data)\n",
    "    + geom_map(aes(fill='population'))\n",
    "    + geom_label(aes(x='longitude', y='latitude', \n",
    "                     label='NAME10',size=2), \n",
    "                 show_legend=False)\n",
    "    + theme_minimal()\n",
    "    + theme(axis_text_x=element_blank(),\n",
    "            axis_text_y=element_blank(),\n",
    "            axis_title_x=element_blank(),\n",
    "            axis_title_y=element_blank(),\n",
    "            axis_ticks=element_blank(),\n",
    "            panel_grid_major=element_blank(),\n",
    "            panel_grid_minor=element_blank()\n",
    "           )\n",
    "    )\n",
    "map_population_by_county"
   ]
  },
  {
   "attachments": {},
   "cell_type": "markdown",
   "id": "a16b8fea",
   "metadata": {},
   "source": [
    "# Creating distance matrix for Iowa counties"
   ]
  },
  {
   "cell_type": "code",
   "execution_count": 11,
   "id": "044c72dd",
   "metadata": {},
   "outputs": [],
   "source": [
    "# adding/fixing columns with (projected) centroid locations \n",
    "shapef_ia_proj['xcentr_lon'] = shapef_ia_proj.centroid.x\n",
    "shapef_ia_proj['ycentr_lat'] = shapef_ia_proj.centroid.y\n",
    "#shapef_ia_proj.info()\n",
    "# shapef_ia_proj['xcentr_lon'].iloc[1]"
   ]
  },
  {
   "cell_type": "code",
   "execution_count": 12,
   "id": "03d88c7e",
   "metadata": {},
   "outputs": [
    {
     "name": "stdout",
     "output_type": "stream",
     "text": [
      "<class 'geopandas.geodataframe.GeoDataFrame'>\n",
      "Int64Index: 99 entries, 0 to 98\n",
      "Data columns (total 9 columns):\n",
      " #   Column            Non-Null Count  Dtype   \n",
      "---  ------            --------------  -----   \n",
      " 0   COUNTYFP10        99 non-null     object  \n",
      " 1   NAME10            99 non-null     object  \n",
      " 2   geometry          99 non-null     geometry\n",
      " 3   population        99 non-null     int64   \n",
      " 4   county_id         99 non-null     int64   \n",
      " 5   xcentr_lon        99 non-null     float64 \n",
      " 6   ycentr_lat        99 non-null     float64 \n",
      " 7   county_id_string  99 non-null     object  \n",
      " 8   temp_district     99 non-null     int64   \n",
      "dtypes: float64(2), geometry(1), int64(3), object(3)\n",
      "memory usage: 7.7+ KB\n"
     ]
    }
   ],
   "source": [
    "# cutting out other columns from the shapefile to be dissolved on\n",
    "\n",
    "# 'TOTPOP' is the MGGG shapefile totpop (pre-2020), so removing\n",
    "# also removing: the un-projected 'INTPTLAT10' and 'INTPTLON10'\n",
    "#      and 'NAMELSAD10', the 2 word name\n",
    "#      and all demographic/voting data\n",
    "#      and (later on): also removing ALAND and AWATER, since they just get messy with merges and dissolves\n",
    "\n",
    "districting_columns = ['COUNTYFP10', 'NAME10', 'geometry', \n",
    "       'population', 'county_id', 'xcentr_lon', 'ycentr_lat']\n",
    "\n",
    "#make a new shapefile, which will be merged/dissolved on in the process of making districts\n",
    "shapef_ia_fordistricting = shapef_ia_proj[districting_columns].copy()\n",
    "\n",
    "#add column of county indices (which will get concatenated, as county_id_string)\n",
    "shapef_ia_fordistricting['county_id_string'] = shapef_ia_fordistricting['county_id']\n",
    "shapef_ia_fordistricting['county_id_string'] = shapef_ia_fordistricting['county_id_string'].astype(str).str.pad(2,fillchar='0')\n",
    "\n",
    "#add column of county indices (which will become district indices)\n",
    "shapef_ia_fordistricting['temp_district'] = shapef_ia_fordistricting.index\n",
    "\n",
    "shapef_ia_fordistricting.info()"
   ]
  },
  {
   "attachments": {},
   "cell_type": "markdown",
   "id": "cd125cb7",
   "metadata": {},
   "source": [
    "# Nearest-Neighbor district-building model"
   ]
  },
  {
   "attachments": {},
   "cell_type": "markdown",
   "id": "66b8d14f",
   "metadata": {},
   "source": [
    "* To start, we have 99 districts, 1 for each county.\n",
    "* Randomly select a district (single county at the moment!) to start with.\n",
    "* Join it to its nearest neighbor (using centroid measurement of distance).\n",
    "    * Make new shapefile with those two counties dissolved together (and calc new centroids/distances)\n",
    "    * Now we have 98 districts. Repeat until 4 left.\n",
    "\n",
    "This procedure preserves compactness well, but has no population controls.\n",
    "After we're down to 4 districts, we will then swap counties between districts until populations stabilize.\n"
   ]
  },
  {
   "attachments": {},
   "cell_type": "markdown",
   "id": "8c7456e8",
   "metadata": {},
   "source": [
    "## Building-block functions (adjacency matrix + distance matrix)"
   ]
  },
  {
   "cell_type": "code",
   "execution_count": 13,
   "id": "56b5747e",
   "metadata": {},
   "outputs": [],
   "source": [
    "# function for arbitrary adjacency matrix\n",
    "\n",
    "def adj_mat_calc(temp_shapefile):\n",
    "    curr_n_districts = len(temp_shapefile)\n",
    "    adjac_mat = pd.DataFrame()\n",
    "\n",
    "    for i in range(curr_n_districts):\n",
    "        adjac_mat[i] = temp_shapefile.intersects(temp_shapefile.iloc[[i]].unary_union)\n",
    "    \n",
    "    adjac_mat = adjac_mat - np.identity(curr_n_districts)\n",
    "    adjac_mat = adjac_mat.astype(int)\n",
    "\n",
    "    #and/or boolean?\n",
    "    # ia_adjac_matrix_bool = ia_adjac_matrix.astype(bool)\n",
    "\n",
    "    return adjac_mat\n"
   ]
  },
  {
   "cell_type": "code",
   "execution_count": 14,
   "id": "349ddf4a",
   "metadata": {},
   "outputs": [],
   "source": [
    "#function: input is a shapefile with centroid columns, output is a distance matrix\n",
    "def temp_distance_matrix(temp_shapefile):\n",
    "    curr_n_districts = len(temp_shapefile)\n",
    "    distance_mat = np.zeros((curr_n_districts,curr_n_districts))\n",
    "\n",
    "    for i in range(curr_n_districts):\n",
    "        for j in range(i):      #just do half the triangle, so indices from 0 to i-1\n",
    "            x_dist = (temp_shapefile['xcentr_lon'].iloc[i] - temp_shapefile['xcentr_lon'].iloc[j])\n",
    "            y_dist = (temp_shapefile['ycentr_lat'].iloc[i] - temp_shapefile['ycentr_lat'].iloc[j])\n",
    "            distance_mat[i,j] = math.sqrt(x_dist**2 + y_dist**2)\n",
    "            distance_mat[j,i] = math.sqrt(x_dist**2 + y_dist**2)\n",
    "\n",
    "    return distance_mat\n"
   ]
  },
  {
   "attachments": {},
   "cell_type": "markdown",
   "id": "0bc14831",
   "metadata": {},
   "source": [
    "## full step 1/2 algorithm with iterability"
   ]
  },
  {
   "cell_type": "code",
   "execution_count": 15,
   "id": "ee65877f",
   "metadata": {},
   "outputs": [
    {
     "name": "stdout",
     "output_type": "stream",
     "text": [
      "On loop # 1 (with 99 districts remaining), we have selected index 7.     \n",
      " This corresponds to county id 07 and temporary district # 7.\n",
      "The nearest neighbor index is 36, representing county id 36 and temporary district # 36.\n",
      "Districts remaining: 98\n",
      "On loop # 2 (with 98 districts remaining), we have selected index 11.     \n",
      " This corresponds to county id 11 and temporary district # 11.\n",
      "The nearest neighbor index is 33, representing county id 33 and temporary district # 33.\n",
      "Districts remaining: 97\n",
      "On loop # 3 (with 97 districts remaining), we have selected index 10.     \n",
      " This corresponds to county id 10 and temporary district # 10.\n",
      "The nearest neighbor index is 20, representing county id 20 and temporary district # 20.\n",
      "Districts remaining: 96\n",
      "On loop # 4 (with 96 districts remaining), we have selected index 46.     \n",
      " This corresponds to county id 49 and temporary district # 49.\n",
      "The nearest neighbor index is 60, representing county id 63 and temporary district # 63.\n",
      "Districts remaining: 95\n",
      "On loop # 5 (with 95 districts remaining), we have selected index 21.     \n",
      " This corresponds to county id 22 and temporary district # 22.\n",
      "The nearest neighbor index is 77, representing county id 81 and temporary district # 81.\n",
      "Districts remaining: 94\n",
      "On loop # 6 (with 94 districts remaining), we have selected index 85.     \n",
      " This corresponds to county id 90 and temporary district # 90.\n",
      "The nearest neighbor index is 57, representing county id 60 and temporary district # 60.\n",
      "Districts remaining: 93\n",
      "On loop # 7 (with 93 districts remaining), we have selected index 39.     \n",
      " This corresponds to county id 42 and temporary district # 42.\n",
      "The nearest neighbor index is 76, representing county id 82 and temporary district # 82.\n",
      "Districts remaining: 92\n",
      "On loop # 8 (with 92 districts remaining), we have selected index 32.     \n",
      " This corresponds to county id 34 and temporary district # 34.\n",
      "The nearest neighbor index is 91, representing county id 98 and temporary district # 98.\n",
      "Districts remaining: 91\n",
      "On loop # 9 (with 91 districts remaining), we have selected index 77.     \n",
      " This corresponds to county id 84 and temporary district # 84.\n",
      "The nearest neighbor index is 71, representing county id 76 and temporary district # 76.\n",
      "Districts remaining: 90\n",
      "On loop # 10 (with 90 districts remaining), we have selected index 27.     \n",
      " This corresponds to county id 28 and temporary district # 28.\n",
      "The nearest neighbor index is 40, representing county id 43 and temporary district # 43.\n",
      "Districts remaining: 89\n",
      "On loop # 11 (with 89 districts remaining), we have selected index 77.     \n",
      " This corresponds to county id 86 and temporary district # 86.\n",
      "The nearest neighbor index is 1, representing county id 01 and temporary district # 1.\n",
      "Districts remaining: 88\n",
      "On loop # 12 (with 88 districts remaining), we have selected index 4.     \n",
      " This corresponds to county id 05 and temporary district # 5.\n",
      "The nearest neighbor index is 51, representing county id 56 and temporary district # 56.\n",
      "Districts remaining: 87\n",
      "On loop # 13 (with 87 districts remaining), we have selected index 74.     \n",
      " This corresponds to county id 85 and temporary district # 85.\n",
      "The nearest neighbor index is 33, representing county id 37 and temporary district # 37.\n",
      "Districts remaining: 86\n",
      "On loop # 14 (with 86 districts remaining), we have selected index 20.     \n",
      " This corresponds to county id 2281 and temporary district # 22.\n",
      "The nearest neighbor index is 42, representing county id 48 and temporary district # 48.\n",
      "Districts remaining: 85\n",
      "On loop # 15 (with 85 districts remaining), we have selected index 55.     \n",
      " This corresponds to county id 65 and temporary district # 65.\n",
      "The nearest neighbor index is 38, representing county id 44 and temporary district # 44.\n",
      "Districts remaining: 84\n",
      "On loop # 16 (with 84 districts remaining), we have selected index 81.     \n",
      " This corresponds to county id 95 and temporary district # 95.\n",
      "The nearest neighbor index is 1, representing county id 02 and temporary district # 2.\n",
      "Districts remaining: 83\n",
      "On loop # 17 (with 83 districts remaining), we have selected index 50.     \n",
      " This corresponds to county id 61 and temporary district # 61.\n",
      "The nearest neighbor index is 51, representing county id 62 and temporary district # 62.\n",
      "Districts remaining: 82\n",
      "On loop # 18 (with 82 districts remaining), we have selected index 65.     \n",
      " This corresponds to county id 79 and temporary district # 79.\n",
      "The nearest neighbor index is 71, representing county id 87 and temporary district # 87.\n",
      "Districts remaining: 81\n",
      "On loop # 19 (with 81 districts remaining), we have selected index 47.     \n",
      " This corresponds to county id 57 and temporary district # 57.\n",
      "The nearest neighbor index is 25, representing county id 2843 and temporary district # 28.\n",
      "Districts remaining: 80\n",
      "On loop # 20 (with 80 districts remaining), we have selected index 69.     \n",
      " This corresponds to county id 0186 and temporary district # 86.\n",
      "The nearest neighbor index is 64, representing county id 7987 and temporary district # 79.\n",
      "Districts remaining: 79\n",
      "On loop # 21 (with 79 districts remaining), we have selected index 56.     \n",
      " This corresponds to county id 70 and temporary district # 70.\n",
      "The nearest neighbor index is 57, representing county id 71 and temporary district # 71.\n",
      "Districts remaining: 78\n",
      "On loop # 22 (with 78 districts remaining), we have selected index 64.     \n",
      " This corresponds to county id 83 and temporary district # 83.\n",
      "The nearest neighbor index is 48, representing county id 59 and temporary district # 59.\n",
      "Districts remaining: 77\n",
      "On loop # 23 (with 77 districts remaining), we have selected index 34.     \n",
      " This corresponds to county id 41 and temporary district # 41.\n",
      "The nearest neighbor index is 32, representing county id 39 and temporary district # 39.\n",
      "Districts remaining: 76\n",
      "On loop # 24 (with 76 districts remaining), we have selected index 4.     \n",
      " This corresponds to county id 06 and temporary district # 6.\n",
      "The nearest neighbor index is 6, representing county id 08 and temporary district # 8.\n",
      "Districts remaining: 75\n",
      "On loop # 25 (with 75 districts remaining), we have selected index 3.     \n",
      " This corresponds to county id 0556 and temporary district # 5.\n",
      "The nearest neighbor index is 6, representing county id 09 and temporary district # 9.\n",
      "Districts remaining: 74\n",
      "On loop # 26 (with 74 districts remaining), we have selected index 46.     \n",
      " This corresponds to county id 64 and temporary district # 64.\n",
      "The nearest neighbor index is 28, representing county id 35 and temporary district # 35.\n",
      "Districts remaining: 73\n",
      "On loop # 27 (with 73 districts remaining), we have selected index 59.     \n",
      " This corresponds to county id 5983 and temporary district # 83.\n",
      "The nearest neighbor index is 51, representing county id 7071 and temporary district # 70.\n",
      "Districts remaining: 72\n",
      "On loop # 28 (with 72 districts remaining), we have selected index 40.     \n",
      " This corresponds to county id 54 and temporary district # 54.\n",
      "The nearest neighbor index is 52, representing county id 73 and temporary district # 73.\n",
      "Districts remaining: 71\n",
      "On loop # 29 (with 71 districts remaining), we have selected index 48.     \n",
      " This corresponds to county id 67 and temporary district # 67.\n",
      "The nearest neighbor index is 1, representing county id 03 and temporary district # 3.\n",
      "Districts remaining: 70\n",
      "On loop # 30 (with 70 districts remaining), we have selected index 54.     \n",
      " This corresponds to county id 78 and temporary district # 78.\n",
      "The nearest neighbor index is 33, representing county id 47 and temporary district # 47.\n",
      "Districts remaining: 69\n",
      "On loop # 31 (with 69 districts remaining), we have selected index 67.     \n",
      " This corresponds to county id 96 and temporary district # 96.\n",
      "The nearest neighbor index is 45, representing county id 66 and temporary district # 66.\n",
      "Districts remaining: 68\n",
      "On loop # 32 (with 68 districts remaining), we have selected index 21.     \n",
      " This corresponds to county id 27 and temporary district # 27.\n",
      "The nearest neighbor index is 23, representing county id 30 and temporary district # 30.\n",
      "Districts remaining: 67\n",
      "On loop # 33 (with 67 districts remaining), we have selected index 22.     \n",
      " This corresponds to county id 29 and temporary district # 29.\n",
      "The nearest neighbor index is 23, representing county id 31 and temporary district # 31.\n",
      "Districts remaining: 66\n",
      "On loop # 34 (with 66 districts remaining), we have selected index 30.     \n",
      " This corresponds to county id 46 and temporary district # 46.\n",
      "The nearest neighbor index is 51, representing county id 80 and temporary district # 80.\n",
      "Districts remaining: 65\n",
      "On loop # 35 (with 65 districts remaining), we have selected index 29.     \n",
      " This corresponds to county id 45 and temporary district # 45.\n",
      "The nearest neighbor index is 60, representing county id 93 and temporary district # 93.\n",
      "Districts remaining: 64\n",
      "On loop # 36 (with 64 districts remaining), we have selected index 3.     \n",
      " This corresponds to county id 0608 and temporary district # 6.\n",
      "The nearest neighbor index is 23, representing county id 32 and temporary district # 32.\n",
      "Districts remaining: 63\n",
      "On loop # 37 (with 63 districts remaining), we have selected index 11.     \n",
      " This corresponds to county id 16 and temporary district # 16.\n",
      "The nearest neighbor index is 62, representing county id 97 and temporary district # 97.\n",
      "Districts remaining: 62\n",
      "On loop # 38 (with 62 districts remaining), we have selected index 20.     \n",
      " This corresponds to county id 26 and temporary district # 26.\n",
      "The nearest neighbor index is 14, representing county id 19 and temporary district # 19.\n",
      "Districts remaining: 61\n",
      "On loop # 39 (with 61 districts remaining), we have selected index 11.     \n",
      " This corresponds to county id 1697 and temporary district # 16.\n",
      "The nearest neighbor index is 24, representing county id 40 and temporary district # 40.\n",
      "Districts remaining: 60\n",
      "On loop # 40 (with 60 districts remaining), we have selected index 8.     \n",
      " This corresponds to county id 13 and temporary district # 13.\n",
      "The nearest neighbor index is 1, representing county id 04 and temporary district # 4.\n",
      "Districts remaining: 59\n",
      "On loop # 41 (with 59 districts remaining), we have selected index 32.     \n",
      " This corresponds to county id 5473 and temporary district # 54.\n",
      "The nearest neighbor index is 20, representing county id 2931 and temporary district # 29.\n",
      "Districts remaining: 58\n",
      "On loop # 42 (with 58 districts remaining), we have selected index 32.     \n",
      " This corresponds to county id 55 and temporary district # 55.\n",
      "The nearest neighbor index is 50, representing county id 88 and temporary district # 88.\n",
      "Districts remaining: 57\n",
      "On loop # 43 (with 57 districts remaining), we have selected index 23.     \n",
      " This corresponds to county id 4282 and temporary district # 42.\n",
      "The nearest neighbor index is 44, representing county id 77 and temporary district # 77.\n",
      "Districts remaining: 56\n",
      "On loop # 44 (with 56 districts remaining), we have selected index 32.     \n",
      " This corresponds to county id 5588 and temporary district # 55.\n",
      "The nearest neighbor index is 27, representing county id 50 and temporary district # 50.\n",
      "Districts remaining: 55\n",
      "On loop # 45 (with 55 districts remaining), we have selected index 43.     \n",
      " This corresponds to county id 4778 and temporary district # 78.\n",
      "The nearest neighbor index is 29, representing county id 53 and temporary district # 53.\n",
      "Districts remaining: 54\n",
      "On loop # 46 (with 54 districts remaining), we have selected index 35.     \n",
      " This corresponds to county id 4465 and temporary district # 65.\n",
      "The nearest neighbor index is 12, representing county id 18 and temporary district # 18.\n",
      "Districts remaining: 53\n",
      "On loop # 47 (with 53 districts remaining), we have selected index 11.     \n",
      " This corresponds to county id 17 and temporary district # 17.\n",
      "The nearest neighbor index is 4, representing county id 1020 and temporary district # 10.\n",
      "Districts remaining: 52\n",
      "On loop # 48 (with 52 districts remaining), we have selected index 28.     \n",
      " This corresponds to county id 505588 and temporary district # 55.\n",
      "The nearest neighbor index is 29, representing county id 284357 and temporary district # 57.\n",
      "Districts remaining: 51\n",
      "On loop # 49 (with 51 districts remaining), we have selected index 50.     \n",
      " This corresponds to county id 6696 and temporary district # 96.\n",
      "The nearest neighbor index is 13, representing county id 23 and temporary district # 23.\n",
      "Districts remaining: 50\n",
      "On loop # 50 (with 50 districts remaining), we have selected index 26.     \n",
      " This corresponds to county id 29315473 and temporary district # 54.\n",
      "The nearest neighbor index is 37, representing county id 75 and temporary district # 75.\n",
      "Districts remaining: 49\n",
      "On loop # 51 (with 49 districts remaining), we have selected index 47.     \n",
      " This corresponds to county id 0295 and temporary district # 95.\n",
      "The nearest neighbor index is 11, representing county id 21 and temporary district # 21.\n",
      "Districts remaining: 48\n",
      "On loop # 52 (with 48 districts remaining), we have selected index 33.     \n",
      " This corresponds to county id 69 and temporary district # 69.\n",
      "The nearest neighbor index is 8, representing county id 15 and temporary district # 15.\n",
      "Districts remaining: 47\n",
      "On loop # 53 (with 47 districts remaining), we have selected index 23.     \n",
      " This corresponds to county id 52 and temporary district # 52.\n",
      "The nearest neighbor index is 14, representing county id 2730 and temporary district # 27.\n",
      "Districts remaining: 46\n",
      "On loop # 54 (with 46 districts remaining), we have selected index 37.     \n",
      " This corresponds to county id 3785 and temporary district # 85.\n",
      "The nearest neighbor index is 20, representing county id 4963 and temporary district # 49.\n",
      "Districts remaining: 45\n",
      "On loop # 55 (with 45 districts remaining), we have selected index 22.     \n",
      " This corresponds to county id 2931547375 and temporary district # 54.\n",
      "The nearest neighbor index is 9, representing county id 102017 and temporary district # 17.\n",
      "Districts remaining: 44\n",
      "On loop # 56 (with 44 districts remaining), we have selected index 23.     \n",
      " This corresponds to county id 58 and temporary district # 58.\n",
      "The nearest neighbor index is 40, representing county id 92 and temporary district # 92.\n",
      "Districts remaining: 43\n",
      "On loop # 57 (with 43 districts remaining), we have selected index 28.     \n",
      " This corresponds to county id 68 and temporary district # 68.\n",
      "The nearest neighbor index is 30, representing county id 72 and temporary district # 72.\n",
      "Districts remaining: 42\n",
      "On loop # 58 (with 42 districts remaining), we have selected index 10.     \n",
      " This corresponds to county id 24 and temporary district # 24.\n",
      "The nearest neighbor index is 14, representing county id 38 and temporary district # 38.\n",
      "Districts remaining: 41\n",
      "On loop # 59 (with 41 districts remaining), we have selected index 25.     \n",
      " This corresponds to county id 184465 and temporary district # 65.\n",
      "The nearest neighbor index is 4, representing county id 1133 and temporary district # 11.\n",
      "Districts remaining: 40\n",
      "On loop # 60 (with 40 districts remaining), we have selected index 29.     \n",
      " This corresponds to county id 534778 and temporary district # 78.\n",
      "The nearest neighbor index is 36, representing county id 91 and temporary district # 91.\n",
      "Districts remaining: 39\n",
      "On loop # 61 (with 39 districts remaining), we have selected index 33.     \n",
      " This corresponds to county id 79870186 and temporary district # 86.\n",
      "The nearest neighbor index is 0, representing county id 00 and temporary district # 0.\n",
      "Districts remaining: 38\n",
      "On loop # 62 (with 38 districts remaining), we have selected index 15.     \n",
      " This corresponds to county id 4680 and temporary district # 46.\n",
      "The nearest neighbor index is 37, representing county id 236696 and temporary district # 96.\n",
      "Districts remaining: 37\n",
      "On loop # 63 (with 37 districts remaining), we have selected index 31.     \n",
      " This corresponds to county id 49633785 and temporary district # 85.\n",
      "The nearest neighbor index is 30, representing county id 7684 and temporary district # 84.\n",
      "Districts remaining: 36\n",
      "On loop # 64 (with 36 districts remaining), we have selected index 17.     \n",
      " This corresponds to county id 273052 and temporary district # 52.\n",
      "The nearest neighbor index is 0, representing county id 055609 and temporary district # 5.\n",
      "Districts remaining: 35\n",
      "On loop # 65 (with 35 districts remaining), we have selected index 31.     \n",
      " This corresponds to county id 89 and temporary district # 89.\n",
      "The nearest neighbor index is 8, representing county id 25 and temporary district # 25.\n",
      "Districts remaining: 34\n",
      "On loop # 66 (with 34 districts remaining), we have selected index 32.     \n",
      " This corresponds to county id 94 and temporary district # 94.\n",
      "The nearest neighbor index is 5, representing county id 169740 and temporary district # 16.\n",
      "Districts remaining: 33\n",
      "On loop # 67 (with 33 districts remaining), we have selected index 32.     \n",
      " This corresponds to county id 210295 and temporary district # 95.\n",
      "The nearest neighbor index is 0, representing county id 060832 and temporary district # 6.\n",
      "Districts remaining: 32\n",
      "On loop # 68 (with 32 districts remaining), we have selected index 22.     \n",
      " This corresponds to county id 1569 and temporary district # 69.\n",
      "The nearest neighbor index is 12, representing county id 51 and temporary district # 51.\n",
      "Districts remaining: 31\n",
      "On loop # 69 (with 31 districts remaining), we have selected index 21.     \n",
      " This corresponds to county id 511569 and temporary district # 69.\n",
      "The nearest neighbor index is 4, representing county id 228148 and temporary district # 22.\n",
      "Districts remaining: 30\n",
      "On loop # 70 (with 30 districts remaining), we have selected index 28.     \n",
      " This corresponds to county id 16974094 and temporary district # 94.\n",
      "The nearest neighbor index is 6, representing county id 3498 and temporary district # 34.\n",
      "Districts remaining: 29\n",
      "On loop # 71 (with 29 districts remaining), we have selected index 14.     \n",
      " This corresponds to county id 6162 and temporary district # 61.\n",
      "The nearest neighbor index is 17, representing county id 0367 and temporary district # 67.\n",
      "Districts remaining: 28\n",
      "On loop # 72 (with 28 districts remaining), we have selected index 14.     \n",
      " This corresponds to county id 61620367 and temporary district # 61.\n",
      "The nearest neighbor index is 24, representing county id 2589 and temporary district # 89.\n",
      "Districts remaining: 27\n",
      "On loop # 73 (with 27 districts remaining), we have selected index 11.     \n",
      " This corresponds to county id 1020172931547375 and temporary district # 54.\n",
      "The nearest neighbor index is 1, representing county id 12 and temporary district # 12.\n",
      "Districts remaining: 26\n",
      "On loop # 74 (with 26 districts remaining), we have selected index 18.     \n",
      " This corresponds to county id 74 and temporary district # 74.\n",
      "The nearest neighbor index is 20, representing county id 70715983 and temporary district # 83.\n",
      "Districts remaining: 25\n",
      "On loop # 75 (with 25 districts remaining), we have selected index 23.     \n",
      " This corresponds to county id 349816974094 and temporary district # 94.\n",
      "The nearest neighbor index is 5, representing county id 3941 and temporary district # 41.\n",
      "Districts remaining: 24\n",
      "On loop # 76 (with 24 districts remaining), we have selected index 17.     \n",
      " This corresponds to county id 7470715983 and temporary district # 74.\n",
      "The nearest neighbor index is 9, representing county id 121020172931547375 and temporary district # 54.\n",
      "Districts remaining: 23\n",
      "On loop # 77 (with 23 districts remaining), we have selected index 14.     \n",
      " This corresponds to county id 6872 and temporary district # 68.\n",
      "The nearest neighbor index is 12, representing county id 3564 and temporary district # 64.\n",
      "Districts remaining: 22\n",
      "On loop # 78 (with 22 districts remaining), we have selected index 15.     \n",
      " This corresponds to county id 1210201729315473757470715983 and temporary district # 74.\n",
      "The nearest neighbor index is 7, representing county id 4680236696 and temporary district # 46.\n",
      "Districts remaining: 21\n",
      "On loop # 79 (with 21 districts remaining), we have selected index 7.     \n",
      " This corresponds to county id 055609273052 and temporary district # 52.\n",
      "The nearest neighbor index is 13, representing county id 228148511569 and temporary district # 69.\n",
      "Districts remaining: 20\n",
      "On loop # 80 (with 20 districts remaining), we have selected index 10.     \n",
      " This corresponds to county id 616203672589 and temporary district # 61.\n",
      "The nearest neighbor index is 9, representing county id 5892 and temporary district # 58.\n",
      "Districts remaining: 19\n",
      "On loop # 81 (with 19 districts remaining), we have selected index 5.     \n",
      " This corresponds to county id 428277 and temporary district # 42.\n",
      "The nearest neighbor index is 2, representing county id 14 and temporary district # 14.\n",
      "Districts remaining: 18\n",
      "On loop # 82 (with 18 districts remaining), we have selected index 8.     \n",
      " This corresponds to county id 5892616203672589 and temporary district # 61.\n",
      "The nearest neighbor index is 3, representing county id 1926 and temporary district # 26.\n",
      "Districts remaining: 17\n",
      "On loop # 83 (with 17 districts remaining), we have selected index 15.     \n",
      " This corresponds to county id 3941349816974094 and temporary district # 94.\n",
      "The nearest neighbor index is 4, representing county id 4593 and temporary district # 45.\n",
      "Districts remaining: 16\n",
      "On loop # 84 (with 16 districts remaining), we have selected index 9.     \n",
      " This corresponds to county id 46802366961210201729315473757470715983 and temporary district # 74.\n",
      "The nearest neighbor index is 1, representing county id 0413 and temporary district # 13.\n",
      "Districts remaining: 15\n",
      "On loop # 85 (with 15 districts remaining), we have selected index 4.     \n",
      " This corresponds to county id 505588284357 and temporary district # 55.\n",
      "The nearest neighbor index is 9, representing county id 53477891 and temporary district # 78.\n",
      "Districts remaining: 14\n",
      "On loop # 86 (with 14 districts remaining), we have selected index 12.     \n",
      " This corresponds to county id 45933941349816974094 and temporary district # 94.\n",
      "The nearest neighbor index is 6, representing county id 1133184465 and temporary district # 65.\n",
      "Districts remaining: 13\n",
      "On loop # 87 (with 13 districts remaining), we have selected index 11.     \n",
      " This corresponds to county id 113318446545933941349816974094 and temporary district # 94.\n",
      "The nearest neighbor index is 8, representing county id 768449633785 and temporary district # 85.\n",
      "Districts remaining: 12\n",
      "On loop # 88 (with 12 districts remaining), we have selected index 8.     \n",
      " This corresponds to county id 0079870186 and temporary district # 86.\n",
      "The nearest neighbor index is 9, representing county id 6090 and temporary district # 90.\n",
      "Districts remaining: 11\n",
      "On loop # 89 (with 11 districts remaining), we have selected index 8.     \n",
      " This corresponds to county id 00798701866090 and temporary district # 86.\n",
      "The nearest neighbor index is 1, representing county id 2438 and temporary district # 24.\n",
      "Districts remaining: 10\n",
      "On loop # 90 (with 10 districts remaining), we have selected index 8.     \n",
      " This corresponds to county id 768449633785113318446545933941349816974094 and temporary district # 94.\n",
      "The nearest neighbor index is 0, representing county id 0736 and temporary district # 7.\n",
      "Districts remaining: 9\n",
      "On loop # 91 (with 9 districts remaining), we have selected index 8.     \n",
      " This corresponds to county id 060832210295 and temporary district # 95.\n",
      "The nearest neighbor index is 1, representing county id 055609273052228148511569 and temporary district # 52.\n",
      "Districts remaining: 8\n",
      "On loop # 92 (with 8 districts remaining), we have selected index 6.     \n",
      " This corresponds to county id 0736768449633785113318446545933941349816974094 and temporary district # 94.\n",
      "The nearest neighbor index is 7, representing county id 055609273052228148511569060832210295 and temporary district # 95.\n",
      "Districts remaining: 7\n",
      "On loop # 93 (with 7 districts remaining), we have selected index 2.     \n",
      " This corresponds to county id 19265892616203672589 and temporary district # 61.\n",
      "The nearest neighbor index is 5, representing county id 243800798701866090 and temporary district # 86.\n",
      "Districts remaining: 6\n",
      "On loop # 94 (with 6 districts remaining), we have selected index 5.     \n",
      " This corresponds to county id 0736768449633785113318446545933941349816974094055609273052228148511569060832210295 and temporary district # 94.\n",
      "The nearest neighbor index is 1, representing county id 50558828435753477891 and temporary district # 55.\n",
      "Districts remaining: 5\n",
      "On loop # 95 (with 5 districts remaining), we have selected index 1.     \n",
      " This corresponds to county id 19265892616203672589243800798701866090 and temporary district # 61.\n",
      "The nearest neighbor index is 2, representing county id 35646872 and temporary district # 68.\n",
      "Districts remaining: 4\n"
     ]
    }
   ],
   "source": [
    "shapef_ia_initialdistricting = shapef_ia_fordistricting.copy()\n",
    "\n",
    "\n",
    "random.seed(2)      #for initial replicability while building.\n",
    "#                    #if seed = 2, then this starts with the county with 7, Boone County.\n",
    "        #first runthrough: 7 selected, 36 neighbor (merged is labeled as 7)\n",
    "        #second runthrough: 11 selected, 33 is neighbor (merged is labeled as 11)\n",
    "\n",
    "for i in range(95): ##### 95 iterations brings us from 99 districts to 4\n",
    "    #how many districts are we working with this time?\n",
    "    running_ndistricts = len(shapef_ia_initialdistricting)\n",
    "\n",
    "    # pick out a district to work on on this iteration of the loop\n",
    "    running_index = random.randint(0,running_ndistricts-1)        \n",
    "\n",
    "    #find the temp_district associated with the running index\n",
    "    #     the below was returning a slice of a dataframe, and not just the entry\n",
    "    # running_temp_dist = shapef_ia_initialdistricting.loc[shapef_ia_initialdistricting.index == running_index, 'temp_district']\n",
    "    running_temp_district = shapef_ia_initialdistricting['temp_district'].iloc[running_index]\n",
    "    #     originally just called this for the print statement\n",
    "         \n",
    "\n",
    "    #set up adjacency and distance matrices\n",
    "    running_adjmat = adj_mat_calc(shapef_ia_initialdistricting)\n",
    "    running_distmat = temp_distance_matrix(shapef_ia_initialdistricting)\n",
    "\n",
    "    print(\"On loop # %d (with %d districts remaining), we have selected index %d. \\\n",
    "    \\n This corresponds to county id %s and temporary district # %d.\"   \\\n",
    "        % (i+1, running_ndistricts,running_index,   \\\n",
    "           shapef_ia_initialdistricting['county_id_string'].iloc[running_index], \\\n",
    "           running_temp_district) )\n",
    "    \n",
    "    #------find closest neighbor: could use cleaning up/making better\n",
    "    distance_list = list(running_distmat[running_index])\n",
    "    # distance_list.index(0)      # the index of the element with value 0 is 7\n",
    "\n",
    "    # sorting is inefficient, maybe fix\n",
    "    # https://stackoverflow.com/questions/26779618/python-find-second-smallest-number\n",
    "\n",
    "    neighbor_dist = sorted(distance_list)[1]           #second smallest distance is nearest neighbor (since distance to self is zero)\n",
    "    ##                                                    ### OR! check on adjacency matrix first!\n",
    "    neighbor_index = distance_list.index(neighbor_dist)     #county 36 (Greene) is closest to county 7 (Boone)\n",
    "    \n",
    "    # the temp_district number associated with the neighbor_index\n",
    "    # the below was having iiiiissues\n",
    "    #     neighbor_temp_dist = shapef_ia_initialdistricting.loc[shapef_ia_initialdistricting.index ==neighbor_index, 'temp_district']\n",
    "    neighbor_temp_district= shapef_ia_initialdistricting['temp_district'].iloc[neighbor_index]\n",
    "    #   this doesn't really get used except to print? but running_temp_district is super important for re-indexing\n",
    "\n",
    "    print(\"The nearest neighbor index is %d, representing county id %s and temporary district # %d.\" \\\n",
    "        % (neighbor_index,   \\\n",
    "           shapef_ia_initialdistricting['county_id_string'].iloc[neighbor_index],\\\n",
    "           neighbor_temp_district) )\n",
    "    #---------end finding closest neightbor\n",
    "\n",
    "    # re-index the neighbor county to be in the first county's district\n",
    "    shapef_ia_initialdistricting.loc[shapef_ia_initialdistricting.index == neighbor_index, 'temp_district'] = running_temp_district      \n",
    "\n",
    "\n",
    "    # dissolve shapefile based on temp_district to combine the two counties\n",
    "    #aggregate remaining columns by summing them\n",
    "\n",
    "    # arguments for aggfunc: https://geopandas.org/en/stable/docs/user_guide/aggregation_with_dissolve.html\n",
    "    shapef_ia_initialdistricting = shapef_ia_initialdistricting.dissolve(\n",
    "        by=\"temp_district\",\n",
    "        aggfunc = {\n",
    "            \"COUNTYFP10\": \"sum\",    #sum = concatenation here b/c string\n",
    "            \"NAME10\": \"count\",      #kind of dummy: will be 2 only for most-recently-merged district\n",
    "            \"population\": \"sum\",\n",
    "            \"county_id\": \"sum\",     #should be actual sum here, kind of dummy\n",
    "            \"xcentr_lon\": \"first\",  #dummy, since we'll recalculate\n",
    "            \"ycentr_lat\": \"first\",\n",
    "            \"county_id_string\": \"sum\", #sum = concatenation here b/c string\n",
    "            \"temp_district\": \"first\"\n",
    "        }\n",
    "    )\n",
    "\n",
    "    # update centroid lat/longs!\n",
    "    shapef_ia_initialdistricting['xcentr_lon'] = shapef_ia_initialdistricting.centroid.x\n",
    "    shapef_ia_initialdistricting['ycentr_lat'] = shapef_ia_initialdistricting.centroid.y\n",
    "\n",
    "    #the dissolve process makes the temp_district column into the index of the dataframe\n",
    "    #which then has issues when we iterate the process\n",
    "    #so dump the index for a dummy one now\n",
    "    shapef_ia_initialdistricting = shapef_ia_initialdistricting.reset_index(drop=True)\n",
    "\n",
    "\n",
    "    print(\"Districts remaining:\", len(shapef_ia_initialdistricting))  #print how many districts are left\n",
    "\n",
    "# shapef_ia_initialdistricting = shapef_ia_initialdistricting.copy()\n"
   ]
  },
  {
   "cell_type": "code",
   "execution_count": 16,
   "id": "1b2a1e60",
   "metadata": {},
   "outputs": [],
   "source": [
    "# these were used to check which counties (via IDs and FIPs) were in each district\n",
    "# list(shapef_ia_initialdistricting[\"county_id_string\"])\n",
    "# list(shapef_ia_initialdistricting[\"COUNTYFP10\"])"
   ]
  },
  {
   "attachments": {},
   "cell_type": "markdown",
   "id": "83ade63b",
   "metadata": {},
   "source": [
    "### plot maps of new districts"
   ]
  },
  {
   "cell_type": "code",
   "execution_count": 17,
   "id": "00cfb8e4",
   "metadata": {},
   "outputs": [
    {
     "data": {
      "text/plain": [
       "0     133122 (dist 42)\n",
       "1     412348 (dist 61)\n",
       "2     385133 (dist 74)\n",
       "3    2259766 (dist 94)\n",
       "Name: combined_label, dtype: object"
      ]
     },
     "execution_count": 17,
     "metadata": {},
     "output_type": "execute_result"
    }
   ],
   "source": [
    "shapef_ia_initialdistricting['combined_label'] = shapef_ia_initialdistricting['population'].astype(str)  + str(' (dist ') + shapef_ia_initialdistricting['temp_district'].astype(str) + str (')')\n",
    "shapef_ia_initialdistricting['combined_label']\n",
    "# shapef_ia_initialdistricting.info()"
   ]
  },
  {
   "cell_type": "markdown",
   "id": "981a48f7",
   "metadata": {},
   "source": [
    "### functions that draw maps"
   ]
  },
  {
   "cell_type": "code",
   "execution_count": 18,
   "id": "4d64963e",
   "metadata": {},
   "outputs": [],
   "source": [
    "#label_field: 'population', 'temp_district', 'combined_label'\n",
    "def map_merged_districts(new_shapefile,label_field):\n",
    "    map_population_by_district = (\n",
    "        ggplot(new_shapefile)\n",
    "        + geom_map(aes(fill='population'))\n",
    "        + geom_label(aes(x='xcentr_lon', y='ycentr_lat', \n",
    "                        label=(label_field),size=2), \n",
    "                    show_legend=False)\n",
    "        + theme_minimal()\n",
    "        + theme(axis_text_x=element_blank(),\n",
    "                axis_text_y=element_blank(),\n",
    "                axis_title_x=element_blank(),\n",
    "                axis_title_y=element_blank(),\n",
    "                axis_ticks=element_blank(),\n",
    "                panel_grid_major=element_blank(),\n",
    "                panel_grid_minor=element_blank()\n",
    "            )\n",
    "        )\n",
    "\n",
    "    return map_population_by_district\n",
    "\n",
    "#input: shapefile of counties within a particular district \n",
    "#   (after undergoing identity overlay)\n",
    "#   label_field options: 'NAME10', 'population_2', 'county_id', 'county_id_string_2', etc\n",
    "def map_unmerged_districts(new_shapefile,label_field):\n",
    "    map_counties_by_district = (\n",
    "        ggplot(new_shapefile)\n",
    "        + geom_map(aes(fill='population_2'))\n",
    "        + geom_label(aes(x='xcentr_lon_2', y='ycentr_lat_2', \n",
    "                        label=label_field,size=2), \n",
    "                    show_legend=False)\n",
    "        + theme_minimal()\n",
    "        + theme(axis_text_x=element_blank(),\n",
    "                axis_text_y=element_blank(),\n",
    "                axis_title_x=element_blank(),\n",
    "                axis_title_y=element_blank(),\n",
    "                axis_ticks=element_blank(),\n",
    "                panel_grid_major=element_blank(),\n",
    "                panel_grid_minor=element_blank()\n",
    "            )\n",
    "        )\n",
    "\n",
    "    return map_counties_by_district"
   ]
  },
  {
   "cell_type": "code",
   "execution_count": 19,
   "id": "0b4f7c48",
   "metadata": {},
   "outputs": [
    {
     "data": {
      "image/png": "[encoded data removed]",
      "text/plain": [
       "<Figure size 640x480 with 1 Axes>"
      ]
     },
     "metadata": {},
     "output_type": "display_data"
    },
    {
     "data": {
      "text/plain": [
       "<ggplot: (381590492)>"
      ]
     },
     "execution_count": 19,
     "metadata": {},
     "output_type": "execute_result"
    }
   ],
   "source": [
    "map_merged_districts(shapef_ia_initialdistricting,'combined_label')"
   ]
  },
  {
   "cell_type": "code",
   "execution_count": 20,
   "id": "b6e65326",
   "metadata": {},
   "outputs": [
    {
     "data": {
      "text/html": [
       "<div>\n",
       "<style scoped>\n",
       "    .dataframe tbody tr th:only-of-type {\n",
       "        vertical-align: middle;\n",
       "    }\n",
       "\n",
       "    .dataframe tbody tr th {\n",
       "        vertical-align: top;\n",
       "    }\n",
       "\n",
       "    .dataframe thead th {\n",
       "        text-align: right;\n",
       "    }\n",
       "</style>\n",
       "<table border=\"1\" class=\"dataframe\">\n",
       "  <thead>\n",
       "    <tr style=\"text-align: right;\">\n",
       "      <th></th>\n",
       "      <th>population</th>\n",
       "      <th>temp_district</th>\n",
       "    </tr>\n",
       "  </thead>\n",
       "  <tbody>\n",
       "    <tr>\n",
       "      <th>0</th>\n",
       "      <td>133122</td>\n",
       "      <td>42</td>\n",
       "    </tr>\n",
       "    <tr>\n",
       "      <th>1</th>\n",
       "      <td>412348</td>\n",
       "      <td>61</td>\n",
       "    </tr>\n",
       "    <tr>\n",
       "      <th>2</th>\n",
       "      <td>385133</td>\n",
       "      <td>74</td>\n",
       "    </tr>\n",
       "    <tr>\n",
       "      <th>3</th>\n",
       "      <td>2259766</td>\n",
       "      <td>94</td>\n",
       "    </tr>\n",
       "  </tbody>\n",
       "</table>\n",
       "</div>"
      ],
      "text/plain": [
       "   population  temp_district\n",
       "0      133122             42\n",
       "1      412348             61\n",
       "2      385133             74\n",
       "3     2259766             94"
      ]
     },
     "execution_count": 20,
     "metadata": {},
     "output_type": "execute_result"
    }
   ],
   "source": [
    "shapef_ia_initialdistricting[['population','temp_district']]"
   ]
  },
  {
   "attachments": {},
   "cell_type": "markdown",
   "id": "0c3dccbe",
   "metadata": {},
   "source": [
    "# Begin step 3: redistributing counties until population is within bounds"
   ]
  },
  {
   "cell_type": "markdown",
   "id": "de8e2522",
   "metadata": {},
   "source": [
    "## Helper Functions"
   ]
  },
  {
   "cell_type": "code",
   "execution_count": 21,
   "id": "d6693aea",
   "metadata": {},
   "outputs": [],
   "source": [
    "# helper function: input is a shapefile with 'population' \n",
    "# column. output is a full matrix with SIGNED\n",
    "# population differences between attributes\n",
    "# row - col\n",
    "# positive value in row i column j means that pop(i) > pop(j)\n",
    "# negative value in row i column j means that pop(i) < pop(j)\n",
    "def pop_diff_matrix(temp_shapefile):\n",
    "    curr_n_districts = len(temp_shapefile)\n",
    "    pop_diff_mat = np.zeros((curr_n_districts,curr_n_districts))\n",
    "\n",
    "    for i in range(curr_n_districts):\n",
    "        for j in range(curr_n_districts):   \n",
    "            pop_diff_mat[i,j] = temp_shapefile['population'].iloc[i] - temp_shapefile['population'].iloc[j]\n",
    "    \n",
    "    return pop_diff_mat\n",
    "\n",
    "\n",
    "## helper function: given a dataframe of movable counties\n",
    "# and another dataframe of the district they're going to\n",
    "# make a list of relative distances\n",
    "def calculate_rel_dist(border_counties,new_district):\n",
    "    n_border_counties = len(border_counties)\n",
    "    distance_list = np.zeros((n_border_counties,3))\n",
    "\n",
    "    for i in range(n_border_counties):\n",
    "        oldx_dist = border_counties['xcentr_lon_2'].iloc[i] - border_counties['xcentr_lon_1'].iloc[i]\n",
    "        oldy_dist = border_counties['ycentr_lat_2'].iloc[i] - border_counties['ycentr_lat_1'].iloc[i]\n",
    "\n",
    "        # old_dist\n",
    "        distance_list[i,0] = math.sqrt(oldx_dist**2 + oldy_dist**2)\n",
    "\n",
    "        newx_dist = border_counties['xcentr_lon_2'].iloc[i] - new_district['xcentr_lon'].iloc[0]\n",
    "        newy_dist = border_counties['ycentr_lat_2'].iloc[i] - new_district['ycentr_lat'].iloc[0]\n",
    "\n",
    "        # new_dist\n",
    "        distance_list[i,1] = math.sqrt(newx_dist**2 + newy_dist**2)\n",
    "\n",
    "        ## relative_distance: old - new\n",
    "        # we'll move the county with highest relative distance\n",
    "        distance_list[i,2] = distance_list[i,0] - distance_list[i,1]\n",
    "\n",
    "    #we only need relative distances, not the component parts\n",
    "    #so we could just make an n x 1 list instead of n x 3\n",
    "    rel_dist = distance_list[:,2]\n",
    "    return rel_dist"
   ]
  },
  {
   "cell_type": "code",
   "execution_count": 22,
   "id": "b79d2f64",
   "metadata": {},
   "outputs": [],
   "source": [
    "#-----------module to find neighboring districts with the greatest population difference---------------------\n",
    "def neighbor_popdiff_fun(df):\n",
    "    #adjacencey matrix for 4 districts\n",
    "    adj_mat_array = adj_mat_calc(df).to_numpy()   \n",
    "\n",
    "    #SIGNED population difference array\n",
    "    # row minus col\n",
    "    # positive value in row i column j means that pop(i) > pop(j)\n",
    "    # negative value in row i column j means that pop(i) < pop(j)\n",
    "    pop_diff_array = pop_diff_matrix(df)\n",
    "    # zero out any pairs that aren't adjacent\n",
    "    # for numpy arrays, \"*\" is piecewise multiplication\n",
    "    neighbor_popdiff = adj_mat_array * pop_diff_array\n",
    "\n",
    "    return neighbor_popdiff"
   ]
  },
  {
   "cell_type": "code",
   "execution_count": null,
   "id": "9b39b309",
   "metadata": {},
   "outputs": [],
   "source": [
    "# #Identify the border counties between the two districts with biggest population difference\n",
    "# #return a dataframe with the border counties with a column of relative distances between the big and small districts\n",
    "# def border_counties_fun(shapef_ia_redist, list_of_districts, list_of_counties):\n",
    "#     neighbor_popdiff=neighbor_popdiff_fun(shapef_ia_redist)\n",
    "#     #maxpopdiff_loc is an ordered pair giving the location of the\n",
    "#     #maximum value within neighbor_popdiff. Note!! Indexed on (0,n-1)!\n",
    "#     maxpopdiff_loc = np.unravel_index(np.argmax(neighbor_popdiff, axis=None),   neighbor_popdiff.shape)\n",
    "\n",
    "#     #population threshold for a border county that can get moved:\n",
    "#     #  half of the difference between the two neighboring districts we're adjusting\n",
    "#     #  if dist 1 has pop 700k and dist 2 has pop 1mil, then max size that can be moved\n",
    "#     #  from dist 2 to dist 1 is 300k\n",
    "#     pop_limit_switch=.7*neighbor_popdiff.max()\n",
    "\n",
    "#     #big district is the *row*, so first element of ordered pair\n",
    "#     big_dist_index = maxpopdiff_loc[0]\n",
    "#     #small district is the *column*, so second element of ordered pair\n",
    "#     small_dist_index = maxpopdiff_loc[1]\n",
    "\n",
    "#     # big district geodataframe\n",
    "#     # should match shapef_ia_redist.iloc[[big_dist_index]]\n",
    "#     #    (though with diff indexing, which matters in distance helper fxn)\n",
    "#     # bigdist = list_of_districts[big_dist_index].copy()\n",
    "#     smalldist = list_of_districts[small_dist_index].copy()\n",
    "\n",
    "#     #----------find which county will be swapped from \"bigdist\" to  \"smalldist\"----------------------\n",
    "#     #from the list of 4 dataframes (each of diff districts)\n",
    "#     #we call the dataframe of the big district\n",
    "#     bigdist_counties = list_of_counties[big_dist_index].copy()\n",
    "\n",
    "#     #dataframe of counties in the Big district which are \n",
    "#     #adjacent to the Small district so which we might move\n",
    "#     #(possible to be point neighbors and have issues -\n",
    "#     #should be okay with D criterion, though)\n",
    "#     #reset index so it is (0,n-1), instead of sparse indexing based on where the county     was within the district\n",
    "#     #we retain the original county id in 'county_id'\n",
    "#     bigdist_movable = bigdist_counties.loc[bigdist_counties.intersects(smalldist.unary_union)].reset_index(drop=True).copy()\n",
    "\n",
    "#     # adding column to bigdist_movable with relative distances\n",
    "#     bigdist_movable['rel_distance'] = calculate_rel_dist(bigdist_movable,smalldist)\n",
    "#     return bigdist_movable, pop_limit_switch, small_dist_index\n",
    "\n"
   ]
  },
  {
   "cell_type": "code",
   "execution_count": 55,
   "id": "caadc1e4",
   "metadata": {},
   "outputs": [],
   "source": [
    "#Identify the border counties between the two districts with biggest population difference\n",
    "#return a dataframe with the border counties with a column of relative distances between the big and small districts\n",
    "def border_counties_df_func(shapef_ia_redist, list_of_districts, list_of_counties):\n",
    "    neighbor_popdiff=neighbor_popdiff_fun(shapef_ia_redist)\n",
    "    #popdiff_locs is a list of ordered pairs giving the location of the\n",
    "    #positive values within neighbor_popdiff corresponding to adjacent districts. Note!! Indexed on (0,n-1)!\n",
    "    popdiff_locs=np.argwhere(neighbor_popdiff>0)\n",
    "    # maxpopdiff_loc = np.unravel_index(np.argmax(neighbor_popdiff, axis=None),   neighbor_popdiff.shape)\n",
    "\n",
    "    big_dist_list=[]\n",
    "    small_dist_list=[]\n",
    "    pop_limit_switch_list=[]\n",
    "    \n",
    "    for i in range(popdiff_locs.shape[0]):\n",
    "        big_dist_index=popdiff_locs[i][0]\n",
    "        big_dist_list.append(big_dist_index)\n",
    "        small_dist_index=popdiff_locs[i][1]\n",
    "        small_dist_list.append(small_dist_index+1)\n",
    "        pop_limit_switch=.5*neighbor_popdiff[big_dist_index][small_dist_index]\n",
    "        pop_limit_switch_list.append(pop_limit_switch)\n",
    "\n",
    "    df=pd.DataFrame()\n",
    "    df['big_dist_index']=big_dist_list\n",
    "    df['small_dist_index']=small_dist_list\n",
    "    df['pop_limit_switch']=pop_limit_switch_list\n",
    "\n",
    "    df=df.sort_values('pop_limit_switch', ascending=False).reset_index(drop=True)\n",
    "    #Note: pop_limit_switch is a proxy for actual pop limits and we can sort off of this list. But we need to make sure other lists are sorted accordingly\n",
    "\n",
    "\n",
    "    #----------find which county will be swapped from \"bigdist\" to  \"smalldist\"----------------------\n",
    "    #from the list of 4 dataframes (each of diff districts)\n",
    "    #we call the dataframe of the big district\n",
    "\n",
    "        #dataframe of counties in the Big district which are \n",
    "    #adjacent to the Small district so which we might move\n",
    "    #(possible to be point neighbors and have issues -\n",
    "    #should be okay with D criterion, though)\n",
    "    #reset index so it is (0,n-1), instead of sparse indexing based on where the county     was within the district\n",
    "    #we retain the original county id in 'county_id'\n",
    "\n",
    "    small_dist_list=[]\n",
    "    big_dist_counties_list=[]\n",
    "    bigdist_movable_list=[]\n",
    "    for j in range(popdiff_locs.shape[0]):\n",
    "        small_dist_list.append(list_of_districts[df.loc[j,'small_dist_index']])\n",
    "        big_dist_counties_list.append(list_of_counties[df.loc[j, 'big_dist_index']])\n",
    "        bigdist_movable_list.append(big_dist_counties_list[j].loc[big_dist_counties_list[j].intersects(small_dist_list[j].unary_union)].reset_index(drop=True).copy())\n",
    "        bigdist_movable_list[j]['relative_distance']=calculate_rel_dist(bigdist_movable_list[j], small_dist_list[j])\n",
    "\n",
    "\n",
    "    \n",
    "\n",
    "    # adding column to bigdist_movable with relative distances\n",
    "    # bigdist_movable['rel_distance'] = calculate_rel_dist(bigdist_movable,smalldist)\n",
    "    # return bigdist_movable, pop_limit_switch, small_dist_index\n",
    "\n",
    "    return bigdist_movable_list, df['pop_limit_switch'].tolist(), df['small_dist_index'].tolist()"
   ]
  },
  {
   "cell_type": "code",
   "execution_count": 49,
   "id": "e9f907e7",
   "metadata": {},
   "outputs": [],
   "source": [
    "#gives a range for district size based off of ideal district size\n",
    "def ideal_district_size_func(state_population, n_districts, tolerance):\n",
    "    ideal_district_size=state_population/n_districts\n",
    "    district_maximum=int(ideal_district_size*(1+tolerance))\n",
    "    district_minimum=int(ideal_district_size*(1-tolerance))\n",
    "    return district_minimum, district_maximum"
   ]
  },
  {
   "cell_type": "code",
   "execution_count": 26,
   "id": "5abd049c",
   "metadata": {},
   "outputs": [],
   "source": [
    "#original switch_func and switch_threshold_fun code \n",
    "\n",
    "# # switch_func helper function\n",
    "# # input is a dataframe with potentially movable counties (and a count of switches)\n",
    "# # output is a county to switch: first priority: below threshold of switches (and population)\n",
    "# #    Then, max relative distance of what's left\n",
    "# def switch_func(dataframe_movable,switches_threshold,pop_limit_switch):\n",
    "#     dataframe_sorted = dataframe_movable.sort_values('relative_distance',ascending=False).copy()\n",
    "#     for i in range(dataframe_sorted.shape[0]):\n",
    "#         # if dataframe_sorted.iloc[i]['num_switches'] <= switches_threshold:\n",
    "#         #     return dataframe_sorted.iloc[i]['county_id']\n",
    "#         #commenting out the if statement below to get rid of population threshold criteria - see if that'll eliminate discontiguous districts\n",
    "#         if (dataframe_sorted.iloc[i]['num_switches'] <= switches_threshold) & (dataframe_sorted.iloc[i]['population_2']<pop_limit_switch):\n",
    "#             return dataframe_sorted.iloc[i]['county_id']\n",
    "#             break\n",
    "\n",
    "#         #add else statement to go to next pair of districts\n",
    "\n",
    "# #identifies the threshhold for the number of switches in the border counties\n",
    "# def switch_threshold_fun(bigdist_movable):\n",
    "#     # array with all switch counts from the movable county list\n",
    "#     num_switches_array = np.array(bigdist_movable['num_switches'])\n",
    "\n",
    "#     # max and min values from the array\n",
    "#     max_switches = max(num_switches_array)\n",
    "#     min_switches = min(num_switches_array)\n",
    "#     # our chosen threshold for switches: halfway between max and min (floor)\n",
    "#     switches_threshold = min_switches + np.ceil((max_switches-min_switches)/2)\n",
    "#     return switches_threshold"
   ]
  },
  {
   "cell_type": "code",
   "execution_count": 50,
   "id": "cf2ff987",
   "metadata": {},
   "outputs": [],
   "source": [
    "#modifying switch_threshold_fun to take a list of dataframes as an argument\n",
    "def switch_threshold_fun(dataframe_movable_list):\n",
    "    switches_threshold=[]\n",
    "    for j in range(len(dataframe_movable_list)):\n",
    "        # array with all switch counts from the movable county list\n",
    "        num_switches_array = np.array(dataframe_movable_list[j]['num_switches'])\n",
    "\n",
    "        # max and min values from the array\n",
    "        max_switches = max(num_switches_array)\n",
    "        min_switches = min(num_switches_array)\n",
    "        # our chosen threshold for switches: halfway between max and min (floor)\n",
    "        switches_threshold.append(min_switches + np.ceil((max_switches-min_switches)/2))\n",
    "    return switches_threshold"
   ]
  },
  {
   "cell_type": "code",
   "execution_count": 51,
   "id": "774649b4",
   "metadata": {},
   "outputs": [],
   "source": [
    "#modifying switch_func in a separate cell to take list of dataframes, list of switches_thresholds, list of pop_limit_switches as arguments\n",
    "\n",
    "# switch_func helper function\n",
    "# input is a dataframe with potentially movable counties (and a count of switches)\n",
    "# output is a county to switch: first priority: below threshold of switches (and population)\n",
    "#    Then, max relative distance of what's left\n",
    "def switch_func(dataframe_movable_list,switches_threshold_list,pop_limit_switch_list):\n",
    "    for j in range(len(dataframe_movable_list)):\n",
    "        dataframe_sorted = dataframe_movable_list[j].sort_values('relative_distance',ascending=False).copy()\n",
    "        switches_threshold = switches_threshold_list[j]\n",
    "        pop_limit_switch = pop_limit_switch_list[j]\n",
    "        for i in range(dataframe_sorted.shape[0]):\n",
    "            # if dataframe_sorted.iloc[i]['num_switches'] <= switches_threshold:\n",
    "            #     return dataframe_sorted.iloc[i]['county_id']\n",
    "            #commenting out the if statement below to get rid of population threshold criteria - see if that'll eliminate discontiguous districts\n",
    "            if (dataframe_sorted.iloc[i]['num_switches'] <= switches_threshold) & (dataframe_sorted.iloc[i]['population_2']<pop_limit_switch):\n",
    "                return dataframe_sorted.iloc[i]['county_id']\n",
    "                break"
   ]
  },
  {
   "cell_type": "markdown",
   "id": "3c08ade6",
   "metadata": {},
   "source": [
    "switch function pseudo code\n",
    "\n",
    "- input list of dataframes\n",
    "- for each dataframe in the list of dataframes,\n",
    "    - take the dataframe and sort it based on relative distance\n",
    "    - check if any of the border counties in that dataframe satisfy the population threshold and num_switches threshold\n",
    "    - if yes, choose the first county that works\n",
    "    - if not, go to the next dataframe in the list of dataframes"
   ]
  },
  {
   "cell_type": "code",
   "execution_count": 27,
   "id": "0dc3a32c",
   "metadata": {},
   "outputs": [],
   "source": [
    "# helper function\n",
    "# input is a shapefile with attributes of single counties (and columns as labeled below)\n",
    "#       usually:  shapef_ia_step3\n",
    "# output is a shapefile with attributes of districts\n",
    "#       usually: shapef_step3_dissolved\n",
    "\n",
    "def dissolve_by_district(county_shapefile):\n",
    "    dissolved_shapefile = county_shapefile.dissolve(\n",
    "        by=\"DISTRICT\",\n",
    "        aggfunc = {\n",
    "            \"population\": \"sum\",\n",
    "            \"xcentr_lon\": \"first\",  #dummy, since we'll recalculate\n",
    "            \"ycentr_lat\": \"first\",\n",
    "            #skip the county_id_string now since we aren't slicing it\n",
    "            # \"county_id_string\": \"sum\", #sum = concatenation here b/c string\n",
    "            \"DISTRICT\": \"first\"\n",
    "        }\n",
    "   \n",
    "    )\n",
    "\n",
    "    dissolved_shapefile['xcentr_lon'] = dissolved_shapefile.centroid.x\n",
    "    dissolved_shapefile['ycentr_lat'] = dissolved_shapefile.centroid.y\n",
    "\n",
    "    #the dissolve process makes the temp_district column into the index of the dataframe\n",
    "    #which then has issues when we iterate the process\n",
    "    #so dump the index for a dummy one now\n",
    "    dissolved_shapefile = dissolved_shapefile.reset_index(drop=True)\n",
    "\n",
    "    return dissolved_shapefile\n",
    "\n"
   ]
  },
  {
   "cell_type": "markdown",
   "id": "a906528e",
   "metadata": {},
   "source": [
    "## Main part of reallocation"
   ]
  },
  {
   "cell_type": "markdown",
   "id": "2a1d301c",
   "metadata": {},
   "source": [
    "Pseudo code for initial allocation and reallocation:\n",
    "(COMPLETED ON 9/20)\n",
    "\n",
    "1. Initial allocation (complete)\n",
    "    - Prep gpdf for initial allocation\n",
    "    - Create the dataframe with all 99 counties and their district assignments (shapef_ia_fordistricting)\n",
    "    - Treat all 99 counties as its own district\n",
    "    - Pick an initial random seed county and merge with its nearest neighbor\n",
    "    - Repeat above step until there are only 4 districts left\n",
    "    - Get dataframes for each district and convert to gpdf\n",
    "2. Process data from initial allocation\n",
    "    - Compute adjacency matrices for districts and population differences between districts (modules complete)\n",
    "    - Create dataframes for 99 counties with district information and districts with shapefile information (complete)\n",
    "3. Redistributing districts to balance out population\n",
    "    - Identify border counties for the pair of adjacent districts that have the greatest population difference (module complete)\n",
    "    - Identify county amongst border counties that satisfies mininum relative distance, population, and number of switches criteria (modules complete)\n",
    "    - Switch the county from the larger to the smaller district and update its district label in the shapef_ia_fordistricting dataframe\n",
    "    - Update populations in the districts and rerun steps 4-7 until populations of each district falls within specified size requirements"
   ]
  },
  {
   "cell_type": "markdown",
   "id": "c1d6328c",
   "metadata": {},
   "source": [
    "### Begin reallocation"
   ]
  },
  {
   "cell_type": "code",
   "execution_count": 28,
   "id": "c80bd595",
   "metadata": {},
   "outputs": [
    {
     "name": "stdout",
     "output_type": "stream",
     "text": [
      "Folder ./images already exists\n"
     ]
    }
   ],
   "source": [
    "import os       #mkdir\n",
    "\n",
    "# https://www.freecodecamp.org/news/creating-a-directory-in-python-how-to-create-a-folder/\n",
    "# specify the path for the directory – make sure to surround it with quotation marks\n",
    "path = './images'\n",
    "\n",
    "# check whether directory already exists\n",
    "if not os.path.exists(path):\n",
    "  os.mkdir(path)\n",
    "  print(\"Folder %s created!\" % path)\n",
    "else:\n",
    "  print(\"Folder %s already exists\" % path)"
   ]
  },
  {
   "cell_type": "code",
   "execution_count": 59,
   "id": "35cb1425",
   "metadata": {},
   "outputs": [],
   "source": [
    "# adding switch_count to county shapefile which we will be using\n",
    "shapef_counties_for_realloc = shapef_ia_fordistricting.copy()\n",
    "\n",
    "# make a column with num_switches\n",
    "shapef_counties_for_realloc['num_switches'] = np.zeros(shapef_counties_for_realloc.shape[0],dtype=int)\n",
    "\n",
    "#9/13 note: update names of shapef_ia_redist to make sure it's clear what is in the rows.\n",
    "# drop: 'NAME10' (was just \"2\" for most-recently-merged attribute)\n",
    "#       'COUNTYFP10' (concatenated FIPS code)\n",
    "#       'county_id'  (summed county ids) \n",
    "#       'temp_district'  (1 arbitrary \"root\" county code) \n",
    "shapef_ia_redist = shapef_ia_initialdistricting.drop(columns=['NAME10', 'COUNTYFP10','county_id','temp_district']).copy()\n",
    "\n",
    "# make a column with a district #, 1-4\n",
    "shapef_ia_redist['district_label'] = shapef_ia_redist.index + 1"
   ]
  },
  {
   "cell_type": "code",
   "execution_count": 60,
   "id": "16ebb90f",
   "metadata": {},
   "outputs": [],
   "source": [
    "list_of_districts=[]\n",
    "for i in range(4):\n",
    "    list_of_districts.append(shapef_ia_redist.iloc[[i]].reset_index(drop=True))\n",
    "#the identity overlay takes district n and splits it up by all counties\n",
    "# which fall inside it (from main, un-districted shapefile)\n",
    "#keep_geom_type=True   discards boundary points and lines from counties which only border the district\n",
    "#resulting dataframe columns: _1 stuff comes from parent (whole district)\n",
    "#                             _2 stuff comes from specific county\n",
    "list_of_counties=[]\n",
    "for i in range(4):\n",
    "    list_of_counties.append(list_of_districts[i].overlay(shapef_counties_for_realloc,how='identity',keep_geom_type=True))"
   ]
  },
  {
   "cell_type": "code",
   "execution_count": 76,
   "id": "30b5eb9c",
   "metadata": {},
   "outputs": [],
   "source": [
    "dataframe_movable_list=border_counties_df_func(shapef_ia_redist, list_of_districts, list_of_counties)[0]\n",
    "switches_threshold_list=switch_threshold_fun(dataframe_movable_list)\n",
    "pop_limit_switch_list=border_counties_df_func(shapef_ia_redist, list_of_districts, list_of_counties)[1]"
   ]
  },
  {
   "cell_type": "code",
   "execution_count": 88,
   "id": "847b1872",
   "metadata": {},
   "outputs": [
    {
     "data": {
      "text/plain": [
       "51"
      ]
     },
     "execution_count": 88,
     "metadata": {},
     "output_type": "execute_result"
    }
   ],
   "source": [
    "dataframe_sorted = dataframe_movable_list[0].sort_values('relative_distance',ascending=False)\n",
    "dataframe_sorted.shape[0]"
   ]
  },
  {
   "cell_type": "code",
   "execution_count": 86,
   "id": "e889070c",
   "metadata": {},
   "outputs": [
    {
     "data": {
      "text/plain": [
       "[937316.5, 923709.0, 139613.0, 126005.5, 13607.5]"
      ]
     },
     "execution_count": 86,
     "metadata": {},
     "output_type": "execute_result"
    }
   ],
   "source": [
    "pop_limit_switch_list"
   ]
  },
  {
   "cell_type": "code",
   "execution_count": 77,
   "id": "ba22331d",
   "metadata": {},
   "outputs": [
    {
     "data": {
      "text/plain": [
       "[0.0, 0.0, 0.0, 0.0, 0.0]"
      ]
     },
     "execution_count": 77,
     "metadata": {},
     "output_type": "execute_result"
    }
   ],
   "source": [
    "switches_threshold_list"
   ]
  },
  {
   "cell_type": "code",
   "execution_count": 85,
   "id": "42bea945",
   "metadata": {},
   "outputs": [
    {
     "data": {
      "text/plain": [
       "[    population_1   xcentr_lon_1  ycentr_lat_1  \\\n",
       " 0      2259766.0  556068.991335  4.676608e+06   \n",
       " 1      2259766.0  556068.991335  4.676608e+06   \n",
       " 2      2259766.0  556068.991335  4.676608e+06   \n",
       " 3      2259766.0  556068.991335  4.676608e+06   \n",
       " 4      2259766.0  556068.991335  4.676608e+06   \n",
       " 5      2259766.0  556068.991335  4.676608e+06   \n",
       " 6      2259766.0  556068.991335  4.676608e+06   \n",
       " 7      2259766.0  556068.991335  4.676608e+06   \n",
       " 8      2259766.0  556068.991335  4.676608e+06   \n",
       " 9      2259766.0  556068.991335  4.676608e+06   \n",
       " 10     2259766.0  556068.991335  4.676608e+06   \n",
       " 11     2259766.0  556068.991335  4.676608e+06   \n",
       " 12     2259766.0  556068.991335  4.676608e+06   \n",
       " 13     2259766.0  556068.991335  4.676608e+06   \n",
       " 14     2259766.0  556068.991335  4.676608e+06   \n",
       " 15     2259766.0  556068.991335  4.676608e+06   \n",
       " 16     2259766.0  556068.991335  4.676608e+06   \n",
       " 17     2259766.0  556068.991335  4.676608e+06   \n",
       " 18     2259766.0  556068.991335  4.676608e+06   \n",
       " 19     2259766.0  556068.991335  4.676608e+06   \n",
       " 20     2259766.0  556068.991335  4.676608e+06   \n",
       " 21     2259766.0  556068.991335  4.676608e+06   \n",
       " 22     2259766.0  556068.991335  4.676608e+06   \n",
       " 23     2259766.0  556068.991335  4.676608e+06   \n",
       " 24     2259766.0  556068.991335  4.676608e+06   \n",
       " 25     2259766.0  556068.991335  4.676608e+06   \n",
       " 26     2259766.0  556068.991335  4.676608e+06   \n",
       " 27     2259766.0  556068.991335  4.676608e+06   \n",
       " 28     2259766.0  556068.991335  4.676608e+06   \n",
       " 29     2259766.0  556068.991335  4.676608e+06   \n",
       " 30     2259766.0  556068.991335  4.676608e+06   \n",
       " 31     2259766.0  556068.991335  4.676608e+06   \n",
       " 32     2259766.0  556068.991335  4.676608e+06   \n",
       " 33     2259766.0  556068.991335  4.676608e+06   \n",
       " 34     2259766.0  556068.991335  4.676608e+06   \n",
       " 35     2259766.0  556068.991335  4.676608e+06   \n",
       " 36     2259766.0  556068.991335  4.676608e+06   \n",
       " 37     2259766.0  556068.991335  4.676608e+06   \n",
       " 38     2259766.0  556068.991335  4.676608e+06   \n",
       " 39     2259766.0  556068.991335  4.676608e+06   \n",
       " 40     2259766.0  556068.991335  4.676608e+06   \n",
       " 41     2259766.0  556068.991335  4.676608e+06   \n",
       " 42     2259766.0  556068.991335  4.676608e+06   \n",
       " 43     2259766.0  556068.991335  4.676608e+06   \n",
       " 44     2259766.0  556068.991335  4.676608e+06   \n",
       " 45     2259766.0  556068.991335  4.676608e+06   \n",
       " 46     2259766.0  556068.991335  4.676608e+06   \n",
       " 47     2259766.0  556068.991335  4.676608e+06   \n",
       " 48     2259766.0  556068.991335  4.676608e+06   \n",
       " 49     2259766.0  556068.991335  4.676608e+06   \n",
       " 50     2259766.0  556068.991335  4.676608e+06   \n",
       " \n",
       "                                    county_id_string_1     combined_label  \\\n",
       " 0   5055882843575347789107367684496337851133184465...  2259766 (dist 94)   \n",
       " 1   5055882843575347789107367684496337851133184465...  2259766 (dist 94)   \n",
       " 2   5055882843575347789107367684496337851133184465...  2259766 (dist 94)   \n",
       " 3   5055882843575347789107367684496337851133184465...  2259766 (dist 94)   \n",
       " 4   5055882843575347789107367684496337851133184465...  2259766 (dist 94)   \n",
       " 5   5055882843575347789107367684496337851133184465...  2259766 (dist 94)   \n",
       " 6   5055882843575347789107367684496337851133184465...  2259766 (dist 94)   \n",
       " 7   5055882843575347789107367684496337851133184465...  2259766 (dist 94)   \n",
       " 8   5055882843575347789107367684496337851133184465...  2259766 (dist 94)   \n",
       " 9   5055882843575347789107367684496337851133184465...  2259766 (dist 94)   \n",
       " 10  5055882843575347789107367684496337851133184465...  2259766 (dist 94)   \n",
       " 11  5055882843575347789107367684496337851133184465...  2259766 (dist 94)   \n",
       " 12  5055882843575347789107367684496337851133184465...  2259766 (dist 94)   \n",
       " 13  5055882843575347789107367684496337851133184465...  2259766 (dist 94)   \n",
       " 14  5055882843575347789107367684496337851133184465...  2259766 (dist 94)   \n",
       " 15  5055882843575347789107367684496337851133184465...  2259766 (dist 94)   \n",
       " 16  5055882843575347789107367684496337851133184465...  2259766 (dist 94)   \n",
       " 17  5055882843575347789107367684496337851133184465...  2259766 (dist 94)   \n",
       " 18  5055882843575347789107367684496337851133184465...  2259766 (dist 94)   \n",
       " 19  5055882843575347789107367684496337851133184465...  2259766 (dist 94)   \n",
       " 20  5055882843575347789107367684496337851133184465...  2259766 (dist 94)   \n",
       " 21  5055882843575347789107367684496337851133184465...  2259766 (dist 94)   \n",
       " 22  5055882843575347789107367684496337851133184465...  2259766 (dist 94)   \n",
       " 23  5055882843575347789107367684496337851133184465...  2259766 (dist 94)   \n",
       " 24  5055882843575347789107367684496337851133184465...  2259766 (dist 94)   \n",
       " 25  5055882843575347789107367684496337851133184465...  2259766 (dist 94)   \n",
       " 26  5055882843575347789107367684496337851133184465...  2259766 (dist 94)   \n",
       " 27  5055882843575347789107367684496337851133184465...  2259766 (dist 94)   \n",
       " 28  5055882843575347789107367684496337851133184465...  2259766 (dist 94)   \n",
       " 29  5055882843575347789107367684496337851133184465...  2259766 (dist 94)   \n",
       " 30  5055882843575347789107367684496337851133184465...  2259766 (dist 94)   \n",
       " 31  5055882843575347789107367684496337851133184465...  2259766 (dist 94)   \n",
       " 32  5055882843575347789107367684496337851133184465...  2259766 (dist 94)   \n",
       " 33  5055882843575347789107367684496337851133184465...  2259766 (dist 94)   \n",
       " 34  5055882843575347789107367684496337851133184465...  2259766 (dist 94)   \n",
       " 35  5055882843575347789107367684496337851133184465...  2259766 (dist 94)   \n",
       " 36  5055882843575347789107367684496337851133184465...  2259766 (dist 94)   \n",
       " 37  5055882843575347789107367684496337851133184465...  2259766 (dist 94)   \n",
       " 38  5055882843575347789107367684496337851133184465...  2259766 (dist 94)   \n",
       " 39  5055882843575347789107367684496337851133184465...  2259766 (dist 94)   \n",
       " 40  5055882843575347789107367684496337851133184465...  2259766 (dist 94)   \n",
       " 41  5055882843575347789107367684496337851133184465...  2259766 (dist 94)   \n",
       " 42  5055882843575347789107367684496337851133184465...  2259766 (dist 94)   \n",
       " 43  5055882843575347789107367684496337851133184465...  2259766 (dist 94)   \n",
       " 44  5055882843575347789107367684496337851133184465...  2259766 (dist 94)   \n",
       " 45  5055882843575347789107367684496337851133184465...  2259766 (dist 94)   \n",
       " 46  5055882843575347789107367684496337851133184465...  2259766 (dist 94)   \n",
       " 47  5055882843575347789107367684496337851133184465...  2259766 (dist 94)   \n",
       " 48  5055882843575347789107367684496337851133184465...  2259766 (dist 94)   \n",
       " 49  5055882843575347789107367684496337851133184465...  2259766 (dist 94)   \n",
       " 50  5055882843575347789107367684496337851133184465...  2259766 (dist 94)   \n",
       " \n",
       "     district_label COUNTYFP10       NAME10  population_2  county_id  \\\n",
       " 0              4.0        005    Allamakee         14061          2   \n",
       " 1              4.0        011       Benton         25575          5   \n",
       " 2              4.0        013   Black Hawk        131144          6   \n",
       " 3              4.0        015        Boone         26715          7   \n",
       " 4              4.0        017       Bremer         24988          8   \n",
       " 5              4.0        019     Buchanan         20565          9   \n",
       " 6              4.0        023       Butler         14334         11   \n",
       " 7              4.0        031        Cedar         18505         15   \n",
       " 8              4.0        033  Cerro Gordo         43127         16   \n",
       " 9              4.0        037    Chickasaw         12012         18   \n",
       " 10             4.0        043      Clayton         17043         21   \n",
       " 11             4.0        045      Clinton         46460         22   \n",
       " 12             4.0        055     Delaware         17488         27   \n",
       " 13             4.0        057   Des Moines         38910         28   \n",
       " 14             4.0        061      Dubuque         99266         30   \n",
       " 15             4.0        065      Fayette         19509         32   \n",
       " 16             4.0        067        Floyd         15627         33   \n",
       " 17             4.0        069     Franklin         10019         34   \n",
       " 18             4.0        073       Greene          8771         36   \n",
       " 19             4.0        075       Grundy         12329         37   \n",
       " 20             4.0        079     Hamilton         15039         39   \n",
       " 21             4.0        081      Hancock         10795         40   \n",
       " 22             4.0        083       Hardin         16878         41   \n",
       " 23             4.0        087        Henry         20482         43   \n",
       " 24             4.0        089       Howard          9469         44   \n",
       " 25             4.0        091     Humboldt          9597         45   \n",
       " 26             4.0        095         Iowa         16662         47   \n",
       " 27             4.0        097      Jackson         19485         48   \n",
       " 28             4.0        099       Jasper         37813         49   \n",
       " 29             4.0        101    Jefferson         15663         50   \n",
       " 30             4.0        103      Johnson        152854         51   \n",
       " 31             4.0        105        Jones         20646         52   \n",
       " 32             4.0        107       Keokuk         10033         53   \n",
       " 33             4.0        111          Lee         33555         55   \n",
       " 34             4.0        113         Linn        230299         56   \n",
       " 35             4.0        115       Louisa         10837         57   \n",
       " 36             4.0        127     Marshall         40105         63   \n",
       " 37             4.0        131     Mitchell         10565         65   \n",
       " 38             4.0        139    Muscatine         43235         69   \n",
       " 39             4.0        153         Polk        492401         76   \n",
       " 40             4.0        157    Poweshiek         18662         78   \n",
       " 41             4.0        163        Scott        174669         81   \n",
       " 42             4.0        169        Story         98537         84   \n",
       " 43             4.0        171         Tama         17135         85   \n",
       " 44             4.0        177    Van Buren          7203         88   \n",
       " 45             4.0        183   Washington         22565         91   \n",
       " 46             4.0        187      Webster         36999         93   \n",
       " 47             4.0        189    Winnebago         10679         94   \n",
       " 48             4.0        191   Winneshiek         20070         95   \n",
       " 49             4.0        195        Worth          7443         97   \n",
       " 50             4.0        197       Wright         12943         98   \n",
       " \n",
       "      xcentr_lon_2  ycentr_lat_2 county_id_string_2  temp_district  \\\n",
       " 0   631594.469070  4.793646e+06                 02              2   \n",
       " 1   577281.033972  4.659083e+06                 05              5   \n",
       " 2   556821.315153  4.702196e+06                 06              6   \n",
       " 3   422884.534346  4.654246e+06                 07              7   \n",
       " 4   555787.494078  4.736008e+06                 08              8   \n",
       " 5   595537.545341  4.702694e+06                 09              9   \n",
       " 6   517175.399350  4.731019e+06                 11             11   \n",
       " 7   655223.617473  4.626175e+06                 15             15   \n",
       " 8   478769.097865  4.769896e+06                 16             16   \n",
       " 9   555562.400240  4.767703e+06                 18             18   \n",
       " 10  635543.055590  4.744893e+06                 21             21   \n",
       " 11  704731.022201  4.641412e+06                 22             22   \n",
       " 12  634213.382185  4.703379e+06                 27             27   \n",
       " 13  653118.364381  4.531813e+06                 28             28   \n",
       " 14  674084.789590  4.703998e+06                 30             30   \n",
       " 15  594408.265089  4.746185e+06                 32             32   \n",
       " 16  517181.397633  4.767486e+06                 33             33   \n",
       " 17  478513.530477  4.731140e+06                 34             34   \n",
       " 18  384380.986817  4.654735e+06                 36             36   \n",
       " 19  517160.590383  4.694411e+06                 37             37   \n",
       " 20  441819.549618  4.692621e+06                 39             39   \n",
       " 21  440229.528385  4.770161e+06                 40             40   \n",
       " 22  480213.018196  4.692419e+06                 41             41   \n",
       " 23  622432.331642  4.538426e+06                 43             43   \n",
       " 24  555331.258480  4.800658e+06                 44             44   \n",
       " 25  401247.022382  4.736698e+06                 45             45   \n",
       " 26  577771.121292  4.615363e+06                 47             47   \n",
       " 27  700371.077930  4.671696e+06                 48             48   \n",
       " 28  495526.676875  4.614916e+06                 49             49   \n",
       " 29  588359.842485  4.542814e+06                 50             50   \n",
       " 30  617539.114607  4.614261e+06                 51             51   \n",
       " 31  654459.932313  4.664918e+06                 52             52   \n",
       " 32  568725.727252  4.576426e+06                 53             53   \n",
       " 33  628589.748795  4.500116e+06                 55             55   \n",
       " 34  615889.070269  4.659473e+06                 56             56   \n",
       " 35  645903.424835  4.564470e+06                 57             57   \n",
       " 36  500101.752483  4.653748e+06                 63             63   \n",
       " 37  517096.028752  4.800413e+06                 65             65   \n",
       " 38  657549.953348  4.594203e+06                 69             69   \n",
       " 39  452270.756190  4.615009e+06                 76             76   \n",
       " 40  538993.297726  4.615060e+06                 78             78   \n",
       " 41  697959.226117  4.612214e+06                 81             81   \n",
       " 42  461507.686309  4.653896e+06                 84             84   \n",
       " 43  538665.775941  4.658725e+06                 85             85   \n",
       " 44  588636.937325  4.511891e+06                 88             88   \n",
       " 45  607283.253656  4.576796e+06                 91             91   \n",
       " 46  402790.030677  4.697953e+06                 93             93   \n",
       " 47  440524.162282  4.803006e+06                 94             94   \n",
       " 48  593803.522688  4.793727e+06                 95             95   \n",
       " 49  478869.195738  4.802759e+06                 97             97   \n",
       " 50  439820.100386  4.731432e+06                 98             98   \n",
       " \n",
       "     num_switches                                           geometry  \\\n",
       " 0              0  POLYGON ((612338.270 4817354.605, 612512.913 4...   \n",
       " 1              0  POLYGON ((586720.225 4634976.034, 586537.663 4...   \n",
       " 2              0  POLYGON ((546286.490 4721244.673, 547451.581 4...   \n",
       " 3              0  POLYGON ((432299.403 4634933.603, 432170.110 4...   \n",
       " 4              0  POLYGON ((565649.450 4721392.645, 565624.609 4...   \n",
       " 5              0  POLYGON ((604982.657 4683499.388, 604520.311 4...   \n",
       " 6              0  POLYGON ((507119.303 4711542.896, 506682.073 4...   \n",
       " 7              0  POLYGON ((658777.386 4606838.367, 658759.057 4...   \n",
       " 8              0  POLYGON ((478103.342 4750603.016, 477877.064 4...   \n",
       " 9              0  POLYGON ((574797.933 4769890.600, 574805.302 4...   \n",
       " 10             0  POLYGON ((648381.409 4771192.237, 648389.076 4...   \n",
       " 11             0  POLYGON ((735592.082 4657325.771, 735645.901 4...   \n",
       " 12             0  POLYGON ((615303.967 4702830.893, 615303.964 4...   \n",
       " 13             0  POLYGON ((672281.894 4548799.407, 672300.491 4...   \n",
       " 14             0  POLYGON ((672353.075 4726865.464, 672386.443 4...   \n",
       " 15             0  POLYGON ((604220.252 4770686.057, 604263.239 4...   \n",
       " 16             0  POLYGON ((516397.822 4750543.382, 516307.703 4...   \n",
       " 17             0  POLYGON ((487995.962 4711604.465, 487900.164 4...   \n",
       " 18             0  POLYGON ((403162.927 4635249.827, 403139.297 4...   \n",
       " 19             0  POLYGON ((499677.018 4702033.225, 499676.607 4...   \n",
       " 20             0  POLYGON ((432293.657 4673374.575, 432034.800 4...   \n",
       " 21             0  POLYGON ((420720.842 4751151.316, 420723.653 4...   \n",
       " 22             0  POLYGON ((488201.189 4711602.449, 488286.568 4...   \n",
       " 23             0  POLYGON ((627489.004 4519128.027, 627241.378 4...   \n",
       " 24             0  POLYGON ((536126.949 4816464.015, 536202.876 4...   \n",
       " 25             0  POLYGON ((381703.942 4722528.038, 381707.790 4...   \n",
       " 26             0  POLYGON ((558374.850 4605773.698, 558374.809 4...   \n",
       " 27             0  POLYGON ((708081.199 4695099.391, 708118.559 4...   \n",
       " 28             0  POLYGON ((519162.040 4595270.080, 519155.281 4...   \n",
       " 29             0  POLYGON ((569146.546 4528000.098, 569146.013 4...   \n",
       " 30             0  POLYGON ((635814.034 4625518.482, 635814.854 4...   \n",
       " 31             0  POLYGON ((654406.383 4684312.643, 654426.975 4...   \n",
       " 32             0  POLYGON ((568704.654 4557137.643, 568440.803 4...   \n",
       " 33             0  POLYGON ((658918.294 4504479.014, 658825.280 4...   \n",
       " 34             0  POLYGON ((606259.399 4635248.642, 606136.078 4...   \n",
       " 35             0  POLYGON ((661327.413 4577578.435, 661326.427 4...   \n",
       " 36             0  POLYGON ((519277.027 4663447.354, 519277.035 4...   \n",
       " 37             0  POLYGON ((498422.962 4816309.914, 498855.967 4...   \n",
       " 38             0  POLYGON ((684741.449 4591423.876, 684674.099 4...   \n",
       " 39             0  POLYGON ((472579.536 4594315.204, 472586.252 4...   \n",
       " 40             0  POLYGON ((548999.907 4595490.971, 548924.152 4...   \n",
       " 41             0  POLYGON ((723222.567 4623143.701, 723213.437 4...   \n",
       " 42             0  POLYGON ((451787.847 4634752.765, 451671.985 4...   \n",
       " 43             0  POLYGON ((519341.581 4653861.641, 519339.357 4...   \n",
       " 44             0  POLYGON ((608292.148 4495311.571, 607506.427 4...   \n",
       " 45             0  POLYGON ((602496.074 4596291.891, 602510.761 4...   \n",
       " 46             0  POLYGON ((384639.355 4673968.633, 384639.641 4...   \n",
       " 47             0  POLYGON ((421242.976 4790408.304, 421244.483 4...   \n",
       " 48             0  POLYGON ((574394.202 4816823.274, 574419.054 4...   \n",
       " 49             0  POLYGON ((460172.730 4816416.152, 460212.500 4...   \n",
       " 50             0  POLYGON ((420586.069 4741251.170, 420588.521 4...   \n",
       " \n",
       "     relative_distance  \n",
       " 0                 0.0  \n",
       " 1                 0.0  \n",
       " 2                 0.0  \n",
       " 3                 0.0  \n",
       " 4                 0.0  \n",
       " 5                 0.0  \n",
       " 6                 0.0  \n",
       " 7                 0.0  \n",
       " 8                 0.0  \n",
       " 9                 0.0  \n",
       " 10                0.0  \n",
       " 11                0.0  \n",
       " 12                0.0  \n",
       " 13                0.0  \n",
       " 14                0.0  \n",
       " 15                0.0  \n",
       " 16                0.0  \n",
       " 17                0.0  \n",
       " 18                0.0  \n",
       " 19                0.0  \n",
       " 20                0.0  \n",
       " 21                0.0  \n",
       " 22                0.0  \n",
       " 23                0.0  \n",
       " 24                0.0  \n",
       " 25                0.0  \n",
       " 26                0.0  \n",
       " 27                0.0  \n",
       " 28                0.0  \n",
       " 29                0.0  \n",
       " 30                0.0  \n",
       " 31                0.0  \n",
       " 32                0.0  \n",
       " 33                0.0  \n",
       " 34                0.0  \n",
       " 35                0.0  \n",
       " 36                0.0  \n",
       " 37                0.0  \n",
       " 38                0.0  \n",
       " 39                0.0  \n",
       " 40                0.0  \n",
       " 41                0.0  \n",
       " 42                0.0  \n",
       " 43                0.0  \n",
       " 44                0.0  \n",
       " 45                0.0  \n",
       " 46                0.0  \n",
       " 47                0.0  \n",
       " 48                0.0  \n",
       " 49                0.0  \n",
       " 50                0.0  ,\n",
       "    population_1   xcentr_lon_1  ycentr_lat_1  \\\n",
       " 0     2259766.0  556068.991335  4.676608e+06   \n",
       " 1     2259766.0  556068.991335  4.676608e+06   \n",
       " 2     2259766.0  556068.991335  4.676608e+06   \n",
       " 3     2259766.0  556068.991335  4.676608e+06   \n",
       " 4     2259766.0  556068.991335  4.676608e+06   \n",
       " 5     2259766.0  556068.991335  4.676608e+06   \n",
       " \n",
       "                                   county_id_string_1     combined_label  \\\n",
       " 0  5055882843575347789107367684496337851133184465...  2259766 (dist 94)   \n",
       " 1  5055882843575347789107367684496337851133184465...  2259766 (dist 94)   \n",
       " 2  5055882843575347789107367684496337851133184465...  2259766 (dist 94)   \n",
       " 3  5055882843575347789107367684496337851133184465...  2259766 (dist 94)   \n",
       " 4  5055882843575347789107367684496337851133184465...  2259766 (dist 94)   \n",
       " 5  5055882843575347789107367684496337851133184465...  2259766 (dist 94)   \n",
       " \n",
       "    district_label COUNTYFP10     NAME10  population_2  county_id  \\\n",
       " 0             4.0        073     Greene          8771         36   \n",
       " 1             4.0        081    Hancock         10795         40   \n",
       " 2             4.0        091   Humboldt          9597         45   \n",
       " 3             4.0        187    Webster         36999         93   \n",
       " 4             4.0        189  Winnebago         10679         94   \n",
       " 5             4.0        197     Wright         12943         98   \n",
       " \n",
       "     xcentr_lon_2  ycentr_lat_2 county_id_string_2  temp_district  \\\n",
       " 0  384380.986817  4.654735e+06                 36             36   \n",
       " 1  440229.528385  4.770161e+06                 40             40   \n",
       " 2  401247.022382  4.736698e+06                 45             45   \n",
       " 3  402790.030677  4.697953e+06                 93             93   \n",
       " 4  440524.162282  4.803006e+06                 94             94   \n",
       " 5  439820.100386  4.731432e+06                 98             98   \n",
       " \n",
       "    num_switches                                           geometry  \\\n",
       " 0             0  POLYGON ((403162.927 4635249.827, 403139.297 4...   \n",
       " 1             0  POLYGON ((420720.842 4751151.316, 420723.653 4...   \n",
       " 2             0  POLYGON ((381703.942 4722528.038, 381707.790 4...   \n",
       " 3             0  POLYGON ((384639.355 4673968.633, 384639.641 4...   \n",
       " 4             0  POLYGON ((421242.976 4790408.304, 421244.483 4...   \n",
       " 5             0  POLYGON ((420586.069 4741251.170, 420588.521 4...   \n",
       " \n",
       "    relative_distance  \n",
       " 0       64064.269275  \n",
       " 1       11205.947563  \n",
       " 2       72556.467270  \n",
       " 3       53761.785385  \n",
       " 4       20917.464167  \n",
       " 5       -3464.653363  ,\n",
       "     population_1   xcentr_lon_1  ycentr_lat_1  \\\n",
       " 0       412348.0  421801.425712  4.546914e+06   \n",
       " 1       412348.0  421801.425712  4.546914e+06   \n",
       " 2       412348.0  421801.425712  4.546914e+06   \n",
       " 3       412348.0  421801.425712  4.546914e+06   \n",
       " 4       412348.0  421801.425712  4.546914e+06   \n",
       " 5       412348.0  421801.425712  4.546914e+06   \n",
       " 6       412348.0  421801.425712  4.546914e+06   \n",
       " 7       412348.0  421801.425712  4.546914e+06   \n",
       " 8       412348.0  421801.425712  4.546914e+06   \n",
       " 9       412348.0  421801.425712  4.546914e+06   \n",
       " 10      412348.0  421801.425712  4.546914e+06   \n",
       " 11      412348.0  421801.425712  4.546914e+06   \n",
       " 12      412348.0  421801.425712  4.546914e+06   \n",
       " 13      412348.0  421801.425712  4.546914e+06   \n",
       " 14      412348.0  421801.425712  4.546914e+06   \n",
       " 15      412348.0  421801.425712  4.546914e+06   \n",
       " 16      412348.0  421801.425712  4.546914e+06   \n",
       " 17      412348.0  421801.425712  4.546914e+06   \n",
       " 18      412348.0  421801.425712  4.546914e+06   \n",
       " 19      412348.0  421801.425712  4.546914e+06   \n",
       " 20      412348.0  421801.425712  4.546914e+06   \n",
       " 21      412348.0  421801.425712  4.546914e+06   \n",
       " 22      412348.0  421801.425712  4.546914e+06   \n",
       " \n",
       "                                 county_id_string_1    combined_label  \\\n",
       " 0   1926589261620367258924380079870186609035646872  412348 (dist 61)   \n",
       " 1   1926589261620367258924380079870186609035646872  412348 (dist 61)   \n",
       " 2   1926589261620367258924380079870186609035646872  412348 (dist 61)   \n",
       " 3   1926589261620367258924380079870186609035646872  412348 (dist 61)   \n",
       " 4   1926589261620367258924380079870186609035646872  412348 (dist 61)   \n",
       " 5   1926589261620367258924380079870186609035646872  412348 (dist 61)   \n",
       " 6   1926589261620367258924380079870186609035646872  412348 (dist 61)   \n",
       " 7   1926589261620367258924380079870186609035646872  412348 (dist 61)   \n",
       " 8   1926589261620367258924380079870186609035646872  412348 (dist 61)   \n",
       " 9   1926589261620367258924380079870186609035646872  412348 (dist 61)   \n",
       " 10  1926589261620367258924380079870186609035646872  412348 (dist 61)   \n",
       " 11  1926589261620367258924380079870186609035646872  412348 (dist 61)   \n",
       " 12  1926589261620367258924380079870186609035646872  412348 (dist 61)   \n",
       " 13  1926589261620367258924380079870186609035646872  412348 (dist 61)   \n",
       " 14  1926589261620367258924380079870186609035646872  412348 (dist 61)   \n",
       " 15  1926589261620367258924380079870186609035646872  412348 (dist 61)   \n",
       " 16  1926589261620367258924380079870186609035646872  412348 (dist 61)   \n",
       " 17  1926589261620367258924380079870186609035646872  412348 (dist 61)   \n",
       " 18  1926589261620367258924380079870186609035646872  412348 (dist 61)   \n",
       " 19  1926589261620367258924380079870186609035646872  412348 (dist 61)   \n",
       " 20  1926589261620367258924380079870186609035646872  412348 (dist 61)   \n",
       " 21  1926589261620367258924380079870186609035646872  412348 (dist 61)   \n",
       " 22  1926589261620367258924380079870186609035646872  412348 (dist 61)   \n",
       " \n",
       "     district_label COUNTYFP10      NAME10  population_2  county_id  \\\n",
       " 0              2.0        001       Adair          7496          0   \n",
       " 1              2.0        003       Adams          3704          1   \n",
       " 2              2.0        007   Appanoose         12317          3   \n",
       " 3              2.0        039      Clarke          9748         19   \n",
       " 4              2.0        049      Dallas         99678         24   \n",
       " 5              2.0        051       Davis          9110         25   \n",
       " 6              2.0        053     Decatur          7645         26   \n",
       " 7              2.0        071     Fremont          6605         35   \n",
       " 8              2.0        077     Guthrie         10623         38   \n",
       " 9              2.0        117       Lucas          8634         58   \n",
       " 10             2.0        121     Madison         16548         60   \n",
       " 11             2.0        123     Mahaska         22190         61   \n",
       " 12             2.0        125      Marion         33414         62   \n",
       " 13             2.0        129       Mills         14484         64   \n",
       " 14             2.0        135      Monroe          7577         67   \n",
       " 15             2.0        137  Montgomery         10330         68   \n",
       " 16             2.0        145        Page         15211         72   \n",
       " 17             2.0        159    Ringgold          4663         79   \n",
       " 18             2.0        173      Taylor          5896         86   \n",
       " 19             2.0        175       Union         12138         87   \n",
       " 20             2.0        179     Wapello         35437         89   \n",
       " 21             2.0        181      Warren         52403         90   \n",
       " 22             2.0        185       Wayne          6497         92   \n",
       " \n",
       "      xcentr_lon_2  ycentr_lat_2 county_id_string_2  temp_district  \\\n",
       " 0   376909.476792  4.576509e+06                 00              0   \n",
       " 1   357154.753953  4.543364e+06                 01              1   \n",
       " 2   511092.713138  4.510250e+06                 03              3   \n",
       " 3   433994.808217  4.542276e+06                 19             19   \n",
       " 4   413469.318100  4.615303e+06                 24             24   \n",
       " 5   549832.529191  4.510912e+06                 25             25   \n",
       " 6   433609.836981  4.509930e+06                 26             26   \n",
       " 7   280092.499127  4.513775e+06                 35             35   \n",
       " 8   375073.739592  4.615744e+06                 38             38   \n",
       " 9   472450.546237  4.542069e+06                 58             58   \n",
       " 10  415016.545561  4.575959e+06                 60             60   \n",
       " 11  530046.850345  4.576023e+06                 61             61   \n",
       " 12  491679.631698  4.575882e+06                 62             62   \n",
       " 13  279643.041904  4.545781e+06                 64             64   \n",
       " 14  511013.450703  4.542070e+06                 67             67   \n",
       " 15  318720.988040  4.544342e+06                 68             68   \n",
       " 16  318449.850722  4.512018e+06                 72             72   \n",
       " 17  394960.487614  4.510101e+06                 79             79   \n",
       " 18  356761.132598  4.510988e+06                 86             86   \n",
       " 19  395556.121649  4.542578e+06                 87             87   \n",
       " 20  549643.630373  4.542319e+06                 89             89   \n",
       " 21  453028.987408  4.576021e+06                 90             90   \n",
       " 22  472359.455457  4.509883e+06                 92             92   \n",
       " \n",
       "     num_switches                                           geometry  \\\n",
       " 0              0  POLYGON ((357330.639 4557717.670, 357335.500 4...   \n",
       " 1              0  POLYGON ((338297.256 4558143.360, 338298.263 4...   \n",
       " 2              0  POLYGON ((530528.621 4493399.353, 529805.371 4...   \n",
       " 3              0  POLYGON ((414634.176 4538214.957, 414642.787 4...   \n",
       " 4              0  POLYGON ((393904.334 4635356.145, 393914.045 4...   \n",
       " 5              0  POLYGON ((569146.555 4527927.270, 569148.676 4...   \n",
       " 6              0  POLYGON ((452694.196 4492297.318, 452675.686 4...   \n",
       " 7              0  POLYGON ((299077.679 4494899.184, 298962.932 4...   \n",
       " 8              0  POLYGON ((358069.033 4596159.419, 358072.133 4...   \n",
       " 9              0  POLYGON ((453173.467 4537395.424, 453175.225 4...   \n",
       " 10             0  POLYGON ((414100.917 4556666.470, 413312.802 4...   \n",
       " 11             0  POLYGON ((510946.963 4595217.412, 510948.132 4...   \n",
       " 12             0  POLYGON ((472582.577 4593335.988, 472579.978 4...   \n",
       " 13             0  POLYGON ((262952.247 4531795.749, 262800.679 4...   \n",
       " 14             0  POLYGON ((501380.103 4556606.102, 501535.061 4...   \n",
       " 15             0  POLYGON ((300039.895 4559258.949, 300241.840 4...   \n",
       " 16             0  POLYGON ((327405.142 4493727.633, 327366.139 4...   \n",
       " 17             0  POLYGON ((413996.789 4491953.713, 413922.278 4...   \n",
       " 18             0  POLYGON ((375354.397 4492157.003, 375291.238 4...   \n",
       " 19             0  POLYGON ((386482.507 4557117.921, 386483.514 4...   \n",
       " 20             0  POLYGON ((549502.916 4556900.635, 549762.831 4...   \n",
       " 21             0  POLYGON ((434159.195 4595888.266, 434263.344 4...   \n",
       " 22             0  POLYGON ((491661.674 4492578.566, 491656.257 4...   \n",
       " \n",
       "     relative_distance  \n",
       " 0                 0.0  \n",
       " 1                 0.0  \n",
       " 2                 0.0  \n",
       " 3                 0.0  \n",
       " 4                 0.0  \n",
       " 5                 0.0  \n",
       " 6                 0.0  \n",
       " 7                 0.0  \n",
       " 8                 0.0  \n",
       " 9                 0.0  \n",
       " 10                0.0  \n",
       " 11                0.0  \n",
       " 12                0.0  \n",
       " 13                0.0  \n",
       " 14                0.0  \n",
       " 15                0.0  \n",
       " 16                0.0  \n",
       " 17                0.0  \n",
       " 18                0.0  \n",
       " 19                0.0  \n",
       " 20                0.0  \n",
       " 21                0.0  \n",
       " 22                0.0  ,\n",
       "    population_1   xcentr_lon_1  ycentr_lat_1  \\\n",
       " 0      385133.0  307830.538703  4.732347e+06   \n",
       " 1      385133.0  307830.538703  4.732347e+06   \n",
       " \n",
       "                            county_id_string_1    combined_label  \\\n",
       " 0  041346802366961210201729315473757470715983  385133 (dist 74)   \n",
       " 1  041346802366961210201729315473757470715983  385133 (dist 74)   \n",
       " \n",
       "    district_label COUNTYFP10   NAME10  population_2  county_id   xcentr_lon_2  \\\n",
       " 0             3.0        009  Audubon          5674          4  341387.505752   \n",
       " 1             3.0        027  Carroll         20760         13  345996.381197   \n",
       " \n",
       "    ycentr_lat_2 county_id_string_2  temp_district  num_switches  \\\n",
       " 0  4.616499e+06                 04              4             0   \n",
       " 1  4.655466e+06                 13             13             0   \n",
       " \n",
       "                                             geometry  relative_distance  \n",
       " 0  POLYGON ((325806.676 4617350.979, 325806.682 4...       14268.242611  \n",
       " 1  POLYGON ((365546.254 4674282.716, 365545.318 4...      -46567.348359  ,\n",
       "    population_1   xcentr_lon_1  ycentr_lat_1  \\\n",
       " 0      412348.0  421801.425712  4.546914e+06   \n",
       " 1      412348.0  421801.425712  4.546914e+06   \n",
       " 2      412348.0  421801.425712  4.546914e+06   \n",
       " 3      412348.0  421801.425712  4.546914e+06   \n",
       " 4      412348.0  421801.425712  4.546914e+06   \n",
       " 5      412348.0  421801.425712  4.546914e+06   \n",
       " 6      412348.0  421801.425712  4.546914e+06   \n",
       " 7      412348.0  421801.425712  4.546914e+06   \n",
       " \n",
       "                                county_id_string_1    combined_label  \\\n",
       " 0  1926589261620367258924380079870186609035646872  412348 (dist 61)   \n",
       " 1  1926589261620367258924380079870186609035646872  412348 (dist 61)   \n",
       " 2  1926589261620367258924380079870186609035646872  412348 (dist 61)   \n",
       " 3  1926589261620367258924380079870186609035646872  412348 (dist 61)   \n",
       " 4  1926589261620367258924380079870186609035646872  412348 (dist 61)   \n",
       " 5  1926589261620367258924380079870186609035646872  412348 (dist 61)   \n",
       " 6  1926589261620367258924380079870186609035646872  412348 (dist 61)   \n",
       " 7  1926589261620367258924380079870186609035646872  412348 (dist 61)   \n",
       " \n",
       "    district_label COUNTYFP10   NAME10  population_2  county_id   xcentr_lon_2  \\\n",
       " 0             2.0        049   Dallas         99678         24  413469.318100   \n",
       " 1             2.0        051    Davis          9110         25  549832.529191   \n",
       " 2             2.0        077  Guthrie         10623         38  375073.739592   \n",
       " 3             2.0        121  Madison         16548         60  415016.545561   \n",
       " 4             2.0        123  Mahaska         22190         61  530046.850345   \n",
       " 5             2.0        125   Marion         33414         62  491679.631698   \n",
       " 6             2.0        179  Wapello         35437         89  549643.630373   \n",
       " 7             2.0        181   Warren         52403         90  453028.987408   \n",
       " \n",
       "    ycentr_lat_2 county_id_string_2  temp_district  num_switches  \\\n",
       " 0  4.615303e+06                 24             24             0   \n",
       " 1  4.510912e+06                 25             25             0   \n",
       " 2  4.615744e+06                 38             38             0   \n",
       " 3  4.575959e+06                 60             60             0   \n",
       " 4  4.576023e+06                 61             61             0   \n",
       " 5  4.575882e+06                 62             62             0   \n",
       " 6  4.542319e+06                 89             89             0   \n",
       " 7  4.576021e+06                 90             90             0   \n",
       " \n",
       "                                             geometry  relative_distance  \n",
       " 0  POLYGON ((393904.334 4635356.145, 393914.045 4...      -86324.378554  \n",
       " 1  POLYGON ((569146.555 4527927.270, 569148.676 4...      -32816.238242  \n",
       " 2  POLYGON ((358069.033 4596159.419, 358072.133 4...     -107762.261557  \n",
       " 3  POLYGON ((414100.917 4556666.470, 413312.802 4...     -143452.901391  \n",
       " 4  POLYGON ((510946.963 4595217.412, 510948.132 4...        8194.235250  \n",
       " 5  POLYGON ((472582.577 4593335.988, 472579.978 4...      -43903.620109  \n",
       " 6  POLYGON ((549502.916 4556900.635, 549762.831 4...       -6517.555680  \n",
       " 7  POLYGON ((434159.195 4595888.266, 434263.344 4...     -101308.006366  ]"
      ]
     },
     "execution_count": 85,
     "metadata": {},
     "output_type": "execute_result"
    }
   ],
   "source": [
    "dataframe_movable_list"
   ]
  },
  {
   "cell_type": "code",
   "execution_count": 80,
   "id": "b7df6381",
   "metadata": {},
   "outputs": [
    {
     "name": "stdout",
     "output_type": "stream",
     "text": [
      "    population_1   xcentr_lon_1  ycentr_lat_1  \\\n",
      "0      2259766.0  556068.991335  4.676608e+06   \n",
      "38     2259766.0  556068.991335  4.676608e+06   \n",
      "28     2259766.0  556068.991335  4.676608e+06   \n",
      "29     2259766.0  556068.991335  4.676608e+06   \n",
      "30     2259766.0  556068.991335  4.676608e+06   \n",
      "31     2259766.0  556068.991335  4.676608e+06   \n",
      "32     2259766.0  556068.991335  4.676608e+06   \n",
      "33     2259766.0  556068.991335  4.676608e+06   \n",
      "34     2259766.0  556068.991335  4.676608e+06   \n",
      "35     2259766.0  556068.991335  4.676608e+06   \n",
      "36     2259766.0  556068.991335  4.676608e+06   \n",
      "37     2259766.0  556068.991335  4.676608e+06   \n",
      "39     2259766.0  556068.991335  4.676608e+06   \n",
      "26     2259766.0  556068.991335  4.676608e+06   \n",
      "40     2259766.0  556068.991335  4.676608e+06   \n",
      "41     2259766.0  556068.991335  4.676608e+06   \n",
      "42     2259766.0  556068.991335  4.676608e+06   \n",
      "43     2259766.0  556068.991335  4.676608e+06   \n",
      "44     2259766.0  556068.991335  4.676608e+06   \n",
      "45     2259766.0  556068.991335  4.676608e+06   \n",
      "46     2259766.0  556068.991335  4.676608e+06   \n",
      "47     2259766.0  556068.991335  4.676608e+06   \n",
      "48     2259766.0  556068.991335  4.676608e+06   \n",
      "49     2259766.0  556068.991335  4.676608e+06   \n",
      "27     2259766.0  556068.991335  4.676608e+06   \n",
      "25     2259766.0  556068.991335  4.676608e+06   \n",
      "1      2259766.0  556068.991335  4.676608e+06   \n",
      "12     2259766.0  556068.991335  4.676608e+06   \n",
      "2      2259766.0  556068.991335  4.676608e+06   \n",
      "3      2259766.0  556068.991335  4.676608e+06   \n",
      "4      2259766.0  556068.991335  4.676608e+06   \n",
      "5      2259766.0  556068.991335  4.676608e+06   \n",
      "6      2259766.0  556068.991335  4.676608e+06   \n",
      "7      2259766.0  556068.991335  4.676608e+06   \n",
      "8      2259766.0  556068.991335  4.676608e+06   \n",
      "9      2259766.0  556068.991335  4.676608e+06   \n",
      "10     2259766.0  556068.991335  4.676608e+06   \n",
      "11     2259766.0  556068.991335  4.676608e+06   \n",
      "13     2259766.0  556068.991335  4.676608e+06   \n",
      "24     2259766.0  556068.991335  4.676608e+06   \n",
      "14     2259766.0  556068.991335  4.676608e+06   \n",
      "15     2259766.0  556068.991335  4.676608e+06   \n",
      "16     2259766.0  556068.991335  4.676608e+06   \n",
      "17     2259766.0  556068.991335  4.676608e+06   \n",
      "18     2259766.0  556068.991335  4.676608e+06   \n",
      "19     2259766.0  556068.991335  4.676608e+06   \n",
      "20     2259766.0  556068.991335  4.676608e+06   \n",
      "21     2259766.0  556068.991335  4.676608e+06   \n",
      "22     2259766.0  556068.991335  4.676608e+06   \n",
      "23     2259766.0  556068.991335  4.676608e+06   \n",
      "50     2259766.0  556068.991335  4.676608e+06   \n",
      "\n",
      "                                   county_id_string_1     combined_label  \\\n",
      "0   5055882843575347789107367684496337851133184465...  2259766 (dist 94)   \n",
      "38  5055882843575347789107367684496337851133184465...  2259766 (dist 94)   \n",
      "28  5055882843575347789107367684496337851133184465...  2259766 (dist 94)   \n",
      "29  5055882843575347789107367684496337851133184465...  2259766 (dist 94)   \n",
      "30  5055882843575347789107367684496337851133184465...  2259766 (dist 94)   \n",
      "31  5055882843575347789107367684496337851133184465...  2259766 (dist 94)   \n",
      "32  5055882843575347789107367684496337851133184465...  2259766 (dist 94)   \n",
      "33  5055882843575347789107367684496337851133184465...  2259766 (dist 94)   \n",
      "34  5055882843575347789107367684496337851133184465...  2259766 (dist 94)   \n",
      "35  5055882843575347789107367684496337851133184465...  2259766 (dist 94)   \n",
      "36  5055882843575347789107367684496337851133184465...  2259766 (dist 94)   \n",
      "37  5055882843575347789107367684496337851133184465...  2259766 (dist 94)   \n",
      "39  5055882843575347789107367684496337851133184465...  2259766 (dist 94)   \n",
      "26  5055882843575347789107367684496337851133184465...  2259766 (dist 94)   \n",
      "40  5055882843575347789107367684496337851133184465...  2259766 (dist 94)   \n",
      "41  5055882843575347789107367684496337851133184465...  2259766 (dist 94)   \n",
      "42  5055882843575347789107367684496337851133184465...  2259766 (dist 94)   \n",
      "43  5055882843575347789107367684496337851133184465...  2259766 (dist 94)   \n",
      "44  5055882843575347789107367684496337851133184465...  2259766 (dist 94)   \n",
      "45  5055882843575347789107367684496337851133184465...  2259766 (dist 94)   \n",
      "46  5055882843575347789107367684496337851133184465...  2259766 (dist 94)   \n",
      "47  5055882843575347789107367684496337851133184465...  2259766 (dist 94)   \n",
      "48  5055882843575347789107367684496337851133184465...  2259766 (dist 94)   \n",
      "49  5055882843575347789107367684496337851133184465...  2259766 (dist 94)   \n",
      "27  5055882843575347789107367684496337851133184465...  2259766 (dist 94)   \n",
      "25  5055882843575347789107367684496337851133184465...  2259766 (dist 94)   \n",
      "1   5055882843575347789107367684496337851133184465...  2259766 (dist 94)   \n",
      "12  5055882843575347789107367684496337851133184465...  2259766 (dist 94)   \n",
      "2   5055882843575347789107367684496337851133184465...  2259766 (dist 94)   \n",
      "3   5055882843575347789107367684496337851133184465...  2259766 (dist 94)   \n",
      "4   5055882843575347789107367684496337851133184465...  2259766 (dist 94)   \n",
      "5   5055882843575347789107367684496337851133184465...  2259766 (dist 94)   \n",
      "6   5055882843575347789107367684496337851133184465...  2259766 (dist 94)   \n",
      "7   5055882843575347789107367684496337851133184465...  2259766 (dist 94)   \n",
      "8   5055882843575347789107367684496337851133184465...  2259766 (dist 94)   \n",
      "9   5055882843575347789107367684496337851133184465...  2259766 (dist 94)   \n",
      "10  5055882843575347789107367684496337851133184465...  2259766 (dist 94)   \n",
      "11  5055882843575347789107367684496337851133184465...  2259766 (dist 94)   \n",
      "13  5055882843575347789107367684496337851133184465...  2259766 (dist 94)   \n",
      "24  5055882843575347789107367684496337851133184465...  2259766 (dist 94)   \n",
      "14  5055882843575347789107367684496337851133184465...  2259766 (dist 94)   \n",
      "15  5055882843575347789107367684496337851133184465...  2259766 (dist 94)   \n",
      "16  5055882843575347789107367684496337851133184465...  2259766 (dist 94)   \n",
      "17  5055882843575347789107367684496337851133184465...  2259766 (dist 94)   \n",
      "18  5055882843575347789107367684496337851133184465...  2259766 (dist 94)   \n",
      "19  5055882843575347789107367684496337851133184465...  2259766 (dist 94)   \n",
      "20  5055882843575347789107367684496337851133184465...  2259766 (dist 94)   \n",
      "21  5055882843575347789107367684496337851133184465...  2259766 (dist 94)   \n",
      "22  5055882843575347789107367684496337851133184465...  2259766 (dist 94)   \n",
      "23  5055882843575347789107367684496337851133184465...  2259766 (dist 94)   \n",
      "50  5055882843575347789107367684496337851133184465...  2259766 (dist 94)   \n",
      "\n",
      "    district_label COUNTYFP10       NAME10  population_2  county_id  \\\n",
      "0              4.0        005    Allamakee         14061          2   \n",
      "38             4.0        139    Muscatine         43235         69   \n",
      "28             4.0        099       Jasper         37813         49   \n",
      "29             4.0        101    Jefferson         15663         50   \n",
      "30             4.0        103      Johnson        152854         51   \n",
      "31             4.0        105        Jones         20646         52   \n",
      "32             4.0        107       Keokuk         10033         53   \n",
      "33             4.0        111          Lee         33555         55   \n",
      "34             4.0        113         Linn        230299         56   \n",
      "35             4.0        115       Louisa         10837         57   \n",
      "36             4.0        127     Marshall         40105         63   \n",
      "37             4.0        131     Mitchell         10565         65   \n",
      "39             4.0        153         Polk        492401         76   \n",
      "26             4.0        095         Iowa         16662         47   \n",
      "40             4.0        157    Poweshiek         18662         78   \n",
      "41             4.0        163        Scott        174669         81   \n",
      "42             4.0        169        Story         98537         84   \n",
      "43             4.0        171         Tama         17135         85   \n",
      "44             4.0        177    Van Buren          7203         88   \n",
      "45             4.0        183   Washington         22565         91   \n",
      "46             4.0        187      Webster         36999         93   \n",
      "47             4.0        189    Winnebago         10679         94   \n",
      "48             4.0        191   Winneshiek         20070         95   \n",
      "49             4.0        195        Worth          7443         97   \n",
      "27             4.0        097      Jackson         19485         48   \n",
      "25             4.0        091     Humboldt          9597         45   \n",
      "1              4.0        011       Benton         25575          5   \n",
      "12             4.0        055     Delaware         17488         27   \n",
      "2              4.0        013   Black Hawk        131144          6   \n",
      "3              4.0        015        Boone         26715          7   \n",
      "4              4.0        017       Bremer         24988          8   \n",
      "5              4.0        019     Buchanan         20565          9   \n",
      "6              4.0        023       Butler         14334         11   \n",
      "7              4.0        031        Cedar         18505         15   \n",
      "8              4.0        033  Cerro Gordo         43127         16   \n",
      "9              4.0        037    Chickasaw         12012         18   \n",
      "10             4.0        043      Clayton         17043         21   \n",
      "11             4.0        045      Clinton         46460         22   \n",
      "13             4.0        057   Des Moines         38910         28   \n",
      "24             4.0        089       Howard          9469         44   \n",
      "14             4.0        061      Dubuque         99266         30   \n",
      "15             4.0        065      Fayette         19509         32   \n",
      "16             4.0        067        Floyd         15627         33   \n",
      "17             4.0        069     Franklin         10019         34   \n",
      "18             4.0        073       Greene          8771         36   \n",
      "19             4.0        075       Grundy         12329         37   \n",
      "20             4.0        079     Hamilton         15039         39   \n",
      "21             4.0        081      Hancock         10795         40   \n",
      "22             4.0        083       Hardin         16878         41   \n",
      "23             4.0        087        Henry         20482         43   \n",
      "50             4.0        197       Wright         12943         98   \n",
      "\n",
      "     xcentr_lon_2  ycentr_lat_2 county_id_string_2  temp_district  \\\n",
      "0   631594.469070  4.793646e+06                 02              2   \n",
      "38  657549.953348  4.594203e+06                 69             69   \n",
      "28  495526.676875  4.614916e+06                 49             49   \n",
      "29  588359.842485  4.542814e+06                 50             50   \n",
      "30  617539.114607  4.614261e+06                 51             51   \n",
      "31  654459.932313  4.664918e+06                 52             52   \n",
      "32  568725.727252  4.576426e+06                 53             53   \n",
      "33  628589.748795  4.500116e+06                 55             55   \n",
      "34  615889.070269  4.659473e+06                 56             56   \n",
      "35  645903.424835  4.564470e+06                 57             57   \n",
      "36  500101.752483  4.653748e+06                 63             63   \n",
      "37  517096.028752  4.800413e+06                 65             65   \n",
      "39  452270.756190  4.615009e+06                 76             76   \n",
      "26  577771.121292  4.615363e+06                 47             47   \n",
      "40  538993.297726  4.615060e+06                 78             78   \n",
      "41  697959.226117  4.612214e+06                 81             81   \n",
      "42  461507.686309  4.653896e+06                 84             84   \n",
      "43  538665.775941  4.658725e+06                 85             85   \n",
      "44  588636.937325  4.511891e+06                 88             88   \n",
      "45  607283.253656  4.576796e+06                 91             91   \n",
      "46  402790.030677  4.697953e+06                 93             93   \n",
      "47  440524.162282  4.803006e+06                 94             94   \n",
      "48  593803.522688  4.793727e+06                 95             95   \n",
      "49  478869.195738  4.802759e+06                 97             97   \n",
      "27  700371.077930  4.671696e+06                 48             48   \n",
      "25  401247.022382  4.736698e+06                 45             45   \n",
      "1   577281.033972  4.659083e+06                 05              5   \n",
      "12  634213.382185  4.703379e+06                 27             27   \n",
      "2   556821.315153  4.702196e+06                 06              6   \n",
      "3   422884.534346  4.654246e+06                 07              7   \n",
      "4   555787.494078  4.736008e+06                 08              8   \n",
      "5   595537.545341  4.702694e+06                 09              9   \n",
      "6   517175.399350  4.731019e+06                 11             11   \n",
      "7   655223.617473  4.626175e+06                 15             15   \n",
      "8   478769.097865  4.769896e+06                 16             16   \n",
      "9   555562.400240  4.767703e+06                 18             18   \n",
      "10  635543.055590  4.744893e+06                 21             21   \n",
      "11  704731.022201  4.641412e+06                 22             22   \n",
      "13  653118.364381  4.531813e+06                 28             28   \n",
      "24  555331.258480  4.800658e+06                 44             44   \n",
      "14  674084.789590  4.703998e+06                 30             30   \n",
      "15  594408.265089  4.746185e+06                 32             32   \n",
      "16  517181.397633  4.767486e+06                 33             33   \n",
      "17  478513.530477  4.731140e+06                 34             34   \n",
      "18  384380.986817  4.654735e+06                 36             36   \n",
      "19  517160.590383  4.694411e+06                 37             37   \n",
      "20  441819.549618  4.692621e+06                 39             39   \n",
      "21  440229.528385  4.770161e+06                 40             40   \n",
      "22  480213.018196  4.692419e+06                 41             41   \n",
      "23  622432.331642  4.538426e+06                 43             43   \n",
      "50  439820.100386  4.731432e+06                 98             98   \n",
      "\n",
      "    num_switches                                           geometry  \\\n",
      "0              0  POLYGON ((612338.270 4817354.605, 612512.913 4...   \n",
      "38             0  POLYGON ((684741.449 4591423.876, 684674.099 4...   \n",
      "28             0  POLYGON ((519162.040 4595270.080, 519155.281 4...   \n",
      "29             0  POLYGON ((569146.546 4528000.098, 569146.013 4...   \n",
      "30             0  POLYGON ((635814.034 4625518.482, 635814.854 4...   \n",
      "31             0  POLYGON ((654406.383 4684312.643, 654426.975 4...   \n",
      "32             0  POLYGON ((568704.654 4557137.643, 568440.803 4...   \n",
      "33             0  POLYGON ((658918.294 4504479.014, 658825.280 4...   \n",
      "34             0  POLYGON ((606259.399 4635248.642, 606136.078 4...   \n",
      "35             0  POLYGON ((661327.413 4577578.435, 661326.427 4...   \n",
      "36             0  POLYGON ((519277.027 4663447.354, 519277.035 4...   \n",
      "37             0  POLYGON ((498422.962 4816309.914, 498855.967 4...   \n",
      "39             0  POLYGON ((472579.536 4594315.204, 472586.252 4...   \n",
      "26             0  POLYGON ((558374.850 4605773.698, 558374.809 4...   \n",
      "40             0  POLYGON ((548999.907 4595490.971, 548924.152 4...   \n",
      "41             0  POLYGON ((723222.567 4623143.701, 723213.437 4...   \n",
      "42             0  POLYGON ((451787.847 4634752.765, 451671.985 4...   \n",
      "43             0  POLYGON ((519341.581 4653861.641, 519339.357 4...   \n",
      "44             0  POLYGON ((608292.148 4495311.571, 607506.427 4...   \n",
      "45             0  POLYGON ((602496.074 4596291.891, 602510.761 4...   \n",
      "46             0  POLYGON ((384639.355 4673968.633, 384639.641 4...   \n",
      "47             0  POLYGON ((421242.976 4790408.304, 421244.483 4...   \n",
      "48             0  POLYGON ((574394.202 4816823.274, 574419.054 4...   \n",
      "49             0  POLYGON ((460172.730 4816416.152, 460212.500 4...   \n",
      "27             0  POLYGON ((708081.199 4695099.391, 708118.559 4...   \n",
      "25             0  POLYGON ((381703.942 4722528.038, 381707.790 4...   \n",
      "1              0  POLYGON ((586720.225 4634976.034, 586537.663 4...   \n",
      "12             0  POLYGON ((615303.967 4702830.893, 615303.964 4...   \n",
      "2              0  POLYGON ((546286.490 4721244.673, 547451.581 4...   \n",
      "3              0  POLYGON ((432299.403 4634933.603, 432170.110 4...   \n",
      "4              0  POLYGON ((565649.450 4721392.645, 565624.609 4...   \n",
      "5              0  POLYGON ((604982.657 4683499.388, 604520.311 4...   \n",
      "6              0  POLYGON ((507119.303 4711542.896, 506682.073 4...   \n",
      "7              0  POLYGON ((658777.386 4606838.367, 658759.057 4...   \n",
      "8              0  POLYGON ((478103.342 4750603.016, 477877.064 4...   \n",
      "9              0  POLYGON ((574797.933 4769890.600, 574805.302 4...   \n",
      "10             0  POLYGON ((648381.409 4771192.237, 648389.076 4...   \n",
      "11             0  POLYGON ((735592.082 4657325.771, 735645.901 4...   \n",
      "13             0  POLYGON ((672281.894 4548799.407, 672300.491 4...   \n",
      "24             0  POLYGON ((536126.949 4816464.015, 536202.876 4...   \n",
      "14             0  POLYGON ((672353.075 4726865.464, 672386.443 4...   \n",
      "15             0  POLYGON ((604220.252 4770686.057, 604263.239 4...   \n",
      "16             0  POLYGON ((516397.822 4750543.382, 516307.703 4...   \n",
      "17             0  POLYGON ((487995.962 4711604.465, 487900.164 4...   \n",
      "18             0  POLYGON ((403162.927 4635249.827, 403139.297 4...   \n",
      "19             0  POLYGON ((499677.018 4702033.225, 499676.607 4...   \n",
      "20             0  POLYGON ((432293.657 4673374.575, 432034.800 4...   \n",
      "21             0  POLYGON ((420720.842 4751151.316, 420723.653 4...   \n",
      "22             0  POLYGON ((488201.189 4711602.449, 488286.568 4...   \n",
      "23             0  POLYGON ((627489.004 4519128.027, 627241.378 4...   \n",
      "50             0  POLYGON ((420586.069 4741251.170, 420588.521 4...   \n",
      "\n",
      "    relative_distance  \n",
      "0                 0.0  \n",
      "38                0.0  \n",
      "28                0.0  \n",
      "29                0.0  \n",
      "30                0.0  \n",
      "31                0.0  \n",
      "32                0.0  \n",
      "33                0.0  \n",
      "34                0.0  \n",
      "35                0.0  \n",
      "36                0.0  \n",
      "37                0.0  \n",
      "39                0.0  \n",
      "26                0.0  \n",
      "40                0.0  \n",
      "41                0.0  \n",
      "42                0.0  \n",
      "43                0.0  \n",
      "44                0.0  \n",
      "45                0.0  \n",
      "46                0.0  \n",
      "47                0.0  \n",
      "48                0.0  \n",
      "49                0.0  \n",
      "27                0.0  \n",
      "25                0.0  \n",
      "1                 0.0  \n",
      "12                0.0  \n",
      "2                 0.0  \n",
      "3                 0.0  \n",
      "4                 0.0  \n",
      "5                 0.0  \n",
      "6                 0.0  \n",
      "7                 0.0  \n",
      "8                 0.0  \n",
      "9                 0.0  \n",
      "10                0.0  \n",
      "11                0.0  \n",
      "13                0.0  \n",
      "24                0.0  \n",
      "14                0.0  \n",
      "15                0.0  \n",
      "16                0.0  \n",
      "17                0.0  \n",
      "18                0.0  \n",
      "19                0.0  \n",
      "20                0.0  \n",
      "21                0.0  \n",
      "22                0.0  \n",
      "23                0.0  \n",
      "50                0.0  \n",
      "   population_1   xcentr_lon_1  ycentr_lat_1  \\\n",
      "2     2259766.0  556068.991335  4.676608e+06   \n",
      "0     2259766.0  556068.991335  4.676608e+06   \n",
      "3     2259766.0  556068.991335  4.676608e+06   \n",
      "4     2259766.0  556068.991335  4.676608e+06   \n",
      "1     2259766.0  556068.991335  4.676608e+06   \n",
      "5     2259766.0  556068.991335  4.676608e+06   \n",
      "\n",
      "                                  county_id_string_1     combined_label  \\\n",
      "2  5055882843575347789107367684496337851133184465...  2259766 (dist 94)   \n",
      "0  5055882843575347789107367684496337851133184465...  2259766 (dist 94)   \n",
      "3  5055882843575347789107367684496337851133184465...  2259766 (dist 94)   \n",
      "4  5055882843575347789107367684496337851133184465...  2259766 (dist 94)   \n",
      "1  5055882843575347789107367684496337851133184465...  2259766 (dist 94)   \n",
      "5  5055882843575347789107367684496337851133184465...  2259766 (dist 94)   \n",
      "\n",
      "   district_label COUNTYFP10     NAME10  population_2  county_id  \\\n",
      "2             4.0        091   Humboldt          9597         45   \n",
      "0             4.0        073     Greene          8771         36   \n",
      "3             4.0        187    Webster         36999         93   \n",
      "4             4.0        189  Winnebago         10679         94   \n",
      "1             4.0        081    Hancock         10795         40   \n",
      "5             4.0        197     Wright         12943         98   \n",
      "\n",
      "    xcentr_lon_2  ycentr_lat_2 county_id_string_2  temp_district  \\\n",
      "2  401247.022382  4.736698e+06                 45             45   \n",
      "0  384380.986817  4.654735e+06                 36             36   \n",
      "3  402790.030677  4.697953e+06                 93             93   \n",
      "4  440524.162282  4.803006e+06                 94             94   \n",
      "1  440229.528385  4.770161e+06                 40             40   \n",
      "5  439820.100386  4.731432e+06                 98             98   \n",
      "\n",
      "   num_switches                                           geometry  \\\n",
      "2             0  POLYGON ((381703.942 4722528.038, 381707.790 4...   \n",
      "0             0  POLYGON ((403162.927 4635249.827, 403139.297 4...   \n",
      "3             0  POLYGON ((384639.355 4673968.633, 384639.641 4...   \n",
      "4             0  POLYGON ((421242.976 4790408.304, 421244.483 4...   \n",
      "1             0  POLYGON ((420720.842 4751151.316, 420723.653 4...   \n",
      "5             0  POLYGON ((420586.069 4741251.170, 420588.521 4...   \n",
      "\n",
      "   relative_distance  \n",
      "2       72556.467270  \n",
      "0       64064.269275  \n",
      "3       53761.785385  \n",
      "4       20917.464167  \n",
      "1       11205.947563  \n",
      "5       -3464.653363  \n",
      "    population_1   xcentr_lon_1  ycentr_lat_1  \\\n",
      "0       412348.0  421801.425712  4.546914e+06   \n",
      "12      412348.0  421801.425712  4.546914e+06   \n",
      "21      412348.0  421801.425712  4.546914e+06   \n",
      "20      412348.0  421801.425712  4.546914e+06   \n",
      "19      412348.0  421801.425712  4.546914e+06   \n",
      "18      412348.0  421801.425712  4.546914e+06   \n",
      "17      412348.0  421801.425712  4.546914e+06   \n",
      "16      412348.0  421801.425712  4.546914e+06   \n",
      "15      412348.0  421801.425712  4.546914e+06   \n",
      "14      412348.0  421801.425712  4.546914e+06   \n",
      "13      412348.0  421801.425712  4.546914e+06   \n",
      "11      412348.0  421801.425712  4.546914e+06   \n",
      "1       412348.0  421801.425712  4.546914e+06   \n",
      "10      412348.0  421801.425712  4.546914e+06   \n",
      "9       412348.0  421801.425712  4.546914e+06   \n",
      "8       412348.0  421801.425712  4.546914e+06   \n",
      "7       412348.0  421801.425712  4.546914e+06   \n",
      "6       412348.0  421801.425712  4.546914e+06   \n",
      "5       412348.0  421801.425712  4.546914e+06   \n",
      "4       412348.0  421801.425712  4.546914e+06   \n",
      "3       412348.0  421801.425712  4.546914e+06   \n",
      "2       412348.0  421801.425712  4.546914e+06   \n",
      "22      412348.0  421801.425712  4.546914e+06   \n",
      "\n",
      "                                county_id_string_1    combined_label  \\\n",
      "0   1926589261620367258924380079870186609035646872  412348 (dist 61)   \n",
      "12  1926589261620367258924380079870186609035646872  412348 (dist 61)   \n",
      "21  1926589261620367258924380079870186609035646872  412348 (dist 61)   \n",
      "20  1926589261620367258924380079870186609035646872  412348 (dist 61)   \n",
      "19  1926589261620367258924380079870186609035646872  412348 (dist 61)   \n",
      "18  1926589261620367258924380079870186609035646872  412348 (dist 61)   \n",
      "17  1926589261620367258924380079870186609035646872  412348 (dist 61)   \n",
      "16  1926589261620367258924380079870186609035646872  412348 (dist 61)   \n",
      "15  1926589261620367258924380079870186609035646872  412348 (dist 61)   \n",
      "14  1926589261620367258924380079870186609035646872  412348 (dist 61)   \n",
      "13  1926589261620367258924380079870186609035646872  412348 (dist 61)   \n",
      "11  1926589261620367258924380079870186609035646872  412348 (dist 61)   \n",
      "1   1926589261620367258924380079870186609035646872  412348 (dist 61)   \n",
      "10  1926589261620367258924380079870186609035646872  412348 (dist 61)   \n",
      "9   1926589261620367258924380079870186609035646872  412348 (dist 61)   \n",
      "8   1926589261620367258924380079870186609035646872  412348 (dist 61)   \n",
      "7   1926589261620367258924380079870186609035646872  412348 (dist 61)   \n",
      "6   1926589261620367258924380079870186609035646872  412348 (dist 61)   \n",
      "5   1926589261620367258924380079870186609035646872  412348 (dist 61)   \n",
      "4   1926589261620367258924380079870186609035646872  412348 (dist 61)   \n",
      "3   1926589261620367258924380079870186609035646872  412348 (dist 61)   \n",
      "2   1926589261620367258924380079870186609035646872  412348 (dist 61)   \n",
      "22  1926589261620367258924380079870186609035646872  412348 (dist 61)   \n",
      "\n",
      "    district_label COUNTYFP10      NAME10  population_2  county_id  \\\n",
      "0              2.0        001       Adair          7496          0   \n",
      "12             2.0        125      Marion         33414         62   \n",
      "21             2.0        181      Warren         52403         90   \n",
      "20             2.0        179     Wapello         35437         89   \n",
      "19             2.0        175       Union         12138         87   \n",
      "18             2.0        173      Taylor          5896         86   \n",
      "17             2.0        159    Ringgold          4663         79   \n",
      "16             2.0        145        Page         15211         72   \n",
      "15             2.0        137  Montgomery         10330         68   \n",
      "14             2.0        135      Monroe          7577         67   \n",
      "13             2.0        129       Mills         14484         64   \n",
      "11             2.0        123     Mahaska         22190         61   \n",
      "1              2.0        003       Adams          3704          1   \n",
      "10             2.0        121     Madison         16548         60   \n",
      "9              2.0        117       Lucas          8634         58   \n",
      "8              2.0        077     Guthrie         10623         38   \n",
      "7              2.0        071     Fremont          6605         35   \n",
      "6              2.0        053     Decatur          7645         26   \n",
      "5              2.0        051       Davis          9110         25   \n",
      "4              2.0        049      Dallas         99678         24   \n",
      "3              2.0        039      Clarke          9748         19   \n",
      "2              2.0        007   Appanoose         12317          3   \n",
      "22             2.0        185       Wayne          6497         92   \n",
      "\n",
      "     xcentr_lon_2  ycentr_lat_2 county_id_string_2  temp_district  \\\n",
      "0   376909.476792  4.576509e+06                 00              0   \n",
      "12  491679.631698  4.575882e+06                 62             62   \n",
      "21  453028.987408  4.576021e+06                 90             90   \n",
      "20  549643.630373  4.542319e+06                 89             89   \n",
      "19  395556.121649  4.542578e+06                 87             87   \n",
      "18  356761.132598  4.510988e+06                 86             86   \n",
      "17  394960.487614  4.510101e+06                 79             79   \n",
      "16  318449.850722  4.512018e+06                 72             72   \n",
      "15  318720.988040  4.544342e+06                 68             68   \n",
      "14  511013.450703  4.542070e+06                 67             67   \n",
      "13  279643.041904  4.545781e+06                 64             64   \n",
      "11  530046.850345  4.576023e+06                 61             61   \n",
      "1   357154.753953  4.543364e+06                 01              1   \n",
      "10  415016.545561  4.575959e+06                 60             60   \n",
      "9   472450.546237  4.542069e+06                 58             58   \n",
      "8   375073.739592  4.615744e+06                 38             38   \n",
      "7   280092.499127  4.513775e+06                 35             35   \n",
      "6   433609.836981  4.509930e+06                 26             26   \n",
      "5   549832.529191  4.510912e+06                 25             25   \n",
      "4   413469.318100  4.615303e+06                 24             24   \n",
      "3   433994.808217  4.542276e+06                 19             19   \n",
      "2   511092.713138  4.510250e+06                 03              3   \n",
      "22  472359.455457  4.509883e+06                 92             92   \n",
      "\n",
      "    num_switches                                           geometry  \\\n",
      "0              0  POLYGON ((357330.639 4557717.670, 357335.500 4...   \n",
      "12             0  POLYGON ((472582.577 4593335.988, 472579.978 4...   \n",
      "21             0  POLYGON ((434159.195 4595888.266, 434263.344 4...   \n",
      "20             0  POLYGON ((549502.916 4556900.635, 549762.831 4...   \n",
      "19             0  POLYGON ((386482.507 4557117.921, 386483.514 4...   \n",
      "18             0  POLYGON ((375354.397 4492157.003, 375291.238 4...   \n",
      "17             0  POLYGON ((413996.789 4491953.713, 413922.278 4...   \n",
      "16             0  POLYGON ((327405.142 4493727.633, 327366.139 4...   \n",
      "15             0  POLYGON ((300039.895 4559258.949, 300241.840 4...   \n",
      "14             0  POLYGON ((501380.103 4556606.102, 501535.061 4...   \n",
      "13             0  POLYGON ((262952.247 4531795.749, 262800.679 4...   \n",
      "11             0  POLYGON ((510946.963 4595217.412, 510948.132 4...   \n",
      "1              0  POLYGON ((338297.256 4558143.360, 338298.263 4...   \n",
      "10             0  POLYGON ((414100.917 4556666.470, 413312.802 4...   \n",
      "9              0  POLYGON ((453173.467 4537395.424, 453175.225 4...   \n",
      "8              0  POLYGON ((358069.033 4596159.419, 358072.133 4...   \n",
      "7              0  POLYGON ((299077.679 4494899.184, 298962.932 4...   \n",
      "6              0  POLYGON ((452694.196 4492297.318, 452675.686 4...   \n",
      "5              0  POLYGON ((569146.555 4527927.270, 569148.676 4...   \n",
      "4              0  POLYGON ((393904.334 4635356.145, 393914.045 4...   \n",
      "3              0  POLYGON ((414634.176 4538214.957, 414642.787 4...   \n",
      "2              0  POLYGON ((530528.621 4493399.353, 529805.371 4...   \n",
      "22             0  POLYGON ((491661.674 4492578.566, 491656.257 4...   \n",
      "\n",
      "    relative_distance  \n",
      "0                 0.0  \n",
      "12                0.0  \n",
      "21                0.0  \n",
      "20                0.0  \n",
      "19                0.0  \n",
      "18                0.0  \n",
      "17                0.0  \n",
      "16                0.0  \n",
      "15                0.0  \n",
      "14                0.0  \n",
      "13                0.0  \n",
      "11                0.0  \n",
      "1                 0.0  \n",
      "10                0.0  \n",
      "9                 0.0  \n",
      "8                 0.0  \n",
      "7                 0.0  \n",
      "6                 0.0  \n",
      "5                 0.0  \n",
      "4                 0.0  \n",
      "3                 0.0  \n",
      "2                 0.0  \n",
      "22                0.0  \n",
      "   population_1   xcentr_lon_1  ycentr_lat_1  \\\n",
      "0      385133.0  307830.538703  4.732347e+06   \n",
      "1      385133.0  307830.538703  4.732347e+06   \n",
      "\n",
      "                           county_id_string_1    combined_label  \\\n",
      "0  041346802366961210201729315473757470715983  385133 (dist 74)   \n",
      "1  041346802366961210201729315473757470715983  385133 (dist 74)   \n",
      "\n",
      "   district_label COUNTYFP10   NAME10  population_2  county_id   xcentr_lon_2  \\\n",
      "0             3.0        009  Audubon          5674          4  341387.505752   \n",
      "1             3.0        027  Carroll         20760         13  345996.381197   \n",
      "\n",
      "   ycentr_lat_2 county_id_string_2  temp_district  num_switches  \\\n",
      "0  4.616499e+06                 04              4             0   \n",
      "1  4.655466e+06                 13             13             0   \n",
      "\n",
      "                                            geometry  relative_distance  \n",
      "0  POLYGON ((325806.676 4617350.979, 325806.682 4...       14268.242611  \n",
      "1  POLYGON ((365546.254 4674282.716, 365545.318 4...      -46567.348359  \n",
      "   population_1   xcentr_lon_1  ycentr_lat_1  \\\n",
      "4      412348.0  421801.425712  4.546914e+06   \n",
      "6      412348.0  421801.425712  4.546914e+06   \n",
      "1      412348.0  421801.425712  4.546914e+06   \n",
      "5      412348.0  421801.425712  4.546914e+06   \n",
      "0      412348.0  421801.425712  4.546914e+06   \n",
      "7      412348.0  421801.425712  4.546914e+06   \n",
      "2      412348.0  421801.425712  4.546914e+06   \n",
      "3      412348.0  421801.425712  4.546914e+06   \n",
      "\n",
      "                               county_id_string_1    combined_label  \\\n",
      "4  1926589261620367258924380079870186609035646872  412348 (dist 61)   \n",
      "6  1926589261620367258924380079870186609035646872  412348 (dist 61)   \n",
      "1  1926589261620367258924380079870186609035646872  412348 (dist 61)   \n",
      "5  1926589261620367258924380079870186609035646872  412348 (dist 61)   \n",
      "0  1926589261620367258924380079870186609035646872  412348 (dist 61)   \n",
      "7  1926589261620367258924380079870186609035646872  412348 (dist 61)   \n",
      "2  1926589261620367258924380079870186609035646872  412348 (dist 61)   \n",
      "3  1926589261620367258924380079870186609035646872  412348 (dist 61)   \n",
      "\n",
      "   district_label COUNTYFP10   NAME10  population_2  county_id   xcentr_lon_2  \\\n",
      "4             2.0        123  Mahaska         22190         61  530046.850345   \n",
      "6             2.0        179  Wapello         35437         89  549643.630373   \n",
      "1             2.0        051    Davis          9110         25  549832.529191   \n",
      "5             2.0        125   Marion         33414         62  491679.631698   \n",
      "0             2.0        049   Dallas         99678         24  413469.318100   \n",
      "7             2.0        181   Warren         52403         90  453028.987408   \n",
      "2             2.0        077  Guthrie         10623         38  375073.739592   \n",
      "3             2.0        121  Madison         16548         60  415016.545561   \n",
      "\n",
      "   ycentr_lat_2 county_id_string_2  temp_district  num_switches  \\\n",
      "4  4.576023e+06                 61             61             0   \n",
      "6  4.542319e+06                 89             89             0   \n",
      "1  4.510912e+06                 25             25             0   \n",
      "5  4.575882e+06                 62             62             0   \n",
      "0  4.615303e+06                 24             24             0   \n",
      "7  4.576021e+06                 90             90             0   \n",
      "2  4.615744e+06                 38             38             0   \n",
      "3  4.575959e+06                 60             60             0   \n",
      "\n",
      "                                            geometry  relative_distance  \n",
      "4  POLYGON ((510946.963 4595217.412, 510948.132 4...        8194.235250  \n",
      "6  POLYGON ((549502.916 4556900.635, 549762.831 4...       -6517.555680  \n",
      "1  POLYGON ((569146.555 4527927.270, 569148.676 4...      -32816.238242  \n",
      "5  POLYGON ((472582.577 4593335.988, 472579.978 4...      -43903.620109  \n",
      "0  POLYGON ((393904.334 4635356.145, 393914.045 4...      -86324.378554  \n",
      "7  POLYGON ((434159.195 4595888.266, 434263.344 4...     -101308.006366  \n",
      "2  POLYGON ((358069.033 4596159.419, 358072.133 4...     -107762.261557  \n",
      "3  POLYGON ((414100.917 4556666.470, 413312.802 4...     -143452.901391  \n"
     ]
    }
   ],
   "source": [
    "for j in range(len(dataframe_movable_list)):\n",
    "    dataframe_sorted = dataframe_movable_list[j].sort_values('relative_distance',ascending=False).copy()\n",
    "    switches_threshold = switches_threshold_list[j]\n",
    "    pop_limit_switch = pop_limit_switch_list[j]\n",
    "    print(dataframe_sorted)\n",
    "    # for i in range(dataframe_sorted.shape[0]):\n",
    "    #     # if dataframe_sorted.iloc[i]['num_switches'] <= switches_threshold:\n",
    "    #     #     return dataframe_sorted.iloc[i]['county_id']\n",
    "    #     #commenting out the if statement below to get rid of population threshold criteria - see if that'll eliminate discontiguous districts\n",
    "    #     if (dataframe_sorted.iloc[i]['num_switches'] <= switches_threshold) & (dataframe_sorted.iloc[i]['population_2']<pop_limit_switch):\n",
    "    #         return dataframe_sorted.iloc[i]['county_id']\n",
    "    #         break"
   ]
  },
  {
   "cell_type": "code",
   "execution_count": 79,
   "id": "385c2182",
   "metadata": {},
   "outputs": [
    {
     "data": {
      "text/plain": [
       "2"
      ]
     },
     "execution_count": 79,
     "metadata": {},
     "output_type": "execute_result"
    }
   ],
   "source": [
    "test=switch_func(dataframe_movable_list, switches_threshold_list, pop_limit_switch_list)\n",
    "test"
   ]
  },
  {
   "cell_type": "code",
   "execution_count": 62,
   "id": "3ae83158",
   "metadata": {},
   "outputs": [
    {
     "data": {
      "text/html": [
       "<div>\n",
       "<style scoped>\n",
       "    .dataframe tbody tr th:only-of-type {\n",
       "        vertical-align: middle;\n",
       "    }\n",
       "\n",
       "    .dataframe tbody tr th {\n",
       "        vertical-align: top;\n",
       "    }\n",
       "\n",
       "    .dataframe thead th {\n",
       "        text-align: right;\n",
       "    }\n",
       "</style>\n",
       "<table border=\"1\" class=\"dataframe\">\n",
       "  <thead>\n",
       "    <tr style=\"text-align: right;\">\n",
       "      <th></th>\n",
       "      <th>population_1</th>\n",
       "      <th>xcentr_lon_1</th>\n",
       "      <th>ycentr_lat_1</th>\n",
       "      <th>county_id_string_1</th>\n",
       "      <th>combined_label</th>\n",
       "      <th>district_label</th>\n",
       "      <th>COUNTYFP10</th>\n",
       "      <th>NAME10</th>\n",
       "      <th>population_2</th>\n",
       "      <th>county_id</th>\n",
       "      <th>xcentr_lon_2</th>\n",
       "      <th>ycentr_lat_2</th>\n",
       "      <th>county_id_string_2</th>\n",
       "      <th>temp_district</th>\n",
       "      <th>num_switches</th>\n",
       "      <th>geometry</th>\n",
       "      <th>relative_distance</th>\n",
       "    </tr>\n",
       "  </thead>\n",
       "  <tbody>\n",
       "    <tr>\n",
       "      <th>0</th>\n",
       "      <td>2259766.0</td>\n",
       "      <td>556068.991335</td>\n",
       "      <td>4.676608e+06</td>\n",
       "      <td>5055882843575347789107367684496337851133184465...</td>\n",
       "      <td>2259766 (dist 94)</td>\n",
       "      <td>4.0</td>\n",
       "      <td>073</td>\n",
       "      <td>Greene</td>\n",
       "      <td>8771</td>\n",
       "      <td>36</td>\n",
       "      <td>384380.986817</td>\n",
       "      <td>4.654735e+06</td>\n",
       "      <td>36</td>\n",
       "      <td>36</td>\n",
       "      <td>0</td>\n",
       "      <td>POLYGON ((403162.927 4635249.827, 403139.297 4...</td>\n",
       "      <td>64064.269275</td>\n",
       "    </tr>\n",
       "    <tr>\n",
       "      <th>1</th>\n",
       "      <td>2259766.0</td>\n",
       "      <td>556068.991335</td>\n",
       "      <td>4.676608e+06</td>\n",
       "      <td>5055882843575347789107367684496337851133184465...</td>\n",
       "      <td>2259766 (dist 94)</td>\n",
       "      <td>4.0</td>\n",
       "      <td>081</td>\n",
       "      <td>Hancock</td>\n",
       "      <td>10795</td>\n",
       "      <td>40</td>\n",
       "      <td>440229.528385</td>\n",
       "      <td>4.770161e+06</td>\n",
       "      <td>40</td>\n",
       "      <td>40</td>\n",
       "      <td>0</td>\n",
       "      <td>POLYGON ((420720.842 4751151.316, 420723.653 4...</td>\n",
       "      <td>11205.947563</td>\n",
       "    </tr>\n",
       "    <tr>\n",
       "      <th>2</th>\n",
       "      <td>2259766.0</td>\n",
       "      <td>556068.991335</td>\n",
       "      <td>4.676608e+06</td>\n",
       "      <td>5055882843575347789107367684496337851133184465...</td>\n",
       "      <td>2259766 (dist 94)</td>\n",
       "      <td>4.0</td>\n",
       "      <td>091</td>\n",
       "      <td>Humboldt</td>\n",
       "      <td>9597</td>\n",
       "      <td>45</td>\n",
       "      <td>401247.022382</td>\n",
       "      <td>4.736698e+06</td>\n",
       "      <td>45</td>\n",
       "      <td>45</td>\n",
       "      <td>0</td>\n",
       "      <td>POLYGON ((381703.942 4722528.038, 381707.790 4...</td>\n",
       "      <td>72556.467270</td>\n",
       "    </tr>\n",
       "    <tr>\n",
       "      <th>3</th>\n",
       "      <td>2259766.0</td>\n",
       "      <td>556068.991335</td>\n",
       "      <td>4.676608e+06</td>\n",
       "      <td>5055882843575347789107367684496337851133184465...</td>\n",
       "      <td>2259766 (dist 94)</td>\n",
       "      <td>4.0</td>\n",
       "      <td>187</td>\n",
       "      <td>Webster</td>\n",
       "      <td>36999</td>\n",
       "      <td>93</td>\n",
       "      <td>402790.030677</td>\n",
       "      <td>4.697953e+06</td>\n",
       "      <td>93</td>\n",
       "      <td>93</td>\n",
       "      <td>0</td>\n",
       "      <td>POLYGON ((384639.355 4673968.633, 384639.641 4...</td>\n",
       "      <td>53761.785385</td>\n",
       "    </tr>\n",
       "    <tr>\n",
       "      <th>4</th>\n",
       "      <td>2259766.0</td>\n",
       "      <td>556068.991335</td>\n",
       "      <td>4.676608e+06</td>\n",
       "      <td>5055882843575347789107367684496337851133184465...</td>\n",
       "      <td>2259766 (dist 94)</td>\n",
       "      <td>4.0</td>\n",
       "      <td>189</td>\n",
       "      <td>Winnebago</td>\n",
       "      <td>10679</td>\n",
       "      <td>94</td>\n",
       "      <td>440524.162282</td>\n",
       "      <td>4.803006e+06</td>\n",
       "      <td>94</td>\n",
       "      <td>94</td>\n",
       "      <td>0</td>\n",
       "      <td>POLYGON ((421242.976 4790408.304, 421244.483 4...</td>\n",
       "      <td>20917.464167</td>\n",
       "    </tr>\n",
       "    <tr>\n",
       "      <th>5</th>\n",
       "      <td>2259766.0</td>\n",
       "      <td>556068.991335</td>\n",
       "      <td>4.676608e+06</td>\n",
       "      <td>5055882843575347789107367684496337851133184465...</td>\n",
       "      <td>2259766 (dist 94)</td>\n",
       "      <td>4.0</td>\n",
       "      <td>197</td>\n",
       "      <td>Wright</td>\n",
       "      <td>12943</td>\n",
       "      <td>98</td>\n",
       "      <td>439820.100386</td>\n",
       "      <td>4.731432e+06</td>\n",
       "      <td>98</td>\n",
       "      <td>98</td>\n",
       "      <td>0</td>\n",
       "      <td>POLYGON ((420586.069 4741251.170, 420588.521 4...</td>\n",
       "      <td>-3464.653363</td>\n",
       "    </tr>\n",
       "  </tbody>\n",
       "</table>\n",
       "</div>"
      ],
      "text/plain": [
       "   population_1   xcentr_lon_1  ycentr_lat_1  \\\n",
       "0     2259766.0  556068.991335  4.676608e+06   \n",
       "1     2259766.0  556068.991335  4.676608e+06   \n",
       "2     2259766.0  556068.991335  4.676608e+06   \n",
       "3     2259766.0  556068.991335  4.676608e+06   \n",
       "4     2259766.0  556068.991335  4.676608e+06   \n",
       "5     2259766.0  556068.991335  4.676608e+06   \n",
       "\n",
       "                                  county_id_string_1     combined_label  \\\n",
       "0  5055882843575347789107367684496337851133184465...  2259766 (dist 94)   \n",
       "1  5055882843575347789107367684496337851133184465...  2259766 (dist 94)   \n",
       "2  5055882843575347789107367684496337851133184465...  2259766 (dist 94)   \n",
       "3  5055882843575347789107367684496337851133184465...  2259766 (dist 94)   \n",
       "4  5055882843575347789107367684496337851133184465...  2259766 (dist 94)   \n",
       "5  5055882843575347789107367684496337851133184465...  2259766 (dist 94)   \n",
       "\n",
       "   district_label COUNTYFP10     NAME10  population_2  county_id  \\\n",
       "0             4.0        073     Greene          8771         36   \n",
       "1             4.0        081    Hancock         10795         40   \n",
       "2             4.0        091   Humboldt          9597         45   \n",
       "3             4.0        187    Webster         36999         93   \n",
       "4             4.0        189  Winnebago         10679         94   \n",
       "5             4.0        197     Wright         12943         98   \n",
       "\n",
       "    xcentr_lon_2  ycentr_lat_2 county_id_string_2  temp_district  \\\n",
       "0  384380.986817  4.654735e+06                 36             36   \n",
       "1  440229.528385  4.770161e+06                 40             40   \n",
       "2  401247.022382  4.736698e+06                 45             45   \n",
       "3  402790.030677  4.697953e+06                 93             93   \n",
       "4  440524.162282  4.803006e+06                 94             94   \n",
       "5  439820.100386  4.731432e+06                 98             98   \n",
       "\n",
       "   num_switches                                           geometry  \\\n",
       "0             0  POLYGON ((403162.927 4635249.827, 403139.297 4...   \n",
       "1             0  POLYGON ((420720.842 4751151.316, 420723.653 4...   \n",
       "2             0  POLYGON ((381703.942 4722528.038, 381707.790 4...   \n",
       "3             0  POLYGON ((384639.355 4673968.633, 384639.641 4...   \n",
       "4             0  POLYGON ((421242.976 4790408.304, 421244.483 4...   \n",
       "5             0  POLYGON ((420586.069 4741251.170, 420588.521 4...   \n",
       "\n",
       "   relative_distance  \n",
       "0       64064.269275  \n",
       "1       11205.947563  \n",
       "2       72556.467270  \n",
       "3       53761.785385  \n",
       "4       20917.464167  \n",
       "5       -3464.653363  "
      ]
     },
     "execution_count": 62,
     "metadata": {},
     "output_type": "execute_result"
    }
   ],
   "source": [
    "border_counties_df_func(shapef_ia_redist, list_of_districts, list_of_counties)[0][1]"
   ]
  },
  {
   "cell_type": "code",
   "execution_count": null,
   "id": "837eef75",
   "metadata": {},
   "outputs": [],
   "source": []
  },
  {
   "cell_type": "code",
   "execution_count": 57,
   "id": "250b898d",
   "metadata": {},
   "outputs": [
    {
     "name": "stdout",
     "output_type": "stream",
     "text": [
      "Iteration 1. The county id to move is 2.\n",
      "[133122, 412348, 399194, 2245705]\n"
     ]
    },
    {
     "name": "stderr",
     "output_type": "stream",
     "text": [
      "/opt/homebrew/Caskroom/miniforge/base/envs/myenv/lib/python3.10/site-packages/plotnine/ggplot.py:718: PlotnineWarning: Saving 6.4 x 4.8 in image.\n",
      "/opt/homebrew/Caskroom/miniforge/base/envs/myenv/lib/python3.10/site-packages/plotnine/ggplot.py:719: PlotnineWarning: Filename: images/iter_01.png\n"
     ]
    },
    {
     "name": "stdout",
     "output_type": "stream",
     "text": [
      "Iteration 2. The county id to move is 5.\n",
      "[133122, 412348, 424769, 2220130]\n"
     ]
    },
    {
     "name": "stderr",
     "output_type": "stream",
     "text": [
      "/opt/homebrew/Caskroom/miniforge/base/envs/myenv/lib/python3.10/site-packages/plotnine/ggplot.py:718: PlotnineWarning: Saving 6.4 x 4.8 in image.\n",
      "/opt/homebrew/Caskroom/miniforge/base/envs/myenv/lib/python3.10/site-packages/plotnine/ggplot.py:719: PlotnineWarning: Filename: images/iter_02.png\n"
     ]
    },
    {
     "name": "stdout",
     "output_type": "stream",
     "text": [
      "Iteration 3. The county id to move is 45.\n",
      "[133122, 412348, 434366, 2210533]\n"
     ]
    },
    {
     "name": "stderr",
     "output_type": "stream",
     "text": [
      "/opt/homebrew/Caskroom/miniforge/base/envs/myenv/lib/python3.10/site-packages/plotnine/ggplot.py:718: PlotnineWarning: Saving 6.4 x 4.8 in image.\n",
      "/opt/homebrew/Caskroom/miniforge/base/envs/myenv/lib/python3.10/site-packages/plotnine/ggplot.py:719: PlotnineWarning: Filename: images/iter_03.png\n"
     ]
    },
    {
     "name": "stdout",
     "output_type": "stream",
     "text": [
      "Iteration 4. The county id to move is 36.\n",
      "[133122, 412348, 443137, 2201762]\n"
     ]
    },
    {
     "name": "stderr",
     "output_type": "stream",
     "text": [
      "/opt/homebrew/Caskroom/miniforge/base/envs/myenv/lib/python3.10/site-packages/plotnine/ggplot.py:718: PlotnineWarning: Saving 6.4 x 4.8 in image.\n",
      "/opt/homebrew/Caskroom/miniforge/base/envs/myenv/lib/python3.10/site-packages/plotnine/ggplot.py:719: PlotnineWarning: Filename: images/iter_04.png\n"
     ]
    },
    {
     "name": "stdout",
     "output_type": "stream",
     "text": [
      "Iteration 5. The county id to move is 93.\n",
      "[133122, 412348, 480136, 2164763]\n"
     ]
    },
    {
     "name": "stderr",
     "output_type": "stream",
     "text": [
      "/opt/homebrew/Caskroom/miniforge/base/envs/myenv/lib/python3.10/site-packages/plotnine/ggplot.py:718: PlotnineWarning: Saving 6.4 x 4.8 in image.\n",
      "/opt/homebrew/Caskroom/miniforge/base/envs/myenv/lib/python3.10/site-packages/plotnine/ggplot.py:719: PlotnineWarning: Filename: images/iter_05.png\n"
     ]
    },
    {
     "name": "stdout",
     "output_type": "stream",
     "text": [
      "Iteration 6. The county id to move is 94.\n",
      "[133122, 412348, 490815, 2154084]\n"
     ]
    },
    {
     "name": "stderr",
     "output_type": "stream",
     "text": [
      "/opt/homebrew/Caskroom/miniforge/base/envs/myenv/lib/python3.10/site-packages/plotnine/ggplot.py:718: PlotnineWarning: Saving 6.4 x 4.8 in image.\n",
      "/opt/homebrew/Caskroom/miniforge/base/envs/myenv/lib/python3.10/site-packages/plotnine/ggplot.py:719: PlotnineWarning: Filename: images/iter_06.png\n"
     ]
    },
    {
     "name": "stdout",
     "output_type": "stream",
     "text": [
      "Iteration 7. The county id to move is 40.\n",
      "[133122, 412348, 501610, 2143289]\n"
     ]
    },
    {
     "name": "stderr",
     "output_type": "stream",
     "text": [
      "/opt/homebrew/Caskroom/miniforge/base/envs/myenv/lib/python3.10/site-packages/plotnine/ggplot.py:718: PlotnineWarning: Saving 6.4 x 4.8 in image.\n",
      "/opt/homebrew/Caskroom/miniforge/base/envs/myenv/lib/python3.10/site-packages/plotnine/ggplot.py:719: PlotnineWarning: Filename: images/iter_07.png\n"
     ]
    },
    {
     "name": "stdout",
     "output_type": "stream",
     "text": [
      "Iteration 8. The county id to move is 98.\n",
      "[133122, 412348, 514553, 2130346]\n"
     ]
    },
    {
     "name": "stderr",
     "output_type": "stream",
     "text": [
      "/opt/homebrew/Caskroom/miniforge/base/envs/myenv/lib/python3.10/site-packages/plotnine/ggplot.py:718: PlotnineWarning: Saving 6.4 x 4.8 in image.\n",
      "/opt/homebrew/Caskroom/miniforge/base/envs/myenv/lib/python3.10/site-packages/plotnine/ggplot.py:719: PlotnineWarning: Filename: images/iter_08.png\n"
     ]
    },
    {
     "name": "stdout",
     "output_type": "stream",
     "text": [
      "Iteration 9. The county id to move is 7.\n",
      "[133122, 412348, 541268, 2103631]\n"
     ]
    },
    {
     "name": "stderr",
     "output_type": "stream",
     "text": [
      "/opt/homebrew/Caskroom/miniforge/base/envs/myenv/lib/python3.10/site-packages/plotnine/ggplot.py:718: PlotnineWarning: Saving 6.4 x 4.8 in image.\n",
      "/opt/homebrew/Caskroom/miniforge/base/envs/myenv/lib/python3.10/site-packages/plotnine/ggplot.py:719: PlotnineWarning: Filename: images/iter_09.png\n"
     ]
    },
    {
     "name": "stdout",
     "output_type": "stream",
     "text": [
      "Iteration 10. The county id to move is 39.\n",
      "[133122, 412348, 556307, 2088592]\n"
     ]
    },
    {
     "name": "stderr",
     "output_type": "stream",
     "text": [
      "/opt/homebrew/Caskroom/miniforge/base/envs/myenv/lib/python3.10/site-packages/plotnine/ggplot.py:718: PlotnineWarning: Saving 6.4 x 4.8 in image.\n",
      "/opt/homebrew/Caskroom/miniforge/base/envs/myenv/lib/python3.10/site-packages/plotnine/ggplot.py:719: PlotnineWarning: Filename: images/iter_10.png\n"
     ]
    },
    {
     "name": "stdout",
     "output_type": "stream",
     "text": [
      "Iteration 11. The county id to move is 97.\n",
      "[133122, 412348, 563750, 2081149]\n"
     ]
    },
    {
     "name": "stderr",
     "output_type": "stream",
     "text": [
      "/opt/homebrew/Caskroom/miniforge/base/envs/myenv/lib/python3.10/site-packages/plotnine/ggplot.py:718: PlotnineWarning: Saving 6.4 x 4.8 in image.\n",
      "/opt/homebrew/Caskroom/miniforge/base/envs/myenv/lib/python3.10/site-packages/plotnine/ggplot.py:719: PlotnineWarning: Filename: images/iter_11.png\n"
     ]
    },
    {
     "name": "stdout",
     "output_type": "stream",
     "text": [
      "Iteration 12. The county id to move is 16.\n",
      "[133122, 412348, 606877, 2038022]\n"
     ]
    },
    {
     "name": "stderr",
     "output_type": "stream",
     "text": [
      "/opt/homebrew/Caskroom/miniforge/base/envs/myenv/lib/python3.10/site-packages/plotnine/ggplot.py:718: PlotnineWarning: Saving 6.4 x 4.8 in image.\n",
      "/opt/homebrew/Caskroom/miniforge/base/envs/myenv/lib/python3.10/site-packages/plotnine/ggplot.py:719: PlotnineWarning: Filename: images/iter_12.png\n"
     ]
    },
    {
     "name": "stdout",
     "output_type": "stream",
     "text": [
      "Iteration 13. The county id to move is 34.\n",
      "[133122, 412348, 616896, 2028003]\n"
     ]
    },
    {
     "name": "stderr",
     "output_type": "stream",
     "text": [
      "/opt/homebrew/Caskroom/miniforge/base/envs/myenv/lib/python3.10/site-packages/plotnine/ggplot.py:718: PlotnineWarning: Saving 6.4 x 4.8 in image.\n",
      "/opt/homebrew/Caskroom/miniforge/base/envs/myenv/lib/python3.10/site-packages/plotnine/ggplot.py:719: PlotnineWarning: Filename: images/iter_13.png\n"
     ]
    },
    {
     "name": "stdout",
     "output_type": "stream",
     "text": [
      "Iteration 14. The county id to move is 84.\n",
      "[133122, 412348, 715433, 1929466]\n"
     ]
    },
    {
     "name": "stderr",
     "output_type": "stream",
     "text": [
      "/opt/homebrew/Caskroom/miniforge/base/envs/myenv/lib/python3.10/site-packages/plotnine/ggplot.py:718: PlotnineWarning: Saving 6.4 x 4.8 in image.\n",
      "/opt/homebrew/Caskroom/miniforge/base/envs/myenv/lib/python3.10/site-packages/plotnine/ggplot.py:719: PlotnineWarning: Filename: images/iter_14.png\n"
     ]
    },
    {
     "name": "stdout",
     "output_type": "stream",
     "text": [
      "Iteration 15. The county id to move is 76.\n",
      "[133122, 412348, 1207834, 1437065]\n"
     ]
    },
    {
     "name": "stderr",
     "output_type": "stream",
     "text": [
      "/opt/homebrew/Caskroom/miniforge/base/envs/myenv/lib/python3.10/site-packages/plotnine/ggplot.py:718: PlotnineWarning: Saving 6.4 x 4.8 in image.\n",
      "/opt/homebrew/Caskroom/miniforge/base/envs/myenv/lib/python3.10/site-packages/plotnine/ggplot.py:719: PlotnineWarning: Filename: images/iter_15.png\n"
     ]
    },
    {
     "name": "stdout",
     "output_type": "stream",
     "text": [
      "Iteration 16. The county id to move is 76.\n",
      "[133122, 412348, 1207834, 1437065]\n"
     ]
    },
    {
     "name": "stderr",
     "output_type": "stream",
     "text": [
      "/opt/homebrew/Caskroom/miniforge/base/envs/myenv/lib/python3.10/site-packages/plotnine/ggplot.py:718: PlotnineWarning: Saving 6.4 x 4.8 in image.\n",
      "/opt/homebrew/Caskroom/miniforge/base/envs/myenv/lib/python3.10/site-packages/plotnine/ggplot.py:719: PlotnineWarning: Filename: images/iter_16.png\n"
     ]
    },
    {
     "name": "stdout",
     "output_type": "stream",
     "text": [
      "Iteration 17. The county id to move is 4.\n",
      "[133122, 412348, 1207834, 1437065]\n"
     ]
    },
    {
     "name": "stderr",
     "output_type": "stream",
     "text": [
      "/opt/homebrew/Caskroom/miniforge/base/envs/myenv/lib/python3.10/site-packages/plotnine/ggplot.py:718: PlotnineWarning: Saving 6.4 x 4.8 in image.\n",
      "/opt/homebrew/Caskroom/miniforge/base/envs/myenv/lib/python3.10/site-packages/plotnine/ggplot.py:719: PlotnineWarning: Filename: images/iter_17.png\n"
     ]
    },
    {
     "name": "stdout",
     "output_type": "stream",
     "text": [
      "Iteration 18. The county id to move is 4.\n",
      "[133122, 412348, 1207834, 1437065]\n"
     ]
    },
    {
     "name": "stderr",
     "output_type": "stream",
     "text": [
      "/opt/homebrew/Caskroom/miniforge/base/envs/myenv/lib/python3.10/site-packages/plotnine/ggplot.py:718: PlotnineWarning: Saving 6.4 x 4.8 in image.\n",
      "/opt/homebrew/Caskroom/miniforge/base/envs/myenv/lib/python3.10/site-packages/plotnine/ggplot.py:719: PlotnineWarning: Filename: images/iter_18.png\n"
     ]
    },
    {
     "name": "stdout",
     "output_type": "stream",
     "text": [
      "Iteration 19. The county id to move is 7.\n",
      "[133122, 412348, 1207834, 1437065]\n"
     ]
    },
    {
     "name": "stderr",
     "output_type": "stream",
     "text": [
      "/opt/homebrew/Caskroom/miniforge/base/envs/myenv/lib/python3.10/site-packages/plotnine/ggplot.py:718: PlotnineWarning: Saving 6.4 x 4.8 in image.\n",
      "/opt/homebrew/Caskroom/miniforge/base/envs/myenv/lib/python3.10/site-packages/plotnine/ggplot.py:719: PlotnineWarning: Filename: images/iter_19.png\n"
     ]
    },
    {
     "name": "stdout",
     "output_type": "stream",
     "text": [
      "Iteration 20. The county id to move is 36.\n",
      "[133122, 412348, 1207834, 1437065]\n"
     ]
    },
    {
     "name": "stderr",
     "output_type": "stream",
     "text": [
      "/opt/homebrew/Caskroom/miniforge/base/envs/myenv/lib/python3.10/site-packages/plotnine/ggplot.py:718: PlotnineWarning: Saving 6.4 x 4.8 in image.\n",
      "/opt/homebrew/Caskroom/miniforge/base/envs/myenv/lib/python3.10/site-packages/plotnine/ggplot.py:719: PlotnineWarning: Filename: images/iter_20.png\n"
     ]
    },
    {
     "name": "stdout",
     "output_type": "stream",
     "text": [
      "Iteration 21. The county id to move is 13.\n",
      "[133122, 412348, 1207834, 1437065]\n"
     ]
    },
    {
     "name": "stderr",
     "output_type": "stream",
     "text": [
      "/opt/homebrew/Caskroom/miniforge/base/envs/myenv/lib/python3.10/site-packages/plotnine/ggplot.py:718: PlotnineWarning: Saving 6.4 x 4.8 in image.\n",
      "/opt/homebrew/Caskroom/miniforge/base/envs/myenv/lib/python3.10/site-packages/plotnine/ggplot.py:719: PlotnineWarning: Filename: images/iter_21.png\n"
     ]
    },
    {
     "name": "stdout",
     "output_type": "stream",
     "text": [
      "Iteration 22. The county id to move is 76.\n",
      "[133122, 412348, 1207834, 1437065]\n"
     ]
    },
    {
     "name": "stderr",
     "output_type": "stream",
     "text": [
      "/opt/homebrew/Caskroom/miniforge/base/envs/myenv/lib/python3.10/site-packages/plotnine/ggplot.py:718: PlotnineWarning: Saving 6.4 x 4.8 in image.\n",
      "/opt/homebrew/Caskroom/miniforge/base/envs/myenv/lib/python3.10/site-packages/plotnine/ggplot.py:719: PlotnineWarning: Filename: images/iter_22.png\n"
     ]
    },
    {
     "name": "stdout",
     "output_type": "stream",
     "text": [
      "Iteration 23. The county id to move is 4.\n",
      "[133122, 412348, 1207834, 1437065]\n"
     ]
    },
    {
     "name": "stderr",
     "output_type": "stream",
     "text": [
      "/opt/homebrew/Caskroom/miniforge/base/envs/myenv/lib/python3.10/site-packages/plotnine/ggplot.py:718: PlotnineWarning: Saving 6.4 x 4.8 in image.\n",
      "/opt/homebrew/Caskroom/miniforge/base/envs/myenv/lib/python3.10/site-packages/plotnine/ggplot.py:719: PlotnineWarning: Filename: images/iter_23.png\n"
     ]
    },
    {
     "name": "stdout",
     "output_type": "stream",
     "text": [
      "Iteration 24. The county id to move is 7.\n",
      "[133122, 412348, 1207834, 1437065]\n"
     ]
    },
    {
     "name": "stderr",
     "output_type": "stream",
     "text": [
      "/opt/homebrew/Caskroom/miniforge/base/envs/myenv/lib/python3.10/site-packages/plotnine/ggplot.py:718: PlotnineWarning: Saving 6.4 x 4.8 in image.\n",
      "/opt/homebrew/Caskroom/miniforge/base/envs/myenv/lib/python3.10/site-packages/plotnine/ggplot.py:719: PlotnineWarning: Filename: images/iter_24.png\n"
     ]
    },
    {
     "name": "stdout",
     "output_type": "stream",
     "text": [
      "Iteration 25. The county id to move is 36.\n",
      "[133122, 412348, 1207834, 1437065]\n"
     ]
    },
    {
     "name": "stderr",
     "output_type": "stream",
     "text": [
      "/opt/homebrew/Caskroom/miniforge/base/envs/myenv/lib/python3.10/site-packages/plotnine/ggplot.py:718: PlotnineWarning: Saving 6.4 x 4.8 in image.\n",
      "/opt/homebrew/Caskroom/miniforge/base/envs/myenv/lib/python3.10/site-packages/plotnine/ggplot.py:719: PlotnineWarning: Filename: images/iter_25.png\n"
     ]
    },
    {
     "name": "stdout",
     "output_type": "stream",
     "text": [
      "Iteration 26. The county id to move is 13.\n",
      "[133122, 412348, 1207834, 1437065]\n"
     ]
    },
    {
     "name": "stderr",
     "output_type": "stream",
     "text": [
      "/opt/homebrew/Caskroom/miniforge/base/envs/myenv/lib/python3.10/site-packages/plotnine/ggplot.py:718: PlotnineWarning: Saving 6.4 x 4.8 in image.\n",
      "/opt/homebrew/Caskroom/miniforge/base/envs/myenv/lib/python3.10/site-packages/plotnine/ggplot.py:719: PlotnineWarning: Filename: images/iter_26.png\n"
     ]
    },
    {
     "name": "stdout",
     "output_type": "stream",
     "text": [
      "Iteration 27. The county id to move is 76.\n",
      "[133122, 412348, 1207834, 1437065]\n"
     ]
    },
    {
     "name": "stderr",
     "output_type": "stream",
     "text": [
      "/opt/homebrew/Caskroom/miniforge/base/envs/myenv/lib/python3.10/site-packages/plotnine/ggplot.py:718: PlotnineWarning: Saving 6.4 x 4.8 in image.\n",
      "/opt/homebrew/Caskroom/miniforge/base/envs/myenv/lib/python3.10/site-packages/plotnine/ggplot.py:719: PlotnineWarning: Filename: images/iter_27.png\n"
     ]
    },
    {
     "name": "stdout",
     "output_type": "stream",
     "text": [
      "Iteration 28. The county id to move is 4.\n",
      "[133122, 412348, 1207834, 1437065]\n"
     ]
    },
    {
     "name": "stderr",
     "output_type": "stream",
     "text": [
      "/opt/homebrew/Caskroom/miniforge/base/envs/myenv/lib/python3.10/site-packages/plotnine/ggplot.py:718: PlotnineWarning: Saving 6.4 x 4.8 in image.\n",
      "/opt/homebrew/Caskroom/miniforge/base/envs/myenv/lib/python3.10/site-packages/plotnine/ggplot.py:719: PlotnineWarning: Filename: images/iter_28.png\n"
     ]
    },
    {
     "name": "stdout",
     "output_type": "stream",
     "text": [
      "Iteration 29. The county id to move is 7.\n",
      "[133122, 412348, 1207834, 1437065]\n"
     ]
    },
    {
     "name": "stderr",
     "output_type": "stream",
     "text": [
      "/opt/homebrew/Caskroom/miniforge/base/envs/myenv/lib/python3.10/site-packages/plotnine/ggplot.py:718: PlotnineWarning: Saving 6.4 x 4.8 in image.\n",
      "/opt/homebrew/Caskroom/miniforge/base/envs/myenv/lib/python3.10/site-packages/plotnine/ggplot.py:719: PlotnineWarning: Filename: images/iter_29.png\n"
     ]
    },
    {
     "name": "stdout",
     "output_type": "stream",
     "text": [
      "Iteration 30. The county id to move is 36.\n",
      "[133122, 412348, 1207834, 1437065]\n"
     ]
    },
    {
     "name": "stderr",
     "output_type": "stream",
     "text": [
      "/opt/homebrew/Caskroom/miniforge/base/envs/myenv/lib/python3.10/site-packages/plotnine/ggplot.py:718: PlotnineWarning: Saving 6.4 x 4.8 in image.\n",
      "/opt/homebrew/Caskroom/miniforge/base/envs/myenv/lib/python3.10/site-packages/plotnine/ggplot.py:719: PlotnineWarning: Filename: images/iter_30.png\n"
     ]
    },
    {
     "name": "stdout",
     "output_type": "stream",
     "text": [
      "Iteration 31. The county id to move is 13.\n",
      "[133122, 412348, 1207834, 1437065]\n"
     ]
    },
    {
     "name": "stderr",
     "output_type": "stream",
     "text": [
      "/opt/homebrew/Caskroom/miniforge/base/envs/myenv/lib/python3.10/site-packages/plotnine/ggplot.py:718: PlotnineWarning: Saving 6.4 x 4.8 in image.\n",
      "/opt/homebrew/Caskroom/miniforge/base/envs/myenv/lib/python3.10/site-packages/plotnine/ggplot.py:719: PlotnineWarning: Filename: images/iter_31.png\n"
     ]
    },
    {
     "name": "stdout",
     "output_type": "stream",
     "text": [
      "Iteration 32. The county id to move is 76.\n",
      "[133122, 412348, 1207834, 1437065]\n"
     ]
    },
    {
     "name": "stderr",
     "output_type": "stream",
     "text": [
      "/opt/homebrew/Caskroom/miniforge/base/envs/myenv/lib/python3.10/site-packages/plotnine/ggplot.py:718: PlotnineWarning: Saving 6.4 x 4.8 in image.\n",
      "/opt/homebrew/Caskroom/miniforge/base/envs/myenv/lib/python3.10/site-packages/plotnine/ggplot.py:719: PlotnineWarning: Filename: images/iter_32.png\n"
     ]
    },
    {
     "name": "stdout",
     "output_type": "stream",
     "text": [
      "Iteration 33. The county id to move is 4.\n",
      "[133122, 412348, 1207834, 1437065]\n"
     ]
    },
    {
     "name": "stderr",
     "output_type": "stream",
     "text": [
      "/opt/homebrew/Caskroom/miniforge/base/envs/myenv/lib/python3.10/site-packages/plotnine/ggplot.py:718: PlotnineWarning: Saving 6.4 x 4.8 in image.\n",
      "/opt/homebrew/Caskroom/miniforge/base/envs/myenv/lib/python3.10/site-packages/plotnine/ggplot.py:719: PlotnineWarning: Filename: images/iter_33.png\n"
     ]
    },
    {
     "name": "stdout",
     "output_type": "stream",
     "text": [
      "Iteration 34. The county id to move is 7.\n",
      "[133122, 412348, 1207834, 1437065]\n"
     ]
    },
    {
     "name": "stderr",
     "output_type": "stream",
     "text": [
      "/opt/homebrew/Caskroom/miniforge/base/envs/myenv/lib/python3.10/site-packages/plotnine/ggplot.py:718: PlotnineWarning: Saving 6.4 x 4.8 in image.\n",
      "/opt/homebrew/Caskroom/miniforge/base/envs/myenv/lib/python3.10/site-packages/plotnine/ggplot.py:719: PlotnineWarning: Filename: images/iter_34.png\n"
     ]
    },
    {
     "name": "stdout",
     "output_type": "stream",
     "text": [
      "Iteration 35. The county id to move is 36.\n",
      "[133122, 412348, 1207834, 1437065]\n"
     ]
    },
    {
     "name": "stderr",
     "output_type": "stream",
     "text": [
      "/opt/homebrew/Caskroom/miniforge/base/envs/myenv/lib/python3.10/site-packages/plotnine/ggplot.py:718: PlotnineWarning: Saving 6.4 x 4.8 in image.\n",
      "/opt/homebrew/Caskroom/miniforge/base/envs/myenv/lib/python3.10/site-packages/plotnine/ggplot.py:719: PlotnineWarning: Filename: images/iter_35.png\n"
     ]
    },
    {
     "name": "stdout",
     "output_type": "stream",
     "text": [
      "Iteration 36. The county id to move is 13.\n",
      "[133122, 412348, 1207834, 1437065]\n"
     ]
    },
    {
     "name": "stderr",
     "output_type": "stream",
     "text": [
      "/opt/homebrew/Caskroom/miniforge/base/envs/myenv/lib/python3.10/site-packages/plotnine/ggplot.py:718: PlotnineWarning: Saving 6.4 x 4.8 in image.\n",
      "/opt/homebrew/Caskroom/miniforge/base/envs/myenv/lib/python3.10/site-packages/plotnine/ggplot.py:719: PlotnineWarning: Filename: images/iter_36.png\n"
     ]
    },
    {
     "name": "stdout",
     "output_type": "stream",
     "text": [
      "Iteration 37. The county id to move is 76.\n",
      "[133122, 412348, 1207834, 1437065]\n"
     ]
    },
    {
     "name": "stderr",
     "output_type": "stream",
     "text": [
      "/opt/homebrew/Caskroom/miniforge/base/envs/myenv/lib/python3.10/site-packages/plotnine/ggplot.py:718: PlotnineWarning: Saving 6.4 x 4.8 in image.\n",
      "/opt/homebrew/Caskroom/miniforge/base/envs/myenv/lib/python3.10/site-packages/plotnine/ggplot.py:719: PlotnineWarning: Filename: images/iter_37.png\n"
     ]
    },
    {
     "name": "stdout",
     "output_type": "stream",
     "text": [
      "Iteration 38. The county id to move is 4.\n",
      "[133122, 412348, 1207834, 1437065]\n"
     ]
    },
    {
     "name": "stderr",
     "output_type": "stream",
     "text": [
      "/opt/homebrew/Caskroom/miniforge/base/envs/myenv/lib/python3.10/site-packages/plotnine/ggplot.py:718: PlotnineWarning: Saving 6.4 x 4.8 in image.\n",
      "/opt/homebrew/Caskroom/miniforge/base/envs/myenv/lib/python3.10/site-packages/plotnine/ggplot.py:719: PlotnineWarning: Filename: images/iter_38.png\n"
     ]
    },
    {
     "name": "stdout",
     "output_type": "stream",
     "text": [
      "Iteration 39. The county id to move is 7.\n",
      "[133122, 412348, 1207834, 1437065]\n"
     ]
    },
    {
     "name": "stderr",
     "output_type": "stream",
     "text": [
      "/opt/homebrew/Caskroom/miniforge/base/envs/myenv/lib/python3.10/site-packages/plotnine/ggplot.py:718: PlotnineWarning: Saving 6.4 x 4.8 in image.\n",
      "/opt/homebrew/Caskroom/miniforge/base/envs/myenv/lib/python3.10/site-packages/plotnine/ggplot.py:719: PlotnineWarning: Filename: images/iter_39.png\n"
     ]
    },
    {
     "name": "stdout",
     "output_type": "stream",
     "text": [
      "Iteration 40. The county id to move is 36.\n",
      "[133122, 412348, 1207834, 1437065]\n"
     ]
    },
    {
     "name": "stderr",
     "output_type": "stream",
     "text": [
      "/opt/homebrew/Caskroom/miniforge/base/envs/myenv/lib/python3.10/site-packages/plotnine/ggplot.py:718: PlotnineWarning: Saving 6.4 x 4.8 in image.\n",
      "/opt/homebrew/Caskroom/miniforge/base/envs/myenv/lib/python3.10/site-packages/plotnine/ggplot.py:719: PlotnineWarning: Filename: images/iter_40.png\n"
     ]
    },
    {
     "name": "stdout",
     "output_type": "stream",
     "text": [
      "Iteration 41. The county id to move is 13.\n",
      "[133122, 412348, 1207834, 1437065]\n"
     ]
    },
    {
     "name": "stderr",
     "output_type": "stream",
     "text": [
      "/opt/homebrew/Caskroom/miniforge/base/envs/myenv/lib/python3.10/site-packages/plotnine/ggplot.py:718: PlotnineWarning: Saving 6.4 x 4.8 in image.\n",
      "/opt/homebrew/Caskroom/miniforge/base/envs/myenv/lib/python3.10/site-packages/plotnine/ggplot.py:719: PlotnineWarning: Filename: images/iter_41.png\n"
     ]
    },
    {
     "name": "stdout",
     "output_type": "stream",
     "text": [
      "Iteration 42. The county id to move is 76.\n",
      "[133122, 412348, 1207834, 1437065]\n"
     ]
    },
    {
     "name": "stderr",
     "output_type": "stream",
     "text": [
      "/opt/homebrew/Caskroom/miniforge/base/envs/myenv/lib/python3.10/site-packages/plotnine/ggplot.py:718: PlotnineWarning: Saving 6.4 x 4.8 in image.\n",
      "/opt/homebrew/Caskroom/miniforge/base/envs/myenv/lib/python3.10/site-packages/plotnine/ggplot.py:719: PlotnineWarning: Filename: images/iter_42.png\n"
     ]
    },
    {
     "name": "stdout",
     "output_type": "stream",
     "text": [
      "Iteration 43. The county id to move is 4.\n",
      "[133122, 412348, 1207834, 1437065]\n"
     ]
    },
    {
     "name": "stderr",
     "output_type": "stream",
     "text": [
      "/opt/homebrew/Caskroom/miniforge/base/envs/myenv/lib/python3.10/site-packages/plotnine/ggplot.py:718: PlotnineWarning: Saving 6.4 x 4.8 in image.\n",
      "/opt/homebrew/Caskroom/miniforge/base/envs/myenv/lib/python3.10/site-packages/plotnine/ggplot.py:719: PlotnineWarning: Filename: images/iter_43.png\n"
     ]
    },
    {
     "name": "stdout",
     "output_type": "stream",
     "text": [
      "Iteration 44. The county id to move is 7.\n",
      "[133122, 412348, 1207834, 1437065]\n"
     ]
    },
    {
     "name": "stderr",
     "output_type": "stream",
     "text": [
      "/opt/homebrew/Caskroom/miniforge/base/envs/myenv/lib/python3.10/site-packages/plotnine/ggplot.py:718: PlotnineWarning: Saving 6.4 x 4.8 in image.\n",
      "/opt/homebrew/Caskroom/miniforge/base/envs/myenv/lib/python3.10/site-packages/plotnine/ggplot.py:719: PlotnineWarning: Filename: images/iter_44.png\n"
     ]
    },
    {
     "name": "stdout",
     "output_type": "stream",
     "text": [
      "Iteration 45. The county id to move is 36.\n",
      "[133122, 412348, 1207834, 1437065]\n"
     ]
    },
    {
     "name": "stderr",
     "output_type": "stream",
     "text": [
      "/opt/homebrew/Caskroom/miniforge/base/envs/myenv/lib/python3.10/site-packages/plotnine/ggplot.py:718: PlotnineWarning: Saving 6.4 x 4.8 in image.\n",
      "/opt/homebrew/Caskroom/miniforge/base/envs/myenv/lib/python3.10/site-packages/plotnine/ggplot.py:719: PlotnineWarning: Filename: images/iter_45.png\n"
     ]
    },
    {
     "name": "stdout",
     "output_type": "stream",
     "text": [
      "Iteration 46. The county id to move is 13.\n",
      "[133122, 412348, 1207834, 1437065]\n"
     ]
    },
    {
     "name": "stderr",
     "output_type": "stream",
     "text": [
      "/opt/homebrew/Caskroom/miniforge/base/envs/myenv/lib/python3.10/site-packages/plotnine/ggplot.py:718: PlotnineWarning: Saving 6.4 x 4.8 in image.\n",
      "/opt/homebrew/Caskroom/miniforge/base/envs/myenv/lib/python3.10/site-packages/plotnine/ggplot.py:719: PlotnineWarning: Filename: images/iter_46.png\n"
     ]
    },
    {
     "name": "stdout",
     "output_type": "stream",
     "text": [
      "Iteration 47. The county id to move is 76.\n",
      "[133122, 412348, 1207834, 1437065]\n"
     ]
    },
    {
     "name": "stderr",
     "output_type": "stream",
     "text": [
      "/opt/homebrew/Caskroom/miniforge/base/envs/myenv/lib/python3.10/site-packages/plotnine/ggplot.py:718: PlotnineWarning: Saving 6.4 x 4.8 in image.\n",
      "/opt/homebrew/Caskroom/miniforge/base/envs/myenv/lib/python3.10/site-packages/plotnine/ggplot.py:719: PlotnineWarning: Filename: images/iter_47.png\n"
     ]
    },
    {
     "name": "stdout",
     "output_type": "stream",
     "text": [
      "Iteration 48. The county id to move is 4.\n",
      "[133122, 412348, 1207834, 1437065]\n"
     ]
    },
    {
     "name": "stderr",
     "output_type": "stream",
     "text": [
      "/opt/homebrew/Caskroom/miniforge/base/envs/myenv/lib/python3.10/site-packages/plotnine/ggplot.py:718: PlotnineWarning: Saving 6.4 x 4.8 in image.\n",
      "/opt/homebrew/Caskroom/miniforge/base/envs/myenv/lib/python3.10/site-packages/plotnine/ggplot.py:719: PlotnineWarning: Filename: images/iter_48.png\n"
     ]
    },
    {
     "name": "stdout",
     "output_type": "stream",
     "text": [
      "Iteration 49. The county id to move is 7.\n",
      "[133122, 412348, 1207834, 1437065]\n"
     ]
    },
    {
     "name": "stderr",
     "output_type": "stream",
     "text": [
      "/opt/homebrew/Caskroom/miniforge/base/envs/myenv/lib/python3.10/site-packages/plotnine/ggplot.py:718: PlotnineWarning: Saving 6.4 x 4.8 in image.\n",
      "/opt/homebrew/Caskroom/miniforge/base/envs/myenv/lib/python3.10/site-packages/plotnine/ggplot.py:719: PlotnineWarning: Filename: images/iter_49.png\n"
     ]
    },
    {
     "name": "stdout",
     "output_type": "stream",
     "text": [
      "Iteration 50. The county id to move is 36.\n",
      "[133122, 412348, 1207834, 1437065]\n"
     ]
    },
    {
     "name": "stderr",
     "output_type": "stream",
     "text": [
      "/opt/homebrew/Caskroom/miniforge/base/envs/myenv/lib/python3.10/site-packages/plotnine/ggplot.py:718: PlotnineWarning: Saving 6.4 x 4.8 in image.\n",
      "/opt/homebrew/Caskroom/miniforge/base/envs/myenv/lib/python3.10/site-packages/plotnine/ggplot.py:719: PlotnineWarning: Filename: images/iter_50.png\n"
     ]
    },
    {
     "name": "stdout",
     "output_type": "stream",
     "text": [
      "Iteration 51. The county id to move is 13.\n",
      "[133122, 412348, 1207834, 1437065]\n"
     ]
    },
    {
     "name": "stderr",
     "output_type": "stream",
     "text": [
      "/opt/homebrew/Caskroom/miniforge/base/envs/myenv/lib/python3.10/site-packages/plotnine/ggplot.py:718: PlotnineWarning: Saving 6.4 x 4.8 in image.\n",
      "/opt/homebrew/Caskroom/miniforge/base/envs/myenv/lib/python3.10/site-packages/plotnine/ggplot.py:719: PlotnineWarning: Filename: images/iter_51.png\n"
     ]
    },
    {
     "name": "stdout",
     "output_type": "stream",
     "text": [
      "Iteration 52. The county id to move is 76.\n",
      "[133122, 412348, 1207834, 1437065]\n"
     ]
    },
    {
     "name": "stderr",
     "output_type": "stream",
     "text": [
      "/opt/homebrew/Caskroom/miniforge/base/envs/myenv/lib/python3.10/site-packages/plotnine/ggplot.py:718: PlotnineWarning: Saving 6.4 x 4.8 in image.\n",
      "/opt/homebrew/Caskroom/miniforge/base/envs/myenv/lib/python3.10/site-packages/plotnine/ggplot.py:719: PlotnineWarning: Filename: images/iter_52.png\n"
     ]
    },
    {
     "name": "stdout",
     "output_type": "stream",
     "text": [
      "Iteration 53. The county id to move is 4.\n",
      "[133122, 412348, 1207834, 1437065]\n"
     ]
    },
    {
     "name": "stderr",
     "output_type": "stream",
     "text": [
      "/opt/homebrew/Caskroom/miniforge/base/envs/myenv/lib/python3.10/site-packages/plotnine/ggplot.py:718: PlotnineWarning: Saving 6.4 x 4.8 in image.\n",
      "/opt/homebrew/Caskroom/miniforge/base/envs/myenv/lib/python3.10/site-packages/plotnine/ggplot.py:719: PlotnineWarning: Filename: images/iter_53.png\n"
     ]
    },
    {
     "name": "stdout",
     "output_type": "stream",
     "text": [
      "Iteration 54. The county id to move is 7.\n",
      "[133122, 412348, 1207834, 1437065]\n"
     ]
    },
    {
     "name": "stderr",
     "output_type": "stream",
     "text": [
      "/opt/homebrew/Caskroom/miniforge/base/envs/myenv/lib/python3.10/site-packages/plotnine/ggplot.py:718: PlotnineWarning: Saving 6.4 x 4.8 in image.\n",
      "/opt/homebrew/Caskroom/miniforge/base/envs/myenv/lib/python3.10/site-packages/plotnine/ggplot.py:719: PlotnineWarning: Filename: images/iter_54.png\n"
     ]
    },
    {
     "name": "stdout",
     "output_type": "stream",
     "text": [
      "Iteration 55. The county id to move is 36.\n",
      "[133122, 412348, 1207834, 1437065]\n"
     ]
    },
    {
     "name": "stderr",
     "output_type": "stream",
     "text": [
      "/opt/homebrew/Caskroom/miniforge/base/envs/myenv/lib/python3.10/site-packages/plotnine/ggplot.py:718: PlotnineWarning: Saving 6.4 x 4.8 in image.\n",
      "/opt/homebrew/Caskroom/miniforge/base/envs/myenv/lib/python3.10/site-packages/plotnine/ggplot.py:719: PlotnineWarning: Filename: images/iter_55.png\n"
     ]
    },
    {
     "name": "stdout",
     "output_type": "stream",
     "text": [
      "Iteration 56. The county id to move is 13.\n",
      "[133122, 412348, 1207834, 1437065]\n"
     ]
    },
    {
     "name": "stderr",
     "output_type": "stream",
     "text": [
      "/opt/homebrew/Caskroom/miniforge/base/envs/myenv/lib/python3.10/site-packages/plotnine/ggplot.py:718: PlotnineWarning: Saving 6.4 x 4.8 in image.\n",
      "/opt/homebrew/Caskroom/miniforge/base/envs/myenv/lib/python3.10/site-packages/plotnine/ggplot.py:719: PlotnineWarning: Filename: images/iter_56.png\n"
     ]
    },
    {
     "name": "stdout",
     "output_type": "stream",
     "text": [
      "Iteration 57. The county id to move is 76.\n",
      "[133122, 412348, 1207834, 1437065]\n"
     ]
    },
    {
     "name": "stderr",
     "output_type": "stream",
     "text": [
      "/opt/homebrew/Caskroom/miniforge/base/envs/myenv/lib/python3.10/site-packages/plotnine/ggplot.py:718: PlotnineWarning: Saving 6.4 x 4.8 in image.\n",
      "/opt/homebrew/Caskroom/miniforge/base/envs/myenv/lib/python3.10/site-packages/plotnine/ggplot.py:719: PlotnineWarning: Filename: images/iter_57.png\n"
     ]
    },
    {
     "name": "stdout",
     "output_type": "stream",
     "text": [
      "Iteration 58. The county id to move is 4.\n",
      "[133122, 412348, 1207834, 1437065]\n"
     ]
    },
    {
     "name": "stderr",
     "output_type": "stream",
     "text": [
      "/opt/homebrew/Caskroom/miniforge/base/envs/myenv/lib/python3.10/site-packages/plotnine/ggplot.py:718: PlotnineWarning: Saving 6.4 x 4.8 in image.\n",
      "/opt/homebrew/Caskroom/miniforge/base/envs/myenv/lib/python3.10/site-packages/plotnine/ggplot.py:719: PlotnineWarning: Filename: images/iter_58.png\n"
     ]
    },
    {
     "name": "stdout",
     "output_type": "stream",
     "text": [
      "Iteration 59. The county id to move is 7.\n",
      "[133122, 412348, 1207834, 1437065]\n"
     ]
    },
    {
     "name": "stderr",
     "output_type": "stream",
     "text": [
      "/opt/homebrew/Caskroom/miniforge/base/envs/myenv/lib/python3.10/site-packages/plotnine/ggplot.py:718: PlotnineWarning: Saving 6.4 x 4.8 in image.\n",
      "/opt/homebrew/Caskroom/miniforge/base/envs/myenv/lib/python3.10/site-packages/plotnine/ggplot.py:719: PlotnineWarning: Filename: images/iter_59.png\n"
     ]
    },
    {
     "name": "stdout",
     "output_type": "stream",
     "text": [
      "Iteration 60. The county id to move is 36.\n",
      "[133122, 412348, 1207834, 1437065]\n"
     ]
    },
    {
     "name": "stderr",
     "output_type": "stream",
     "text": [
      "/opt/homebrew/Caskroom/miniforge/base/envs/myenv/lib/python3.10/site-packages/plotnine/ggplot.py:718: PlotnineWarning: Saving 6.4 x 4.8 in image.\n",
      "/opt/homebrew/Caskroom/miniforge/base/envs/myenv/lib/python3.10/site-packages/plotnine/ggplot.py:719: PlotnineWarning: Filename: images/iter_60.png\n"
     ]
    },
    {
     "name": "stdout",
     "output_type": "stream",
     "text": [
      "Iteration 61. The county id to move is 13.\n",
      "[133122, 412348, 1207834, 1437065]\n"
     ]
    },
    {
     "name": "stderr",
     "output_type": "stream",
     "text": [
      "/opt/homebrew/Caskroom/miniforge/base/envs/myenv/lib/python3.10/site-packages/plotnine/ggplot.py:718: PlotnineWarning: Saving 6.4 x 4.8 in image.\n",
      "/opt/homebrew/Caskroom/miniforge/base/envs/myenv/lib/python3.10/site-packages/plotnine/ggplot.py:719: PlotnineWarning: Filename: images/iter_61.png\n"
     ]
    },
    {
     "name": "stdout",
     "output_type": "stream",
     "text": [
      "Iteration 62. The county id to move is 76.\n",
      "[133122, 412348, 1207834, 1437065]\n"
     ]
    },
    {
     "name": "stderr",
     "output_type": "stream",
     "text": [
      "/opt/homebrew/Caskroom/miniforge/base/envs/myenv/lib/python3.10/site-packages/plotnine/ggplot.py:718: PlotnineWarning: Saving 6.4 x 4.8 in image.\n",
      "/opt/homebrew/Caskroom/miniforge/base/envs/myenv/lib/python3.10/site-packages/plotnine/ggplot.py:719: PlotnineWarning: Filename: images/iter_62.png\n"
     ]
    },
    {
     "name": "stdout",
     "output_type": "stream",
     "text": [
      "Iteration 63. The county id to move is 4.\n",
      "[133122, 412348, 1207834, 1437065]\n"
     ]
    },
    {
     "name": "stderr",
     "output_type": "stream",
     "text": [
      "/opt/homebrew/Caskroom/miniforge/base/envs/myenv/lib/python3.10/site-packages/plotnine/ggplot.py:718: PlotnineWarning: Saving 6.4 x 4.8 in image.\n",
      "/opt/homebrew/Caskroom/miniforge/base/envs/myenv/lib/python3.10/site-packages/plotnine/ggplot.py:719: PlotnineWarning: Filename: images/iter_63.png\n"
     ]
    },
    {
     "name": "stdout",
     "output_type": "stream",
     "text": [
      "Iteration 64. The county id to move is 7.\n",
      "[133122, 412348, 1207834, 1437065]\n"
     ]
    },
    {
     "name": "stderr",
     "output_type": "stream",
     "text": [
      "/opt/homebrew/Caskroom/miniforge/base/envs/myenv/lib/python3.10/site-packages/plotnine/ggplot.py:718: PlotnineWarning: Saving 6.4 x 4.8 in image.\n",
      "/opt/homebrew/Caskroom/miniforge/base/envs/myenv/lib/python3.10/site-packages/plotnine/ggplot.py:719: PlotnineWarning: Filename: images/iter_64.png\n"
     ]
    },
    {
     "name": "stdout",
     "output_type": "stream",
     "text": [
      "Iteration 65. The county id to move is 36.\n",
      "[133122, 412348, 1207834, 1437065]\n"
     ]
    },
    {
     "name": "stderr",
     "output_type": "stream",
     "text": [
      "/opt/homebrew/Caskroom/miniforge/base/envs/myenv/lib/python3.10/site-packages/plotnine/ggplot.py:718: PlotnineWarning: Saving 6.4 x 4.8 in image.\n",
      "/opt/homebrew/Caskroom/miniforge/base/envs/myenv/lib/python3.10/site-packages/plotnine/ggplot.py:719: PlotnineWarning: Filename: images/iter_65.png\n"
     ]
    },
    {
     "name": "stdout",
     "output_type": "stream",
     "text": [
      "Iteration 66. The county id to move is 13.\n",
      "[133122, 412348, 1207834, 1437065]\n"
     ]
    },
    {
     "name": "stderr",
     "output_type": "stream",
     "text": [
      "/opt/homebrew/Caskroom/miniforge/base/envs/myenv/lib/python3.10/site-packages/plotnine/ggplot.py:718: PlotnineWarning: Saving 6.4 x 4.8 in image.\n",
      "/opt/homebrew/Caskroom/miniforge/base/envs/myenv/lib/python3.10/site-packages/plotnine/ggplot.py:719: PlotnineWarning: Filename: images/iter_66.png\n"
     ]
    },
    {
     "name": "stdout",
     "output_type": "stream",
     "text": [
      "Iteration 67. The county id to move is 76.\n",
      "[133122, 412348, 1207834, 1437065]\n"
     ]
    },
    {
     "name": "stderr",
     "output_type": "stream",
     "text": [
      "/opt/homebrew/Caskroom/miniforge/base/envs/myenv/lib/python3.10/site-packages/plotnine/ggplot.py:718: PlotnineWarning: Saving 6.4 x 4.8 in image.\n",
      "/opt/homebrew/Caskroom/miniforge/base/envs/myenv/lib/python3.10/site-packages/plotnine/ggplot.py:719: PlotnineWarning: Filename: images/iter_67.png\n"
     ]
    },
    {
     "name": "stdout",
     "output_type": "stream",
     "text": [
      "Iteration 68. The county id to move is 4.\n",
      "[133122, 412348, 1207834, 1437065]\n"
     ]
    },
    {
     "name": "stderr",
     "output_type": "stream",
     "text": [
      "/opt/homebrew/Caskroom/miniforge/base/envs/myenv/lib/python3.10/site-packages/plotnine/ggplot.py:718: PlotnineWarning: Saving 6.4 x 4.8 in image.\n",
      "/opt/homebrew/Caskroom/miniforge/base/envs/myenv/lib/python3.10/site-packages/plotnine/ggplot.py:719: PlotnineWarning: Filename: images/iter_68.png\n"
     ]
    },
    {
     "name": "stdout",
     "output_type": "stream",
     "text": [
      "Iteration 69. The county id to move is 7.\n",
      "[133122, 412348, 1207834, 1437065]\n"
     ]
    },
    {
     "name": "stderr",
     "output_type": "stream",
     "text": [
      "/opt/homebrew/Caskroom/miniforge/base/envs/myenv/lib/python3.10/site-packages/plotnine/ggplot.py:718: PlotnineWarning: Saving 6.4 x 4.8 in image.\n",
      "/opt/homebrew/Caskroom/miniforge/base/envs/myenv/lib/python3.10/site-packages/plotnine/ggplot.py:719: PlotnineWarning: Filename: images/iter_69.png\n"
     ]
    },
    {
     "name": "stdout",
     "output_type": "stream",
     "text": [
      "Iteration 70. The county id to move is 36.\n",
      "[133122, 412348, 1207834, 1437065]\n"
     ]
    },
    {
     "name": "stderr",
     "output_type": "stream",
     "text": [
      "/opt/homebrew/Caskroom/miniforge/base/envs/myenv/lib/python3.10/site-packages/plotnine/ggplot.py:718: PlotnineWarning: Saving 6.4 x 4.8 in image.\n",
      "/opt/homebrew/Caskroom/miniforge/base/envs/myenv/lib/python3.10/site-packages/plotnine/ggplot.py:719: PlotnineWarning: Filename: images/iter_70.png\n"
     ]
    }
   ],
   "source": [
    "for k in range(70):\n",
    "\n",
    "    # Making separate geodataframes for each district (one district/attribute in each).\n",
    "    list_of_districts=[]\n",
    "    for i in range(4):\n",
    "        list_of_districts.append(shapef_ia_redist.iloc[[i]].reset_index(drop=True))\n",
    "\n",
    "    #the identity overlay takes district n and splits it up by all counties\n",
    "    # which fall inside it (from main, un-districted shapefile)\n",
    "    #keep_geom_type=True   discards boundary points and lines from counties which only border the district\n",
    "    #resulting dataframe columns: _1 stuff comes from parent (whole district)\n",
    "    #                             _2 stuff comes from specific county\n",
    "    list_of_counties=[]\n",
    "    for i in range(4):\n",
    "        list_of_counties.append(list_of_districts[i].overlay(shapef_counties_for_realloc,how='identity',keep_geom_type=True))\n",
    "\n",
    "    #this records the district number each county is assigned to in the first pass\n",
    "    shapef_counties_for_realloc['DISTRICT']=''\n",
    "    for i in range(99):\n",
    "        for j in range(4):\n",
    "            # if i<j:\n",
    "            if shapef_counties_for_realloc.iloc[i]['COUNTYFP10'] in list_of_counties[j]['COUNTYFP10'].tolist():\n",
    "                shapef_counties_for_realloc.loc[i,'DISTRICT']=j+1\n",
    "    # shapef_counties_for_realloc\n",
    "\n",
    "\n",
    "    bigdist_movable_list=border_counties_df_func(shapef_ia_redist, list_of_districts, list_of_counties)[0]\n",
    "    pop_limit_switch_list=border_counties_df_func(shapef_ia_redist, list_of_districts, list_of_counties)[1]\n",
    "    new_district_list = border_counties_df_func(shapef_ia_redist, list_of_districts, list_of_counties)[2]\n",
    "    # bigdist_movable\n",
    "    switches_threshold_list=switch_threshold_fun(bigdist_movable_list)\n",
    "\n",
    "\n",
    "    # What county should be switched? Humboldt! (FIPS 091/id 45)\n",
    "    movingcounty_index=switch_func(bigdist_movable_list, switches_threshold_list,pop_limit_switch_list)\n",
    "    # print(movingcounty_index)\n",
    "\n",
    "    print(\"Iteration %d. The county id to move is %d.\" \\\n",
    "        % (k+1,            \n",
    "            movingcounty_index\n",
    "           ) )\n",
    "\n",
    "\n",
    "    # Update 99 row dataframe:\n",
    "    shapef_counties_for_realloc.loc[movingcounty_index,'DISTRICT'] = new_district\n",
    "    shapef_counties_for_realloc.loc[movingcounty_index,'num_switches'] = shapef_counties_for_realloc.loc[movingcounty_index,'num_switches']+1\n",
    "\n",
    "    # overwriting old 4 row geodataframe with the new version (dissolved based on updated district number) \n",
    "    shapef_ia_redist = dissolve_by_district(shapef_counties_for_realloc)\n",
    "\n",
    "    print(shapef_ia_redist['population'].to_list())\n",
    "    iter_number=str(k+1).rjust(2,'0')\n",
    "    im1 = map_merged_districts(shapef_ia_redist,'DISTRICT')\n",
    "    im1 = im1.save(\"images/iter_{}.png\".format(iter_number))         ###############FIX THIS TO BE ACTUAL (zeropadded) numbers\n",
    "    \n",
    "    district_min=ideal_district_size_func(state_population, n_districts, .01)[0]\n",
    "    district_max=ideal_district_size_func(state_population, n_districts, .01)[1]\n",
    "\n",
    "    if shapef_ia_redist['population'].max() in range(district_min, district_max+1) and shapef_ia_redist['population'].min() in range(district_min, district_max+1):\n",
    "        break\n",
    "\n"
   ]
  },
  {
   "cell_type": "code",
   "execution_count": 58,
   "id": "ecc553a0",
   "metadata": {},
   "outputs": [],
   "source": [
    "# https://pythonprogramming.altervista.org/png-to-git-to-tell-a-story-with-python-and-pil/?doing_wp_cron=1696438340.8417139053344726562500\n",
    "\n",
    "# Create the frames\n",
    "frames = []\n",
    "imgs = sorted(glob.glob(\"./images/*.png\"))\n",
    "# imgs = imgs.sort()\n",
    "for i in imgs:\n",
    "    new_frame = Image.open(i)\n",
    "    frames.append(new_frame)\n",
    "\n",
    "# Save into a GIF file that loops forever\n",
    "frames[0].save('./images/realloc_maps.gif', format='GIF',\n",
    "               append_images=frames[1:],\n",
    "               save_all=True,\n",
    "               duration=300, loop=0)"
   ]
  },
  {
   "cell_type": "markdown",
   "id": "51e54e9d",
   "metadata": {},
   "source": [
    "## Steps for next time 10/11:\n",
    "1. Things we did\n",
    "    - edit code for gif creation so that maps are added in correct order\n",
    "    - update reallocation for loop to use border_counties_df_func instead of border_counties_fun\n",
    "2. To investigate:\n",
    "    - Modify switch_func so that if there are no counties to move between a pair of districts, proceed to the next border_counties_df from border_counties_func(arg, arg arg)[0]\n",
    "    - determine why 03 and 67 weren't moved\n",
    "    - look into gpd documentation to see how to address kitty corners:\n",
    "        - do we add a minimum adjacency threshold (ie must share a border at least X miles long)\n",
    "        - Perhaps add in criteria after moving_index is identified\n",
    "            -check if the move will yield discontiguous districts. If yes, discard option and move to next choice. If not, move that county.\n",
    "        - If there are no good counties to move between a pair of districts, move to the next pair of districts\n",
    "\n",
    "\n"
   ]
  },
  {
   "cell_type": "code",
   "execution_count": 43,
   "id": "e9e22206",
   "metadata": {},
   "outputs": [
    {
     "data": {
      "text/html": [
       "<div>\n",
       "<style scoped>\n",
       "    .dataframe tbody tr th:only-of-type {\n",
       "        vertical-align: middle;\n",
       "    }\n",
       "\n",
       "    .dataframe tbody tr th {\n",
       "        vertical-align: top;\n",
       "    }\n",
       "\n",
       "    .dataframe thead th {\n",
       "        text-align: right;\n",
       "    }\n",
       "</style>\n",
       "<table border=\"1\" class=\"dataframe\">\n",
       "  <thead>\n",
       "    <tr style=\"text-align: right;\">\n",
       "      <th></th>\n",
       "      <th>COUNTYFP10</th>\n",
       "      <th>NAME10</th>\n",
       "      <th>geometry</th>\n",
       "      <th>population</th>\n",
       "      <th>county_id</th>\n",
       "      <th>xcentr_lon</th>\n",
       "      <th>ycentr_lat</th>\n",
       "      <th>county_id_string</th>\n",
       "      <th>temp_district</th>\n",
       "      <th>num_switches</th>\n",
       "      <th>DISTRICT</th>\n",
       "    </tr>\n",
       "  </thead>\n",
       "  <tbody>\n",
       "    <tr>\n",
       "      <th>49</th>\n",
       "      <td>099</td>\n",
       "      <td>Jasper</td>\n",
       "      <td>POLYGON ((519437.635 4615176.061, 519437.991 4...</td>\n",
       "      <td>37813</td>\n",
       "      <td>49</td>\n",
       "      <td>495526.676875</td>\n",
       "      <td>4.614916e+06</td>\n",
       "      <td>49</td>\n",
       "      <td>49</td>\n",
       "      <td>2</td>\n",
       "      <td>1</td>\n",
       "    </tr>\n",
       "    <tr>\n",
       "      <th>78</th>\n",
       "      <td>157</td>\n",
       "      <td>Poweshiek</td>\n",
       "      <td>POLYGON ((548502.841 4634675.905, 548944.218 4...</td>\n",
       "      <td>18662</td>\n",
       "      <td>78</td>\n",
       "      <td>538993.297726</td>\n",
       "      <td>4.615060e+06</td>\n",
       "      <td>78</td>\n",
       "      <td>78</td>\n",
       "      <td>2</td>\n",
       "      <td>1</td>\n",
       "    </tr>\n",
       "  </tbody>\n",
       "</table>\n",
       "</div>"
      ],
      "text/plain": [
       "   COUNTYFP10     NAME10                                           geometry  \\\n",
       "49        099     Jasper  POLYGON ((519437.635 4615176.061, 519437.991 4...   \n",
       "78        157  Poweshiek  POLYGON ((548502.841 4634675.905, 548944.218 4...   \n",
       "\n",
       "    population  county_id     xcentr_lon    ycentr_lat county_id_string  \\\n",
       "49       37813         49  495526.676875  4.614916e+06               49   \n",
       "78       18662         78  538993.297726  4.615060e+06               78   \n",
       "\n",
       "    temp_district  num_switches DISTRICT  \n",
       "49             49             2        1  \n",
       "78             78             2        1  "
      ]
     },
     "execution_count": 43,
     "metadata": {},
     "output_type": "execute_result"
    }
   ],
   "source": [
    "shapef_counties_for_realloc.loc[shapef_counties_for_realloc['num_switches']>1]"
   ]
  },
  {
   "cell_type": "code",
   "execution_count": 71,
   "id": "52ddcd72",
   "metadata": {},
   "outputs": [
    {
     "data": {
      "text/plain": [
       "(717833, 877351)"
      ]
     },
     "execution_count": 71,
     "metadata": {},
     "output_type": "execute_result"
    }
   ],
   "source": [
    "ideal_district_size_func(state_population, n_districts, .1)"
   ]
  },
  {
   "cell_type": "code",
   "execution_count": 70,
   "id": "533c97ed",
   "metadata": {},
   "outputs": [
    {
     "data": {
      "text/html": [
       "<div>\n",
       "<style scoped>\n",
       "    .dataframe tbody tr th:only-of-type {\n",
       "        vertical-align: middle;\n",
       "    }\n",
       "\n",
       "    .dataframe tbody tr th {\n",
       "        vertical-align: top;\n",
       "    }\n",
       "\n",
       "    .dataframe thead th {\n",
       "        text-align: right;\n",
       "    }\n",
       "</style>\n",
       "<table border=\"1\" class=\"dataframe\">\n",
       "  <thead>\n",
       "    <tr style=\"text-align: right;\">\n",
       "      <th></th>\n",
       "      <th>geometry</th>\n",
       "      <th>population</th>\n",
       "      <th>xcentr_lon</th>\n",
       "      <th>ycentr_lat</th>\n",
       "      <th>DISTRICT</th>\n",
       "    </tr>\n",
       "  </thead>\n",
       "  <tbody>\n",
       "    <tr>\n",
       "      <th>0</th>\n",
       "      <td>MULTIPOLYGON (((413996.789 4491953.713, 413922...</td>\n",
       "      <td>747085</td>\n",
       "      <td>426357.727861</td>\n",
       "      <td>4.603750e+06</td>\n",
       "      <td>1</td>\n",
       "    </tr>\n",
       "    <tr>\n",
       "      <th>1</th>\n",
       "      <td>MULTIPOLYGON (((491768.136 4518326.458, 491768...</td>\n",
       "      <td>773604</td>\n",
       "      <td>567344.210080</td>\n",
       "      <td>4.557124e+06</td>\n",
       "      <td>2</td>\n",
       "    </tr>\n",
       "    <tr>\n",
       "      <th>2</th>\n",
       "      <td>POLYGON ((325806.753 4617405.526, 325806.847 4...</td>\n",
       "      <td>795104</td>\n",
       "      <td>377968.335208</td>\n",
       "      <td>4.728567e+06</td>\n",
       "      <td>3</td>\n",
       "    </tr>\n",
       "    <tr>\n",
       "      <th>3</th>\n",
       "      <td>POLYGON ((634870.057 4587002.443, 634846.066 4...</td>\n",
       "      <td>874576</td>\n",
       "      <td>651135.773646</td>\n",
       "      <td>4.676086e+06</td>\n",
       "      <td>4</td>\n",
       "    </tr>\n",
       "  </tbody>\n",
       "</table>\n",
       "</div>"
      ],
      "text/plain": [
       "                                            geometry  population  \\\n",
       "0  MULTIPOLYGON (((413996.789 4491953.713, 413922...      747085   \n",
       "1  MULTIPOLYGON (((491768.136 4518326.458, 491768...      773604   \n",
       "2  POLYGON ((325806.753 4617405.526, 325806.847 4...      795104   \n",
       "3  POLYGON ((634870.057 4587002.443, 634846.066 4...      874576   \n",
       "\n",
       "      xcentr_lon    ycentr_lat DISTRICT  \n",
       "0  426357.727861  4.603750e+06        1  \n",
       "1  567344.210080  4.557124e+06        2  \n",
       "2  377968.335208  4.728567e+06        3  \n",
       "3  651135.773646  4.676086e+06        4  "
      ]
     },
     "execution_count": 70,
     "metadata": {},
     "output_type": "execute_result"
    }
   ],
   "source": [
    "shapef_ia_redist"
   ]
  },
  {
   "cell_type": "code",
   "execution_count": 126,
   "id": "a4b7c6db",
   "metadata": {},
   "outputs": [
    {
     "data": {
      "text/html": [
       "<div>\n",
       "<style scoped>\n",
       "    .dataframe tbody tr th:only-of-type {\n",
       "        vertical-align: middle;\n",
       "    }\n",
       "\n",
       "    .dataframe tbody tr th {\n",
       "        vertical-align: top;\n",
       "    }\n",
       "\n",
       "    .dataframe thead th {\n",
       "        text-align: right;\n",
       "    }\n",
       "</style>\n",
       "<table border=\"1\" class=\"dataframe\">\n",
       "  <thead>\n",
       "    <tr style=\"text-align: right;\">\n",
       "      <th></th>\n",
       "      <th>COUNTYFP10</th>\n",
       "      <th>NAME10</th>\n",
       "      <th>geometry</th>\n",
       "      <th>population</th>\n",
       "      <th>county_id</th>\n",
       "      <th>xcentr_lon</th>\n",
       "      <th>ycentr_lat</th>\n",
       "      <th>county_id_string</th>\n",
       "      <th>temp_district</th>\n",
       "      <th>num_switches</th>\n",
       "      <th>DISTRICT</th>\n",
       "    </tr>\n",
       "  </thead>\n",
       "  <tbody>\n",
       "    <tr>\n",
       "      <th>36</th>\n",
       "      <td>073</td>\n",
       "      <td>Greene</td>\n",
       "      <td>POLYGON ((364955.036 4645564.668, 364958.141 4...</td>\n",
       "      <td>8771</td>\n",
       "      <td>36</td>\n",
       "      <td>384380.986817</td>\n",
       "      <td>4.654735e+06</td>\n",
       "      <td>36</td>\n",
       "      <td>36</td>\n",
       "      <td>1</td>\n",
       "      <td>3</td>\n",
       "    </tr>\n",
       "  </tbody>\n",
       "</table>\n",
       "</div>"
      ],
      "text/plain": [
       "   COUNTYFP10  NAME10                                           geometry  \\\n",
       "36        073  Greene  POLYGON ((364955.036 4645564.668, 364958.141 4...   \n",
       "\n",
       "    population  county_id     xcentr_lon    ycentr_lat county_id_string  \\\n",
       "36        8771         36  384380.986817  4.654735e+06               36   \n",
       "\n",
       "    temp_district  num_switches DISTRICT  \n",
       "36             36             1        3  "
      ]
     },
     "execution_count": 126,
     "metadata": {},
     "output_type": "execute_result"
    }
   ],
   "source": [
    "shapef_counties_for_realloc.loc[shapef_counties_for_realloc['county_id']==movingcounty_index]"
   ]
  },
  {
   "cell_type": "code",
   "execution_count": 121,
   "id": "27170b1a",
   "metadata": {},
   "outputs": [
    {
     "data": {
      "text/html": [
       "<div>\n",
       "<style scoped>\n",
       "    .dataframe tbody tr th:only-of-type {\n",
       "        vertical-align: middle;\n",
       "    }\n",
       "\n",
       "    .dataframe tbody tr th {\n",
       "        vertical-align: top;\n",
       "    }\n",
       "\n",
       "    .dataframe thead th {\n",
       "        text-align: right;\n",
       "    }\n",
       "</style>\n",
       "<table border=\"1\" class=\"dataframe\">\n",
       "  <thead>\n",
       "    <tr style=\"text-align: right;\">\n",
       "      <th></th>\n",
       "      <th>geometry</th>\n",
       "      <th>population</th>\n",
       "      <th>xcentr_lon</th>\n",
       "      <th>ycentr_lat</th>\n",
       "      <th>DISTRICT</th>\n",
       "    </tr>\n",
       "  </thead>\n",
       "  <tbody>\n",
       "    <tr>\n",
       "      <th>0</th>\n",
       "      <td>POLYGON ((347722.464 4557927.937, 347713.169 4...</td>\n",
       "      <td>133122</td>\n",
       "      <td>296454.715195</td>\n",
       "      <td>4.596624e+06</td>\n",
       "      <td>1</td>\n",
       "    </tr>\n",
       "    <tr>\n",
       "      <th>1</th>\n",
       "      <td>POLYGON ((530640.900 4493402.478, 530528.621 4...</td>\n",
       "      <td>412348</td>\n",
       "      <td>421801.425712</td>\n",
       "      <td>4.546914e+06</td>\n",
       "      <td>2</td>\n",
       "    </tr>\n",
       "    <tr>\n",
       "      <th>2</th>\n",
       "      <td>POLYGON ((325801.578 4617291.999, 325803.323 4...</td>\n",
       "      <td>394730</td>\n",
       "      <td>310917.307227</td>\n",
       "      <td>4.732490e+06</td>\n",
       "      <td>3</td>\n",
       "    </tr>\n",
       "    <tr>\n",
       "      <th>3</th>\n",
       "      <td>POLYGON ((659475.197 4506757.653, 659405.803 4...</td>\n",
       "      <td>2250169</td>\n",
       "      <td>558428.607582</td>\n",
       "      <td>4.675692e+06</td>\n",
       "      <td>4</td>\n",
       "    </tr>\n",
       "  </tbody>\n",
       "</table>\n",
       "</div>"
      ],
      "text/plain": [
       "                                            geometry  population  \\\n",
       "0  POLYGON ((347722.464 4557927.937, 347713.169 4...      133122   \n",
       "1  POLYGON ((530640.900 4493402.478, 530528.621 4...      412348   \n",
       "2  POLYGON ((325801.578 4617291.999, 325803.323 4...      394730   \n",
       "3  POLYGON ((659475.197 4506757.653, 659405.803 4...     2250169   \n",
       "\n",
       "      xcentr_lon    ycentr_lat DISTRICT  \n",
       "0  296454.715195  4.596624e+06        1  \n",
       "1  421801.425712  4.546914e+06        2  \n",
       "2  310917.307227  4.732490e+06        3  \n",
       "3  558428.607582  4.675692e+06        4  "
      ]
     },
     "execution_count": 121,
     "metadata": {},
     "output_type": "execute_result"
    }
   ],
   "source": [
    "# new 4 row geodataframe with humboldt having moved from district 4 to district 3\n",
    "shapef_newdissolved_temp = dissolve_by_district(shapef_counties_for_realloc)\n",
    "shapef_newdissolved_temp"
   ]
  },
  {
   "attachments": {},
   "cell_type": "markdown",
   "id": "9448e034",
   "metadata": {},
   "source": [
    "### visualizations"
   ]
  },
  {
   "cell_type": "code",
   "execution_count": 89,
   "id": "be5296a6",
   "metadata": {},
   "outputs": [
    {
     "ename": "TypeError",
     "evalue": "Unknown argument type <class 'list'>, expected dataframe.",
     "output_type": "error",
     "traceback": [
      "\u001b[0;31m---------------------------------------------------------------------------\u001b[0m",
      "\u001b[0;31mTypeError\u001b[0m                                 Traceback (most recent call last)",
      "\u001b[1;32m/Users/Stefanie/repos/gerrymander/ia-redistricting/Iowa_contiguousdistricting.ipynb Cell 69\u001b[0m line \u001b[0;36m<cell line: 2>\u001b[0;34m()\u001b[0m\n\u001b[1;32m      <a href='vscode-notebook-cell:/Users/Stefanie/repos/gerrymander/ia-redistricting/Iowa_contiguousdistricting.ipynb#Y115sZmlsZQ%3D%3D?line=0'>1</a>\u001b[0m \u001b[39m#this gives an example of output of map_unmerged_districts\u001b[39;00m\n\u001b[0;32m----> <a href='vscode-notebook-cell:/Users/Stefanie/repos/gerrymander/ia-redistricting/Iowa_contiguousdistricting.ipynb#Y115sZmlsZQ%3D%3D?line=1'>2</a>\u001b[0m map_unmerged_districts(list_of_counties,\u001b[39m'\u001b[39;49m\u001b[39mNAME10\u001b[39;49m\u001b[39m'\u001b[39;49m)\n",
      "\u001b[1;32m/Users/Stefanie/repos/gerrymander/ia-redistricting/Iowa_contiguousdistricting.ipynb Cell 69\u001b[0m line \u001b[0;36mmap_unmerged_districts\u001b[0;34m(new_shapefile, label_field)\u001b[0m\n\u001b[1;32m     <a href='vscode-notebook-cell:/Users/Stefanie/repos/gerrymander/ia-redistricting/Iowa_contiguousdistricting.ipynb#Y115sZmlsZQ%3D%3D?line=24'>25</a>\u001b[0m \u001b[39mdef\u001b[39;00m \u001b[39mmap_unmerged_districts\u001b[39m(new_shapefile,label_field):\n\u001b[1;32m     <a href='vscode-notebook-cell:/Users/Stefanie/repos/gerrymander/ia-redistricting/Iowa_contiguousdistricting.ipynb#Y115sZmlsZQ%3D%3D?line=25'>26</a>\u001b[0m     map_counties_by_district \u001b[39m=\u001b[39m (\n\u001b[0;32m---> <a href='vscode-notebook-cell:/Users/Stefanie/repos/gerrymander/ia-redistricting/Iowa_contiguousdistricting.ipynb#Y115sZmlsZQ%3D%3D?line=26'>27</a>\u001b[0m         ggplot(new_shapefile)\n\u001b[1;32m     <a href='vscode-notebook-cell:/Users/Stefanie/repos/gerrymander/ia-redistricting/Iowa_contiguousdistricting.ipynb#Y115sZmlsZQ%3D%3D?line=27'>28</a>\u001b[0m         \u001b[39m+\u001b[39m geom_map(aes(fill\u001b[39m=\u001b[39m\u001b[39m'\u001b[39m\u001b[39mpopulation_2\u001b[39m\u001b[39m'\u001b[39m))\n\u001b[1;32m     <a href='vscode-notebook-cell:/Users/Stefanie/repos/gerrymander/ia-redistricting/Iowa_contiguousdistricting.ipynb#Y115sZmlsZQ%3D%3D?line=28'>29</a>\u001b[0m         \u001b[39m+\u001b[39m geom_label(aes(x\u001b[39m=\u001b[39m\u001b[39m'\u001b[39m\u001b[39mxcentr_lon_2\u001b[39m\u001b[39m'\u001b[39m, y\u001b[39m=\u001b[39m\u001b[39m'\u001b[39m\u001b[39mycentr_lat_2\u001b[39m\u001b[39m'\u001b[39m, \n\u001b[1;32m     <a href='vscode-notebook-cell:/Users/Stefanie/repos/gerrymander/ia-redistricting/Iowa_contiguousdistricting.ipynb#Y115sZmlsZQ%3D%3D?line=29'>30</a>\u001b[0m                         label\u001b[39m=\u001b[39mlabel_field,size\u001b[39m=\u001b[39m\u001b[39m2\u001b[39m), \n\u001b[1;32m     <a href='vscode-notebook-cell:/Users/Stefanie/repos/gerrymander/ia-redistricting/Iowa_contiguousdistricting.ipynb#Y115sZmlsZQ%3D%3D?line=30'>31</a>\u001b[0m                     show_legend\u001b[39m=\u001b[39m\u001b[39mFalse\u001b[39;00m)\n\u001b[1;32m     <a href='vscode-notebook-cell:/Users/Stefanie/repos/gerrymander/ia-redistricting/Iowa_contiguousdistricting.ipynb#Y115sZmlsZQ%3D%3D?line=31'>32</a>\u001b[0m         \u001b[39m+\u001b[39m theme_minimal()\n\u001b[1;32m     <a href='vscode-notebook-cell:/Users/Stefanie/repos/gerrymander/ia-redistricting/Iowa_contiguousdistricting.ipynb#Y115sZmlsZQ%3D%3D?line=32'>33</a>\u001b[0m         \u001b[39m+\u001b[39m theme(axis_text_x\u001b[39m=\u001b[39melement_blank(),\n\u001b[1;32m     <a href='vscode-notebook-cell:/Users/Stefanie/repos/gerrymander/ia-redistricting/Iowa_contiguousdistricting.ipynb#Y115sZmlsZQ%3D%3D?line=33'>34</a>\u001b[0m                 axis_text_y\u001b[39m=\u001b[39melement_blank(),\n\u001b[1;32m     <a href='vscode-notebook-cell:/Users/Stefanie/repos/gerrymander/ia-redistricting/Iowa_contiguousdistricting.ipynb#Y115sZmlsZQ%3D%3D?line=34'>35</a>\u001b[0m                 axis_title_x\u001b[39m=\u001b[39melement_blank(),\n\u001b[1;32m     <a href='vscode-notebook-cell:/Users/Stefanie/repos/gerrymander/ia-redistricting/Iowa_contiguousdistricting.ipynb#Y115sZmlsZQ%3D%3D?line=35'>36</a>\u001b[0m                 axis_title_y\u001b[39m=\u001b[39melement_blank(),\n\u001b[1;32m     <a href='vscode-notebook-cell:/Users/Stefanie/repos/gerrymander/ia-redistricting/Iowa_contiguousdistricting.ipynb#Y115sZmlsZQ%3D%3D?line=36'>37</a>\u001b[0m                 axis_ticks\u001b[39m=\u001b[39melement_blank(),\n\u001b[1;32m     <a href='vscode-notebook-cell:/Users/Stefanie/repos/gerrymander/ia-redistricting/Iowa_contiguousdistricting.ipynb#Y115sZmlsZQ%3D%3D?line=37'>38</a>\u001b[0m                 panel_grid_major\u001b[39m=\u001b[39melement_blank(),\n\u001b[1;32m     <a href='vscode-notebook-cell:/Users/Stefanie/repos/gerrymander/ia-redistricting/Iowa_contiguousdistricting.ipynb#Y115sZmlsZQ%3D%3D?line=38'>39</a>\u001b[0m                 panel_grid_minor\u001b[39m=\u001b[39melement_blank()\n\u001b[1;32m     <a href='vscode-notebook-cell:/Users/Stefanie/repos/gerrymander/ia-redistricting/Iowa_contiguousdistricting.ipynb#Y115sZmlsZQ%3D%3D?line=39'>40</a>\u001b[0m             )\n\u001b[1;32m     <a href='vscode-notebook-cell:/Users/Stefanie/repos/gerrymander/ia-redistricting/Iowa_contiguousdistricting.ipynb#Y115sZmlsZQ%3D%3D?line=40'>41</a>\u001b[0m         )\n\u001b[1;32m     <a href='vscode-notebook-cell:/Users/Stefanie/repos/gerrymander/ia-redistricting/Iowa_contiguousdistricting.ipynb#Y115sZmlsZQ%3D%3D?line=42'>43</a>\u001b[0m     \u001b[39mreturn\u001b[39;00m map_counties_by_district\n",
      "File \u001b[0;32m/opt/homebrew/Caskroom/miniforge/base/envs/myenv/lib/python3.10/site-packages/plotnine/ggplot.py:58\u001b[0m, in \u001b[0;36mggplot.__init__\u001b[0;34m(self, data, mapping, environment)\u001b[0m\n\u001b[1;32m     56\u001b[0m \u001b[39mdef\u001b[39;00m \u001b[39m__init__\u001b[39m(\u001b[39mself\u001b[39m, data\u001b[39m=\u001b[39m\u001b[39mNone\u001b[39;00m, mapping\u001b[39m=\u001b[39m\u001b[39mNone\u001b[39;00m, environment\u001b[39m=\u001b[39m\u001b[39mNone\u001b[39;00m):\n\u001b[1;32m     57\u001b[0m     \u001b[39m# Allow some sloppiness\u001b[39;00m\n\u001b[0;32m---> 58\u001b[0m     data, mapping \u001b[39m=\u001b[39m order_as_data_mapping(data, mapping)\n\u001b[1;32m     59\u001b[0m     \u001b[39mif\u001b[39;00m mapping \u001b[39mis\u001b[39;00m \u001b[39mNone\u001b[39;00m:\n\u001b[1;32m     60\u001b[0m         mapping \u001b[39m=\u001b[39m aes()\n",
      "File \u001b[0;32m/opt/homebrew/Caskroom/miniforge/base/envs/myenv/lib/python3.10/site-packages/plotnine/utils.py:1029\u001b[0m, in \u001b[0;36morder_as_data_mapping\u001b[0;34m(*args)\u001b[0m\n\u001b[1;32m   1023\u001b[0m     \u001b[39mraise\u001b[39;00m \u001b[39mTypeError\u001b[39;00m(\n\u001b[1;32m   1024\u001b[0m         \u001b[39mf\u001b[39m\u001b[39m\"\u001b[39m\u001b[39mUnknown argument type \u001b[39m\u001b[39m{\u001b[39;00m\u001b[39mtype\u001b[39m(mapping)\u001b[39m!r}\u001b[39;00m\u001b[39m, \u001b[39m\u001b[39m\"\u001b[39m\n\u001b[1;32m   1025\u001b[0m         \u001b[39m\"\u001b[39m\u001b[39mexpected mapping/aes.\u001b[39m\u001b[39m\"\u001b[39m\n\u001b[1;32m   1026\u001b[0m     )\n\u001b[1;32m   1028\u001b[0m \u001b[39mif\u001b[39;00m \u001b[39mnot\u001b[39;00m is_data_like(data) \u001b[39mand\u001b[39;00m data \u001b[39mis\u001b[39;00m \u001b[39mnot\u001b[39;00m \u001b[39mNone\u001b[39;00m:\n\u001b[0;32m-> 1029\u001b[0m     \u001b[39mraise\u001b[39;00m \u001b[39mTypeError\u001b[39;00m(\n\u001b[1;32m   1030\u001b[0m         \u001b[39m\"\u001b[39m\u001b[39mUnknown argument type \u001b[39m\u001b[39m{!r}\u001b[39;00m\u001b[39m, expected dataframe.\u001b[39m\u001b[39m\"\u001b[39m\n\u001b[1;32m   1031\u001b[0m         \u001b[39m.\u001b[39mformat(\u001b[39mtype\u001b[39m(data))\n\u001b[1;32m   1032\u001b[0m     )\n\u001b[1;32m   1034\u001b[0m \u001b[39mif\u001b[39;00m \u001b[39mhasattr\u001b[39m(data, \u001b[39m'\u001b[39m\u001b[39mto_pandas\u001b[39m\u001b[39m'\u001b[39m):\n\u001b[1;32m   1035\u001b[0m     data \u001b[39m=\u001b[39m data\u001b[39m.\u001b[39mto_pandas()\n",
      "\u001b[0;31mTypeError\u001b[0m: Unknown argument type <class 'list'>, expected dataframe."
     ]
    }
   ],
   "source": [
    "#this gives an example of output of map_unmerged_districts\n",
    "map_unmerged_districts(list_of_counties,'NAME10')"
   ]
  },
  {
   "cell_type": "code",
   "execution_count": 72,
   "id": "cd106e2f",
   "metadata": {},
   "outputs": [
    {
     "data": {
      "image/png": "[encoded data removed]",
      "text/plain": [
       "<Figure size 640x480 with 1 Axes>"
      ]
     },
     "metadata": {},
     "output_type": "display_data"
    },
    {
     "data": {
      "text/plain": [
       "<ggplot: (366685178)>"
      ]
     },
     "execution_count": 72,
     "metadata": {},
     "output_type": "execute_result"
    }
   ],
   "source": [
    "map_merged_districts(shapef_ia_redist,'DISTRICT')"
   ]
  },
  {
   "attachments": {},
   "cell_type": "markdown",
   "id": "74af297e",
   "metadata": {},
   "source": [
    "## Chen's algorithm for reallocation"
   ]
  },
  {
   "attachments": {},
   "cell_type": "markdown",
   "id": "6fe3ed4e",
   "metadata": {},
   "source": [
    "From Chen's paper:\n",
    "\n",
    "(3a) Among all pairs of districts that border one another, identify the pair with the greatest disparity in district population. Within this pair,\n",
    "let us denote the more populated district as $i$ and the less populated district as $j$.\n",
    "\n",
    "(3b) Identify the set of all precincts currently within district $i$ that could be reassigned to district $j$ without violating the geographic contiguity of either district $i$ or $j$.\n",
    "\n",
    "(3c) For each precinct $p$ satisfying the criterion in step 3b, define $D_p$ as precinct $p$’s geographic distance to the centroid of district $i$, minus\n",
    "precinct $p$’s distance to the centroid of district $j$.\n",
    "\n",
    "(3d) Among the set of precincts satisfying the criteria in step 3b, select the precinct, $p$, with the highest value of Dp . Reassign this precinct from\n",
    "district $i$ to district $j$."
   ]
  }
 ],
 "metadata": {
  "kernelspec": {
   "display_name": "myenv",
   "language": "python",
   "name": "python3"
  },
  "language_info": {
   "codemirror_mode": {
    "name": "ipython",
    "version": 3
   },
   "file_extension": ".py",
   "mimetype": "text/x-python",
   "name": "python",
   "nbconvert_exporter": "python",
   "pygments_lexer": "ipython3",
   "version": "3.10.4"
  },
  "vscode": {
   "interpreter": {
    "hash": "857970f990130bbcaee778cf1846f7875676d945310dca1379fe4b5ef3d258a5"
   }
  }
 },
 "nbformat": 4,
 "nbformat_minor": 5
}
