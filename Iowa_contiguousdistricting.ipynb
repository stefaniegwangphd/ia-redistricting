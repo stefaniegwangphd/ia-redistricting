{
 "cells": [
  {
   "attachments": {},
   "cell_type": "markdown",
   "id": "794a648a",
   "metadata": {},
   "source": [
    "forked from main iowa_redistricting on march 28\n",
    "\n",
    "manually implementing algorithm described in Chen and Rodden (2013)"
   ]
  },
  {
   "cell_type": "markdown",
   "id": "e7cd18f8",
   "metadata": {},
   "source": [
    "Shapefile dataframes used in this notebook\n",
    "\n",
    "shapefile_iowa: MGGG stuff merged with census stuff\n",
    "\n",
    "shapef_ia_proj: projected to UTM so we can run distance calculations on it\n",
    "\n",
    "shapef_ia_fordistricting: 99 rows for each county, ready for initial allocation; made from deep copy of shapef_ia_proj\n",
    "\n",
    "shapef_counties_for_realloc: made from a deep copy from shapef_ia_fordistricting; this has a num_switches column and a district column populated with the district assignment from the initial allocation\n",
    "\n",
    "shapef_ia_initialdistricting: came from _fordistricting, went through the districting (step 1/2) process, and is now 4 rows\n",
    "\tas of Sept 18, not modified further for step 3/district balancing\n",
    "\n",
    "shapef_ia_redist: this is a deep copy of shapef_ia_initialdistricting with a few dropped columns. This df is used for making new districts"
   ]
  },
  {
   "cell_type": "code",
   "execution_count": 54,
   "id": "77f457be",
   "metadata": {},
   "outputs": [],
   "source": [
    "import numpy as np\n",
    "import warnings\n",
    "warnings.simplefilter(action='ignore', category=FutureWarning)\n",
    "import pandas as pd\n",
    "import geopandas as gpd\n",
    "import matplotlib.pyplot as plt\n",
    "from PIL import Image, ImageOps\n",
    "import glob\n",
    "import os       #mkdir\n",
    "from scipy.sparse import csgraph #for laplacian\n",
    "from scipy.linalg import null_space\n",
    "from plotnine import (ggplot, aes, geom_map, geom_text, geom_label,\n",
    "                     ggtitle, element_blank, element_rect,\n",
    "                     scale_fill_manual, theme_minimal, theme, scale_fill_cmap)\n",
    "import math         ##for math.sqrt\n",
    "import random       #for random selection of district to start with"
   ]
  },
  {
   "cell_type": "code",
   "execution_count": 2,
   "id": "19f1aa44",
   "metadata": {},
   "outputs": [],
   "source": [
    "# setting thresholds for helper functions\n",
    "scale_pop_limit_by=4\n",
    "max_switches_threshold=4\n",
    "switches_range_proportion=.75\n",
    "random.seed(3)"
   ]
  },
  {
   "attachments": {},
   "cell_type": "markdown",
   "id": "1f03496d",
   "metadata": {},
   "source": [
    "# Prepping the census and geopandas dataframes"
   ]
  },
  {
   "attachments": {},
   "cell_type": "markdown",
   "id": "ed8fb8bd",
   "metadata": {},
   "source": [
    "## Importing data"
   ]
  },
  {
   "cell_type": "code",
   "execution_count": 3,
   "id": "21899131",
   "metadata": {},
   "outputs": [
    {
     "data": {
      "text/html": [
       "<div>\n",
       "<style scoped>\n",
       "    .dataframe tbody tr th:only-of-type {\n",
       "        vertical-align: middle;\n",
       "    }\n",
       "\n",
       "    .dataframe tbody tr th {\n",
       "        vertical-align: top;\n",
       "    }\n",
       "\n",
       "    .dataframe thead th {\n",
       "        text-align: right;\n",
       "    }\n",
       "</style>\n",
       "<table border=\"1\" class=\"dataframe\">\n",
       "  <thead>\n",
       "    <tr style=\"text-align: right;\">\n",
       "      <th></th>\n",
       "      <th>county_id</th>\n",
       "      <th>county</th>\n",
       "      <th>population</th>\n",
       "      <th>COUNTYFP10</th>\n",
       "      <th>latitude</th>\n",
       "      <th>longitude</th>\n",
       "    </tr>\n",
       "  </thead>\n",
       "  <tbody>\n",
       "    <tr>\n",
       "      <th>0</th>\n",
       "      <td>0</td>\n",
       "      <td>Adair</td>\n",
       "      <td>7496</td>\n",
       "      <td>001</td>\n",
       "      <td>41.328528</td>\n",
       "      <td>-94.478164</td>\n",
       "    </tr>\n",
       "    <tr>\n",
       "      <th>1</th>\n",
       "      <td>1</td>\n",
       "      <td>Adams</td>\n",
       "      <td>3704</td>\n",
       "      <td>003</td>\n",
       "      <td>41.021656</td>\n",
       "      <td>-94.696906</td>\n",
       "    </tr>\n",
       "    <tr>\n",
       "      <th>2</th>\n",
       "      <td>2</td>\n",
       "      <td>Allamakee</td>\n",
       "      <td>14061</td>\n",
       "      <td>005</td>\n",
       "      <td>43.274964</td>\n",
       "      <td>-91.382751</td>\n",
       "    </tr>\n",
       "    <tr>\n",
       "      <th>3</th>\n",
       "      <td>3</td>\n",
       "      <td>Appanoose</td>\n",
       "      <td>12317</td>\n",
       "      <td>007</td>\n",
       "      <td>40.744683</td>\n",
       "      <td>-92.870345</td>\n",
       "    </tr>\n",
       "    <tr>\n",
       "      <th>4</th>\n",
       "      <td>4</td>\n",
       "      <td>Audubon</td>\n",
       "      <td>5674</td>\n",
       "      <td>009</td>\n",
       "      <td>41.679178</td>\n",
       "      <td>-94.904312</td>\n",
       "    </tr>\n",
       "  </tbody>\n",
       "</table>\n",
       "</div>"
      ],
      "text/plain": [
       "   county_id      county  population COUNTYFP10   latitude  longitude\n",
       "0          0      Adair         7496        001  41.328528 -94.478164\n",
       "1          1      Adams         3704        003  41.021656 -94.696906\n",
       "2          2  Allamakee        14061        005  43.274964 -91.382751\n",
       "3          3  Appanoose        12317        007  40.744683 -92.870345\n",
       "4          4    Audubon         5674        009  41.679178 -94.904312"
      ]
     },
     "execution_count": 3,
     "metadata": {},
     "output_type": "execute_result"
    }
   ],
   "source": [
    "#census.csv is data from Secretary of State's office.\n",
    "census_df=pd.read_csv('census.csv')\n",
    "census_df['COUNTYFP10']=census_df['COUNTYFP10'].astype(str).str.pad(3,fillchar='0')\n",
    "census_df.head()"
   ]
  },
  {
   "cell_type": "code",
   "execution_count": 4,
   "id": "3715462b",
   "metadata": {},
   "outputs": [
    {
     "name": "stdout",
     "output_type": "stream",
     "text": [
      "<class 'geopandas.geodataframe.GeoDataFrame'>\n",
      "RangeIndex: 99 entries, 0 to 98\n",
      "Data columns (total 57 columns):\n",
      " #   Column      Non-Null Count  Dtype   \n",
      "---  ------      --------------  -----   \n",
      " 0   STATEFP10   99 non-null     object  \n",
      " 1   COUNTYFP10  99 non-null     object  \n",
      " 2   GEOID10     99 non-null     int64   \n",
      " 3   NAME10      99 non-null     object  \n",
      " 4   NAMELSAD10  99 non-null     object  \n",
      " 5   ALAND10     99 non-null     int64   \n",
      " 6   AWATER10    99 non-null     int64   \n",
      " 7   INTPTLAT10  99 non-null     object  \n",
      " 8   INTPTLON10  99 non-null     object  \n",
      " 9   TOTPOP      99 non-null     int64   \n",
      " 10  NH_WHITE    99 non-null     int64   \n",
      " 11  NH_BLACK    99 non-null     int64   \n",
      " 12  NH_AMIN     99 non-null     int64   \n",
      " 13  NH_ASIAN    99 non-null     int64   \n",
      " 14  NH_NHPI     99 non-null     int64   \n",
      " 15  NH_OTHER    99 non-null     int64   \n",
      " 16  NH_2MORE    99 non-null     int64   \n",
      " 17  HISP        99 non-null     int64   \n",
      " 18  H_WHITE     99 non-null     int64   \n",
      " 19  H_BLACK     99 non-null     int64   \n",
      " 20  H_AMIN      99 non-null     int64   \n",
      " 21  H_ASIAN     99 non-null     int64   \n",
      " 22  N_NHPI      99 non-null     int64   \n",
      " 23  H_OTHER     99 non-null     int64   \n",
      " 24  H_2MORE     99 non-null     int64   \n",
      " 25  VAP         99 non-null     int64   \n",
      " 26  HVAP        99 non-null     int64   \n",
      " 27  WVAP        99 non-null     int64   \n",
      " 28  BVAP        99 non-null     int64   \n",
      " 29  AMINVAP     99 non-null     int64   \n",
      " 30  ASIANVAP    99 non-null     int64   \n",
      " 31  NHPIVAP     99 non-null     int64   \n",
      " 32  OTHERVAP    99 non-null     int64   \n",
      " 33  2MOREVAP    99 non-null     int64   \n",
      " 34  TOTVOT00    99 non-null     int64   \n",
      " 35  PRES00D     99 non-null     int64   \n",
      " 36  PRES00R     99 non-null     int64   \n",
      " 37  PRES00G     99 non-null     int64   \n",
      " 38  PRES00OTH   99 non-null     int64   \n",
      " 39  TOTVOT04    99 non-null     int64   \n",
      " 40  PRES04D     99 non-null     int64   \n",
      " 41  PRES04R     99 non-null     int64   \n",
      " 42  PRES04OTH   99 non-null     int64   \n",
      " 43  TOTVOT08    99 non-null     int64   \n",
      " 44  PRES08D     99 non-null     int64   \n",
      " 45  PRES08R     99 non-null     int64   \n",
      " 46  PRES08OTH   99 non-null     int64   \n",
      " 47  TOTVOT12    99 non-null     int64   \n",
      " 48  PRES12D     99 non-null     int64   \n",
      " 49  PRES12R     99 non-null     int64   \n",
      " 50  PRES12OTH   99 non-null     int64   \n",
      " 51  TOTVOT16    99 non-null     int64   \n",
      " 52  PRES16D     99 non-null     int64   \n",
      " 53  PRES16R     99 non-null     int64   \n",
      " 54  PRES16OTH   99 non-null     int64   \n",
      " 55  CD          99 non-null     object  \n",
      " 56  geometry    99 non-null     geometry\n",
      "dtypes: geometry(1), int64(49), object(7)\n",
      "memory usage: 44.2+ KB\n"
     ]
    }
   ],
   "source": [
    "#imports county shapefiles from MGGG\n",
    "shapefile_iowa = gpd.read_file('IA_counties/IA_counties.shp').sort_values('NAME10',ignore_index=True)\n",
    "shapefile_iowa.info()"
   ]
  },
  {
   "cell_type": "code",
   "execution_count": 5,
   "id": "b133ccb9",
   "metadata": {},
   "outputs": [],
   "source": [
    "## Merging ONLY 2020 population numbers and county_id from census df into shapefile_iowa\n",
    "shapefile_iowa = shapefile_iowa.merge(census_df[['COUNTYFP10','population','county_id']], on='COUNTYFP10').copy()"
   ]
  },
  {
   "cell_type": "code",
   "execution_count": 6,
   "id": "5e593671",
   "metadata": {},
   "outputs": [],
   "source": [
    "county_populations = np.array(census_df['population'])\n",
    "state_population = sum(county_populations)\n",
    "n_counties = 99\n",
    "n_districts = 4"
   ]
  },
  {
   "attachments": {},
   "cell_type": "markdown",
   "id": "3200c4d6",
   "metadata": {},
   "source": [
    "## Projecting shapefile to UTM 15N"
   ]
  },
  {
   "cell_type": "code",
   "execution_count": 7,
   "id": "b421efa3",
   "metadata": {},
   "outputs": [
    {
     "data": {
      "text/plain": [
       "<Geographic 2D CRS: EPSG:4269>\n",
       "Name: NAD83\n",
       "Axis Info [ellipsoidal]:\n",
       "- Lat[north]: Geodetic latitude (degree)\n",
       "- Lon[east]: Geodetic longitude (degree)\n",
       "Area of Use:\n",
       "- name: North America - onshore and offshore: Canada - Alberta; British Columbia; Manitoba; New Brunswick; Newfoundland and Labrador; Northwest Territories; Nova Scotia; Nunavut; Ontario; Prince Edward Island; Quebec; Saskatchewan; Yukon. Puerto Rico. United States (USA) - Alabama; Alaska; Arizona; Arkansas; California; Colorado; Connecticut; Delaware; Florida; Georgia; Hawaii; Idaho; Illinois; Indiana; Iowa; Kansas; Kentucky; Louisiana; Maine; Maryland; Massachusetts; Michigan; Minnesota; Mississippi; Missouri; Montana; Nebraska; Nevada; New Hampshire; New Jersey; New Mexico; New York; North Carolina; North Dakota; Ohio; Oklahoma; Oregon; Pennsylvania; Rhode Island; South Carolina; South Dakota; Tennessee; Texas; Utah; Vermont; Virginia; Washington; West Virginia; Wisconsin; Wyoming. US Virgin Islands. British Virgin Islands.\n",
       "- bounds: (167.65, 14.92, -47.74, 86.46)\n",
       "Datum: North American Datum 1983\n",
       "- Ellipsoid: GRS 1980\n",
       "- Prime Meridian: Greenwich"
      ]
     },
     "execution_count": 7,
     "metadata": {},
     "output_type": "execute_result"
    }
   ],
   "source": [
    "#First, show the current coordinate reference system\n",
    "shapefile_iowa.crs"
   ]
  },
  {
   "cell_type": "code",
   "execution_count": 8,
   "id": "6dc5ae2b",
   "metadata": {},
   "outputs": [
    {
     "data": {
      "text/plain": [
       "<Derived Projected CRS: EPSG:26915>\n",
       "Name: NAD83 / UTM zone 15N\n",
       "Axis Info [cartesian]:\n",
       "- E[east]: Easting (metre)\n",
       "- N[north]: Northing (metre)\n",
       "Area of Use:\n",
       "- name: North America - between 96°W and 90°W - onshore and offshore. Canada - Manitoba; Nunavut; Ontario. United States (USA) - Arkansas; Illinois; Iowa; Kansas; Louisiana; Michigan; Minnesota; Mississippi; Missouri; Nebraska; Oklahoma; Tennessee; Texas; Wisconsin.\n",
       "- bounds: (-96.0, 25.61, -90.0, 84.0)\n",
       "Coordinate Operation:\n",
       "- name: UTM zone 15N\n",
       "- method: Transverse Mercator\n",
       "Datum: North American Datum 1983\n",
       "- Ellipsoid: GRS 1980\n",
       "- Prime Meridian: Greenwich"
      ]
     },
     "execution_count": 8,
     "metadata": {},
     "output_type": "execute_result"
    }
   ],
   "source": [
    "#Then project the shapefiles to UTM 15N\n",
    "shapef_ia_proj = shapefile_iowa.to_crs(epsg=26915)\n",
    "\n",
    "shapef_ia_proj.crs"
   ]
  },
  {
   "cell_type": "code",
   "execution_count": 9,
   "id": "4fdd554b",
   "metadata": {},
   "outputs": [
    {
     "data": {
      "text/plain": [
       "0.0"
      ]
     },
     "execution_count": 9,
     "metadata": {},
     "output_type": "execute_result"
    }
   ],
   "source": [
    "#checking out geopandas automatic distance calculation\n",
    "shapef_ia_proj['geometry'].iloc[0].distance(shapef_ia_proj['geometry'].iloc[1])\n",
    "# adair-to-adams distance is 0, so shortest distance, not centroid-to-centroid"
   ]
  },
  {
   "attachments": {},
   "cell_type": "markdown",
   "id": "be2a11d2",
   "metadata": {},
   "source": [
    "## Merging pd and gpd dataframes and creating population heat map"
   ]
  },
  {
   "cell_type": "code",
   "execution_count": 10,
   "id": "bf1c9f02",
   "metadata": {},
   "outputs": [],
   "source": [
    "## Merging ONLY lat/long + county id from census df into shapefile_iowa (since population and county_id are already there)\n",
    "map_population_by_county_data = shapefile_iowa.merge(census_df[['COUNTYFP10','latitude','longitude']], on='COUNTYFP10').copy()"
   ]
  },
  {
   "cell_type": "code",
   "execution_count": 11,
   "id": "ef50d41d",
   "metadata": {},
   "outputs": [
    {
     "data": {
      "image/png": "[encoded data removed]",
      "text/plain": [
       "<Figure size 432x288 with 1 Axes>"
      ]
     },
     "metadata": {},
     "output_type": "display_data"
    },
    {
     "data": {
      "text/plain": [
       "<ggplot: (351332896)>"
      ]
     },
     "execution_count": 11,
     "metadata": {},
     "output_type": "execute_result"
    }
   ],
   "source": [
    "map_population_by_county = (\n",
    "    ggplot(map_population_by_county_data)\n",
    "    + geom_map(aes(fill='population'))\n",
    "    + geom_label(aes(x='longitude', y='latitude', \n",
    "                     label='NAME10',size=2), \n",
    "                 show_legend=False)\n",
    "    + theme_minimal()\n",
    "    + theme(axis_text_x=element_blank(),\n",
    "            axis_text_y=element_blank(),\n",
    "            axis_title_x=element_blank(),\n",
    "            axis_title_y=element_blank(),\n",
    "            axis_ticks=element_blank(),\n",
    "            panel_grid_major=element_blank(),\n",
    "            panel_grid_minor=element_blank()\n",
    "           )\n",
    "    )\n",
    "map_population_by_county"
   ]
  },
  {
   "cell_type": "code",
   "execution_count": 12,
   "id": "1b628dcd",
   "metadata": {},
   "outputs": [],
   "source": [
    "#data_label: 'county_id', 'population', 'NAME10', 'county_id_string', etc\n",
    "#second argument is the column from the dataframe that we want to sort by\n",
    "#in our case, it should be 'DISTRICT' from the shapef_ia_redist dataframe\n",
    "def distmap_by_county(map_data,data_label):\n",
    "    plot_distmap = (\n",
    "        ggplot(map_data)\n",
    "    + geom_map(aes(fill='DISTRICT')\n",
    "        ,show_legend=False\n",
    "        ) \n",
    "    # + geom_map(aes(fill=str('district_number')))      #swap commenting on this line and the above to make district categorical!\n",
    "    + geom_label(aes(x='xcentr_lon', y='ycentr_lat', label=data_label,size=2)\n",
    "        , show_legend=False)\n",
    "    + theme_minimal()\n",
    "    + theme(axis_text_x=element_blank(),\n",
    "            axis_text_y=element_blank(),\n",
    "            axis_title_x=element_blank(),\n",
    "            axis_title_y=element_blank(),\n",
    "            axis_ticks=element_blank(),\n",
    "            panel_grid_major=element_blank(),\n",
    "            panel_grid_minor=element_blank(),\n",
    "            # panel_background = element_rect(fill = 'white'),    #just panel of the map itself\n",
    "            plot_background = element_rect(fill = 'white')       #whole png area\n",
    "            )\n",
    "    # + scale_fill_manual(values=color_dict)        #uncomment this line to make district categorical!\n",
    "    )\n",
    "   \n",
    "    return plot_distmap\n"
   ]
  },
  {
   "attachments": {},
   "cell_type": "markdown",
   "id": "a16b8fea",
   "metadata": {},
   "source": [
    "# Creating distance matrix for Iowa counties"
   ]
  },
  {
   "cell_type": "code",
   "execution_count": 13,
   "id": "044c72dd",
   "metadata": {},
   "outputs": [],
   "source": [
    "# adding/fixing columns with (projected) centroid locations \n",
    "shapef_ia_proj['xcentr_lon'] = shapef_ia_proj.centroid.x\n",
    "shapef_ia_proj['ycentr_lat'] = shapef_ia_proj.centroid.y\n",
    "#shapef_ia_proj.info()\n",
    "# shapef_ia_proj['xcentr_lon'].iloc[1]"
   ]
  },
  {
   "cell_type": "code",
   "execution_count": 14,
   "id": "03d88c7e",
   "metadata": {},
   "outputs": [
    {
     "name": "stdout",
     "output_type": "stream",
     "text": [
      "<class 'geopandas.geodataframe.GeoDataFrame'>\n",
      "Int64Index: 99 entries, 0 to 98\n",
      "Data columns (total 9 columns):\n",
      " #   Column            Non-Null Count  Dtype   \n",
      "---  ------            --------------  -----   \n",
      " 0   COUNTYFP10        99 non-null     object  \n",
      " 1   NAME10            99 non-null     object  \n",
      " 2   geometry          99 non-null     geometry\n",
      " 3   population        99 non-null     int64   \n",
      " 4   county_id         99 non-null     int64   \n",
      " 5   xcentr_lon        99 non-null     float64 \n",
      " 6   ycentr_lat        99 non-null     float64 \n",
      " 7   county_id_string  99 non-null     object  \n",
      " 8   temp_district     99 non-null     int64   \n",
      "dtypes: float64(2), geometry(1), int64(3), object(3)\n",
      "memory usage: 7.7+ KB\n"
     ]
    }
   ],
   "source": [
    "# cutting out other columns from the shapefile to be dissolved on\n",
    "\n",
    "# 'TOTPOP' is the MGGG shapefile totpop (pre-2020), so removing\n",
    "# also removing: the un-projected 'INTPTLAT10' and 'INTPTLON10'\n",
    "#      and 'NAMELSAD10', the 2 word name\n",
    "#      and all demographic/voting data\n",
    "#      and (later on): also removing ALAND and AWATER, since they just get messy with merges and dissolves\n",
    "\n",
    "districting_columns = ['COUNTYFP10', 'NAME10', 'geometry', \n",
    "       'population', 'county_id', 'xcentr_lon', 'ycentr_lat']\n",
    "\n",
    "#make a new shapefile, which will be merged/dissolved on in the process of making districts\n",
    "shapef_ia_fordistricting = shapef_ia_proj[districting_columns].copy()\n",
    "\n",
    "#add column of county indices (which will get concatenated, as county_id_string)\n",
    "shapef_ia_fordistricting['county_id_string'] = shapef_ia_fordistricting['county_id']\n",
    "shapef_ia_fordistricting['county_id_string'] = shapef_ia_fordistricting['county_id_string'].astype(str).str.pad(2,fillchar='0')\n",
    "\n",
    "#add column of county indices (which will become district indices)\n",
    "shapef_ia_fordistricting['temp_district'] = shapef_ia_fordistricting.index\n",
    "\n",
    "shapef_ia_fordistricting.info()"
   ]
  },
  {
   "attachments": {},
   "cell_type": "markdown",
   "id": "cd125cb7",
   "metadata": {},
   "source": [
    "# Nearest-Neighbor district-building model"
   ]
  },
  {
   "attachments": {},
   "cell_type": "markdown",
   "id": "66b8d14f",
   "metadata": {},
   "source": [
    "* To start, we have 99 districts, 1 for each county.\n",
    "* Randomly select a district (single county at the moment!) to start with.\n",
    "* Join it to its nearest neighbor (using centroid measurement of distance).\n",
    "    * Make new shapefile with those two counties dissolved together (and calc new centroids/distances)\n",
    "    * Now we have 98 districts. Repeat until 4 left.\n",
    "\n",
    "This procedure preserves compactness well, but has no population controls.\n",
    "After we're down to 4 districts, we will then swap counties between districts until populations stabilize.\n"
   ]
  },
  {
   "attachments": {},
   "cell_type": "markdown",
   "id": "8c7456e8",
   "metadata": {},
   "source": [
    "## Building-block functions (adjacency matrix + distance matrix)"
   ]
  },
  {
   "cell_type": "code",
   "execution_count": 15,
   "id": "56b5747e",
   "metadata": {},
   "outputs": [],
   "source": [
    "# function for arbitrary adjacency matrix\n",
    "# updated to no longer classify kitty-corner as \"adjacent\", Oct 30\n",
    "\n",
    "def adj_mat_calc(temp_shapefile):\n",
    "    curr_n_districts = len(temp_shapefile)\n",
    "    adjac_mat = pd.DataFrame()\n",
    "\n",
    "    for i in range(curr_n_districts):\n",
    "        adjac_mat[i] = temp_shapefile.intersection(temp_shapefile.iloc[[i]].unary_union).length\n",
    "    \n",
    "    #sign function turns all nonzero entries to 1\n",
    "    adjac_mat = np.sign(adjac_mat)\n",
    "\n",
    "    #eliminate diagonals, so county i is not adjacent to itself\n",
    "    adjac_mat = adjac_mat - np.identity(curr_n_districts)\n",
    "\n",
    "    # make everything an integer\n",
    "    adjac_mat = adjac_mat.astype(int)\n",
    "\n",
    "    #and/or boolean?\n",
    "    # ia_adjac_matrix_bool = ia_adjac_matrix.astype(bool)\n",
    "\n",
    "    return adjac_mat"
   ]
  },
  {
   "cell_type": "code",
   "execution_count": 16,
   "id": "349ddf4a",
   "metadata": {},
   "outputs": [],
   "source": [
    "#function: input is a shapefile with centroid columns, output is a distance matrix\n",
    "def temp_distance_matrix(temp_shapefile):\n",
    "    curr_n_districts = len(temp_shapefile)\n",
    "    distance_mat = np.zeros((curr_n_districts,curr_n_districts))\n",
    "\n",
    "    for i in range(curr_n_districts):\n",
    "        for j in range(i):      #just do half the triangle, so indices from 0 to i-1\n",
    "            x_dist = (temp_shapefile['xcentr_lon'].iloc[i] - temp_shapefile['xcentr_lon'].iloc[j])\n",
    "            y_dist = (temp_shapefile['ycentr_lat'].iloc[i] - temp_shapefile['ycentr_lat'].iloc[j])\n",
    "            distance_mat[i,j] = math.sqrt(x_dist**2 + y_dist**2)\n",
    "            distance_mat[j,i] = math.sqrt(x_dist**2 + y_dist**2)\n",
    "\n",
    "    return distance_mat\n"
   ]
  },
  {
   "attachments": {},
   "cell_type": "markdown",
   "id": "0bc14831",
   "metadata": {},
   "source": [
    "## full step 1/2 algorithm with iterability"
   ]
  },
  {
   "cell_type": "code",
   "execution_count": 17,
   "id": "ee65877f",
   "metadata": {},
   "outputs": [
    {
     "name": "stdout",
     "output_type": "stream",
     "text": [
      "On loop # 1 (with 99 districts remaining), we have selected index 30.     \n",
      " This corresponds to county id 30 and temporary district # 30.\n",
      "Districts remaining: 98\n",
      "On loop # 2 (with 98 districts remaining), we have selected index 75.     \n",
      " This corresponds to county id 76 and temporary district # 76.\n",
      "Districts remaining: 97\n",
      "On loop # 3 (with 97 districts remaining), we have selected index 69.     \n",
      " This corresponds to county id 71 and temporary district # 71.\n",
      "Districts remaining: 96\n",
      "On loop # 4 (with 96 districts remaining), we have selected index 16.     \n",
      " This corresponds to county id 16 and temporary district # 16.\n",
      "Districts remaining: 95\n",
      "On loop # 5 (with 95 districts remaining), we have selected index 47.     \n",
      " This corresponds to county id 49 and temporary district # 49.\n",
      "Districts remaining: 94\n",
      "On loop # 6 (with 94 districts remaining), we have selected index 77.     \n",
      " This corresponds to county id 81 and temporary district # 81.\n",
      "Districts remaining: 93\n",
      "On loop # 7 (with 93 districts remaining), we have selected index 60.     \n",
      " This corresponds to county id 64 and temporary district # 64.\n",
      "Districts remaining: 92\n",
      "On loop # 8 (with 92 districts remaining), we have selected index 80.     \n",
      " This corresponds to county id 86 and temporary district # 86.\n",
      "Districts remaining: 91\n",
      "On loop # 9 (with 91 districts remaining), we have selected index 74.     \n",
      " This corresponds to county id 2281 and temporary district # 81.\n",
      "Districts remaining: 90\n",
      "On loop # 10 (with 90 districts remaining), we have selected index 8.     \n",
      " This corresponds to county id 09 and temporary district # 9.\n",
      "Districts remaining: 89\n",
      "On loop # 11 (with 89 districts remaining), we have selected index 77.     \n",
      " This corresponds to county id 0186 and temporary district # 86.\n",
      "Districts remaining: 88\n",
      "On loop # 12 (with 88 districts remaining), we have selected index 1.     \n",
      " This corresponds to county id 02 and temporary district # 2.\n",
      "Districts remaining: 87\n",
      "On loop # 13 (with 87 districts remaining), we have selected index 60.     \n",
      " This corresponds to county id 68 and temporary district # 68.\n",
      "Districts remaining: 86\n",
      "On loop # 14 (with 86 districts remaining), we have selected index 33.     \n",
      " This corresponds to county id 39 and temporary district # 39.\n",
      "Districts remaining: 85\n",
      "On loop # 15 (with 85 districts remaining), we have selected index 70.     \n",
      " This corresponds to county id 482281 and temporary district # 81.\n",
      "Districts remaining: 84\n",
      "On loop # 16 (with 84 districts remaining), we have selected index 29.     \n",
      " This corresponds to county id 36 and temporary district # 36.\n",
      "Districts remaining: 83\n",
      "On loop # 17 (with 83 districts remaining), we have selected index 24.     \n",
      " This corresponds to county id 31 and temporary district # 31.\n",
      "Districts remaining: 82\n",
      "On loop # 18 (with 82 districts remaining), we have selected index 60.     \n",
      " This corresponds to county id 74 and temporary district # 74.\n",
      "Districts remaining: 81\n",
      "On loop # 19 (with 81 districts remaining), we have selected index 69.     \n",
      " This corresponds to county id 84 and temporary district # 84.\n",
      "Districts remaining: 80\n",
      "On loop # 20 (with 80 districts remaining), we have selected index 70.     \n",
      " This corresponds to county id 87 and temporary district # 87.\n",
      "Districts remaining: 79\n",
      "On loop # 21 (with 79 districts remaining), we have selected index 60.     \n",
      " This corresponds to county id 75 and temporary district # 75.\n",
      "Districts remaining: 78\n",
      "On loop # 22 (with 78 districts remaining), we have selected index 50.     \n",
      " This corresponds to county id 62 and temporary district # 62.\n",
      "Districts remaining: 77\n",
      "On loop # 23 (with 77 districts remaining), we have selected index 19.     \n",
      " This corresponds to county id 28 and temporary district # 28.\n",
      "Districts remaining: 76\n",
      "On loop # 24 (with 76 districts remaining), we have selected index 29.     \n",
      " This corresponds to county id 3941 and temporary district # 39.\n",
      "Districts remaining: 75\n",
      "On loop # 25 (with 75 districts remaining), we have selected index 19.     \n",
      " This corresponds to county id 2843 and temporary district # 28.\n",
      "Districts remaining: 74\n",
      "On loop # 26 (with 74 districts remaining), we have selected index 66.     \n",
      " This corresponds to county id 89 and temporary district # 89.\n",
      "Districts remaining: 73\n",
      "On loop # 27 (with 73 districts remaining), we have selected index 49.     \n",
      " This corresponds to county id 67 and temporary district # 67.\n",
      "Districts remaining: 72\n",
      "On loop # 28 (with 72 districts remaining), we have selected index 1.     \n",
      " This corresponds to county id 0295 and temporary district # 2.\n",
      "Districts remaining: 71\n",
      "On loop # 29 (with 71 districts remaining), we have selected index 8.     \n",
      " This corresponds to county id 14 and temporary district # 14.\n",
      "Districts remaining: 70\n",
      "On loop # 30 (with 70 districts remaining), we have selected index 20.     \n",
      " This corresponds to county id 33 and temporary district # 33.\n",
      "Districts remaining: 69\n",
      "On loop # 31 (with 69 districts remaining), we have selected index 5.     \n",
      " This corresponds to county id 11 and temporary district # 11.\n",
      "Districts remaining: 68\n",
      "On loop # 32 (with 68 districts remaining), we have selected index 38.     \n",
      " This corresponds to county id 58 and temporary district # 58.\n",
      "Districts remaining: 67\n",
      "On loop # 33 (with 67 districts remaining), we have selected index 3.     \n",
      " This corresponds to county id 08 and temporary district # 8.\n",
      "Districts remaining: 66\n",
      "On loop # 34 (with 66 districts remaining), we have selected index 34.     \n",
      " This corresponds to county id 54 and temporary district # 54.\n",
      "Districts remaining: 65\n",
      "On loop # 35 (with 65 districts remaining), we have selected index 60.     \n",
      " This corresponds to county id 91 and temporary district # 91.\n",
      "Districts remaining: 64\n",
      "On loop # 36 (with 64 districts remaining), we have selected index 49.     \n",
      " This corresponds to county id 78 and temporary district # 78.\n",
      "Districts remaining: 63\n",
      "On loop # 37 (with 63 districts remaining), we have selected index 45.     \n",
      " This corresponds to county id 1075 and temporary district # 75.\n",
      "Districts remaining: 62\n",
      "On loop # 38 (with 62 districts remaining), we have selected index 50.     \n",
      " This corresponds to county id 82 and temporary district # 82.\n",
      "Districts remaining: 61\n",
      "On loop # 39 (with 61 districts remaining), we have selected index 58.     \n",
      " This corresponds to county id 94 and temporary district # 94.\n",
      "Districts remaining: 60\n",
      "On loop # 40 (with 60 districts remaining), we have selected index 27.     \n",
      " This corresponds to county id 51 and temporary district # 51.\n",
      "Districts remaining: 59\n",
      "On loop # 41 (with 59 districts remaining), we have selected index 25.     \n",
      " This corresponds to county id 4963 and temporary district # 49.\n",
      "Districts remaining: 58\n",
      "On loop # 42 (with 58 districts remaining), we have selected index 46.     \n",
      " This corresponds to county id 15482281 and temporary district # 81.\n",
      "Districts remaining: 57\n",
      "On loop # 43 (with 57 districts remaining), we have selected index 51.     \n",
      " This corresponds to county id 90 and temporary district # 90.\n",
      "Districts remaining: 56\n",
      "On loop # 44 (with 56 districts remaining), we have selected index 36.     \n",
      " This corresponds to county id 0367 and temporary district # 67.\n",
      "Districts remaining: 55\n",
      "On loop # 45 (with 55 districts remaining), we have selected index 28.     \n",
      " This corresponds to county id 317354 and temporary district # 54.\n",
      "Districts remaining: 54\n",
      "On loop # 46 (with 54 districts remaining), we have selected index 8.     \n",
      " This corresponds to county id 17 and temporary district # 17.\n",
      "Districts remaining: 53\n",
      "On loop # 47 (with 53 districts remaining), we have selected index 23.     \n",
      " This corresponds to county id 496385 and temporary district # 49.\n",
      "Districts remaining: 52\n",
      "On loop # 48 (with 52 districts remaining), we have selected index 6.     \n",
      " This corresponds to county id 0014 and temporary district # 14.\n",
      "Districts remaining: 51\n",
      "On loop # 49 (with 51 districts remaining), we have selected index 2.     \n",
      " This corresponds to county id 0818 and temporary district # 8.\n",
      "Districts remaining: 50\n",
      "On loop # 50 (with 50 districts remaining), we have selected index 8.     \n",
      " This corresponds to county id 1746 and temporary district # 17.\n",
      "Districts remaining: 49\n",
      "On loop # 51 (with 49 districts remaining), we have selected index 31.     \n",
      " This corresponds to county id 58920367 and temporary district # 67.\n",
      "Districts remaining: 48\n",
      "On loop # 52 (with 48 districts remaining), we have selected index 13.     \n",
      " This corresponds to county id 26 and temporary district # 26.\n",
      "Districts remaining: 47\n",
      "On loop # 53 (with 47 districts remaining), we have selected index 16.     \n",
      " This corresponds to county id 3365 and temporary district # 33.\n",
      "Districts remaining: 46\n",
      "On loop # 54 (with 46 districts remaining), we have selected index 43.     \n",
      " This corresponds to county id 93 and temporary district # 93.\n",
      "Districts remaining: 45\n",
      "On loop # 55 (with 45 districts remaining), we have selected index 27.     \n",
      " This corresponds to county id 616258920367 and temporary district # 67.\n",
      "Districts remaining: 44\n",
      "On loop # 56 (with 44 districts remaining), we have selected index 40.     \n",
      " This corresponds to county id 5391 and temporary district # 91.\n",
      "Districts remaining: 43\n",
      "On loop # 57 (with 43 districts remaining), we have selected index 19.     \n",
      " This corresponds to county id 5169 and temporary district # 51.\n",
      "Districts remaining: 42\n",
      "On loop # 58 (with 42 districts remaining), we have selected index 26.     \n",
      " This corresponds to county id 68720186 and temporary district # 68.\n",
      "Districts remaining: 41\n",
      "On loop # 59 (with 41 districts remaining), we have selected index 32.     \n",
      " This corresponds to county id 5215482281 and temporary district # 81.\n",
      "Districts remaining: 40\n",
      "On loop # 60 (with 40 districts remaining), we have selected index 24.     \n",
      " This corresponds to county id 6162589203672589 and temporary district # 67.\n",
      "Districts remaining: 39\n",
      "On loop # 61 (with 39 districts remaining), we have selected index 36.     \n",
      " This corresponds to county id 1293 and temporary district # 93.\n",
      "Districts remaining: 38\n",
      "On loop # 62 (with 38 districts remaining), we have selected index 22.     \n",
      " This corresponds to county id 19266162589203672589 and temporary district # 67.\n",
      "Districts remaining: 37\n",
      "On loop # 63 (with 37 districts remaining), we have selected index 34.     \n",
      " This corresponds to county id 13361293 and temporary district # 93.\n",
      "Districts remaining: 36\n",
      "On loop # 64 (with 36 districts remaining), we have selected index 26.     \n",
      " This corresponds to county id 2476 and temporary district # 76.\n",
      "Districts remaining: 35\n",
      "On loop # 65 (with 35 districts remaining), we have selected index 14.     \n",
      " This corresponds to county id 343941 and temporary district # 39.\n",
      "Districts remaining: 34\n",
      "On loop # 66 (with 34 districts remaining), we have selected index 21.     \n",
      " This corresponds to county id 66 and temporary district # 66.\n",
      "Districts remaining: 33\n",
      "On loop # 67 (with 33 districts remaining), we have selected index 1.     \n",
      " This corresponds to county id 05 and temporary district # 5.\n",
      "Districts remaining: 32\n",
      "On loop # 68 (with 32 districts remaining), we have selected index 17.     \n",
      " This corresponds to county id 59 and temporary district # 59.\n",
      "Districts remaining: 31\n",
      "On loop # 69 (with 31 districts remaining), we have selected index 19.     \n",
      " This corresponds to county id 4266 and temporary district # 66.\n",
      "Districts remaining: 30\n",
      "On loop # 70 (with 30 districts remaining), we have selected index 21.     \n",
      " This corresponds to county id 7483 and temporary district # 74.\n",
      "Districts remaining: 29\n",
      "On loop # 71 (with 29 districts remaining), we have selected index 22.     \n",
      " This corresponds to county id 77 and temporary district # 77.\n",
      "Districts remaining: 28\n",
      "On loop # 72 (with 28 districts remaining), we have selected index 5.     \n",
      " This corresponds to county id 174696 and temporary district # 17.\n",
      "Districts remaining: 27\n",
      "On loop # 73 (with 27 districts remaining), we have selected index 22.     \n",
      " This corresponds to county id 0482 and temporary district # 82.\n",
      "Districts remaining: 26\n",
      "On loop # 74 (with 26 districts remaining), we have selected index 10.     \n",
      " This corresponds to county id 16973365 and temporary district # 33.\n",
      "Districts remaining: 25\n",
      "On loop # 75 (with 25 districts remaining), we have selected index 17.     \n",
      " This corresponds to county id 5970717483 and temporary district # 74.\n",
      "Districts remaining: 24\n",
      "On loop # 76 (with 24 districts remaining), we have selected index 18.     \n",
      " This corresponds to county id 356477 and temporary district # 77.\n",
      "Districts remaining: 23\n",
      "On loop # 77 (with 23 districts remaining), we have selected index 18.     \n",
      " This corresponds to county id 5169565215482281 and temporary district # 81.\n",
      "Districts remaining: 22\n",
      "On loop # 78 (with 22 districts remaining), we have selected index 3.     \n",
      " This corresponds to county id 1137 and temporary district # 11.\n",
      "Districts remaining: 21\n",
      "On loop # 79 (with 21 districts remaining), we have selected index 20.     \n",
      " This corresponds to county id 10758013361293 and temporary district # 93.\n",
      "Districts remaining: 20\n",
      "On loop # 80 (with 20 districts remaining), we have selected index 6.     \n",
      " This corresponds to county id 284357 and temporary district # 28.\n",
      "Districts remaining: 19\n",
      "On loop # 81 (with 19 districts remaining), we have selected index 18.     \n",
      " This corresponds to county id 4531735410758013361293 and temporary district # 93.\n",
      "Districts remaining: 18\n",
      "On loop # 82 (with 18 districts remaining), we have selected index 8.     \n",
      " This corresponds to county id 4963854778 and temporary district # 49.\n",
      "Districts remaining: 17\n",
      "On loop # 83 (with 17 districts remaining), we have selected index 9.     \n",
      " This corresponds to county id 205970717483 and temporary district # 74.\n",
      "Districts remaining: 16\n",
      "On loop # 84 (with 16 districts remaining), we have selected index 3.     \n",
      " This corresponds to county id 21 and temporary district # 21.\n",
      "Districts remaining: 15\n",
      "On loop # 85 (with 15 districts remaining), we have selected index 1.     \n",
      " This corresponds to county id 113734394198 and temporary district # 11.\n",
      "Districts remaining: 14\n",
      "On loop # 86 (with 14 districts remaining), we have selected index 7.     \n",
      " This corresponds to county id 24760784 and temporary district # 76.\n",
      "Districts remaining: 13\n",
      "On loop # 87 (with 13 districts remaining), we have selected index 10.     \n",
      " This corresponds to county id 88 and temporary district # 88.\n",
      "Districts remaining: 12\n",
      "On loop # 88 (with 12 districts remaining), we have selected index 7.     \n",
      " This corresponds to county id 687201867987356477 and temporary district # 77.\n",
      "Districts remaining: 11\n",
      "On loop # 89 (with 11 districts remaining), we have selected index 1.     \n",
      " This corresponds to county id 113734394198169733654094 and temporary district # 11.\n",
      "Districts remaining: 10\n",
      "On loop # 90 (with 10 districts remaining), we have selected index 5.     \n",
      " This corresponds to county id 247607840014380482687201867987356477 and temporary district # 77.\n",
      "Districts remaining: 9\n",
      "On loop # 91 (with 9 districts remaining), we have selected index 1.     \n",
      " This corresponds to county id 02953221 and temporary district # 21.\n",
      "Districts remaining: 8\n",
      "On loop # 92 (with 8 districts remaining), we have selected index 6.     \n",
      " This corresponds to county id 505391 and temporary district # 91.\n",
      "Districts remaining: 7\n",
      "On loop # 93 (with 7 districts remaining), we have selected index 1.     \n",
      " This corresponds to county id 0506094963854778 and temporary district # 49.\n",
      "Districts remaining: 6\n",
      "On loop # 94 (with 6 districts remaining), we have selected index 0.     \n",
      " This corresponds to county id 081844113734394198169733654094029532210506094963854778 and temporary district # 49.\n",
      "Districts remaining: 5\n",
      "On loop # 95 (with 5 districts remaining), we have selected index 2.     \n",
      " This corresponds to county id 192661625892036725896090247607840014380482687201867987356477 and temporary district # 77.\n",
      "Districts remaining: 4\n"
     ]
    }
   ],
   "source": [
    "shapef_ia_initialdistricting = shapef_ia_fordistricting.copy()\n",
    "\n",
    "      #for initial replicability while building.\n",
    "#                    #if seed = 2, then this starts with the county with 7, Boone County.\n",
    "        #first runthrough: 7 selected, 36 neighbor (merged is labeled as 7)\n",
    "        #second runthrough: 11 selected, 33 is neighbor (merged is labeled as 11)\n",
    "\n",
    "for i in range(95): ##### 95 iterations brings us from 99 districts to 4\n",
    "    #how many districts are we working with this time?\n",
    "    running_ndistricts = len(shapef_ia_initialdistricting)\n",
    "\n",
    "    # pick out a district to work on on this iteration of the loop\n",
    "    running_index = random.randint(0,running_ndistricts-1)        \n",
    "\n",
    "    #find the temp_district associated with the running index\n",
    "    #     the below was returning a slice of a dataframe, and not just the entry\n",
    "    # running_temp_dist = shapef_ia_initialdistricting.loc[shapef_ia_initialdistricting.index == running_index, 'temp_district']\n",
    "    running_temp_district = shapef_ia_initialdistricting['temp_district'].iloc[running_index]\n",
    "    #     originally just called this for the print statement\n",
    "         \n",
    "\n",
    "    #set up adjacency and distance matrices\n",
    "    running_adjmat = adj_mat_calc(shapef_ia_initialdistricting)\n",
    "    running_distmat = temp_distance_matrix(shapef_ia_initialdistricting)\n",
    "\n",
    "    print(\"On loop # %d (with %d districts remaining), we have selected index %d. \\\n",
    "    \\n This corresponds to county id %s and temporary district # %d.\"   \\\n",
    "        % (i+1, running_ndistricts,running_index,   \\\n",
    "           shapef_ia_initialdistricting['county_id_string'].iloc[running_index], \\\n",
    "           running_temp_district) )\n",
    "    \n",
    "    #------find closest neighbor: could use cleaning up/making better\n",
    "    distance_list = list(running_distmat[running_index])\n",
    "    # distance_list.index(0)      # the index of the element with value 0 is 7\n",
    "\n",
    "    # sorting is inefficient, maybe fix\n",
    "    # https://stackoverflow.com/questions/26779618/python-find-second-smallest-number\n",
    "\n",
    "    neighbor_dist = sorted(distance_list)[1]           #second smallest distance is nearest neighbor (since distance to self is zero)\n",
    "    ##                                                    ### OR! check on adjacency matrix first!\n",
    "    neighbor_index = distance_list.index(neighbor_dist)     #county 36 (Greene) is closest to county 7 (Boone)\n",
    "    \n",
    "    # the temp_district number associated with the neighbor_index\n",
    "    # the below was having iiiiissues\n",
    "    #     neighbor_temp_dist = shapef_ia_initialdistricting.loc[shapef_ia_initialdistricting.index ==neighbor_index, 'temp_district']\n",
    "    neighbor_temp_district= shapef_ia_initialdistricting['temp_district'].iloc[neighbor_index]\n",
    "    #   this doesn't really get used except to print? but running_temp_district is super important for re-indexing\n",
    "\n",
    "    # print(\"The nearest neighbor index is %d, representing county id %s and temporary district # %d.\" \\\n",
    "    #     % (neighbor_index,   \\\n",
    "    #        shapef_ia_initialdistricting['county_id_string'].iloc[neighbor_index],\\\n",
    "    #        neighbor_temp_district) )\n",
    "    #---------end finding closest neightbor\n",
    "\n",
    "    # re-index the neighbor county to be in the first county's district\n",
    "    shapef_ia_initialdistricting.loc[shapef_ia_initialdistricting.index == neighbor_index, 'temp_district'] = running_temp_district      \n",
    "\n",
    "\n",
    "    # dissolve shapefile based on temp_district to combine the two counties\n",
    "    #aggregate remaining columns by summing them\n",
    "\n",
    "    # arguments for aggfunc: https://geopandas.org/en/stable/docs/user_guide/aggregation_with_dissolve.html\n",
    "    shapef_ia_initialdistricting = shapef_ia_initialdistricting.dissolve(\n",
    "        by=\"temp_district\",\n",
    "        aggfunc = {\n",
    "            \"COUNTYFP10\": \"sum\",    #sum = concatenation here b/c string\n",
    "            \"NAME10\": \"count\",      #kind of dummy: will be 2 only for most-recently-merged district\n",
    "            \"population\": \"sum\",\n",
    "            \"county_id\": \"sum\",     #should be actual sum here, kind of dummy\n",
    "            \"xcentr_lon\": \"first\",  #dummy, since we'll recalculate\n",
    "            \"ycentr_lat\": \"first\",\n",
    "            \"county_id_string\": \"sum\", #sum = concatenation here b/c string\n",
    "            \"temp_district\": \"first\"\n",
    "        }\n",
    "    )\n",
    "\n",
    "    # update centroid lat/longs!\n",
    "    shapef_ia_initialdistricting['xcentr_lon'] = shapef_ia_initialdistricting.centroid.x\n",
    "    shapef_ia_initialdistricting['ycentr_lat'] = shapef_ia_initialdistricting.centroid.y\n",
    "\n",
    "    #the dissolve process makes the temp_district column into the index of the dataframe\n",
    "    #which then has issues when we iterate the process\n",
    "    #so dump the index for a dummy one now\n",
    "    shapef_ia_initialdistricting = shapef_ia_initialdistricting.reset_index(drop=True)\n",
    "\n",
    "\n",
    "    print(\"Districts remaining:\", len(shapef_ia_initialdistricting))  #print how many districts are left\n",
    "\n",
    "# shapef_ia_initialdistricting = shapef_ia_initialdistricting.copy()\n"
   ]
  },
  {
   "cell_type": "code",
   "execution_count": 18,
   "id": "1b2a1e60",
   "metadata": {},
   "outputs": [],
   "source": [
    "# these were used to check which counties (via IDs and FIPs) were in each district\n",
    "# list(shapef_ia_initialdistricting[\"county_id_string\"])\n",
    "# list(shapef_ia_initialdistricting[\"COUNTYFP10\"])"
   ]
  },
  {
   "attachments": {},
   "cell_type": "markdown",
   "id": "83ade63b",
   "metadata": {},
   "source": [
    "### plot maps of new districts"
   ]
  },
  {
   "cell_type": "code",
   "execution_count": 19,
   "id": "00cfb8e4",
   "metadata": {},
   "outputs": [
    {
     "data": {
      "text/plain": [
       "0    1427498 (dist 49)\n",
       "1     274724 (dist 74)\n",
       "2    1328899 (dist 77)\n",
       "3     159248 (dist 91)\n",
       "Name: combined_label, dtype: object"
      ]
     },
     "execution_count": 19,
     "metadata": {},
     "output_type": "execute_result"
    }
   ],
   "source": [
    "shapef_ia_initialdistricting['combined_label'] = shapef_ia_initialdistricting['population'].astype(str)  + str(' (dist ') + shapef_ia_initialdistricting['temp_district'].astype(str) + str (')')\n",
    "shapef_ia_initialdistricting['combined_label']\n",
    "# shapef_ia_initialdistricting.info()"
   ]
  },
  {
   "cell_type": "markdown",
   "id": "981a48f7",
   "metadata": {},
   "source": [
    "### functions that draw maps"
   ]
  },
  {
   "cell_type": "code",
   "execution_count": 20,
   "id": "4d64963e",
   "metadata": {},
   "outputs": [],
   "source": [
    "#label_field: 'population', 'temp_district', 'combined_label'\n",
    "def map_merged_districts(new_shapefile,label_field):\n",
    "    map_population_by_district = (\n",
    "        ggplot(new_shapefile)\n",
    "        + geom_map(aes(fill='population'))\n",
    "        + geom_label(aes(x='xcentr_lon', y='ycentr_lat', \n",
    "                        label=(label_field),size=2), \n",
    "                    show_legend=False)\n",
    "        + theme_minimal()\n",
    "        + theme(axis_text_x=element_blank(),\n",
    "                axis_text_y=element_blank(),\n",
    "                axis_title_x=element_blank(),\n",
    "                axis_title_y=element_blank(),\n",
    "                axis_ticks=element_blank(),\n",
    "                panel_grid_major=element_blank(),\n",
    "                panel_grid_minor=element_blank(),\n",
    "                # panel_background = element_rect(fill = 'white'),    #just panel of the map itself\n",
    "                plot_background = element_rect(fill = 'white')       #whole png area\n",
    "            )\n",
    "        + scale_fill_cmap(#cmap_name=\"PiYG\",\n",
    "           limits=[0,1500000])\n",
    "        )\n",
    "\n",
    "    return map_population_by_district\n",
    "\n",
    "#input: shapefile of counties within a particular district \n",
    "#   (after undergoing identity overlay)\n",
    "#   label_field options: 'NAME10', 'population_2', 'county_id', 'county_id_string_2', etc\n",
    "def map_unmerged_districts(new_shapefile,label_field):\n",
    "    map_counties_by_district = (\n",
    "        ggplot(new_shapefile)\n",
    "        + geom_map(aes(fill='population_2'))\n",
    "        + geom_label(aes(x='xcentr_lon_2', y='ycentr_lat_2', \n",
    "                        label=label_field,size=2), \n",
    "                    show_legend=False)\n",
    "        + theme_minimal()\n",
    "        + theme(axis_text_x=element_blank(),\n",
    "                axis_text_y=element_blank(),\n",
    "                axis_title_x=element_blank(),\n",
    "                axis_title_y=element_blank(),\n",
    "                axis_ticks=element_blank(),\n",
    "                panel_grid_major=element_blank(),\n",
    "                panel_grid_minor=element_blank(),\n",
    "                # panel_background = element_rect(fill = 'white'),    #just panel of the map itself\n",
    "                plot_background = element_rect(fill = 'white')       #whole png area\n",
    "            )\n",
    "        )\n",
    "\n",
    "    return map_counties_by_district"
   ]
  },
  {
   "cell_type": "code",
   "execution_count": 21,
   "id": "0b4f7c48",
   "metadata": {},
   "outputs": [
    {
     "data": {
      "image/png": "[encoded data removed]",
      "text/plain": [
       "<Figure size 640x480 with 1 Axes>"
      ]
     },
     "metadata": {},
     "output_type": "display_data"
    },
    {
     "data": {
      "text/plain": [
       "<ggplot: (351333361)>"
      ]
     },
     "execution_count": 21,
     "metadata": {},
     "output_type": "execute_result"
    }
   ],
   "source": [
    "map_merged_districts(shapef_ia_initialdistricting,'combined_label')"
   ]
  },
  {
   "cell_type": "code",
   "execution_count": 22,
   "id": "b6e65326",
   "metadata": {},
   "outputs": [
    {
     "data": {
      "text/html": [
       "<div>\n",
       "<style scoped>\n",
       "    .dataframe tbody tr th:only-of-type {\n",
       "        vertical-align: middle;\n",
       "    }\n",
       "\n",
       "    .dataframe tbody tr th {\n",
       "        vertical-align: top;\n",
       "    }\n",
       "\n",
       "    .dataframe thead th {\n",
       "        text-align: right;\n",
       "    }\n",
       "</style>\n",
       "<table border=\"1\" class=\"dataframe\">\n",
       "  <thead>\n",
       "    <tr style=\"text-align: right;\">\n",
       "      <th></th>\n",
       "      <th>population</th>\n",
       "      <th>temp_district</th>\n",
       "    </tr>\n",
       "  </thead>\n",
       "  <tbody>\n",
       "    <tr>\n",
       "      <th>0</th>\n",
       "      <td>1427498</td>\n",
       "      <td>49</td>\n",
       "    </tr>\n",
       "    <tr>\n",
       "      <th>1</th>\n",
       "      <td>274724</td>\n",
       "      <td>74</td>\n",
       "    </tr>\n",
       "    <tr>\n",
       "      <th>2</th>\n",
       "      <td>1328899</td>\n",
       "      <td>77</td>\n",
       "    </tr>\n",
       "    <tr>\n",
       "      <th>3</th>\n",
       "      <td>159248</td>\n",
       "      <td>91</td>\n",
       "    </tr>\n",
       "  </tbody>\n",
       "</table>\n",
       "</div>"
      ],
      "text/plain": [
       "   population  temp_district\n",
       "0     1427498             49\n",
       "1      274724             74\n",
       "2     1328899             77\n",
       "3      159248             91"
      ]
     },
     "execution_count": 22,
     "metadata": {},
     "output_type": "execute_result"
    }
   ],
   "source": [
    "shapef_ia_initialdistricting[['population','temp_district']]"
   ]
  },
  {
   "attachments": {},
   "cell_type": "markdown",
   "id": "0c3dccbe",
   "metadata": {},
   "source": [
    "# Begin step 3: redistributing counties until population is within bounds"
   ]
  },
  {
   "cell_type": "markdown",
   "id": "de8e2522",
   "metadata": {},
   "source": [
    "## Helper Functions"
   ]
  },
  {
   "cell_type": "code",
   "execution_count": 23,
   "id": "d6693aea",
   "metadata": {},
   "outputs": [],
   "source": [
    "# helper function: input is a shapefile with 'population' \n",
    "# column. output is a full matrix with SIGNED\n",
    "# population differences between attributes\n",
    "# row - col\n",
    "# positive value in row i column j means that pop(i) > pop(j)\n",
    "# negative value in row i column j means that pop(i) < pop(j)\n",
    "def pop_diff_matrix(temp_shapefile):\n",
    "    curr_n_districts = len(temp_shapefile)\n",
    "    pop_diff_mat = np.zeros((curr_n_districts,curr_n_districts))\n",
    "\n",
    "    for i in range(curr_n_districts):\n",
    "        for j in range(curr_n_districts):   \n",
    "            pop_diff_mat[i,j] = temp_shapefile['population'].iloc[i] - temp_shapefile['population'].iloc[j]\n",
    "    \n",
    "    return pop_diff_mat\n",
    "\n",
    "\n",
    "## helper function: given a dataframe of movable counties\n",
    "# and another dataframe of the district they're going to\n",
    "# make a list of relative distances\n",
    "def calculate_rel_dist(border_counties,new_district):\n",
    "    n_border_counties = len(border_counties)\n",
    "    distance_list = np.zeros((n_border_counties,3))\n",
    "\n",
    "    for i in range(n_border_counties):\n",
    "        oldx_dist = border_counties['xcentr_lon_2'].iloc[i] - border_counties['xcentr_lon_1'].iloc[i]\n",
    "        oldy_dist = border_counties['ycentr_lat_2'].iloc[i] - border_counties['ycentr_lat_1'].iloc[i]\n",
    "\n",
    "        # old_dist\n",
    "        distance_list[i,0] = math.sqrt(oldx_dist**2 + oldy_dist**2)\n",
    "\n",
    "        newx_dist = border_counties['xcentr_lon_2'].iloc[i] - new_district['xcentr_lon'].iloc[0]\n",
    "        newy_dist = border_counties['ycentr_lat_2'].iloc[i] - new_district['ycentr_lat'].iloc[0]\n",
    "\n",
    "        # new_dist\n",
    "        distance_list[i,1] = math.sqrt(newx_dist**2 + newy_dist**2)\n",
    "\n",
    "        ## relative_distance: old - new\n",
    "        # we'll move the county with highest relative distance\n",
    "        distance_list[i,2] = distance_list[i,0] - distance_list[i,1]\n",
    "\n",
    "    #we only need relative distances, not the component parts\n",
    "    #so we could just make an n x 1 list instead of n x 3\n",
    "    rel_dist = distance_list[:,2]\n",
    "    return rel_dist\n",
    "\n",
    "#-----------module to find neighboring districts with the greatest population difference---------------------\n",
    "def neighbor_popdiff_fun(df):\n",
    "    #adjacencey matrix for 4 districts\n",
    "    adj_mat_array = adj_mat_calc(df).to_numpy()   \n",
    "\n",
    "    #SIGNED population difference array\n",
    "    # row minus col\n",
    "    # positive value in row i column j means that pop(i) > pop(j)\n",
    "    # negative value in row i column j means that pop(i) < pop(j)\n",
    "    pop_diff_array = pop_diff_matrix(df)\n",
    "    # zero out any pairs that aren't adjacent\n",
    "    # for numpy arrays, \"*\" is piecewise multiplication\n",
    "    neighbor_popdiff = adj_mat_array * pop_diff_array\n",
    "\n",
    "    return neighbor_popdiff"
   ]
  },
  {
   "cell_type": "code",
   "execution_count": 24,
   "id": "caadc1e4",
   "metadata": {},
   "outputs": [],
   "source": [
    "#Identify the border counties between the two districts with biggest population difference\n",
    "#return a dataframe with the border counties with a column of relative distances between the big and small districts\n",
    "def border_counties_df_func(shapef_ia_redist, list_of_districts, list_of_counties,scale_pop_limit_by):\n",
    "    neighbor_popdiff=neighbor_popdiff_fun(shapef_ia_redist)\n",
    "    #popdiff_locs is a list of ordered pairs giving the location of the\n",
    "    #positive values within neighbor_popdiff corresponding to adjacent districts. Note!! Indexed on (0,n-1)!\n",
    "    popdiff_locs=np.argwhere(neighbor_popdiff>0)\n",
    "    # maxpopdiff_loc = np.unravel_index(np.argmax(neighbor_popdiff, axis=None),   neighbor_popdiff.shape)\n",
    "\n",
    "    big_dist_list=[]\n",
    "    small_dist_list=[]\n",
    "    pop_limit_switch_list=[]\n",
    "    \n",
    "    for i in range(popdiff_locs.shape[0]):\n",
    "        big_dist_index=popdiff_locs[i][0]\n",
    "        big_dist_list.append(big_dist_index)\n",
    "        small_dist_index=popdiff_locs[i][1]\n",
    "        small_dist_list.append(small_dist_index)\n",
    "        pop_limit_switch=scale_pop_limit_by*neighbor_popdiff[big_dist_index][small_dist_index]\n",
    "        pop_limit_switch_list.append(pop_limit_switch)\n",
    "\n",
    "    df=pd.DataFrame()\n",
    "    df['big_dist_index']=big_dist_list #goes from 0 to 3\n",
    "    df['small_dist_index']=small_dist_list #goes from 0 to 3\n",
    "    df['small_dist']=[x+1 for x in small_dist_list] #goes from 1 to 4\n",
    "    df['big_dist']=[x+1 for x in big_dist_list] #goes from 1 to 4\n",
    "    df['pop_limit_switch']=pop_limit_switch_list\n",
    "\n",
    "    df=df.sort_values('pop_limit_switch', ascending=False).reset_index(drop=True)\n",
    "    #Note: pop_limit_switch is a proxy for actual pop limits and we can sort off of this list. But we need to make sure other lists are sorted accordingly\n",
    "\n",
    "\n",
    "    #----------find which county will be swapped from \"bigdist\" to  \"smalldist\"----------------------\n",
    "    #from the list of 4 dataframes (each of diff districts)\n",
    "    #we call the dataframe of the big district\n",
    "\n",
    "        #dataframe of counties in the Big district which are \n",
    "    #adjacent to the Small district so which we might move\n",
    "    #(possible to be point neighbors and have issues -\n",
    "    #should be okay with D criterion, though)\n",
    "    #reset index so it is (0,n-1), instead of sparse indexing based on where the county     was within the district\n",
    "    #we retain the original county id in 'county_id'\n",
    "\n",
    "    small_dist_list_for_border_counties=[]\n",
    "    big_dist_counties_list=[]\n",
    "    bigdist_movable_list=[]\n",
    "    for j in range(popdiff_locs.shape[0]):\n",
    "        # small_dist_list_for_border_counties=[x-1 for x in small_dist_list]\n",
    "        small_dist_list_for_border_counties.append(list_of_districts[df.loc[j,'small_dist_index']])\n",
    "        big_dist_counties_list.append(list_of_counties[df.loc[j, 'big_dist_index']])\n",
    "        \n",
    "        #update Nov 1\n",
    "        #intersection  and .length finds the length of intersection\n",
    "        #   of each county from the big district with the entirety of the small district\n",
    "        #np.sign turns nonzero entries to 1s\n",
    "        temp_movable_ones = np.sign(big_dist_counties_list[j].intersection(small_dist_list_for_border_counties[j].unary_union).length)\n",
    "        temp_movable_boolean = temp_movable_ones.astype(bool)\n",
    "        bigdist_movable_list.append(big_dist_counties_list[j].loc[temp_movable_boolean].reset_index(drop=True).copy())\n",
    "        # end Nov 1 update\n",
    "\n",
    "        #update the .intersects so that it avoids kitty corners\n",
    "        # bigdist_movable_list.append(big_dist_counties_list[j].loc[big_dist_counties_list[j].intersection(small_dist_list_for_border_counties[j].unary_union)].reset_index(drop=True).copy())\n",
    "        bigdist_movable_list[j]['relative_distance']=calculate_rel_dist(bigdist_movable_list[j], small_dist_list_for_border_counties[j])\n",
    "\n",
    "      \n",
    "\n",
    "    # adding column to bigdist_movable with relative distances\n",
    "    # bigdist_movable['rel_distance'] = calculate_rel_dist(bigdist_movable,smalldist)\n",
    "    # return bigdist_movable, pop_limit_switch, small_dist_index\n",
    "\n",
    "    return bigdist_movable_list, df['pop_limit_switch'].tolist(), df['small_dist'].tolist(), df['big_dist_index'].tolist()"
   ]
  },
  {
   "cell_type": "code",
   "execution_count": 25,
   "id": "247998a4",
   "metadata": {},
   "outputs": [],
   "source": [
    "# helper function\n",
    "# input is a shapefile with attributes of single counties (and columns as labeled below)\n",
    "#       usually:  shapef_ia_step3\n",
    "# output is a shapefile with attributes of districts\n",
    "#       usually: shapef_step3_dissolved\n",
    "\n",
    "def dissolve_by_district(county_shapefile):\n",
    "    dissolved_shapefile = county_shapefile.dissolve(\n",
    "        by=\"DISTRICT\",\n",
    "        aggfunc = {\n",
    "            \"population\": \"sum\",\n",
    "            \"xcentr_lon\": \"first\",  #dummy, since we'll recalculate\n",
    "            \"ycentr_lat\": \"first\",\n",
    "            #skip the county_id_string now since we aren't slicing it\n",
    "            # \"county_id_string\": \"sum\", #sum = concatenation here b/c string\n",
    "            \"DISTRICT\": \"first\"\n",
    "        }\n",
    "    )\n",
    "    dissolved_shapefile['xcentr_lon'] = dissolved_shapefile.centroid.x\n",
    "    dissolved_shapefile['ycentr_lat'] = dissolved_shapefile.centroid.y\n",
    "\n",
    "    #the dissolve process makes the temp_district column into the index of the dataframe\n",
    "    #which then has issues when we iterate the process\n",
    "    #so dump the index for a dummy one now\n",
    "    dissolved_shapefile = dissolved_shapefile.reset_index(drop=True)\n",
    "\n",
    "    return dissolved_shapefile\n",
    "\n",
    "#gives a range for district size based off of ideal district size\n",
    "def ideal_district_size_func(state_population, n_districts, tolerance):\n",
    "    ideal_district_size=state_population/n_districts\n",
    "    district_maximum=int(ideal_district_size*(1+tolerance))\n",
    "    district_minimum=int(ideal_district_size*(1-tolerance))\n",
    "    return district_minimum, district_maximum"
   ]
  },
  {
   "cell_type": "code",
   "execution_count": 26,
   "id": "ae57a1f9",
   "metadata": {},
   "outputs": [],
   "source": [
    "#helper function to check for contiguity of big district as switch_func identifies a county\n",
    "#to move from the big district to the small district\n",
    "\n",
    "#note to self: moving_index=dataframe_sorted.iloc[i]['county_id']\n",
    "def big_dist_contiguity_check_func(moving_index, big_dist_df):\n",
    "    df=big_dist_df.loc[big_dist_df['county_id']!=moving_index]\n",
    "    big_dist_laplacian=csgraph.laplacian(adj_mat_calc(df).to_numpy())\n",
    "    return  null_space(big_dist_laplacian).shape[1]"
   ]
  },
  {
   "cell_type": "code",
   "execution_count": 27,
   "id": "e9f907e7",
   "metadata": {},
   "outputs": [],
   "source": [
    "#modifying switch_threshold_func to take a list of dataframes as an argument\n",
    "def switch_threshold_func(dataframe_movable_list,max_switches_threshold,switches_range_proportion):\n",
    "    switches_threshold=[]\n",
    "    for j in range(len(dataframe_movable_list)):\n",
    "        # array with all switch counts from the movable county list\n",
    "        num_switches_array = np.array(dataframe_movable_list[j]['num_switches'])\n",
    "\n",
    "        # max and min values from the array\n",
    "        max_switches = max(num_switches_array)\n",
    "        min_switches = min(num_switches_array)\n",
    "        # our chosen threshold for switches: halfway between max and min (floor)\n",
    "        if max_switches<max_switches_threshold:\n",
    "            switches_threshold.append(max_switches)\n",
    "        else:\n",
    "            switches_threshold.append(min_switches + np.ceil((max_switches-min_switches)*switches_range_proportion))\n",
    "    return switches_threshold\n",
    "\n",
    "# switch_func helper function\n",
    "# input is a dataframe with potentially movable counties (and a count of switches)\n",
    "# output is a county to switch: first priority: below threshold of switches (and population)\n",
    "# Then, max relative distance of what's left\n",
    "def switch_func(big_dist_list, list_of_counties, dataframe_movable_list,switches_threshold_list,pop_limit_switch_list,small_dist_list):\n",
    "    for j in range(len(dataframe_movable_list)):\n",
    "        dataframe_sorted = dataframe_movable_list[j].sort_values('relative_distance',ascending=False).copy()\n",
    "        switches_threshold = switches_threshold_list[j]\n",
    "        pop_limit_switch = pop_limit_switch_list[j]\n",
    "        for i in range(dataframe_sorted.shape[0]):\n",
    "            big_dist_index=big_dist_list[j]\n",
    "            if (dataframe_sorted.iloc[i]['num_switches'] <= switches_threshold) & (dataframe_sorted.iloc[i]['population_2']<pop_limit_switch) &(big_dist_contiguity_check_func(dataframe_sorted.iloc[i]['county_id'],list_of_counties[big_dist_index])==1):\n",
    "                return dataframe_sorted.iloc[i]['county_id'], small_dist_list[j]\n",
    "                break"
   ]
  },
  {
   "cell_type": "markdown",
   "id": "a906528e",
   "metadata": {},
   "source": [
    "## Main part of reallocation"
   ]
  },
  {
   "cell_type": "markdown",
   "id": "2a1d301c",
   "metadata": {},
   "source": [
    "Pseudo code for initial allocation and reallocation:\n",
    "(COMPLETED ON 9/20)\n",
    "\n",
    "1. Initial allocation (complete)\n",
    "    - Prep gpdf for initial allocation\n",
    "    - Create the dataframe with all 99 counties and their district assignments (shapef_ia_fordistricting)\n",
    "    - Treat all 99 counties as its own district\n",
    "    - Pick an initial random seed county and merge with its nearest neighbor\n",
    "    - Repeat above step until there are only 4 districts left\n",
    "    - Get dataframes for each district and convert to gpdf\n",
    "2. Process data from initial allocation\n",
    "    - Compute adjacency matrices for districts and population differences between districts (modules complete)\n",
    "    - Create dataframes for 99 counties with district information and districts with shapefile information (complete)\n",
    "3. Redistributing districts to balance out population\n",
    "    - Identify border counties for the pair of adjacent districts that have the greatest population difference (module complete)\n",
    "    - Identify county amongst border counties that satisfies mininum relative distance, population, and number of switches criteria (modules complete)\n",
    "    - Switch the county from the larger to the smaller district and update its district label in the shapef_ia_fordistricting dataframe\n",
    "    - Update populations in the districts and rerun steps 4-7 until populations of each district falls within specified size requirements"
   ]
  },
  {
   "cell_type": "markdown",
   "id": "c1d6328c",
   "metadata": {},
   "source": [
    "### Do reallocation (+ make gif and export dataframe)"
   ]
  },
  {
   "cell_type": "code",
   "execution_count": 28,
   "id": "c80bd595",
   "metadata": {},
   "outputs": [],
   "source": [
    "# https://www.freecodecamp.org/news/creating-a-directory-in-python-how-to-create-a-folder/\n",
    "# specify the path for the directory – make sure to surround it with quotation marks\n",
    "path = './images'\n",
    "\n",
    "# check whether directory already exists\n",
    "#if yes, empty the folder\n",
    "if not os.path.exists(path):\n",
    "  os.mkdir(path)\n",
    "  print(\"Folder %s created!\" % path)\n",
    "else:\n",
    "  files = glob.glob('./images/*')\n",
    "  for f in files:\n",
    "    os.remove(f)"
   ]
  },
  {
   "cell_type": "code",
   "execution_count": 29,
   "id": "35cb1425",
   "metadata": {},
   "outputs": [],
   "source": [
    "# adding switch_count to county shapefile which we will be using\n",
    "shapef_counties_for_realloc = shapef_ia_fordistricting.copy()\n",
    "\n",
    "# make a column with num_switches\n",
    "shapef_counties_for_realloc['num_switches'] = np.zeros(shapef_counties_for_realloc.shape[0],dtype=int)\n",
    "\n",
    "#9/13 note: update names of shapef_ia_redist to make sure it's clear what is in the rows.\n",
    "# drop: 'NAME10' (was just \"2\" for most-recently-merged attribute)\n",
    "#       'COUNTYFP10' (concatenated FIPS code)\n",
    "#       'county_id'  (summed county ids) \n",
    "#       'temp_district'  (1 arbitrary \"root\" county code) \n",
    "shapef_ia_redist = shapef_ia_initialdistricting.drop(columns=['NAME10', 'COUNTYFP10','county_id','temp_district']).copy()\n",
    "\n",
    "# make a column with a district #, 1-4\n",
    "shapef_ia_redist['district_label'] = shapef_ia_redist.index + 1"
   ]
  },
  {
   "cell_type": "code",
   "execution_count": 30,
   "id": "da596713",
   "metadata": {},
   "outputs": [
    {
     "name": "stdout",
     "output_type": "stream",
     "text": [
      "districts are within 1% tolerance of ideal size\n"
     ]
    }
   ],
   "source": [
    "output_df_forcsv = pd.DataFrame(columns= ['iteration','county_id', 'county_name','number_of_switches','old_district','new_district','dist1_pop','dist2_pop','dist3_pop','dist4_pop'])\n",
    "\n",
    "for k in range(120):\n",
    "   # Making separate geodataframes for each district (one district/attribute in each).\n",
    "   list_of_districts=[]\n",
    "   for i in range(4):\n",
    "       list_of_districts.append(shapef_ia_redist.iloc[[i]].reset_index(drop=True))\n",
    "\n",
    "   #the identity overlay takes district n and splits it up by all counties\n",
    "   # which fall inside it (from main, un-districted shapefile)\n",
    "   #keep_geom_type=True   discards boundary points and lines from counties which only border the district\n",
    "   #resulting dataframe columns: _1 stuff comes from parent (whole district)\n",
    "   #                             _2 stuff comes from specific county\n",
    "   list_of_counties=[]\n",
    "   for i in range(4):\n",
    "       list_of_counties.append(list_of_districts[i].overlay(shapef_counties_for_realloc,how='identity',keep_geom_type=True))\n",
    "\n",
    "\n",
    "   #this records the district number each county is assigned to in the first pass\n",
    "   shapef_counties_for_realloc['DISTRICT']=''\n",
    "   for i in range(99):\n",
    "       for j in range(4):\n",
    "           # if i<j:\n",
    "           if shapef_counties_for_realloc.iloc[i]['COUNTYFP10'] in list_of_counties[j]['COUNTYFP10'].tolist():\n",
    "               shapef_counties_for_realloc.loc[i,'DISTRICT']=j+1\n",
    "   # shapef_counties_for_realloc\n",
    "\n",
    "   border_counties_df_func_outputs=border_counties_df_func(shapef_ia_redist, list_of_districts, list_of_counties,scale_pop_limit_by)\n",
    "   bigdist_movable_list=border_counties_df_func_outputs[0]\n",
    "   pop_limit_switch_list=border_counties_df_func_outputs[1]\n",
    "   small_district_list = border_counties_df_func_outputs[2]\n",
    "   big_district_list = border_counties_df_func_outputs[3]\n",
    "  \n",
    "   # bigdist_movable\n",
    "   switches_threshold_list=switch_threshold_func(bigdist_movable_list, max_switches_threshold,switches_range_proportion)\n",
    "\n",
    "   switch_func_output=switch_func(big_district_list,list_of_counties, bigdist_movable_list, switches_threshold_list,pop_limit_switch_list,small_district_list)\n",
    "\n",
    "   # What county should be switched? Humboldt! (FIPS 091/id 45)\n",
    "   movingcounty_index=switch_func_output[0]\n",
    "   # print(movingcounty_index)\n",
    "\n",
    "\n",
    "#    print(\"Iteration %d. The county id to move is %d.\" \\\n",
    "#        % (k+1,           \n",
    "#            movingcounty_index\n",
    "#           ) )\n",
    "\n",
    "   # Update 99 row dataframe:\n",
    "   old_district = shapef_counties_for_realloc.loc[movingcounty_index,'DISTRICT']\n",
    "   shapef_counties_for_realloc.loc[movingcounty_index,'DISTRICT'] = switch_func_output[1]\n",
    "   shapef_counties_for_realloc.loc[movingcounty_index,'num_switches'] = shapef_counties_for_realloc.loc[movingcounty_index,'num_switches']+1\n",
    "\n",
    "   # overwriting old 4 row geodataframe with the new version (dissolved based on updated district number)\n",
    "   shapef_ia_redist = dissolve_by_district(shapef_counties_for_realloc)\n",
    "\n",
    "   #print(shapef_ia_redist['population'].to_list())\n",
    "   iter_number=str(k+1).rjust(2,'0')\n",
    "   im1 = map_merged_districts(shapef_ia_redist,'DISTRICT')\n",
    "   im1 = im1.save(\"images/iter_{}.png\".format(iter_number),verbose=False)       #verbose=False suppresses warnings\n",
    "  \n",
    "   district_min=ideal_district_size_func(state_population, n_districts, .01)[0]\n",
    "   district_max=ideal_district_size_func(state_population, n_districts, .01)[1]\n",
    "\n",
    "\n",
    "   output_df_forcsv = output_df_forcsv.append({'iteration': k+1,\n",
    "                                               'county_id': movingcounty_index,\n",
    "                                               'county_name': shapef_counties_for_realloc.loc[shapef_counties_for_realloc['county_id']==movingcounty_index]['NAME10'].values[0],\n",
    "                                               'number_of_switches':shapef_counties_for_realloc.loc[shapef_counties_for_realloc['county_id']==movingcounty_index]['num_switches'].values[0],\n",
    "                                               'old_district': old_district,\n",
    "                                               'new_district': shapef_counties_for_realloc.loc[movingcounty_index,'DISTRICT'],\n",
    "                                               'dist1_pop': shapef_ia_redist.loc[0,'population'],\n",
    "                                               'dist2_pop': shapef_ia_redist.loc[1,'population'],\n",
    "                                               'dist3_pop': shapef_ia_redist.loc[2,'population'],\n",
    "                                               'dist4_pop': shapef_ia_redist.loc[3,'population']},\n",
    "                                               ignore_index=True)\n",
    "\n",
    "   if shapef_ia_redist['population'].max() in range(district_min, district_max+1) and shapef_ia_redist['population'].min() in range(district_min, district_max+1):\n",
    "       print('districts are within 1% tolerance of ideal size')\n",
    "       break"
   ]
  },
  {
   "cell_type": "code",
   "execution_count": 31,
   "id": "55569d52",
   "metadata": {},
   "outputs": [],
   "source": [
    "# output_df_forcsv"
   ]
  },
  {
   "cell_type": "code",
   "execution_count": 32,
   "id": "fa3d4935",
   "metadata": {},
   "outputs": [],
   "source": [
    "# output_df_forcsv.to_csv('reallocation-csv/realloc_output_{}.csv'.format(pd.datetime.now().strftime(\"%Y-%m-%d-%H-%M\")), index=False, header=True)"
   ]
  },
  {
   "cell_type": "code",
   "execution_count": 33,
   "id": "ecc553a0",
   "metadata": {},
   "outputs": [],
   "source": [
    "# https://pythonprogramming.altervista.org/png-to-git-to-tell-a-story-with-python-and-pil/?doing_wp_cron=1696438340.8417139053344726562500\n",
    "\n",
    "# Create the frames\n",
    "frames = []\n",
    "imgs = sorted(glob.glob(\"./images/*.png\"))\n",
    "# imgs = imgs.sort()\n",
    "for i in imgs:\n",
    "    new_frame = Image.open(i)\n",
    "    frames.append(new_frame)\n",
    "\n",
    "# Save into a GIF file that loops forever\n",
    "frames[0].save('./images/realloc_maps.gif', format='GIF',\n",
    "               append_images=frames[1:],\n",
    "               save_all=True,\n",
    "               duration=300, loop=0)"
   ]
  },
  {
   "cell_type": "markdown",
   "id": "a2bcafd8",
   "metadata": {},
   "source": [
    "## post-reallocation, evaluation"
   ]
  },
  {
   "cell_type": "markdown",
   "id": "1288c7da",
   "metadata": {},
   "source": [
    "### Count switches and evaluate realloc"
   ]
  },
  {
   "cell_type": "code",
   "execution_count": 34,
   "id": "e9e22206",
   "metadata": {},
   "outputs": [
    {
     "data": {
      "text/html": [
       "<div>\n",
       "<style scoped>\n",
       "    .dataframe tbody tr th:only-of-type {\n",
       "        vertical-align: middle;\n",
       "    }\n",
       "\n",
       "    .dataframe tbody tr th {\n",
       "        vertical-align: top;\n",
       "    }\n",
       "\n",
       "    .dataframe thead th {\n",
       "        text-align: right;\n",
       "    }\n",
       "</style>\n",
       "<table border=\"1\" class=\"dataframe\">\n",
       "  <thead>\n",
       "    <tr style=\"text-align: right;\">\n",
       "      <th></th>\n",
       "      <th>COUNTYFP10</th>\n",
       "      <th>NAME10</th>\n",
       "      <th>geometry</th>\n",
       "      <th>population</th>\n",
       "      <th>county_id</th>\n",
       "      <th>xcentr_lon</th>\n",
       "      <th>ycentr_lat</th>\n",
       "      <th>county_id_string</th>\n",
       "      <th>temp_district</th>\n",
       "      <th>num_switches</th>\n",
       "      <th>DISTRICT</th>\n",
       "    </tr>\n",
       "  </thead>\n",
       "  <tbody>\n",
       "    <tr>\n",
       "      <th>24</th>\n",
       "      <td>049</td>\n",
       "      <td>Dallas</td>\n",
       "      <td>POLYGON ((393435.415 4615964.405, 393434.954 4...</td>\n",
       "      <td>99678</td>\n",
       "      <td>24</td>\n",
       "      <td>413469.318100</td>\n",
       "      <td>4.615303e+06</td>\n",
       "      <td>24</td>\n",
       "      <td>24</td>\n",
       "      <td>4</td>\n",
       "      <td>3</td>\n",
       "    </tr>\n",
       "    <tr>\n",
       "      <th>30</th>\n",
       "      <td>061</td>\n",
       "      <td>Dubuque</td>\n",
       "      <td>POLYGON ((653650.300 4703794.614, 653629.173 4...</td>\n",
       "      <td>99266</td>\n",
       "      <td>30</td>\n",
       "      <td>674084.789590</td>\n",
       "      <td>4.703998e+06</td>\n",
       "      <td>30</td>\n",
       "      <td>30</td>\n",
       "      <td>4</td>\n",
       "      <td>1</td>\n",
       "    </tr>\n",
       "    <tr>\n",
       "      <th>56</th>\n",
       "      <td>113</td>\n",
       "      <td>Linn</td>\n",
       "      <td>POLYGON ((606691.211 4635257.094, 606259.399 4...</td>\n",
       "      <td>230299</td>\n",
       "      <td>56</td>\n",
       "      <td>615889.070269</td>\n",
       "      <td>4.659473e+06</td>\n",
       "      <td>56</td>\n",
       "      <td>56</td>\n",
       "      <td>4</td>\n",
       "      <td>1</td>\n",
       "    </tr>\n",
       "  </tbody>\n",
       "</table>\n",
       "</div>"
      ],
      "text/plain": [
       "   COUNTYFP10   NAME10                                           geometry  \\\n",
       "24        049   Dallas  POLYGON ((393435.415 4615964.405, 393434.954 4...   \n",
       "30        061  Dubuque  POLYGON ((653650.300 4703794.614, 653629.173 4...   \n",
       "56        113     Linn  POLYGON ((606691.211 4635257.094, 606259.399 4...   \n",
       "\n",
       "    population  county_id     xcentr_lon    ycentr_lat county_id_string  \\\n",
       "24       99678         24  413469.318100  4.615303e+06               24   \n",
       "30       99266         30  674084.789590  4.703998e+06               30   \n",
       "56      230299         56  615889.070269  4.659473e+06               56   \n",
       "\n",
       "    temp_district  num_switches DISTRICT  \n",
       "24             24             4        3  \n",
       "30             30             4        1  \n",
       "56             56             4        1  "
      ]
     },
     "execution_count": 34,
     "metadata": {},
     "output_type": "execute_result"
    }
   ],
   "source": [
    "shapef_counties_for_realloc.loc[shapef_counties_for_realloc['num_switches']>3]"
   ]
  },
  {
   "cell_type": "markdown",
   "id": "cf20a391",
   "metadata": {},
   "source": [
    "### Plot district size bar graph"
   ]
  },
  {
   "cell_type": "code",
   "execution_count": 35,
   "id": "52ddcd72",
   "metadata": {},
   "outputs": [
    {
     "data": {
      "text/plain": [
       "(789616, 805568)"
      ]
     },
     "execution_count": 35,
     "metadata": {},
     "output_type": "execute_result"
    }
   ],
   "source": [
    "ideal_district_size_func(state_population, n_districts, .01)"
   ]
  },
  {
   "cell_type": "code",
   "execution_count": 36,
   "id": "0d5b6eab",
   "metadata": {},
   "outputs": [
    {
     "data": {
      "text/plain": [
       "[<matplotlib.lines.Line2D at 0x15cc57880>]"
      ]
     },
     "execution_count": 36,
     "metadata": {},
     "output_type": "execute_result"
    },
    {
     "data": {
      "image/png": "[encoded data removed]",
      "text/plain": [
       "<Figure size 640x480 with 1 Axes>"
      ]
     },
     "metadata": {},
     "output_type": "display_data"
    }
   ],
   "source": [
    "x=shapef_ia_redist['DISTRICT']\n",
    "y=shapef_ia_redist['population']\n",
    "# plt.bar(x, y)\n",
    "fig, ax = plt.subplots()\n",
    "district_min\n",
    "ax.bar(x, y)\n",
    "ax.set(xlim=(0, 5), xticks=np.arange(1, 5),\n",
    "       ylim=(700000, max(y)+15000))\n",
    "ax.plot([0.5, 4.5], [district_min, district_min], \"k--\")\n",
    "ax.plot([0.5,4.5], [state_population/n_districts, state_population/n_districts], \"r--\")\n",
    "ax.plot([0.5, 4.5], [district_max, district_max], \"k--\")"
   ]
  },
  {
   "cell_type": "code",
   "execution_count": 37,
   "id": "533c97ed",
   "metadata": {},
   "outputs": [
    {
     "data": {
      "text/html": [
       "<div>\n",
       "<style scoped>\n",
       "    .dataframe tbody tr th:only-of-type {\n",
       "        vertical-align: middle;\n",
       "    }\n",
       "\n",
       "    .dataframe tbody tr th {\n",
       "        vertical-align: top;\n",
       "    }\n",
       "\n",
       "    .dataframe thead th {\n",
       "        text-align: right;\n",
       "    }\n",
       "</style>\n",
       "<table border=\"1\" class=\"dataframe\">\n",
       "  <thead>\n",
       "    <tr style=\"text-align: right;\">\n",
       "      <th></th>\n",
       "      <th>geometry</th>\n",
       "      <th>population</th>\n",
       "      <th>xcentr_lon</th>\n",
       "      <th>ycentr_lat</th>\n",
       "      <th>DISTRICT</th>\n",
       "    </tr>\n",
       "  </thead>\n",
       "  <tbody>\n",
       "    <tr>\n",
       "      <th>0</th>\n",
       "      <td>POLYGON ((519276.423 4663244.608, 519276.805 4...</td>\n",
       "      <td>801380</td>\n",
       "      <td>556757.415265</td>\n",
       "      <td>4.734043e+06</td>\n",
       "      <td>1</td>\n",
       "    </tr>\n",
       "    <tr>\n",
       "      <th>1</th>\n",
       "      <td>POLYGON ((327366.139 4493729.314, 327331.113 4...</td>\n",
       "      <td>790544</td>\n",
       "      <td>330226.408125</td>\n",
       "      <td>4.690030e+06</td>\n",
       "      <td>2</td>\n",
       "    </tr>\n",
       "    <tr>\n",
       "      <th>2</th>\n",
       "      <td>POLYGON ((452694.196 4492297.318, 452675.686 4...</td>\n",
       "      <td>802949</td>\n",
       "      <td>439977.450741</td>\n",
       "      <td>4.553372e+06</td>\n",
       "      <td>3</td>\n",
       "    </tr>\n",
       "    <tr>\n",
       "      <th>3</th>\n",
       "      <td>POLYGON ((608292.148 4495311.571, 607506.427 4...</td>\n",
       "      <td>795496</td>\n",
       "      <td>607779.100853</td>\n",
       "      <td>4.597084e+06</td>\n",
       "      <td>4</td>\n",
       "    </tr>\n",
       "  </tbody>\n",
       "</table>\n",
       "</div>"
      ],
      "text/plain": [
       "                                            geometry  population  \\\n",
       "0  POLYGON ((519276.423 4663244.608, 519276.805 4...      801380   \n",
       "1  POLYGON ((327366.139 4493729.314, 327331.113 4...      790544   \n",
       "2  POLYGON ((452694.196 4492297.318, 452675.686 4...      802949   \n",
       "3  POLYGON ((608292.148 4495311.571, 607506.427 4...      795496   \n",
       "\n",
       "      xcentr_lon    ycentr_lat DISTRICT  \n",
       "0  556757.415265  4.734043e+06        1  \n",
       "1  330226.408125  4.690030e+06        2  \n",
       "2  439977.450741  4.553372e+06        3  \n",
       "3  607779.100853  4.597084e+06        4  "
      ]
     },
     "execution_count": 37,
     "metadata": {},
     "output_type": "execute_result"
    }
   ],
   "source": [
    "shapef_ia_redist"
   ]
  },
  {
   "cell_type": "code",
   "execution_count": 38,
   "id": "f0b8bf2b",
   "metadata": {},
   "outputs": [
    {
     "data": {
      "image/png": "[encoded data removed]",
      "text/plain": [
       "<Figure size 640x480 with 1 Axes>"
      ]
     },
     "metadata": {},
     "output_type": "display_data"
    },
    {
     "data": {
      "text/plain": [
       "<ggplot: (352131829)>"
      ]
     },
     "execution_count": 38,
     "metadata": {},
     "output_type": "execute_result"
    }
   ],
   "source": [
    "distmap_by_county(shapef_ia_redist, 'DISTRICT')"
   ]
  },
  {
   "cell_type": "code",
   "execution_count": 39,
   "id": "11fb93e4",
   "metadata": {},
   "outputs": [
    {
     "data": {
      "image/png": "[encoded data removed]",
      "text/plain": [
       "<Figure size 640x480 with 1 Axes>"
      ]
     },
     "metadata": {},
     "output_type": "display_data"
    },
    {
     "data": {
      "text/plain": [
       "<ggplot: (364560919)>"
      ]
     },
     "execution_count": 39,
     "metadata": {},
     "output_type": "execute_result"
    }
   ],
   "source": [
    "map_merged_districts(shapef_ia_redist,'DISTRICT')"
   ]
  },
  {
   "cell_type": "code",
   "execution_count": 48,
   "metadata": {},
   "outputs": [],
   "source": [
    "shapef_counties_for_realloc.to_csv('seed3_scalepop4_realloc.csv', index=False, header=True)"
   ]
  },
  {
   "cell_type": "markdown",
   "metadata": {},
   "source": [
    "### Winner analysis"
   ]
  },
  {
   "cell_type": "markdown",
   "metadata": {},
   "source": [
    "This is a proof of concept check to make sure the winner_tabulation function works with the shapef_for_realloc dataframe and that the number of winners is counted correctly. In the next steps, winner tabulation will be done in a separate notebook."
   ]
  },
  {
   "cell_type": "code",
   "execution_count": 41,
   "metadata": {},
   "outputs": [],
   "source": [
    "#create dataframe for all 99 counties and number of democrat, republican, and indepdendent candidate votes\n",
    "votes_df=pd.read_csv('voter_numbers.csv')\n",
    "votes_df['indep_votes'] = votes_df['indep_votes'].replace(np.nan, 0).astype(int)\n"
   ]
  },
  {
   "cell_type": "code",
   "execution_count": 42,
   "metadata": {},
   "outputs": [],
   "source": [
    "def winner_tabulation(votes_df, realloc_df):\n",
    "    votes_df['simulation_district']=realloc_df['DISTRICT']\n",
    "    winners_df=pd.DataFrame(columns=['district', 'dem_votes', 'rep_votes','indep_votes', 'party_winner'])\n",
    "    for i in range(1,5):\n",
    "        winners_df.loc[i]=[i,\n",
    "                      votes_df.loc[votes_df['simulation_district']==i]['dem_votes'].sum(),\n",
    "                      votes_df.loc[votes_df['simulation_district']==i]['rep_votes'].sum(),\n",
    "                    votes_df.loc[votes_df['simulation_district']==i]['indep_votes'].sum(),\n",
    "                      '']\n",
    "    for i in range(1,5):\n",
    "        if votes_df.loc[votes_df['simulation_district']==i]['dem_votes'].sum()>votes_df.loc[votes_df['simulation_district']==i]['rep_votes'].sum():\n",
    "            winners_df.loc[winners_df['district']==i,'party_winner']='D'\n",
    "        else:\n",
    "            winners_df.loc[winners_df['district']==i,'party_winner']='R'\n",
    "    num_dem_winners=winners_df['party_winner'].value_counts().reindex(['D','R'], fill_value=0)[0]\n",
    "    num_rep_winners=winners_df['party_winner'].value_counts().reindex(['D','R'], fill_value=0)[1]\n",
    "    return num_dem_winners, num_rep_winners"
   ]
  },
  {
   "cell_type": "code",
   "execution_count": 43,
   "metadata": {},
   "outputs": [
    {
     "data": {
      "text/plain": [
       "(0, 4)"
      ]
     },
     "execution_count": 43,
     "metadata": {},
     "output_type": "execute_result"
    }
   ],
   "source": [
    "winner_tabulation(votes_df, shapef_counties_for_realloc)"
   ]
  },
  {
   "attachments": {},
   "cell_type": "markdown",
   "id": "9448e034",
   "metadata": {},
   "source": [
    "### graphing individual districts"
   ]
  },
  {
   "cell_type": "code",
   "execution_count": 48,
   "id": "be5296a6",
   "metadata": {},
   "outputs": [
    {
     "data": {
      "image/png": "[encoded data removed]",
      "text/plain": [
       "<Figure size 640x480 with 1 Axes>"
      ]
     },
     "metadata": {},
     "output_type": "display_data"
    },
    {
     "data": {
      "text/plain": [
       "<ggplot: (361501258)>"
      ]
     },
     "execution_count": 48,
     "metadata": {},
     "output_type": "execute_result"
    }
   ],
   "source": [
    "#this gives an example of output of map_unmerged_districts\n",
    "# map_unmerged_districts(list_of_counties[3],'NAME10')\n",
    "map_unmerged_districts(list_of_counties[2],'NAME10')\n",
    "# map_unmerged_districts(list_of_counties[1],'NAME10')\n",
    "map_unmerged_districts(list_of_counties[0],'NAME10')"
   ]
  },
  {
   "cell_type": "markdown",
   "id": "e02daadf",
   "metadata": {},
   "source": [
    "## Compactness measures"
   ]
  },
  {
   "cell_type": "markdown",
   "id": "bbfb32ac",
   "metadata": {},
   "source": [
    "Princeton Gerrymandering Project uses Reock (minimum bounding circle) and Polsby-Popper (perimeter) in their report cards\n",
    "https://gerrymander.princeton.edu/redistricting-report-card-methodology\n",
    "\n",
    "Polsby-Popper: $PP = \\frac{\\text{Area of district}}{\\text{Area of circle with same perimeter as district}} = 4\\pi \\left(\\frac{\\text{Area of district}}{\\text{(Perimeter of district)}^2}\\right) $\n",
    "\n",
    "Reock: $R = \\frac{\\text{Area of district}}{\\text{Area of MBC}}$\n",
    "\n",
    "(other metrics described here: https://fisherzachary.github.io/public/r-output.html)\n",
    "\n",
    "\n",
    "(Skipping convex hull stuff (for now), but examples are at end of Linear_Programming/Iowa_redistricting_miniset_for_perim.ipynb)"
   ]
  },
  {
   "cell_type": "code",
   "execution_count": 49,
   "id": "d89f3a80",
   "metadata": {},
   "outputs": [],
   "source": [
    "shapef_ia_compactness = shapef_ia_redist.copy()\n",
    "# shapef_ia_compactness"
   ]
  },
  {
   "cell_type": "code",
   "execution_count": 50,
   "id": "4a0b4bce",
   "metadata": {},
   "outputs": [
    {
     "data": {
      "text/html": [
       "<div>\n",
       "<style scoped>\n",
       "    .dataframe tbody tr th:only-of-type {\n",
       "        vertical-align: middle;\n",
       "    }\n",
       "\n",
       "    .dataframe tbody tr th {\n",
       "        vertical-align: top;\n",
       "    }\n",
       "\n",
       "    .dataframe thead th {\n",
       "        text-align: right;\n",
       "    }\n",
       "</style>\n",
       "<table border=\"1\" class=\"dataframe\">\n",
       "  <thead>\n",
       "    <tr style=\"text-align: right;\">\n",
       "      <th></th>\n",
       "      <th>geometry</th>\n",
       "      <th>population</th>\n",
       "      <th>xcentr_lon</th>\n",
       "      <th>ycentr_lat</th>\n",
       "      <th>DISTRICT</th>\n",
       "      <th>area</th>\n",
       "      <th>perimeter</th>\n",
       "    </tr>\n",
       "  </thead>\n",
       "  <tbody>\n",
       "    <tr>\n",
       "      <th>0</th>\n",
       "      <td>POLYGON ((519276.423 4663244.608, 519276.805 4...</td>\n",
       "      <td>801380</td>\n",
       "      <td>556757.415265</td>\n",
       "      <td>4.734043e+06</td>\n",
       "      <td>1</td>\n",
       "      <td>3.285267e+10</td>\n",
       "      <td>1.022661e+06</td>\n",
       "    </tr>\n",
       "    <tr>\n",
       "      <th>1</th>\n",
       "      <td>POLYGON ((327366.139 4493729.314, 327331.113 4...</td>\n",
       "      <td>790544</td>\n",
       "      <td>330226.408125</td>\n",
       "      <td>4.690030e+06</td>\n",
       "      <td>2</td>\n",
       "      <td>5.826847e+10</td>\n",
       "      <td>1.442891e+06</td>\n",
       "    </tr>\n",
       "    <tr>\n",
       "      <th>2</th>\n",
       "      <td>POLYGON ((452694.196 4492297.318, 452675.686 4...</td>\n",
       "      <td>802949</td>\n",
       "      <td>439977.450741</td>\n",
       "      <td>4.553372e+06</td>\n",
       "      <td>3</td>\n",
       "      <td>2.286806e+10</td>\n",
       "      <td>7.143554e+05</td>\n",
       "    </tr>\n",
       "    <tr>\n",
       "      <th>3</th>\n",
       "      <td>POLYGON ((608292.148 4495311.571, 607506.427 4...</td>\n",
       "      <td>795496</td>\n",
       "      <td>607779.100853</td>\n",
       "      <td>4.597084e+06</td>\n",
       "      <td>4</td>\n",
       "      <td>3.170889e+10</td>\n",
       "      <td>1.086826e+06</td>\n",
       "    </tr>\n",
       "  </tbody>\n",
       "</table>\n",
       "</div>"
      ],
      "text/plain": [
       "                                            geometry  population  \\\n",
       "0  POLYGON ((519276.423 4663244.608, 519276.805 4...      801380   \n",
       "1  POLYGON ((327366.139 4493729.314, 327331.113 4...      790544   \n",
       "2  POLYGON ((452694.196 4492297.318, 452675.686 4...      802949   \n",
       "3  POLYGON ((608292.148 4495311.571, 607506.427 4...      795496   \n",
       "\n",
       "      xcentr_lon    ycentr_lat DISTRICT          area     perimeter  \n",
       "0  556757.415265  4.734043e+06        1  3.285267e+10  1.022661e+06  \n",
       "1  330226.408125  4.690030e+06        2  5.826847e+10  1.442891e+06  \n",
       "2  439977.450741  4.553372e+06        3  2.286806e+10  7.143554e+05  \n",
       "3  607779.100853  4.597084e+06        4  3.170889e+10  1.086826e+06  "
      ]
     },
     "execution_count": 50,
     "metadata": {},
     "output_type": "execute_result"
    }
   ],
   "source": [
    "shapef_ia_compactness['area'] = shapef_ia_compactness['geometry'].area\n",
    "shapef_ia_compactness['perimeter'] = shapef_ia_compactness['geometry'].length\n",
    "shapef_ia_compactness"
   ]
  },
  {
   "cell_type": "code",
   "execution_count": 51,
   "id": "b7a93b0e",
   "metadata": {},
   "outputs": [],
   "source": [
    "#Polsby-Popper Score\n",
    "shapef_ia_compactness['PolsbyPopper']=4*math.pi*shapef_ia_compactness['area']/(shapef_ia_compactness['perimeter']**2)"
   ]
  },
  {
   "cell_type": "code",
   "execution_count": 55,
   "metadata": {},
   "outputs": [
    {
     "ename": "AttributeError",
     "evalue": "'GeoSeries' object has no attribute 'minimum_bounding_radius'",
     "output_type": "error",
     "traceback": [
      "\u001b[0;31m---------------------------------------------------------------------------\u001b[0m",
      "\u001b[0;31mAttributeError\u001b[0m                            Traceback (most recent call last)",
      "\u001b[1;32m/Users/Stefanie/repos/gerrymander/ia-redistricting/Iowa_contiguousdistricting.ipynb Cell 74\u001b[0m line \u001b[0;36m<cell line: 2>\u001b[0;34m()\u001b[0m\n\u001b[1;32m      <a href='vscode-notebook-cell:/Users/Stefanie/repos/gerrymander/ia-redistricting/Iowa_contiguousdistricting.ipynb#Y134sZmlsZQ%3D%3D?line=0'>1</a>\u001b[0m \u001b[39m#radius of minimum bounding circle\u001b[39;00m\n\u001b[0;32m----> <a href='vscode-notebook-cell:/Users/Stefanie/repos/gerrymander/ia-redistricting/Iowa_contiguousdistricting.ipynb#Y134sZmlsZQ%3D%3D?line=1'>2</a>\u001b[0m shapef_ia_compactness[\u001b[39m'\u001b[39m\u001b[39mmin_bounding_radius\u001b[39m\u001b[39m'\u001b[39m]\u001b[39m=\u001b[39mshapef_ia_compactness[\u001b[39m'\u001b[39;49m\u001b[39mgeometry\u001b[39;49m\u001b[39m'\u001b[39;49m]\u001b[39m.\u001b[39;49mminimum_bounding_radius()\n\u001b[1;32m      <a href='vscode-notebook-cell:/Users/Stefanie/repos/gerrymander/ia-redistricting/Iowa_contiguousdistricting.ipynb#Y134sZmlsZQ%3D%3D?line=3'>4</a>\u001b[0m \u001b[39m#Reock Score\u001b[39;00m\n\u001b[1;32m      <a href='vscode-notebook-cell:/Users/Stefanie/repos/gerrymander/ia-redistricting/Iowa_contiguousdistricting.ipynb#Y134sZmlsZQ%3D%3D?line=4'>5</a>\u001b[0m shapef_ia_compactness[\u001b[39m'\u001b[39m\u001b[39mReock\u001b[39m\u001b[39m'\u001b[39m]\u001b[39m=\u001b[39mshapef_ia_compactness[\u001b[39m'\u001b[39m\u001b[39marea\u001b[39m\u001b[39m'\u001b[39m]\u001b[39m/\u001b[39m(math\u001b[39m.\u001b[39mpi\u001b[39m*\u001b[39m(shapef_ia_compactness[\u001b[39m'\u001b[39m\u001b[39mmin_bounding_radius\u001b[39m\u001b[39m'\u001b[39m]\u001b[39m*\u001b[39m\u001b[39m*\u001b[39m\u001b[39m2\u001b[39m))\n",
      "File \u001b[0;32m/opt/homebrew/Caskroom/miniforge/base/envs/myenv/lib/python3.10/site-packages/pandas/core/generic.py:5575\u001b[0m, in \u001b[0;36mNDFrame.__getattr__\u001b[0;34m(self, name)\u001b[0m\n\u001b[1;32m   5568\u001b[0m \u001b[39mif\u001b[39;00m (\n\u001b[1;32m   5569\u001b[0m     name \u001b[39mnot\u001b[39;00m \u001b[39min\u001b[39;00m \u001b[39mself\u001b[39m\u001b[39m.\u001b[39m_internal_names_set\n\u001b[1;32m   5570\u001b[0m     \u001b[39mand\u001b[39;00m name \u001b[39mnot\u001b[39;00m \u001b[39min\u001b[39;00m \u001b[39mself\u001b[39m\u001b[39m.\u001b[39m_metadata\n\u001b[1;32m   5571\u001b[0m     \u001b[39mand\u001b[39;00m name \u001b[39mnot\u001b[39;00m \u001b[39min\u001b[39;00m \u001b[39mself\u001b[39m\u001b[39m.\u001b[39m_accessors\n\u001b[1;32m   5572\u001b[0m     \u001b[39mand\u001b[39;00m \u001b[39mself\u001b[39m\u001b[39m.\u001b[39m_info_axis\u001b[39m.\u001b[39m_can_hold_identifiers_and_holds_name(name)\n\u001b[1;32m   5573\u001b[0m ):\n\u001b[1;32m   5574\u001b[0m     \u001b[39mreturn\u001b[39;00m \u001b[39mself\u001b[39m[name]\n\u001b[0;32m-> 5575\u001b[0m \u001b[39mreturn\u001b[39;00m \u001b[39mobject\u001b[39;49m\u001b[39m.\u001b[39;49m\u001b[39m__getattribute__\u001b[39;49m(\u001b[39mself\u001b[39;49m, name)\n",
      "\u001b[0;31mAttributeError\u001b[0m: 'GeoSeries' object has no attribute 'minimum_bounding_radius'"
     ]
    }
   ],
   "source": [
    "#radius of minimum bounding circle\n",
    "shapef_ia_compactness['min_bounding_radius']=shapef_ia_compactness['geometry'].minimum_bounding_radius()\n",
    "\n",
    "#Reock Score\n",
    "shapef_ia_compactness['Reock']=shapef_ia_compactness['area']/(math.pi*(shapef_ia_compactness['min_bounding_radius']**2))"
   ]
  },
  {
   "cell_type": "code",
   "execution_count": null,
   "id": "ec3dc5f1",
   "metadata": {},
   "outputs": [],
   "source": [
    "shapef_ia_compactness"
   ]
  },
  {
   "cell_type": "markdown",
   "id": "51e54e9d",
   "metadata": {},
   "source": [
    "# Steps for next time (11/1):\n",
    "1. Things we did\n",
    "    - \n",
    "2. To investigate/implement:\n",
    "    - Review Chen’s FL and WI papers to see how long reallocation algorithm ran (eg number of iterations)\n",
    "    - potentially save reallocation gifs with timestamp to compare the reallocation processes\n",
    "    - Update name of reallocation csv to include random seed, scale_pop_limit_by, max_switches_threshold, switches_range_proportion \n",
    "    - Generate different maps based on different random seeds\n",
    "    - Compute compactness scores of districts in each districting (sample size >= 30, one set of maps drawn with compactness as a priority, one set of maps drawn with population convergence as a priority)\n",
    "        - compare distribution of compactness scores to see if maps that prioritize population convergence are demonstrably worse\n",
    "        - see Iowa_redistricting_miniset_for_perim.ipynb for old work on compactness using area & perimeter, and convex hull gpd function\n",
    "    - data that we need to export:\n",
    "        - random seed\n",
    "        - compactness score for each district (comparing which type of map drawing is preferred/more favorable)\n",
    "        - number of republican/democrat winners\n",
    "        - districts where republicans/democrats won\n",
    "            - look at shapef_counties_for_realloc - this is the dataframe generated at the end of the reallocation for loop\n",
    "            - create a column/new dataframe with votes for each party for that county\n",
    "                - create \"safe, toss-up\" categorizations\n",
    "            - tabulate winners\n",
    "        - run a seat share and compare data across the 200 maps"
   ]
  },
  {
   "attachments": {},
   "cell_type": "markdown",
   "id": "74af297e",
   "metadata": {},
   "source": [
    "## Chen's algorithm for reallocation"
   ]
  },
  {
   "attachments": {},
   "cell_type": "markdown",
   "id": "6fe3ed4e",
   "metadata": {},
   "source": [
    "From Chen's paper:\n",
    "\n",
    "(3a) Among all pairs of districts that border one another, identify the pair with the greatest disparity in district population. Within this pair,\n",
    "let us denote the more populated district as $i$ and the less populated district as $j$.\n",
    "\n",
    "(3b) Identify the set of all precincts currently within district $i$ that could be reassigned to district $j$ without violating the geographic contiguity of either district $i$ or $j$.\n",
    "\n",
    "(3c) For each precinct $p$ satisfying the criterion in step 3b, define $D_p$ as precinct $p$’s geographic distance to the centroid of district $i$, minus\n",
    "precinct $p$’s distance to the centroid of district $j$.\n",
    "\n",
    "(3d) Among the set of precincts satisfying the criteria in step 3b, select the precinct, $p$, with the highest value of Dp . Reassign this precinct from\n",
    "district $i$ to district $j$."
   ]
  },
  {
   "cell_type": "markdown",
   "id": "b1434955",
   "metadata": {},
   "source": []
  }
 ],
 "metadata": {
  "kernelspec": {
   "display_name": "myenv",
   "language": "python",
   "name": "python3"
  },
  "language_info": {
   "codemirror_mode": {
    "name": "ipython",
    "version": 3
   },
   "file_extension": ".py",
   "mimetype": "text/x-python",
   "name": "python",
   "nbconvert_exporter": "python",
   "pygments_lexer": "ipython3",
   "version": "3.10.4"
  },
  "vscode": {
   "interpreter": {
    "hash": "857970f990130bbcaee778cf1846f7875676d945310dca1379fe4b5ef3d258a5"
   }
  }
 },
 "nbformat": 4,
 "nbformat_minor": 5
}
