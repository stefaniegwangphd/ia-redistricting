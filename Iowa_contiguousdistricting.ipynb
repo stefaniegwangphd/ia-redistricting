{
 "cells": [
  {
   "attachments": {},
   "cell_type": "markdown",
   "id": "794a648a",
   "metadata": {},
   "source": [
    "forked from main iowa_redistricting on march 28\n",
    "\n",
    "manually implementing algorithm described in Chen and Rodden (2013)"
   ]
  },
  {
   "cell_type": "markdown",
   "id": "e7cd18f8",
   "metadata": {},
   "source": [
    "Shapefile dataframes used in this notebook\n",
    "\n",
    "shapefile_iowa: MGGG stuff merged with census stuff\n",
    "\n",
    "shapef_ia_proj: projected to UTM so we can run distance calculations on it\n",
    "\n",
    "shapef_ia_fordistricting: 99 rows for each county, ready for initial allocation; made from deep copy of shapef_ia_proj\n",
    "\n",
    "shapef_counties_for_realloc: made from a deep copy from shapef_ia_fordistricting; this has a num_switches column and a district column populated with the district assignment from the initial allocation\n",
    "\n",
    "shapef_ia_initialdistricting: came from _fordistricting, went through the districting (step 1/2) process, and is now 4 rows\n",
    "\tas of Sept 18, not modified further for step 3/district balancing\n",
    "\n",
    "shapef_ia_redist: this is a deep copy of shapef_ia_initialdistricting with a few dropped columns. This df is used for making new districts"
   ]
  },
  {
   "cell_type": "code",
   "execution_count": 1,
   "id": "77f457be",
   "metadata": {},
   "outputs": [],
   "source": [
    "import numpy as np\n",
    "import pandas as pd\n",
    "import geopandas as gpd\n",
    "import seaborn as sns\n",
    "from PIL import Image, ImageOps\n",
    "import glob\n",
    "from plotnine import (ggplot, aes, geom_map, geom_text, geom_label, \n",
    "                      ggtitle, element_blank, element_rect, \n",
    "                      scale_fill_manual, theme_minimal, theme) \n",
    "from pulp import (LpProblem, LpMinimize, LpVariable, lpSum, \n",
    "                  PULP_CBC_CMD, GLPK_CMD, LpStatus, value) \n",
    "\n",
    "\n",
    "import math         ##for math.sqrt\n",
    "import random       #for random selection of district to start with"
   ]
  },
  {
   "attachments": {},
   "cell_type": "markdown",
   "id": "1f03496d",
   "metadata": {},
   "source": [
    "# Prepping the census and geopandas dataframes"
   ]
  },
  {
   "attachments": {},
   "cell_type": "markdown",
   "id": "ed8fb8bd",
   "metadata": {},
   "source": [
    "## Importing data"
   ]
  },
  {
   "cell_type": "code",
   "execution_count": 2,
   "id": "21899131",
   "metadata": {},
   "outputs": [
    {
     "data": {
      "text/html": [
       "<div>\n",
       "<style scoped>\n",
       "    .dataframe tbody tr th:only-of-type {\n",
       "        vertical-align: middle;\n",
       "    }\n",
       "\n",
       "    .dataframe tbody tr th {\n",
       "        vertical-align: top;\n",
       "    }\n",
       "\n",
       "    .dataframe thead th {\n",
       "        text-align: right;\n",
       "    }\n",
       "</style>\n",
       "<table border=\"1\" class=\"dataframe\">\n",
       "  <thead>\n",
       "    <tr style=\"text-align: right;\">\n",
       "      <th></th>\n",
       "      <th>county_id</th>\n",
       "      <th>county</th>\n",
       "      <th>population</th>\n",
       "      <th>COUNTYFP10</th>\n",
       "      <th>latitude</th>\n",
       "      <th>longitude</th>\n",
       "    </tr>\n",
       "  </thead>\n",
       "  <tbody>\n",
       "    <tr>\n",
       "      <th>0</th>\n",
       "      <td>0</td>\n",
       "      <td>Adair</td>\n",
       "      <td>7496</td>\n",
       "      <td>001</td>\n",
       "      <td>41.328528</td>\n",
       "      <td>-94.478164</td>\n",
       "    </tr>\n",
       "    <tr>\n",
       "      <th>1</th>\n",
       "      <td>1</td>\n",
       "      <td>Adams</td>\n",
       "      <td>3704</td>\n",
       "      <td>003</td>\n",
       "      <td>41.021656</td>\n",
       "      <td>-94.696906</td>\n",
       "    </tr>\n",
       "    <tr>\n",
       "      <th>2</th>\n",
       "      <td>2</td>\n",
       "      <td>Allamakee</td>\n",
       "      <td>14061</td>\n",
       "      <td>005</td>\n",
       "      <td>43.274964</td>\n",
       "      <td>-91.382751</td>\n",
       "    </tr>\n",
       "    <tr>\n",
       "      <th>3</th>\n",
       "      <td>3</td>\n",
       "      <td>Appanoose</td>\n",
       "      <td>12317</td>\n",
       "      <td>007</td>\n",
       "      <td>40.744683</td>\n",
       "      <td>-92.870345</td>\n",
       "    </tr>\n",
       "    <tr>\n",
       "      <th>4</th>\n",
       "      <td>4</td>\n",
       "      <td>Audubon</td>\n",
       "      <td>5674</td>\n",
       "      <td>009</td>\n",
       "      <td>41.679178</td>\n",
       "      <td>-94.904312</td>\n",
       "    </tr>\n",
       "  </tbody>\n",
       "</table>\n",
       "</div>"
      ],
      "text/plain": [
       "   county_id      county  population COUNTYFP10   latitude  longitude\n",
       "0          0      Adair         7496        001  41.328528 -94.478164\n",
       "1          1      Adams         3704        003  41.021656 -94.696906\n",
       "2          2  Allamakee        14061        005  43.274964 -91.382751\n",
       "3          3  Appanoose        12317        007  40.744683 -92.870345\n",
       "4          4    Audubon         5674        009  41.679178 -94.904312"
      ]
     },
     "execution_count": 2,
     "metadata": {},
     "output_type": "execute_result"
    }
   ],
   "source": [
    "#census.csv is data from Secretary of State's office.\n",
    "census_df=pd.read_csv('census.csv')\n",
    "census_df['COUNTYFP10']=census_df['COUNTYFP10'].astype(str).str.pad(3,fillchar='0')\n",
    "census_df.head()"
   ]
  },
  {
   "cell_type": "code",
   "execution_count": 3,
   "id": "3715462b",
   "metadata": {},
   "outputs": [
    {
     "name": "stdout",
     "output_type": "stream",
     "text": [
      "<class 'geopandas.geodataframe.GeoDataFrame'>\n",
      "RangeIndex: 99 entries, 0 to 98\n",
      "Data columns (total 57 columns):\n",
      " #   Column      Non-Null Count  Dtype   \n",
      "---  ------      --------------  -----   \n",
      " 0   STATEFP10   99 non-null     object  \n",
      " 1   COUNTYFP10  99 non-null     object  \n",
      " 2   GEOID10     99 non-null     int64   \n",
      " 3   NAME10      99 non-null     object  \n",
      " 4   NAMELSAD10  99 non-null     object  \n",
      " 5   ALAND10     99 non-null     int64   \n",
      " 6   AWATER10    99 non-null     int64   \n",
      " 7   INTPTLAT10  99 non-null     object  \n",
      " 8   INTPTLON10  99 non-null     object  \n",
      " 9   TOTPOP      99 non-null     int64   \n",
      " 10  NH_WHITE    99 non-null     int64   \n",
      " 11  NH_BLACK    99 non-null     int64   \n",
      " 12  NH_AMIN     99 non-null     int64   \n",
      " 13  NH_ASIAN    99 non-null     int64   \n",
      " 14  NH_NHPI     99 non-null     int64   \n",
      " 15  NH_OTHER    99 non-null     int64   \n",
      " 16  NH_2MORE    99 non-null     int64   \n",
      " 17  HISP        99 non-null     int64   \n",
      " 18  H_WHITE     99 non-null     int64   \n",
      " 19  H_BLACK     99 non-null     int64   \n",
      " 20  H_AMIN      99 non-null     int64   \n",
      " 21  H_ASIAN     99 non-null     int64   \n",
      " 22  N_NHPI      99 non-null     int64   \n",
      " 23  H_OTHER     99 non-null     int64   \n",
      " 24  H_2MORE     99 non-null     int64   \n",
      " 25  VAP         99 non-null     int64   \n",
      " 26  HVAP        99 non-null     int64   \n",
      " 27  WVAP        99 non-null     int64   \n",
      " 28  BVAP        99 non-null     int64   \n",
      " 29  AMINVAP     99 non-null     int64   \n",
      " 30  ASIANVAP    99 non-null     int64   \n",
      " 31  NHPIVAP     99 non-null     int64   \n",
      " 32  OTHERVAP    99 non-null     int64   \n",
      " 33  2MOREVAP    99 non-null     int64   \n",
      " 34  TOTVOT00    99 non-null     int64   \n",
      " 35  PRES00D     99 non-null     int64   \n",
      " 36  PRES00R     99 non-null     int64   \n",
      " 37  PRES00G     99 non-null     int64   \n",
      " 38  PRES00OTH   99 non-null     int64   \n",
      " 39  TOTVOT04    99 non-null     int64   \n",
      " 40  PRES04D     99 non-null     int64   \n",
      " 41  PRES04R     99 non-null     int64   \n",
      " 42  PRES04OTH   99 non-null     int64   \n",
      " 43  TOTVOT08    99 non-null     int64   \n",
      " 44  PRES08D     99 non-null     int64   \n",
      " 45  PRES08R     99 non-null     int64   \n",
      " 46  PRES08OTH   99 non-null     int64   \n",
      " 47  TOTVOT12    99 non-null     int64   \n",
      " 48  PRES12D     99 non-null     int64   \n",
      " 49  PRES12R     99 non-null     int64   \n",
      " 50  PRES12OTH   99 non-null     int64   \n",
      " 51  TOTVOT16    99 non-null     int64   \n",
      " 52  PRES16D     99 non-null     int64   \n",
      " 53  PRES16R     99 non-null     int64   \n",
      " 54  PRES16OTH   99 non-null     int64   \n",
      " 55  CD          99 non-null     object  \n",
      " 56  geometry    99 non-null     geometry\n",
      "dtypes: geometry(1), int64(49), object(7)\n",
      "memory usage: 44.2+ KB\n"
     ]
    }
   ],
   "source": [
    "#imports county shapefiles from MGGG\n",
    "shapefile_iowa = gpd.read_file('IA_counties/IA_counties.shp').sort_values('NAME10',ignore_index=True)\n",
    "shapefile_iowa.info()"
   ]
  },
  {
   "cell_type": "code",
   "execution_count": 4,
   "id": "b133ccb9",
   "metadata": {},
   "outputs": [],
   "source": [
    "## Merging ONLY 2020 population numbers and county_id from census df into shapefile_iowa\n",
    "shapefile_iowa = shapefile_iowa.merge(census_df[['COUNTYFP10','population','county_id']], on='COUNTYFP10').copy()"
   ]
  },
  {
   "cell_type": "code",
   "execution_count": 5,
   "id": "5e593671",
   "metadata": {},
   "outputs": [],
   "source": [
    "county_populations = np.array(census_df['population'])\n",
    "state_population = sum(county_populations)\n",
    "n_counties = 99\n",
    "n_districts = 4"
   ]
  },
  {
   "attachments": {},
   "cell_type": "markdown",
   "id": "3200c4d6",
   "metadata": {},
   "source": [
    "## Projecting shapefile to UTM 15N"
   ]
  },
  {
   "cell_type": "code",
   "execution_count": 6,
   "id": "b421efa3",
   "metadata": {},
   "outputs": [
    {
     "data": {
      "text/plain": [
       "<Geographic 2D CRS: EPSG:4269>\n",
       "Name: NAD83\n",
       "Axis Info [ellipsoidal]:\n",
       "- Lat[north]: Geodetic latitude (degree)\n",
       "- Lon[east]: Geodetic longitude (degree)\n",
       "Area of Use:\n",
       "- name: North America - onshore and offshore: Canada - Alberta; British Columbia; Manitoba; New Brunswick; Newfoundland and Labrador; Northwest Territories; Nova Scotia; Nunavut; Ontario; Prince Edward Island; Quebec; Saskatchewan; Yukon. Puerto Rico. United States (USA) - Alabama; Alaska; Arizona; Arkansas; California; Colorado; Connecticut; Delaware; Florida; Georgia; Hawaii; Idaho; Illinois; Indiana; Iowa; Kansas; Kentucky; Louisiana; Maine; Maryland; Massachusetts; Michigan; Minnesota; Mississippi; Missouri; Montana; Nebraska; Nevada; New Hampshire; New Jersey; New Mexico; New York; North Carolina; North Dakota; Ohio; Oklahoma; Oregon; Pennsylvania; Rhode Island; South Carolina; South Dakota; Tennessee; Texas; Utah; Vermont; Virginia; Washington; West Virginia; Wisconsin; Wyoming. US Virgin Islands. British Virgin Islands.\n",
       "- bounds: (167.65, 14.92, -47.74, 86.46)\n",
       "Datum: North American Datum 1983\n",
       "- Ellipsoid: GRS 1980\n",
       "- Prime Meridian: Greenwich"
      ]
     },
     "execution_count": 6,
     "metadata": {},
     "output_type": "execute_result"
    }
   ],
   "source": [
    "#First, show the current coordinate reference system\n",
    "shapefile_iowa.crs"
   ]
  },
  {
   "cell_type": "code",
   "execution_count": 7,
   "id": "6dc5ae2b",
   "metadata": {},
   "outputs": [
    {
     "data": {
      "text/plain": [
       "<Derived Projected CRS: EPSG:26915>\n",
       "Name: NAD83 / UTM zone 15N\n",
       "Axis Info [cartesian]:\n",
       "- E[east]: Easting (metre)\n",
       "- N[north]: Northing (metre)\n",
       "Area of Use:\n",
       "- name: North America - between 96°W and 90°W - onshore and offshore. Canada - Manitoba; Nunavut; Ontario. United States (USA) - Arkansas; Illinois; Iowa; Kansas; Louisiana; Michigan; Minnesota; Mississippi; Missouri; Nebraska; Oklahoma; Tennessee; Texas; Wisconsin.\n",
       "- bounds: (-96.0, 25.61, -90.0, 84.0)\n",
       "Coordinate Operation:\n",
       "- name: UTM zone 15N\n",
       "- method: Transverse Mercator\n",
       "Datum: North American Datum 1983\n",
       "- Ellipsoid: GRS 1980\n",
       "- Prime Meridian: Greenwich"
      ]
     },
     "execution_count": 7,
     "metadata": {},
     "output_type": "execute_result"
    }
   ],
   "source": [
    "#Then project the shapefiles to UTM 15N\n",
    "shapef_ia_proj = shapefile_iowa.to_crs(epsg=26915)\n",
    "\n",
    "shapef_ia_proj.crs"
   ]
  },
  {
   "cell_type": "code",
   "execution_count": 8,
   "id": "4fdd554b",
   "metadata": {},
   "outputs": [
    {
     "data": {
      "text/plain": [
       "0.0"
      ]
     },
     "execution_count": 8,
     "metadata": {},
     "output_type": "execute_result"
    }
   ],
   "source": [
    "#checking out geopandas automatic distance calculation\n",
    "shapef_ia_proj['geometry'].iloc[0].distance(shapef_ia_proj['geometry'].iloc[1])\n",
    "# adair-to-adams distance is 0, so shortest distance, not centroid-to-centroid"
   ]
  },
  {
   "attachments": {},
   "cell_type": "markdown",
   "id": "be2a11d2",
   "metadata": {},
   "source": [
    "## Merging pd and gpd dataframes and creating population heat map"
   ]
  },
  {
   "cell_type": "code",
   "execution_count": 9,
   "id": "bf1c9f02",
   "metadata": {},
   "outputs": [],
   "source": [
    "## Merging ONLY lat/long + county id from census df into shapefile_iowa (since population and county_id are already there)\n",
    "map_population_by_county_data = shapefile_iowa.merge(census_df[['COUNTYFP10','latitude','longitude']], on='COUNTYFP10').copy()"
   ]
  },
  {
   "cell_type": "code",
   "execution_count": 10,
   "id": "ef50d41d",
   "metadata": {},
   "outputs": [
    {
     "data": {
      "image/png": "[encoded data removed]",
      "text/plain": [
       "<Figure size 432x288 with 1 Axes>"
      ]
     },
     "metadata": {},
     "output_type": "display_data"
    },
    {
     "data": {
      "text/plain": [
       "<ggplot: (362071371)>"
      ]
     },
     "execution_count": 10,
     "metadata": {},
     "output_type": "execute_result"
    }
   ],
   "source": [
    "map_population_by_county = (\n",
    "    ggplot(map_population_by_county_data)\n",
    "    + geom_map(aes(fill='population'))\n",
    "    + geom_label(aes(x='longitude', y='latitude', \n",
    "                     label='NAME10',size=2), \n",
    "                 show_legend=False)\n",
    "    + theme_minimal()\n",
    "    + theme(axis_text_x=element_blank(),\n",
    "            axis_text_y=element_blank(),\n",
    "            axis_title_x=element_blank(),\n",
    "            axis_title_y=element_blank(),\n",
    "            axis_ticks=element_blank(),\n",
    "            panel_grid_major=element_blank(),\n",
    "            panel_grid_minor=element_blank()\n",
    "           )\n",
    "    )\n",
    "map_population_by_county"
   ]
  },
  {
   "attachments": {},
   "cell_type": "markdown",
   "id": "a16b8fea",
   "metadata": {},
   "source": [
    "# Creating distance matrix for Iowa counties"
   ]
  },
  {
   "cell_type": "code",
   "execution_count": 11,
   "id": "044c72dd",
   "metadata": {},
   "outputs": [],
   "source": [
    "# adding/fixing columns with (projected) centroid locations \n",
    "shapef_ia_proj['xcentr_lon'] = shapef_ia_proj.centroid.x\n",
    "shapef_ia_proj['ycentr_lat'] = shapef_ia_proj.centroid.y\n",
    "#shapef_ia_proj.info()\n",
    "# shapef_ia_proj['xcentr_lon'].iloc[1]"
   ]
  },
  {
   "cell_type": "code",
   "execution_count": 12,
   "id": "03d88c7e",
   "metadata": {},
   "outputs": [
    {
     "name": "stdout",
     "output_type": "stream",
     "text": [
      "<class 'geopandas.geodataframe.GeoDataFrame'>\n",
      "Int64Index: 99 entries, 0 to 98\n",
      "Data columns (total 9 columns):\n",
      " #   Column            Non-Null Count  Dtype   \n",
      "---  ------            --------------  -----   \n",
      " 0   COUNTYFP10        99 non-null     object  \n",
      " 1   NAME10            99 non-null     object  \n",
      " 2   geometry          99 non-null     geometry\n",
      " 3   population        99 non-null     int64   \n",
      " 4   county_id         99 non-null     int64   \n",
      " 5   xcentr_lon        99 non-null     float64 \n",
      " 6   ycentr_lat        99 non-null     float64 \n",
      " 7   county_id_string  99 non-null     object  \n",
      " 8   temp_district     99 non-null     int64   \n",
      "dtypes: float64(2), geometry(1), int64(3), object(3)\n",
      "memory usage: 7.7+ KB\n"
     ]
    }
   ],
   "source": [
    "# cutting out other columns from the shapefile to be dissolved on\n",
    "\n",
    "# 'TOTPOP' is the MGGG shapefile totpop (pre-2020), so removing\n",
    "# also removing: the un-projected 'INTPTLAT10' and 'INTPTLON10'\n",
    "#      and 'NAMELSAD10', the 2 word name\n",
    "#      and all demographic/voting data\n",
    "#      and (later on): also removing ALAND and AWATER, since they just get messy with merges and dissolves\n",
    "\n",
    "districting_columns = ['COUNTYFP10', 'NAME10', 'geometry', \n",
    "       'population', 'county_id', 'xcentr_lon', 'ycentr_lat']\n",
    "\n",
    "#make a new shapefile, which will be merged/dissolved on in the process of making districts\n",
    "shapef_ia_fordistricting = shapef_ia_proj[districting_columns].copy()\n",
    "\n",
    "#add column of county indices (which will get concatenated, as county_id_string)\n",
    "shapef_ia_fordistricting['county_id_string'] = shapef_ia_fordistricting['county_id']\n",
    "shapef_ia_fordistricting['county_id_string'] = shapef_ia_fordistricting['county_id_string'].astype(str).str.pad(2,fillchar='0')\n",
    "\n",
    "#add column of county indices (which will become district indices)\n",
    "shapef_ia_fordistricting['temp_district'] = shapef_ia_fordistricting.index\n",
    "\n",
    "shapef_ia_fordistricting.info()"
   ]
  },
  {
   "attachments": {},
   "cell_type": "markdown",
   "id": "cd125cb7",
   "metadata": {},
   "source": [
    "# Nearest-Neighbor district-building model"
   ]
  },
  {
   "attachments": {},
   "cell_type": "markdown",
   "id": "66b8d14f",
   "metadata": {},
   "source": [
    "* To start, we have 99 districts, 1 for each county.\n",
    "* Randomly select a district (single county at the moment!) to start with.\n",
    "* Join it to its nearest neighbor (using centroid measurement of distance).\n",
    "    * Make new shapefile with those two counties dissolved together (and calc new centroids/distances)\n",
    "    * Now we have 98 districts. Repeat until 4 left.\n",
    "\n",
    "This procedure preserves compactness well, but has no population controls.\n",
    "After we're down to 4 districts, we will then swap counties between districts until populations stabilize.\n"
   ]
  },
  {
   "attachments": {},
   "cell_type": "markdown",
   "id": "8c7456e8",
   "metadata": {},
   "source": [
    "## Building-block functions (adjacency matrix + distance matrix)"
   ]
  },
  {
   "cell_type": "code",
   "execution_count": 13,
   "id": "56b5747e",
   "metadata": {},
   "outputs": [],
   "source": [
    "# function for arbitrary adjacency matrix\n",
    "\n",
    "def adj_mat_calc(temp_shapefile):\n",
    "    curr_n_districts = len(temp_shapefile)\n",
    "    adjac_mat = pd.DataFrame()\n",
    "\n",
    "    for i in range(curr_n_districts):\n",
    "        adjac_mat[i] = temp_shapefile.intersects(temp_shapefile.iloc[[i]].unary_union)\n",
    "    \n",
    "    adjac_mat = adjac_mat - np.identity(curr_n_districts)\n",
    "    adjac_mat = adjac_mat.astype(int)\n",
    "\n",
    "    #and/or boolean?\n",
    "    # ia_adjac_matrix_bool = ia_adjac_matrix.astype(bool)\n",
    "\n",
    "    return adjac_mat\n"
   ]
  },
  {
   "cell_type": "code",
   "execution_count": 14,
   "id": "349ddf4a",
   "metadata": {},
   "outputs": [],
   "source": [
    "#function: input is a shapefile with centroid columns, output is a distance matrix\n",
    "def temp_distance_matrix(temp_shapefile):\n",
    "    curr_n_districts = len(temp_shapefile)\n",
    "    distance_mat = np.zeros((curr_n_districts,curr_n_districts))\n",
    "\n",
    "    for i in range(curr_n_districts):\n",
    "        for j in range(i):      #just do half the triangle, so indices from 0 to i-1\n",
    "            x_dist = (temp_shapefile['xcentr_lon'].iloc[i] - temp_shapefile['xcentr_lon'].iloc[j])\n",
    "            y_dist = (temp_shapefile['ycentr_lat'].iloc[i] - temp_shapefile['ycentr_lat'].iloc[j])\n",
    "            distance_mat[i,j] = math.sqrt(x_dist**2 + y_dist**2)\n",
    "            distance_mat[j,i] = math.sqrt(x_dist**2 + y_dist**2)\n",
    "\n",
    "    return distance_mat\n"
   ]
  },
  {
   "attachments": {},
   "cell_type": "markdown",
   "id": "0bc14831",
   "metadata": {},
   "source": [
    "## full step 1/2 algorithm with iterability"
   ]
  },
  {
   "cell_type": "code",
   "execution_count": 15,
   "id": "ee65877f",
   "metadata": {},
   "outputs": [
    {
     "name": "stdout",
     "output_type": "stream",
     "text": [
      "On loop # 1 (with 99 districts remaining), we have selected index 7.     \n",
      " This corresponds to county id 07 and temporary district # 7.\n",
      "The nearest neighbor index is 36, representing county id 36 and temporary district # 36.\n",
      "Districts remaining: 98\n",
      "On loop # 2 (with 98 districts remaining), we have selected index 11.     \n",
      " This corresponds to county id 11 and temporary district # 11.\n",
      "The nearest neighbor index is 33, representing county id 33 and temporary district # 33.\n",
      "Districts remaining: 97\n",
      "On loop # 3 (with 97 districts remaining), we have selected index 10.     \n",
      " This corresponds to county id 10 and temporary district # 10.\n",
      "The nearest neighbor index is 20, representing county id 20 and temporary district # 20.\n",
      "Districts remaining: 96\n",
      "On loop # 4 (with 96 districts remaining), we have selected index 46.     \n",
      " This corresponds to county id 49 and temporary district # 49.\n",
      "The nearest neighbor index is 60, representing county id 63 and temporary district # 63.\n",
      "Districts remaining: 95\n",
      "On loop # 5 (with 95 districts remaining), we have selected index 21.     \n",
      " This corresponds to county id 22 and temporary district # 22.\n",
      "The nearest neighbor index is 77, representing county id 81 and temporary district # 81.\n",
      "Districts remaining: 94\n",
      "On loop # 6 (with 94 districts remaining), we have selected index 85.     \n",
      " This corresponds to county id 90 and temporary district # 90.\n",
      "The nearest neighbor index is 57, representing county id 60 and temporary district # 60.\n",
      "Districts remaining: 93\n",
      "On loop # 7 (with 93 districts remaining), we have selected index 39.     \n",
      " This corresponds to county id 42 and temporary district # 42.\n",
      "The nearest neighbor index is 76, representing county id 82 and temporary district # 82.\n",
      "Districts remaining: 92\n",
      "On loop # 8 (with 92 districts remaining), we have selected index 32.     \n",
      " This corresponds to county id 34 and temporary district # 34.\n",
      "The nearest neighbor index is 91, representing county id 98 and temporary district # 98.\n",
      "Districts remaining: 91\n",
      "On loop # 9 (with 91 districts remaining), we have selected index 77.     \n",
      " This corresponds to county id 84 and temporary district # 84.\n",
      "The nearest neighbor index is 71, representing county id 76 and temporary district # 76.\n",
      "Districts remaining: 90\n",
      "On loop # 10 (with 90 districts remaining), we have selected index 27.     \n",
      " This corresponds to county id 28 and temporary district # 28.\n",
      "The nearest neighbor index is 40, representing county id 43 and temporary district # 43.\n",
      "Districts remaining: 89\n",
      "On loop # 11 (with 89 districts remaining), we have selected index 77.     \n",
      " This corresponds to county id 86 and temporary district # 86.\n",
      "The nearest neighbor index is 1, representing county id 01 and temporary district # 1.\n",
      "Districts remaining: 88\n",
      "On loop # 12 (with 88 districts remaining), we have selected index 4.     \n",
      " This corresponds to county id 05 and temporary district # 5.\n",
      "The nearest neighbor index is 51, representing county id 56 and temporary district # 56.\n",
      "Districts remaining: 87\n",
      "On loop # 13 (with 87 districts remaining), we have selected index 74.     \n",
      " This corresponds to county id 85 and temporary district # 85.\n",
      "The nearest neighbor index is 33, representing county id 37 and temporary district # 37.\n",
      "Districts remaining: 86\n",
      "On loop # 14 (with 86 districts remaining), we have selected index 20.     \n",
      " This corresponds to county id 2281 and temporary district # 22.\n",
      "The nearest neighbor index is 42, representing county id 48 and temporary district # 48.\n",
      "Districts remaining: 85\n",
      "On loop # 15 (with 85 districts remaining), we have selected index 55.     \n",
      " This corresponds to county id 65 and temporary district # 65.\n",
      "The nearest neighbor index is 38, representing county id 44 and temporary district # 44.\n",
      "Districts remaining: 84\n",
      "On loop # 16 (with 84 districts remaining), we have selected index 81.     \n",
      " This corresponds to county id 95 and temporary district # 95.\n",
      "The nearest neighbor index is 1, representing county id 02 and temporary district # 2.\n",
      "Districts remaining: 83\n",
      "On loop # 17 (with 83 districts remaining), we have selected index 50.     \n",
      " This corresponds to county id 61 and temporary district # 61.\n",
      "The nearest neighbor index is 51, representing county id 62 and temporary district # 62.\n",
      "Districts remaining: 82\n",
      "On loop # 18 (with 82 districts remaining), we have selected index 65.     \n",
      " This corresponds to county id 79 and temporary district # 79.\n",
      "The nearest neighbor index is 71, representing county id 87 and temporary district # 87.\n",
      "Districts remaining: 81\n",
      "On loop # 19 (with 81 districts remaining), we have selected index 47.     \n",
      " This corresponds to county id 57 and temporary district # 57.\n",
      "The nearest neighbor index is 25, representing county id 2843 and temporary district # 28.\n",
      "Districts remaining: 80\n",
      "On loop # 20 (with 80 districts remaining), we have selected index 69.     \n",
      " This corresponds to county id 0186 and temporary district # 86.\n",
      "The nearest neighbor index is 64, representing county id 7987 and temporary district # 79.\n",
      "Districts remaining: 79\n",
      "On loop # 21 (with 79 districts remaining), we have selected index 56.     \n",
      " This corresponds to county id 70 and temporary district # 70.\n",
      "The nearest neighbor index is 57, representing county id 71 and temporary district # 71.\n",
      "Districts remaining: 78\n",
      "On loop # 22 (with 78 districts remaining), we have selected index 64.     \n",
      " This corresponds to county id 83 and temporary district # 83.\n",
      "The nearest neighbor index is 48, representing county id 59 and temporary district # 59.\n",
      "Districts remaining: 77\n",
      "On loop # 23 (with 77 districts remaining), we have selected index 34.     \n",
      " This corresponds to county id 41 and temporary district # 41.\n",
      "The nearest neighbor index is 32, representing county id 39 and temporary district # 39.\n",
      "Districts remaining: 76\n",
      "On loop # 24 (with 76 districts remaining), we have selected index 4.     \n",
      " This corresponds to county id 06 and temporary district # 6.\n",
      "The nearest neighbor index is 6, representing county id 08 and temporary district # 8.\n",
      "Districts remaining: 75\n",
      "On loop # 25 (with 75 districts remaining), we have selected index 3.     \n",
      " This corresponds to county id 0556 and temporary district # 5.\n",
      "The nearest neighbor index is 6, representing county id 09 and temporary district # 9.\n",
      "Districts remaining: 74\n",
      "On loop # 26 (with 74 districts remaining), we have selected index 46.     \n",
      " This corresponds to county id 64 and temporary district # 64.\n",
      "The nearest neighbor index is 28, representing county id 35 and temporary district # 35.\n",
      "Districts remaining: 73\n",
      "On loop # 27 (with 73 districts remaining), we have selected index 59.     \n",
      " This corresponds to county id 5983 and temporary district # 83.\n",
      "The nearest neighbor index is 51, representing county id 7071 and temporary district # 70.\n",
      "Districts remaining: 72\n",
      "On loop # 28 (with 72 districts remaining), we have selected index 40.     \n",
      " This corresponds to county id 54 and temporary district # 54.\n",
      "The nearest neighbor index is 52, representing county id 73 and temporary district # 73.\n",
      "Districts remaining: 71\n",
      "On loop # 29 (with 71 districts remaining), we have selected index 48.     \n",
      " This corresponds to county id 67 and temporary district # 67.\n",
      "The nearest neighbor index is 1, representing county id 03 and temporary district # 3.\n",
      "Districts remaining: 70\n",
      "On loop # 30 (with 70 districts remaining), we have selected index 54.     \n",
      " This corresponds to county id 78 and temporary district # 78.\n",
      "The nearest neighbor index is 33, representing county id 47 and temporary district # 47.\n",
      "Districts remaining: 69\n",
      "On loop # 31 (with 69 districts remaining), we have selected index 67.     \n",
      " This corresponds to county id 96 and temporary district # 96.\n",
      "The nearest neighbor index is 45, representing county id 66 and temporary district # 66.\n",
      "Districts remaining: 68\n",
      "On loop # 32 (with 68 districts remaining), we have selected index 21.     \n",
      " This corresponds to county id 27 and temporary district # 27.\n",
      "The nearest neighbor index is 23, representing county id 30 and temporary district # 30.\n",
      "Districts remaining: 67\n",
      "On loop # 33 (with 67 districts remaining), we have selected index 22.     \n",
      " This corresponds to county id 29 and temporary district # 29.\n",
      "The nearest neighbor index is 23, representing county id 31 and temporary district # 31.\n",
      "Districts remaining: 66\n",
      "On loop # 34 (with 66 districts remaining), we have selected index 30.     \n",
      " This corresponds to county id 46 and temporary district # 46.\n",
      "The nearest neighbor index is 51, representing county id 80 and temporary district # 80.\n",
      "Districts remaining: 65\n",
      "On loop # 35 (with 65 districts remaining), we have selected index 29.     \n",
      " This corresponds to county id 45 and temporary district # 45.\n",
      "The nearest neighbor index is 60, representing county id 93 and temporary district # 93.\n",
      "Districts remaining: 64\n",
      "On loop # 36 (with 64 districts remaining), we have selected index 3.     \n",
      " This corresponds to county id 0608 and temporary district # 6.\n",
      "The nearest neighbor index is 23, representing county id 32 and temporary district # 32.\n",
      "Districts remaining: 63\n",
      "On loop # 37 (with 63 districts remaining), we have selected index 11.     \n",
      " This corresponds to county id 16 and temporary district # 16.\n",
      "The nearest neighbor index is 62, representing county id 97 and temporary district # 97.\n",
      "Districts remaining: 62\n",
      "On loop # 38 (with 62 districts remaining), we have selected index 20.     \n",
      " This corresponds to county id 26 and temporary district # 26.\n",
      "The nearest neighbor index is 14, representing county id 19 and temporary district # 19.\n",
      "Districts remaining: 61\n",
      "On loop # 39 (with 61 districts remaining), we have selected index 11.     \n",
      " This corresponds to county id 1697 and temporary district # 16.\n",
      "The nearest neighbor index is 24, representing county id 40 and temporary district # 40.\n",
      "Districts remaining: 60\n",
      "On loop # 40 (with 60 districts remaining), we have selected index 8.     \n",
      " This corresponds to county id 13 and temporary district # 13.\n",
      "The nearest neighbor index is 1, representing county id 04 and temporary district # 4.\n",
      "Districts remaining: 59\n",
      "On loop # 41 (with 59 districts remaining), we have selected index 32.     \n",
      " This corresponds to county id 5473 and temporary district # 54.\n",
      "The nearest neighbor index is 20, representing county id 2931 and temporary district # 29.\n",
      "Districts remaining: 58\n",
      "On loop # 42 (with 58 districts remaining), we have selected index 32.     \n",
      " This corresponds to county id 55 and temporary district # 55.\n",
      "The nearest neighbor index is 50, representing county id 88 and temporary district # 88.\n",
      "Districts remaining: 57\n",
      "On loop # 43 (with 57 districts remaining), we have selected index 23.     \n",
      " This corresponds to county id 4282 and temporary district # 42.\n",
      "The nearest neighbor index is 44, representing county id 77 and temporary district # 77.\n",
      "Districts remaining: 56\n",
      "On loop # 44 (with 56 districts remaining), we have selected index 32.     \n",
      " This corresponds to county id 5588 and temporary district # 55.\n",
      "The nearest neighbor index is 27, representing county id 50 and temporary district # 50.\n",
      "Districts remaining: 55\n",
      "On loop # 45 (with 55 districts remaining), we have selected index 43.     \n",
      " This corresponds to county id 4778 and temporary district # 78.\n",
      "The nearest neighbor index is 29, representing county id 53 and temporary district # 53.\n",
      "Districts remaining: 54\n",
      "On loop # 46 (with 54 districts remaining), we have selected index 35.     \n",
      " This corresponds to county id 4465 and temporary district # 65.\n",
      "The nearest neighbor index is 12, representing county id 18 and temporary district # 18.\n",
      "Districts remaining: 53\n",
      "On loop # 47 (with 53 districts remaining), we have selected index 11.     \n",
      " This corresponds to county id 17 and temporary district # 17.\n",
      "The nearest neighbor index is 4, representing county id 1020 and temporary district # 10.\n",
      "Districts remaining: 52\n",
      "On loop # 48 (with 52 districts remaining), we have selected index 28.     \n",
      " This corresponds to county id 505588 and temporary district # 55.\n",
      "The nearest neighbor index is 29, representing county id 284357 and temporary district # 57.\n",
      "Districts remaining: 51\n",
      "On loop # 49 (with 51 districts remaining), we have selected index 50.     \n",
      " This corresponds to county id 6696 and temporary district # 96.\n",
      "The nearest neighbor index is 13, representing county id 23 and temporary district # 23.\n",
      "Districts remaining: 50\n",
      "On loop # 50 (with 50 districts remaining), we have selected index 26.     \n",
      " This corresponds to county id 29315473 and temporary district # 54.\n",
      "The nearest neighbor index is 37, representing county id 75 and temporary district # 75.\n",
      "Districts remaining: 49\n",
      "On loop # 51 (with 49 districts remaining), we have selected index 47.     \n",
      " This corresponds to county id 0295 and temporary district # 95.\n",
      "The nearest neighbor index is 11, representing county id 21 and temporary district # 21.\n",
      "Districts remaining: 48\n",
      "On loop # 52 (with 48 districts remaining), we have selected index 33.     \n",
      " This corresponds to county id 69 and temporary district # 69.\n",
      "The nearest neighbor index is 8, representing county id 15 and temporary district # 15.\n",
      "Districts remaining: 47\n",
      "On loop # 53 (with 47 districts remaining), we have selected index 23.     \n",
      " This corresponds to county id 52 and temporary district # 52.\n",
      "The nearest neighbor index is 14, representing county id 2730 and temporary district # 27.\n",
      "Districts remaining: 46\n",
      "On loop # 54 (with 46 districts remaining), we have selected index 37.     \n",
      " This corresponds to county id 3785 and temporary district # 85.\n",
      "The nearest neighbor index is 20, representing county id 4963 and temporary district # 49.\n",
      "Districts remaining: 45\n",
      "On loop # 55 (with 45 districts remaining), we have selected index 22.     \n",
      " This corresponds to county id 2931547375 and temporary district # 54.\n",
      "The nearest neighbor index is 9, representing county id 102017 and temporary district # 17.\n",
      "Districts remaining: 44\n",
      "On loop # 56 (with 44 districts remaining), we have selected index 23.     \n",
      " This corresponds to county id 58 and temporary district # 58.\n",
      "The nearest neighbor index is 40, representing county id 92 and temporary district # 92.\n",
      "Districts remaining: 43\n",
      "On loop # 57 (with 43 districts remaining), we have selected index 28.     \n",
      " This corresponds to county id 68 and temporary district # 68.\n",
      "The nearest neighbor index is 30, representing county id 72 and temporary district # 72.\n",
      "Districts remaining: 42\n",
      "On loop # 58 (with 42 districts remaining), we have selected index 10.     \n",
      " This corresponds to county id 24 and temporary district # 24.\n",
      "The nearest neighbor index is 14, representing county id 38 and temporary district # 38.\n",
      "Districts remaining: 41\n",
      "On loop # 59 (with 41 districts remaining), we have selected index 25.     \n",
      " This corresponds to county id 184465 and temporary district # 65.\n",
      "The nearest neighbor index is 4, representing county id 1133 and temporary district # 11.\n",
      "Districts remaining: 40\n",
      "On loop # 60 (with 40 districts remaining), we have selected index 29.     \n",
      " This corresponds to county id 534778 and temporary district # 78.\n",
      "The nearest neighbor index is 36, representing county id 91 and temporary district # 91.\n",
      "Districts remaining: 39\n",
      "On loop # 61 (with 39 districts remaining), we have selected index 33.     \n",
      " This corresponds to county id 79870186 and temporary district # 86.\n",
      "The nearest neighbor index is 0, representing county id 00 and temporary district # 0.\n",
      "Districts remaining: 38\n",
      "On loop # 62 (with 38 districts remaining), we have selected index 15.     \n",
      " This corresponds to county id 4680 and temporary district # 46.\n",
      "The nearest neighbor index is 37, representing county id 236696 and temporary district # 96.\n",
      "Districts remaining: 37\n",
      "On loop # 63 (with 37 districts remaining), we have selected index 31.     \n",
      " This corresponds to county id 49633785 and temporary district # 85.\n",
      "The nearest neighbor index is 30, representing county id 7684 and temporary district # 84.\n",
      "Districts remaining: 36\n",
      "On loop # 64 (with 36 districts remaining), we have selected index 17.     \n",
      " This corresponds to county id 273052 and temporary district # 52.\n",
      "The nearest neighbor index is 0, representing county id 055609 and temporary district # 5.\n",
      "Districts remaining: 35\n",
      "On loop # 65 (with 35 districts remaining), we have selected index 31.     \n",
      " This corresponds to county id 89 and temporary district # 89.\n",
      "The nearest neighbor index is 8, representing county id 25 and temporary district # 25.\n",
      "Districts remaining: 34\n",
      "On loop # 66 (with 34 districts remaining), we have selected index 32.     \n",
      " This corresponds to county id 94 and temporary district # 94.\n",
      "The nearest neighbor index is 5, representing county id 169740 and temporary district # 16.\n",
      "Districts remaining: 33\n",
      "On loop # 67 (with 33 districts remaining), we have selected index 32.     \n",
      " This corresponds to county id 210295 and temporary district # 95.\n",
      "The nearest neighbor index is 0, representing county id 060832 and temporary district # 6.\n",
      "Districts remaining: 32\n",
      "On loop # 68 (with 32 districts remaining), we have selected index 22.     \n",
      " This corresponds to county id 1569 and temporary district # 69.\n",
      "The nearest neighbor index is 12, representing county id 51 and temporary district # 51.\n",
      "Districts remaining: 31\n",
      "On loop # 69 (with 31 districts remaining), we have selected index 21.     \n",
      " This corresponds to county id 511569 and temporary district # 69.\n",
      "The nearest neighbor index is 4, representing county id 228148 and temporary district # 22.\n",
      "Districts remaining: 30\n",
      "On loop # 70 (with 30 districts remaining), we have selected index 28.     \n",
      " This corresponds to county id 16974094 and temporary district # 94.\n",
      "The nearest neighbor index is 6, representing county id 3498 and temporary district # 34.\n",
      "Districts remaining: 29\n",
      "On loop # 71 (with 29 districts remaining), we have selected index 14.     \n",
      " This corresponds to county id 6162 and temporary district # 61.\n",
      "The nearest neighbor index is 17, representing county id 0367 and temporary district # 67.\n",
      "Districts remaining: 28\n",
      "On loop # 72 (with 28 districts remaining), we have selected index 14.     \n",
      " This corresponds to county id 61620367 and temporary district # 61.\n",
      "The nearest neighbor index is 24, representing county id 2589 and temporary district # 89.\n",
      "Districts remaining: 27\n",
      "On loop # 73 (with 27 districts remaining), we have selected index 11.     \n",
      " This corresponds to county id 1020172931547375 and temporary district # 54.\n",
      "The nearest neighbor index is 1, representing county id 12 and temporary district # 12.\n",
      "Districts remaining: 26\n",
      "On loop # 74 (with 26 districts remaining), we have selected index 18.     \n",
      " This corresponds to county id 74 and temporary district # 74.\n",
      "The nearest neighbor index is 20, representing county id 70715983 and temporary district # 83.\n",
      "Districts remaining: 25\n",
      "On loop # 75 (with 25 districts remaining), we have selected index 23.     \n",
      " This corresponds to county id 349816974094 and temporary district # 94.\n",
      "The nearest neighbor index is 5, representing county id 3941 and temporary district # 41.\n",
      "Districts remaining: 24\n",
      "On loop # 76 (with 24 districts remaining), we have selected index 17.     \n",
      " This corresponds to county id 7470715983 and temporary district # 74.\n",
      "The nearest neighbor index is 9, representing county id 121020172931547375 and temporary district # 54.\n",
      "Districts remaining: 23\n",
      "On loop # 77 (with 23 districts remaining), we have selected index 14.     \n",
      " This corresponds to county id 6872 and temporary district # 68.\n",
      "The nearest neighbor index is 12, representing county id 3564 and temporary district # 64.\n",
      "Districts remaining: 22\n",
      "On loop # 78 (with 22 districts remaining), we have selected index 15.     \n",
      " This corresponds to county id 1210201729315473757470715983 and temporary district # 74.\n",
      "The nearest neighbor index is 7, representing county id 4680236696 and temporary district # 46.\n",
      "Districts remaining: 21\n",
      "On loop # 79 (with 21 districts remaining), we have selected index 7.     \n",
      " This corresponds to county id 055609273052 and temporary district # 52.\n",
      "The nearest neighbor index is 13, representing county id 228148511569 and temporary district # 69.\n",
      "Districts remaining: 20\n",
      "On loop # 80 (with 20 districts remaining), we have selected index 10.     \n",
      " This corresponds to county id 616203672589 and temporary district # 61.\n",
      "The nearest neighbor index is 9, representing county id 5892 and temporary district # 58.\n",
      "Districts remaining: 19\n",
      "On loop # 81 (with 19 districts remaining), we have selected index 5.     \n",
      " This corresponds to county id 428277 and temporary district # 42.\n",
      "The nearest neighbor index is 2, representing county id 14 and temporary district # 14.\n",
      "Districts remaining: 18\n",
      "On loop # 82 (with 18 districts remaining), we have selected index 8.     \n",
      " This corresponds to county id 5892616203672589 and temporary district # 61.\n",
      "The nearest neighbor index is 3, representing county id 1926 and temporary district # 26.\n",
      "Districts remaining: 17\n",
      "On loop # 83 (with 17 districts remaining), we have selected index 15.     \n",
      " This corresponds to county id 3941349816974094 and temporary district # 94.\n",
      "The nearest neighbor index is 4, representing county id 4593 and temporary district # 45.\n",
      "Districts remaining: 16\n",
      "On loop # 84 (with 16 districts remaining), we have selected index 9.     \n",
      " This corresponds to county id 46802366961210201729315473757470715983 and temporary district # 74.\n",
      "The nearest neighbor index is 1, representing county id 0413 and temporary district # 13.\n",
      "Districts remaining: 15\n",
      "On loop # 85 (with 15 districts remaining), we have selected index 4.     \n",
      " This corresponds to county id 505588284357 and temporary district # 55.\n",
      "The nearest neighbor index is 9, representing county id 53477891 and temporary district # 78.\n",
      "Districts remaining: 14\n",
      "On loop # 86 (with 14 districts remaining), we have selected index 12.     \n",
      " This corresponds to county id 45933941349816974094 and temporary district # 94.\n",
      "The nearest neighbor index is 6, representing county id 1133184465 and temporary district # 65.\n",
      "Districts remaining: 13\n",
      "On loop # 87 (with 13 districts remaining), we have selected index 11.     \n",
      " This corresponds to county id 113318446545933941349816974094 and temporary district # 94.\n",
      "The nearest neighbor index is 8, representing county id 768449633785 and temporary district # 85.\n",
      "Districts remaining: 12\n",
      "On loop # 88 (with 12 districts remaining), we have selected index 8.     \n",
      " This corresponds to county id 0079870186 and temporary district # 86.\n",
      "The nearest neighbor index is 9, representing county id 6090 and temporary district # 90.\n",
      "Districts remaining: 11\n",
      "On loop # 89 (with 11 districts remaining), we have selected index 8.     \n",
      " This corresponds to county id 00798701866090 and temporary district # 86.\n",
      "The nearest neighbor index is 1, representing county id 2438 and temporary district # 24.\n",
      "Districts remaining: 10\n",
      "On loop # 90 (with 10 districts remaining), we have selected index 8.     \n",
      " This corresponds to county id 768449633785113318446545933941349816974094 and temporary district # 94.\n",
      "The nearest neighbor index is 0, representing county id 0736 and temporary district # 7.\n",
      "Districts remaining: 9\n",
      "On loop # 91 (with 9 districts remaining), we have selected index 8.     \n",
      " This corresponds to county id 060832210295 and temporary district # 95.\n",
      "The nearest neighbor index is 1, representing county id 055609273052228148511569 and temporary district # 52.\n",
      "Districts remaining: 8\n",
      "On loop # 92 (with 8 districts remaining), we have selected index 6.     \n",
      " This corresponds to county id 0736768449633785113318446545933941349816974094 and temporary district # 94.\n",
      "The nearest neighbor index is 7, representing county id 055609273052228148511569060832210295 and temporary district # 95.\n",
      "Districts remaining: 7\n",
      "On loop # 93 (with 7 districts remaining), we have selected index 2.     \n",
      " This corresponds to county id 19265892616203672589 and temporary district # 61.\n",
      "The nearest neighbor index is 5, representing county id 243800798701866090 and temporary district # 86.\n",
      "Districts remaining: 6\n",
      "On loop # 94 (with 6 districts remaining), we have selected index 5.     \n",
      " This corresponds to county id 0736768449633785113318446545933941349816974094055609273052228148511569060832210295 and temporary district # 94.\n",
      "The nearest neighbor index is 1, representing county id 50558828435753477891 and temporary district # 55.\n",
      "Districts remaining: 5\n",
      "On loop # 95 (with 5 districts remaining), we have selected index 1.     \n",
      " This corresponds to county id 19265892616203672589243800798701866090 and temporary district # 61.\n",
      "The nearest neighbor index is 2, representing county id 35646872 and temporary district # 68.\n",
      "Districts remaining: 4\n"
     ]
    }
   ],
   "source": [
    "shapef_ia_initialdistricting = shapef_ia_fordistricting.copy()\n",
    "\n",
    "\n",
    "random.seed(2)      #for initial replicability while building.\n",
    "#                    #if seed = 2, then this starts with the county with 7, Boone County.\n",
    "        #first runthrough: 7 selected, 36 neighbor (merged is labeled as 7)\n",
    "        #second runthrough: 11 selected, 33 is neighbor (merged is labeled as 11)\n",
    "\n",
    "for i in range(95): ##### 95 iterations brings us from 99 districts to 4\n",
    "    #how many districts are we working with this time?\n",
    "    running_ndistricts = len(shapef_ia_initialdistricting)\n",
    "\n",
    "    # pick out a district to work on on this iteration of the loop\n",
    "    running_index = random.randint(0,running_ndistricts-1)        \n",
    "\n",
    "    #find the temp_district associated with the running index\n",
    "    #     the below was returning a slice of a dataframe, and not just the entry\n",
    "    # running_temp_dist = shapef_ia_initialdistricting.loc[shapef_ia_initialdistricting.index == running_index, 'temp_district']\n",
    "    running_temp_district = shapef_ia_initialdistricting['temp_district'].iloc[running_index]\n",
    "    #     originally just called this for the print statement\n",
    "         \n",
    "\n",
    "    #set up adjacency and distance matrices\n",
    "    running_adjmat = adj_mat_calc(shapef_ia_initialdistricting)\n",
    "    running_distmat = temp_distance_matrix(shapef_ia_initialdistricting)\n",
    "\n",
    "    print(\"On loop # %d (with %d districts remaining), we have selected index %d. \\\n",
    "    \\n This corresponds to county id %s and temporary district # %d.\"   \\\n",
    "        % (i+1, running_ndistricts,running_index,   \\\n",
    "           shapef_ia_initialdistricting['county_id_string'].iloc[running_index], \\\n",
    "           running_temp_district) )\n",
    "    \n",
    "    #------find closest neighbor: could use cleaning up/making better\n",
    "    distance_list = list(running_distmat[running_index])\n",
    "    # distance_list.index(0)      # the index of the element with value 0 is 7\n",
    "\n",
    "    # sorting is inefficient, maybe fix\n",
    "    # https://stackoverflow.com/questions/26779618/python-find-second-smallest-number\n",
    "\n",
    "    neighbor_dist = sorted(distance_list)[1]           #second smallest distance is nearest neighbor (since distance to self is zero)\n",
    "    ##                                                    ### OR! check on adjacency matrix first!\n",
    "    neighbor_index = distance_list.index(neighbor_dist)     #county 36 (Greene) is closest to county 7 (Boone)\n",
    "    \n",
    "    # the temp_district number associated with the neighbor_index\n",
    "    # the below was having iiiiissues\n",
    "    #     neighbor_temp_dist = shapef_ia_initialdistricting.loc[shapef_ia_initialdistricting.index ==neighbor_index, 'temp_district']\n",
    "    neighbor_temp_district= shapef_ia_initialdistricting['temp_district'].iloc[neighbor_index]\n",
    "    #   this doesn't really get used except to print? but running_temp_district is super important for re-indexing\n",
    "\n",
    "    print(\"The nearest neighbor index is %d, representing county id %s and temporary district # %d.\" \\\n",
    "        % (neighbor_index,   \\\n",
    "           shapef_ia_initialdistricting['county_id_string'].iloc[neighbor_index],\\\n",
    "           neighbor_temp_district) )\n",
    "    #---------end finding closest neightbor\n",
    "\n",
    "    # re-index the neighbor county to be in the first county's district\n",
    "    shapef_ia_initialdistricting.loc[shapef_ia_initialdistricting.index == neighbor_index, 'temp_district'] = running_temp_district      \n",
    "\n",
    "\n",
    "    # dissolve shapefile based on temp_district to combine the two counties\n",
    "    #aggregate remaining columns by summing them\n",
    "\n",
    "    # arguments for aggfunc: https://geopandas.org/en/stable/docs/user_guide/aggregation_with_dissolve.html\n",
    "    shapef_ia_initialdistricting = shapef_ia_initialdistricting.dissolve(\n",
    "        by=\"temp_district\",\n",
    "        aggfunc = {\n",
    "            \"COUNTYFP10\": \"sum\",    #sum = concatenation here b/c string\n",
    "            \"NAME10\": \"count\",      #kind of dummy: will be 2 only for most-recently-merged district\n",
    "            \"population\": \"sum\",\n",
    "            \"county_id\": \"sum\",     #should be actual sum here, kind of dummy\n",
    "            \"xcentr_lon\": \"first\",  #dummy, since we'll recalculate\n",
    "            \"ycentr_lat\": \"first\",\n",
    "            \"county_id_string\": \"sum\", #sum = concatenation here b/c string\n",
    "            \"temp_district\": \"first\"\n",
    "        }\n",
    "    )\n",
    "\n",
    "    # update centroid lat/longs!\n",
    "    shapef_ia_initialdistricting['xcentr_lon'] = shapef_ia_initialdistricting.centroid.x\n",
    "    shapef_ia_initialdistricting['ycentr_lat'] = shapef_ia_initialdistricting.centroid.y\n",
    "\n",
    "    #the dissolve process makes the temp_district column into the index of the dataframe\n",
    "    #which then has issues when we iterate the process\n",
    "    #so dump the index for a dummy one now\n",
    "    shapef_ia_initialdistricting = shapef_ia_initialdistricting.reset_index(drop=True)\n",
    "\n",
    "\n",
    "    print(\"Districts remaining:\", len(shapef_ia_initialdistricting))  #print how many districts are left\n",
    "\n",
    "# shapef_ia_initialdistricting = shapef_ia_initialdistricting.copy()\n"
   ]
  },
  {
   "cell_type": "code",
   "execution_count": 16,
   "id": "1b2a1e60",
   "metadata": {},
   "outputs": [],
   "source": [
    "# these were used to check which counties (via IDs and FIPs) were in each district\n",
    "# list(shapef_ia_initialdistricting[\"county_id_string\"])\n",
    "# list(shapef_ia_initialdistricting[\"COUNTYFP10\"])"
   ]
  },
  {
   "attachments": {},
   "cell_type": "markdown",
   "id": "83ade63b",
   "metadata": {},
   "source": [
    "### plot maps of new districts"
   ]
  },
  {
   "cell_type": "code",
   "execution_count": 17,
   "id": "00cfb8e4",
   "metadata": {},
   "outputs": [
    {
     "data": {
      "text/plain": [
       "0     133122 (dist 42)\n",
       "1     412348 (dist 61)\n",
       "2     385133 (dist 74)\n",
       "3    2259766 (dist 94)\n",
       "Name: combined_label, dtype: object"
      ]
     },
     "execution_count": 17,
     "metadata": {},
     "output_type": "execute_result"
    }
   ],
   "source": [
    "shapef_ia_initialdistricting['combined_label'] = shapef_ia_initialdistricting['population'].astype(str)  + str(' (dist ') + shapef_ia_initialdistricting['temp_district'].astype(str) + str (')')\n",
    "shapef_ia_initialdistricting['combined_label']\n",
    "# shapef_ia_initialdistricting.info()"
   ]
  },
  {
   "cell_type": "markdown",
   "id": "981a48f7",
   "metadata": {},
   "source": [
    "### functions that draw maps"
   ]
  },
  {
   "cell_type": "code",
   "execution_count": 18,
   "id": "4d64963e",
   "metadata": {},
   "outputs": [],
   "source": [
    "#label_field: 'population', 'temp_district', 'combined_label'\n",
    "def map_merged_districts(new_shapefile,label_field):\n",
    "    map_population_by_district = (\n",
    "        ggplot(new_shapefile)\n",
    "        + geom_map(aes(fill='population'))\n",
    "        + geom_label(aes(x='xcentr_lon', y='ycentr_lat', \n",
    "                        label=(label_field),size=2), \n",
    "                    show_legend=False)\n",
    "        + theme_minimal()\n",
    "        + theme(axis_text_x=element_blank(),\n",
    "                axis_text_y=element_blank(),\n",
    "                axis_title_x=element_blank(),\n",
    "                axis_title_y=element_blank(),\n",
    "                axis_ticks=element_blank(),\n",
    "                panel_grid_major=element_blank(),\n",
    "                panel_grid_minor=element_blank()\n",
    "            )\n",
    "        )\n",
    "\n",
    "    return map_population_by_district\n",
    "\n",
    "#input: shapefile of counties within a particular district \n",
    "#   (after undergoing identity overlay)\n",
    "#   label_field options: 'NAME10', 'population_2', 'county_id', 'county_id_string_2', etc\n",
    "def map_unmerged_districts(new_shapefile,label_field):\n",
    "    map_counties_by_district = (\n",
    "        ggplot(new_shapefile)\n",
    "        + geom_map(aes(fill='population_2'))\n",
    "        + geom_label(aes(x='xcentr_lon_2', y='ycentr_lat_2', \n",
    "                        label=label_field,size=2), \n",
    "                    show_legend=False)\n",
    "        + theme_minimal()\n",
    "        + theme(axis_text_x=element_blank(),\n",
    "                axis_text_y=element_blank(),\n",
    "                axis_title_x=element_blank(),\n",
    "                axis_title_y=element_blank(),\n",
    "                axis_ticks=element_blank(),\n",
    "                panel_grid_major=element_blank(),\n",
    "                panel_grid_minor=element_blank()\n",
    "            )\n",
    "        )\n",
    "\n",
    "    return map_counties_by_district"
   ]
  },
  {
   "cell_type": "code",
   "execution_count": 19,
   "id": "0b4f7c48",
   "metadata": {},
   "outputs": [
    {
     "data": {
      "image/png": "[encoded data removed]",
      "text/plain": [
       "<Figure size 640x480 with 1 Axes>"
      ]
     },
     "metadata": {},
     "output_type": "display_data"
    },
    {
     "data": {
      "text/plain": [
       "<ggplot: (362031008)>"
      ]
     },
     "execution_count": 19,
     "metadata": {},
     "output_type": "execute_result"
    }
   ],
   "source": [
    "map_merged_districts(shapef_ia_initialdistricting,'combined_label')"
   ]
  },
  {
   "cell_type": "code",
   "execution_count": 20,
   "id": "b6e65326",
   "metadata": {},
   "outputs": [
    {
     "data": {
      "text/html": [
       "<div>\n",
       "<style scoped>\n",
       "    .dataframe tbody tr th:only-of-type {\n",
       "        vertical-align: middle;\n",
       "    }\n",
       "\n",
       "    .dataframe tbody tr th {\n",
       "        vertical-align: top;\n",
       "    }\n",
       "\n",
       "    .dataframe thead th {\n",
       "        text-align: right;\n",
       "    }\n",
       "</style>\n",
       "<table border=\"1\" class=\"dataframe\">\n",
       "  <thead>\n",
       "    <tr style=\"text-align: right;\">\n",
       "      <th></th>\n",
       "      <th>population</th>\n",
       "      <th>temp_district</th>\n",
       "    </tr>\n",
       "  </thead>\n",
       "  <tbody>\n",
       "    <tr>\n",
       "      <th>0</th>\n",
       "      <td>133122</td>\n",
       "      <td>42</td>\n",
       "    </tr>\n",
       "    <tr>\n",
       "      <th>1</th>\n",
       "      <td>412348</td>\n",
       "      <td>61</td>\n",
       "    </tr>\n",
       "    <tr>\n",
       "      <th>2</th>\n",
       "      <td>385133</td>\n",
       "      <td>74</td>\n",
       "    </tr>\n",
       "    <tr>\n",
       "      <th>3</th>\n",
       "      <td>2259766</td>\n",
       "      <td>94</td>\n",
       "    </tr>\n",
       "  </tbody>\n",
       "</table>\n",
       "</div>"
      ],
      "text/plain": [
       "   population  temp_district\n",
       "0      133122             42\n",
       "1      412348             61\n",
       "2      385133             74\n",
       "3     2259766             94"
      ]
     },
     "execution_count": 20,
     "metadata": {},
     "output_type": "execute_result"
    }
   ],
   "source": [
    "shapef_ia_initialdistricting[['population','temp_district']]"
   ]
  },
  {
   "attachments": {},
   "cell_type": "markdown",
   "id": "0c3dccbe",
   "metadata": {},
   "source": [
    "# Begin step 3: redistributing counties until population is within bounds"
   ]
  },
  {
   "cell_type": "markdown",
   "id": "de8e2522",
   "metadata": {},
   "source": [
    "## Helper Functions"
   ]
  },
  {
   "cell_type": "code",
   "execution_count": 21,
   "id": "d6693aea",
   "metadata": {},
   "outputs": [],
   "source": [
    "# helper function: input is a shapefile with 'population' \n",
    "# column. output is a full matrix with SIGNED\n",
    "# population differences between attributes\n",
    "# row - col\n",
    "# positive value in row i column j means that pop(i) > pop(j)\n",
    "# negative value in row i column j means that pop(i) < pop(j)\n",
    "def pop_diff_matrix(temp_shapefile):\n",
    "    curr_n_districts = len(temp_shapefile)\n",
    "    pop_diff_mat = np.zeros((curr_n_districts,curr_n_districts))\n",
    "\n",
    "    for i in range(curr_n_districts):\n",
    "        for j in range(curr_n_districts):   \n",
    "            pop_diff_mat[i,j] = temp_shapefile['population'].iloc[i] - temp_shapefile['population'].iloc[j]\n",
    "    \n",
    "    return pop_diff_mat\n",
    "\n",
    "\n",
    "## helper function: given a dataframe of movable counties\n",
    "# and another dataframe of the district they're going to\n",
    "# make a list of relative distances\n",
    "def calculate_rel_dist(border_counties,new_district):\n",
    "    n_border_counties = len(border_counties)\n",
    "    distance_list = np.zeros((n_border_counties,3))\n",
    "\n",
    "    for i in range(n_border_counties):\n",
    "        oldx_dist = border_counties['xcentr_lon_2'].iloc[i] - border_counties['xcentr_lon_1'].iloc[i]\n",
    "        oldy_dist = border_counties['ycentr_lat_2'].iloc[i] - border_counties['ycentr_lat_1'].iloc[i]\n",
    "\n",
    "        # old_dist\n",
    "        distance_list[i,0] = math.sqrt(oldx_dist**2 + oldy_dist**2)\n",
    "\n",
    "        newx_dist = border_counties['xcentr_lon_2'].iloc[i] - new_district['xcentr_lon'].iloc[0]\n",
    "        newy_dist = border_counties['ycentr_lat_2'].iloc[i] - new_district['ycentr_lat'].iloc[0]\n",
    "\n",
    "        # new_dist\n",
    "        distance_list[i,1] = math.sqrt(newx_dist**2 + newy_dist**2)\n",
    "\n",
    "        ## relative_distance: old - new\n",
    "        # we'll move the county with highest relative distance\n",
    "        distance_list[i,2] = distance_list[i,0] - distance_list[i,1]\n",
    "\n",
    "    #we only need relative distances, not the component parts\n",
    "    #so we could just make an n x 1 list instead of n x 3\n",
    "    rel_dist = distance_list[:,2]\n",
    "    return rel_dist"
   ]
  },
  {
   "cell_type": "code",
   "execution_count": 22,
   "id": "b79d2f64",
   "metadata": {},
   "outputs": [],
   "source": [
    "#-----------module to find neighboring districts with the greatest population difference---------------------\n",
    "def neighbor_popdiff_fun(df):\n",
    "    #adjacencey matrix for 4 districts\n",
    "    adj_mat_array = adj_mat_calc(df).to_numpy()   \n",
    "\n",
    "    #SIGNED population difference array\n",
    "    # row minus col\n",
    "    # positive value in row i column j means that pop(i) > pop(j)\n",
    "    # negative value in row i column j means that pop(i) < pop(j)\n",
    "    pop_diff_array = pop_diff_matrix(df)\n",
    "    # zero out any pairs that aren't adjacent\n",
    "    # for numpy arrays, \"*\" is piecewise multiplication\n",
    "    neighbor_popdiff = adj_mat_array * pop_diff_array\n",
    "\n",
    "    return neighbor_popdiff"
   ]
  },
  {
   "cell_type": "code",
   "execution_count": 23,
   "id": "a2e8afa6",
   "metadata": {},
   "outputs": [],
   "source": [
    "#Identify the border counties between the two districts with biggest population difference\n",
    "#return a dataframe with the border counties with a column of relative distances between the big and small districts\n",
    "def border_counties_fun(shapef_ia_redist, list_of_districts, list_of_counties):\n",
    "    neighbor_popdiff=neighbor_popdiff_fun(shapef_ia_redist)\n",
    "    #maxpopdiff_loc is an ordered pair giving the location of the\n",
    "    #maximum value within neighbor_popdiff. Note!! Indexed on (0,n-1)!\n",
    "    maxpopdiff_loc = np.unravel_index(np.argmax(neighbor_popdiff, axis=None),   neighbor_popdiff.shape)\n",
    "\n",
    "    #population threshold for a border county that can get moved:\n",
    "    #  half of the difference between the two neighboring districts we're adjusting\n",
    "    #  if dist 1 has pop 700k and dist 2 has pop 1mil, then max size that can be moved\n",
    "    #  from dist 2 to dist 1 is 300k\n",
    "    pop_limit_switch=.7*neighbor_popdiff.max()\n",
    "\n",
    "    #big district is the *row*, so first element of ordered pair\n",
    "    big_dist_index = maxpopdiff_loc[0]\n",
    "    #small district is the *column*, so second element of ordered pair\n",
    "    small_dist_index = maxpopdiff_loc[1]\n",
    "\n",
    "    # big district geodataframe\n",
    "    # should match shapef_ia_redist.iloc[[big_dist_index]]\n",
    "    #    (though with diff indexing, which matters in distance helper fxn)\n",
    "    # bigdist = list_of_districts[big_dist_index].copy()\n",
    "    smalldist = list_of_districts[small_dist_index].copy()\n",
    "\n",
    "    #----------find which county will be swapped from \"bigdist\" to  \"smalldist\"----------------------\n",
    "    #from the list of 4 dataframes (each of diff districts)\n",
    "    #we call the dataframe of the big district\n",
    "    bigdist_counties = list_of_counties[big_dist_index].copy()\n",
    "\n",
    "    #dataframe of counties in the Big district which are \n",
    "    #adjacent to the Small district so which we might move\n",
    "    #(possible to be point neighbors and have issues -\n",
    "    #should be okay with D criterion, though)\n",
    "    #reset index so it is (0,n-1), instead of sparse indexing based on where the county     was within the district\n",
    "    #we retain the original county id in 'county_id'\n",
    "    bigdist_movable = bigdist_counties.loc[bigdist_counties.intersects(smalldist.unary_union)].reset_index(drop=True).copy()\n",
    "\n",
    "    # adding column to bigdist_movable with relative distances\n",
    "    bigdist_movable['rel_distance'] = calculate_rel_dist(bigdist_movable,smalldist)\n",
    "    return bigdist_movable, pop_limit_switch, small_dist_index"
   ]
  },
  {
   "cell_type": "code",
   "execution_count": 24,
   "id": "caadc1e4",
   "metadata": {},
   "outputs": [],
   "source": [
    "#Modify border_counties_fun to return a list of dataframes with their respective pop_limit_switch and small_dist_index\n",
    "#reworking here so as to not screw up original function\n",
    "\n",
    "#Identify the border counties between the two districts with biggest population difference\n",
    "#return a dataframe with the border counties with a column of relative distances between the big and small districts\n",
    "def border_counties_df_func(shapef_ia_redist, list_of_districts, list_of_counties):\n",
    "    neighbor_popdiff=neighbor_popdiff_fun(shapef_ia_redist)\n",
    "    #popdiff_locs is a list of ordered pairs giving the location of the\n",
    "    #positive values within neighbor_popdiff corresponding to adjacent districts. Note!! Indexed on (0,n-1)!\n",
    "    popdiff_locs=np.argwhere(neighbor_popdiff>0)\n",
    "    # maxpopdiff_loc = np.unravel_index(np.argmax(neighbor_popdiff, axis=None),   neighbor_popdiff.shape)\n",
    "\n",
    "    big_dist_list=[]\n",
    "    small_dist_list=[]\n",
    "    pop_limit_switch_list=[]\n",
    "    \n",
    "    for i in range(popdiff_locs.shape[0]):\n",
    "        big_dist_index=popdiff_locs[i][0]\n",
    "        big_dist_list.append(big_dist_index)\n",
    "        small_dist_index=popdiff_locs[i][1]\n",
    "        small_dist_list.append(small_dist_index)\n",
    "        pop_limit_switch=.7*neighbor_popdiff[big_dist_index][small_dist_index]\n",
    "        pop_limit_switch_list.append(pop_limit_switch)\n",
    "\n",
    "    df=pd.DataFrame()\n",
    "    df['big_dist_index']=big_dist_list\n",
    "    df['small_dist_index']=small_dist_list\n",
    "    df['pop_limit_switch']=pop_limit_switch_list\n",
    "\n",
    "    df=df.sort_values('pop_limit_switch', ascending=False).reset_index(drop=True)\n",
    "    #Note: pop_limit_switch is a proxy for actual pop limits and we can sort off of this list. But we need to make sure other lists are sorted accordingly\n",
    "\n",
    "\n",
    "    #----------find which county will be swapped from \"bigdist\" to  \"smalldist\"----------------------\n",
    "    #from the list of 4 dataframes (each of diff districts)\n",
    "    #we call the dataframe of the big district\n",
    "\n",
    "        #dataframe of counties in the Big district which are \n",
    "    #adjacent to the Small district so which we might move\n",
    "    #(possible to be point neighbors and have issues -\n",
    "    #should be okay with D criterion, though)\n",
    "    #reset index so it is (0,n-1), instead of sparse indexing based on where the county     was within the district\n",
    "    #we retain the original county id in 'county_id'\n",
    "\n",
    "    small_dist_list=[]\n",
    "    big_dist_counties_list=[]\n",
    "    bigdist_movable_list=[]\n",
    "    for j in range(popdiff_locs.shape[0]):\n",
    "        small_dist_list.append(list_of_districts[df.loc[j,'small_dist_index']])\n",
    "        big_dist_counties_list.append(list_of_counties[df.loc[j, 'big_dist_index']])\n",
    "        bigdist_movable_list.append(big_dist_counties_list[j].loc[big_dist_counties_list[j].intersects(small_dist_list[j].unary_union)].reset_index(drop=True).copy())\n",
    "        bigdist_movable_list[j]['relative_distance']=calculate_rel_dist(bigdist_movable_list[j], small_dist_list[j])\n",
    "\n",
    "\n",
    "    \n",
    "\n",
    "    # adding column to bigdist_movable with relative distances\n",
    "    # bigdist_movable['rel_distance'] = calculate_rel_dist(bigdist_movable,smalldist)\n",
    "    # return bigdist_movable, pop_limit_switch, small_dist_index\n",
    "\n",
    "    return bigdist_movable_list, df['pop_limit_switch'].tolist(), df['small_dist_index'].tolist()"
   ]
  },
  {
   "cell_type": "code",
   "execution_count": 25,
   "id": "e9f907e7",
   "metadata": {},
   "outputs": [],
   "source": [
    "# switch_func helper function\n",
    "# input is a dataframe with potentially movable counties (and a count of switches)\n",
    "# output is a county to switch: first priority: below threshold of switches (and population)\n",
    "#    Then, max relative distance of what's left\n",
    "def switch_func(dataframe_movable,switches_threshold,pop_limit_switch):\n",
    "    dataframe_sorted = dataframe_movable.sort_values('rel_distance',ascending=False).copy()\n",
    "    for i in range(dataframe_sorted.shape[0]):\n",
    "        # if dataframe_sorted.iloc[i]['num_switches'] <= switches_threshold:\n",
    "        #     return dataframe_sorted.iloc[i]['county_id']\n",
    "        #commenting out the if statement below to get rid of population threshold criteria - see if that'll eliminate discontiguous districts\n",
    "        if (dataframe_sorted.iloc[i]['num_switches'] <= switches_threshold) & (dataframe_sorted.iloc[i]['population_2']<pop_limit_switch):\n",
    "            return dataframe_sorted.iloc[i]['county_id']\n",
    "            break\n",
    "        #add else statement to go to next pair of districts\n",
    "\n",
    "#identifies the threshhold for the number of switches in the border counties\n",
    "def switch_threshold_fun(bigdist_movable):\n",
    "    # array with all switch counts from the movable county list\n",
    "    num_switches_array = np.array(bigdist_movable['num_switches'])\n",
    "\n",
    "    # max and min values from the array\n",
    "    max_switches = max(num_switches_array)\n",
    "    min_switches = min(num_switches_array)\n",
    "    # our chosen threshold for switches: halfway between max and min (floor)\n",
    "    switches_threshold = min_switches + np.ceil((max_switches-min_switches)*(2/3))\n",
    "    return switches_threshold"
   ]
  },
  {
   "cell_type": "code",
   "execution_count": 26,
   "id": "5abd049c",
   "metadata": {},
   "outputs": [],
   "source": [
    "#gives a range for district size based off of ideal district size\n",
    "def ideal_district_size_func(state_population, n_districts, tolerance):\n",
    "    ideal_district_size=state_population/n_districts\n",
    "    district_maximum=int(ideal_district_size*(1+tolerance))\n",
    "    district_minimum=int(ideal_district_size*(1-tolerance))\n",
    "    return district_minimum, district_maximum"
   ]
  },
  {
   "cell_type": "code",
   "execution_count": 27,
   "id": "0dc3a32c",
   "metadata": {},
   "outputs": [],
   "source": [
    "# helper function\n",
    "# input is a shapefile with attributes of single counties (and columns as labeled below)\n",
    "#       usually:  shapef_ia_step3\n",
    "# output is a shapefile with attributes of districts\n",
    "#       usually: shapef_step3_dissolved\n",
    "\n",
    "def dissolve_by_district(county_shapefile):\n",
    "    dissolved_shapefile = county_shapefile.dissolve(\n",
    "        by=\"DISTRICT\",\n",
    "        aggfunc = {\n",
    "            \"population\": \"sum\",\n",
    "            \"xcentr_lon\": \"first\",  #dummy, since we'll recalculate\n",
    "            \"ycentr_lat\": \"first\",\n",
    "            #skip the county_id_string now since we aren't slicing it\n",
    "            # \"county_id_string\": \"sum\", #sum = concatenation here b/c string\n",
    "            \"DISTRICT\": \"first\"\n",
    "        }\n",
    "   \n",
    "    )\n",
    "\n",
    "    dissolved_shapefile['xcentr_lon'] = dissolved_shapefile.centroid.x\n",
    "    dissolved_shapefile['ycentr_lat'] = dissolved_shapefile.centroid.y\n",
    "\n",
    "    #the dissolve process makes the temp_district column into the index of the dataframe\n",
    "    #which then has issues when we iterate the process\n",
    "    #so dump the index for a dummy one now\n",
    "    dissolved_shapefile = dissolved_shapefile.reset_index(drop=True)\n",
    "\n",
    "    return dissolved_shapefile\n",
    "\n"
   ]
  },
  {
   "cell_type": "markdown",
   "id": "a906528e",
   "metadata": {},
   "source": [
    "## Main part of reallocation"
   ]
  },
  {
   "cell_type": "markdown",
   "id": "2a1d301c",
   "metadata": {},
   "source": [
    "Pseudo code for initial allocation and reallocation:\n",
    "(COMPLETED ON 9/20)\n",
    "\n",
    "1. Initial allocation (complete)\n",
    "    - Prep gpdf for initial allocation\n",
    "    - Create the dataframe with all 99 counties and their district assignments (shapef_ia_fordistricting)\n",
    "    - Treat all 99 counties as its own district\n",
    "    - Pick an initial random seed county and merge with its nearest neighbor\n",
    "    - Repeat above step until there are only 4 districts left\n",
    "    - Get dataframes for each district and convert to gpdf\n",
    "2. Process data from initial allocation\n",
    "    - Compute adjacency matrices for districts and population differences between districts (modules complete)\n",
    "    - Create dataframes for 99 counties with district information and districts with shapefile information (complete)\n",
    "3. Redistributing districts to balance out population\n",
    "    - Identify border counties for the pair of adjacent districts that have the greatest population difference (module complete)\n",
    "    - Identify county amongst border counties that satisfies mininum relative distance, population, and number of switches criteria (modules complete)\n",
    "    - Switch the county from the larger to the smaller district and update its district label in the shapef_ia_fordistricting dataframe\n",
    "    - Update populations in the districts and rerun steps 4-7 until populations of each district falls within specified size requirements"
   ]
  },
  {
   "cell_type": "markdown",
   "id": "c1d6328c",
   "metadata": {},
   "source": [
    "### Begin reallocation"
   ]
  },
  {
   "cell_type": "code",
   "execution_count": 30,
   "id": "c80bd595",
   "metadata": {},
   "outputs": [
    {
     "name": "stdout",
     "output_type": "stream",
     "text": [
      "Folder ./images already exists\n"
     ]
    }
   ],
   "source": [
    "import os       #mkdir\n",
    "\n",
    "# https://www.freecodecamp.org/news/creating-a-directory-in-python-how-to-create-a-folder/\n",
    "# specify the path for the directory – make sure to surround it with quotation marks\n",
    "path = './images'\n",
    "\n",
    "# check whether directory already exists\n",
    "if not os.path.exists(path):\n",
    "  os.mkdir(path)\n",
    "  print(\"Folder %s created!\" % path)\n",
    "else:\n",
    "  print(\"Folder %s already exists\" % path)"
   ]
  },
  {
   "cell_type": "code",
   "execution_count": 33,
   "id": "35cb1425",
   "metadata": {},
   "outputs": [],
   "source": [
    "# adding switch_count to county shapefile which we will be using\n",
    "shapef_counties_for_realloc = shapef_ia_fordistricting.copy()\n",
    "\n",
    "# make a column with num_switches\n",
    "shapef_counties_for_realloc['num_switches'] = np.zeros(shapef_counties_for_realloc.shape[0],dtype=int)\n",
    "\n",
    "#9/13 note: update names of shapef_ia_redist to make sure it's clear what is in the rows.\n",
    "# drop: 'NAME10' (was just \"2\" for most-recently-merged attribute)\n",
    "#       'COUNTYFP10' (concatenated FIPS code)\n",
    "#       'county_id'  (summed county ids) \n",
    "#       'temp_district'  (1 arbitrary \"root\" county code) \n",
    "shapef_ia_redist = shapef_ia_initialdistricting.drop(columns=['NAME10', 'COUNTYFP10','county_id','temp_district']).copy()\n",
    "\n",
    "# make a column with a district #, 1-4\n",
    "shapef_ia_redist['district_label'] = shapef_ia_redist.index + 1"
   ]
  },
  {
   "cell_type": "code",
   "execution_count": 34,
   "id": "250b898d",
   "metadata": {},
   "outputs": [
    {
     "name": "stdout",
     "output_type": "stream",
     "text": [
      "Iteration 1. The county id to move is 45.\n",
      "[133122, 412348, 394730, 2250169]\n"
     ]
    },
    {
     "name": "stderr",
     "output_type": "stream",
     "text": [
      "/opt/homebrew/Caskroom/miniforge/base/envs/myenv/lib/python3.10/site-packages/plotnine/ggplot.py:718: PlotnineWarning: Saving 6.4 x 4.8 in image.\n",
      "/opt/homebrew/Caskroom/miniforge/base/envs/myenv/lib/python3.10/site-packages/plotnine/ggplot.py:719: PlotnineWarning: Filename: images/iter_01.png\n"
     ]
    },
    {
     "name": "stdout",
     "output_type": "stream",
     "text": [
      "Iteration 2. The county id to move is 36.\n",
      "[133122, 412348, 403501, 2241398]\n"
     ]
    },
    {
     "name": "stderr",
     "output_type": "stream",
     "text": [
      "/opt/homebrew/Caskroom/miniforge/base/envs/myenv/lib/python3.10/site-packages/plotnine/ggplot.py:718: PlotnineWarning: Saving 6.4 x 4.8 in image.\n",
      "/opt/homebrew/Caskroom/miniforge/base/envs/myenv/lib/python3.10/site-packages/plotnine/ggplot.py:719: PlotnineWarning: Filename: images/iter_02.png\n"
     ]
    },
    {
     "name": "stdout",
     "output_type": "stream",
     "text": [
      "Iteration 3. The county id to move is 93.\n",
      "[133122, 412348, 440500, 2204399]\n"
     ]
    },
    {
     "name": "stderr",
     "output_type": "stream",
     "text": [
      "/opt/homebrew/Caskroom/miniforge/base/envs/myenv/lib/python3.10/site-packages/plotnine/ggplot.py:718: PlotnineWarning: Saving 6.4 x 4.8 in image.\n",
      "/opt/homebrew/Caskroom/miniforge/base/envs/myenv/lib/python3.10/site-packages/plotnine/ggplot.py:719: PlotnineWarning: Filename: images/iter_03.png\n"
     ]
    },
    {
     "name": "stdout",
     "output_type": "stream",
     "text": [
      "Iteration 4. The county id to move is 76.\n",
      "[133122, 904749, 440500, 1711998]\n"
     ]
    },
    {
     "name": "stderr",
     "output_type": "stream",
     "text": [
      "/opt/homebrew/Caskroom/miniforge/base/envs/myenv/lib/python3.10/site-packages/plotnine/ggplot.py:718: PlotnineWarning: Saving 6.4 x 4.8 in image.\n",
      "/opt/homebrew/Caskroom/miniforge/base/envs/myenv/lib/python3.10/site-packages/plotnine/ggplot.py:719: PlotnineWarning: Filename: images/iter_04.png\n"
     ]
    },
    {
     "name": "stdout",
     "output_type": "stream",
     "text": [
      "Iteration 5. The county id to move is 94.\n",
      "[133122, 904749, 451179, 1701319]\n"
     ]
    },
    {
     "name": "stderr",
     "output_type": "stream",
     "text": [
      "/opt/homebrew/Caskroom/miniforge/base/envs/myenv/lib/python3.10/site-packages/plotnine/ggplot.py:718: PlotnineWarning: Saving 6.4 x 4.8 in image.\n",
      "/opt/homebrew/Caskroom/miniforge/base/envs/myenv/lib/python3.10/site-packages/plotnine/ggplot.py:719: PlotnineWarning: Filename: images/iter_05.png\n"
     ]
    },
    {
     "name": "stdout",
     "output_type": "stream",
     "text": [
      "Iteration 6. The county id to move is 40.\n",
      "[133122, 904749, 461974, 1690524]\n"
     ]
    },
    {
     "name": "stderr",
     "output_type": "stream",
     "text": [
      "/opt/homebrew/Caskroom/miniforge/base/envs/myenv/lib/python3.10/site-packages/plotnine/ggplot.py:718: PlotnineWarning: Saving 6.4 x 4.8 in image.\n",
      "/opt/homebrew/Caskroom/miniforge/base/envs/myenv/lib/python3.10/site-packages/plotnine/ggplot.py:719: PlotnineWarning: Filename: images/iter_06.png\n"
     ]
    },
    {
     "name": "stdout",
     "output_type": "stream",
     "text": [
      "Iteration 7. The county id to move is 98.\n",
      "[133122, 904749, 474917, 1677581]\n"
     ]
    },
    {
     "name": "stderr",
     "output_type": "stream",
     "text": [
      "/opt/homebrew/Caskroom/miniforge/base/envs/myenv/lib/python3.10/site-packages/plotnine/ggplot.py:718: PlotnineWarning: Saving 6.4 x 4.8 in image.\n",
      "/opt/homebrew/Caskroom/miniforge/base/envs/myenv/lib/python3.10/site-packages/plotnine/ggplot.py:719: PlotnineWarning: Filename: images/iter_07.png\n"
     ]
    },
    {
     "name": "stdout",
     "output_type": "stream",
     "text": [
      "Iteration 8. The county id to move is 7.\n",
      "[133122, 904749, 501632, 1650866]\n"
     ]
    },
    {
     "name": "stderr",
     "output_type": "stream",
     "text": [
      "/opt/homebrew/Caskroom/miniforge/base/envs/myenv/lib/python3.10/site-packages/plotnine/ggplot.py:718: PlotnineWarning: Saving 6.4 x 4.8 in image.\n",
      "/opt/homebrew/Caskroom/miniforge/base/envs/myenv/lib/python3.10/site-packages/plotnine/ggplot.py:719: PlotnineWarning: Filename: images/iter_08.png\n"
     ]
    },
    {
     "name": "stdout",
     "output_type": "stream",
     "text": [
      "Iteration 9. The county id to move is 39.\n",
      "[133122, 904749, 516671, 1635827]\n"
     ]
    },
    {
     "name": "stderr",
     "output_type": "stream",
     "text": [
      "/opt/homebrew/Caskroom/miniforge/base/envs/myenv/lib/python3.10/site-packages/plotnine/ggplot.py:718: PlotnineWarning: Saving 6.4 x 4.8 in image.\n",
      "/opt/homebrew/Caskroom/miniforge/base/envs/myenv/lib/python3.10/site-packages/plotnine/ggplot.py:719: PlotnineWarning: Filename: images/iter_09.png\n"
     ]
    },
    {
     "name": "stdout",
     "output_type": "stream",
     "text": [
      "Iteration 10. The county id to move is 97.\n",
      "[133122, 904749, 524114, 1628384]\n"
     ]
    },
    {
     "name": "stderr",
     "output_type": "stream",
     "text": [
      "/opt/homebrew/Caskroom/miniforge/base/envs/myenv/lib/python3.10/site-packages/plotnine/ggplot.py:718: PlotnineWarning: Saving 6.4 x 4.8 in image.\n",
      "/opt/homebrew/Caskroom/miniforge/base/envs/myenv/lib/python3.10/site-packages/plotnine/ggplot.py:719: PlotnineWarning: Filename: images/iter_10.png\n"
     ]
    },
    {
     "name": "stdout",
     "output_type": "stream",
     "text": [
      "Iteration 11. The county id to move is 16.\n",
      "[133122, 904749, 567241, 1585257]\n"
     ]
    },
    {
     "name": "stderr",
     "output_type": "stream",
     "text": [
      "/opt/homebrew/Caskroom/miniforge/base/envs/myenv/lib/python3.10/site-packages/plotnine/ggplot.py:718: PlotnineWarning: Saving 6.4 x 4.8 in image.\n",
      "/opt/homebrew/Caskroom/miniforge/base/envs/myenv/lib/python3.10/site-packages/plotnine/ggplot.py:719: PlotnineWarning: Filename: images/iter_11.png\n"
     ]
    },
    {
     "name": "stdout",
     "output_type": "stream",
     "text": [
      "Iteration 12. The county id to move is 34.\n",
      "[133122, 904749, 577260, 1575238]\n"
     ]
    },
    {
     "name": "stderr",
     "output_type": "stream",
     "text": [
      "/opt/homebrew/Caskroom/miniforge/base/envs/myenv/lib/python3.10/site-packages/plotnine/ggplot.py:718: PlotnineWarning: Saving 6.4 x 4.8 in image.\n",
      "/opt/homebrew/Caskroom/miniforge/base/envs/myenv/lib/python3.10/site-packages/plotnine/ggplot.py:719: PlotnineWarning: Filename: images/iter_12.png\n"
     ]
    },
    {
     "name": "stdout",
     "output_type": "stream",
     "text": [
      "Iteration 13. The county id to move is 84.\n",
      "[133122, 904749, 675797, 1476701]\n"
     ]
    },
    {
     "name": "stderr",
     "output_type": "stream",
     "text": [
      "/opt/homebrew/Caskroom/miniforge/base/envs/myenv/lib/python3.10/site-packages/plotnine/ggplot.py:718: PlotnineWarning: Saving 6.4 x 4.8 in image.\n",
      "/opt/homebrew/Caskroom/miniforge/base/envs/myenv/lib/python3.10/site-packages/plotnine/ggplot.py:719: PlotnineWarning: Filename: images/iter_13.png\n"
     ]
    },
    {
     "name": "stdout",
     "output_type": "stream",
     "text": [
      "Iteration 14. The county id to move is 41.\n",
      "[133122, 904749, 692675, 1459823]\n"
     ]
    },
    {
     "name": "stderr",
     "output_type": "stream",
     "text": [
      "/opt/homebrew/Caskroom/miniforge/base/envs/myenv/lib/python3.10/site-packages/plotnine/ggplot.py:718: PlotnineWarning: Saving 6.4 x 4.8 in image.\n",
      "/opt/homebrew/Caskroom/miniforge/base/envs/myenv/lib/python3.10/site-packages/plotnine/ggplot.py:719: PlotnineWarning: Filename: images/iter_14.png\n"
     ]
    },
    {
     "name": "stdout",
     "output_type": "stream",
     "text": [
      "Iteration 15. The county id to move is 64.\n",
      "[147606, 890265, 692675, 1459823]\n"
     ]
    },
    {
     "name": "stderr",
     "output_type": "stream",
     "text": [
      "/opt/homebrew/Caskroom/miniforge/base/envs/myenv/lib/python3.10/site-packages/plotnine/ggplot.py:718: PlotnineWarning: Saving 6.4 x 4.8 in image.\n",
      "/opt/homebrew/Caskroom/miniforge/base/envs/myenv/lib/python3.10/site-packages/plotnine/ggplot.py:719: PlotnineWarning: Filename: images/iter_15.png\n"
     ]
    },
    {
     "name": "stdout",
     "output_type": "stream",
     "text": [
      "Iteration 16. The county id to move is 65.\n",
      "[147606, 890265, 703240, 1449258]\n"
     ]
    },
    {
     "name": "stderr",
     "output_type": "stream",
     "text": [
      "/opt/homebrew/Caskroom/miniforge/base/envs/myenv/lib/python3.10/site-packages/plotnine/ggplot.py:718: PlotnineWarning: Saving 6.4 x 4.8 in image.\n",
      "/opt/homebrew/Caskroom/miniforge/base/envs/myenv/lib/python3.10/site-packages/plotnine/ggplot.py:719: PlotnineWarning: Filename: images/iter_16.png\n"
     ]
    },
    {
     "name": "stdout",
     "output_type": "stream",
     "text": [
      "Iteration 17. The county id to move is 33.\n",
      "[147606, 890265, 718867, 1433631]\n"
     ]
    },
    {
     "name": "stderr",
     "output_type": "stream",
     "text": [
      "/opt/homebrew/Caskroom/miniforge/base/envs/myenv/lib/python3.10/site-packages/plotnine/ggplot.py:718: PlotnineWarning: Saving 6.4 x 4.8 in image.\n",
      "/opt/homebrew/Caskroom/miniforge/base/envs/myenv/lib/python3.10/site-packages/plotnine/ggplot.py:719: PlotnineWarning: Filename: images/iter_17.png\n"
     ]
    },
    {
     "name": "stdout",
     "output_type": "stream",
     "text": [
      "Iteration 18. The county id to move is 35.\n",
      "[154211, 883660, 718867, 1433631]\n"
     ]
    },
    {
     "name": "stderr",
     "output_type": "stream",
     "text": [
      "/opt/homebrew/Caskroom/miniforge/base/envs/myenv/lib/python3.10/site-packages/plotnine/ggplot.py:718: PlotnineWarning: Saving 6.4 x 4.8 in image.\n",
      "/opt/homebrew/Caskroom/miniforge/base/envs/myenv/lib/python3.10/site-packages/plotnine/ggplot.py:719: PlotnineWarning: Filename: images/iter_18.png\n"
     ]
    },
    {
     "name": "stdout",
     "output_type": "stream",
     "text": [
      "Iteration 19. The county id to move is 68.\n",
      "[164541, 873330, 718867, 1433631]\n"
     ]
    },
    {
     "name": "stderr",
     "output_type": "stream",
     "text": [
      "/opt/homebrew/Caskroom/miniforge/base/envs/myenv/lib/python3.10/site-packages/plotnine/ggplot.py:718: PlotnineWarning: Saving 6.4 x 4.8 in image.\n",
      "/opt/homebrew/Caskroom/miniforge/base/envs/myenv/lib/python3.10/site-packages/plotnine/ggplot.py:719: PlotnineWarning: Filename: images/iter_19.png\n"
     ]
    },
    {
     "name": "stdout",
     "output_type": "stream",
     "text": [
      "Iteration 20. The county id to move is 11.\n",
      "[164541, 873330, 733201, 1419297]\n"
     ]
    },
    {
     "name": "stderr",
     "output_type": "stream",
     "text": [
      "/opt/homebrew/Caskroom/miniforge/base/envs/myenv/lib/python3.10/site-packages/plotnine/ggplot.py:718: PlotnineWarning: Saving 6.4 x 4.8 in image.\n",
      "/opt/homebrew/Caskroom/miniforge/base/envs/myenv/lib/python3.10/site-packages/plotnine/ggplot.py:719: PlotnineWarning: Filename: images/iter_20.png\n"
     ]
    },
    {
     "name": "stdout",
     "output_type": "stream",
     "text": [
      "Iteration 21. The county id to move is 72.\n",
      "[179752, 858119, 733201, 1419297]\n"
     ]
    },
    {
     "name": "stderr",
     "output_type": "stream",
     "text": [
      "/opt/homebrew/Caskroom/miniforge/base/envs/myenv/lib/python3.10/site-packages/plotnine/ggplot.py:718: PlotnineWarning: Saving 6.4 x 4.8 in image.\n",
      "/opt/homebrew/Caskroom/miniforge/base/envs/myenv/lib/python3.10/site-packages/plotnine/ggplot.py:719: PlotnineWarning: Filename: images/iter_21.png\n"
     ]
    },
    {
     "name": "stdout",
     "output_type": "stream",
     "text": [
      "Iteration 22. The county id to move is 44.\n",
      "[179752, 858119, 742670, 1409828]\n"
     ]
    },
    {
     "name": "stderr",
     "output_type": "stream",
     "text": [
      "/opt/homebrew/Caskroom/miniforge/base/envs/myenv/lib/python3.10/site-packages/plotnine/ggplot.py:718: PlotnineWarning: Saving 6.4 x 4.8 in image.\n",
      "/opt/homebrew/Caskroom/miniforge/base/envs/myenv/lib/python3.10/site-packages/plotnine/ggplot.py:719: PlotnineWarning: Filename: images/iter_22.png\n"
     ]
    },
    {
     "name": "stdout",
     "output_type": "stream",
     "text": [
      "Iteration 23. The county id to move is 1.\n",
      "[183456, 854415, 742670, 1409828]\n"
     ]
    },
    {
     "name": "stderr",
     "output_type": "stream",
     "text": [
      "/opt/homebrew/Caskroom/miniforge/base/envs/myenv/lib/python3.10/site-packages/plotnine/ggplot.py:718: PlotnineWarning: Saving 6.4 x 4.8 in image.\n",
      "/opt/homebrew/Caskroom/miniforge/base/envs/myenv/lib/python3.10/site-packages/plotnine/ggplot.py:719: PlotnineWarning: Filename: images/iter_23.png\n"
     ]
    },
    {
     "name": "stdout",
     "output_type": "stream",
     "text": [
      "Iteration 24. The county id to move is 86.\n",
      "[189352, 848519, 742670, 1409828]\n"
     ]
    },
    {
     "name": "stderr",
     "output_type": "stream",
     "text": [
      "/opt/homebrew/Caskroom/miniforge/base/envs/myenv/lib/python3.10/site-packages/plotnine/ggplot.py:718: PlotnineWarning: Saving 6.4 x 4.8 in image.\n",
      "/opt/homebrew/Caskroom/miniforge/base/envs/myenv/lib/python3.10/site-packages/plotnine/ggplot.py:719: PlotnineWarning: Filename: images/iter_24.png\n"
     ]
    },
    {
     "name": "stdout",
     "output_type": "stream",
     "text": [
      "Iteration 25. The county id to move is 63.\n",
      "[189352, 848519, 782775, 1369723]\n"
     ]
    },
    {
     "name": "stderr",
     "output_type": "stream",
     "text": [
      "/opt/homebrew/Caskroom/miniforge/base/envs/myenv/lib/python3.10/site-packages/plotnine/ggplot.py:718: PlotnineWarning: Saving 6.4 x 4.8 in image.\n",
      "/opt/homebrew/Caskroom/miniforge/base/envs/myenv/lib/python3.10/site-packages/plotnine/ggplot.py:719: PlotnineWarning: Filename: images/iter_25.png\n"
     ]
    },
    {
     "name": "stdout",
     "output_type": "stream",
     "text": [
      "Iteration 26. The county id to move is 38.\n",
      "[199975, 837896, 782775, 1369723]\n"
     ]
    },
    {
     "name": "stderr",
     "output_type": "stream",
     "text": [
      "/opt/homebrew/Caskroom/miniforge/base/envs/myenv/lib/python3.10/site-packages/plotnine/ggplot.py:718: PlotnineWarning: Saving 6.4 x 4.8 in image.\n",
      "/opt/homebrew/Caskroom/miniforge/base/envs/myenv/lib/python3.10/site-packages/plotnine/ggplot.py:719: PlotnineWarning: Filename: images/iter_26.png\n"
     ]
    },
    {
     "name": "stdout",
     "output_type": "stream",
     "text": [
      "Iteration 27. The county id to move is 0.\n",
      "[207471, 830400, 782775, 1369723]\n"
     ]
    },
    {
     "name": "stderr",
     "output_type": "stream",
     "text": [
      "/opt/homebrew/Caskroom/miniforge/base/envs/myenv/lib/python3.10/site-packages/plotnine/ggplot.py:718: PlotnineWarning: Saving 6.4 x 4.8 in image.\n",
      "/opt/homebrew/Caskroom/miniforge/base/envs/myenv/lib/python3.10/site-packages/plotnine/ggplot.py:719: PlotnineWarning: Filename: images/iter_27.png\n"
     ]
    },
    {
     "name": "stdout",
     "output_type": "stream",
     "text": [
      "Iteration 28. The county id to move is 87.\n",
      "[219609, 818262, 782775, 1369723]\n"
     ]
    },
    {
     "name": "stderr",
     "output_type": "stream",
     "text": [
      "/opt/homebrew/Caskroom/miniforge/base/envs/myenv/lib/python3.10/site-packages/plotnine/ggplot.py:718: PlotnineWarning: Saving 6.4 x 4.8 in image.\n",
      "/opt/homebrew/Caskroom/miniforge/base/envs/myenv/lib/python3.10/site-packages/plotnine/ggplot.py:719: PlotnineWarning: Filename: images/iter_28.png\n"
     ]
    },
    {
     "name": "stdout",
     "output_type": "stream",
     "text": [
      "Iteration 29. The county id to move is 79.\n",
      "[224272, 813599, 782775, 1369723]\n"
     ]
    },
    {
     "name": "stderr",
     "output_type": "stream",
     "text": [
      "/opt/homebrew/Caskroom/miniforge/base/envs/myenv/lib/python3.10/site-packages/plotnine/ggplot.py:718: PlotnineWarning: Saving 6.4 x 4.8 in image.\n",
      "/opt/homebrew/Caskroom/miniforge/base/envs/myenv/lib/python3.10/site-packages/plotnine/ggplot.py:719: PlotnineWarning: Filename: images/iter_29.png\n"
     ]
    },
    {
     "name": "stdout",
     "output_type": "stream",
     "text": [
      "Iteration 30. The county id to move is 24.\n",
      "[323950, 713921, 782775, 1369723]\n"
     ]
    },
    {
     "name": "stderr",
     "output_type": "stream",
     "text": [
      "/opt/homebrew/Caskroom/miniforge/base/envs/myenv/lib/python3.10/site-packages/plotnine/ggplot.py:718: PlotnineWarning: Saving 6.4 x 4.8 in image.\n",
      "/opt/homebrew/Caskroom/miniforge/base/envs/myenv/lib/python3.10/site-packages/plotnine/ggplot.py:719: PlotnineWarning: Filename: images/iter_30.png\n"
     ]
    },
    {
     "name": "stdout",
     "output_type": "stream",
     "text": [
      "Iteration 31. The county id to move is 49.\n",
      "[323950, 751734, 782775, 1331910]\n"
     ]
    },
    {
     "name": "stderr",
     "output_type": "stream",
     "text": [
      "/opt/homebrew/Caskroom/miniforge/base/envs/myenv/lib/python3.10/site-packages/plotnine/ggplot.py:718: PlotnineWarning: Saving 6.4 x 4.8 in image.\n",
      "/opt/homebrew/Caskroom/miniforge/base/envs/myenv/lib/python3.10/site-packages/plotnine/ggplot.py:719: PlotnineWarning: Filename: images/iter_31.png\n"
     ]
    },
    {
     "name": "stdout",
     "output_type": "stream",
     "text": [
      "Iteration 32. The county id to move is 88.\n",
      "[323950, 758937, 782775, 1324707]\n"
     ]
    },
    {
     "name": "stderr",
     "output_type": "stream",
     "text": [
      "/opt/homebrew/Caskroom/miniforge/base/envs/myenv/lib/python3.10/site-packages/plotnine/ggplot.py:718: PlotnineWarning: Saving 6.4 x 4.8 in image.\n",
      "/opt/homebrew/Caskroom/miniforge/base/envs/myenv/lib/python3.10/site-packages/plotnine/ggplot.py:719: PlotnineWarning: Filename: images/iter_32.png\n"
     ]
    },
    {
     "name": "stdout",
     "output_type": "stream",
     "text": [
      "Iteration 33. The county id to move is 50.\n",
      "[323950, 774600, 782775, 1309044]\n"
     ]
    },
    {
     "name": "stderr",
     "output_type": "stream",
     "text": [
      "/opt/homebrew/Caskroom/miniforge/base/envs/myenv/lib/python3.10/site-packages/plotnine/ggplot.py:718: PlotnineWarning: Saving 6.4 x 4.8 in image.\n",
      "/opt/homebrew/Caskroom/miniforge/base/envs/myenv/lib/python3.10/site-packages/plotnine/ggplot.py:719: PlotnineWarning: Filename: images/iter_33.png\n"
     ]
    },
    {
     "name": "stdout",
     "output_type": "stream",
     "text": [
      "Iteration 34. The county id to move is 53.\n",
      "[323950, 784633, 782775, 1299011]\n"
     ]
    },
    {
     "name": "stderr",
     "output_type": "stream",
     "text": [
      "/opt/homebrew/Caskroom/miniforge/base/envs/myenv/lib/python3.10/site-packages/plotnine/ggplot.py:718: PlotnineWarning: Saving 6.4 x 4.8 in image.\n",
      "/opt/homebrew/Caskroom/miniforge/base/envs/myenv/lib/python3.10/site-packages/plotnine/ggplot.py:719: PlotnineWarning: Filename: images/iter_34.png\n"
     ]
    },
    {
     "name": "stdout",
     "output_type": "stream",
     "text": [
      "Iteration 35. The county id to move is 37.\n",
      "[323950, 784633, 795104, 1286682]\n"
     ]
    },
    {
     "name": "stderr",
     "output_type": "stream",
     "text": [
      "/opt/homebrew/Caskroom/miniforge/base/envs/myenv/lib/python3.10/site-packages/plotnine/ggplot.py:718: PlotnineWarning: Saving 6.4 x 4.8 in image.\n",
      "/opt/homebrew/Caskroom/miniforge/base/envs/myenv/lib/python3.10/site-packages/plotnine/ggplot.py:719: PlotnineWarning: Filename: images/iter_35.png\n"
     ]
    },
    {
     "name": "stdout",
     "output_type": "stream",
     "text": [
      "Iteration 36. The county id to move is 55.\n",
      "[323950, 818188, 795104, 1253127]\n"
     ]
    },
    {
     "name": "stderr",
     "output_type": "stream",
     "text": [
      "/opt/homebrew/Caskroom/miniforge/base/envs/myenv/lib/python3.10/site-packages/plotnine/ggplot.py:718: PlotnineWarning: Saving 6.4 x 4.8 in image.\n",
      "/opt/homebrew/Caskroom/miniforge/base/envs/myenv/lib/python3.10/site-packages/plotnine/ggplot.py:719: PlotnineWarning: Filename: images/iter_36.png\n"
     ]
    },
    {
     "name": "stdout",
     "output_type": "stream",
     "text": [
      "Iteration 37. The county id to move is 60.\n",
      "[340498, 801640, 795104, 1253127]\n"
     ]
    },
    {
     "name": "stderr",
     "output_type": "stream",
     "text": [
      "/opt/homebrew/Caskroom/miniforge/base/envs/myenv/lib/python3.10/site-packages/plotnine/ggplot.py:718: PlotnineWarning: Saving 6.4 x 4.8 in image.\n",
      "/opt/homebrew/Caskroom/miniforge/base/envs/myenv/lib/python3.10/site-packages/plotnine/ggplot.py:719: PlotnineWarning: Filename: images/iter_37.png\n"
     ]
    },
    {
     "name": "stdout",
     "output_type": "stream",
     "text": [
      "Iteration 38. The county id to move is 19.\n",
      "[350246, 791892, 795104, 1253127]\n"
     ]
    },
    {
     "name": "stderr",
     "output_type": "stream",
     "text": [
      "/opt/homebrew/Caskroom/miniforge/base/envs/myenv/lib/python3.10/site-packages/plotnine/ggplot.py:718: PlotnineWarning: Saving 6.4 x 4.8 in image.\n",
      "/opt/homebrew/Caskroom/miniforge/base/envs/myenv/lib/python3.10/site-packages/plotnine/ggplot.py:719: PlotnineWarning: Filename: images/iter_38.png\n"
     ]
    },
    {
     "name": "stdout",
     "output_type": "stream",
     "text": [
      "Iteration 39. The county id to move is 78.\n",
      "[350246, 810554, 795104, 1234465]\n"
     ]
    },
    {
     "name": "stderr",
     "output_type": "stream",
     "text": [
      "/opt/homebrew/Caskroom/miniforge/base/envs/myenv/lib/python3.10/site-packages/plotnine/ggplot.py:718: PlotnineWarning: Saving 6.4 x 4.8 in image.\n",
      "/opt/homebrew/Caskroom/miniforge/base/envs/myenv/lib/python3.10/site-packages/plotnine/ggplot.py:719: PlotnineWarning: Filename: images/iter_39.png\n"
     ]
    },
    {
     "name": "stdout",
     "output_type": "stream",
     "text": [
      "Iteration 40. The county id to move is 26.\n",
      "[357891, 802909, 795104, 1234465]\n"
     ]
    },
    {
     "name": "stderr",
     "output_type": "stream",
     "text": [
      "/opt/homebrew/Caskroom/miniforge/base/envs/myenv/lib/python3.10/site-packages/plotnine/ggplot.py:718: PlotnineWarning: Saving 6.4 x 4.8 in image.\n",
      "/opt/homebrew/Caskroom/miniforge/base/envs/myenv/lib/python3.10/site-packages/plotnine/ggplot.py:719: PlotnineWarning: Filename: images/iter_40.png\n"
     ]
    },
    {
     "name": "stdout",
     "output_type": "stream",
     "text": [
      "Iteration 41. The county id to move is 90.\n",
      "[410294, 750506, 795104, 1234465]\n"
     ]
    },
    {
     "name": "stderr",
     "output_type": "stream",
     "text": [
      "/opt/homebrew/Caskroom/miniforge/base/envs/myenv/lib/python3.10/site-packages/plotnine/ggplot.py:718: PlotnineWarning: Saving 6.4 x 4.8 in image.\n",
      "/opt/homebrew/Caskroom/miniforge/base/envs/myenv/lib/python3.10/site-packages/plotnine/ggplot.py:719: PlotnineWarning: Filename: images/iter_41.png\n"
     ]
    },
    {
     "name": "stdout",
     "output_type": "stream",
     "text": [
      "Iteration 42. The county id to move is 43.\n",
      "[410294, 770988, 795104, 1213983]\n"
     ]
    },
    {
     "name": "stderr",
     "output_type": "stream",
     "text": [
      "/opt/homebrew/Caskroom/miniforge/base/envs/myenv/lib/python3.10/site-packages/plotnine/ggplot.py:718: PlotnineWarning: Saving 6.4 x 4.8 in image.\n",
      "/opt/homebrew/Caskroom/miniforge/base/envs/myenv/lib/python3.10/site-packages/plotnine/ggplot.py:719: PlotnineWarning: Filename: images/iter_42.png\n"
     ]
    },
    {
     "name": "stdout",
     "output_type": "stream",
     "text": [
      "Iteration 43. The county id to move is 28.\n",
      "[410294, 809898, 795104, 1175073]\n"
     ]
    },
    {
     "name": "stderr",
     "output_type": "stream",
     "text": [
      "/opt/homebrew/Caskroom/miniforge/base/envs/myenv/lib/python3.10/site-packages/plotnine/ggplot.py:718: PlotnineWarning: Saving 6.4 x 4.8 in image.\n",
      "/opt/homebrew/Caskroom/miniforge/base/envs/myenv/lib/python3.10/site-packages/plotnine/ggplot.py:719: PlotnineWarning: Filename: images/iter_43.png\n"
     ]
    },
    {
     "name": "stdout",
     "output_type": "stream",
     "text": [
      "Iteration 44. The county id to move is 92.\n",
      "[416791, 803401, 795104, 1175073]\n"
     ]
    },
    {
     "name": "stderr",
     "output_type": "stream",
     "text": [
      "/opt/homebrew/Caskroom/miniforge/base/envs/myenv/lib/python3.10/site-packages/plotnine/ggplot.py:718: PlotnineWarning: Saving 6.4 x 4.8 in image.\n",
      "/opt/homebrew/Caskroom/miniforge/base/envs/myenv/lib/python3.10/site-packages/plotnine/ggplot.py:719: PlotnineWarning: Filename: images/iter_44.png\n"
     ]
    },
    {
     "name": "stdout",
     "output_type": "stream",
     "text": [
      "Iteration 45. The county id to move is 58.\n",
      "[425425, 794767, 795104, 1175073]\n"
     ]
    },
    {
     "name": "stderr",
     "output_type": "stream",
     "text": [
      "/opt/homebrew/Caskroom/miniforge/base/envs/myenv/lib/python3.10/site-packages/plotnine/ggplot.py:718: PlotnineWarning: Saving 6.4 x 4.8 in image.\n",
      "/opt/homebrew/Caskroom/miniforge/base/envs/myenv/lib/python3.10/site-packages/plotnine/ggplot.py:719: PlotnineWarning: Filename: images/iter_45.png\n"
     ]
    },
    {
     "name": "stdout",
     "output_type": "stream",
     "text": [
      "Iteration 46. The county id to move is 91.\n",
      "[425425, 817332, 795104, 1152508]\n"
     ]
    },
    {
     "name": "stderr",
     "output_type": "stream",
     "text": [
      "/opt/homebrew/Caskroom/miniforge/base/envs/myenv/lib/python3.10/site-packages/plotnine/ggplot.py:718: PlotnineWarning: Saving 6.4 x 4.8 in image.\n",
      "/opt/homebrew/Caskroom/miniforge/base/envs/myenv/lib/python3.10/site-packages/plotnine/ggplot.py:719: PlotnineWarning: Filename: images/iter_46.png\n"
     ]
    },
    {
     "name": "stdout",
     "output_type": "stream",
     "text": [
      "Iteration 47. The county id to move is 62.\n",
      "[458839, 783918, 795104, 1152508]\n"
     ]
    },
    {
     "name": "stderr",
     "output_type": "stream",
     "text": [
      "/opt/homebrew/Caskroom/miniforge/base/envs/myenv/lib/python3.10/site-packages/plotnine/ggplot.py:718: PlotnineWarning: Saving 6.4 x 4.8 in image.\n",
      "/opt/homebrew/Caskroom/miniforge/base/envs/myenv/lib/python3.10/site-packages/plotnine/ggplot.py:719: PlotnineWarning: Filename: images/iter_47.png\n"
     ]
    },
    {
     "name": "stdout",
     "output_type": "stream",
     "text": [
      "Iteration 48. The county id to move is 57.\n",
      "[458839, 794755, 795104, 1141671]\n"
     ]
    },
    {
     "name": "stderr",
     "output_type": "stream",
     "text": [
      "/opt/homebrew/Caskroom/miniforge/base/envs/myenv/lib/python3.10/site-packages/plotnine/ggplot.py:718: PlotnineWarning: Saving 6.4 x 4.8 in image.\n",
      "/opt/homebrew/Caskroom/miniforge/base/envs/myenv/lib/python3.10/site-packages/plotnine/ggplot.py:719: PlotnineWarning: Filename: images/iter_48.png\n"
     ]
    },
    {
     "name": "stdout",
     "output_type": "stream",
     "text": [
      "Iteration 49. The county id to move is 47.\n",
      "[458839, 811417, 795104, 1125009]\n"
     ]
    },
    {
     "name": "stderr",
     "output_type": "stream",
     "text": [
      "/opt/homebrew/Caskroom/miniforge/base/envs/myenv/lib/python3.10/site-packages/plotnine/ggplot.py:718: PlotnineWarning: Saving 6.4 x 4.8 in image.\n",
      "/opt/homebrew/Caskroom/miniforge/base/envs/myenv/lib/python3.10/site-packages/plotnine/ggplot.py:719: PlotnineWarning: Filename: images/iter_49.png\n"
     ]
    },
    {
     "name": "stdout",
     "output_type": "stream",
     "text": [
      "Iteration 50. The county id to move is 49.\n",
      "[496652, 773604, 795104, 1125009]\n"
     ]
    },
    {
     "name": "stderr",
     "output_type": "stream",
     "text": [
      "/opt/homebrew/Caskroom/miniforge/base/envs/myenv/lib/python3.10/site-packages/plotnine/ggplot.py:718: PlotnineWarning: Saving 6.4 x 4.8 in image.\n",
      "/opt/homebrew/Caskroom/miniforge/base/envs/myenv/lib/python3.10/site-packages/plotnine/ggplot.py:719: PlotnineWarning: Filename: images/iter_50.png\n"
     ]
    },
    {
     "name": "stdout",
     "output_type": "stream",
     "text": [
      "Iteration 51. The county id to move is 85.\n",
      "[513787, 773604, 795104, 1107874]\n"
     ]
    },
    {
     "name": "stderr",
     "output_type": "stream",
     "text": [
      "/opt/homebrew/Caskroom/miniforge/base/envs/myenv/lib/python3.10/site-packages/plotnine/ggplot.py:718: PlotnineWarning: Saving 6.4 x 4.8 in image.\n",
      "/opt/homebrew/Caskroom/miniforge/base/envs/myenv/lib/python3.10/site-packages/plotnine/ggplot.py:719: PlotnineWarning: Filename: images/iter_51.png\n"
     ]
    },
    {
     "name": "stdout",
     "output_type": "stream",
     "text": [
      "Iteration 52. The county id to move is 6.\n",
      "[644931, 773604, 795104, 976730]\n"
     ]
    },
    {
     "name": "stderr",
     "output_type": "stream",
     "text": [
      "/opt/homebrew/Caskroom/miniforge/base/envs/myenv/lib/python3.10/site-packages/plotnine/ggplot.py:718: PlotnineWarning: Saving 6.4 x 4.8 in image.\n",
      "/opt/homebrew/Caskroom/miniforge/base/envs/myenv/lib/python3.10/site-packages/plotnine/ggplot.py:719: PlotnineWarning: Filename: images/iter_52.png\n"
     ]
    },
    {
     "name": "stdout",
     "output_type": "stream",
     "text": [
      "Iteration 53. The county id to move is 5.\n",
      "[670506, 773604, 795104, 951155]\n"
     ]
    },
    {
     "name": "stderr",
     "output_type": "stream",
     "text": [
      "/opt/homebrew/Caskroom/miniforge/base/envs/myenv/lib/python3.10/site-packages/plotnine/ggplot.py:718: PlotnineWarning: Saving 6.4 x 4.8 in image.\n",
      "/opt/homebrew/Caskroom/miniforge/base/envs/myenv/lib/python3.10/site-packages/plotnine/ggplot.py:719: PlotnineWarning: Filename: images/iter_53.png\n"
     ]
    },
    {
     "name": "stdout",
     "output_type": "stream",
     "text": [
      "Iteration 54. The county id to move is 8.\n",
      "[695494, 773604, 795104, 926167]\n"
     ]
    },
    {
     "name": "stderr",
     "output_type": "stream",
     "text": [
      "/opt/homebrew/Caskroom/miniforge/base/envs/myenv/lib/python3.10/site-packages/plotnine/ggplot.py:718: PlotnineWarning: Saving 6.4 x 4.8 in image.\n",
      "/opt/homebrew/Caskroom/miniforge/base/envs/myenv/lib/python3.10/site-packages/plotnine/ggplot.py:719: PlotnineWarning: Filename: images/iter_54.png\n"
     ]
    },
    {
     "name": "stdout",
     "output_type": "stream",
     "text": [
      "Iteration 55. The county id to move is 18.\n",
      "[707506, 773604, 795104, 914155]\n"
     ]
    },
    {
     "name": "stderr",
     "output_type": "stream",
     "text": [
      "/opt/homebrew/Caskroom/miniforge/base/envs/myenv/lib/python3.10/site-packages/plotnine/ggplot.py:718: PlotnineWarning: Saving 6.4 x 4.8 in image.\n",
      "/opt/homebrew/Caskroom/miniforge/base/envs/myenv/lib/python3.10/site-packages/plotnine/ggplot.py:719: PlotnineWarning: Filename: images/iter_55.png\n"
     ]
    },
    {
     "name": "stdout",
     "output_type": "stream",
     "text": [
      "Iteration 56. The county id to move is 95.\n",
      "[727576, 773604, 795104, 894085]\n"
     ]
    },
    {
     "name": "stderr",
     "output_type": "stream",
     "text": [
      "/opt/homebrew/Caskroom/miniforge/base/envs/myenv/lib/python3.10/site-packages/plotnine/ggplot.py:718: PlotnineWarning: Saving 6.4 x 4.8 in image.\n",
      "/opt/homebrew/Caskroom/miniforge/base/envs/myenv/lib/python3.10/site-packages/plotnine/ggplot.py:719: PlotnineWarning: Filename: images/iter_56.png\n"
     ]
    },
    {
     "name": "stdout",
     "output_type": "stream",
     "text": [
      "Iteration 57. The county id to move is 32.\n",
      "[747085, 773604, 795104, 874576]\n"
     ]
    },
    {
     "name": "stderr",
     "output_type": "stream",
     "text": [
      "/opt/homebrew/Caskroom/miniforge/base/envs/myenv/lib/python3.10/site-packages/plotnine/ggplot.py:718: PlotnineWarning: Saving 6.4 x 4.8 in image.\n",
      "/opt/homebrew/Caskroom/miniforge/base/envs/myenv/lib/python3.10/site-packages/plotnine/ggplot.py:719: PlotnineWarning: Filename: images/iter_57.png\n"
     ]
    },
    {
     "name": "stdout",
     "output_type": "stream",
     "text": [
      "Iteration 58. The county id to move is 9.\n",
      "[767650, 773604, 795104, 854011]\n"
     ]
    },
    {
     "name": "stderr",
     "output_type": "stream",
     "text": [
      "/opt/homebrew/Caskroom/miniforge/base/envs/myenv/lib/python3.10/site-packages/plotnine/ggplot.py:718: PlotnineWarning: Saving 6.4 x 4.8 in image.\n",
      "/opt/homebrew/Caskroom/miniforge/base/envs/myenv/lib/python3.10/site-packages/plotnine/ggplot.py:719: PlotnineWarning: Filename: images/iter_58.png\n"
     ]
    },
    {
     "name": "stdout",
     "output_type": "stream",
     "text": [
      "Iteration 59. The county id to move is 2.\n",
      "[781711, 773604, 795104, 839950]\n"
     ]
    },
    {
     "name": "stderr",
     "output_type": "stream",
     "text": [
      "/opt/homebrew/Caskroom/miniforge/base/envs/myenv/lib/python3.10/site-packages/plotnine/ggplot.py:718: PlotnineWarning: Saving 6.4 x 4.8 in image.\n",
      "/opt/homebrew/Caskroom/miniforge/base/envs/myenv/lib/python3.10/site-packages/plotnine/ggplot.py:719: PlotnineWarning: Filename: images/iter_59.png\n"
     ]
    },
    {
     "name": "stdout",
     "output_type": "stream",
     "text": [
      "Iteration 60. The county id to move is 69.\n",
      "[781711, 816839, 795104, 796715]\n"
     ]
    },
    {
     "name": "stderr",
     "output_type": "stream",
     "text": [
      "/opt/homebrew/Caskroom/miniforge/base/envs/myenv/lib/python3.10/site-packages/plotnine/ggplot.py:718: PlotnineWarning: Saving 6.4 x 4.8 in image.\n",
      "/opt/homebrew/Caskroom/miniforge/base/envs/myenv/lib/python3.10/site-packages/plotnine/ggplot.py:719: PlotnineWarning: Filename: images/iter_60.png\n"
     ]
    }
   ],
   "source": [
    "for k in range(60):\n",
    "\n",
    "    # Making separate geodataframes for each district (one district/attribute in each).\n",
    "    list_of_districts=[]\n",
    "    for i in range(4):\n",
    "        list_of_districts.append(shapef_ia_redist.iloc[[i]].reset_index(drop=True))\n",
    "\n",
    "    #the identity overlay takes district n and splits it up by all counties\n",
    "    # which fall inside it (from main, un-districted shapefile)\n",
    "    #keep_geom_type=True   discards boundary points and lines from counties which only border the district\n",
    "    #resulting dataframe columns: _1 stuff comes from parent (whole district)\n",
    "    #                             _2 stuff comes from specific county\n",
    "    list_of_counties=[]\n",
    "    for i in range(4):\n",
    "        list_of_counties.append(list_of_districts[i].overlay(shapef_counties_for_realloc,how='identity',keep_geom_type=True))\n",
    "\n",
    "    #this records the district number each county is assigned to in the first pass\n",
    "    shapef_counties_for_realloc['DISTRICT']=''\n",
    "    for i in range(99):\n",
    "        for j in range(4):\n",
    "            # if i<j:\n",
    "            if shapef_counties_for_realloc.iloc[i]['COUNTYFP10'] in list_of_counties[j]['COUNTYFP10'].tolist():\n",
    "                shapef_counties_for_realloc.loc[i,'DISTRICT']=j+1\n",
    "    # shapef_counties_for_realloc\n",
    "\n",
    "\n",
    "    bigdist_movable=border_counties_fun(shapef_ia_redist, list_of_districts, list_of_counties)[0]\n",
    "    pop_limit_switch=border_counties_fun(shapef_ia_redist, list_of_districts, list_of_counties)[1]\n",
    "    new_district = border_counties_fun(shapef_ia_redist, list_of_districts, list_of_counties)[2] + 1\n",
    "    # bigdist_movable\n",
    "    switches_threshold=switch_threshold_fun(bigdist_movable)\n",
    "\n",
    "\n",
    "    # What county should be switched? Humboldt! (FIPS 091/id 45)\n",
    "    movingcounty_index=switch_func(bigdist_movable, switches_threshold,pop_limit_switch)\n",
    "    # print(movingcounty_index)\n",
    "\n",
    "    print(\"Iteration %d. The county id to move is %d.\" \\\n",
    "        % (k+1,            \n",
    "            movingcounty_index\n",
    "           ) )\n",
    "\n",
    "\n",
    "    # Update 99 row dataframe:\n",
    "    shapef_counties_for_realloc.loc[movingcounty_index,'DISTRICT'] = new_district\n",
    "    shapef_counties_for_realloc.loc[movingcounty_index,'num_switches'] = shapef_counties_for_realloc.loc[movingcounty_index,'num_switches']+1\n",
    "\n",
    "    # overwriting old 4 row geodataframe with the new version (dissolved based on updated district number) \n",
    "    shapef_ia_redist = dissolve_by_district(shapef_counties_for_realloc)\n",
    "\n",
    "    print(shapef_ia_redist['population'].to_list())\n",
    "    iter_number=str(k+1).rjust(2,'0')\n",
    "    im1 = map_merged_districts(shapef_ia_redist,'DISTRICT')\n",
    "    im1 = im1.save(\"images/iter_{}.png\".format(iter_number))         ###############FIX THIS TO BE ACTUAL (zeropadded) numbers\n",
    "    \n",
    "    district_min=ideal_district_size_func(state_population, n_districts, .01)[0]\n",
    "    district_max=ideal_district_size_func(state_population, n_districts, .01)[1]\n",
    "\n",
    "    if shapef_ia_redist['population'].max() in range(district_min, district_max+1) and shapef_ia_redist['population'].min() in range(district_min, district_max+1):\n",
    "        break\n",
    "\n"
   ]
  },
  {
   "cell_type": "markdown",
   "id": "51e54e9d",
   "metadata": {},
   "source": [
    "## Steps for next time 9/25:\n",
    "1. Things we tried\n",
    "    - modify border_counties_func to return a list of dataframes of border counties, pop_limit_switch_list, and small_dist_index (all sorted in decreasing order with respect to pop_limit_switch)\n",
    "2. To investigate:\n",
    "    - Modify switch_func so that if there are no counties to move between a pair of districts, proceed to the next border_counties_df from border_counties_func(arg, arg arg)[0]\n",
    "    - determine why 03 and 67 weren't moved\n",
    "    - figure out how to export district maps from for loop into separate file as the for loop updates\n",
    "    - look into gpd documentation to see how to address kitty corners:\n",
    "        - do we add a minimum adjacency threshold (ie must share a border at least X miles long)\n",
    "        - Perhaps add in criteria after moving_index is identified\n",
    "            -check if the move will yield discontiguous districts. If yes, discard option and move to next choice. If not, move that county.\n",
    "        - If there are no good counties to move between a pair of districts, move to the next pair of districts\n",
    "\n",
    "\n"
   ]
  },
  {
   "cell_type": "code",
   "execution_count": 43,
   "id": "e9e22206",
   "metadata": {},
   "outputs": [
    {
     "data": {
      "text/html": [
       "<div>\n",
       "<style scoped>\n",
       "    .dataframe tbody tr th:only-of-type {\n",
       "        vertical-align: middle;\n",
       "    }\n",
       "\n",
       "    .dataframe tbody tr th {\n",
       "        vertical-align: top;\n",
       "    }\n",
       "\n",
       "    .dataframe thead th {\n",
       "        text-align: right;\n",
       "    }\n",
       "</style>\n",
       "<table border=\"1\" class=\"dataframe\">\n",
       "  <thead>\n",
       "    <tr style=\"text-align: right;\">\n",
       "      <th></th>\n",
       "      <th>COUNTYFP10</th>\n",
       "      <th>NAME10</th>\n",
       "      <th>geometry</th>\n",
       "      <th>population</th>\n",
       "      <th>county_id</th>\n",
       "      <th>xcentr_lon</th>\n",
       "      <th>ycentr_lat</th>\n",
       "      <th>county_id_string</th>\n",
       "      <th>temp_district</th>\n",
       "      <th>num_switches</th>\n",
       "      <th>DISTRICT</th>\n",
       "    </tr>\n",
       "  </thead>\n",
       "  <tbody>\n",
       "    <tr>\n",
       "      <th>49</th>\n",
       "      <td>099</td>\n",
       "      <td>Jasper</td>\n",
       "      <td>POLYGON ((519437.635 4615176.061, 519437.991 4...</td>\n",
       "      <td>37813</td>\n",
       "      <td>49</td>\n",
       "      <td>495526.676875</td>\n",
       "      <td>4.614916e+06</td>\n",
       "      <td>49</td>\n",
       "      <td>49</td>\n",
       "      <td>2</td>\n",
       "      <td>1</td>\n",
       "    </tr>\n",
       "    <tr>\n",
       "      <th>78</th>\n",
       "      <td>157</td>\n",
       "      <td>Poweshiek</td>\n",
       "      <td>POLYGON ((548502.841 4634675.905, 548944.218 4...</td>\n",
       "      <td>18662</td>\n",
       "      <td>78</td>\n",
       "      <td>538993.297726</td>\n",
       "      <td>4.615060e+06</td>\n",
       "      <td>78</td>\n",
       "      <td>78</td>\n",
       "      <td>2</td>\n",
       "      <td>1</td>\n",
       "    </tr>\n",
       "  </tbody>\n",
       "</table>\n",
       "</div>"
      ],
      "text/plain": [
       "   COUNTYFP10     NAME10                                           geometry  \\\n",
       "49        099     Jasper  POLYGON ((519437.635 4615176.061, 519437.991 4...   \n",
       "78        157  Poweshiek  POLYGON ((548502.841 4634675.905, 548944.218 4...   \n",
       "\n",
       "    population  county_id     xcentr_lon    ycentr_lat county_id_string  \\\n",
       "49       37813         49  495526.676875  4.614916e+06               49   \n",
       "78       18662         78  538993.297726  4.615060e+06               78   \n",
       "\n",
       "    temp_district  num_switches DISTRICT  \n",
       "49             49             2        1  \n",
       "78             78             2        1  "
      ]
     },
     "execution_count": 43,
     "metadata": {},
     "output_type": "execute_result"
    }
   ],
   "source": [
    "shapef_counties_for_realloc.loc[shapef_counties_for_realloc['num_switches']>1]"
   ]
  },
  {
   "cell_type": "code",
   "execution_count": 71,
   "id": "52ddcd72",
   "metadata": {},
   "outputs": [
    {
     "data": {
      "text/plain": [
       "(717833, 877351)"
      ]
     },
     "execution_count": 71,
     "metadata": {},
     "output_type": "execute_result"
    }
   ],
   "source": [
    "ideal_district_size_func(state_population, n_districts, .1)"
   ]
  },
  {
   "cell_type": "code",
   "execution_count": 70,
   "id": "533c97ed",
   "metadata": {},
   "outputs": [
    {
     "data": {
      "text/html": [
       "<div>\n",
       "<style scoped>\n",
       "    .dataframe tbody tr th:only-of-type {\n",
       "        vertical-align: middle;\n",
       "    }\n",
       "\n",
       "    .dataframe tbody tr th {\n",
       "        vertical-align: top;\n",
       "    }\n",
       "\n",
       "    .dataframe thead th {\n",
       "        text-align: right;\n",
       "    }\n",
       "</style>\n",
       "<table border=\"1\" class=\"dataframe\">\n",
       "  <thead>\n",
       "    <tr style=\"text-align: right;\">\n",
       "      <th></th>\n",
       "      <th>geometry</th>\n",
       "      <th>population</th>\n",
       "      <th>xcentr_lon</th>\n",
       "      <th>ycentr_lat</th>\n",
       "      <th>DISTRICT</th>\n",
       "    </tr>\n",
       "  </thead>\n",
       "  <tbody>\n",
       "    <tr>\n",
       "      <th>0</th>\n",
       "      <td>MULTIPOLYGON (((413996.789 4491953.713, 413922...</td>\n",
       "      <td>747085</td>\n",
       "      <td>426357.727861</td>\n",
       "      <td>4.603750e+06</td>\n",
       "      <td>1</td>\n",
       "    </tr>\n",
       "    <tr>\n",
       "      <th>1</th>\n",
       "      <td>MULTIPOLYGON (((491768.136 4518326.458, 491768...</td>\n",
       "      <td>773604</td>\n",
       "      <td>567344.210080</td>\n",
       "      <td>4.557124e+06</td>\n",
       "      <td>2</td>\n",
       "    </tr>\n",
       "    <tr>\n",
       "      <th>2</th>\n",
       "      <td>POLYGON ((325806.753 4617405.526, 325806.847 4...</td>\n",
       "      <td>795104</td>\n",
       "      <td>377968.335208</td>\n",
       "      <td>4.728567e+06</td>\n",
       "      <td>3</td>\n",
       "    </tr>\n",
       "    <tr>\n",
       "      <th>3</th>\n",
       "      <td>POLYGON ((634870.057 4587002.443, 634846.066 4...</td>\n",
       "      <td>874576</td>\n",
       "      <td>651135.773646</td>\n",
       "      <td>4.676086e+06</td>\n",
       "      <td>4</td>\n",
       "    </tr>\n",
       "  </tbody>\n",
       "</table>\n",
       "</div>"
      ],
      "text/plain": [
       "                                            geometry  population  \\\n",
       "0  MULTIPOLYGON (((413996.789 4491953.713, 413922...      747085   \n",
       "1  MULTIPOLYGON (((491768.136 4518326.458, 491768...      773604   \n",
       "2  POLYGON ((325806.753 4617405.526, 325806.847 4...      795104   \n",
       "3  POLYGON ((634870.057 4587002.443, 634846.066 4...      874576   \n",
       "\n",
       "      xcentr_lon    ycentr_lat DISTRICT  \n",
       "0  426357.727861  4.603750e+06        1  \n",
       "1  567344.210080  4.557124e+06        2  \n",
       "2  377968.335208  4.728567e+06        3  \n",
       "3  651135.773646  4.676086e+06        4  "
      ]
     },
     "execution_count": 70,
     "metadata": {},
     "output_type": "execute_result"
    }
   ],
   "source": [
    "shapef_ia_redist"
   ]
  },
  {
   "cell_type": "code",
   "execution_count": 126,
   "id": "a4b7c6db",
   "metadata": {},
   "outputs": [
    {
     "data": {
      "text/html": [
       "<div>\n",
       "<style scoped>\n",
       "    .dataframe tbody tr th:only-of-type {\n",
       "        vertical-align: middle;\n",
       "    }\n",
       "\n",
       "    .dataframe tbody tr th {\n",
       "        vertical-align: top;\n",
       "    }\n",
       "\n",
       "    .dataframe thead th {\n",
       "        text-align: right;\n",
       "    }\n",
       "</style>\n",
       "<table border=\"1\" class=\"dataframe\">\n",
       "  <thead>\n",
       "    <tr style=\"text-align: right;\">\n",
       "      <th></th>\n",
       "      <th>COUNTYFP10</th>\n",
       "      <th>NAME10</th>\n",
       "      <th>geometry</th>\n",
       "      <th>population</th>\n",
       "      <th>county_id</th>\n",
       "      <th>xcentr_lon</th>\n",
       "      <th>ycentr_lat</th>\n",
       "      <th>county_id_string</th>\n",
       "      <th>temp_district</th>\n",
       "      <th>num_switches</th>\n",
       "      <th>DISTRICT</th>\n",
       "    </tr>\n",
       "  </thead>\n",
       "  <tbody>\n",
       "    <tr>\n",
       "      <th>36</th>\n",
       "      <td>073</td>\n",
       "      <td>Greene</td>\n",
       "      <td>POLYGON ((364955.036 4645564.668, 364958.141 4...</td>\n",
       "      <td>8771</td>\n",
       "      <td>36</td>\n",
       "      <td>384380.986817</td>\n",
       "      <td>4.654735e+06</td>\n",
       "      <td>36</td>\n",
       "      <td>36</td>\n",
       "      <td>1</td>\n",
       "      <td>3</td>\n",
       "    </tr>\n",
       "  </tbody>\n",
       "</table>\n",
       "</div>"
      ],
      "text/plain": [
       "   COUNTYFP10  NAME10                                           geometry  \\\n",
       "36        073  Greene  POLYGON ((364955.036 4645564.668, 364958.141 4...   \n",
       "\n",
       "    population  county_id     xcentr_lon    ycentr_lat county_id_string  \\\n",
       "36        8771         36  384380.986817  4.654735e+06               36   \n",
       "\n",
       "    temp_district  num_switches DISTRICT  \n",
       "36             36             1        3  "
      ]
     },
     "execution_count": 126,
     "metadata": {},
     "output_type": "execute_result"
    }
   ],
   "source": [
    "shapef_counties_for_realloc.loc[shapef_counties_for_realloc['county_id']==movingcounty_index]"
   ]
  },
  {
   "cell_type": "code",
   "execution_count": 121,
   "id": "27170b1a",
   "metadata": {},
   "outputs": [
    {
     "data": {
      "text/html": [
       "<div>\n",
       "<style scoped>\n",
       "    .dataframe tbody tr th:only-of-type {\n",
       "        vertical-align: middle;\n",
       "    }\n",
       "\n",
       "    .dataframe tbody tr th {\n",
       "        vertical-align: top;\n",
       "    }\n",
       "\n",
       "    .dataframe thead th {\n",
       "        text-align: right;\n",
       "    }\n",
       "</style>\n",
       "<table border=\"1\" class=\"dataframe\">\n",
       "  <thead>\n",
       "    <tr style=\"text-align: right;\">\n",
       "      <th></th>\n",
       "      <th>geometry</th>\n",
       "      <th>population</th>\n",
       "      <th>xcentr_lon</th>\n",
       "      <th>ycentr_lat</th>\n",
       "      <th>DISTRICT</th>\n",
       "    </tr>\n",
       "  </thead>\n",
       "  <tbody>\n",
       "    <tr>\n",
       "      <th>0</th>\n",
       "      <td>POLYGON ((347722.464 4557927.937, 347713.169 4...</td>\n",
       "      <td>133122</td>\n",
       "      <td>296454.715195</td>\n",
       "      <td>4.596624e+06</td>\n",
       "      <td>1</td>\n",
       "    </tr>\n",
       "    <tr>\n",
       "      <th>1</th>\n",
       "      <td>POLYGON ((530640.900 4493402.478, 530528.621 4...</td>\n",
       "      <td>412348</td>\n",
       "      <td>421801.425712</td>\n",
       "      <td>4.546914e+06</td>\n",
       "      <td>2</td>\n",
       "    </tr>\n",
       "    <tr>\n",
       "      <th>2</th>\n",
       "      <td>POLYGON ((325801.578 4617291.999, 325803.323 4...</td>\n",
       "      <td>394730</td>\n",
       "      <td>310917.307227</td>\n",
       "      <td>4.732490e+06</td>\n",
       "      <td>3</td>\n",
       "    </tr>\n",
       "    <tr>\n",
       "      <th>3</th>\n",
       "      <td>POLYGON ((659475.197 4506757.653, 659405.803 4...</td>\n",
       "      <td>2250169</td>\n",
       "      <td>558428.607582</td>\n",
       "      <td>4.675692e+06</td>\n",
       "      <td>4</td>\n",
       "    </tr>\n",
       "  </tbody>\n",
       "</table>\n",
       "</div>"
      ],
      "text/plain": [
       "                                            geometry  population  \\\n",
       "0  POLYGON ((347722.464 4557927.937, 347713.169 4...      133122   \n",
       "1  POLYGON ((530640.900 4493402.478, 530528.621 4...      412348   \n",
       "2  POLYGON ((325801.578 4617291.999, 325803.323 4...      394730   \n",
       "3  POLYGON ((659475.197 4506757.653, 659405.803 4...     2250169   \n",
       "\n",
       "      xcentr_lon    ycentr_lat DISTRICT  \n",
       "0  296454.715195  4.596624e+06        1  \n",
       "1  421801.425712  4.546914e+06        2  \n",
       "2  310917.307227  4.732490e+06        3  \n",
       "3  558428.607582  4.675692e+06        4  "
      ]
     },
     "execution_count": 121,
     "metadata": {},
     "output_type": "execute_result"
    }
   ],
   "source": [
    "# new 4 row geodataframe with humboldt having moved from district 4 to district 3\n",
    "shapef_newdissolved_temp = dissolve_by_district(shapef_counties_for_realloc)\n",
    "shapef_newdissolved_temp"
   ]
  },
  {
   "attachments": {},
   "cell_type": "markdown",
   "id": "9448e034",
   "metadata": {},
   "source": [
    "### visualizations"
   ]
  },
  {
   "cell_type": "code",
   "execution_count": 46,
   "id": "be5296a6",
   "metadata": {},
   "outputs": [
    {
     "data": {
      "image/png": "[encoded data removed]",
      "text/plain": [
       "<Figure size 640x480 with 1 Axes>"
      ]
     },
     "metadata": {},
     "output_type": "display_data"
    },
    {
     "data": {
      "text/plain": [
       "<ggplot: (365375230)>"
      ]
     },
     "execution_count": 46,
     "metadata": {},
     "output_type": "execute_result"
    }
   ],
   "source": [
    "#this gives an example of output of map_unmerged_districts\n",
    "map_unmerged_districts(list_of_counties[1],'NAME10')"
   ]
  },
  {
   "cell_type": "code",
   "execution_count": 72,
   "id": "cd106e2f",
   "metadata": {},
   "outputs": [
    {
     "data": {
      "image/png": "[encoded data removed]",
      "text/plain": [
       "<Figure size 640x480 with 1 Axes>"
      ]
     },
     "metadata": {},
     "output_type": "display_data"
    },
    {
     "data": {
      "text/plain": [
       "<ggplot: (366685178)>"
      ]
     },
     "execution_count": 72,
     "metadata": {},
     "output_type": "execute_result"
    }
   ],
   "source": [
    "map_merged_districts(shapef_ia_redist,'DISTRICT')"
   ]
  },
  {
   "attachments": {},
   "cell_type": "markdown",
   "id": "74af297e",
   "metadata": {},
   "source": [
    "## Chen's algorithm for reallocation"
   ]
  },
  {
   "attachments": {},
   "cell_type": "markdown",
   "id": "6fe3ed4e",
   "metadata": {},
   "source": [
    "From Chen's paper:\n",
    "\n",
    "(3a) Among all pairs of districts that border one another, identify the pair with the greatest disparity in district population. Within this pair,\n",
    "let us denote the more populated district as $i$ and the less populated district as $j$.\n",
    "\n",
    "(3b) Identify the set of all precincts currently within district $i$ that could be reassigned to district $j$ without violating the geographic contiguity of either district $i$ or $j$.\n",
    "\n",
    "(3c) For each precinct $p$ satisfying the criterion in step 3b, define $D_p$ as precinct $p$’s geographic distance to the centroid of district $i$, minus\n",
    "precinct $p$’s distance to the centroid of district $j$.\n",
    "\n",
    "(3d) Among the set of precincts satisfying the criteria in step 3b, select the precinct, $p$, with the highest value of Dp . Reassign this precinct from\n",
    "district $i$ to district $j$."
   ]
  }
 ],
 "metadata": {
  "kernelspec": {
   "display_name": "myenv",
   "language": "python",
   "name": "python3"
  },
  "language_info": {
   "codemirror_mode": {
    "name": "ipython",
    "version": 3
   },
   "file_extension": ".py",
   "mimetype": "text/x-python",
   "name": "python",
   "nbconvert_exporter": "python",
   "pygments_lexer": "ipython3",
   "version": "3.10.4"
  },
  "vscode": {
   "interpreter": {
    "hash": "857970f990130bbcaee778cf1846f7875676d945310dca1379fe4b5ef3d258a5"
   }
  }
 },
 "nbformat": 4,
 "nbformat_minor": 5
}
