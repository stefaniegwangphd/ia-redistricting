{
 "cells": [
  {
   "attachments": {},
   "cell_type": "markdown",
   "id": "794a648a",
   "metadata": {},
   "source": [
    "This is the main notebook where we will redistrict Iowa."
   ]
  },
  {
   "cell_type": "code",
   "execution_count": 1,
   "id": "77f457be",
   "metadata": {},
   "outputs": [],
   "source": [
    "import numpy as np\n",
    "import pandas as pd\n",
    "import geopandas as gpd\n",
    "import seaborn as sns\n",
    "from PIL import Image, ImageOps\n",
    "from plotnine import (ggplot, aes, geom_map, geom_text, geom_label, \n",
    "                      ggtitle, element_blank, element_rect, \n",
    "                      scale_fill_manual, theme_minimal, theme) \n",
    "from pulp import (LpProblem, LpMinimize, LpVariable, lpSum, \n",
    "                  PULP_CBC_CMD, GLPK_CMD, LpStatus, value) "
   ]
  },
  {
   "attachments": {},
   "cell_type": "markdown",
   "id": "1f03496d",
   "metadata": {},
   "source": [
    "# Prepping the census and geopandas dataframes"
   ]
  },
  {
   "cell_type": "code",
   "execution_count": 2,
   "id": "21899131",
   "metadata": {},
   "outputs": [
    {
     "data": {
      "text/html": [
       "<div>\n",
       "<style scoped>\n",
       "    .dataframe tbody tr th:only-of-type {\n",
       "        vertical-align: middle;\n",
       "    }\n",
       "\n",
       "    .dataframe tbody tr th {\n",
       "        vertical-align: top;\n",
       "    }\n",
       "\n",
       "    .dataframe thead th {\n",
       "        text-align: right;\n",
       "    }\n",
       "</style>\n",
       "<table border=\"1\" class=\"dataframe\">\n",
       "  <thead>\n",
       "    <tr style=\"text-align: right;\">\n",
       "      <th></th>\n",
       "      <th>county_id</th>\n",
       "      <th>county</th>\n",
       "      <th>population</th>\n",
       "      <th>COUNTYFP10</th>\n",
       "      <th>latitude</th>\n",
       "      <th>longitude</th>\n",
       "    </tr>\n",
       "  </thead>\n",
       "  <tbody>\n",
       "    <tr>\n",
       "      <th>0</th>\n",
       "      <td>0</td>\n",
       "      <td>Adair</td>\n",
       "      <td>7496</td>\n",
       "      <td>1</td>\n",
       "      <td>41.328528</td>\n",
       "      <td>-94.478164</td>\n",
       "    </tr>\n",
       "    <tr>\n",
       "      <th>1</th>\n",
       "      <td>1</td>\n",
       "      <td>Adams</td>\n",
       "      <td>3704</td>\n",
       "      <td>3</td>\n",
       "      <td>41.021656</td>\n",
       "      <td>-94.696906</td>\n",
       "    </tr>\n",
       "    <tr>\n",
       "      <th>2</th>\n",
       "      <td>2</td>\n",
       "      <td>Allamakee</td>\n",
       "      <td>14061</td>\n",
       "      <td>5</td>\n",
       "      <td>43.274964</td>\n",
       "      <td>-91.382751</td>\n",
       "    </tr>\n",
       "    <tr>\n",
       "      <th>3</th>\n",
       "      <td>3</td>\n",
       "      <td>Appanoose</td>\n",
       "      <td>12317</td>\n",
       "      <td>7</td>\n",
       "      <td>40.744683</td>\n",
       "      <td>-92.870345</td>\n",
       "    </tr>\n",
       "    <tr>\n",
       "      <th>4</th>\n",
       "      <td>4</td>\n",
       "      <td>Audubon</td>\n",
       "      <td>5674</td>\n",
       "      <td>9</td>\n",
       "      <td>41.679178</td>\n",
       "      <td>-94.904312</td>\n",
       "    </tr>\n",
       "  </tbody>\n",
       "</table>\n",
       "</div>"
      ],
      "text/plain": [
       "   county_id      county  population  COUNTYFP10   latitude  longitude\n",
       "0          0      Adair         7496           1  41.328528 -94.478164\n",
       "1          1      Adams         3704           3  41.021656 -94.696906\n",
       "2          2  Allamakee        14061           5  43.274964 -91.382751\n",
       "3          3  Appanoose        12317           7  40.744683 -92.870345\n",
       "4          4    Audubon         5674           9  41.679178 -94.904312"
      ]
     },
     "execution_count": 2,
     "metadata": {},
     "output_type": "execute_result"
    }
   ],
   "source": [
    "df=pd.read_csv('census.csv')\n",
    "df.head()"
   ]
  },
  {
   "cell_type": "code",
   "execution_count": 3,
   "id": "f08fe179",
   "metadata": {},
   "outputs": [],
   "source": [
    "df['COUNTYFP10']=df['COUNTYFP10'].astype(str).str.pad(3,fillchar='0')"
   ]
  },
  {
   "cell_type": "code",
   "execution_count": 4,
   "id": "84647dc1",
   "metadata": {},
   "outputs": [
    {
     "name": "stdout",
     "output_type": "stream",
     "text": [
      "<class 'pandas.core.frame.DataFrame'>\n",
      "RangeIndex: 99 entries, 0 to 98\n",
      "Data columns (total 6 columns):\n",
      " #   Column      Non-Null Count  Dtype  \n",
      "---  ------      --------------  -----  \n",
      " 0   county_id   99 non-null     int64  \n",
      " 1   county      99 non-null     object \n",
      " 2   population  99 non-null     int64  \n",
      " 3   COUNTYFP10  99 non-null     object \n",
      " 4   latitude    99 non-null     float64\n",
      " 5   longitude   99 non-null     float64\n",
      "dtypes: float64(2), int64(2), object(2)\n",
      "memory usage: 4.8+ KB\n"
     ]
    }
   ],
   "source": [
    "df.info()"
   ]
  },
  {
   "cell_type": "code",
   "execution_count": 5,
   "id": "3715462b",
   "metadata": {},
   "outputs": [
    {
     "data": {
      "text/html": [
       "<div>\n",
       "<style scoped>\n",
       "    .dataframe tbody tr th:only-of-type {\n",
       "        vertical-align: middle;\n",
       "    }\n",
       "\n",
       "    .dataframe tbody tr th {\n",
       "        vertical-align: top;\n",
       "    }\n",
       "\n",
       "    .dataframe thead th {\n",
       "        text-align: right;\n",
       "    }\n",
       "</style>\n",
       "<table border=\"1\" class=\"dataframe\">\n",
       "  <thead>\n",
       "    <tr style=\"text-align: right;\">\n",
       "      <th></th>\n",
       "      <th>STATEFP10</th>\n",
       "      <th>COUNTYFP10</th>\n",
       "      <th>GEOID10</th>\n",
       "      <th>NAME10</th>\n",
       "      <th>NAMELSAD10</th>\n",
       "      <th>ALAND10</th>\n",
       "      <th>AWATER10</th>\n",
       "      <th>INTPTLAT10</th>\n",
       "      <th>INTPTLON10</th>\n",
       "      <th>TOTPOP</th>\n",
       "      <th>...</th>\n",
       "      <th>TOTVOT12</th>\n",
       "      <th>PRES12D</th>\n",
       "      <th>PRES12R</th>\n",
       "      <th>PRES12OTH</th>\n",
       "      <th>TOTVOT16</th>\n",
       "      <th>PRES16D</th>\n",
       "      <th>PRES16R</th>\n",
       "      <th>PRES16OTH</th>\n",
       "      <th>CD</th>\n",
       "      <th>geometry</th>\n",
       "    </tr>\n",
       "  </thead>\n",
       "  <tbody>\n",
       "    <tr>\n",
       "      <th>0</th>\n",
       "      <td>19</td>\n",
       "      <td>001</td>\n",
       "      <td>19001</td>\n",
       "      <td>Adair</td>\n",
       "      <td>Adair County</td>\n",
       "      <td>1474404167</td>\n",
       "      <td>2597997</td>\n",
       "      <td>+41.3285283</td>\n",
       "      <td>-094.4781643</td>\n",
       "      <td>7682</td>\n",
       "      <td>...</td>\n",
       "      <td>3996</td>\n",
       "      <td>1790</td>\n",
       "      <td>2114</td>\n",
       "      <td>92</td>\n",
       "      <td>3811</td>\n",
       "      <td>1133</td>\n",
       "      <td>2461</td>\n",
       "      <td>217</td>\n",
       "      <td>3</td>\n",
       "      <td>POLYGON ((-94.35706 41.15745, -94.35992 41.157...</td>\n",
       "    </tr>\n",
       "    <tr>\n",
       "      <th>1</th>\n",
       "      <td>19</td>\n",
       "      <td>003</td>\n",
       "      <td>19003</td>\n",
       "      <td>Adams</td>\n",
       "      <td>Adams County</td>\n",
       "      <td>1096700733</td>\n",
       "      <td>5353423</td>\n",
       "      <td>+41.0216555</td>\n",
       "      <td>-094.6969059</td>\n",
       "      <td>4029</td>\n",
       "      <td>...</td>\n",
       "      <td>2185</td>\n",
       "      <td>1028</td>\n",
       "      <td>1108</td>\n",
       "      <td>49</td>\n",
       "      <td>2106</td>\n",
       "      <td>565</td>\n",
       "      <td>1395</td>\n",
       "      <td>146</td>\n",
       "      <td>3</td>\n",
       "      <td>POLYGON ((-94.81495 41.15839, -94.81268 41.158...</td>\n",
       "    </tr>\n",
       "    <tr>\n",
       "      <th>2</th>\n",
       "      <td>19</td>\n",
       "      <td>005</td>\n",
       "      <td>19005</td>\n",
       "      <td>Allamakee</td>\n",
       "      <td>Allamakee County</td>\n",
       "      <td>1655214493</td>\n",
       "      <td>50995230</td>\n",
       "      <td>+43.2749637</td>\n",
       "      <td>-091.3827510</td>\n",
       "      <td>14330</td>\n",
       "      <td>...</td>\n",
       "      <td>6934</td>\n",
       "      <td>3553</td>\n",
       "      <td>3264</td>\n",
       "      <td>117</td>\n",
       "      <td>6923</td>\n",
       "      <td>2421</td>\n",
       "      <td>4093</td>\n",
       "      <td>409</td>\n",
       "      <td>1</td>\n",
       "      <td>POLYGON ((-91.49104 43.50071, -91.49061 43.500...</td>\n",
       "    </tr>\n",
       "    <tr>\n",
       "      <th>3</th>\n",
       "      <td>19</td>\n",
       "      <td>007</td>\n",
       "      <td>19007</td>\n",
       "      <td>Appanoose</td>\n",
       "      <td>Appanoose County</td>\n",
       "      <td>1287981483</td>\n",
       "      <td>49083877</td>\n",
       "      <td>+40.7446826</td>\n",
       "      <td>-092.8703450</td>\n",
       "      <td>12887</td>\n",
       "      <td>...</td>\n",
       "      <td>6245</td>\n",
       "      <td>2951</td>\n",
       "      <td>3161</td>\n",
       "      <td>133</td>\n",
       "      <td>6136</td>\n",
       "      <td>1814</td>\n",
       "      <td>4033</td>\n",
       "      <td>289</td>\n",
       "      <td>2</td>\n",
       "      <td>POLYGON ((-93.09762 40.81197, -93.09761 40.812...</td>\n",
       "    </tr>\n",
       "    <tr>\n",
       "      <th>4</th>\n",
       "      <td>19</td>\n",
       "      <td>009</td>\n",
       "      <td>19009</td>\n",
       "      <td>Audubon</td>\n",
       "      <td>Audubon County</td>\n",
       "      <td>1147264459</td>\n",
       "      <td>1152260</td>\n",
       "      <td>+41.6791780</td>\n",
       "      <td>-094.9043119</td>\n",
       "      <td>6119</td>\n",
       "      <td>...</td>\n",
       "      <td>3457</td>\n",
       "      <td>1611</td>\n",
       "      <td>1802</td>\n",
       "      <td>44</td>\n",
       "      <td>3412</td>\n",
       "      <td>1080</td>\n",
       "      <td>2136</td>\n",
       "      <td>196</td>\n",
       "      <td>4</td>\n",
       "      <td>POLYGON ((-95.09316 41.68835, -95.09314 41.688...</td>\n",
       "    </tr>\n",
       "  </tbody>\n",
       "</table>\n",
       "<p>5 rows × 57 columns</p>\n",
       "</div>"
      ],
      "text/plain": [
       "  STATEFP10 COUNTYFP10  GEOID10     NAME10        NAMELSAD10     ALAND10  \\\n",
       "0        19        001    19001      Adair      Adair County  1474404167   \n",
       "1        19        003    19003      Adams      Adams County  1096700733   \n",
       "2        19        005    19005  Allamakee  Allamakee County  1655214493   \n",
       "3        19        007    19007  Appanoose  Appanoose County  1287981483   \n",
       "4        19        009    19009    Audubon    Audubon County  1147264459   \n",
       "\n",
       "   AWATER10   INTPTLAT10    INTPTLON10  TOTPOP  ...  TOTVOT12  PRES12D  \\\n",
       "0   2597997  +41.3285283  -094.4781643    7682  ...      3996     1790   \n",
       "1   5353423  +41.0216555  -094.6969059    4029  ...      2185     1028   \n",
       "2  50995230  +43.2749637  -091.3827510   14330  ...      6934     3553   \n",
       "3  49083877  +40.7446826  -092.8703450   12887  ...      6245     2951   \n",
       "4   1152260  +41.6791780  -094.9043119    6119  ...      3457     1611   \n",
       "\n",
       "   PRES12R  PRES12OTH  TOTVOT16  PRES16D  PRES16R  PRES16OTH  CD  \\\n",
       "0     2114         92      3811     1133     2461        217   3   \n",
       "1     1108         49      2106      565     1395        146   3   \n",
       "2     3264        117      6923     2421     4093        409   1   \n",
       "3     3161        133      6136     1814     4033        289   2   \n",
       "4     1802         44      3412     1080     2136        196   4   \n",
       "\n",
       "                                            geometry  \n",
       "0  POLYGON ((-94.35706 41.15745, -94.35992 41.157...  \n",
       "1  POLYGON ((-94.81495 41.15839, -94.81268 41.158...  \n",
       "2  POLYGON ((-91.49104 43.50071, -91.49061 43.500...  \n",
       "3  POLYGON ((-93.09762 40.81197, -93.09761 40.812...  \n",
       "4  POLYGON ((-95.09316 41.68835, -95.09314 41.688...  \n",
       "\n",
       "[5 rows x 57 columns]"
      ]
     },
     "execution_count": 5,
     "metadata": {},
     "output_type": "execute_result"
    }
   ],
   "source": [
    "#imports county shapefiles from MGGG\n",
    "shapefile_iowa = gpd.read_file('IA_counties/IA_counties.shp')\n",
    "# shapefile_iowa.head()\n",
    "\n",
    "### Fix alphabetization stuff now, not later!\n",
    "shapefile_iowa=shapefile_iowa.sort_values('NAME10',ignore_index=True).copy()\n",
    "shapefile_iowa.head()"
   ]
  },
  {
   "attachments": {},
   "cell_type": "markdown",
   "id": "be2a11d2",
   "metadata": {},
   "source": [
    "# Merging pd and gpd dataframes and creating population heat map"
   ]
  },
  {
   "attachments": {},
   "cell_type": "markdown",
   "id": "dd865033",
   "metadata": {},
   "source": [
    "## Prepping the data"
   ]
  },
  {
   "cell_type": "code",
   "execution_count": 6,
   "id": "bf1c9f02",
   "metadata": {},
   "outputs": [
    {
     "data": {
      "text/html": [
       "<div>\n",
       "<style scoped>\n",
       "    .dataframe tbody tr th:only-of-type {\n",
       "        vertical-align: middle;\n",
       "    }\n",
       "\n",
       "    .dataframe tbody tr th {\n",
       "        vertical-align: top;\n",
       "    }\n",
       "\n",
       "    .dataframe thead th {\n",
       "        text-align: right;\n",
       "    }\n",
       "</style>\n",
       "<table border=\"1\" class=\"dataframe\">\n",
       "  <thead>\n",
       "    <tr style=\"text-align: right;\">\n",
       "      <th></th>\n",
       "      <th>county_id</th>\n",
       "      <th>county</th>\n",
       "      <th>population</th>\n",
       "      <th>COUNTYFP10</th>\n",
       "      <th>latitude</th>\n",
       "      <th>longitude</th>\n",
       "    </tr>\n",
       "  </thead>\n",
       "  <tbody>\n",
       "    <tr>\n",
       "      <th>76</th>\n",
       "      <td>76</td>\n",
       "      <td>Polk</td>\n",
       "      <td>492401</td>\n",
       "      <td>153</td>\n",
       "      <td>41.684281</td>\n",
       "      <td>-93.569720</td>\n",
       "    </tr>\n",
       "    <tr>\n",
       "      <th>56</th>\n",
       "      <td>56</td>\n",
       "      <td>Linn</td>\n",
       "      <td>230299</td>\n",
       "      <td>113</td>\n",
       "      <td>42.077951</td>\n",
       "      <td>-91.597673</td>\n",
       "    </tr>\n",
       "    <tr>\n",
       "      <th>81</th>\n",
       "      <td>81</td>\n",
       "      <td>Scott</td>\n",
       "      <td>174669</td>\n",
       "      <td>163</td>\n",
       "      <td>41.641679</td>\n",
       "      <td>-90.622290</td>\n",
       "    </tr>\n",
       "    <tr>\n",
       "      <th>51</th>\n",
       "      <td>51</td>\n",
       "      <td>Johnson</td>\n",
       "      <td>152854</td>\n",
       "      <td>103</td>\n",
       "      <td>41.668737</td>\n",
       "      <td>-91.588812</td>\n",
       "    </tr>\n",
       "    <tr>\n",
       "      <th>6</th>\n",
       "      <td>6</td>\n",
       "      <td>Black Hawk</td>\n",
       "      <td>131144</td>\n",
       "      <td>013</td>\n",
       "      <td>42.472888</td>\n",
       "      <td>-92.306059</td>\n",
       "    </tr>\n",
       "  </tbody>\n",
       "</table>\n",
       "</div>"
      ],
      "text/plain": [
       "    county_id       county  population COUNTYFP10   latitude  longitude\n",
       "76         76        Polk       492401        153  41.684281 -93.569720\n",
       "56         56        Linn       230299        113  42.077951 -91.597673\n",
       "81         81       Scott       174669        163  41.641679 -90.622290\n",
       "51         51     Johnson       152854        103  41.668737 -91.588812\n",
       "6           6  Black Hawk       131144        013  42.472888 -92.306059"
      ]
     },
     "execution_count": 6,
     "metadata": {},
     "output_type": "execute_result"
    }
   ],
   "source": [
    "map_population_by_county_data = shapefile_iowa.merge(df, on='COUNTYFP10')\n",
    "county_populations = np.array(df['population'])\n",
    "state_population = sum(county_populations)\n",
    "df.sort_values('population', ascending=False).head()"
   ]
  },
  {
   "cell_type": "code",
   "execution_count": 7,
   "id": "ef50d41d",
   "metadata": {},
   "outputs": [
    {
     "data": {
      "image/png": "[encoded data removed]",
      "text/plain": [
       "<Figure size 640x480 with 1 Axes>"
      ]
     },
     "metadata": {},
     "output_type": "display_data"
    },
    {
     "data": {
      "text/plain": [
       "<ggplot: (8785319529825)>"
      ]
     },
     "execution_count": 7,
     "metadata": {},
     "output_type": "execute_result"
    }
   ],
   "source": [
    "map_population_by_county = (\n",
    "    ggplot(map_population_by_county_data)\n",
    "    + geom_map(aes(fill='population'))\n",
    "    + geom_label(aes(x='longitude', y='latitude', \n",
    "                     label='NAME10',size=2), \n",
    "                 show_legend=False)\n",
    "    + theme_minimal()\n",
    "    + theme(axis_text_x=element_blank(),\n",
    "            axis_text_y=element_blank(),\n",
    "            axis_title_x=element_blank(),\n",
    "            axis_title_y=element_blank(),\n",
    "            axis_ticks=element_blank(),\n",
    "            panel_grid_major=element_blank(),\n",
    "            panel_grid_minor=element_blank()\n",
    "           )\n",
    "    )\n",
    "map_population_by_county"
   ]
  },
  {
   "attachments": {},
   "cell_type": "markdown",
   "id": "330c379d",
   "metadata": {},
   "source": [
    "## Population heat map for Iowa"
   ]
  },
  {
   "cell_type": "code",
   "execution_count": 8,
   "id": "5bec4f73",
   "metadata": {},
   "outputs": [
    {
     "data": {
      "image/png": "[encoded data removed]",
      "text/plain": [
       "<Figure size 640x480 with 1 Axes>"
      ]
     },
     "metadata": {},
     "output_type": "display_data"
    },
    {
     "data": {
      "text/plain": [
       "<ggplot: (8785316479922)>"
      ]
     },
     "execution_count": 8,
     "metadata": {},
     "output_type": "execute_result"
    }
   ],
   "source": [
    "map_by_county_id = (\n",
    "    ggplot(map_population_by_county_data)\n",
    "    + geom_map(aes(fill='population'))\n",
    "    + geom_label(aes(x='longitude', y='latitude', \n",
    "                     label='county_id',size=2), \n",
    "                 show_legend=False)\n",
    "    + theme_minimal()\n",
    "    + theme(axis_text_x=element_blank(),\n",
    "            axis_text_y=element_blank(),\n",
    "            axis_title_x=element_blank(),\n",
    "            axis_title_y=element_blank(),\n",
    "            axis_ticks=element_blank(),\n",
    "            panel_grid_major=element_blank(),\n",
    "            panel_grid_minor=element_blank()\n",
    "           )\n",
    "    )\n",
    "map_by_county_id"
   ]
  },
  {
   "attachments": {},
   "cell_type": "markdown",
   "id": "90879e72",
   "metadata": {},
   "source": [
    "# SUBSET OF COUNTIES!"
   ]
  },
  {
   "attachments": {},
   "cell_type": "markdown",
   "id": "ab150741",
   "metadata": {},
   "source": [
    "\n",
    "30, 48, 22, 81\n",
    "27, 52, 15, 60\n",
    "56, 51"
   ]
  },
  {
   "cell_type": "code",
   "execution_count": 9,
   "id": "9b511be0",
   "metadata": {},
   "outputs": [
    {
     "data": {
      "text/plain": [
       "Index(['STATEFP10', 'COUNTYFP10', 'GEOID10', 'NAME10', 'NAMELSAD10', 'ALAND10',\n",
       "       'AWATER10', 'INTPTLAT10', 'INTPTLON10', 'TOTPOP', 'NH_WHITE',\n",
       "       'NH_BLACK', 'NH_AMIN', 'NH_ASIAN', 'NH_NHPI', 'NH_OTHER', 'NH_2MORE',\n",
       "       'HISP', 'H_WHITE', 'H_BLACK', 'H_AMIN', 'H_ASIAN', 'N_NHPI', 'H_OTHER',\n",
       "       'H_2MORE', 'VAP', 'HVAP', 'WVAP', 'BVAP', 'AMINVAP', 'ASIANVAP',\n",
       "       'NHPIVAP', 'OTHERVAP', '2MOREVAP', 'TOTVOT00', 'PRES00D', 'PRES00R',\n",
       "       'PRES00G', 'PRES00OTH', 'TOTVOT04', 'PRES04D', 'PRES04R', 'PRES04OTH',\n",
       "       'TOTVOT08', 'PRES08D', 'PRES08R', 'PRES08OTH', 'TOTVOT12', 'PRES12D',\n",
       "       'PRES12R', 'PRES12OTH', 'TOTVOT16', 'PRES16D', 'PRES16R', 'PRES16OTH',\n",
       "       'CD', 'geometry'],\n",
       "      dtype='object')"
      ]
     },
     "execution_count": 9,
     "metadata": {},
     "output_type": "execute_result"
    }
   ],
   "source": [
    "shapefile_iowa.columns"
   ]
  },
  {
   "cell_type": "code",
   "execution_count": 10,
   "id": "b1767a1c",
   "metadata": {},
   "outputs": [],
   "source": [
    "SpecialCols = ['STATEFP10', 'COUNTYFP10', 'GEOID10', 'NAME10', 'NAMELSAD10', 'ALAND10',\n",
    "       'AWATER10', 'INTPTLAT10', 'INTPTLON10', 'TOTPOP', \n",
    "       'CD', 'geometry']"
   ]
  },
  {
   "cell_type": "code",
   "execution_count": 11,
   "id": "3a2f8788",
   "metadata": {},
   "outputs": [],
   "source": [
    "shapefile_iowa = shapefile_iowa[SpecialCols]"
   ]
  },
  {
   "cell_type": "code",
   "execution_count": 12,
   "id": "885a9864",
   "metadata": {},
   "outputs": [],
   "source": [
    "# just pick out 10 specified counties (in \"nose\")\n",
    "shapefile_subState = shapefile_iowa.iloc[[30, 48, 22, 81, 27, 52, 15, 69,56, 51]].copy()\n",
    "\n",
    "#order dataframe by index\n",
    "shapefile_subState = shapefile_subState.sort_index().copy()"
   ]
  },
  {
   "cell_type": "code",
   "execution_count": 13,
   "id": "4cb3bec4",
   "metadata": {},
   "outputs": [],
   "source": [
    "# mapPop_subState_data = shapefile_subState.merge(df, on='COUNTYFP10')\n",
    "shapefile_subState = shapefile_subState.merge(df, on='COUNTYFP10')\n",
    "county_pops_subState = np.array(shapefile_subState['population'])\n",
    "subState_pop = sum(county_pops_subState)"
   ]
  },
  {
   "cell_type": "code",
   "execution_count": 14,
   "id": "c7add889",
   "metadata": {},
   "outputs": [
    {
     "data": {
      "text/plain": [
       "array([ 18505,  46460,  17488,  99266,  19485, 152854,  20646, 230299,\n",
       "        43235, 174669])"
      ]
     },
     "execution_count": 14,
     "metadata": {},
     "output_type": "execute_result"
    }
   ],
   "source": [
    "county_pops_subState"
   ]
  },
  {
   "cell_type": "code",
   "execution_count": 15,
   "id": "58df74e6",
   "metadata": {},
   "outputs": [],
   "source": [
    "# shapefile_subState"
   ]
  },
  {
   "cell_type": "code",
   "execution_count": 16,
   "id": "bfbcf77e",
   "metadata": {},
   "outputs": [
    {
     "data": {
      "text/html": [
       "<div>\n",
       "<style scoped>\n",
       "    .dataframe tbody tr th:only-of-type {\n",
       "        vertical-align: middle;\n",
       "    }\n",
       "\n",
       "    .dataframe tbody tr th {\n",
       "        vertical-align: top;\n",
       "    }\n",
       "\n",
       "    .dataframe thead th {\n",
       "        text-align: right;\n",
       "    }\n",
       "</style>\n",
       "<table border=\"1\" class=\"dataframe\">\n",
       "  <thead>\n",
       "    <tr style=\"text-align: right;\">\n",
       "      <th></th>\n",
       "      <th>NAME10</th>\n",
       "      <th>county_id</th>\n",
       "      <th>population</th>\n",
       "    </tr>\n",
       "  </thead>\n",
       "  <tbody>\n",
       "    <tr>\n",
       "      <th>0</th>\n",
       "      <td>Cedar</td>\n",
       "      <td>15</td>\n",
       "      <td>18505</td>\n",
       "    </tr>\n",
       "    <tr>\n",
       "      <th>1</th>\n",
       "      <td>Clinton</td>\n",
       "      <td>22</td>\n",
       "      <td>46460</td>\n",
       "    </tr>\n",
       "    <tr>\n",
       "      <th>2</th>\n",
       "      <td>Delaware</td>\n",
       "      <td>27</td>\n",
       "      <td>17488</td>\n",
       "    </tr>\n",
       "    <tr>\n",
       "      <th>3</th>\n",
       "      <td>Dubuque</td>\n",
       "      <td>30</td>\n",
       "      <td>99266</td>\n",
       "    </tr>\n",
       "    <tr>\n",
       "      <th>4</th>\n",
       "      <td>Jackson</td>\n",
       "      <td>48</td>\n",
       "      <td>19485</td>\n",
       "    </tr>\n",
       "    <tr>\n",
       "      <th>5</th>\n",
       "      <td>Johnson</td>\n",
       "      <td>51</td>\n",
       "      <td>152854</td>\n",
       "    </tr>\n",
       "    <tr>\n",
       "      <th>6</th>\n",
       "      <td>Jones</td>\n",
       "      <td>52</td>\n",
       "      <td>20646</td>\n",
       "    </tr>\n",
       "    <tr>\n",
       "      <th>7</th>\n",
       "      <td>Linn</td>\n",
       "      <td>56</td>\n",
       "      <td>230299</td>\n",
       "    </tr>\n",
       "    <tr>\n",
       "      <th>8</th>\n",
       "      <td>Muscatine</td>\n",
       "      <td>69</td>\n",
       "      <td>43235</td>\n",
       "    </tr>\n",
       "    <tr>\n",
       "      <th>9</th>\n",
       "      <td>Scott</td>\n",
       "      <td>81</td>\n",
       "      <td>174669</td>\n",
       "    </tr>\n",
       "  </tbody>\n",
       "</table>\n",
       "</div>"
      ],
      "text/plain": [
       "      NAME10  county_id  population\n",
       "0      Cedar         15       18505\n",
       "1    Clinton         22       46460\n",
       "2   Delaware         27       17488\n",
       "3    Dubuque         30       99266\n",
       "4    Jackson         48       19485\n",
       "5    Johnson         51      152854\n",
       "6      Jones         52       20646\n",
       "7       Linn         56      230299\n",
       "8  Muscatine         69       43235\n",
       "9      Scott         81      174669"
      ]
     },
     "execution_count": 16,
     "metadata": {},
     "output_type": "execute_result"
    }
   ],
   "source": [
    "shapefile_subState[['NAME10','county_id','population']]"
   ]
  },
  {
   "cell_type": "code",
   "execution_count": 17,
   "id": "4eb03e09",
   "metadata": {},
   "outputs": [
    {
     "data": {
      "image/png": "[encoded data removed]",
      "text/plain": [
       "<Figure size 640x480 with 1 Axes>"
      ]
     },
     "metadata": {},
     "output_type": "display_data"
    },
    {
     "data": {
      "text/plain": [
       "<ggplot: (8785316394051)>"
      ]
     },
     "execution_count": 17,
     "metadata": {},
     "output_type": "execute_result"
    }
   ],
   "source": [
    "mapPop_subState = (\n",
    "    ggplot(shapefile_subState)\n",
    "    + geom_map(aes(fill='population'))\n",
    "    + geom_label(aes(x='longitude', y='latitude', \n",
    "                    #  label='NAME10',size=2), \n",
    "                     label='county_id',size=2), \n",
    "                 show_legend=False)\n",
    "    + theme_minimal()\n",
    "    + theme(axis_text_x=element_blank(),\n",
    "            axis_text_y=element_blank(),\n",
    "            axis_title_x=element_blank(),\n",
    "            axis_title_y=element_blank(),\n",
    "            axis_ticks=element_blank(),\n",
    "            panel_grid_major=element_blank(),\n",
    "            panel_grid_minor=element_blank()\n",
    "           )\n",
    "    )\n",
    "mapPop_subState"
   ]
  },
  {
   "attachments": {},
   "cell_type": "markdown",
   "id": "85551eec",
   "metadata": {},
   "source": [
    "# Creating the adjacency matrix for Iowa counties"
   ]
  },
  {
   "cell_type": "code",
   "execution_count": 18,
   "id": "1c30311d",
   "metadata": {},
   "outputs": [],
   "source": [
    "# ALREADY FIXED ABOVE!\n",
    "\n",
    "# shapefile_alpha=shapefile_iowa.sort_values('NAME10',ignore_index=True).copy()"
   ]
  },
  {
   "cell_type": "code",
   "execution_count": 19,
   "id": "0aa0d80f",
   "metadata": {},
   "outputs": [],
   "source": [
    "# full statewide adjacency matrix (first boolean, then casting as int)\n",
    "#   NOTE: this operation counts a county as adjacent to itself. subtract eye(99) to get a more traditional version\n",
    "#   also should do this operation after any sorting of the original shapefile\n",
    "\n",
    "n_counties = shapefile_subState.shape[0]\n",
    "\n",
    "subState_adjMat = pd.DataFrame()\n",
    "\n",
    "for j in range(n_counties):\n",
    "    subState_adjMat[j] = shapefile_subState.intersects(shapefile_subState.iloc[[j]].unary_union)\n",
    "subState_adjMat = subState_adjMat - np.identity(n_counties)\n",
    "subState_adjMat = subState_adjMat.astype(int)\n",
    "\n",
    "subState_adjMat_bool = subState_adjMat.astype(bool)\n",
    "\n"
   ]
  },
  {
   "cell_type": "code",
   "execution_count": 20,
   "metadata": {},
   "outputs": [
    {
     "data": {
      "text/html": [
       "<div>\n",
       "<style scoped>\n",
       "    .dataframe tbody tr th:only-of-type {\n",
       "        vertical-align: middle;\n",
       "    }\n",
       "\n",
       "    .dataframe tbody tr th {\n",
       "        vertical-align: top;\n",
       "    }\n",
       "\n",
       "    .dataframe thead th {\n",
       "        text-align: right;\n",
       "    }\n",
       "</style>\n",
       "<table border=\"1\" class=\"dataframe\">\n",
       "  <thead>\n",
       "    <tr style=\"text-align: right;\">\n",
       "      <th></th>\n",
       "      <th>0</th>\n",
       "      <th>1</th>\n",
       "      <th>2</th>\n",
       "      <th>3</th>\n",
       "      <th>4</th>\n",
       "      <th>5</th>\n",
       "      <th>6</th>\n",
       "      <th>7</th>\n",
       "      <th>8</th>\n",
       "      <th>9</th>\n",
       "    </tr>\n",
       "  </thead>\n",
       "  <tbody>\n",
       "    <tr>\n",
       "      <th>0</th>\n",
       "      <td>0</td>\n",
       "      <td>1</td>\n",
       "      <td>0</td>\n",
       "      <td>0</td>\n",
       "      <td>0</td>\n",
       "      <td>1</td>\n",
       "      <td>1</td>\n",
       "      <td>1</td>\n",
       "      <td>1</td>\n",
       "      <td>1</td>\n",
       "    </tr>\n",
       "    <tr>\n",
       "      <th>1</th>\n",
       "      <td>1</td>\n",
       "      <td>0</td>\n",
       "      <td>0</td>\n",
       "      <td>0</td>\n",
       "      <td>1</td>\n",
       "      <td>0</td>\n",
       "      <td>1</td>\n",
       "      <td>0</td>\n",
       "      <td>0</td>\n",
       "      <td>1</td>\n",
       "    </tr>\n",
       "    <tr>\n",
       "      <th>2</th>\n",
       "      <td>0</td>\n",
       "      <td>0</td>\n",
       "      <td>0</td>\n",
       "      <td>1</td>\n",
       "      <td>0</td>\n",
       "      <td>0</td>\n",
       "      <td>1</td>\n",
       "      <td>1</td>\n",
       "      <td>0</td>\n",
       "      <td>0</td>\n",
       "    </tr>\n",
       "    <tr>\n",
       "      <th>3</th>\n",
       "      <td>0</td>\n",
       "      <td>0</td>\n",
       "      <td>1</td>\n",
       "      <td>0</td>\n",
       "      <td>1</td>\n",
       "      <td>0</td>\n",
       "      <td>1</td>\n",
       "      <td>0</td>\n",
       "      <td>0</td>\n",
       "      <td>0</td>\n",
       "    </tr>\n",
       "    <tr>\n",
       "      <th>4</th>\n",
       "      <td>0</td>\n",
       "      <td>1</td>\n",
       "      <td>0</td>\n",
       "      <td>1</td>\n",
       "      <td>0</td>\n",
       "      <td>0</td>\n",
       "      <td>1</td>\n",
       "      <td>0</td>\n",
       "      <td>0</td>\n",
       "      <td>0</td>\n",
       "    </tr>\n",
       "    <tr>\n",
       "      <th>5</th>\n",
       "      <td>1</td>\n",
       "      <td>0</td>\n",
       "      <td>0</td>\n",
       "      <td>0</td>\n",
       "      <td>0</td>\n",
       "      <td>0</td>\n",
       "      <td>0</td>\n",
       "      <td>1</td>\n",
       "      <td>1</td>\n",
       "      <td>0</td>\n",
       "    </tr>\n",
       "    <tr>\n",
       "      <th>6</th>\n",
       "      <td>1</td>\n",
       "      <td>1</td>\n",
       "      <td>1</td>\n",
       "      <td>1</td>\n",
       "      <td>1</td>\n",
       "      <td>0</td>\n",
       "      <td>0</td>\n",
       "      <td>1</td>\n",
       "      <td>0</td>\n",
       "      <td>0</td>\n",
       "    </tr>\n",
       "    <tr>\n",
       "      <th>7</th>\n",
       "      <td>1</td>\n",
       "      <td>0</td>\n",
       "      <td>1</td>\n",
       "      <td>0</td>\n",
       "      <td>0</td>\n",
       "      <td>1</td>\n",
       "      <td>1</td>\n",
       "      <td>0</td>\n",
       "      <td>0</td>\n",
       "      <td>0</td>\n",
       "    </tr>\n",
       "    <tr>\n",
       "      <th>8</th>\n",
       "      <td>1</td>\n",
       "      <td>0</td>\n",
       "      <td>0</td>\n",
       "      <td>0</td>\n",
       "      <td>0</td>\n",
       "      <td>1</td>\n",
       "      <td>0</td>\n",
       "      <td>0</td>\n",
       "      <td>0</td>\n",
       "      <td>1</td>\n",
       "    </tr>\n",
       "    <tr>\n",
       "      <th>9</th>\n",
       "      <td>1</td>\n",
       "      <td>1</td>\n",
       "      <td>0</td>\n",
       "      <td>0</td>\n",
       "      <td>0</td>\n",
       "      <td>0</td>\n",
       "      <td>0</td>\n",
       "      <td>0</td>\n",
       "      <td>1</td>\n",
       "      <td>0</td>\n",
       "    </tr>\n",
       "  </tbody>\n",
       "</table>\n",
       "</div>"
      ],
      "text/plain": [
       "   0  1  2  3  4  5  6  7  8  9\n",
       "0  0  1  0  0  0  1  1  1  1  1\n",
       "1  1  0  0  0  1  0  1  0  0  1\n",
       "2  0  0  0  1  0  0  1  1  0  0\n",
       "3  0  0  1  0  1  0  1  0  0  0\n",
       "4  0  1  0  1  0  0  1  0  0  0\n",
       "5  1  0  0  0  0  0  0  1  1  0\n",
       "6  1  1  1  1  1  0  0  1  0  0\n",
       "7  1  0  1  0  0  1  1  0  0  0\n",
       "8  1  0  0  0  0  1  0  0  0  1\n",
       "9  1  1  0  0  0  0  0  0  1  0"
      ]
     },
     "execution_count": 20,
     "metadata": {},
     "output_type": "execute_result"
    }
   ],
   "source": [
    "subState_adjMat"
   ]
  },
  {
   "attachments": {},
   "cell_type": "markdown",
   "id": "017c9235",
   "metadata": {},
   "source": [
    "# Optimization Model"
   ]
  },
  {
   "attachments": {},
   "cell_type": "markdown",
   "id": "b0764efa",
   "metadata": {},
   "source": [
    "## Creating decision variables, model, and objective function"
   ]
  },
  {
   "cell_type": "code",
   "execution_count": 21,
   "id": "d70bc5b7",
   "metadata": {},
   "outputs": [],
   "source": [
    "# UNNECESSARY SINCE ALL MY COUNTIES HAVE 2 DIGITS ALREADY\n",
    "\n",
    "# zp_county=np.array((df['county_id']).astype(str).str.pad(2,fillchar='0'))"
   ]
  },
  {
   "cell_type": "code",
   "execution_count": 22,
   "id": "821777f2",
   "metadata": {},
   "outputs": [],
   "source": [
    "zp_county = np.array(shapefile_subState['county_id']).astype(str)"
   ]
  },
  {
   "cell_type": "code",
   "execution_count": 23,
   "id": "52c169dd",
   "metadata": {},
   "outputs": [
    {
     "data": {
      "text/plain": [
       "array(['15', '22', '27', '30', '48', '51', '52', '56', '69', '81'],\n",
       "      dtype='<U21')"
      ]
     },
     "execution_count": 23,
     "metadata": {},
     "output_type": "execute_result"
    }
   ],
   "source": [
    "zp_county"
   ]
  },
  {
   "cell_type": "code",
   "execution_count": 24,
   "id": "dfabf0ad",
   "metadata": {},
   "outputs": [],
   "source": [
    "n_districts = 2\n",
    "\n",
    "ideal_district_size=subState_pop/n_districts\n",
    "\n",
    "# poperrorbound: usually we've been doing 1%. I did 5%, 10%\n",
    "poperrorbound = .4\n",
    "\n",
    "district_maximum=int(ideal_district_size*(1+poperrorbound))\n",
    "district_minimum=int(ideal_district_size*(1-poperrorbound))"
   ]
  },
  {
   "cell_type": "code",
   "execution_count": 25,
   "id": "f60ca9bd",
   "metadata": {},
   "outputs": [
    {
     "data": {
      "text/plain": [
       "411453.5"
      ]
     },
     "execution_count": 25,
     "metadata": {},
     "output_type": "execute_result"
    }
   ],
   "source": [
    "ideal_district_size"
   ]
  },
  {
   "cell_type": "code",
   "execution_count": null,
   "id": "62b31036",
   "metadata": {},
   "outputs": [],
   "source": []
  },
  {
   "cell_type": "code",
   "execution_count": 26,
   "id": "7289f12a",
   "metadata": {},
   "outputs": [],
   "source": [
    "# Create the linear programming model.\n",
    "model = LpProblem(\"Supply-Demand-Problem\", LpMinimize) \n",
    "variable_names = [zp_county[i]+str(j) for j in range(n_districts)\n",
    "                                for i in range(n_counties)]\n",
    "variable_names.sort() \n",
    "\n",
    "# The Decision Variable is 1 if the county is assigned to the district.\n",
    "DV_variable_y = LpVariable.matrix(\"Y\", variable_names, cat=\"Binary\")\n",
    "assignment = np.array(DV_variable_y).reshape(n_counties,n_districts)\n",
    "\n",
    "# # The Decision Variable is the population allocated to the district.\n",
    "DV_variable_x = LpVariable.matrix(\"X\", variable_names, cat=\"Integer\",\n",
    "                                  lowBound=0)\n",
    "allocation = np.array(DV_variable_x).reshape(n_counties,n_districts)"
   ]
  },
  {
   "cell_type": "code",
   "execution_count": 27,
   "id": "c1549eb4",
   "metadata": {},
   "outputs": [
    {
     "data": {
      "text/plain": [
       "array([[Y_150, Y_151],\n",
       "       [Y_220, Y_221],\n",
       "       [Y_270, Y_271],\n",
       "       [Y_300, Y_301],\n",
       "       [Y_480, Y_481],\n",
       "       [Y_510, Y_511],\n",
       "       [Y_520, Y_521],\n",
       "       [Y_560, Y_561],\n",
       "       [Y_690, Y_691],\n",
       "       [Y_810, Y_811]], dtype=object)"
      ]
     },
     "execution_count": 27,
     "metadata": {},
     "output_type": "execute_result"
    }
   ],
   "source": [
    "assignment"
   ]
  },
  {
   "cell_type": "code",
   "execution_count": 28,
   "id": "7082229c",
   "metadata": {},
   "outputs": [],
   "source": [
    "# This objective minimizes the counties split among multiple districts.\n",
    "objective_function = lpSum(assignment) \n",
    "model += objective_function"
   ]
  },
  {
   "attachments": {},
   "cell_type": "markdown",
   "id": "e768d221",
   "metadata": {},
   "source": [
    "## Initial Assignment / Allocation Constraints"
   ]
  },
  {
   "cell_type": "code",
   "execution_count": 29,
   "id": "2ae2b1d8",
   "metadata": {},
   "outputs": [],
   "source": [
    "# Allocate 100% of the population from each county.\n",
    "for i in range(n_counties):\n",
    "    model += lpSum(allocation[i][j] for j in range(n_districts)) == county_pops_subState[i] , \"Allocate All \" + str(i)"
   ]
  },
  {
   "cell_type": "code",
   "execution_count": 30,
   "id": "f1472a4f",
   "metadata": {},
   "outputs": [
    {
     "name": "stdout",
     "output_type": "stream",
     "text": [
      "X_151 18505\n"
     ]
    }
   ],
   "source": [
    "print(allocation[0][1], county_pops_subState[0])"
   ]
  },
  {
   "cell_type": "code",
   "execution_count": 31,
   "id": "4c47f52c",
   "metadata": {},
   "outputs": [],
   "source": [
    "# This constraint makes assignment required for allocation.\n",
    "# sum(county_populations) is the \"big M\"\n",
    "for i in range(n_counties): \n",
    "    for j in range(n_districts):\n",
    "        model += allocation[i][j] <= county_pops_subState[i]*assignment[i][j] , \"Allocation assignment of county\" + str(i) + \"to district\" + str(j)\n",
    "        model += allocation[i][j] >= .2*county_pops_subState[i]*assignment[i][j], \"Minimum allocation of county\" + str(i) + \"to\" + str(j)"
   ]
  },
  {
   "cell_type": "code",
   "execution_count": 32,
   "id": "bf52053d",
   "metadata": {},
   "outputs": [],
   "source": [
    "#numpy documentation for np array\n",
    "#https://numpy.org/doc/stable/glossary.html#term-row-major\n",
    "# Contiguous districts constraints\n",
    "for j in range(n_districts):\n",
    "    for i in range(n_counties):\n",
    "        model += 2*assignment[i][j] <= lpSum(assignment[:,j][subState_adjMat_bool[i]]), \"Contiguity constraint for county \" + str(i) +\" in district \" + str(j)"
   ]
  },
  {
   "cell_type": "code",
   "execution_count": 33,
   "id": "d7fd5479",
   "metadata": {},
   "outputs": [],
   "source": [
    "# District size constraints, in order to keep the size of districts by population similar\n",
    "for j in range(n_districts):\n",
    "    model += lpSum(allocation[i][j] for i in range(n_counties)) <= district_maximum , \"District Size Maximum \" + str(j)\n",
    "    model += lpSum(allocation[i][j] for i in range(n_counties)) >= district_minimum , \"District Size Minimum \" + str(j)"
   ]
  },
  {
   "cell_type": "code",
   "execution_count": 34,
   "id": "9c66f6ff",
   "metadata": {},
   "outputs": [],
   "source": [
    "# Only allow counties that meet certain critera to be split among multiple districts\n",
    "# This not necessary for Iowa.\n",
    "for i in range(n_counties): \n",
    "    if county_pops_subState[i] <= 75000: \n",
    "        model += lpSum(assignment[i][j] for j in range(n_districts)) <= 1  , \"Unique Assignment for county \" + str(i) \n",
    "    else:\n",
    "        model += lpSum(assignment[i][j] for j in range(n_districts)) <= 2  , \"Up-to-two Assignments for county \" + str(i)"
   ]
  },
  {
   "cell_type": "code",
   "execution_count": 35,
   "id": "4ec832c6",
   "metadata": {},
   "outputs": [
    {
     "data": {
      "text/plain": [
       "Supply-Demand-Problem:\n",
       "MINIMIZE\n",
       "1*Y_150 + 1*Y_151 + 1*Y_220 + 1*Y_221 + 1*Y_270 + 1*Y_271 + 1*Y_300 + 1*Y_301 + 1*Y_480 + 1*Y_481 + 1*Y_510 + 1*Y_511 + 1*Y_520 + 1*Y_521 + 1*Y_560 + 1*Y_561 + 1*Y_690 + 1*Y_691 + 1*Y_810 + 1*Y_811 + 0\n",
       "SUBJECT TO\n",
       "Allocate_All_0: X_150 + X_151 = 18505\n",
       "\n",
       "Allocate_All_1: X_220 + X_221 = 46460\n",
       "\n",
       "Allocate_All_2: X_270 + X_271 = 17488\n",
       "\n",
       "Allocate_All_3: X_300 + X_301 = 99266\n",
       "\n",
       "Allocate_All_4: X_480 + X_481 = 19485\n",
       "\n",
       "Allocate_All_5: X_510 + X_511 = 152854\n",
       "\n",
       "Allocate_All_6: X_520 + X_521 = 20646\n",
       "\n",
       "Allocate_All_7: X_560 + X_561 = 230299\n",
       "\n",
       "Allocate_All_8: X_690 + X_691 = 43235\n",
       "\n",
       "Allocate_All_9: X_810 + X_811 = 174669\n",
       "\n",
       "Allocation_assignment_of_county0to_district0: X_150 - 18505 Y_150 <= 0\n",
       "\n",
       "Minimum_allocation_of_county0to0: X_150 - 3701 Y_150 >= 0\n",
       "\n",
       "Allocation_assignment_of_county0to_district1: X_151 - 18505 Y_151 <= 0\n",
       "\n",
       "Minimum_allocation_of_county0to1: X_151 - 3701 Y_151 >= 0\n",
       "\n",
       "Allocation_assignment_of_county1to_district0: X_220 - 46460 Y_220 <= 0\n",
       "\n",
       "Minimum_allocation_of_county1to0: X_220 - 9292 Y_220 >= 0\n",
       "\n",
       "Allocation_assignment_of_county1to_district1: X_221 - 46460 Y_221 <= 0\n",
       "\n",
       "Minimum_allocation_of_county1to1: X_221 - 9292 Y_221 >= 0\n",
       "\n",
       "Allocation_assignment_of_county2to_district0: X_270 - 17488 Y_270 <= 0\n",
       "\n",
       "Minimum_allocation_of_county2to0: X_270 - 3497.6 Y_270 >= 0\n",
       "\n",
       "Allocation_assignment_of_county2to_district1: X_271 - 17488 Y_271 <= 0\n",
       "\n",
       "Minimum_allocation_of_county2to1: X_271 - 3497.6 Y_271 >= 0\n",
       "\n",
       "Allocation_assignment_of_county3to_district0: X_300 - 99266 Y_300 <= 0\n",
       "\n",
       "Minimum_allocation_of_county3to0: X_300 - 19853.2 Y_300 >= 0\n",
       "\n",
       "Allocation_assignment_of_county3to_district1: X_301 - 99266 Y_301 <= 0\n",
       "\n",
       "Minimum_allocation_of_county3to1: X_301 - 19853.2 Y_301 >= 0\n",
       "\n",
       "Allocation_assignment_of_county4to_district0: X_480 - 19485 Y_480 <= 0\n",
       "\n",
       "Minimum_allocation_of_county4to0: X_480 - 3897 Y_480 >= 0\n",
       "\n",
       "Allocation_assignment_of_county4to_district1: X_481 - 19485 Y_481 <= 0\n",
       "\n",
       "Minimum_allocation_of_county4to1: X_481 - 3897 Y_481 >= 0\n",
       "\n",
       "Allocation_assignment_of_county5to_district0: X_510 - 152854 Y_510 <= 0\n",
       "\n",
       "Minimum_allocation_of_county5to0: X_510 - 30570.8 Y_510 >= 0\n",
       "\n",
       "Allocation_assignment_of_county5to_district1: X_511 - 152854 Y_511 <= 0\n",
       "\n",
       "Minimum_allocation_of_county5to1: X_511 - 30570.8 Y_511 >= 0\n",
       "\n",
       "Allocation_assignment_of_county6to_district0: X_520 - 20646 Y_520 <= 0\n",
       "\n",
       "Minimum_allocation_of_county6to0: X_520 - 4129.2 Y_520 >= 0\n",
       "\n",
       "Allocation_assignment_of_county6to_district1: X_521 - 20646 Y_521 <= 0\n",
       "\n",
       "Minimum_allocation_of_county6to1: X_521 - 4129.2 Y_521 >= 0\n",
       "\n",
       "Allocation_assignment_of_county7to_district0: X_560 - 230299 Y_560 <= 0\n",
       "\n",
       "Minimum_allocation_of_county7to0: X_560 - 46059.8 Y_560 >= 0\n",
       "\n",
       "Allocation_assignment_of_county7to_district1: X_561 - 230299 Y_561 <= 0\n",
       "\n",
       "Minimum_allocation_of_county7to1: X_561 - 46059.8 Y_561 >= 0\n",
       "\n",
       "Allocation_assignment_of_county8to_district0: X_690 - 43235 Y_690 <= 0\n",
       "\n",
       "Minimum_allocation_of_county8to0: X_690 - 8647 Y_690 >= 0\n",
       "\n",
       "Allocation_assignment_of_county8to_district1: X_691 - 43235 Y_691 <= 0\n",
       "\n",
       "Minimum_allocation_of_county8to1: X_691 - 8647 Y_691 >= 0\n",
       "\n",
       "Allocation_assignment_of_county9to_district0: X_810 - 174669 Y_810 <= 0\n",
       "\n",
       "Minimum_allocation_of_county9to0: X_810 - 34933.8 Y_810 >= 0\n",
       "\n",
       "Allocation_assignment_of_county9to_district1: X_811 - 174669 Y_811 <= 0\n",
       "\n",
       "Minimum_allocation_of_county9to1: X_811 - 34933.8 Y_811 >= 0\n",
       "\n",
       "Contiguity_constraint_for_county_0_in_district_0: 2 Y_150 - Y_220 - Y_510\n",
       " - Y_520 - Y_560 - Y_690 - Y_810 <= 0\n",
       "\n",
       "Contiguity_constraint_for_county_1_in_district_0: - Y_150 + 2 Y_220 - Y_480\n",
       " - Y_520 - Y_810 <= 0\n",
       "\n",
       "Contiguity_constraint_for_county_2_in_district_0: 2 Y_270 - Y_300 - Y_520\n",
       " - Y_560 <= 0\n",
       "\n",
       "Contiguity_constraint_for_county_3_in_district_0: - Y_270 + 2 Y_300 - Y_480\n",
       " - Y_520 <= 0\n",
       "\n",
       "Contiguity_constraint_for_county_4_in_district_0: - Y_220 - Y_300 + 2 Y_480\n",
       " - Y_520 <= 0\n",
       "\n",
       "Contiguity_constraint_for_county_5_in_district_0: - Y_150 + 2 Y_510 - Y_560\n",
       " - Y_690 <= 0\n",
       "\n",
       "Contiguity_constraint_for_county_6_in_district_0: - Y_150 - Y_220 - Y_270\n",
       " - Y_300 - Y_480 + 2 Y_520 - Y_560 <= 0\n",
       "\n",
       "Contiguity_constraint_for_county_7_in_district_0: - Y_150 - Y_270 - Y_510\n",
       " - Y_520 + 2 Y_560 <= 0\n",
       "\n",
       "Contiguity_constraint_for_county_8_in_district_0: - Y_150 - Y_510 + 2 Y_690\n",
       " - Y_810 <= 0\n",
       "\n",
       "Contiguity_constraint_for_county_9_in_district_0: - Y_150 - Y_220 - Y_690\n",
       " + 2 Y_810 <= 0\n",
       "\n",
       "Contiguity_constraint_for_county_0_in_district_1: 2 Y_151 - Y_221 - Y_511\n",
       " - Y_521 - Y_561 - Y_691 - Y_811 <= 0\n",
       "\n",
       "Contiguity_constraint_for_county_1_in_district_1: - Y_151 + 2 Y_221 - Y_481\n",
       " - Y_521 - Y_811 <= 0\n",
       "\n",
       "Contiguity_constraint_for_county_2_in_district_1: 2 Y_271 - Y_301 - Y_521\n",
       " - Y_561 <= 0\n",
       "\n",
       "Contiguity_constraint_for_county_3_in_district_1: - Y_271 + 2 Y_301 - Y_481\n",
       " - Y_521 <= 0\n",
       "\n",
       "Contiguity_constraint_for_county_4_in_district_1: - Y_221 - Y_301 + 2 Y_481\n",
       " - Y_521 <= 0\n",
       "\n",
       "Contiguity_constraint_for_county_5_in_district_1: - Y_151 + 2 Y_511 - Y_561\n",
       " - Y_691 <= 0\n",
       "\n",
       "Contiguity_constraint_for_county_6_in_district_1: - Y_151 - Y_221 - Y_271\n",
       " - Y_301 - Y_481 + 2 Y_521 - Y_561 <= 0\n",
       "\n",
       "Contiguity_constraint_for_county_7_in_district_1: - Y_151 - Y_271 - Y_511\n",
       " - Y_521 + 2 Y_561 <= 0\n",
       "\n",
       "Contiguity_constraint_for_county_8_in_district_1: - Y_151 - Y_511 + 2 Y_691\n",
       " - Y_811 <= 0\n",
       "\n",
       "Contiguity_constraint_for_county_9_in_district_1: - Y_151 - Y_221 - Y_691\n",
       " + 2 Y_811 <= 0\n",
       "\n",
       "District_Size_Maximum_0: X_150 + X_220 + X_270 + X_300 + X_480 + X_510 + X_520\n",
       " + X_560 + X_690 + X_810 <= 576034\n",
       "\n",
       "District_Size_Minimum_0: X_150 + X_220 + X_270 + X_300 + X_480 + X_510 + X_520\n",
       " + X_560 + X_690 + X_810 >= 246872\n",
       "\n",
       "District_Size_Maximum_1: X_151 + X_221 + X_271 + X_301 + X_481 + X_511 + X_521\n",
       " + X_561 + X_691 + X_811 <= 576034\n",
       "\n",
       "District_Size_Minimum_1: X_151 + X_221 + X_271 + X_301 + X_481 + X_511 + X_521\n",
       " + X_561 + X_691 + X_811 >= 246872\n",
       "\n",
       "Unique_Assignment_for_county_0: Y_150 + Y_151 <= 1\n",
       "\n",
       "Unique_Assignment_for_county_1: Y_220 + Y_221 <= 1\n",
       "\n",
       "Unique_Assignment_for_county_2: Y_270 + Y_271 <= 1\n",
       "\n",
       "Up_to_two_Assignments_for_county_3: Y_300 + Y_301 <= 2\n",
       "\n",
       "Unique_Assignment_for_county_4: Y_480 + Y_481 <= 1\n",
       "\n",
       "Up_to_two_Assignments_for_county_5: Y_510 + Y_511 <= 2\n",
       "\n",
       "Unique_Assignment_for_county_6: Y_520 + Y_521 <= 1\n",
       "\n",
       "Up_to_two_Assignments_for_county_7: Y_560 + Y_561 <= 2\n",
       "\n",
       "Unique_Assignment_for_county_8: Y_690 + Y_691 <= 1\n",
       "\n",
       "Up_to_two_Assignments_for_county_9: Y_810 + Y_811 <= 2\n",
       "\n",
       "VARIABLES\n",
       "0 <= X_150 Integer\n",
       "0 <= X_151 Integer\n",
       "0 <= X_220 Integer\n",
       "0 <= X_221 Integer\n",
       "0 <= X_270 Integer\n",
       "0 <= X_271 Integer\n",
       "0 <= X_300 Integer\n",
       "0 <= X_301 Integer\n",
       "0 <= X_480 Integer\n",
       "0 <= X_481 Integer\n",
       "0 <= X_510 Integer\n",
       "0 <= X_511 Integer\n",
       "0 <= X_520 Integer\n",
       "0 <= X_521 Integer\n",
       "0 <= X_560 Integer\n",
       "0 <= X_561 Integer\n",
       "0 <= X_690 Integer\n",
       "0 <= X_691 Integer\n",
       "0 <= X_810 Integer\n",
       "0 <= X_811 Integer\n",
       "0 <= Y_150 <= 1 Integer\n",
       "0 <= Y_151 <= 1 Integer\n",
       "0 <= Y_220 <= 1 Integer\n",
       "0 <= Y_221 <= 1 Integer\n",
       "0 <= Y_270 <= 1 Integer\n",
       "0 <= Y_271 <= 1 Integer\n",
       "0 <= Y_300 <= 1 Integer\n",
       "0 <= Y_301 <= 1 Integer\n",
       "0 <= Y_480 <= 1 Integer\n",
       "0 <= Y_481 <= 1 Integer\n",
       "0 <= Y_510 <= 1 Integer\n",
       "0 <= Y_511 <= 1 Integer\n",
       "0 <= Y_520 <= 1 Integer\n",
       "0 <= Y_521 <= 1 Integer\n",
       "0 <= Y_560 <= 1 Integer\n",
       "0 <= Y_561 <= 1 Integer\n",
       "0 <= Y_690 <= 1 Integer\n",
       "0 <= Y_691 <= 1 Integer\n",
       "0 <= Y_810 <= 1 Integer\n",
       "0 <= Y_811 <= 1 Integer"
      ]
     },
     "execution_count": 35,
     "metadata": {},
     "output_type": "execute_result"
    }
   ],
   "source": [
    "model"
   ]
  },
  {
   "cell_type": "code",
   "execution_count": 36,
   "id": "59da28cd",
   "metadata": {},
   "outputs": [
    {
     "name": "stdout",
     "output_type": "stream",
     "text": [
      "GLPSOL--GLPK LP/MIP Solver 5.0\n",
      "Parameter(s) specified in the command line:\n",
      " --cpxlp /tmp/20919ad9cc0a436fba2e007c554eb947-pulp.lp -o /tmp/20919ad9cc0a436fba2e007c554eb947-pulp.sol\n",
      " --mipgap 0.05 --gomory\n",
      "Reading problem data from '/tmp/20919ad9cc0a436fba2e007c554eb947-pulp.lp'...\n",
      "84 rows, 40 columns, 256 non-zeros\n",
      "40 integer variables, 20 of which are binary\n",
      "178 lines were read\n",
      "GLPK Integer Optimizer 5.0\n",
      "84 rows, 40 columns, 256 non-zeros\n",
      "40 integer variables, 20 of which are binary\n",
      "Preprocessing...\n",
      "80 rows, 40 columns, 248 non-zeros\n",
      "40 integer variables, 20 of which are binary\n",
      "Scaling...\n",
      " A: min|aij| =  1.000e+00  max|aij| =  2.303e+05  ratio =  2.303e+05\n",
      "GM: min|aij| =  5.213e-01  max|aij| =  1.918e+00  ratio =  3.680e+00\n",
      "EQ: min|aij| =  2.780e-01  max|aij| =  1.000e+00  ratio =  3.598e+00\n",
      "2N: min|aij| =  2.135e-01  max|aij| =  1.333e+00  ratio =  6.242e+00\n",
      "Constructing initial basis...\n",
      "Size of triangular part is 80\n",
      "Solving LP relaxation...\n",
      "GLPK Simplex Optimizer 5.0\n",
      "80 rows, 40 columns, 248 non-zeros\n",
      "      0: obj =   0.000000000e+00 inf =   2.079e+03 (12)\n",
      "     31: obj =   1.050000000e+01 inf =   2.335e-13 (0)\n",
      "*    42: obj =   1.000000000e+01 inf =   6.648e-14 (0)\n",
      "OPTIMAL LP SOLUTION FOUND\n",
      "Integer optimization begins...\n",
      "Long-step dual simplex will be used\n",
      "Gomory's cuts enabled\n",
      "+    42: mip =     not found yet >=              -inf        (1; 0)\n",
      "+    70: >>>>>   1.200000000e+01 >=   1.000000000e+01  16.7% (5; 0)\n",
      "+    72: >>>>>   1.000000000e+01 >=   1.000000000e+01 < 0.1% (2; 5)\n",
      "+    72: mip =   1.000000000e+01 >=     tree is empty   0.0% (0; 9)\n",
      "INTEGER OPTIMAL SOLUTION FOUND\n",
      "Time used:   0.0 secs\n",
      "Memory used: 0.2 Mb (181708 bytes)\n",
      "Writing MIP solution to '/tmp/20919ad9cc0a436fba2e007c554eb947-pulp.sol'...\n",
      "The model status is:  Optimal\n",
      "The objective value is:  10\n"
     ]
    }
   ],
   "source": [
    "model.solve(GLPK_CMD(options=[\"--mipgap\", \"0.05\", \"--gomory\"])) \n",
    "\n",
    "print('The model status is: ',LpStatus[model.status])\n",
    "print('The objective value is: ', value(objective_function))"
   ]
  },
  {
   "cell_type": "code",
   "execution_count": 37,
   "id": "f29c34bb",
   "metadata": {},
   "outputs": [
    {
     "name": "stdout",
     "output_type": "stream",
     "text": [
      "County 0 assigned to district 0:  18505\n",
      "County 1 assigned to district 1:  46460\n",
      "County 2 assigned to district 1:  17488\n",
      "County 3 assigned to district 1:  99266\n",
      "County 4 assigned to district 1:  19485\n",
      "County 5 assigned to district 0:  152854\n",
      "County 6 assigned to district 1:  20646\n",
      "County 7 assigned to district 1:  230299\n",
      "County 8 assigned to district 0:  43235\n",
      "County 9 assigned to district 0:  174669\n"
     ]
    }
   ],
   "source": [
    "# Access the results\n",
    "for i in range(n_counties):\n",
    "    for j in range(n_districts):\n",
    "        if allocation[i][j].value() > 0:\n",
    "            print('County %d assigned to district %d: ' % (i, j), allocation[i][j].value())"
   ]
  },
  {
   "attachments": {},
   "cell_type": "markdown",
   "id": "edc00b9e",
   "metadata": {},
   "source": [
    "# Visualizing the districts"
   ]
  },
  {
   "attachments": {},
   "cell_type": "markdown",
   "id": "688b90c1",
   "metadata": {},
   "source": [
    "## Prepping the data for visualization"
   ]
  },
  {
   "cell_type": "code",
   "execution_count": 38,
   "id": "7fe0166f",
   "metadata": {},
   "outputs": [
    {
     "data": {
      "text/plain": [
       "22"
      ]
     },
     "execution_count": 38,
     "metadata": {},
     "output_type": "execute_result"
    }
   ],
   "source": [
    "#turn index within the subset to main ID\n",
    "shapefile_subState.iloc[1]['county_id']"
   ]
  },
  {
   "cell_type": "code",
   "execution_count": 39,
   "id": "e27835c3",
   "metadata": {},
   "outputs": [],
   "source": [
    "# Prepare data for visualizing the results\n",
    "result_value = []\n",
    "for i in range(n_counties):\n",
    "    for j in range(n_districts):\n",
    "        var_output = {\n",
    "            # 'County': i,\n",
    "            'county_id': shapefile_subState.iloc[i]['county_id'],  #see above\n",
    "            'District': j+1,\n",
    "            'Dist_Assignment': int(assignment[i][j].value()*(j+1)),\n",
    "            'Dist_Allocation': allocation[i][j].value()}\n",
    "        result_value.append(var_output)\n",
    "        \n",
    "results = pd.DataFrame(result_value)\n",
    "results = results[results['Dist_Assignment'] != 0]\n",
    "results = results.sort_values(['county_id', 'District'])\n"
   ]
  },
  {
   "cell_type": "code",
   "execution_count": 40,
   "id": "585bda79",
   "metadata": {},
   "outputs": [
    {
     "data": {
      "text/html": [
       "<div>\n",
       "<style scoped>\n",
       "    .dataframe tbody tr th:only-of-type {\n",
       "        vertical-align: middle;\n",
       "    }\n",
       "\n",
       "    .dataframe tbody tr th {\n",
       "        vertical-align: top;\n",
       "    }\n",
       "\n",
       "    .dataframe thead th {\n",
       "        text-align: right;\n",
       "    }\n",
       "</style>\n",
       "<table border=\"1\" class=\"dataframe\">\n",
       "  <thead>\n",
       "    <tr style=\"text-align: right;\">\n",
       "      <th></th>\n",
       "      <th>county_id</th>\n",
       "      <th>District</th>\n",
       "      <th>Dist_Assignment</th>\n",
       "      <th>Dist_Allocation</th>\n",
       "    </tr>\n",
       "  </thead>\n",
       "  <tbody>\n",
       "    <tr>\n",
       "      <th>0</th>\n",
       "      <td>15</td>\n",
       "      <td>1</td>\n",
       "      <td>1</td>\n",
       "      <td>18505</td>\n",
       "    </tr>\n",
       "    <tr>\n",
       "      <th>3</th>\n",
       "      <td>22</td>\n",
       "      <td>2</td>\n",
       "      <td>2</td>\n",
       "      <td>46460</td>\n",
       "    </tr>\n",
       "    <tr>\n",
       "      <th>5</th>\n",
       "      <td>27</td>\n",
       "      <td>2</td>\n",
       "      <td>2</td>\n",
       "      <td>17488</td>\n",
       "    </tr>\n",
       "    <tr>\n",
       "      <th>7</th>\n",
       "      <td>30</td>\n",
       "      <td>2</td>\n",
       "      <td>2</td>\n",
       "      <td>99266</td>\n",
       "    </tr>\n",
       "    <tr>\n",
       "      <th>9</th>\n",
       "      <td>48</td>\n",
       "      <td>2</td>\n",
       "      <td>2</td>\n",
       "      <td>19485</td>\n",
       "    </tr>\n",
       "    <tr>\n",
       "      <th>10</th>\n",
       "      <td>51</td>\n",
       "      <td>1</td>\n",
       "      <td>1</td>\n",
       "      <td>152854</td>\n",
       "    </tr>\n",
       "    <tr>\n",
       "      <th>13</th>\n",
       "      <td>52</td>\n",
       "      <td>2</td>\n",
       "      <td>2</td>\n",
       "      <td>20646</td>\n",
       "    </tr>\n",
       "    <tr>\n",
       "      <th>15</th>\n",
       "      <td>56</td>\n",
       "      <td>2</td>\n",
       "      <td>2</td>\n",
       "      <td>230299</td>\n",
       "    </tr>\n",
       "    <tr>\n",
       "      <th>16</th>\n",
       "      <td>69</td>\n",
       "      <td>1</td>\n",
       "      <td>1</td>\n",
       "      <td>43235</td>\n",
       "    </tr>\n",
       "    <tr>\n",
       "      <th>18</th>\n",
       "      <td>81</td>\n",
       "      <td>1</td>\n",
       "      <td>1</td>\n",
       "      <td>174669</td>\n",
       "    </tr>\n",
       "  </tbody>\n",
       "</table>\n",
       "</div>"
      ],
      "text/plain": [
       "    county_id  District  Dist_Assignment  Dist_Allocation\n",
       "0          15         1                1            18505\n",
       "3          22         2                2            46460\n",
       "5          27         2                2            17488\n",
       "7          30         2                2            99266\n",
       "9          48         2                2            19485\n",
       "10         51         1                1           152854\n",
       "13         52         2                2            20646\n",
       "15         56         2                2           230299\n",
       "16         69         1                1            43235\n",
       "18         81         1                1           174669"
      ]
     },
     "execution_count": 40,
     "metadata": {},
     "output_type": "execute_result"
    }
   ],
   "source": [
    "results"
   ]
  },
  {
   "cell_type": "code",
   "execution_count": 41,
   "id": "0e03d04a",
   "metadata": {},
   "outputs": [],
   "source": [
    "new_districts_shapefile = shapefile_subState.merge(results, left_on='county_id',right_on='county_id',suffixes = ('_ID','_Name'))"
   ]
  },
  {
   "cell_type": "code",
   "execution_count": 42,
   "id": "db971ae9",
   "metadata": {},
   "outputs": [
    {
     "data": {
      "text/html": [
       "<div>\n",
       "<style scoped>\n",
       "    .dataframe tbody tr th:only-of-type {\n",
       "        vertical-align: middle;\n",
       "    }\n",
       "\n",
       "    .dataframe tbody tr th {\n",
       "        vertical-align: top;\n",
       "    }\n",
       "\n",
       "    .dataframe thead th {\n",
       "        text-align: right;\n",
       "    }\n",
       "</style>\n",
       "<table border=\"1\" class=\"dataframe\">\n",
       "  <thead>\n",
       "    <tr style=\"text-align: right;\">\n",
       "      <th></th>\n",
       "      <th>STATEFP10</th>\n",
       "      <th>COUNTYFP10</th>\n",
       "      <th>GEOID10</th>\n",
       "      <th>NAME10</th>\n",
       "      <th>NAMELSAD10</th>\n",
       "      <th>ALAND10</th>\n",
       "      <th>AWATER10</th>\n",
       "      <th>INTPTLAT10</th>\n",
       "      <th>INTPTLON10</th>\n",
       "      <th>TOTPOP</th>\n",
       "      <th>CD</th>\n",
       "      <th>geometry</th>\n",
       "      <th>county_id</th>\n",
       "      <th>county</th>\n",
       "      <th>population</th>\n",
       "      <th>latitude</th>\n",
       "      <th>longitude</th>\n",
       "      <th>District</th>\n",
       "      <th>Dist_Assignment</th>\n",
       "      <th>Dist_Allocation</th>\n",
       "    </tr>\n",
       "  </thead>\n",
       "  <tbody>\n",
       "    <tr>\n",
       "      <th>0</th>\n",
       "      <td>19</td>\n",
       "      <td>031</td>\n",
       "      <td>19031</td>\n",
       "      <td>Cedar</td>\n",
       "      <td>Cedar County</td>\n",
       "      <td>1500731293</td>\n",
       "      <td>6385840</td>\n",
       "      <td>+41.7723547</td>\n",
       "      <td>-091.1321900</td>\n",
       "      <td>18499</td>\n",
       "      <td>2</td>\n",
       "      <td>POLYGON ((-91.09434 41.59747, -91.09481 41.597...</td>\n",
       "      <td>15</td>\n",
       "      <td>Cedar</td>\n",
       "      <td>18505</td>\n",
       "      <td>41.772355</td>\n",
       "      <td>-91.132190</td>\n",
       "      <td>1</td>\n",
       "      <td>1</td>\n",
       "      <td>18505</td>\n",
       "    </tr>\n",
       "    <tr>\n",
       "      <th>1</th>\n",
       "      <td>19</td>\n",
       "      <td>045</td>\n",
       "      <td>19045</td>\n",
       "      <td>Clinton</td>\n",
       "      <td>Clinton County</td>\n",
       "      <td>1799821282</td>\n",
       "      <td>39523759</td>\n",
       "      <td>+41.8980732</td>\n",
       "      <td>-090.5342431</td>\n",
       "      <td>49116</td>\n",
       "      <td>2</td>\n",
       "      <td>POLYGON ((-90.67005 41.76363, -90.67007 41.763...</td>\n",
       "      <td>22</td>\n",
       "      <td>Clinton</td>\n",
       "      <td>46460</td>\n",
       "      <td>41.898073</td>\n",
       "      <td>-90.534243</td>\n",
       "      <td>2</td>\n",
       "      <td>2</td>\n",
       "      <td>46460</td>\n",
       "    </tr>\n",
       "    <tr>\n",
       "      <th>2</th>\n",
       "      <td>19</td>\n",
       "      <td>055</td>\n",
       "      <td>19055</td>\n",
       "      <td>Delaware</td>\n",
       "      <td>Delaware County</td>\n",
       "      <td>1496381153</td>\n",
       "      <td>3082496</td>\n",
       "      <td>+42.4730031</td>\n",
       "      <td>-091.3594425</td>\n",
       "      <td>17764</td>\n",
       "      <td>1</td>\n",
       "      <td>POLYGON ((-91.59740 42.46924, -91.59740 42.469...</td>\n",
       "      <td>27</td>\n",
       "      <td>Delaware</td>\n",
       "      <td>17488</td>\n",
       "      <td>42.473003</td>\n",
       "      <td>-91.359443</td>\n",
       "      <td>2</td>\n",
       "      <td>2</td>\n",
       "      <td>17488</td>\n",
       "    </tr>\n",
       "    <tr>\n",
       "      <th>3</th>\n",
       "      <td>19</td>\n",
       "      <td>061</td>\n",
       "      <td>19061</td>\n",
       "      <td>Dubuque</td>\n",
       "      <td>Dubuque County</td>\n",
       "      <td>1575501687</td>\n",
       "      <td>21569071</td>\n",
       "      <td>+42.4634808</td>\n",
       "      <td>-090.8787708</td>\n",
       "      <td>93653</td>\n",
       "      <td>1</td>\n",
       "      <td>POLYGON ((-91.13089 42.47126, -91.13115 42.471...</td>\n",
       "      <td>30</td>\n",
       "      <td>Dubuque</td>\n",
       "      <td>99266</td>\n",
       "      <td>42.463481</td>\n",
       "      <td>-90.878771</td>\n",
       "      <td>2</td>\n",
       "      <td>2</td>\n",
       "      <td>99266</td>\n",
       "    </tr>\n",
       "    <tr>\n",
       "      <th>4</th>\n",
       "      <td>19</td>\n",
       "      <td>097</td>\n",
       "      <td>19097</td>\n",
       "      <td>Jackson</td>\n",
       "      <td>Jackson County</td>\n",
       "      <td>1647332960</td>\n",
       "      <td>35141529</td>\n",
       "      <td>+42.1642812</td>\n",
       "      <td>-090.5745965</td>\n",
       "      <td>19848</td>\n",
       "      <td>1</td>\n",
       "      <td>POLYGON ((-90.89823 42.12059, -90.89837 42.125...</td>\n",
       "      <td>48</td>\n",
       "      <td>Jackson</td>\n",
       "      <td>19485</td>\n",
       "      <td>42.164281</td>\n",
       "      <td>-90.574596</td>\n",
       "      <td>2</td>\n",
       "      <td>2</td>\n",
       "      <td>19485</td>\n",
       "    </tr>\n",
       "  </tbody>\n",
       "</table>\n",
       "</div>"
      ],
      "text/plain": [
       "  STATEFP10 COUNTYFP10  GEOID10    NAME10       NAMELSAD10     ALAND10  \\\n",
       "0        19        031    19031     Cedar     Cedar County  1500731293   \n",
       "1        19        045    19045   Clinton   Clinton County  1799821282   \n",
       "2        19        055    19055  Delaware  Delaware County  1496381153   \n",
       "3        19        061    19061   Dubuque   Dubuque County  1575501687   \n",
       "4        19        097    19097   Jackson   Jackson County  1647332960   \n",
       "\n",
       "   AWATER10   INTPTLAT10    INTPTLON10  TOTPOP CD  \\\n",
       "0   6385840  +41.7723547  -091.1321900   18499  2   \n",
       "1  39523759  +41.8980732  -090.5342431   49116  2   \n",
       "2   3082496  +42.4730031  -091.3594425   17764  1   \n",
       "3  21569071  +42.4634808  -090.8787708   93653  1   \n",
       "4  35141529  +42.1642812  -090.5745965   19848  1   \n",
       "\n",
       "                                            geometry  county_id     county  \\\n",
       "0  POLYGON ((-91.09434 41.59747, -91.09481 41.597...         15     Cedar    \n",
       "1  POLYGON ((-90.67005 41.76363, -90.67007 41.763...         22   Clinton    \n",
       "2  POLYGON ((-91.59740 42.46924, -91.59740 42.469...         27  Delaware    \n",
       "3  POLYGON ((-91.13089 42.47126, -91.13115 42.471...         30   Dubuque    \n",
       "4  POLYGON ((-90.89823 42.12059, -90.89837 42.125...         48   Jackson    \n",
       "\n",
       "   population   latitude  longitude  District  Dist_Assignment  \\\n",
       "0       18505  41.772355 -91.132190         1                1   \n",
       "1       46460  41.898073 -90.534243         2                2   \n",
       "2       17488  42.473003 -91.359443         2                2   \n",
       "3       99266  42.463481 -90.878771         2                2   \n",
       "4       19485  42.164281 -90.574596         2                2   \n",
       "\n",
       "   Dist_Allocation  \n",
       "0            18505  \n",
       "1            46460  \n",
       "2            17488  \n",
       "3            99266  \n",
       "4            19485  "
      ]
     },
     "execution_count": 42,
     "metadata": {},
     "output_type": "execute_result"
    }
   ],
   "source": [
    "new_districts_shapefile.head()"
   ]
  },
  {
   "cell_type": "code",
   "execution_count": 43,
   "id": "ce470d8b",
   "metadata": {},
   "outputs": [],
   "source": [
    "# results['Multiple_County_Name'] = results['County_Name'].shift(periods=1)\n",
    "# results['Multiple_District'] = results['District'].shift(periods=1).fillna(99).astype(int)\n",
    "\n",
    "# Edit the assignment for the case when a county has multiple assignments \n",
    "# for i in range(0,len(results)):\n",
    "#     if results['County_Name'].loc[i] == results['Multiple_County_Name'].loc[i]:\n",
    "#         results.loc[i, 'Assignment'] =   int(str(results['District'].loc[i]) + \\\n",
    "#                                                         str(results['Multiple_District'].loc[i]))\n",
    "# results = results.sort_values(['District','County_Name'])\n",
    "# results.index = results['County_ID']"
   ]
  },
  {
   "attachments": {},
   "cell_type": "markdown",
   "id": "5e22fe60",
   "metadata": {},
   "source": [
    "## Creating the maps"
   ]
  },
  {
   "cell_type": "code",
   "execution_count": 44,
   "id": "8adc30cb",
   "metadata": {},
   "outputs": [],
   "source": [
    "color_dict = { 1 : 'red',\n",
    "               2 : 'green',\n",
    "               3 : 'pink',\n",
    "               4 : 'blue',\n",
    "               }\n",
    "\n",
    "def iowa_map(map_data):\n",
    "    \"\"\"\n",
    "    Create three maps to visualize the results.  \n",
    "    (1) A map with county IDs labels\n",
    "    (2) A map with county labels\n",
    "    \"\"\"\n",
    "    plot_map_population_labels = (\n",
    "        ggplot(map_data)\n",
    "    + geom_map(aes(fill=str('Dist_Assignment'))) \n",
    "    + geom_label(aes(x='longitude', y='latitude', label='county_id',size=2), show_legend=False)\n",
    "    + theme_minimal()\n",
    "    + theme(axis_text_x=element_blank(),\n",
    "            axis_text_y=element_blank(),\n",
    "            axis_title_x=element_blank(),\n",
    "            axis_title_y=element_blank(),\n",
    "            axis_ticks=element_blank(),\n",
    "            panel_grid_major=element_blank(),\n",
    "            panel_grid_minor=element_blank(),\n",
    "            figure_size=(7, 4))\n",
    "    + scale_fill_manual(values=color_dict))\n",
    "    \n",
    "    plot_map_county_labels = (\n",
    "        ggplot(map_data)\n",
    "    + geom_map(aes(fill=str('Dist_Assignment'))) \n",
    "    + geom_label(aes(x='longitude', y='latitude', label='county', size=2), \n",
    "                 show_legend=False)\n",
    "    + theme_minimal()\n",
    "    + theme(axis_text_x=element_blank(),\n",
    "            axis_text_y=element_blank(),\n",
    "            axis_title_x=element_blank(),\n",
    "            axis_title_y=element_blank(),\n",
    "            axis_ticks=element_blank(),\n",
    "            panel_grid_major=element_blank(),\n",
    "            panel_grid_minor=element_blank(),\n",
    "            figure_size=(7, 4))\n",
    "    + scale_fill_manual(values=color_dict))\n",
    "    \n",
    "    # plot_map_county_ids = (\n",
    "    #     ggplot(map_data)\n",
    "    # + geom_map(aes(fill=str('Assignment'))) \n",
    "    # + geom_label(aes(x='longitude', y='latitude', label='population', size=5), \n",
    "    #              show_legend=False)\n",
    "    # + theme_minimal()\n",
    "    # + theme(axis_text_x=element_blank(),\n",
    "    #         axis_text_y=element_blank(),\n",
    "    #         axis_title_x=element_blank(),\n",
    "    #         axis_title_y=element_blank(),\n",
    "    #         axis_ticks=element_blank(),\n",
    "    #         panel_grid_major=element_blank(),\n",
    "    #         panel_grid_minor=element_blank(),\n",
    "    #         figure_size=(7, 4))\n",
    "    # + scale_fill_manual(values=color_dict))\n",
    "    \n",
    "    return plot_map_population_labels, plot_map_county_labels\n",
    "# , plot_map_county_ids\n"
   ]
  },
  {
   "cell_type": "code",
   "execution_count": 45,
   "id": "e09a0dd4",
   "metadata": {},
   "outputs": [],
   "source": [
    "new_districts_shapefile['Dist_Assignment'] = new_districts_shapefile['Dist_Assignment'].astype(\"category\")"
   ]
  },
  {
   "cell_type": "code",
   "execution_count": 46,
   "id": "f84138ac",
   "metadata": {},
   "outputs": [],
   "source": [
    "# new_districts_shapefile.loc[new_districts_shapefile['Dist_Assignment']==2]"
   ]
  },
  {
   "cell_type": "code",
   "execution_count": 47,
   "id": "429dbec7",
   "metadata": {},
   "outputs": [
    {
     "data": {
      "image/png": "[encoded data removed]",
      "text/plain": [
       "<Figure size 700x400 with 1 Axes>"
      ]
     },
     "metadata": {},
     "output_type": "display_data"
    },
    {
     "data": {
      "image/png": "[encoded data removed]",
      "text/plain": [
       "<Figure size 700x400 with 1 Axes>"
      ]
     },
     "metadata": {},
     "output_type": "display_data"
    },
    {
     "data": {
      "text/plain": [
       "(<ggplot: (8785323699595)>, <ggplot: (8785315772474)>)"
      ]
     },
     "execution_count": 47,
     "metadata": {},
     "output_type": "execute_result"
    }
   ],
   "source": [
    "iowa_map(new_districts_shapefile)"
   ]
  },
  {
   "cell_type": "code",
   "execution_count": 48,
   "id": "415155fc",
   "metadata": {},
   "outputs": [
    {
     "data": {
      "text/html": [
       "<div>\n",
       "<style scoped>\n",
       "    .dataframe tbody tr th:only-of-type {\n",
       "        vertical-align: middle;\n",
       "    }\n",
       "\n",
       "    .dataframe tbody tr th {\n",
       "        vertical-align: top;\n",
       "    }\n",
       "\n",
       "    .dataframe thead th {\n",
       "        text-align: right;\n",
       "    }\n",
       "</style>\n",
       "<table border=\"1\" class=\"dataframe\">\n",
       "  <thead>\n",
       "    <tr style=\"text-align: right;\">\n",
       "      <th></th>\n",
       "      <th>Dist_Allocation</th>\n",
       "    </tr>\n",
       "    <tr>\n",
       "      <th>District</th>\n",
       "      <th></th>\n",
       "    </tr>\n",
       "  </thead>\n",
       "  <tbody>\n",
       "    <tr>\n",
       "      <th>1</th>\n",
       "      <td>389263</td>\n",
       "    </tr>\n",
       "    <tr>\n",
       "      <th>2</th>\n",
       "      <td>433644</td>\n",
       "    </tr>\n",
       "  </tbody>\n",
       "</table>\n",
       "</div>"
      ],
      "text/plain": [
       "          Dist_Allocation\n",
       "District                 \n",
       "1                  389263\n",
       "2                  433644"
      ]
     },
     "execution_count": 48,
     "metadata": {},
     "output_type": "execute_result"
    }
   ],
   "source": [
    "district_totals = pd.DataFrame(results.groupby('District')['Dist_Allocation'].sum().astype('int64'))\n",
    "district_totals"
   ]
  },
  {
   "attachments": {},
   "cell_type": "markdown",
   "id": "b9a75f6a",
   "metadata": {},
   "source": [
    "# NOW! calc border?"
   ]
  },
  {
   "attachments": {},
   "cell_type": "markdown",
   "id": "58d8d012",
   "metadata": {},
   "source": [
    "## First, reproject to UTM 15N"
   ]
  },
  {
   "attachments": {},
   "cell_type": "markdown",
   "id": "e4810c17",
   "metadata": {},
   "source": [
    "https://epsg.io/26915-1709"
   ]
  },
  {
   "cell_type": "code",
   "execution_count": 49,
   "id": "d4d6fca4",
   "metadata": {},
   "outputs": [
    {
     "data": {
      "text/plain": [
       "<Geographic 2D CRS: EPSG:4269>\n",
       "Name: NAD83\n",
       "Axis Info [ellipsoidal]:\n",
       "- Lat[north]: Geodetic latitude (degree)\n",
       "- Lon[east]: Geodetic longitude (degree)\n",
       "Area of Use:\n",
       "- name: North America - NAD83\n",
       "- bounds: (167.65, 14.92, -47.74, 86.46)\n",
       "Datum: North American Datum 1983\n",
       "- Ellipsoid: GRS 1980\n",
       "- Prime Meridian: Greenwich"
      ]
     },
     "execution_count": 49,
     "metadata": {},
     "output_type": "execute_result"
    }
   ],
   "source": [
    "shapefile_subState.crs"
   ]
  },
  {
   "cell_type": "code",
   "execution_count": 50,
   "id": "ced77e98",
   "metadata": {},
   "outputs": [
    {
     "data": {
      "text/plain": [
       "<Projected CRS: EPSG:26915>\n",
       "Name: NAD83 / UTM zone 15N\n",
       "Axis Info [cartesian]:\n",
       "- E[east]: Easting (metre)\n",
       "- N[north]: Northing (metre)\n",
       "Area of Use:\n",
       "- name: North America - 96°W to 90°W and NAD83 by country\n",
       "- bounds: (-96.0, 25.61, -90.0, 84.0)\n",
       "Coordinate Operation:\n",
       "- name: UTM zone 15N\n",
       "- method: Transverse Mercator\n",
       "Datum: North American Datum 1983\n",
       "- Ellipsoid: GRS 1980\n",
       "- Prime Meridian: Greenwich"
      ]
     },
     "execution_count": 50,
     "metadata": {},
     "output_type": "execute_result"
    }
   ],
   "source": [
    "shapefile_subState_projected = shapefile_subState.to_crs(epsg=26915)\n",
    "shapefile_subState_projected.crs"
   ]
  },
  {
   "cell_type": "code",
   "execution_count": 51,
   "id": "c39c4fe2",
   "metadata": {},
   "outputs": [
    {
     "data": {
      "text/plain": [
       "<Projected CRS: EPSG:26915>\n",
       "Name: NAD83 / UTM zone 15N\n",
       "Axis Info [cartesian]:\n",
       "- E[east]: Easting (metre)\n",
       "- N[north]: Northing (metre)\n",
       "Area of Use:\n",
       "- name: North America - 96°W to 90°W and NAD83 by country\n",
       "- bounds: (-96.0, 25.61, -90.0, 84.0)\n",
       "Coordinate Operation:\n",
       "- name: UTM zone 15N\n",
       "- method: Transverse Mercator\n",
       "Datum: North American Datum 1983\n",
       "- Ellipsoid: GRS 1980\n",
       "- Prime Meridian: Greenwich"
      ]
     },
     "execution_count": 51,
     "metadata": {},
     "output_type": "execute_result"
    }
   ],
   "source": [
    "new_districts_shapefile_projected = new_districts_shapefile.to_crs(epsg=26915)\n",
    "new_districts_shapefile_projected.crs"
   ]
  },
  {
   "cell_type": "code",
   "execution_count": 52,
   "id": "b799a532",
   "metadata": {},
   "outputs": [
    {
     "data": {
      "image/png": "[encoded data removed]",
      "text/plain": [
       "<Figure size 700x400 with 1 Axes>"
      ]
     },
     "metadata": {},
     "output_type": "display_data"
    },
    {
     "data": {
      "image/png": "[encoded data removed]",
      "text/plain": [
       "<Figure size 700x400 with 1 Axes>"
      ]
     },
     "metadata": {},
     "output_type": "display_data"
    },
    {
     "data": {
      "text/plain": [
       "(<ggplot: (8785316362009)>, <ggplot: (8785315701167)>)"
      ]
     },
     "execution_count": 52,
     "metadata": {},
     "output_type": "execute_result"
    }
   ],
   "source": [
    "iowa_map(new_districts_shapefile_projected)"
   ]
  },
  {
   "attachments": {},
   "cell_type": "markdown",
   "id": "82c950f8",
   "metadata": {},
   "source": [
    "## now calculate boundaries?"
   ]
  },
  {
   "cell_type": "code",
   "execution_count": 53,
   "id": "345e00f6",
   "metadata": {},
   "outputs": [
    {
     "name": "stderr",
     "output_type": "stream",
     "text": [
      "/tmp/ipykernel_27060/3818848921.py:1: UserWarning: Geometry is in a geographic CRS. Results from 'area' are likely incorrect. Use 'GeoSeries.to_crs()' to re-project geometries to a projected CRS before this operation.\n",
      "\n"
     ]
    },
    {
     "data": {
      "text/plain": [
       "0    0.163199\n",
       "1    0.199560\n",
       "2    0.164144\n",
       "3    0.174823\n",
       "4    0.183316\n",
       "5    0.174498\n",
       "6    0.162700\n",
       "7    0.204158\n",
       "8    0.125408\n",
       "9    0.131042\n",
       "dtype: float64"
      ]
     },
     "execution_count": 53,
     "metadata": {},
     "output_type": "execute_result"
    }
   ],
   "source": [
    "shapefile_subState['geometry'].area"
   ]
  },
  {
   "cell_type": "code",
   "execution_count": 54,
   "id": "c60d7346",
   "metadata": {},
   "outputs": [
    {
     "data": {
      "text/plain": [
       "0    1.506810e+09\n",
       "1    1.839785e+09\n",
       "2    1.498933e+09\n",
       "3    1.596990e+09\n",
       "4    1.682801e+09\n",
       "5    1.613214e+09\n",
       "6    1.494120e+09\n",
       "7    1.875584e+09\n",
       "8    1.163025e+09\n",
       "9    1.212864e+09\n",
       "dtype: float64"
      ]
     },
     "execution_count": 54,
     "metadata": {},
     "output_type": "execute_result"
    }
   ],
   "source": [
    "shapefile_subState_projected['geometry'].area"
   ]
  },
  {
   "cell_type": "code",
   "execution_count": null,
   "id": "9cb6b97c",
   "metadata": {},
   "outputs": [],
   "source": []
  },
  {
   "cell_type": "code",
   "execution_count": 55,
   "id": "8faeb4c7",
   "metadata": {},
   "outputs": [],
   "source": [
    "gdf_subState_testing = new_districts_shapefile_projected\n",
    "gdf_subState_testing[\"area\"] = gdf_subState_testing[\"geometry\"].area\n",
    "gdf_subState_testing[\"perimeter\"] = gdf_subState_testing[\"geometry\"].length"
   ]
  },
  {
   "cell_type": "code",
   "execution_count": 56,
   "id": "a5bce2e2",
   "metadata": {},
   "outputs": [
    {
     "data": {
      "text/html": [
       "<div>\n",
       "<style scoped>\n",
       "    .dataframe tbody tr th:only-of-type {\n",
       "        vertical-align: middle;\n",
       "    }\n",
       "\n",
       "    .dataframe tbody tr th {\n",
       "        vertical-align: top;\n",
       "    }\n",
       "\n",
       "    .dataframe thead th {\n",
       "        text-align: right;\n",
       "    }\n",
       "</style>\n",
       "<table border=\"1\" class=\"dataframe\">\n",
       "  <thead>\n",
       "    <tr style=\"text-align: right;\">\n",
       "      <th></th>\n",
       "      <th>STATEFP10</th>\n",
       "      <th>COUNTYFP10</th>\n",
       "      <th>GEOID10</th>\n",
       "      <th>NAME10</th>\n",
       "      <th>NAMELSAD10</th>\n",
       "      <th>ALAND10</th>\n",
       "      <th>AWATER10</th>\n",
       "      <th>INTPTLAT10</th>\n",
       "      <th>INTPTLON10</th>\n",
       "      <th>TOTPOP</th>\n",
       "      <th>...</th>\n",
       "      <th>county_id</th>\n",
       "      <th>county</th>\n",
       "      <th>population</th>\n",
       "      <th>latitude</th>\n",
       "      <th>longitude</th>\n",
       "      <th>District</th>\n",
       "      <th>Dist_Assignment</th>\n",
       "      <th>Dist_Allocation</th>\n",
       "      <th>area</th>\n",
       "      <th>perimeter</th>\n",
       "    </tr>\n",
       "  </thead>\n",
       "  <tbody>\n",
       "    <tr>\n",
       "      <th>0</th>\n",
       "      <td>19</td>\n",
       "      <td>031</td>\n",
       "      <td>19031</td>\n",
       "      <td>Cedar</td>\n",
       "      <td>Cedar County</td>\n",
       "      <td>1500731293</td>\n",
       "      <td>6385840</td>\n",
       "      <td>+41.7723547</td>\n",
       "      <td>-091.1321900</td>\n",
       "      <td>18499</td>\n",
       "      <td>...</td>\n",
       "      <td>15</td>\n",
       "      <td>Cedar</td>\n",
       "      <td>18505</td>\n",
       "      <td>41.772355</td>\n",
       "      <td>-91.132190</td>\n",
       "      <td>1</td>\n",
       "      <td>1</td>\n",
       "      <td>18505</td>\n",
       "      <td>1.506810e+09</td>\n",
       "      <td>155333.700386</td>\n",
       "    </tr>\n",
       "    <tr>\n",
       "      <th>1</th>\n",
       "      <td>19</td>\n",
       "      <td>045</td>\n",
       "      <td>19045</td>\n",
       "      <td>Clinton</td>\n",
       "      <td>Clinton County</td>\n",
       "      <td>1799821282</td>\n",
       "      <td>39523759</td>\n",
       "      <td>+41.8980732</td>\n",
       "      <td>-090.5342431</td>\n",
       "      <td>49116</td>\n",
       "      <td>...</td>\n",
       "      <td>22</td>\n",
       "      <td>Clinton</td>\n",
       "      <td>46460</td>\n",
       "      <td>41.898073</td>\n",
       "      <td>-90.534243</td>\n",
       "      <td>2</td>\n",
       "      <td>2</td>\n",
       "      <td>46460</td>\n",
       "      <td>1.839785e+09</td>\n",
       "      <td>206497.099838</td>\n",
       "    </tr>\n",
       "    <tr>\n",
       "      <th>2</th>\n",
       "      <td>19</td>\n",
       "      <td>055</td>\n",
       "      <td>19055</td>\n",
       "      <td>Delaware</td>\n",
       "      <td>Delaware County</td>\n",
       "      <td>1496381153</td>\n",
       "      <td>3082496</td>\n",
       "      <td>+42.4730031</td>\n",
       "      <td>-091.3594425</td>\n",
       "      <td>17764</td>\n",
       "      <td>...</td>\n",
       "      <td>27</td>\n",
       "      <td>Delaware</td>\n",
       "      <td>17488</td>\n",
       "      <td>42.473003</td>\n",
       "      <td>-91.359443</td>\n",
       "      <td>2</td>\n",
       "      <td>2</td>\n",
       "      <td>17488</td>\n",
       "      <td>1.498933e+09</td>\n",
       "      <td>156110.824557</td>\n",
       "    </tr>\n",
       "    <tr>\n",
       "      <th>3</th>\n",
       "      <td>19</td>\n",
       "      <td>061</td>\n",
       "      <td>19061</td>\n",
       "      <td>Dubuque</td>\n",
       "      <td>Dubuque County</td>\n",
       "      <td>1575501687</td>\n",
       "      <td>21569071</td>\n",
       "      <td>+42.4634808</td>\n",
       "      <td>-090.8787708</td>\n",
       "      <td>93653</td>\n",
       "      <td>...</td>\n",
       "      <td>30</td>\n",
       "      <td>Dubuque</td>\n",
       "      <td>99266</td>\n",
       "      <td>42.463481</td>\n",
       "      <td>-90.878771</td>\n",
       "      <td>2</td>\n",
       "      <td>2</td>\n",
       "      <td>99266</td>\n",
       "      <td>1.596990e+09</td>\n",
       "      <td>180675.300927</td>\n",
       "    </tr>\n",
       "    <tr>\n",
       "      <th>4</th>\n",
       "      <td>19</td>\n",
       "      <td>097</td>\n",
       "      <td>19097</td>\n",
       "      <td>Jackson</td>\n",
       "      <td>Jackson County</td>\n",
       "      <td>1647332960</td>\n",
       "      <td>35141529</td>\n",
       "      <td>+42.1642812</td>\n",
       "      <td>-090.5745965</td>\n",
       "      <td>19848</td>\n",
       "      <td>...</td>\n",
       "      <td>48</td>\n",
       "      <td>Jackson</td>\n",
       "      <td>19485</td>\n",
       "      <td>42.164281</td>\n",
       "      <td>-90.574596</td>\n",
       "      <td>2</td>\n",
       "      <td>2</td>\n",
       "      <td>19485</td>\n",
       "      <td>1.682801e+09</td>\n",
       "      <td>189411.988084</td>\n",
       "    </tr>\n",
       "  </tbody>\n",
       "</table>\n",
       "<p>5 rows × 22 columns</p>\n",
       "</div>"
      ],
      "text/plain": [
       "  STATEFP10 COUNTYFP10  GEOID10    NAME10       NAMELSAD10     ALAND10  \\\n",
       "0        19        031    19031     Cedar     Cedar County  1500731293   \n",
       "1        19        045    19045   Clinton   Clinton County  1799821282   \n",
       "2        19        055    19055  Delaware  Delaware County  1496381153   \n",
       "3        19        061    19061   Dubuque   Dubuque County  1575501687   \n",
       "4        19        097    19097   Jackson   Jackson County  1647332960   \n",
       "\n",
       "   AWATER10   INTPTLAT10    INTPTLON10  TOTPOP  ... county_id     county  \\\n",
       "0   6385840  +41.7723547  -091.1321900   18499  ...        15     Cedar    \n",
       "1  39523759  +41.8980732  -090.5342431   49116  ...        22   Clinton    \n",
       "2   3082496  +42.4730031  -091.3594425   17764  ...        27  Delaware    \n",
       "3  21569071  +42.4634808  -090.8787708   93653  ...        30   Dubuque    \n",
       "4  35141529  +42.1642812  -090.5745965   19848  ...        48   Jackson    \n",
       "\n",
       "   population   latitude  longitude  District  Dist_Assignment  \\\n",
       "0       18505  41.772355 -91.132190         1                1   \n",
       "1       46460  41.898073 -90.534243         2                2   \n",
       "2       17488  42.473003 -91.359443         2                2   \n",
       "3       99266  42.463481 -90.878771         2                2   \n",
       "4       19485  42.164281 -90.574596         2                2   \n",
       "\n",
       "   Dist_Allocation          area      perimeter  \n",
       "0            18505  1.506810e+09  155333.700386  \n",
       "1            46460  1.839785e+09  206497.099838  \n",
       "2            17488  1.498933e+09  156110.824557  \n",
       "3            99266  1.596990e+09  180675.300927  \n",
       "4            19485  1.682801e+09  189411.988084  \n",
       "\n",
       "[5 rows x 22 columns]"
      ]
     },
     "execution_count": 56,
     "metadata": {},
     "output_type": "execute_result"
    }
   ],
   "source": [
    "gdf_subState_testing.head()"
   ]
  },
  {
   "cell_type": "code",
   "execution_count": 57,
   "id": "3b122eef",
   "metadata": {},
   "outputs": [
    {
     "data": {
      "text/plain": [
       "STATEFP10                                                         19\n",
       "COUNTYFP10                                                       031\n",
       "GEOID10                                                        19031\n",
       "NAME10                                                         Cedar\n",
       "NAMELSAD10                                              Cedar County\n",
       "ALAND10                                                   1500731293\n",
       "AWATER10                                                     6385840\n",
       "INTPTLAT10                                               +41.7723547\n",
       "INTPTLON10                                              -091.1321900\n",
       "TOTPOP                                                         18499\n",
       "CD                                                                 2\n",
       "geometry           POLYGON ((658816.8950950331 4606839.017172024,...\n",
       "county_id                                                         15\n",
       "county                                                        Cedar \n",
       "population                                                     18505\n",
       "latitude                                                   41.772355\n",
       "longitude                                                  -91.13219\n",
       "District                                                           1\n",
       "Dist_Assignment                                                    1\n",
       "Dist_Allocation                                                18505\n",
       "area                                                1506809883.31238\n",
       "perimeter                                              155333.700386\n",
       "Name: 0, dtype: object"
      ]
     },
     "execution_count": 57,
     "metadata": {},
     "output_type": "execute_result"
    }
   ],
   "source": [
    "gdf_subState_testing.iloc[0]"
   ]
  },
  {
   "attachments": {},
   "cell_type": "markdown",
   "id": "4299f767",
   "metadata": {},
   "source": [
    "according to wikipedia/census:\n",
    "Cedar county area: 582 square miles (1510 square kilometers), 579 (1500) land vs 2.5 (6.5) water"
   ]
  },
  {
   "cell_type": "code",
   "execution_count": 58,
   "id": "9b90a705",
   "metadata": {},
   "outputs": [
    {
     "data": {
      "text/plain": [
       "1507117133"
      ]
     },
     "execution_count": 58,
     "metadata": {},
     "output_type": "execute_result"
    }
   ],
   "source": [
    "gdf_subState_testing.iloc[0][\"ALAND10\"]+ gdf_subState_testing.iloc[0][\"AWATER10\"]"
   ]
  },
  {
   "cell_type": "code",
   "execution_count": 59,
   "id": "fdde3ae3",
   "metadata": {},
   "outputs": [
    {
     "data": {
      "text/plain": [
       "1507.117133"
      ]
     },
     "execution_count": 59,
     "metadata": {},
     "output_type": "execute_result"
    }
   ],
   "source": [
    "# convert square meters to square kilometers\n",
    "1507117133 / (1000*1000)"
   ]
  },
  {
   "cell_type": "code",
   "execution_count": 60,
   "id": "a944fd0e",
   "metadata": {},
   "outputs": [
    {
     "data": {
      "text/plain": [
       "1506.8098833123802"
      ]
     },
     "execution_count": 60,
     "metadata": {},
     "output_type": "execute_result"
    }
   ],
   "source": [
    "1506809883.31238 / (1000*1000)"
   ]
  },
  {
   "attachments": {},
   "cell_type": "markdown",
   "id": "56c0e47c",
   "metadata": {},
   "source": [
    "https://stackoverflow.com/questions/55012862/return-length-of-border-segment-between-geographic-areas-in-geopandas"
   ]
  },
  {
   "cell_type": "code",
   "execution_count": 61,
   "id": "84e56760",
   "metadata": {},
   "outputs": [],
   "source": [
    "Cedar = gdf_subState_testing.geometry[0]\n",
    "Clinton = gdf_subState_testing.geometry[1]"
   ]
  },
  {
   "cell_type": "code",
   "execution_count": 62,
   "id": "21a5354b",
   "metadata": {},
   "outputs": [],
   "source": [
    "cedar_intersect_clinton = Cedar.intersection(Clinton)"
   ]
  },
  {
   "cell_type": "code",
   "execution_count": 63,
   "id": "75f71263",
   "metadata": {},
   "outputs": [
    {
     "name": "stdout",
     "output_type": "stream",
     "text": [
      "Length in meters: 19521\n"
     ]
    }
   ],
   "source": [
    "cedar_clint_length = cedar_intersect_clinton.length\n",
    "print(\"Length in meters: %d\" % cedar_clint_length)"
   ]
  },
  {
   "attachments": {},
   "cell_type": "markdown",
   "id": "13a854a9",
   "metadata": {},
   "source": [
    "## make an adjacency/shared perimeter matrix for all 10 counties"
   ]
  },
  {
   "cell_type": "code",
   "execution_count": 64,
   "id": "87ee58e2",
   "metadata": {},
   "outputs": [
    {
     "data": {
      "text/plain": [
       "10"
      ]
     },
     "execution_count": 64,
     "metadata": {},
     "output_type": "execute_result"
    }
   ],
   "source": [
    "n_counties"
   ]
  },
  {
   "cell_type": "code",
   "execution_count": 65,
   "id": "eb011bd9",
   "metadata": {},
   "outputs": [],
   "source": [
    "foo = np.zeros((n_counties,n_counties))"
   ]
  },
  {
   "cell_type": "code",
   "execution_count": 66,
   "id": "f44968f1",
   "metadata": {},
   "outputs": [
    {
     "data": {
      "text/plain": [
       "array([[0., 0., 0., 0., 0., 0., 0., 0., 0., 0.],\n",
       "       [0., 0., 7., 0., 0., 0., 0., 0., 0., 0.],\n",
       "       [0., 0., 0., 0., 0., 0., 0., 0., 0., 0.],\n",
       "       [0., 0., 0., 0., 0., 0., 0., 0., 0., 0.],\n",
       "       [0., 0., 0., 0., 0., 0., 0., 0., 0., 0.],\n",
       "       [0., 0., 0., 0., 0., 0., 0., 0., 0., 0.],\n",
       "       [0., 0., 0., 0., 0., 0., 0., 0., 0., 0.],\n",
       "       [0., 0., 0., 0., 0., 0., 0., 0., 0., 0.],\n",
       "       [0., 0., 0., 0., 0., 0., 0., 0., 0., 0.],\n",
       "       [0., 0., 0., 0., 0., 0., 0., 0., 0., 0.]])"
      ]
     },
     "execution_count": 66,
     "metadata": {},
     "output_type": "execute_result"
    }
   ],
   "source": [
    "foo[1,2] = 7\n",
    "foo"
   ]
  },
  {
   "cell_type": "code",
   "execution_count": 83,
   "id": "2c629966",
   "metadata": {},
   "outputs": [
    {
     "data": {
      "text/plain": [
       "array([[    0.        , 19521.18003827,     0.        ,     0.        ,\n",
       "            0.        , 29091.28981443, 38752.38125981,  9699.73978714,\n",
       "        38914.06495524, 19355.04453139],\n",
       "       [19521.18003827,     0.        ,     0.        ,     0.        ,\n",
       "        61650.3242549 ,     0.        ,  9700.51177533,     0.        ,\n",
       "            0.        , 74093.82316843],\n",
       "       [    0.        ,     0.        ,     0.        , 39165.1100384 ,\n",
       "            0.        ,     0.        , 19251.93048184, 19272.40114282,\n",
       "            0.        ,     0.        ],\n",
       "       [    0.        ,     0.        , 39165.1100384 ,     0.        ,\n",
       "        44675.5047543 ,     0.        , 19148.8573389 ,     0.        ,\n",
       "            0.        ,     0.        ],\n",
       "       [    0.        , 61650.3242549 ,     0.        , 44675.5047543 ,\n",
       "            0.        ,     0.        , 29069.44870252,     0.        ,\n",
       "            0.        ,     0.        ],\n",
       "       [29091.28981443,     0.        ,     0.        ,     0.        ,\n",
       "            0.        ,     0.        ,     0.        , 38640.88186801,\n",
       "        19456.46633609,     0.        ],\n",
       "       [38752.38125981,  9700.51177533, 19251.93048184, 19148.8573389 ,\n",
       "        29069.44870252,     0.        ,     0.        , 38780.55691957,\n",
       "            0.        ,     0.        ],\n",
       "       [ 9699.73978714,     0.        , 19272.40114282,     0.        ,\n",
       "            0.        , 38640.88186801, 38780.55691957,     0.        ,\n",
       "            0.        ,     0.        ],\n",
       "       [38914.06495524,     0.        ,     0.        ,     0.        ,\n",
       "            0.        , 19456.46633609,     0.        ,     0.        ,\n",
       "            0.        , 25649.74853074],\n",
       "       [19355.04453139, 74093.82316843,     0.        ,     0.        ,\n",
       "            0.        ,     0.        ,     0.        ,     0.        ,\n",
       "        25649.74853074,     0.        ]])"
      ]
     },
     "execution_count": 83,
     "metadata": {},
     "output_type": "execute_result"
    }
   ],
   "source": [
    "# sharedperim_matrix = pd.DataFrame()\n",
    "sharedperim_matrix = np.zeros((n_counties,n_counties))\n",
    "\n",
    "for j in range(n_counties):\n",
    "    county_j = gdf_subState_testing.geometry[j]\n",
    "    for i in range(n_counties):\n",
    "        if j != i :\n",
    "            county_i = gdf_subState_testing.geometry[i]\n",
    "            intersection_length = county_j.intersection(county_i)\n",
    "            sharedperim_matrix[i,j] = intersection_length.length\n",
    "        else:\n",
    "            sharedperim_matrix[i,j]=0\n",
    "\n",
    "sharedperim_matrix"
   ]
  },
  {
   "cell_type": "code",
   "execution_count": 84,
   "id": "374497b5",
   "metadata": {},
   "outputs": [
    {
     "data": {
      "text/plain": [
       "array([155332, 164964,  77688, 102988, 135394,  87187, 154700, 106391,\n",
       "        84019, 119097])"
      ]
     },
     "execution_count": 84,
     "metadata": {},
     "output_type": "execute_result"
    }
   ],
   "source": [
    "# summing INTERNAL perimeters\n",
    "sharedperim_matrix = sharedperim_matrix.astype(int)\n",
    "np.sum(sharedperim_matrix,axis=0)"
   ]
  },
  {
   "cell_type": "code",
   "execution_count": 82,
   "id": "1c1dc0fb",
   "metadata": {},
   "outputs": [
    {
     "data": {
      "text/plain": [
       "0    155333.700386\n",
       "1    206497.099838\n",
       "2    156110.824557\n",
       "3    180675.300927\n",
       "4    189411.988084\n",
       "5    178029.457820\n",
       "6    154703.686478\n",
       "7    174299.455538\n",
       "8    151668.299341\n",
       "9    178982.512569\n",
       "Name: perimeter, dtype: float64"
      ]
     },
     "execution_count": 82,
     "metadata": {},
     "output_type": "execute_result"
    }
   ],
   "source": [
    "gdf_subState_testing[\"perimeter\"]\n",
    "# this should be different for all counties on the boundary\n",
    "# of the subset (i.e. all except cedar/jones,\n",
    "#  which are 0 (15) and 6 (52))"
   ]
  },
  {
   "cell_type": "code",
   "execution_count": null,
   "id": "fe94f87a",
   "metadata": {},
   "outputs": [],
   "source": []
  }
 ],
 "metadata": {
  "kernelspec": {
   "display_name": "base",
   "language": "python",
   "name": "python3"
  },
  "language_info": {
   "codemirror_mode": {
    "name": "ipython",
    "version": 3
   },
   "file_extension": ".py",
   "mimetype": "text/x-python",
   "name": "python",
   "nbconvert_exporter": "python",
   "pygments_lexer": "ipython3",
   "version": "3.9.13"
  },
  "vscode": {
   "interpreter": {
    "hash": "c7187ad058efaad0b7526032999616acc13f10c7752ca60ad083c0ec3504d145"
   }
  }
 },
 "nbformat": 4,
 "nbformat_minor": 5
}
