{
 "cells": [
  {
   "cell_type": "code",
   "execution_count": 19,
   "metadata": {},
   "outputs": [],
   "source": [
    "from bs4 import BeautifulSoup\n",
    "from requests import get\n",
    "from selenium import webdriver\n",
    "\n",
    "req = get('https://sos.iowa.gov/elections/results/precinctvotetotals2022general.html')\n"
   ]
  },
  {
   "cell_type": "code",
   "execution_count": 11,
   "metadata": {},
   "outputs": [],
   "source": [
    "# page = get(\"https://www.kompas.com/ramadhan/jadwal-imsakiyah/kota-pangkal-pinang\")\n",
    "# soup = BeautifulSoup(page.text,\"lxml\")"
   ]
  },
  {
   "cell_type": "code",
   "execution_count": 12,
   "metadata": {},
   "outputs": [],
   "source": [
    "# options = soup.find(\"select\",{\"name\":\"state\"}).findAll(\"option\")"
   ]
  },
  {
   "cell_type": "code",
   "execution_count": 13,
   "metadata": {},
   "outputs": [],
   "source": [
    "# daerah = []\n",
    "\n",
    "# for i in options:\n",
    "#   name = i.text\n",
    "#   link = i[\"value\"];daerah.append({\n",
    "#       \"province\": name,\n",
    "#       \"link\": link\n",
    "#   })"
   ]
  },
  {
   "cell_type": "code",
   "execution_count": 25,
   "metadata": {},
   "outputs": [],
   "source": [
    "soup = BeautifulSoup(str(req.content), 'lxml')\n",
    "# files = soup.find_all('a', id='cbo')\n",
    "\n",
    "# option = soup.find(\"selected\",{\"name\":\"try\"}).findAll(\"option\")\n",
    "# option_ = soup.find(\"select\", {\"style\": \"font-size:16px\"}).findAll(\"option\")\n",
    "# print(option)\n",
    "# print(option_)\n",
    "\n",
    "# for file in files:\n",
    "#     print(file['href'])\n",
    "\n",
    "\n",
    "# browser = webdriver.Chrome()\n",
    "url = ('https://sos.iowa.gov/elections/results/precinctvotetotals2022general.html')\n",
    "# browser.get(url)\n",
    "req=get(url)\n",
    "# html_source = browser.page_source\n",
    "# browser.quit()\n",
    "soup = BeautifulSoup(req.text, 'html.parser')\n",
    "for name_list in soup.find_all(type ='option'):\n",
    "    print(name_list.text)"
   ]
  },
  {
   "cell_type": "code",
   "execution_count": null,
   "metadata": {},
   "outputs": [],
   "source": []
  }
 ],
 "metadata": {
  "kernelspec": {
   "display_name": "myenv",
   "language": "python",
   "name": "python3"
  },
  "language_info": {
   "codemirror_mode": {
    "name": "ipython",
    "version": 3
   },
   "file_extension": ".py",
   "mimetype": "text/x-python",
   "name": "python",
   "nbconvert_exporter": "python",
   "pygments_lexer": "ipython3",
   "version": "3.10.4"
  },
  "orig_nbformat": 4,
  "vscode": {
   "interpreter": {
    "hash": "857970f990130bbcaee778cf1846f7875676d945310dca1379fe4b5ef3d258a5"
   }
  }
 },
 "nbformat": 4,
 "nbformat_minor": 2
}
