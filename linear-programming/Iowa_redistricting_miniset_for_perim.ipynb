{
 "cells": [
  {
   "attachments": {},
   "cell_type": "markdown",
   "id": "794a648a",
   "metadata": {},
   "source": [
    "A fork of the main Iowa_redistricting notebook from March 8, with extraneous bits removed. \n",
    "\n",
    "First, creating a 10 county subset of Iowa for testing purposes.\n"
   ]
  },
  {
   "cell_type": "code",
   "execution_count": 1,
   "id": "77f457be",
   "metadata": {},
   "outputs": [],
   "source": [
    "import numpy as np\n",
    "import pandas as pd\n",
    "import geopandas as gpd\n",
    "import seaborn as sns\n",
    "from PIL import Image, ImageOps\n",
    "from plotnine import (ggplot, aes, geom_map, geom_text, geom_label, \n",
    "                      ggtitle, element_blank, element_rect, \n",
    "                      scale_fill_manual, theme_minimal, theme) \n",
    "from pulp import (LpProblem, LpMinimize, LpVariable, lpSum, \n",
    "                  PULP_CBC_CMD, GLPK_CMD, LpStatus, value) "
   ]
  },
  {
   "attachments": {},
   "cell_type": "markdown",
   "id": "f9feb3d4",
   "metadata": {},
   "source": [
    "# Old stuff from main iowa_redistricting"
   ]
  },
  {
   "attachments": {},
   "cell_type": "markdown",
   "id": "1f03496d",
   "metadata": {},
   "source": [
    "## Prepping the census and geopandas dataframes"
   ]
  },
  {
   "cell_type": "code",
   "execution_count": 2,
   "id": "21899131",
   "metadata": {},
   "outputs": [
    {
     "data": {
      "text/html": [
       "<div>\n",
       "<style scoped>\n",
       "    .dataframe tbody tr th:only-of-type {\n",
       "        vertical-align: middle;\n",
       "    }\n",
       "\n",
       "    .dataframe tbody tr th {\n",
       "        vertical-align: top;\n",
       "    }\n",
       "\n",
       "    .dataframe thead th {\n",
       "        text-align: right;\n",
       "    }\n",
       "</style>\n",
       "<table border=\"1\" class=\"dataframe\">\n",
       "  <thead>\n",
       "    <tr style=\"text-align: right;\">\n",
       "      <th></th>\n",
       "      <th>county_id</th>\n",
       "      <th>county</th>\n",
       "      <th>population</th>\n",
       "      <th>COUNTYFP10</th>\n",
       "      <th>latitude</th>\n",
       "      <th>longitude</th>\n",
       "    </tr>\n",
       "  </thead>\n",
       "  <tbody>\n",
       "    <tr>\n",
       "      <th>0</th>\n",
       "      <td>0</td>\n",
       "      <td>Adair</td>\n",
       "      <td>7496</td>\n",
       "      <td>1</td>\n",
       "      <td>41.328528</td>\n",
       "      <td>-94.478164</td>\n",
       "    </tr>\n",
       "    <tr>\n",
       "      <th>1</th>\n",
       "      <td>1</td>\n",
       "      <td>Adams</td>\n",
       "      <td>3704</td>\n",
       "      <td>3</td>\n",
       "      <td>41.021656</td>\n",
       "      <td>-94.696906</td>\n",
       "    </tr>\n",
       "    <tr>\n",
       "      <th>2</th>\n",
       "      <td>2</td>\n",
       "      <td>Allamakee</td>\n",
       "      <td>14061</td>\n",
       "      <td>5</td>\n",
       "      <td>43.274964</td>\n",
       "      <td>-91.382751</td>\n",
       "    </tr>\n",
       "    <tr>\n",
       "      <th>3</th>\n",
       "      <td>3</td>\n",
       "      <td>Appanoose</td>\n",
       "      <td>12317</td>\n",
       "      <td>7</td>\n",
       "      <td>40.744683</td>\n",
       "      <td>-92.870345</td>\n",
       "    </tr>\n",
       "    <tr>\n",
       "      <th>4</th>\n",
       "      <td>4</td>\n",
       "      <td>Audubon</td>\n",
       "      <td>5674</td>\n",
       "      <td>9</td>\n",
       "      <td>41.679178</td>\n",
       "      <td>-94.904312</td>\n",
       "    </tr>\n",
       "  </tbody>\n",
       "</table>\n",
       "</div>"
      ],
      "text/plain": [
       "   county_id      county  population  COUNTYFP10   latitude  longitude\n",
       "0          0      Adair         7496           1  41.328528 -94.478164\n",
       "1          1      Adams         3704           3  41.021656 -94.696906\n",
       "2          2  Allamakee        14061           5  43.274964 -91.382751\n",
       "3          3  Appanoose        12317           7  40.744683 -92.870345\n",
       "4          4    Audubon         5674           9  41.679178 -94.904312"
      ]
     },
     "execution_count": 2,
     "metadata": {},
     "output_type": "execute_result"
    }
   ],
   "source": [
    "df=pd.read_csv('../census.csv')\n",
    "df.head()"
   ]
  },
  {
   "cell_type": "code",
   "execution_count": 3,
   "id": "f08fe179",
   "metadata": {},
   "outputs": [],
   "source": [
    "df['COUNTYFP10']=df['COUNTYFP10'].astype(str).str.pad(3,fillchar='0')"
   ]
  },
  {
   "cell_type": "code",
   "execution_count": 4,
   "id": "84647dc1",
   "metadata": {},
   "outputs": [
    {
     "name": "stdout",
     "output_type": "stream",
     "text": [
      "<class 'pandas.core.frame.DataFrame'>\n",
      "RangeIndex: 99 entries, 0 to 98\n",
      "Data columns (total 6 columns):\n",
      " #   Column      Non-Null Count  Dtype  \n",
      "---  ------      --------------  -----  \n",
      " 0   county_id   99 non-null     int64  \n",
      " 1   county      99 non-null     object \n",
      " 2   population  99 non-null     int64  \n",
      " 3   COUNTYFP10  99 non-null     object \n",
      " 4   latitude    99 non-null     float64\n",
      " 5   longitude   99 non-null     float64\n",
      "dtypes: float64(2), int64(2), object(2)\n",
      "memory usage: 4.8+ KB\n"
     ]
    }
   ],
   "source": [
    "df.info()"
   ]
  },
  {
   "cell_type": "code",
   "execution_count": 5,
   "id": "3715462b",
   "metadata": {},
   "outputs": [
    {
     "data": {
      "text/html": [
       "<div>\n",
       "<style scoped>\n",
       "    .dataframe tbody tr th:only-of-type {\n",
       "        vertical-align: middle;\n",
       "    }\n",
       "\n",
       "    .dataframe tbody tr th {\n",
       "        vertical-align: top;\n",
       "    }\n",
       "\n",
       "    .dataframe thead th {\n",
       "        text-align: right;\n",
       "    }\n",
       "</style>\n",
       "<table border=\"1\" class=\"dataframe\">\n",
       "  <thead>\n",
       "    <tr style=\"text-align: right;\">\n",
       "      <th></th>\n",
       "      <th>STATEFP10</th>\n",
       "      <th>COUNTYFP10</th>\n",
       "      <th>GEOID10</th>\n",
       "      <th>NAME10</th>\n",
       "      <th>NAMELSAD10</th>\n",
       "      <th>ALAND10</th>\n",
       "      <th>AWATER10</th>\n",
       "      <th>INTPTLAT10</th>\n",
       "      <th>INTPTLON10</th>\n",
       "      <th>TOTPOP</th>\n",
       "      <th>...</th>\n",
       "      <th>TOTVOT12</th>\n",
       "      <th>PRES12D</th>\n",
       "      <th>PRES12R</th>\n",
       "      <th>PRES12OTH</th>\n",
       "      <th>TOTVOT16</th>\n",
       "      <th>PRES16D</th>\n",
       "      <th>PRES16R</th>\n",
       "      <th>PRES16OTH</th>\n",
       "      <th>CD</th>\n",
       "      <th>geometry</th>\n",
       "    </tr>\n",
       "  </thead>\n",
       "  <tbody>\n",
       "    <tr>\n",
       "      <th>0</th>\n",
       "      <td>19</td>\n",
       "      <td>001</td>\n",
       "      <td>19001</td>\n",
       "      <td>Adair</td>\n",
       "      <td>Adair County</td>\n",
       "      <td>1474404167</td>\n",
       "      <td>2597997</td>\n",
       "      <td>+41.3285283</td>\n",
       "      <td>-094.4781643</td>\n",
       "      <td>7682</td>\n",
       "      <td>...</td>\n",
       "      <td>3996</td>\n",
       "      <td>1790</td>\n",
       "      <td>2114</td>\n",
       "      <td>92</td>\n",
       "      <td>3811</td>\n",
       "      <td>1133</td>\n",
       "      <td>2461</td>\n",
       "      <td>217</td>\n",
       "      <td>3</td>\n",
       "      <td>POLYGON ((-94.35706 41.15745, -94.35992 41.157...</td>\n",
       "    </tr>\n",
       "    <tr>\n",
       "      <th>1</th>\n",
       "      <td>19</td>\n",
       "      <td>003</td>\n",
       "      <td>19003</td>\n",
       "      <td>Adams</td>\n",
       "      <td>Adams County</td>\n",
       "      <td>1096700733</td>\n",
       "      <td>5353423</td>\n",
       "      <td>+41.0216555</td>\n",
       "      <td>-094.6969059</td>\n",
       "      <td>4029</td>\n",
       "      <td>...</td>\n",
       "      <td>2185</td>\n",
       "      <td>1028</td>\n",
       "      <td>1108</td>\n",
       "      <td>49</td>\n",
       "      <td>2106</td>\n",
       "      <td>565</td>\n",
       "      <td>1395</td>\n",
       "      <td>146</td>\n",
       "      <td>3</td>\n",
       "      <td>POLYGON ((-94.81495 41.15839, -94.81268 41.158...</td>\n",
       "    </tr>\n",
       "    <tr>\n",
       "      <th>2</th>\n",
       "      <td>19</td>\n",
       "      <td>005</td>\n",
       "      <td>19005</td>\n",
       "      <td>Allamakee</td>\n",
       "      <td>Allamakee County</td>\n",
       "      <td>1655214493</td>\n",
       "      <td>50995230</td>\n",
       "      <td>+43.2749637</td>\n",
       "      <td>-091.3827510</td>\n",
       "      <td>14330</td>\n",
       "      <td>...</td>\n",
       "      <td>6934</td>\n",
       "      <td>3553</td>\n",
       "      <td>3264</td>\n",
       "      <td>117</td>\n",
       "      <td>6923</td>\n",
       "      <td>2421</td>\n",
       "      <td>4093</td>\n",
       "      <td>409</td>\n",
       "      <td>1</td>\n",
       "      <td>POLYGON ((-91.49104 43.50071, -91.49061 43.500...</td>\n",
       "    </tr>\n",
       "    <tr>\n",
       "      <th>3</th>\n",
       "      <td>19</td>\n",
       "      <td>007</td>\n",
       "      <td>19007</td>\n",
       "      <td>Appanoose</td>\n",
       "      <td>Appanoose County</td>\n",
       "      <td>1287981483</td>\n",
       "      <td>49083877</td>\n",
       "      <td>+40.7446826</td>\n",
       "      <td>-092.8703450</td>\n",
       "      <td>12887</td>\n",
       "      <td>...</td>\n",
       "      <td>6245</td>\n",
       "      <td>2951</td>\n",
       "      <td>3161</td>\n",
       "      <td>133</td>\n",
       "      <td>6136</td>\n",
       "      <td>1814</td>\n",
       "      <td>4033</td>\n",
       "      <td>289</td>\n",
       "      <td>2</td>\n",
       "      <td>POLYGON ((-93.09762 40.81197, -93.09761 40.812...</td>\n",
       "    </tr>\n",
       "    <tr>\n",
       "      <th>4</th>\n",
       "      <td>19</td>\n",
       "      <td>009</td>\n",
       "      <td>19009</td>\n",
       "      <td>Audubon</td>\n",
       "      <td>Audubon County</td>\n",
       "      <td>1147264459</td>\n",
       "      <td>1152260</td>\n",
       "      <td>+41.6791780</td>\n",
       "      <td>-094.9043119</td>\n",
       "      <td>6119</td>\n",
       "      <td>...</td>\n",
       "      <td>3457</td>\n",
       "      <td>1611</td>\n",
       "      <td>1802</td>\n",
       "      <td>44</td>\n",
       "      <td>3412</td>\n",
       "      <td>1080</td>\n",
       "      <td>2136</td>\n",
       "      <td>196</td>\n",
       "      <td>4</td>\n",
       "      <td>POLYGON ((-95.09316 41.68835, -95.09314 41.688...</td>\n",
       "    </tr>\n",
       "  </tbody>\n",
       "</table>\n",
       "<p>5 rows × 57 columns</p>\n",
       "</div>"
      ],
      "text/plain": [
       "  STATEFP10 COUNTYFP10  GEOID10     NAME10        NAMELSAD10     ALAND10  \\\n",
       "0        19        001    19001      Adair      Adair County  1474404167   \n",
       "1        19        003    19003      Adams      Adams County  1096700733   \n",
       "2        19        005    19005  Allamakee  Allamakee County  1655214493   \n",
       "3        19        007    19007  Appanoose  Appanoose County  1287981483   \n",
       "4        19        009    19009    Audubon    Audubon County  1147264459   \n",
       "\n",
       "   AWATER10   INTPTLAT10    INTPTLON10  TOTPOP  ...  TOTVOT12  PRES12D  \\\n",
       "0   2597997  +41.3285283  -094.4781643    7682  ...      3996     1790   \n",
       "1   5353423  +41.0216555  -094.6969059    4029  ...      2185     1028   \n",
       "2  50995230  +43.2749637  -091.3827510   14330  ...      6934     3553   \n",
       "3  49083877  +40.7446826  -092.8703450   12887  ...      6245     2951   \n",
       "4   1152260  +41.6791780  -094.9043119    6119  ...      3457     1611   \n",
       "\n",
       "   PRES12R  PRES12OTH  TOTVOT16  PRES16D  PRES16R  PRES16OTH  CD  \\\n",
       "0     2114         92      3811     1133     2461        217   3   \n",
       "1     1108         49      2106      565     1395        146   3   \n",
       "2     3264        117      6923     2421     4093        409   1   \n",
       "3     3161        133      6136     1814     4033        289   2   \n",
       "4     1802         44      3412     1080     2136        196   4   \n",
       "\n",
       "                                            geometry  \n",
       "0  POLYGON ((-94.35706 41.15745, -94.35992 41.157...  \n",
       "1  POLYGON ((-94.81495 41.15839, -94.81268 41.158...  \n",
       "2  POLYGON ((-91.49104 43.50071, -91.49061 43.500...  \n",
       "3  POLYGON ((-93.09762 40.81197, -93.09761 40.812...  \n",
       "4  POLYGON ((-95.09316 41.68835, -95.09314 41.688...  \n",
       "\n",
       "[5 rows x 57 columns]"
      ]
     },
     "execution_count": 5,
     "metadata": {},
     "output_type": "execute_result"
    }
   ],
   "source": [
    "#imports county shapefiles from MGGG\n",
    "shapefile_iowa = gpd.read_file('../IA_counties/IA_counties.shp')\n",
    "# shapefile_iowa.head()\n",
    "\n",
    "### Fix alphabetization stuff now, not later!\n",
    "shapefile_iowa=shapefile_iowa.sort_values('NAME10',ignore_index=True).copy()\n",
    "shapefile_iowa.head()"
   ]
  },
  {
   "attachments": {},
   "cell_type": "markdown",
   "id": "be2a11d2",
   "metadata": {},
   "source": [
    "## Merging pd and gpd dataframes and creating population heat map"
   ]
  },
  {
   "attachments": {},
   "cell_type": "markdown",
   "id": "dd865033",
   "metadata": {},
   "source": [
    "### Prepping the data"
   ]
  },
  {
   "cell_type": "code",
   "execution_count": 6,
   "id": "bf1c9f02",
   "metadata": {},
   "outputs": [
    {
     "data": {
      "text/html": [
       "<div>\n",
       "<style scoped>\n",
       "    .dataframe tbody tr th:only-of-type {\n",
       "        vertical-align: middle;\n",
       "    }\n",
       "\n",
       "    .dataframe tbody tr th {\n",
       "        vertical-align: top;\n",
       "    }\n",
       "\n",
       "    .dataframe thead th {\n",
       "        text-align: right;\n",
       "    }\n",
       "</style>\n",
       "<table border=\"1\" class=\"dataframe\">\n",
       "  <thead>\n",
       "    <tr style=\"text-align: right;\">\n",
       "      <th></th>\n",
       "      <th>county_id</th>\n",
       "      <th>county</th>\n",
       "      <th>population</th>\n",
       "      <th>COUNTYFP10</th>\n",
       "      <th>latitude</th>\n",
       "      <th>longitude</th>\n",
       "    </tr>\n",
       "  </thead>\n",
       "  <tbody>\n",
       "    <tr>\n",
       "      <th>76</th>\n",
       "      <td>76</td>\n",
       "      <td>Polk</td>\n",
       "      <td>492401</td>\n",
       "      <td>153</td>\n",
       "      <td>41.684281</td>\n",
       "      <td>-93.569720</td>\n",
       "    </tr>\n",
       "    <tr>\n",
       "      <th>56</th>\n",
       "      <td>56</td>\n",
       "      <td>Linn</td>\n",
       "      <td>230299</td>\n",
       "      <td>113</td>\n",
       "      <td>42.077951</td>\n",
       "      <td>-91.597673</td>\n",
       "    </tr>\n",
       "    <tr>\n",
       "      <th>81</th>\n",
       "      <td>81</td>\n",
       "      <td>Scott</td>\n",
       "      <td>174669</td>\n",
       "      <td>163</td>\n",
       "      <td>41.641679</td>\n",
       "      <td>-90.622290</td>\n",
       "    </tr>\n",
       "    <tr>\n",
       "      <th>51</th>\n",
       "      <td>51</td>\n",
       "      <td>Johnson</td>\n",
       "      <td>152854</td>\n",
       "      <td>103</td>\n",
       "      <td>41.668737</td>\n",
       "      <td>-91.588812</td>\n",
       "    </tr>\n",
       "    <tr>\n",
       "      <th>6</th>\n",
       "      <td>6</td>\n",
       "      <td>Black Hawk</td>\n",
       "      <td>131144</td>\n",
       "      <td>013</td>\n",
       "      <td>42.472888</td>\n",
       "      <td>-92.306059</td>\n",
       "    </tr>\n",
       "  </tbody>\n",
       "</table>\n",
       "</div>"
      ],
      "text/plain": [
       "    county_id       county  population COUNTYFP10   latitude  longitude\n",
       "76         76        Polk       492401        153  41.684281 -93.569720\n",
       "56         56        Linn       230299        113  42.077951 -91.597673\n",
       "81         81       Scott       174669        163  41.641679 -90.622290\n",
       "51         51     Johnson       152854        103  41.668737 -91.588812\n",
       "6           6  Black Hawk       131144        013  42.472888 -92.306059"
      ]
     },
     "execution_count": 6,
     "metadata": {},
     "output_type": "execute_result"
    }
   ],
   "source": [
    "map_population_by_county_data = shapefile_iowa.merge(df, on='COUNTYFP10')\n",
    "county_populations = np.array(df['population'])\n",
    "state_population = sum(county_populations)\n",
    "df.sort_values('population', ascending=False).head()"
   ]
  },
  {
   "cell_type": "code",
   "execution_count": 7,
   "id": "ef50d41d",
   "metadata": {},
   "outputs": [
    {
     "data": {
      "image/png": "[encoded data removed]",
      "text/plain": [
       "<Figure size 640x480 with 1 Axes>"
      ]
     },
     "metadata": {},
     "output_type": "display_data"
    },
    {
     "data": {
      "text/plain": [
       "<ggplot: (8744739449212)>"
      ]
     },
     "execution_count": 7,
     "metadata": {},
     "output_type": "execute_result"
    }
   ],
   "source": [
    "map_population_by_county = (\n",
    "    ggplot(map_population_by_county_data)\n",
    "    + geom_map(aes(fill='population'))\n",
    "    + geom_label(aes(x='longitude', y='latitude', \n",
    "                     label='NAME10',size=2), \n",
    "                 show_legend=False)\n",
    "    + theme_minimal()\n",
    "    + theme(axis_text_x=element_blank(),\n",
    "            axis_text_y=element_blank(),\n",
    "            axis_title_x=element_blank(),\n",
    "            axis_title_y=element_blank(),\n",
    "            axis_ticks=element_blank(),\n",
    "            panel_grid_major=element_blank(),\n",
    "            panel_grid_minor=element_blank()\n",
    "           )\n",
    "    )\n",
    "map_population_by_county"
   ]
  },
  {
   "attachments": {},
   "cell_type": "markdown",
   "id": "330c379d",
   "metadata": {},
   "source": [
    "### Population heat map for Iowa"
   ]
  },
  {
   "cell_type": "code",
   "execution_count": 8,
   "id": "5bec4f73",
   "metadata": {},
   "outputs": [
    {
     "data": {
      "image/png": "[encoded data removed]",
      "text/plain": [
       "<Figure size 640x480 with 1 Axes>"
      ]
     },
     "metadata": {},
     "output_type": "display_data"
    },
    {
     "data": {
      "text/plain": [
       "<ggplot: (8744737876613)>"
      ]
     },
     "execution_count": 8,
     "metadata": {},
     "output_type": "execute_result"
    }
   ],
   "source": [
    "map_by_county_id = (\n",
    "    ggplot(map_population_by_county_data)\n",
    "    + geom_map(aes(fill='population'))\n",
    "    + geom_label(aes(x='longitude', y='latitude', \n",
    "                     label='county_id',size=2), \n",
    "                 show_legend=False)\n",
    "    + theme_minimal()\n",
    "    + theme(axis_text_x=element_blank(),\n",
    "            axis_text_y=element_blank(),\n",
    "            axis_title_x=element_blank(),\n",
    "            axis_title_y=element_blank(),\n",
    "            axis_ticks=element_blank(),\n",
    "            panel_grid_major=element_blank(),\n",
    "            panel_grid_minor=element_blank()\n",
    "           )\n",
    "    )\n",
    "map_by_county_id"
   ]
  },
  {
   "attachments": {},
   "cell_type": "markdown",
   "id": "0d93d90a",
   "metadata": {},
   "source": [
    "# New stuff below  (redoing main notebook but with 10 counties)"
   ]
  },
  {
   "attachments": {},
   "cell_type": "markdown",
   "id": "90879e72",
   "metadata": {},
   "source": [
    "## Subset of counties!"
   ]
  },
  {
   "attachments": {},
   "cell_type": "markdown",
   "id": "ab150741",
   "metadata": {},
   "source": [
    "Chosen counties:\n",
    "30, 48, 22, 81\n",
    "27, 52, 15, 60\n",
    "56, 51\n",
    "\n",
    "(\"nose\" area of eastern Iowa, including the cities of \n",
    "Cedar Rapids, Iowa City, Davenport, and Dubuque)"
   ]
  },
  {
   "attachments": {},
   "cell_type": "markdown",
   "id": "0ad2e163",
   "metadata": {},
   "source": [
    "### first, strip out extraneous columns from shapefile_iowa for ease of reading, then grab 10 specific counties and graph them"
   ]
  },
  {
   "cell_type": "code",
   "execution_count": 9,
   "id": "9b511be0",
   "metadata": {},
   "outputs": [
    {
     "data": {
      "text/plain": [
       "Index(['STATEFP10', 'COUNTYFP10', 'GEOID10', 'NAME10', 'NAMELSAD10', 'ALAND10',\n",
       "       'AWATER10', 'INTPTLAT10', 'INTPTLON10', 'TOTPOP', 'NH_WHITE',\n",
       "       'NH_BLACK', 'NH_AMIN', 'NH_ASIAN', 'NH_NHPI', 'NH_OTHER', 'NH_2MORE',\n",
       "       'HISP', 'H_WHITE', 'H_BLACK', 'H_AMIN', 'H_ASIAN', 'N_NHPI', 'H_OTHER',\n",
       "       'H_2MORE', 'VAP', 'HVAP', 'WVAP', 'BVAP', 'AMINVAP', 'ASIANVAP',\n",
       "       'NHPIVAP', 'OTHERVAP', '2MOREVAP', 'TOTVOT00', 'PRES00D', 'PRES00R',\n",
       "       'PRES00G', 'PRES00OTH', 'TOTVOT04', 'PRES04D', 'PRES04R', 'PRES04OTH',\n",
       "       'TOTVOT08', 'PRES08D', 'PRES08R', 'PRES08OTH', 'TOTVOT12', 'PRES12D',\n",
       "       'PRES12R', 'PRES12OTH', 'TOTVOT16', 'PRES16D', 'PRES16R', 'PRES16OTH',\n",
       "       'CD', 'geometry'],\n",
       "      dtype='object')"
      ]
     },
     "execution_count": 9,
     "metadata": {},
     "output_type": "execute_result"
    }
   ],
   "source": [
    "shapefile_iowa.columns"
   ]
  },
  {
   "cell_type": "code",
   "execution_count": 10,
   "id": "b1767a1c",
   "metadata": {},
   "outputs": [],
   "source": [
    "SpecialCols = ['STATEFP10', 'COUNTYFP10', 'GEOID10', 'NAME10', 'NAMELSAD10', 'ALAND10',\n",
    "       'AWATER10', 'INTPTLAT10', 'INTPTLON10', 'TOTPOP', \n",
    "       'CD', 'geometry']"
   ]
  },
  {
   "cell_type": "code",
   "execution_count": 11,
   "id": "3a2f8788",
   "metadata": {},
   "outputs": [],
   "source": [
    "shapefile_iowa = shapefile_iowa[SpecialCols]"
   ]
  },
  {
   "cell_type": "code",
   "execution_count": 12,
   "id": "885a9864",
   "metadata": {},
   "outputs": [],
   "source": [
    "# just pick out 10 specified counties (in \"nose\")\n",
    "shapefile_subState = shapefile_iowa.iloc[[30, 48, 22, 81, 27, 52, 15, 69,56, 51]].copy()\n",
    "\n",
    "#order dataframe by old \"county_id\" (i.e. alphabetically)\n",
    "shapefile_subState = shapefile_subState.sort_index().copy()"
   ]
  },
  {
   "cell_type": "code",
   "execution_count": 13,
   "id": "4cb3bec4",
   "metadata": {},
   "outputs": [],
   "source": [
    "# mapPop_subState_data = shapefile_subState.merge(df, on='COUNTYFP10')\n",
    "shapefile_subState = shapefile_subState.merge(df, on='COUNTYFP10')\n",
    "county_pops_subState = np.array(shapefile_subState['population'])\n",
    "subState_pop = sum(county_pops_subState)"
   ]
  },
  {
   "cell_type": "code",
   "execution_count": 14,
   "id": "c7add889",
   "metadata": {},
   "outputs": [
    {
     "data": {
      "text/plain": [
       "array([ 18505,  46460,  17488,  99266,  19485, 152854,  20646, 230299,\n",
       "        43235, 174669])"
      ]
     },
     "execution_count": 14,
     "metadata": {},
     "output_type": "execute_result"
    }
   ],
   "source": [
    "county_pops_subState"
   ]
  },
  {
   "cell_type": "code",
   "execution_count": 15,
   "id": "58df74e6",
   "metadata": {},
   "outputs": [],
   "source": [
    "# shapefile_subState"
   ]
  },
  {
   "cell_type": "code",
   "execution_count": 16,
   "id": "bfbcf77e",
   "metadata": {},
   "outputs": [
    {
     "data": {
      "text/html": [
       "<div>\n",
       "<style scoped>\n",
       "    .dataframe tbody tr th:only-of-type {\n",
       "        vertical-align: middle;\n",
       "    }\n",
       "\n",
       "    .dataframe tbody tr th {\n",
       "        vertical-align: top;\n",
       "    }\n",
       "\n",
       "    .dataframe thead th {\n",
       "        text-align: right;\n",
       "    }\n",
       "</style>\n",
       "<table border=\"1\" class=\"dataframe\">\n",
       "  <thead>\n",
       "    <tr style=\"text-align: right;\">\n",
       "      <th></th>\n",
       "      <th>NAME10</th>\n",
       "      <th>county_id</th>\n",
       "      <th>population</th>\n",
       "    </tr>\n",
       "  </thead>\n",
       "  <tbody>\n",
       "    <tr>\n",
       "      <th>0</th>\n",
       "      <td>Cedar</td>\n",
       "      <td>15</td>\n",
       "      <td>18505</td>\n",
       "    </tr>\n",
       "    <tr>\n",
       "      <th>1</th>\n",
       "      <td>Clinton</td>\n",
       "      <td>22</td>\n",
       "      <td>46460</td>\n",
       "    </tr>\n",
       "    <tr>\n",
       "      <th>2</th>\n",
       "      <td>Delaware</td>\n",
       "      <td>27</td>\n",
       "      <td>17488</td>\n",
       "    </tr>\n",
       "    <tr>\n",
       "      <th>3</th>\n",
       "      <td>Dubuque</td>\n",
       "      <td>30</td>\n",
       "      <td>99266</td>\n",
       "    </tr>\n",
       "    <tr>\n",
       "      <th>4</th>\n",
       "      <td>Jackson</td>\n",
       "      <td>48</td>\n",
       "      <td>19485</td>\n",
       "    </tr>\n",
       "    <tr>\n",
       "      <th>5</th>\n",
       "      <td>Johnson</td>\n",
       "      <td>51</td>\n",
       "      <td>152854</td>\n",
       "    </tr>\n",
       "    <tr>\n",
       "      <th>6</th>\n",
       "      <td>Jones</td>\n",
       "      <td>52</td>\n",
       "      <td>20646</td>\n",
       "    </tr>\n",
       "    <tr>\n",
       "      <th>7</th>\n",
       "      <td>Linn</td>\n",
       "      <td>56</td>\n",
       "      <td>230299</td>\n",
       "    </tr>\n",
       "    <tr>\n",
       "      <th>8</th>\n",
       "      <td>Muscatine</td>\n",
       "      <td>69</td>\n",
       "      <td>43235</td>\n",
       "    </tr>\n",
       "    <tr>\n",
       "      <th>9</th>\n",
       "      <td>Scott</td>\n",
       "      <td>81</td>\n",
       "      <td>174669</td>\n",
       "    </tr>\n",
       "  </tbody>\n",
       "</table>\n",
       "</div>"
      ],
      "text/plain": [
       "      NAME10  county_id  population\n",
       "0      Cedar         15       18505\n",
       "1    Clinton         22       46460\n",
       "2   Delaware         27       17488\n",
       "3    Dubuque         30       99266\n",
       "4    Jackson         48       19485\n",
       "5    Johnson         51      152854\n",
       "6      Jones         52       20646\n",
       "7       Linn         56      230299\n",
       "8  Muscatine         69       43235\n",
       "9      Scott         81      174669"
      ]
     },
     "execution_count": 16,
     "metadata": {},
     "output_type": "execute_result"
    }
   ],
   "source": [
    "shapefile_subState[['NAME10','county_id','population']]"
   ]
  },
  {
   "cell_type": "code",
   "execution_count": 17,
   "id": "4eb03e09",
   "metadata": {},
   "outputs": [
    {
     "data": {
      "image/png": "[encoded data removed]",
      "text/plain": [
       "<Figure size 640x480 with 1 Axes>"
      ]
     },
     "metadata": {},
     "output_type": "display_data"
    },
    {
     "data": {
      "text/plain": [
       "<ggplot: (8744736177092)>"
      ]
     },
     "execution_count": 17,
     "metadata": {},
     "output_type": "execute_result"
    }
   ],
   "source": [
    "mapPop_subState = (\n",
    "    ggplot(shapefile_subState)\n",
    "    + geom_map(aes(fill='population'))\n",
    "    + geom_label(aes(x='longitude', y='latitude', \n",
    "                    #  label='NAME10',size=2), \n",
    "                     label='county_id',size=2), \n",
    "                 show_legend=False)\n",
    "    + theme_minimal()\n",
    "    + theme(axis_text_x=element_blank(),\n",
    "            axis_text_y=element_blank(),\n",
    "            axis_title_x=element_blank(),\n",
    "            axis_title_y=element_blank(),\n",
    "            axis_ticks=element_blank(),\n",
    "            panel_grid_major=element_blank(),\n",
    "            panel_grid_minor=element_blank()\n",
    "           )\n",
    "    )\n",
    "mapPop_subState"
   ]
  },
  {
   "attachments": {},
   "cell_type": "markdown",
   "id": "85551eec",
   "metadata": {},
   "source": [
    "## Creating the adjacency matrix for (subset of) Iowa counties"
   ]
  },
  {
   "cell_type": "code",
   "execution_count": 18,
   "id": "1c30311d",
   "metadata": {},
   "outputs": [],
   "source": [
    "# ALREADY FIXED ABOVE!\n",
    "\n",
    "# shapefile_alpha=shapefile_iowa.sort_values('NAME10',ignore_index=True).copy()"
   ]
  },
  {
   "cell_type": "code",
   "execution_count": 19,
   "id": "0aa0d80f",
   "metadata": {},
   "outputs": [],
   "source": [
    "# full adjacency matrix (first boolean, then casting as int)\n",
    "#   NOTE: this operation counts a county as adjacent to itself. subtract eye(99) to get a more traditional version\n",
    "#   also should do this operation after any sorting of the original shapefile\n",
    "\n",
    "n_counties = shapefile_subState.shape[0]\n",
    "\n",
    "subState_adjMat = pd.DataFrame()\n",
    "\n",
    "for j in range(n_counties):\n",
    "    subState_adjMat[j] = shapefile_subState.intersects(shapefile_subState.iloc[[j]].unary_union)\n",
    "subState_adjMat = subState_adjMat - np.identity(n_counties)\n",
    "subState_adjMat = subState_adjMat.astype(int)\n",
    "\n",
    "subState_adjMat_bool = subState_adjMat.astype(bool)\n",
    "\n"
   ]
  },
  {
   "cell_type": "code",
   "execution_count": 20,
   "metadata": {},
   "outputs": [
    {
     "data": {
      "text/html": [
       "<div>\n",
       "<style scoped>\n",
       "    .dataframe tbody tr th:only-of-type {\n",
       "        vertical-align: middle;\n",
       "    }\n",
       "\n",
       "    .dataframe tbody tr th {\n",
       "        vertical-align: top;\n",
       "    }\n",
       "\n",
       "    .dataframe thead th {\n",
       "        text-align: right;\n",
       "    }\n",
       "</style>\n",
       "<table border=\"1\" class=\"dataframe\">\n",
       "  <thead>\n",
       "    <tr style=\"text-align: right;\">\n",
       "      <th></th>\n",
       "      <th>0</th>\n",
       "      <th>1</th>\n",
       "      <th>2</th>\n",
       "      <th>3</th>\n",
       "      <th>4</th>\n",
       "      <th>5</th>\n",
       "      <th>6</th>\n",
       "      <th>7</th>\n",
       "      <th>8</th>\n",
       "      <th>9</th>\n",
       "    </tr>\n",
       "  </thead>\n",
       "  <tbody>\n",
       "    <tr>\n",
       "      <th>0</th>\n",
       "      <td>0</td>\n",
       "      <td>1</td>\n",
       "      <td>0</td>\n",
       "      <td>0</td>\n",
       "      <td>0</td>\n",
       "      <td>1</td>\n",
       "      <td>1</td>\n",
       "      <td>1</td>\n",
       "      <td>1</td>\n",
       "      <td>1</td>\n",
       "    </tr>\n",
       "    <tr>\n",
       "      <th>1</th>\n",
       "      <td>1</td>\n",
       "      <td>0</td>\n",
       "      <td>0</td>\n",
       "      <td>0</td>\n",
       "      <td>1</td>\n",
       "      <td>0</td>\n",
       "      <td>1</td>\n",
       "      <td>0</td>\n",
       "      <td>0</td>\n",
       "      <td>1</td>\n",
       "    </tr>\n",
       "    <tr>\n",
       "      <th>2</th>\n",
       "      <td>0</td>\n",
       "      <td>0</td>\n",
       "      <td>0</td>\n",
       "      <td>1</td>\n",
       "      <td>0</td>\n",
       "      <td>0</td>\n",
       "      <td>1</td>\n",
       "      <td>1</td>\n",
       "      <td>0</td>\n",
       "      <td>0</td>\n",
       "    </tr>\n",
       "    <tr>\n",
       "      <th>3</th>\n",
       "      <td>0</td>\n",
       "      <td>0</td>\n",
       "      <td>1</td>\n",
       "      <td>0</td>\n",
       "      <td>1</td>\n",
       "      <td>0</td>\n",
       "      <td>1</td>\n",
       "      <td>0</td>\n",
       "      <td>0</td>\n",
       "      <td>0</td>\n",
       "    </tr>\n",
       "    <tr>\n",
       "      <th>4</th>\n",
       "      <td>0</td>\n",
       "      <td>1</td>\n",
       "      <td>0</td>\n",
       "      <td>1</td>\n",
       "      <td>0</td>\n",
       "      <td>0</td>\n",
       "      <td>1</td>\n",
       "      <td>0</td>\n",
       "      <td>0</td>\n",
       "      <td>0</td>\n",
       "    </tr>\n",
       "    <tr>\n",
       "      <th>5</th>\n",
       "      <td>1</td>\n",
       "      <td>0</td>\n",
       "      <td>0</td>\n",
       "      <td>0</td>\n",
       "      <td>0</td>\n",
       "      <td>0</td>\n",
       "      <td>0</td>\n",
       "      <td>1</td>\n",
       "      <td>1</td>\n",
       "      <td>0</td>\n",
       "    </tr>\n",
       "    <tr>\n",
       "      <th>6</th>\n",
       "      <td>1</td>\n",
       "      <td>1</td>\n",
       "      <td>1</td>\n",
       "      <td>1</td>\n",
       "      <td>1</td>\n",
       "      <td>0</td>\n",
       "      <td>0</td>\n",
       "      <td>1</td>\n",
       "      <td>0</td>\n",
       "      <td>0</td>\n",
       "    </tr>\n",
       "    <tr>\n",
       "      <th>7</th>\n",
       "      <td>1</td>\n",
       "      <td>0</td>\n",
       "      <td>1</td>\n",
       "      <td>0</td>\n",
       "      <td>0</td>\n",
       "      <td>1</td>\n",
       "      <td>1</td>\n",
       "      <td>0</td>\n",
       "      <td>0</td>\n",
       "      <td>0</td>\n",
       "    </tr>\n",
       "    <tr>\n",
       "      <th>8</th>\n",
       "      <td>1</td>\n",
       "      <td>0</td>\n",
       "      <td>0</td>\n",
       "      <td>0</td>\n",
       "      <td>0</td>\n",
       "      <td>1</td>\n",
       "      <td>0</td>\n",
       "      <td>0</td>\n",
       "      <td>0</td>\n",
       "      <td>1</td>\n",
       "    </tr>\n",
       "    <tr>\n",
       "      <th>9</th>\n",
       "      <td>1</td>\n",
       "      <td>1</td>\n",
       "      <td>0</td>\n",
       "      <td>0</td>\n",
       "      <td>0</td>\n",
       "      <td>0</td>\n",
       "      <td>0</td>\n",
       "      <td>0</td>\n",
       "      <td>1</td>\n",
       "      <td>0</td>\n",
       "    </tr>\n",
       "  </tbody>\n",
       "</table>\n",
       "</div>"
      ],
      "text/plain": [
       "   0  1  2  3  4  5  6  7  8  9\n",
       "0  0  1  0  0  0  1  1  1  1  1\n",
       "1  1  0  0  0  1  0  1  0  0  1\n",
       "2  0  0  0  1  0  0  1  1  0  0\n",
       "3  0  0  1  0  1  0  1  0  0  0\n",
       "4  0  1  0  1  0  0  1  0  0  0\n",
       "5  1  0  0  0  0  0  0  1  1  0\n",
       "6  1  1  1  1  1  0  0  1  0  0\n",
       "7  1  0  1  0  0  1  1  0  0  0\n",
       "8  1  0  0  0  0  1  0  0  0  1\n",
       "9  1  1  0  0  0  0  0  0  1  0"
      ]
     },
     "execution_count": 20,
     "metadata": {},
     "output_type": "execute_result"
    }
   ],
   "source": [
    "subState_adjMat"
   ]
  },
  {
   "attachments": {},
   "cell_type": "markdown",
   "id": "017c9235",
   "metadata": {},
   "source": [
    "## Optimization Model"
   ]
  },
  {
   "attachments": {},
   "cell_type": "markdown",
   "id": "b0764efa",
   "metadata": {},
   "source": [
    "### Creating decision variables, model, and objective function"
   ]
  },
  {
   "cell_type": "code",
   "execution_count": 21,
   "id": "d70bc5b7",
   "metadata": {},
   "outputs": [],
   "source": [
    "# UNNECESSARY SINCE ALL MY COUNTIES HAVE 2 DIGITS ALREADY\n",
    "\n",
    "# zp_county=np.array((df['county_id']).astype(str).str.pad(2,fillchar='0'))"
   ]
  },
  {
   "cell_type": "code",
   "execution_count": 22,
   "id": "821777f2",
   "metadata": {},
   "outputs": [],
   "source": [
    "zp_county = np.array(shapefile_subState['county_id']).astype(str)"
   ]
  },
  {
   "cell_type": "code",
   "execution_count": 23,
   "id": "52c169dd",
   "metadata": {},
   "outputs": [
    {
     "data": {
      "text/plain": [
       "array(['15', '22', '27', '30', '48', '51', '52', '56', '69', '81'],\n",
       "      dtype='<U21')"
      ]
     },
     "execution_count": 23,
     "metadata": {},
     "output_type": "execute_result"
    }
   ],
   "source": [
    "zp_county"
   ]
  },
  {
   "cell_type": "code",
   "execution_count": 24,
   "id": "dfabf0ad",
   "metadata": {},
   "outputs": [],
   "source": [
    "n_districts = 2\n",
    "\n",
    "ideal_district_size=subState_pop/n_districts\n",
    "\n",
    "# poperrorbound: usually we've been doing 1%. I did 5%, 10%\n",
    "poperrorbound = .4\n",
    "\n",
    "district_maximum=int(ideal_district_size*(1+poperrorbound))\n",
    "district_minimum=int(ideal_district_size*(1-poperrorbound))"
   ]
  },
  {
   "cell_type": "code",
   "execution_count": 25,
   "id": "f60ca9bd",
   "metadata": {},
   "outputs": [
    {
     "data": {
      "text/plain": [
       "411453.5"
      ]
     },
     "execution_count": 25,
     "metadata": {},
     "output_type": "execute_result"
    }
   ],
   "source": [
    "ideal_district_size"
   ]
  },
  {
   "cell_type": "code",
   "execution_count": 26,
   "id": "7289f12a",
   "metadata": {},
   "outputs": [],
   "source": [
    "# Create the linear programming model.\n",
    "model = LpProblem(\"Supply-Demand-Problem\", LpMinimize) \n",
    "variable_names = [zp_county[i]+str(j) for j in range(n_districts)\n",
    "                                for i in range(n_counties)]\n",
    "variable_names.sort() \n",
    "\n",
    "# The Decision Variable is 1 if the county is assigned to the district.\n",
    "DV_variable_y = LpVariable.matrix(\"Y\", variable_names, cat=\"Binary\")\n",
    "assignment = np.array(DV_variable_y).reshape(n_counties,n_districts)\n",
    "\n",
    "# # The Decision Variable is the population allocated to the district.\n",
    "DV_variable_x = LpVariable.matrix(\"X\", variable_names, cat=\"Integer\",\n",
    "                                  lowBound=0)\n",
    "allocation = np.array(DV_variable_x).reshape(n_counties,n_districts)"
   ]
  },
  {
   "cell_type": "code",
   "execution_count": 27,
   "id": "c1549eb4",
   "metadata": {},
   "outputs": [
    {
     "data": {
      "text/plain": [
       "array([[Y_150, Y_151],\n",
       "       [Y_220, Y_221],\n",
       "       [Y_270, Y_271],\n",
       "       [Y_300, Y_301],\n",
       "       [Y_480, Y_481],\n",
       "       [Y_510, Y_511],\n",
       "       [Y_520, Y_521],\n",
       "       [Y_560, Y_561],\n",
       "       [Y_690, Y_691],\n",
       "       [Y_810, Y_811]], dtype=object)"
      ]
     },
     "execution_count": 27,
     "metadata": {},
     "output_type": "execute_result"
    }
   ],
   "source": [
    "assignment"
   ]
  },
  {
   "cell_type": "code",
   "execution_count": 28,
   "id": "7082229c",
   "metadata": {},
   "outputs": [],
   "source": [
    "# This objective minimizes the counties split among multiple districts.\n",
    "objective_function = lpSum(assignment) \n",
    "model += objective_function"
   ]
  },
  {
   "attachments": {},
   "cell_type": "markdown",
   "id": "e768d221",
   "metadata": {},
   "source": [
    "### Initial Assignment / Allocation Constraints"
   ]
  },
  {
   "cell_type": "code",
   "execution_count": 29,
   "id": "2ae2b1d8",
   "metadata": {},
   "outputs": [],
   "source": [
    "# Allocate 100% of the population from each county.\n",
    "for i in range(n_counties):\n",
    "    model += lpSum(allocation[i][j] for j in range(n_districts)) == county_pops_subState[i] , \"Allocate All \" + str(i)"
   ]
  },
  {
   "cell_type": "code",
   "execution_count": 30,
   "id": "f1472a4f",
   "metadata": {},
   "outputs": [
    {
     "name": "stdout",
     "output_type": "stream",
     "text": [
      "X_151 18505\n"
     ]
    }
   ],
   "source": [
    "print(allocation[0][1], county_pops_subState[0])"
   ]
  },
  {
   "cell_type": "code",
   "execution_count": 31,
   "id": "4c47f52c",
   "metadata": {},
   "outputs": [],
   "source": [
    "# This constraint makes assignment required for allocation.\n",
    "# sum(county_populations) is the \"big M\"\n",
    "for i in range(n_counties): \n",
    "    for j in range(n_districts):\n",
    "        model += allocation[i][j] <= county_pops_subState[i]*assignment[i][j] , \"Allocation assignment of county\" + str(i) + \"to district\" + str(j)\n",
    "        model += allocation[i][j] >= .2*county_pops_subState[i]*assignment[i][j], \"Minimum allocation of county\" + str(i) + \"to\" + str(j)"
   ]
  },
  {
   "cell_type": "code",
   "execution_count": 32,
   "id": "bf52053d",
   "metadata": {},
   "outputs": [],
   "source": [
    "#numpy documentation for np array\n",
    "#https://numpy.org/doc/stable/glossary.html#term-row-major\n",
    "# Contiguous districts constraints\n",
    "for j in range(n_districts):\n",
    "    for i in range(n_counties):\n",
    "        model += 2*assignment[i][j] <= lpSum(assignment[:,j][subState_adjMat_bool[i]]), \"Contiguity constraint for county \" + str(i) +\" in district \" + str(j)"
   ]
  },
  {
   "cell_type": "code",
   "execution_count": 33,
   "id": "d7fd5479",
   "metadata": {},
   "outputs": [],
   "source": [
    "# District size constraints, in order to keep the size of districts by population similar\n",
    "for j in range(n_districts):\n",
    "    model += lpSum(allocation[i][j] for i in range(n_counties)) <= district_maximum , \"District Size Maximum \" + str(j)\n",
    "    model += lpSum(allocation[i][j] for i in range(n_counties)) >= district_minimum , \"District Size Minimum \" + str(j)"
   ]
  },
  {
   "cell_type": "code",
   "execution_count": 34,
   "id": "9c66f6ff",
   "metadata": {},
   "outputs": [],
   "source": [
    "# Only allow counties that meet certain critera to be split among multiple districts\n",
    "# This not necessary for Iowa.\n",
    "for i in range(n_counties): \n",
    "    if county_pops_subState[i] <= 75000: \n",
    "        model += lpSum(assignment[i][j] for j in range(n_districts)) <= 1  , \"Unique Assignment for county \" + str(i) \n",
    "    else:\n",
    "        model += lpSum(assignment[i][j] for j in range(n_districts)) <= 2  , \"Up-to-two Assignments for county \" + str(i)"
   ]
  },
  {
   "cell_type": "code",
   "execution_count": 35,
   "id": "4ec832c6",
   "metadata": {},
   "outputs": [
    {
     "data": {
      "text/plain": [
       "Supply-Demand-Problem:\n",
       "MINIMIZE\n",
       "1*Y_150 + 1*Y_151 + 1*Y_220 + 1*Y_221 + 1*Y_270 + 1*Y_271 + 1*Y_300 + 1*Y_301 + 1*Y_480 + 1*Y_481 + 1*Y_510 + 1*Y_511 + 1*Y_520 + 1*Y_521 + 1*Y_560 + 1*Y_561 + 1*Y_690 + 1*Y_691 + 1*Y_810 + 1*Y_811 + 0\n",
       "SUBJECT TO\n",
       "Allocate_All_0: X_150 + X_151 = 18505\n",
       "\n",
       "Allocate_All_1: X_220 + X_221 = 46460\n",
       "\n",
       "Allocate_All_2: X_270 + X_271 = 17488\n",
       "\n",
       "Allocate_All_3: X_300 + X_301 = 99266\n",
       "\n",
       "Allocate_All_4: X_480 + X_481 = 19485\n",
       "\n",
       "Allocate_All_5: X_510 + X_511 = 152854\n",
       "\n",
       "Allocate_All_6: X_520 + X_521 = 20646\n",
       "\n",
       "Allocate_All_7: X_560 + X_561 = 230299\n",
       "\n",
       "Allocate_All_8: X_690 + X_691 = 43235\n",
       "\n",
       "Allocate_All_9: X_810 + X_811 = 174669\n",
       "\n",
       "Allocation_assignment_of_county0to_district0: X_150 - 18505 Y_150 <= 0\n",
       "\n",
       "Minimum_allocation_of_county0to0: X_150 - 3701 Y_150 >= 0\n",
       "\n",
       "Allocation_assignment_of_county0to_district1: X_151 - 18505 Y_151 <= 0\n",
       "\n",
       "Minimum_allocation_of_county0to1: X_151 - 3701 Y_151 >= 0\n",
       "\n",
       "Allocation_assignment_of_county1to_district0: X_220 - 46460 Y_220 <= 0\n",
       "\n",
       "Minimum_allocation_of_county1to0: X_220 - 9292 Y_220 >= 0\n",
       "\n",
       "Allocation_assignment_of_county1to_district1: X_221 - 46460 Y_221 <= 0\n",
       "\n",
       "Minimum_allocation_of_county1to1: X_221 - 9292 Y_221 >= 0\n",
       "\n",
       "Allocation_assignment_of_county2to_district0: X_270 - 17488 Y_270 <= 0\n",
       "\n",
       "Minimum_allocation_of_county2to0: X_270 - 3497.6 Y_270 >= 0\n",
       "\n",
       "Allocation_assignment_of_county2to_district1: X_271 - 17488 Y_271 <= 0\n",
       "\n",
       "Minimum_allocation_of_county2to1: X_271 - 3497.6 Y_271 >= 0\n",
       "\n",
       "Allocation_assignment_of_county3to_district0: X_300 - 99266 Y_300 <= 0\n",
       "\n",
       "Minimum_allocation_of_county3to0: X_300 - 19853.2 Y_300 >= 0\n",
       "\n",
       "Allocation_assignment_of_county3to_district1: X_301 - 99266 Y_301 <= 0\n",
       "\n",
       "Minimum_allocation_of_county3to1: X_301 - 19853.2 Y_301 >= 0\n",
       "\n",
       "Allocation_assignment_of_county4to_district0: X_480 - 19485 Y_480 <= 0\n",
       "\n",
       "Minimum_allocation_of_county4to0: X_480 - 3897 Y_480 >= 0\n",
       "\n",
       "Allocation_assignment_of_county4to_district1: X_481 - 19485 Y_481 <= 0\n",
       "\n",
       "Minimum_allocation_of_county4to1: X_481 - 3897 Y_481 >= 0\n",
       "\n",
       "Allocation_assignment_of_county5to_district0: X_510 - 152854 Y_510 <= 0\n",
       "\n",
       "Minimum_allocation_of_county5to0: X_510 - 30570.8 Y_510 >= 0\n",
       "\n",
       "Allocation_assignment_of_county5to_district1: X_511 - 152854 Y_511 <= 0\n",
       "\n",
       "Minimum_allocation_of_county5to1: X_511 - 30570.8 Y_511 >= 0\n",
       "\n",
       "Allocation_assignment_of_county6to_district0: X_520 - 20646 Y_520 <= 0\n",
       "\n",
       "Minimum_allocation_of_county6to0: X_520 - 4129.2 Y_520 >= 0\n",
       "\n",
       "Allocation_assignment_of_county6to_district1: X_521 - 20646 Y_521 <= 0\n",
       "\n",
       "Minimum_allocation_of_county6to1: X_521 - 4129.2 Y_521 >= 0\n",
       "\n",
       "Allocation_assignment_of_county7to_district0: X_560 - 230299 Y_560 <= 0\n",
       "\n",
       "Minimum_allocation_of_county7to0: X_560 - 46059.8 Y_560 >= 0\n",
       "\n",
       "Allocation_assignment_of_county7to_district1: X_561 - 230299 Y_561 <= 0\n",
       "\n",
       "Minimum_allocation_of_county7to1: X_561 - 46059.8 Y_561 >= 0\n",
       "\n",
       "Allocation_assignment_of_county8to_district0: X_690 - 43235 Y_690 <= 0\n",
       "\n",
       "Minimum_allocation_of_county8to0: X_690 - 8647 Y_690 >= 0\n",
       "\n",
       "Allocation_assignment_of_county8to_district1: X_691 - 43235 Y_691 <= 0\n",
       "\n",
       "Minimum_allocation_of_county8to1: X_691 - 8647 Y_691 >= 0\n",
       "\n",
       "Allocation_assignment_of_county9to_district0: X_810 - 174669 Y_810 <= 0\n",
       "\n",
       "Minimum_allocation_of_county9to0: X_810 - 34933.8 Y_810 >= 0\n",
       "\n",
       "Allocation_assignment_of_county9to_district1: X_811 - 174669 Y_811 <= 0\n",
       "\n",
       "Minimum_allocation_of_county9to1: X_811 - 34933.8 Y_811 >= 0\n",
       "\n",
       "Contiguity_constraint_for_county_0_in_district_0: 2 Y_150 - Y_220 - Y_510\n",
       " - Y_520 - Y_560 - Y_690 - Y_810 <= 0\n",
       "\n",
       "Contiguity_constraint_for_county_1_in_district_0: - Y_150 + 2 Y_220 - Y_480\n",
       " - Y_520 - Y_810 <= 0\n",
       "\n",
       "Contiguity_constraint_for_county_2_in_district_0: 2 Y_270 - Y_300 - Y_520\n",
       " - Y_560 <= 0\n",
       "\n",
       "Contiguity_constraint_for_county_3_in_district_0: - Y_270 + 2 Y_300 - Y_480\n",
       " - Y_520 <= 0\n",
       "\n",
       "Contiguity_constraint_for_county_4_in_district_0: - Y_220 - Y_300 + 2 Y_480\n",
       " - Y_520 <= 0\n",
       "\n",
       "Contiguity_constraint_for_county_5_in_district_0: - Y_150 + 2 Y_510 - Y_560\n",
       " - Y_690 <= 0\n",
       "\n",
       "Contiguity_constraint_for_county_6_in_district_0: - Y_150 - Y_220 - Y_270\n",
       " - Y_300 - Y_480 + 2 Y_520 - Y_560 <= 0\n",
       "\n",
       "Contiguity_constraint_for_county_7_in_district_0: - Y_150 - Y_270 - Y_510\n",
       " - Y_520 + 2 Y_560 <= 0\n",
       "\n",
       "Contiguity_constraint_for_county_8_in_district_0: - Y_150 - Y_510 + 2 Y_690\n",
       " - Y_810 <= 0\n",
       "\n",
       "Contiguity_constraint_for_county_9_in_district_0: - Y_150 - Y_220 - Y_690\n",
       " + 2 Y_810 <= 0\n",
       "\n",
       "Contiguity_constraint_for_county_0_in_district_1: 2 Y_151 - Y_221 - Y_511\n",
       " - Y_521 - Y_561 - Y_691 - Y_811 <= 0\n",
       "\n",
       "Contiguity_constraint_for_county_1_in_district_1: - Y_151 + 2 Y_221 - Y_481\n",
       " - Y_521 - Y_811 <= 0\n",
       "\n",
       "Contiguity_constraint_for_county_2_in_district_1: 2 Y_271 - Y_301 - Y_521\n",
       " - Y_561 <= 0\n",
       "\n",
       "Contiguity_constraint_for_county_3_in_district_1: - Y_271 + 2 Y_301 - Y_481\n",
       " - Y_521 <= 0\n",
       "\n",
       "Contiguity_constraint_for_county_4_in_district_1: - Y_221 - Y_301 + 2 Y_481\n",
       " - Y_521 <= 0\n",
       "\n",
       "Contiguity_constraint_for_county_5_in_district_1: - Y_151 + 2 Y_511 - Y_561\n",
       " - Y_691 <= 0\n",
       "\n",
       "Contiguity_constraint_for_county_6_in_district_1: - Y_151 - Y_221 - Y_271\n",
       " - Y_301 - Y_481 + 2 Y_521 - Y_561 <= 0\n",
       "\n",
       "Contiguity_constraint_for_county_7_in_district_1: - Y_151 - Y_271 - Y_511\n",
       " - Y_521 + 2 Y_561 <= 0\n",
       "\n",
       "Contiguity_constraint_for_county_8_in_district_1: - Y_151 - Y_511 + 2 Y_691\n",
       " - Y_811 <= 0\n",
       "\n",
       "Contiguity_constraint_for_county_9_in_district_1: - Y_151 - Y_221 - Y_691\n",
       " + 2 Y_811 <= 0\n",
       "\n",
       "District_Size_Maximum_0: X_150 + X_220 + X_270 + X_300 + X_480 + X_510 + X_520\n",
       " + X_560 + X_690 + X_810 <= 576034\n",
       "\n",
       "District_Size_Minimum_0: X_150 + X_220 + X_270 + X_300 + X_480 + X_510 + X_520\n",
       " + X_560 + X_690 + X_810 >= 246872\n",
       "\n",
       "District_Size_Maximum_1: X_151 + X_221 + X_271 + X_301 + X_481 + X_511 + X_521\n",
       " + X_561 + X_691 + X_811 <= 576034\n",
       "\n",
       "District_Size_Minimum_1: X_151 + X_221 + X_271 + X_301 + X_481 + X_511 + X_521\n",
       " + X_561 + X_691 + X_811 >= 246872\n",
       "\n",
       "Unique_Assignment_for_county_0: Y_150 + Y_151 <= 1\n",
       "\n",
       "Unique_Assignment_for_county_1: Y_220 + Y_221 <= 1\n",
       "\n",
       "Unique_Assignment_for_county_2: Y_270 + Y_271 <= 1\n",
       "\n",
       "Up_to_two_Assignments_for_county_3: Y_300 + Y_301 <= 2\n",
       "\n",
       "Unique_Assignment_for_county_4: Y_480 + Y_481 <= 1\n",
       "\n",
       "Up_to_two_Assignments_for_county_5: Y_510 + Y_511 <= 2\n",
       "\n",
       "Unique_Assignment_for_county_6: Y_520 + Y_521 <= 1\n",
       "\n",
       "Up_to_two_Assignments_for_county_7: Y_560 + Y_561 <= 2\n",
       "\n",
       "Unique_Assignment_for_county_8: Y_690 + Y_691 <= 1\n",
       "\n",
       "Up_to_two_Assignments_for_county_9: Y_810 + Y_811 <= 2\n",
       "\n",
       "VARIABLES\n",
       "0 <= X_150 Integer\n",
       "0 <= X_151 Integer\n",
       "0 <= X_220 Integer\n",
       "0 <= X_221 Integer\n",
       "0 <= X_270 Integer\n",
       "0 <= X_271 Integer\n",
       "0 <= X_300 Integer\n",
       "0 <= X_301 Integer\n",
       "0 <= X_480 Integer\n",
       "0 <= X_481 Integer\n",
       "0 <= X_510 Integer\n",
       "0 <= X_511 Integer\n",
       "0 <= X_520 Integer\n",
       "0 <= X_521 Integer\n",
       "0 <= X_560 Integer\n",
       "0 <= X_561 Integer\n",
       "0 <= X_690 Integer\n",
       "0 <= X_691 Integer\n",
       "0 <= X_810 Integer\n",
       "0 <= X_811 Integer\n",
       "0 <= Y_150 <= 1 Integer\n",
       "0 <= Y_151 <= 1 Integer\n",
       "0 <= Y_220 <= 1 Integer\n",
       "0 <= Y_221 <= 1 Integer\n",
       "0 <= Y_270 <= 1 Integer\n",
       "0 <= Y_271 <= 1 Integer\n",
       "0 <= Y_300 <= 1 Integer\n",
       "0 <= Y_301 <= 1 Integer\n",
       "0 <= Y_480 <= 1 Integer\n",
       "0 <= Y_481 <= 1 Integer\n",
       "0 <= Y_510 <= 1 Integer\n",
       "0 <= Y_511 <= 1 Integer\n",
       "0 <= Y_520 <= 1 Integer\n",
       "0 <= Y_521 <= 1 Integer\n",
       "0 <= Y_560 <= 1 Integer\n",
       "0 <= Y_561 <= 1 Integer\n",
       "0 <= Y_690 <= 1 Integer\n",
       "0 <= Y_691 <= 1 Integer\n",
       "0 <= Y_810 <= 1 Integer\n",
       "0 <= Y_811 <= 1 Integer"
      ]
     },
     "execution_count": 35,
     "metadata": {},
     "output_type": "execute_result"
    }
   ],
   "source": [
    "model"
   ]
  },
  {
   "cell_type": "code",
   "execution_count": 36,
   "id": "59da28cd",
   "metadata": {},
   "outputs": [
    {
     "name": "stdout",
     "output_type": "stream",
     "text": [
      "GLPSOL--GLPK LP/MIP Solver 5.0\n",
      "Parameter(s) specified in the command line:\n",
      " --cpxlp /tmp/61c0fd3d78ca4743ab4868cb64be2fee-pulp.lp -o /tmp/61c0fd3d78ca4743ab4868cb64be2fee-pulp.sol\n",
      " --mipgap 0.05 --gomory\n",
      "Reading problem data from '/tmp/61c0fd3d78ca4743ab4868cb64be2fee-pulp.lp'...\n",
      "84 rows, 40 columns, 256 non-zeros\n",
      "40 integer variables, 20 of which are binary\n",
      "178 lines were read\n",
      "GLPK Integer Optimizer 5.0\n",
      "84 rows, 40 columns, 256 non-zeros\n",
      "40 integer variables, 20 of which are binary\n",
      "Preprocessing...\n",
      "80 rows, 40 columns, 248 non-zeros\n",
      "40 integer variables, 20 of which are binary\n",
      "Scaling...\n",
      " A: min|aij| =  1.000e+00  max|aij| =  2.303e+05  ratio =  2.303e+05\n",
      "GM: min|aij| =  5.213e-01  max|aij| =  1.918e+00  ratio =  3.680e+00\n",
      "EQ: min|aij| =  2.780e-01  max|aij| =  1.000e+00  ratio =  3.598e+00\n",
      "2N: min|aij| =  2.135e-01  max|aij| =  1.333e+00  ratio =  6.242e+00\n",
      "Constructing initial basis...\n",
      "Size of triangular part is 80\n",
      "Solving LP relaxation...\n",
      "GLPK Simplex Optimizer 5.0\n",
      "80 rows, 40 columns, 248 non-zeros\n",
      "      0: obj =   0.000000000e+00 inf =   2.079e+03 (12)\n",
      "     31: obj =   1.050000000e+01 inf =   2.335e-13 (0)\n",
      "*    42: obj =   1.000000000e+01 inf =   6.648e-14 (0)\n",
      "OPTIMAL LP SOLUTION FOUND\n",
      "Integer optimization begins...\n",
      "Long-step dual simplex will be used\n",
      "Gomory's cuts enabled\n",
      "+    42: mip =     not found yet >=              -inf        (1; 0)\n",
      "+    70: >>>>>   1.200000000e+01 >=   1.000000000e+01  16.7% (5; 0)\n",
      "+    72: >>>>>   1.000000000e+01 >=   1.000000000e+01 < 0.1% (2; 5)\n",
      "+    72: mip =   1.000000000e+01 >=     tree is empty   0.0% (0; 9)\n",
      "INTEGER OPTIMAL SOLUTION FOUND\n",
      "Time used:   0.0 secs\n",
      "Memory used: 0.2 Mb (181708 bytes)\n",
      "Writing MIP solution to '/tmp/61c0fd3d78ca4743ab4868cb64be2fee-pulp.sol'...\n",
      "The model status is:  Optimal\n",
      "The objective value is:  10\n"
     ]
    }
   ],
   "source": [
    "model.solve(GLPK_CMD(options=[\"--mipgap\", \"0.05\", \"--gomory\"])) \n",
    "\n",
    "print('The model status is: ',LpStatus[model.status])\n",
    "print('The objective value is: ', value(objective_function))"
   ]
  },
  {
   "cell_type": "code",
   "execution_count": 37,
   "id": "f29c34bb",
   "metadata": {},
   "outputs": [
    {
     "name": "stdout",
     "output_type": "stream",
     "text": [
      "County 0 assigned to district 0:  18505\n",
      "County 1 assigned to district 1:  46460\n",
      "County 2 assigned to district 1:  17488\n",
      "County 3 assigned to district 1:  99266\n",
      "County 4 assigned to district 1:  19485\n",
      "County 5 assigned to district 0:  152854\n",
      "County 6 assigned to district 1:  20646\n",
      "County 7 assigned to district 1:  230299\n",
      "County 8 assigned to district 0:  43235\n",
      "County 9 assigned to district 0:  174669\n"
     ]
    }
   ],
   "source": [
    "# Access the results - raw/rough\n",
    "for i in range(n_counties):\n",
    "    for j in range(n_districts):\n",
    "        if allocation[i][j].value() > 0:\n",
    "            print('County %d assigned to district %d: ' % (i, j), allocation[i][j].value())"
   ]
  },
  {
   "attachments": {},
   "cell_type": "markdown",
   "id": "edc00b9e",
   "metadata": {},
   "source": [
    "## Visualizing the districts"
   ]
  },
  {
   "attachments": {},
   "cell_type": "markdown",
   "id": "688b90c1",
   "metadata": {},
   "source": [
    "### Prepping the data for visualization"
   ]
  },
  {
   "cell_type": "code",
   "execution_count": 38,
   "id": "7fe0166f",
   "metadata": {},
   "outputs": [
    {
     "data": {
      "text/plain": [
       "22"
      ]
     },
     "execution_count": 38,
     "metadata": {},
     "output_type": "execute_result"
    }
   ],
   "source": [
    "#turn index within the subset (0 to 10) to main \"county_id\"\n",
    "shapefile_subState.iloc[1]['county_id']"
   ]
  },
  {
   "cell_type": "code",
   "execution_count": 39,
   "id": "e27835c3",
   "metadata": {},
   "outputs": [],
   "source": [
    "# Prepare data for visualizing the results\n",
    "result_value = []\n",
    "for i in range(n_counties):\n",
    "    for j in range(n_districts):\n",
    "        var_output = {\n",
    "            # 'County': i,\n",
    "            'county_id': shapefile_subState.iloc[i]['county_id'],  #see above\n",
    "            'District': j+1,\n",
    "            'Dist_Assignment': int(assignment[i][j].value()*(j+1)),\n",
    "            'Dist_Allocation': allocation[i][j].value()}\n",
    "        result_value.append(var_output)\n",
    "        \n",
    "results = pd.DataFrame(result_value)\n",
    "results = results[results['Dist_Assignment'] != 0]\n",
    "results = results.sort_values(['county_id', 'District'])\n"
   ]
  },
  {
   "cell_type": "code",
   "execution_count": 40,
   "id": "585bda79",
   "metadata": {},
   "outputs": [
    {
     "data": {
      "text/html": [
       "<div>\n",
       "<style scoped>\n",
       "    .dataframe tbody tr th:only-of-type {\n",
       "        vertical-align: middle;\n",
       "    }\n",
       "\n",
       "    .dataframe tbody tr th {\n",
       "        vertical-align: top;\n",
       "    }\n",
       "\n",
       "    .dataframe thead th {\n",
       "        text-align: right;\n",
       "    }\n",
       "</style>\n",
       "<table border=\"1\" class=\"dataframe\">\n",
       "  <thead>\n",
       "    <tr style=\"text-align: right;\">\n",
       "      <th></th>\n",
       "      <th>county_id</th>\n",
       "      <th>District</th>\n",
       "      <th>Dist_Assignment</th>\n",
       "      <th>Dist_Allocation</th>\n",
       "    </tr>\n",
       "  </thead>\n",
       "  <tbody>\n",
       "    <tr>\n",
       "      <th>0</th>\n",
       "      <td>15</td>\n",
       "      <td>1</td>\n",
       "      <td>1</td>\n",
       "      <td>18505</td>\n",
       "    </tr>\n",
       "    <tr>\n",
       "      <th>3</th>\n",
       "      <td>22</td>\n",
       "      <td>2</td>\n",
       "      <td>2</td>\n",
       "      <td>46460</td>\n",
       "    </tr>\n",
       "    <tr>\n",
       "      <th>5</th>\n",
       "      <td>27</td>\n",
       "      <td>2</td>\n",
       "      <td>2</td>\n",
       "      <td>17488</td>\n",
       "    </tr>\n",
       "    <tr>\n",
       "      <th>7</th>\n",
       "      <td>30</td>\n",
       "      <td>2</td>\n",
       "      <td>2</td>\n",
       "      <td>99266</td>\n",
       "    </tr>\n",
       "    <tr>\n",
       "      <th>9</th>\n",
       "      <td>48</td>\n",
       "      <td>2</td>\n",
       "      <td>2</td>\n",
       "      <td>19485</td>\n",
       "    </tr>\n",
       "    <tr>\n",
       "      <th>10</th>\n",
       "      <td>51</td>\n",
       "      <td>1</td>\n",
       "      <td>1</td>\n",
       "      <td>152854</td>\n",
       "    </tr>\n",
       "    <tr>\n",
       "      <th>13</th>\n",
       "      <td>52</td>\n",
       "      <td>2</td>\n",
       "      <td>2</td>\n",
       "      <td>20646</td>\n",
       "    </tr>\n",
       "    <tr>\n",
       "      <th>15</th>\n",
       "      <td>56</td>\n",
       "      <td>2</td>\n",
       "      <td>2</td>\n",
       "      <td>230299</td>\n",
       "    </tr>\n",
       "    <tr>\n",
       "      <th>16</th>\n",
       "      <td>69</td>\n",
       "      <td>1</td>\n",
       "      <td>1</td>\n",
       "      <td>43235</td>\n",
       "    </tr>\n",
       "    <tr>\n",
       "      <th>18</th>\n",
       "      <td>81</td>\n",
       "      <td>1</td>\n",
       "      <td>1</td>\n",
       "      <td>174669</td>\n",
       "    </tr>\n",
       "  </tbody>\n",
       "</table>\n",
       "</div>"
      ],
      "text/plain": [
       "    county_id  District  Dist_Assignment  Dist_Allocation\n",
       "0          15         1                1            18505\n",
       "3          22         2                2            46460\n",
       "5          27         2                2            17488\n",
       "7          30         2                2            99266\n",
       "9          48         2                2            19485\n",
       "10         51         1                1           152854\n",
       "13         52         2                2            20646\n",
       "15         56         2                2           230299\n",
       "16         69         1                1            43235\n",
       "18         81         1                1           174669"
      ]
     },
     "execution_count": 40,
     "metadata": {},
     "output_type": "execute_result"
    }
   ],
   "source": [
    "results"
   ]
  },
  {
   "cell_type": "code",
   "execution_count": 41,
   "id": "0e03d04a",
   "metadata": {},
   "outputs": [],
   "source": [
    "new_districts_shapefile = shapefile_subState.merge(results, left_on='county_id',right_on='county_id',suffixes = ('_ID','_Name'))"
   ]
  },
  {
   "cell_type": "code",
   "execution_count": 42,
   "id": "db971ae9",
   "metadata": {},
   "outputs": [
    {
     "data": {
      "text/html": [
       "<div>\n",
       "<style scoped>\n",
       "    .dataframe tbody tr th:only-of-type {\n",
       "        vertical-align: middle;\n",
       "    }\n",
       "\n",
       "    .dataframe tbody tr th {\n",
       "        vertical-align: top;\n",
       "    }\n",
       "\n",
       "    .dataframe thead th {\n",
       "        text-align: right;\n",
       "    }\n",
       "</style>\n",
       "<table border=\"1\" class=\"dataframe\">\n",
       "  <thead>\n",
       "    <tr style=\"text-align: right;\">\n",
       "      <th></th>\n",
       "      <th>STATEFP10</th>\n",
       "      <th>COUNTYFP10</th>\n",
       "      <th>GEOID10</th>\n",
       "      <th>NAME10</th>\n",
       "      <th>NAMELSAD10</th>\n",
       "      <th>ALAND10</th>\n",
       "      <th>AWATER10</th>\n",
       "      <th>INTPTLAT10</th>\n",
       "      <th>INTPTLON10</th>\n",
       "      <th>TOTPOP</th>\n",
       "      <th>CD</th>\n",
       "      <th>geometry</th>\n",
       "      <th>county_id</th>\n",
       "      <th>county</th>\n",
       "      <th>population</th>\n",
       "      <th>latitude</th>\n",
       "      <th>longitude</th>\n",
       "      <th>District</th>\n",
       "      <th>Dist_Assignment</th>\n",
       "      <th>Dist_Allocation</th>\n",
       "    </tr>\n",
       "  </thead>\n",
       "  <tbody>\n",
       "    <tr>\n",
       "      <th>0</th>\n",
       "      <td>19</td>\n",
       "      <td>031</td>\n",
       "      <td>19031</td>\n",
       "      <td>Cedar</td>\n",
       "      <td>Cedar County</td>\n",
       "      <td>1500731293</td>\n",
       "      <td>6385840</td>\n",
       "      <td>+41.7723547</td>\n",
       "      <td>-091.1321900</td>\n",
       "      <td>18499</td>\n",
       "      <td>2</td>\n",
       "      <td>POLYGON ((-91.09434 41.59747, -91.09481 41.597...</td>\n",
       "      <td>15</td>\n",
       "      <td>Cedar</td>\n",
       "      <td>18505</td>\n",
       "      <td>41.772355</td>\n",
       "      <td>-91.132190</td>\n",
       "      <td>1</td>\n",
       "      <td>1</td>\n",
       "      <td>18505</td>\n",
       "    </tr>\n",
       "    <tr>\n",
       "      <th>1</th>\n",
       "      <td>19</td>\n",
       "      <td>045</td>\n",
       "      <td>19045</td>\n",
       "      <td>Clinton</td>\n",
       "      <td>Clinton County</td>\n",
       "      <td>1799821282</td>\n",
       "      <td>39523759</td>\n",
       "      <td>+41.8980732</td>\n",
       "      <td>-090.5342431</td>\n",
       "      <td>49116</td>\n",
       "      <td>2</td>\n",
       "      <td>POLYGON ((-90.67005 41.76363, -90.67007 41.763...</td>\n",
       "      <td>22</td>\n",
       "      <td>Clinton</td>\n",
       "      <td>46460</td>\n",
       "      <td>41.898073</td>\n",
       "      <td>-90.534243</td>\n",
       "      <td>2</td>\n",
       "      <td>2</td>\n",
       "      <td>46460</td>\n",
       "    </tr>\n",
       "    <tr>\n",
       "      <th>2</th>\n",
       "      <td>19</td>\n",
       "      <td>055</td>\n",
       "      <td>19055</td>\n",
       "      <td>Delaware</td>\n",
       "      <td>Delaware County</td>\n",
       "      <td>1496381153</td>\n",
       "      <td>3082496</td>\n",
       "      <td>+42.4730031</td>\n",
       "      <td>-091.3594425</td>\n",
       "      <td>17764</td>\n",
       "      <td>1</td>\n",
       "      <td>POLYGON ((-91.59740 42.46924, -91.59740 42.469...</td>\n",
       "      <td>27</td>\n",
       "      <td>Delaware</td>\n",
       "      <td>17488</td>\n",
       "      <td>42.473003</td>\n",
       "      <td>-91.359443</td>\n",
       "      <td>2</td>\n",
       "      <td>2</td>\n",
       "      <td>17488</td>\n",
       "    </tr>\n",
       "    <tr>\n",
       "      <th>3</th>\n",
       "      <td>19</td>\n",
       "      <td>061</td>\n",
       "      <td>19061</td>\n",
       "      <td>Dubuque</td>\n",
       "      <td>Dubuque County</td>\n",
       "      <td>1575501687</td>\n",
       "      <td>21569071</td>\n",
       "      <td>+42.4634808</td>\n",
       "      <td>-090.8787708</td>\n",
       "      <td>93653</td>\n",
       "      <td>1</td>\n",
       "      <td>POLYGON ((-91.13089 42.47126, -91.13115 42.471...</td>\n",
       "      <td>30</td>\n",
       "      <td>Dubuque</td>\n",
       "      <td>99266</td>\n",
       "      <td>42.463481</td>\n",
       "      <td>-90.878771</td>\n",
       "      <td>2</td>\n",
       "      <td>2</td>\n",
       "      <td>99266</td>\n",
       "    </tr>\n",
       "    <tr>\n",
       "      <th>4</th>\n",
       "      <td>19</td>\n",
       "      <td>097</td>\n",
       "      <td>19097</td>\n",
       "      <td>Jackson</td>\n",
       "      <td>Jackson County</td>\n",
       "      <td>1647332960</td>\n",
       "      <td>35141529</td>\n",
       "      <td>+42.1642812</td>\n",
       "      <td>-090.5745965</td>\n",
       "      <td>19848</td>\n",
       "      <td>1</td>\n",
       "      <td>POLYGON ((-90.89823 42.12059, -90.89837 42.125...</td>\n",
       "      <td>48</td>\n",
       "      <td>Jackson</td>\n",
       "      <td>19485</td>\n",
       "      <td>42.164281</td>\n",
       "      <td>-90.574596</td>\n",
       "      <td>2</td>\n",
       "      <td>2</td>\n",
       "      <td>19485</td>\n",
       "    </tr>\n",
       "  </tbody>\n",
       "</table>\n",
       "</div>"
      ],
      "text/plain": [
       "  STATEFP10 COUNTYFP10  GEOID10    NAME10       NAMELSAD10     ALAND10  \\\n",
       "0        19        031    19031     Cedar     Cedar County  1500731293   \n",
       "1        19        045    19045   Clinton   Clinton County  1799821282   \n",
       "2        19        055    19055  Delaware  Delaware County  1496381153   \n",
       "3        19        061    19061   Dubuque   Dubuque County  1575501687   \n",
       "4        19        097    19097   Jackson   Jackson County  1647332960   \n",
       "\n",
       "   AWATER10   INTPTLAT10    INTPTLON10  TOTPOP CD  \\\n",
       "0   6385840  +41.7723547  -091.1321900   18499  2   \n",
       "1  39523759  +41.8980732  -090.5342431   49116  2   \n",
       "2   3082496  +42.4730031  -091.3594425   17764  1   \n",
       "3  21569071  +42.4634808  -090.8787708   93653  1   \n",
       "4  35141529  +42.1642812  -090.5745965   19848  1   \n",
       "\n",
       "                                            geometry  county_id     county  \\\n",
       "0  POLYGON ((-91.09434 41.59747, -91.09481 41.597...         15     Cedar    \n",
       "1  POLYGON ((-90.67005 41.76363, -90.67007 41.763...         22   Clinton    \n",
       "2  POLYGON ((-91.59740 42.46924, -91.59740 42.469...         27  Delaware    \n",
       "3  POLYGON ((-91.13089 42.47126, -91.13115 42.471...         30   Dubuque    \n",
       "4  POLYGON ((-90.89823 42.12059, -90.89837 42.125...         48   Jackson    \n",
       "\n",
       "   population   latitude  longitude  District  Dist_Assignment  \\\n",
       "0       18505  41.772355 -91.132190         1                1   \n",
       "1       46460  41.898073 -90.534243         2                2   \n",
       "2       17488  42.473003 -91.359443         2                2   \n",
       "3       99266  42.463481 -90.878771         2                2   \n",
       "4       19485  42.164281 -90.574596         2                2   \n",
       "\n",
       "   Dist_Allocation  \n",
       "0            18505  \n",
       "1            46460  \n",
       "2            17488  \n",
       "3            99266  \n",
       "4            19485  "
      ]
     },
     "execution_count": 42,
     "metadata": {},
     "output_type": "execute_result"
    }
   ],
   "source": [
    "new_districts_shapefile.head()"
   ]
  },
  {
   "cell_type": "code",
   "execution_count": 43,
   "id": "ce470d8b",
   "metadata": {},
   "outputs": [],
   "source": [
    "# results['Multiple_County_Name'] = results['County_Name'].shift(periods=1)\n",
    "# results['Multiple_District'] = results['District'].shift(periods=1).fillna(99).astype(int)\n",
    "\n",
    "# Edit the assignment for the case when a county has multiple assignments \n",
    "# for i in range(0,len(results)):\n",
    "#     if results['County_Name'].loc[i] == results['Multiple_County_Name'].loc[i]:\n",
    "#         results.loc[i, 'Assignment'] =   int(str(results['District'].loc[i]) + \\\n",
    "#                                                         str(results['Multiple_District'].loc[i]))\n",
    "# results = results.sort_values(['District','County_Name'])\n",
    "# results.index = results['County_ID']"
   ]
  },
  {
   "attachments": {},
   "cell_type": "markdown",
   "id": "5e22fe60",
   "metadata": {},
   "source": [
    "### Creating the maps"
   ]
  },
  {
   "cell_type": "code",
   "execution_count": 44,
   "id": "8adc30cb",
   "metadata": {},
   "outputs": [],
   "source": [
    "color_dict = { 1 : 'red',\n",
    "               2 : 'green',\n",
    "               3 : 'pink',\n",
    "               4 : 'blue',\n",
    "               }\n",
    "\n",
    "def iowa_map(map_data,lat_col,lon_col):\n",
    "    \"\"\"\n",
    "    Create three maps to visualize the results.  \n",
    "    (1) A map with county IDs labels\n",
    "    (2) A map with county labels\n",
    "    \"\"\"\n",
    "    plot_map_population_labels = (\n",
    "        ggplot(map_data)\n",
    "    + geom_map(aes(fill=str('Dist_Assignment'))) \n",
    "    + geom_label(aes(x=lon_col, y=lat_col, label='county_id',size=2), show_legend=False)\n",
    "    + theme_minimal()\n",
    "    + theme(axis_text_x=element_blank(),\n",
    "            axis_text_y=element_blank(),\n",
    "            axis_title_x=element_blank(),\n",
    "            axis_title_y=element_blank(),\n",
    "            axis_ticks=element_blank(),\n",
    "            panel_grid_major=element_blank(),\n",
    "            panel_grid_minor=element_blank(),\n",
    "            figure_size=(7, 4))\n",
    "    + scale_fill_manual(values=color_dict))\n",
    "    \n",
    "    plot_map_county_labels = (\n",
    "        ggplot(map_data)\n",
    "    + geom_map(aes(fill=str('Dist_Assignment'))) \n",
    "    + geom_label(aes(x=lon_col, y=lat_col, label='county', size=2), \n",
    "                 show_legend=False)\n",
    "    + theme_minimal()\n",
    "    + theme(axis_text_x=element_blank(),\n",
    "            axis_text_y=element_blank(),\n",
    "            axis_title_x=element_blank(),\n",
    "            axis_title_y=element_blank(),\n",
    "            axis_ticks=element_blank(),\n",
    "            panel_grid_major=element_blank(),\n",
    "            panel_grid_minor=element_blank(),\n",
    "            figure_size=(7, 4))\n",
    "    + scale_fill_manual(values=color_dict))\n",
    "    \n",
    "   \n",
    "    return plot_map_population_labels, plot_map_county_labels\n",
    "# , plot_map_county_ids\n"
   ]
  },
  {
   "cell_type": "code",
   "execution_count": 45,
   "id": "e09a0dd4",
   "metadata": {},
   "outputs": [],
   "source": [
    "new_districts_shapefile['Dist_Assignment'] = new_districts_shapefile['Dist_Assignment'].astype(\"category\")\n",
    "\n",
    "# list of counties assigned to a particular district\n",
    "# new_districts_shapefile.loc[new_districts_shapefile['Dist_Assignment']==2]"
   ]
  },
  {
   "cell_type": "code",
   "execution_count": 46,
   "id": "429dbec7",
   "metadata": {},
   "outputs": [
    {
     "data": {
      "image/png": "[encoded data removed]",
      "text/plain": [
       "<Figure size 700x400 with 1 Axes>"
      ]
     },
     "metadata": {},
     "output_type": "display_data"
    },
    {
     "data": {
      "image/png": "[encoded data removed]",
      "text/plain": [
       "<Figure size 700x400 with 1 Axes>"
      ]
     },
     "metadata": {},
     "output_type": "display_data"
    },
    {
     "data": {
      "text/plain": [
       "(<ggplot: (8744736208023)>, <ggplot: (8744736138740)>)"
      ]
     },
     "execution_count": 46,
     "metadata": {},
     "output_type": "execute_result"
    }
   ],
   "source": [
    "iowa_map(new_districts_shapefile,'latitude','longitude')"
   ]
  },
  {
   "cell_type": "code",
   "execution_count": 47,
   "id": "415155fc",
   "metadata": {},
   "outputs": [
    {
     "data": {
      "text/html": [
       "<div>\n",
       "<style scoped>\n",
       "    .dataframe tbody tr th:only-of-type {\n",
       "        vertical-align: middle;\n",
       "    }\n",
       "\n",
       "    .dataframe tbody tr th {\n",
       "        vertical-align: top;\n",
       "    }\n",
       "\n",
       "    .dataframe thead th {\n",
       "        text-align: right;\n",
       "    }\n",
       "</style>\n",
       "<table border=\"1\" class=\"dataframe\">\n",
       "  <thead>\n",
       "    <tr style=\"text-align: right;\">\n",
       "      <th></th>\n",
       "      <th>Dist_Allocation</th>\n",
       "    </tr>\n",
       "    <tr>\n",
       "      <th>District</th>\n",
       "      <th></th>\n",
       "    </tr>\n",
       "  </thead>\n",
       "  <tbody>\n",
       "    <tr>\n",
       "      <th>1</th>\n",
       "      <td>389263</td>\n",
       "    </tr>\n",
       "    <tr>\n",
       "      <th>2</th>\n",
       "      <td>433644</td>\n",
       "    </tr>\n",
       "  </tbody>\n",
       "</table>\n",
       "</div>"
      ],
      "text/plain": [
       "          Dist_Allocation\n",
       "District                 \n",
       "1                  389263\n",
       "2                  433644"
      ]
     },
     "execution_count": 47,
     "metadata": {},
     "output_type": "execute_result"
    }
   ],
   "source": [
    "district_totals = pd.DataFrame(results.groupby('District')['Dist_Allocation'].sum().astype('int64'))\n",
    "district_totals"
   ]
  },
  {
   "attachments": {},
   "cell_type": "markdown",
   "id": "b9a75f6a",
   "metadata": {},
   "source": [
    "# Projecting data and calculating area/perimeter"
   ]
  },
  {
   "attachments": {},
   "cell_type": "markdown",
   "id": "58d8d012",
   "metadata": {},
   "source": [
    "## First, reproject to UTM 15N"
   ]
  },
  {
   "attachments": {},
   "cell_type": "markdown",
   "id": "e4810c17",
   "metadata": {},
   "source": [
    "The shapefile we've been working with is in lat/long degrees (NAD83), so it doesn't have usable units on its information. We reproject to UTM 15N\n",
    "\n",
    "https://epsg.io/26915\n",
    "\n",
    "https://spatialreference.org/ref/epsg/nad83-utm-zone-15n/\n",
    "\n",
    "After this, our lat/long coordinates will have units of meters."
   ]
  },
  {
   "cell_type": "code",
   "execution_count": 48,
   "id": "d4d6fca4",
   "metadata": {},
   "outputs": [
    {
     "data": {
      "text/plain": [
       "<Geographic 2D CRS: EPSG:4269>\n",
       "Name: NAD83\n",
       "Axis Info [ellipsoidal]:\n",
       "- Lat[north]: Geodetic latitude (degree)\n",
       "- Lon[east]: Geodetic longitude (degree)\n",
       "Area of Use:\n",
       "- name: North America - NAD83\n",
       "- bounds: (167.65, 14.92, -47.74, 86.46)\n",
       "Datum: North American Datum 1983\n",
       "- Ellipsoid: GRS 1980\n",
       "- Prime Meridian: Greenwich"
      ]
     },
     "execution_count": 48,
     "metadata": {},
     "output_type": "execute_result"
    }
   ],
   "source": [
    "#First, show the current coordinate reference system\n",
    "shapefile_subState.crs\n",
    "# new_districts_shapefile.crs"
   ]
  },
  {
   "cell_type": "code",
   "execution_count": 49,
   "id": "ced77e98",
   "metadata": {},
   "outputs": [
    {
     "data": {
      "text/plain": [
       "<Projected CRS: EPSG:26915>\n",
       "Name: NAD83 / UTM zone 15N\n",
       "Axis Info [cartesian]:\n",
       "- E[east]: Easting (metre)\n",
       "- N[north]: Northing (metre)\n",
       "Area of Use:\n",
       "- name: North America - 96°W to 90°W and NAD83 by country\n",
       "- bounds: (-96.0, 25.61, -90.0, 84.0)\n",
       "Coordinate Operation:\n",
       "- name: UTM zone 15N\n",
       "- method: Transverse Mercator\n",
       "Datum: North American Datum 1983\n",
       "- Ellipsoid: GRS 1980\n",
       "- Prime Meridian: Greenwich"
      ]
     },
     "execution_count": 49,
     "metadata": {},
     "output_type": "execute_result"
    }
   ],
   "source": [
    "#Then project the shapefiles to UTM 15N\n",
    "shapefile_subState_projected = shapefile_subState.to_crs(epsg=26915)\n",
    "new_districts_shapefile_projected = new_districts_shapefile.to_crs(epsg=26915)\n",
    "\n",
    "shapefile_subState_projected.crs\n",
    "# new_districts_shapefile_projected.crs"
   ]
  },
  {
   "cell_type": "code",
   "execution_count": 50,
   "id": "6a952a78",
   "metadata": {},
   "outputs": [
    {
     "data": {
      "text/plain": [
       "0    655223.617473\n",
       "1    704731.022201\n",
       "2    634213.382185\n",
       "3    674084.789590\n",
       "4    700371.077930\n",
       "5    617539.114607\n",
       "6    654459.932313\n",
       "7    615889.070269\n",
       "8    657549.953348\n",
       "9    697959.226117\n",
       "dtype: float64"
      ]
     },
     "execution_count": 50,
     "metadata": {},
     "output_type": "execute_result"
    }
   ],
   "source": [
    "#need new projected lat/long coords for centroid.\n",
    "\n",
    "#### output here is a (point) GeoSeries:\n",
    "# new_districts_shapefile_projected.centroid\n",
    "\n",
    "#### just x (longitude) and just y (latitude)\n",
    "new_districts_shapefile_projected.centroid.x"
   ]
  },
  {
   "cell_type": "code",
   "execution_count": 51,
   "id": "1dcc2a08",
   "metadata": {},
   "outputs": [],
   "source": [
    "new_districts_shapefile_projected['lat_proj'] = new_districts_shapefile_projected.centroid.y\n",
    "new_districts_shapefile_projected['lon_proj'] = new_districts_shapefile_projected.centroid.x"
   ]
  },
  {
   "cell_type": "code",
   "execution_count": 52,
   "id": "b799a532",
   "metadata": {},
   "outputs": [
    {
     "data": {
      "image/png": "[encoded data removed]",
      "text/plain": [
       "<Figure size 700x400 with 1 Axes>"
      ]
     },
     "metadata": {},
     "output_type": "display_data"
    },
    {
     "data": {
      "image/png": "[encoded data removed]",
      "text/plain": [
       "<Figure size 700x400 with 1 Axes>"
      ]
     },
     "metadata": {},
     "output_type": "display_data"
    },
    {
     "data": {
      "text/plain": [
       "(<ggplot: (8744809638349)>, <ggplot: (8744736049315)>)"
      ]
     },
     "execution_count": 52,
     "metadata": {},
     "output_type": "execute_result"
    }
   ],
   "source": [
    "iowa_map(new_districts_shapefile_projected,'lat_proj','lon_proj')"
   ]
  },
  {
   "attachments": {},
   "cell_type": "markdown",
   "id": "82c950f8",
   "metadata": {},
   "source": [
    "## now calculate area/perimeter/boundaries?"
   ]
  },
  {
   "cell_type": "code",
   "execution_count": 53,
   "id": "345e00f6",
   "metadata": {},
   "outputs": [
    {
     "name": "stderr",
     "output_type": "stream",
     "text": [
      "/tmp/ipykernel_5288/520865211.py:3: UserWarning: Geometry is in a geographic CRS. Results from 'area' are likely incorrect. Use 'GeoSeries.to_crs()' to re-project geometries to a projected CRS before this operation.\n",
      "\n"
     ]
    },
    {
     "data": {
      "text/plain": [
       "0    0.163199\n",
       "1    0.199560\n",
       "2    0.164144\n",
       "3    0.174823\n",
       "4    0.183316\n",
       "5    0.174498\n",
       "6    0.162700\n",
       "7    0.204158\n",
       "8    0.125408\n",
       "9    0.131042\n",
       "dtype: float64"
      ]
     },
     "execution_count": 53,
     "metadata": {},
     "output_type": "execute_result"
    }
   ],
   "source": [
    "#from original non-projected shapefile: \n",
    "#areas are not useful (0.16 \"square degrees of lat/long??\"), and we get a warning\n",
    "shapefile_subState['geometry'].area"
   ]
  },
  {
   "cell_type": "code",
   "execution_count": 54,
   "id": "c60d7346",
   "metadata": {},
   "outputs": [
    {
     "data": {
      "text/plain": [
       "0    1.506810e+09\n",
       "1    1.839785e+09\n",
       "2    1.498933e+09\n",
       "3    1.596990e+09\n",
       "4    1.682801e+09\n",
       "5    1.613214e+09\n",
       "6    1.494120e+09\n",
       "7    1.875584e+09\n",
       "8    1.163025e+09\n",
       "9    1.212864e+09\n",
       "dtype: float64"
      ]
     },
     "execution_count": 54,
     "metadata": {},
     "output_type": "execute_result"
    }
   ],
   "source": [
    "# areas calculated from projected shapefile have units of square meters\n",
    "shapefile_subState_projected['geometry'].area"
   ]
  },
  {
   "cell_type": "code",
   "execution_count": 55,
   "id": "8faeb4c7",
   "metadata": {},
   "outputs": [],
   "source": [
    "# add columns for area (units meters^2) and perimeter (units meters)\n",
    "\n",
    "new_districts_shapefile_projected[\"area\"] = new_districts_shapefile_projected[\"geometry\"].area\n",
    "new_districts_shapefile_projected[\"perimeter\"] = new_districts_shapefile_projected[\"geometry\"].length\n",
    "\n",
    "# new_districts_shapefile_projected.head()\n",
    "\n",
    "\n",
    "\n",
    "# gdf_subState_testing.head()"
   ]
  },
  {
   "attachments": {},
   "cell_type": "markdown",
   "id": "7aa59d2a",
   "metadata": {},
   "source": [
    "### testing area info for Cedar County:"
   ]
  },
  {
   "cell_type": "code",
   "execution_count": 56,
   "id": "3b122eef",
   "metadata": {},
   "outputs": [
    {
     "data": {
      "text/plain": [
       "STATEFP10                                                         19\n",
       "COUNTYFP10                                                       031\n",
       "GEOID10                                                        19031\n",
       "NAME10                                                         Cedar\n",
       "NAMELSAD10                                              Cedar County\n",
       "ALAND10                                                   1500731293\n",
       "AWATER10                                                     6385840\n",
       "INTPTLAT10                                               +41.7723547\n",
       "INTPTLON10                                              -091.1321900\n",
       "TOTPOP                                                         18499\n",
       "CD                                                                 2\n",
       "geometry           POLYGON ((658816.8950950331 4606839.017172024,...\n",
       "county_id                                                         15\n",
       "county                                                        Cedar \n",
       "population                                                     18505\n",
       "latitude                                                   41.772355\n",
       "longitude                                                  -91.13219\n",
       "District                                                           1\n",
       "Dist_Assignment                                                    1\n",
       "Dist_Allocation                                                18505\n",
       "lat_proj                                              4626174.930778\n",
       "lon_proj                                               655223.617473\n",
       "area                                                1506809883.31238\n",
       "perimeter                                              155333.700386\n",
       "Name: 0, dtype: object"
      ]
     },
     "execution_count": 56,
     "metadata": {},
     "output_type": "execute_result"
    }
   ],
   "source": [
    "#examine Cedar County:\n",
    "new_districts_shapefile_projected.iloc[0]"
   ]
  },
  {
   "cell_type": "code",
   "execution_count": 57,
   "id": "4b46eab3",
   "metadata": {},
   "outputs": [
    {
     "data": {
      "text/plain": [
       "1506.8098833123802"
      ]
     },
     "execution_count": 57,
     "metadata": {},
     "output_type": "execute_result"
    }
   ],
   "source": [
    "# convert new calculated area column to square km from sq m\n",
    "\n",
    "1506809883.31238 / (1000*1000)"
   ]
  },
  {
   "attachments": {},
   "cell_type": "markdown",
   "id": "4299f767",
   "metadata": {},
   "source": [
    "according to wikipedia/census:\n",
    "Cedar county area: 582 square miles (1510 square kilometers), 579 (1500) land vs 2.5 (6.5) water"
   ]
  },
  {
   "cell_type": "code",
   "execution_count": 58,
   "id": "9b90a705",
   "metadata": {},
   "outputs": [
    {
     "data": {
      "text/plain": [
       "1507117133"
      ]
     },
     "execution_count": 58,
     "metadata": {},
     "output_type": "execute_result"
    }
   ],
   "source": [
    "#sum of ALAND10 and AWATER10 values from shapefile (originally from mggg on github)\n",
    "new_districts_shapefile_projected.iloc[0][\"ALAND10\"]+ new_districts_shapefile_projected.iloc[0][\"AWATER10\"]"
   ]
  },
  {
   "cell_type": "code",
   "execution_count": 59,
   "id": "fdde3ae3",
   "metadata": {},
   "outputs": [
    {
     "data": {
      "text/plain": [
       "1507.117133"
      ]
     },
     "execution_count": 59,
     "metadata": {},
     "output_type": "execute_result"
    }
   ],
   "source": [
    "# convert square meters to square kilometers\n",
    "1507117133 / (1000*1000)"
   ]
  },
  {
   "attachments": {},
   "cell_type": "markdown",
   "id": "c386593a",
   "metadata": {},
   "source": [
    "### Calculate specific border segments"
   ]
  },
  {
   "attachments": {},
   "cell_type": "markdown",
   "id": "56c0e47c",
   "metadata": {},
   "source": [
    "https://stackoverflow.com/questions/55012862/return-length-of-border-segment-between-geographic-areas-in-geopandas"
   ]
  },
  {
   "cell_type": "code",
   "execution_count": 60,
   "id": "84e56760",
   "metadata": {},
   "outputs": [],
   "source": [
    "Cedar = new_districts_shapefile_projected.geometry[0]\n",
    "Clinton = new_districts_shapefile_projected.geometry[1]"
   ]
  },
  {
   "cell_type": "code",
   "execution_count": 61,
   "id": "21a5354b",
   "metadata": {},
   "outputs": [],
   "source": [
    "cedar_intersect_clinton = Cedar.intersection(Clinton)"
   ]
  },
  {
   "cell_type": "code",
   "execution_count": 62,
   "id": "75f71263",
   "metadata": {},
   "outputs": [
    {
     "name": "stdout",
     "output_type": "stream",
     "text": [
      "Length of Cedar + Clinton boundary in meters: 19521\n"
     ]
    }
   ],
   "source": [
    "cedar_clint_length = cedar_intersect_clinton.length\n",
    "print(\"Length of Cedar + Clinton boundary in meters: %d\" % cedar_clint_length)"
   ]
  },
  {
   "attachments": {},
   "cell_type": "markdown",
   "id": "13a854a9",
   "metadata": {},
   "source": [
    "## make an adjacency/shared perimeter matrix for all 10 counties"
   ]
  },
  {
   "cell_type": "code",
   "execution_count": 63,
   "id": "87ee58e2",
   "metadata": {},
   "outputs": [
    {
     "data": {
      "text/plain": [
       "10"
      ]
     },
     "execution_count": 63,
     "metadata": {},
     "output_type": "execute_result"
    }
   ],
   "source": [
    "# re-printing in case missing\n",
    "n_counties\n"
   ]
  },
  {
   "cell_type": "code",
   "execution_count": 64,
   "id": "2c629966",
   "metadata": {},
   "outputs": [
    {
     "data": {
      "text/html": [
       "<div>\n",
       "<style scoped>\n",
       "    .dataframe tbody tr th:only-of-type {\n",
       "        vertical-align: middle;\n",
       "    }\n",
       "\n",
       "    .dataframe tbody tr th {\n",
       "        vertical-align: top;\n",
       "    }\n",
       "\n",
       "    .dataframe thead th {\n",
       "        text-align: right;\n",
       "    }\n",
       "</style>\n",
       "<table border=\"1\" class=\"dataframe\">\n",
       "  <thead>\n",
       "    <tr style=\"text-align: right;\">\n",
       "      <th></th>\n",
       "      <th>15</th>\n",
       "      <th>22</th>\n",
       "      <th>27</th>\n",
       "      <th>30</th>\n",
       "      <th>48</th>\n",
       "      <th>51</th>\n",
       "      <th>52</th>\n",
       "      <th>56</th>\n",
       "      <th>69</th>\n",
       "      <th>81</th>\n",
       "    </tr>\n",
       "  </thead>\n",
       "  <tbody>\n",
       "    <tr>\n",
       "      <th>15</th>\n",
       "      <td>0.0</td>\n",
       "      <td>19521.2</td>\n",
       "      <td>0.0</td>\n",
       "      <td>0.0</td>\n",
       "      <td>0.0</td>\n",
       "      <td>29091.3</td>\n",
       "      <td>38752.4</td>\n",
       "      <td>9699.7</td>\n",
       "      <td>38914.1</td>\n",
       "      <td>19355.0</td>\n",
       "    </tr>\n",
       "    <tr>\n",
       "      <th>22</th>\n",
       "      <td>19521.2</td>\n",
       "      <td>0.0</td>\n",
       "      <td>0.0</td>\n",
       "      <td>0.0</td>\n",
       "      <td>61650.3</td>\n",
       "      <td>0.0</td>\n",
       "      <td>9700.5</td>\n",
       "      <td>0.0</td>\n",
       "      <td>0.0</td>\n",
       "      <td>74093.8</td>\n",
       "    </tr>\n",
       "    <tr>\n",
       "      <th>27</th>\n",
       "      <td>0.0</td>\n",
       "      <td>0.0</td>\n",
       "      <td>0.0</td>\n",
       "      <td>39165.1</td>\n",
       "      <td>0.0</td>\n",
       "      <td>0.0</td>\n",
       "      <td>19251.9</td>\n",
       "      <td>19272.4</td>\n",
       "      <td>0.0</td>\n",
       "      <td>0.0</td>\n",
       "    </tr>\n",
       "    <tr>\n",
       "      <th>30</th>\n",
       "      <td>0.0</td>\n",
       "      <td>0.0</td>\n",
       "      <td>39165.1</td>\n",
       "      <td>0.0</td>\n",
       "      <td>44675.5</td>\n",
       "      <td>0.0</td>\n",
       "      <td>19148.9</td>\n",
       "      <td>0.0</td>\n",
       "      <td>0.0</td>\n",
       "      <td>0.0</td>\n",
       "    </tr>\n",
       "    <tr>\n",
       "      <th>48</th>\n",
       "      <td>0.0</td>\n",
       "      <td>61650.3</td>\n",
       "      <td>0.0</td>\n",
       "      <td>44675.5</td>\n",
       "      <td>0.0</td>\n",
       "      <td>0.0</td>\n",
       "      <td>29069.4</td>\n",
       "      <td>0.0</td>\n",
       "      <td>0.0</td>\n",
       "      <td>0.0</td>\n",
       "    </tr>\n",
       "    <tr>\n",
       "      <th>51</th>\n",
       "      <td>29091.3</td>\n",
       "      <td>0.0</td>\n",
       "      <td>0.0</td>\n",
       "      <td>0.0</td>\n",
       "      <td>0.0</td>\n",
       "      <td>0.0</td>\n",
       "      <td>0.0</td>\n",
       "      <td>38640.9</td>\n",
       "      <td>19456.5</td>\n",
       "      <td>0.0</td>\n",
       "    </tr>\n",
       "    <tr>\n",
       "      <th>52</th>\n",
       "      <td>38752.4</td>\n",
       "      <td>9700.5</td>\n",
       "      <td>19251.9</td>\n",
       "      <td>19148.9</td>\n",
       "      <td>29069.4</td>\n",
       "      <td>0.0</td>\n",
       "      <td>0.0</td>\n",
       "      <td>38780.6</td>\n",
       "      <td>0.0</td>\n",
       "      <td>0.0</td>\n",
       "    </tr>\n",
       "    <tr>\n",
       "      <th>56</th>\n",
       "      <td>9699.7</td>\n",
       "      <td>0.0</td>\n",
       "      <td>19272.4</td>\n",
       "      <td>0.0</td>\n",
       "      <td>0.0</td>\n",
       "      <td>38640.9</td>\n",
       "      <td>38780.6</td>\n",
       "      <td>0.0</td>\n",
       "      <td>0.0</td>\n",
       "      <td>0.0</td>\n",
       "    </tr>\n",
       "    <tr>\n",
       "      <th>69</th>\n",
       "      <td>38914.1</td>\n",
       "      <td>0.0</td>\n",
       "      <td>0.0</td>\n",
       "      <td>0.0</td>\n",
       "      <td>0.0</td>\n",
       "      <td>19456.5</td>\n",
       "      <td>0.0</td>\n",
       "      <td>0.0</td>\n",
       "      <td>0.0</td>\n",
       "      <td>25649.7</td>\n",
       "    </tr>\n",
       "    <tr>\n",
       "      <th>81</th>\n",
       "      <td>19355.0</td>\n",
       "      <td>74093.8</td>\n",
       "      <td>0.0</td>\n",
       "      <td>0.0</td>\n",
       "      <td>0.0</td>\n",
       "      <td>0.0</td>\n",
       "      <td>0.0</td>\n",
       "      <td>0.0</td>\n",
       "      <td>25649.7</td>\n",
       "      <td>0.0</td>\n",
       "    </tr>\n",
       "  </tbody>\n",
       "</table>\n",
       "</div>"
      ],
      "text/plain": [
       "         15       22       27       30       48       51       52       56  \\\n",
       "15      0.0  19521.2      0.0      0.0      0.0  29091.3  38752.4   9699.7   \n",
       "22  19521.2      0.0      0.0      0.0  61650.3      0.0   9700.5      0.0   \n",
       "27      0.0      0.0      0.0  39165.1      0.0      0.0  19251.9  19272.4   \n",
       "30      0.0      0.0  39165.1      0.0  44675.5      0.0  19148.9      0.0   \n",
       "48      0.0  61650.3      0.0  44675.5      0.0      0.0  29069.4      0.0   \n",
       "51  29091.3      0.0      0.0      0.0      0.0      0.0      0.0  38640.9   \n",
       "52  38752.4   9700.5  19251.9  19148.9  29069.4      0.0      0.0  38780.6   \n",
       "56   9699.7      0.0  19272.4      0.0      0.0  38640.9  38780.6      0.0   \n",
       "69  38914.1      0.0      0.0      0.0      0.0  19456.5      0.0      0.0   \n",
       "81  19355.0  74093.8      0.0      0.0      0.0      0.0      0.0      0.0   \n",
       "\n",
       "         69       81  \n",
       "15  38914.1  19355.0  \n",
       "22      0.0  74093.8  \n",
       "27      0.0      0.0  \n",
       "30      0.0      0.0  \n",
       "48      0.0      0.0  \n",
       "51  19456.5      0.0  \n",
       "52      0.0      0.0  \n",
       "56      0.0      0.0  \n",
       "69      0.0  25649.7  \n",
       "81  25649.7      0.0  "
      ]
     },
     "execution_count": 64,
     "metadata": {},
     "output_type": "execute_result"
    }
   ],
   "source": [
    "# sharedperim_matrix = pd.DataFrame()\n",
    "sharedperim_array = np.zeros((n_counties,n_counties))\n",
    "\n",
    "for j in range(n_counties):\n",
    "    county_j = new_districts_shapefile_projected.geometry[j]\n",
    "    for i in range(n_counties):\n",
    "        if j < i :      # j strictly less than i - just one triangle\n",
    "            county_i = new_districts_shapefile_projected.geometry[i]\n",
    "            intersection_length = county_j.intersection(county_i)\n",
    "            sharedperim_array[i,j] = intersection_length.length\n",
    "            sharedperim_array[j,i] = intersection_length.length\n",
    "        elif j == i:\n",
    "            sharedperim_array[i,j]=0\n",
    "\n",
    "# sharedperim_array\n",
    "# array is kind of ugly, so make it a df like other stuff?\n",
    "\n",
    "## =================================\n",
    "\n",
    "#default (0,...,9) indexing:\n",
    "sharedperim_df_defaultIndex = pd.DataFrame(sharedperim_array)\n",
    "\n",
    "## _________________________________\n",
    "\n",
    "# zp_county is an array of the county vector ids (as strings)\n",
    "#maybe should set this up higher in the notebook?\n",
    "county_id_vector = zp_county.astype(int)\n",
    "\n",
    "# to specifically index rows/columns with our county ids:\n",
    "sharedperim_df_trueIndex = pd.DataFrame(sharedperim_array,columns=county_id_vector,index=county_id_vector)\n",
    "\n",
    "\n",
    "# display rounded version for ease of viewing (round to the nearest meter):\n",
    "sharedperim_df_trueIndex.round(1)\n",
    "\n",
    "\n"
   ]
  },
  {
   "attachments": {},
   "cell_type": "markdown",
   "id": "88a10135",
   "metadata": {},
   "source": [
    "TO CHECK IN FUTURE: how does this handle point neighbors (this 10 county subset was intentionally chosen to have no 4 corners...)"
   ]
  },
  {
   "cell_type": "code",
   "execution_count": 65,
   "id": "3adb4f88",
   "metadata": {},
   "outputs": [
    {
     "data": {
      "text/html": [
       "<div>\n",
       "<style scoped>\n",
       "    .dataframe tbody tr th:only-of-type {\n",
       "        vertical-align: middle;\n",
       "    }\n",
       "\n",
       "    .dataframe tbody tr th {\n",
       "        vertical-align: top;\n",
       "    }\n",
       "\n",
       "    .dataframe thead th {\n",
       "        text-align: right;\n",
       "    }\n",
       "</style>\n",
       "<table border=\"1\" class=\"dataframe\">\n",
       "  <thead>\n",
       "    <tr style=\"text-align: right;\">\n",
       "      <th></th>\n",
       "      <th>0</th>\n",
       "      <th>1</th>\n",
       "      <th>2</th>\n",
       "      <th>3</th>\n",
       "      <th>4</th>\n",
       "      <th>5</th>\n",
       "      <th>6</th>\n",
       "      <th>7</th>\n",
       "      <th>8</th>\n",
       "      <th>9</th>\n",
       "    </tr>\n",
       "  </thead>\n",
       "  <tbody>\n",
       "    <tr>\n",
       "      <th>0</th>\n",
       "      <td>0</td>\n",
       "      <td>1</td>\n",
       "      <td>0</td>\n",
       "      <td>0</td>\n",
       "      <td>0</td>\n",
       "      <td>1</td>\n",
       "      <td>1</td>\n",
       "      <td>1</td>\n",
       "      <td>1</td>\n",
       "      <td>1</td>\n",
       "    </tr>\n",
       "    <tr>\n",
       "      <th>1</th>\n",
       "      <td>1</td>\n",
       "      <td>0</td>\n",
       "      <td>0</td>\n",
       "      <td>0</td>\n",
       "      <td>1</td>\n",
       "      <td>0</td>\n",
       "      <td>1</td>\n",
       "      <td>0</td>\n",
       "      <td>0</td>\n",
       "      <td>1</td>\n",
       "    </tr>\n",
       "    <tr>\n",
       "      <th>2</th>\n",
       "      <td>0</td>\n",
       "      <td>0</td>\n",
       "      <td>0</td>\n",
       "      <td>1</td>\n",
       "      <td>0</td>\n",
       "      <td>0</td>\n",
       "      <td>1</td>\n",
       "      <td>1</td>\n",
       "      <td>0</td>\n",
       "      <td>0</td>\n",
       "    </tr>\n",
       "    <tr>\n",
       "      <th>3</th>\n",
       "      <td>0</td>\n",
       "      <td>0</td>\n",
       "      <td>1</td>\n",
       "      <td>0</td>\n",
       "      <td>1</td>\n",
       "      <td>0</td>\n",
       "      <td>1</td>\n",
       "      <td>0</td>\n",
       "      <td>0</td>\n",
       "      <td>0</td>\n",
       "    </tr>\n",
       "    <tr>\n",
       "      <th>4</th>\n",
       "      <td>0</td>\n",
       "      <td>1</td>\n",
       "      <td>0</td>\n",
       "      <td>1</td>\n",
       "      <td>0</td>\n",
       "      <td>0</td>\n",
       "      <td>1</td>\n",
       "      <td>0</td>\n",
       "      <td>0</td>\n",
       "      <td>0</td>\n",
       "    </tr>\n",
       "    <tr>\n",
       "      <th>5</th>\n",
       "      <td>1</td>\n",
       "      <td>0</td>\n",
       "      <td>0</td>\n",
       "      <td>0</td>\n",
       "      <td>0</td>\n",
       "      <td>0</td>\n",
       "      <td>0</td>\n",
       "      <td>1</td>\n",
       "      <td>1</td>\n",
       "      <td>0</td>\n",
       "    </tr>\n",
       "    <tr>\n",
       "      <th>6</th>\n",
       "      <td>1</td>\n",
       "      <td>1</td>\n",
       "      <td>1</td>\n",
       "      <td>1</td>\n",
       "      <td>1</td>\n",
       "      <td>0</td>\n",
       "      <td>0</td>\n",
       "      <td>1</td>\n",
       "      <td>0</td>\n",
       "      <td>0</td>\n",
       "    </tr>\n",
       "    <tr>\n",
       "      <th>7</th>\n",
       "      <td>1</td>\n",
       "      <td>0</td>\n",
       "      <td>1</td>\n",
       "      <td>0</td>\n",
       "      <td>0</td>\n",
       "      <td>1</td>\n",
       "      <td>1</td>\n",
       "      <td>0</td>\n",
       "      <td>0</td>\n",
       "      <td>0</td>\n",
       "    </tr>\n",
       "    <tr>\n",
       "      <th>8</th>\n",
       "      <td>1</td>\n",
       "      <td>0</td>\n",
       "      <td>0</td>\n",
       "      <td>0</td>\n",
       "      <td>0</td>\n",
       "      <td>1</td>\n",
       "      <td>0</td>\n",
       "      <td>0</td>\n",
       "      <td>0</td>\n",
       "      <td>1</td>\n",
       "    </tr>\n",
       "    <tr>\n",
       "      <th>9</th>\n",
       "      <td>1</td>\n",
       "      <td>1</td>\n",
       "      <td>0</td>\n",
       "      <td>0</td>\n",
       "      <td>0</td>\n",
       "      <td>0</td>\n",
       "      <td>0</td>\n",
       "      <td>0</td>\n",
       "      <td>1</td>\n",
       "      <td>0</td>\n",
       "    </tr>\n",
       "  </tbody>\n",
       "</table>\n",
       "</div>"
      ],
      "text/plain": [
       "   0  1  2  3  4  5  6  7  8  9\n",
       "0  0  1  0  0  0  1  1  1  1  1\n",
       "1  1  0  0  0  1  0  1  0  0  1\n",
       "2  0  0  0  1  0  0  1  1  0  0\n",
       "3  0  0  1  0  1  0  1  0  0  0\n",
       "4  0  1  0  1  0  0  1  0  0  0\n",
       "5  1  0  0  0  0  0  0  1  1  0\n",
       "6  1  1  1  1  1  0  0  1  0  0\n",
       "7  1  0  1  0  0  1  1  0  0  0\n",
       "8  1  0  0  0  0  1  0  0  0  1\n",
       "9  1  1  0  0  0  0  0  0  1  0"
      ]
     },
     "execution_count": 65,
     "metadata": {},
     "output_type": "execute_result"
    }
   ],
   "source": [
    "# re-printing adjacency matrix, for kicks/comparison\n",
    "subState_adjMat"
   ]
  },
  {
   "cell_type": "code",
   "execution_count": 66,
   "id": "374497b5",
   "metadata": {},
   "outputs": [
    {
     "data": {
      "text/plain": [
       "15    155333.700386\n",
       "22    164965.839237\n",
       "27     77689.441663\n",
       "30    102989.472132\n",
       "48    135395.277712\n",
       "51     87188.638019\n",
       "52    154703.686478\n",
       "56    106393.579718\n",
       "69     84020.279822\n",
       "81    119098.616231\n",
       "dtype: float64"
      ]
     },
     "execution_count": 66,
     "metadata": {},
     "output_type": "execute_result"
    }
   ],
   "source": [
    "# summing INTERNAL perimeters\n",
    "# (total perimeter of county i to counties ALSO IN subset)\n",
    "np.sum(sharedperim_df_trueIndex,axis=0)"
   ]
  },
  {
   "cell_type": "code",
   "execution_count": 67,
   "id": "1c1dc0fb",
   "metadata": {},
   "outputs": [
    {
     "data": {
      "text/plain": [
       "0    155333.700386\n",
       "1    206497.099838\n",
       "2    156110.824557\n",
       "3    180675.300927\n",
       "4    189411.988084\n",
       "5    178029.457820\n",
       "6    154703.686478\n",
       "7    174299.455538\n",
       "8    151668.299341\n",
       "9    178982.512569\n",
       "Name: perimeter, dtype: float64"
      ]
     },
     "execution_count": 67,
     "metadata": {},
     "output_type": "execute_result"
    }
   ],
   "source": [
    "# full perimeter of each county:\n",
    "new_districts_shapefile_projected[\"perimeter\"]\n",
    "# this should match internal perimeters for\n",
    "#    cedar (0/15) and jones (6/52) counties\n",
    "#    (landlocked within our subset)\n",
    "# but otherwise this should be (significantly) larger\n",
    "#     than internal perimeters"
   ]
  },
  {
   "attachments": {},
   "cell_type": "markdown",
   "id": "92260081",
   "metadata": {},
   "source": [
    "## Calculate perimeter of a district\n",
    "\n",
    "then area/perim^2"
   ]
  },
  {
   "attachments": {},
   "cell_type": "markdown",
   "id": "8edb07c1",
   "metadata": {},
   "source": [
    "### weird testing bits  (can delete/should use function instead?)"
   ]
  },
  {
   "cell_type": "code",
   "execution_count": 68,
   "id": "fe94f87a",
   "metadata": {},
   "outputs": [
    {
     "data": {
      "text/plain": [
       "1725712.3255391512"
      ]
     },
     "execution_count": 68,
     "metadata": {},
     "output_type": "execute_result"
    }
   ],
   "source": [
    "## sum of perimeter field for all 10 counties\n",
    "np.sum(new_districts_shapefile_projected[\"perimeter\"])"
   ]
  },
  {
   "cell_type": "code",
   "execution_count": 69,
   "id": "6ec15da4",
   "metadata": {},
   "outputs": [
    {
     "data": {
      "text/plain": [
       "0     True\n",
       "1    False\n",
       "2    False\n",
       "3    False\n",
       "4    False\n",
       "5     True\n",
       "6    False\n",
       "7    False\n",
       "8     True\n",
       "9     True\n",
       "Name: Dist_Assignment, dtype: bool"
      ]
     },
     "execution_count": 69,
     "metadata": {},
     "output_type": "execute_result"
    }
   ],
   "source": [
    "D1_bool = new_districts_shapefile_projected['Dist_Assignment']==1\n",
    "D2_bool = new_districts_shapefile_projected['Dist_Assignment']==2\n",
    "\n",
    "D1_bool\n",
    "# D2_bool"
   ]
  },
  {
   "cell_type": "code",
   "execution_count": 70,
   "id": "bc32f098",
   "metadata": {},
   "outputs": [],
   "source": [
    "# total perimeters (including doubled internal ones)\n",
    "Dist1TotPerims = new_districts_shapefile_projected.loc[D1_bool, 'perimeter'].sum()\n",
    "Dist2TotPerims = new_districts_shapefile_projected.loc[D2_bool, 'perimeter'].sum()"
   ]
  },
  {
   "cell_type": "code",
   "execution_count": 71,
   "id": "4f5032c8",
   "metadata": {},
   "outputs": [
    {
     "data": {
      "text/plain": [
       "1725712.3255391512"
      ]
     },
     "execution_count": 71,
     "metadata": {},
     "output_type": "execute_result"
    }
   ],
   "source": [
    "# matches sum of perimeter filed for all 10 counties\n",
    "Dist1TotPerims + Dist2TotPerims"
   ]
  },
  {
   "cell_type": "code",
   "execution_count": 72,
   "id": "27c937a1",
   "metadata": {},
   "outputs": [
    {
     "data": {
      "text/plain": [
       "15484125260.863554"
      ]
     },
     "execution_count": 72,
     "metadata": {},
     "output_type": "execute_result"
    }
   ],
   "source": [
    "## sum of area field for all 10 counties\n",
    "np.sum(new_districts_shapefile_projected[\"area\"])"
   ]
  },
  {
   "cell_type": "code",
   "execution_count": 73,
   "id": "0d0aadb4",
   "metadata": {},
   "outputs": [],
   "source": [
    "Dist1TotArea = new_districts_shapefile_projected.loc[D1_bool, 'area'].sum()\n",
    "Dist2TotArea = new_districts_shapefile_projected.loc[D2_bool, 'area'].sum()"
   ]
  },
  {
   "cell_type": "code",
   "execution_count": 74,
   "id": "b2987672",
   "metadata": {},
   "outputs": [
    {
     "data": {
      "text/plain": [
       "15484125260.863552"
      ]
     },
     "execution_count": 74,
     "metadata": {},
     "output_type": "execute_result"
    }
   ],
   "source": [
    "Dist2TotArea + Dist1TotArea"
   ]
  },
  {
   "cell_type": "code",
   "execution_count": 75,
   "id": "799f09e1",
   "metadata": {},
   "outputs": [],
   "source": [
    "#count the \"trues\"\n",
    "\n",
    "# was set up when I was going to manually loop sum of matrix, but skipped\n",
    "\n",
    "D1count = sum(D1_bool)\n",
    "D2count = sum(D2_bool)"
   ]
  },
  {
   "cell_type": "code",
   "execution_count": 76,
   "id": "08af5e6c",
   "metadata": {},
   "outputs": [
    {
     "data": {
      "text/html": [
       "<div>\n",
       "<style scoped>\n",
       "    .dataframe tbody tr th:only-of-type {\n",
       "        vertical-align: middle;\n",
       "    }\n",
       "\n",
       "    .dataframe tbody tr th {\n",
       "        vertical-align: top;\n",
       "    }\n",
       "\n",
       "    .dataframe thead th {\n",
       "        text-align: right;\n",
       "    }\n",
       "</style>\n",
       "<table border=\"1\" class=\"dataframe\">\n",
       "  <thead>\n",
       "    <tr style=\"text-align: right;\">\n",
       "      <th></th>\n",
       "      <th>0</th>\n",
       "      <th>5</th>\n",
       "      <th>8</th>\n",
       "      <th>9</th>\n",
       "    </tr>\n",
       "  </thead>\n",
       "  <tbody>\n",
       "    <tr>\n",
       "      <th>0</th>\n",
       "      <td>0</td>\n",
       "      <td>1</td>\n",
       "      <td>1</td>\n",
       "      <td>1</td>\n",
       "    </tr>\n",
       "    <tr>\n",
       "      <th>5</th>\n",
       "      <td>1</td>\n",
       "      <td>0</td>\n",
       "      <td>1</td>\n",
       "      <td>0</td>\n",
       "    </tr>\n",
       "    <tr>\n",
       "      <th>8</th>\n",
       "      <td>1</td>\n",
       "      <td>1</td>\n",
       "      <td>0</td>\n",
       "      <td>1</td>\n",
       "    </tr>\n",
       "    <tr>\n",
       "      <th>9</th>\n",
       "      <td>1</td>\n",
       "      <td>0</td>\n",
       "      <td>1</td>\n",
       "      <td>0</td>\n",
       "    </tr>\n",
       "  </tbody>\n",
       "</table>\n",
       "</div>"
      ],
      "text/plain": [
       "   0  5  8  9\n",
       "0  0  1  1  1\n",
       "5  1  0  1  0\n",
       "8  1  1  0  1\n",
       "9  1  0  1  0"
      ]
     },
     "execution_count": 76,
     "metadata": {},
     "output_type": "execute_result"
    }
   ],
   "source": [
    "subState_adjMat.loc[D1_bool,D1_bool]"
   ]
  },
  {
   "cell_type": "code",
   "execution_count": 77,
   "id": "670ad66c",
   "metadata": {},
   "outputs": [
    {
     "data": {
      "text/html": [
       "<div>\n",
       "<style scoped>\n",
       "    .dataframe tbody tr th:only-of-type {\n",
       "        vertical-align: middle;\n",
       "    }\n",
       "\n",
       "    .dataframe tbody tr th {\n",
       "        vertical-align: top;\n",
       "    }\n",
       "\n",
       "    .dataframe thead th {\n",
       "        text-align: right;\n",
       "    }\n",
       "</style>\n",
       "<table border=\"1\" class=\"dataframe\">\n",
       "  <thead>\n",
       "    <tr style=\"text-align: right;\">\n",
       "      <th></th>\n",
       "      <th>0</th>\n",
       "      <th>5</th>\n",
       "      <th>8</th>\n",
       "      <th>9</th>\n",
       "    </tr>\n",
       "  </thead>\n",
       "  <tbody>\n",
       "    <tr>\n",
       "      <th>0</th>\n",
       "      <td>0.000000</td>\n",
       "      <td>29091.289814</td>\n",
       "      <td>38914.064955</td>\n",
       "      <td>19355.044531</td>\n",
       "    </tr>\n",
       "    <tr>\n",
       "      <th>5</th>\n",
       "      <td>29091.289814</td>\n",
       "      <td>0.000000</td>\n",
       "      <td>19456.466336</td>\n",
       "      <td>0.000000</td>\n",
       "    </tr>\n",
       "    <tr>\n",
       "      <th>8</th>\n",
       "      <td>38914.064955</td>\n",
       "      <td>19456.466336</td>\n",
       "      <td>0.000000</td>\n",
       "      <td>25649.748531</td>\n",
       "    </tr>\n",
       "    <tr>\n",
       "      <th>9</th>\n",
       "      <td>19355.044531</td>\n",
       "      <td>0.000000</td>\n",
       "      <td>25649.748531</td>\n",
       "      <td>0.000000</td>\n",
       "    </tr>\n",
       "  </tbody>\n",
       "</table>\n",
       "</div>"
      ],
      "text/plain": [
       "              0             5             8             9\n",
       "0      0.000000  29091.289814  38914.064955  19355.044531\n",
       "5  29091.289814      0.000000  19456.466336      0.000000\n",
       "8  38914.064955  19456.466336      0.000000  25649.748531\n",
       "9  19355.044531      0.000000  25649.748531      0.000000"
      ]
     },
     "execution_count": 77,
     "metadata": {},
     "output_type": "execute_result"
    }
   ],
   "source": [
    "sharedperim_D1_mat = sharedperim_df_defaultIndex.loc[D1_bool,D1_bool]\n",
    "sharedperim_D1_mat"
   ]
  },
  {
   "cell_type": "code",
   "execution_count": 78,
   "id": "48a0eaf9",
   "metadata": {},
   "outputs": [],
   "source": [
    "sharedperim_D2_mat = sharedperim_df_defaultIndex.loc[D2_bool,D2_bool]\n",
    "# sharedperim_D2_mat"
   ]
  },
  {
   "cell_type": "code",
   "execution_count": 79,
   "id": "b1cc6bcc",
   "metadata": {},
   "outputs": [],
   "source": [
    "# sum upper triangle of the matrix:\n",
    "sharedperim_D1 = np.triu(sharedperim_D1_mat,1).sum()\n",
    "sharedperim_D2 = np.triu(sharedperim_D2_mat,1).sum()"
   ]
  },
  {
   "cell_type": "code",
   "execution_count": 80,
   "id": "336e46af",
   "metadata": {},
   "outputs": [
    {
     "name": "stdout",
     "output_type": "stream",
     "text": [
      "The exterior perimeter of district 1 is 399.080742 km, while the exterior perimeter of district 2 is 500.269065 km.\n"
     ]
    }
   ],
   "source": [
    "# Actual district perimeter:\n",
    "#each overlap section was counted twice\n",
    "ExtPerimD1 = Dist1TotPerims - 2*sharedperim_D1\n",
    "ExtPerimD2 = Dist2TotPerims - 2*sharedperim_D2\n",
    "\n",
    "\n",
    "print('The exterior perimeter of district 1 is %f km, while the exterior perimeter of district 2 is %f km.' % (ExtPerimD1/1000,ExtPerimD2/1000) )"
   ]
  },
  {
   "cell_type": "code",
   "execution_count": 81,
   "id": "ac094ee6",
   "metadata": {},
   "outputs": [
    {
     "name": "stdout",
     "output_type": "stream",
     "text": [
      "0.03450787753130106\n",
      "0.03990988715263705\n"
     ]
    }
   ],
   "source": [
    "print(Dist1TotArea / (ExtPerimD1**2))\n",
    "print(Dist2TotArea / (ExtPerimD2**2))"
   ]
  },
  {
   "attachments": {},
   "cell_type": "markdown",
   "id": "8f90530b",
   "metadata": {},
   "source": [
    "### Good function to calculate compactness ratio"
   ]
  },
  {
   "cell_type": "code",
   "execution_count": 82,
   "id": "a019ac55",
   "metadata": {},
   "outputs": [],
   "source": [
    "# one big code cell to come up with ratio!\n",
    "\n",
    "#fullshapefile should include a column for 'perimeter' and 'area'  (n counties)\n",
    "#sharedperim_df is an n x n data frame,\n",
    "#   with sharedperim_df(i,j)=length of shared boundary between county i and county j\n",
    "#   (zeros on diagonal, but it's also ignored)\n",
    "#dist_bool is a vector with the same number of rows as fullshapefile, indexed the same way\n",
    "def compactness_calculation(fullshapefile,sharedperim_df, dist_bool):\n",
    "    # total perimeters FOR OUR SUBSET (including doubled internal ones)\n",
    "    TotPerims = fullshapefile.loc[dist_bool, 'perimeter'].sum()\n",
    "\n",
    "    # total area FOR OUR SUBSET (including doubled internal ones)\n",
    "    TotArea = fullshapefile.loc[dist_bool, 'area'].sum()\n",
    "\n",
    "    sharedperim_mat = sharedperim_df.loc[dist_bool,dist_bool]\n",
    "\n",
    "    # sum upper triangle of the matrix: (NOT including diag)\n",
    "    sharedperim_sum = np.triu(sharedperim_mat,1).sum()\n",
    "\n",
    "    # external perimeter = total perimeters of all counties - 2x overlaps\n",
    "    ExternalPerimeter = TotPerims - 2*sharedperim_sum\n",
    "\n",
    "    # ratio is unitless\n",
    "    compactRatio = TotArea / (ExternalPerimeter**2)\n",
    "    return compactRatio"
   ]
  },
  {
   "cell_type": "code",
   "execution_count": 83,
   "id": "c0fcbdc9",
   "metadata": {},
   "outputs": [
    {
     "data": {
      "text/plain": [
       "0.03450787753130106"
      ]
     },
     "execution_count": 83,
     "metadata": {},
     "output_type": "execute_result"
    }
   ],
   "source": [
    "compactness_calculation(new_districts_shapefile_projected,sharedperim_df_defaultIndex,D1_bool)"
   ]
  },
  {
   "cell_type": "code",
   "execution_count": 84,
   "id": "de4c666e",
   "metadata": {},
   "outputs": [
    {
     "data": {
      "text/plain": [
       "0.03990988715263705"
      ]
     },
     "execution_count": 84,
     "metadata": {},
     "output_type": "execute_result"
    }
   ],
   "source": [
    "compactness_calculation(new_districts_shapefile_projected,sharedperim_df_defaultIndex,D2_bool)"
   ]
  },
  {
   "attachments": {},
   "cell_type": "markdown",
   "id": "b3871ba4",
   "metadata": {},
   "source": [
    "### side idea - this can nicely set up length of border between 2 districts (don't know why we'd want to atm)"
   ]
  },
  {
   "cell_type": "code",
   "execution_count": 85,
   "id": "ea40c31c",
   "metadata": {},
   "outputs": [
    {
     "data": {
      "text/html": [
       "<div>\n",
       "<style scoped>\n",
       "    .dataframe tbody tr th:only-of-type {\n",
       "        vertical-align: middle;\n",
       "    }\n",
       "\n",
       "    .dataframe tbody tr th {\n",
       "        vertical-align: top;\n",
       "    }\n",
       "\n",
       "    .dataframe thead th {\n",
       "        text-align: right;\n",
       "    }\n",
       "</style>\n",
       "<table border=\"1\" class=\"dataframe\">\n",
       "  <thead>\n",
       "    <tr style=\"text-align: right;\">\n",
       "      <th></th>\n",
       "      <th>1</th>\n",
       "      <th>2</th>\n",
       "      <th>3</th>\n",
       "      <th>4</th>\n",
       "      <th>6</th>\n",
       "      <th>7</th>\n",
       "    </tr>\n",
       "  </thead>\n",
       "  <tbody>\n",
       "    <tr>\n",
       "      <th>0</th>\n",
       "      <td>19521.180038</td>\n",
       "      <td>0.0</td>\n",
       "      <td>0.0</td>\n",
       "      <td>0.0</td>\n",
       "      <td>38752.38126</td>\n",
       "      <td>9699.739787</td>\n",
       "    </tr>\n",
       "    <tr>\n",
       "      <th>5</th>\n",
       "      <td>0.000000</td>\n",
       "      <td>0.0</td>\n",
       "      <td>0.0</td>\n",
       "      <td>0.0</td>\n",
       "      <td>0.00000</td>\n",
       "      <td>38640.881868</td>\n",
       "    </tr>\n",
       "    <tr>\n",
       "      <th>8</th>\n",
       "      <td>0.000000</td>\n",
       "      <td>0.0</td>\n",
       "      <td>0.0</td>\n",
       "      <td>0.0</td>\n",
       "      <td>0.00000</td>\n",
       "      <td>0.000000</td>\n",
       "    </tr>\n",
       "    <tr>\n",
       "      <th>9</th>\n",
       "      <td>74093.823168</td>\n",
       "      <td>0.0</td>\n",
       "      <td>0.0</td>\n",
       "      <td>0.0</td>\n",
       "      <td>0.00000</td>\n",
       "      <td>0.000000</td>\n",
       "    </tr>\n",
       "  </tbody>\n",
       "</table>\n",
       "</div>"
      ],
      "text/plain": [
       "              1    2    3    4            6             7\n",
       "0  19521.180038  0.0  0.0  0.0  38752.38126   9699.739787\n",
       "5      0.000000  0.0  0.0  0.0      0.00000  38640.881868\n",
       "8      0.000000  0.0  0.0  0.0      0.00000      0.000000\n",
       "9  74093.823168  0.0  0.0  0.0      0.00000      0.000000"
      ]
     },
     "execution_count": 85,
     "metadata": {},
     "output_type": "execute_result"
    }
   ],
   "source": [
    "# interesting side idea:\n",
    "#    find sum of borders BETWEEN district 1 and 2\n",
    "sharedperim_df_defaultIndex.loc[D1_bool,D2_bool]"
   ]
  },
  {
   "attachments": {},
   "cell_type": "markdown",
   "id": "b86c1636",
   "metadata": {},
   "source": [
    "## Convex hull of a district"
   ]
  },
  {
   "attachments": {},
   "cell_type": "markdown",
   "id": "8b16537a",
   "metadata": {},
   "source": [
    "Start by dissolving counties so we have a shapefile of districts"
   ]
  },
  {
   "cell_type": "code",
   "execution_count": 86,
   "id": "30c52324",
   "metadata": {},
   "outputs": [
    {
     "data": {
      "text/plain": [
       "Index(['STATEFP10', 'COUNTYFP10', 'GEOID10', 'NAME10', 'NAMELSAD10', 'ALAND10',\n",
       "       'AWATER10', 'INTPTLAT10', 'INTPTLON10', 'TOTPOP', 'CD', 'geometry',\n",
       "       'county_id', 'county', 'population', 'latitude', 'longitude',\n",
       "       'District', 'Dist_Assignment', 'Dist_Allocation', 'lat_proj',\n",
       "       'lon_proj', 'area', 'perimeter'],\n",
       "      dtype='object')"
      ]
     },
     "execution_count": 86,
     "metadata": {},
     "output_type": "execute_result"
    }
   ],
   "source": [
    "new_districts_shapefile_projected.columns"
   ]
  },
  {
   "cell_type": "code",
   "execution_count": 87,
   "id": "ce66861e",
   "metadata": {},
   "outputs": [],
   "source": [
    "#temp shapefile with only the columns we want\n",
    "#to pass to the dissolved shapefile\n",
    "newCDs_temp = new_districts_shapefile_projected[['geometry','population','Dist_Assignment','area']]\n",
    "\n",
    "#dissolve the shapefile/merge counties. group by assignment.\n",
    "#aggregate remaining columns by summing them\n",
    "District_Shapefile = newCDs_temp.dissolve(\n",
    "    by=\"Dist_Assignment\",\n",
    "    aggfunc = 'sum'\n",
    ")"
   ]
  },
  {
   "cell_type": "code",
   "execution_count": 88,
   "id": "1d51b3d8",
   "metadata": {},
   "outputs": [
    {
     "data": {
      "text/html": [
       "<div>\n",
       "<style scoped>\n",
       "    .dataframe tbody tr th:only-of-type {\n",
       "        vertical-align: middle;\n",
       "    }\n",
       "\n",
       "    .dataframe tbody tr th {\n",
       "        vertical-align: top;\n",
       "    }\n",
       "\n",
       "    .dataframe thead th {\n",
       "        text-align: right;\n",
       "    }\n",
       "</style>\n",
       "<table border=\"1\" class=\"dataframe\">\n",
       "  <thead>\n",
       "    <tr style=\"text-align: right;\">\n",
       "      <th></th>\n",
       "      <th>geometry</th>\n",
       "      <th>population</th>\n",
       "      <th>area</th>\n",
       "    </tr>\n",
       "    <tr>\n",
       "      <th>Dist_Assignment</th>\n",
       "      <th></th>\n",
       "      <th></th>\n",
       "      <th></th>\n",
       "    </tr>\n",
       "  </thead>\n",
       "  <tbody>\n",
       "    <tr>\n",
       "      <th>1</th>\n",
       "      <td>POLYGON ((674677.810 4626529.279, 674868.559 4...</td>\n",
       "      <td>389263</td>\n",
       "      <td>5.495912e+09</td>\n",
       "    </tr>\n",
       "    <tr>\n",
       "      <th>2</th>\n",
       "      <td>POLYGON ((693679.404 4626156.596, 693678.021 4...</td>\n",
       "      <td>433644</td>\n",
       "      <td>9.988213e+09</td>\n",
       "    </tr>\n",
       "  </tbody>\n",
       "</table>\n",
       "</div>"
      ],
      "text/plain": [
       "                                                          geometry  \\\n",
       "Dist_Assignment                                                      \n",
       "1                POLYGON ((674677.810 4626529.279, 674868.559 4...   \n",
       "2                POLYGON ((693679.404 4626156.596, 693678.021 4...   \n",
       "\n",
       "                 population          area  \n",
       "Dist_Assignment                            \n",
       "1                    389263  5.495912e+09  \n",
       "2                    433644  9.988213e+09  "
      ]
     },
     "execution_count": 88,
     "metadata": {},
     "output_type": "execute_result"
    }
   ],
   "source": [
    "District_Shapefile"
   ]
  },
  {
   "cell_type": "code",
   "execution_count": 89,
   "id": "ba158182",
   "metadata": {},
   "outputs": [],
   "source": [
    "District_Shapefile['latitude_cent'] = District_Shapefile.centroid.y\n",
    "District_Shapefile['longitude_cent'] = District_Shapefile.centroid.x"
   ]
  },
  {
   "cell_type": "code",
   "execution_count": 90,
   "id": "d9e249ce",
   "metadata": {},
   "outputs": [
    {
     "data": {
      "text/html": [
       "<div>\n",
       "<style scoped>\n",
       "    .dataframe tbody tr th:only-of-type {\n",
       "        vertical-align: middle;\n",
       "    }\n",
       "\n",
       "    .dataframe tbody tr th {\n",
       "        vertical-align: top;\n",
       "    }\n",
       "\n",
       "    .dataframe thead th {\n",
       "        text-align: right;\n",
       "    }\n",
       "</style>\n",
       "<table border=\"1\" class=\"dataframe\">\n",
       "  <thead>\n",
       "    <tr style=\"text-align: right;\">\n",
       "      <th></th>\n",
       "      <th>geometry</th>\n",
       "      <th>population</th>\n",
       "      <th>area</th>\n",
       "      <th>latitude_cent</th>\n",
       "      <th>longitude_cent</th>\n",
       "    </tr>\n",
       "    <tr>\n",
       "      <th>Dist_Assignment</th>\n",
       "      <th></th>\n",
       "      <th></th>\n",
       "      <th></th>\n",
       "      <th></th>\n",
       "      <th></th>\n",
       "    </tr>\n",
       "  </thead>\n",
       "  <tbody>\n",
       "    <tr>\n",
       "      <th>1</th>\n",
       "      <td>POLYGON ((674677.810 4626529.279, 674868.559 4...</td>\n",
       "      <td>389263</td>\n",
       "      <td>5.495912e+09</td>\n",
       "      <td>4.612831e+06</td>\n",
       "      <td>654085.484685</td>\n",
       "    </tr>\n",
       "    <tr>\n",
       "      <th>2</th>\n",
       "      <td>POLYGON ((693679.404 4626156.596, 693678.021 4...</td>\n",
       "      <td>433644</td>\n",
       "      <td>9.988213e+09</td>\n",
       "      <td>4.672728e+06</td>\n",
       "      <td>664311.230406</td>\n",
       "    </tr>\n",
       "  </tbody>\n",
       "</table>\n",
       "</div>"
      ],
      "text/plain": [
       "                                                          geometry  \\\n",
       "Dist_Assignment                                                      \n",
       "1                POLYGON ((674677.810 4626529.279, 674868.559 4...   \n",
       "2                POLYGON ((693679.404 4626156.596, 693678.021 4...   \n",
       "\n",
       "                 population          area  latitude_cent  longitude_cent  \n",
       "Dist_Assignment                                                           \n",
       "1                    389263  5.495912e+09   4.612831e+06   654085.484685  \n",
       "2                    433644  9.988213e+09   4.672728e+06   664311.230406  "
      ]
     },
     "execution_count": 90,
     "metadata": {},
     "output_type": "execute_result"
    }
   ],
   "source": [
    "District_Shapefile"
   ]
  },
  {
   "cell_type": "code",
   "execution_count": 91,
   "id": "f4e36471",
   "metadata": {},
   "outputs": [
    {
     "data": {
      "text/html": [
       "<div>\n",
       "<style scoped>\n",
       "    .dataframe tbody tr th:only-of-type {\n",
       "        vertical-align: middle;\n",
       "    }\n",
       "\n",
       "    .dataframe tbody tr th {\n",
       "        vertical-align: top;\n",
       "    }\n",
       "\n",
       "    .dataframe thead th {\n",
       "        text-align: right;\n",
       "    }\n",
       "</style>\n",
       "<table border=\"1\" class=\"dataframe\">\n",
       "  <thead>\n",
       "    <tr style=\"text-align: right;\">\n",
       "      <th></th>\n",
       "      <th>Dist_Assignment</th>\n",
       "      <th>geometry</th>\n",
       "      <th>population</th>\n",
       "      <th>area</th>\n",
       "      <th>latitude_cent</th>\n",
       "      <th>longitude_cent</th>\n",
       "    </tr>\n",
       "  </thead>\n",
       "  <tbody>\n",
       "    <tr>\n",
       "      <th>0</th>\n",
       "      <td>1</td>\n",
       "      <td>POLYGON ((674677.810 4626529.279, 674868.559 4...</td>\n",
       "      <td>389263</td>\n",
       "      <td>5.495912e+09</td>\n",
       "      <td>4.612831e+06</td>\n",
       "      <td>654085.484685</td>\n",
       "    </tr>\n",
       "    <tr>\n",
       "      <th>1</th>\n",
       "      <td>2</td>\n",
       "      <td>POLYGON ((693679.404 4626156.596, 693678.021 4...</td>\n",
       "      <td>433644</td>\n",
       "      <td>9.988213e+09</td>\n",
       "      <td>4.672728e+06</td>\n",
       "      <td>664311.230406</td>\n",
       "    </tr>\n",
       "  </tbody>\n",
       "</table>\n",
       "</div>"
      ],
      "text/plain": [
       "  Dist_Assignment                                           geometry  \\\n",
       "0               1  POLYGON ((674677.810 4626529.279, 674868.559 4...   \n",
       "1               2  POLYGON ((693679.404 4626156.596, 693678.021 4...   \n",
       "\n",
       "   population          area  latitude_cent  longitude_cent  \n",
       "0      389263  5.495912e+09   4.612831e+06   654085.484685  \n",
       "1      433644  9.988213e+09   4.672728e+06   664311.230406  "
      ]
     },
     "execution_count": 91,
     "metadata": {},
     "output_type": "execute_result"
    }
   ],
   "source": [
    "District_Shapefile=District_Shapefile.reset_index().copy()\n",
    "District_Shapefile"
   ]
  },
  {
   "cell_type": "code",
   "execution_count": 92,
   "id": "77f5d4dc",
   "metadata": {},
   "outputs": [
    {
     "data": {
      "text/html": [
       "<div>\n",
       "<style scoped>\n",
       "    .dataframe tbody tr th:only-of-type {\n",
       "        vertical-align: middle;\n",
       "    }\n",
       "\n",
       "    .dataframe tbody tr th {\n",
       "        vertical-align: top;\n",
       "    }\n",
       "\n",
       "    .dataframe thead th {\n",
       "        text-align: right;\n",
       "    }\n",
       "</style>\n",
       "<table border=\"1\" class=\"dataframe\">\n",
       "  <thead>\n",
       "    <tr style=\"text-align: right;\">\n",
       "      <th></th>\n",
       "      <th>Dist_Assignment</th>\n",
       "      <th>geometry</th>\n",
       "      <th>population</th>\n",
       "      <th>area</th>\n",
       "      <th>latitude_cent</th>\n",
       "      <th>longitude_cent</th>\n",
       "      <th>area_calculated</th>\n",
       "      <th>perimeter</th>\n",
       "    </tr>\n",
       "  </thead>\n",
       "  <tbody>\n",
       "    <tr>\n",
       "      <th>0</th>\n",
       "      <td>1</td>\n",
       "      <td>POLYGON ((674677.810 4626529.279, 674868.559 4...</td>\n",
       "      <td>389263</td>\n",
       "      <td>5.495912e+09</td>\n",
       "      <td>4.612831e+06</td>\n",
       "      <td>654085.484685</td>\n",
       "      <td>5.495912e+09</td>\n",
       "      <td>399080.741781</td>\n",
       "    </tr>\n",
       "    <tr>\n",
       "      <th>1</th>\n",
       "      <td>2</td>\n",
       "      <td>POLYGON ((693679.404 4626156.596, 693678.021 4...</td>\n",
       "      <td>433644</td>\n",
       "      <td>9.988213e+09</td>\n",
       "      <td>4.672728e+06</td>\n",
       "      <td>664311.230406</td>\n",
       "      <td>9.988213e+09</td>\n",
       "      <td>500269.064605</td>\n",
       "    </tr>\n",
       "  </tbody>\n",
       "</table>\n",
       "</div>"
      ],
      "text/plain": [
       "  Dist_Assignment                                           geometry  \\\n",
       "0               1  POLYGON ((674677.810 4626529.279, 674868.559 4...   \n",
       "1               2  POLYGON ((693679.404 4626156.596, 693678.021 4...   \n",
       "\n",
       "   population          area  latitude_cent  longitude_cent  area_calculated  \\\n",
       "0      389263  5.495912e+09   4.612831e+06   654085.484685     5.495912e+09   \n",
       "1      433644  9.988213e+09   4.672728e+06   664311.230406     9.988213e+09   \n",
       "\n",
       "       perimeter  \n",
       "0  399080.741781  \n",
       "1  500269.064605  "
      ]
     },
     "execution_count": 92,
     "metadata": {},
     "output_type": "execute_result"
    }
   ],
   "source": [
    "District_Shapefile[\"area_calculated\"] = District_Shapefile[\"geometry\"].area\n",
    "District_Shapefile[\"perimeter\"] = District_Shapefile[\"geometry\"].length\n",
    "District_Shapefile\n",
    "\n",
    "#perimeters here match the values from doing manually, yay!"
   ]
  },
  {
   "cell_type": "code",
   "execution_count": 93,
   "id": "dfb47b31",
   "metadata": {},
   "outputs": [],
   "source": [
    "color_dict2 = { 1 : 'green',\n",
    "               2 : 'pink',\n",
    "               }\n",
    "\n",
    "def district_map(map_data,lat_col,lon_col):\n",
    "    \"\"\"\n",
    "    Create a map\n",
    "    \"\"\"\n",
    "    plot_map = (\n",
    "        ggplot(map_data)\n",
    "    + geom_map(aes(fill=str('Dist_Assignment'))) \n",
    "    + geom_label(aes(x=lon_col, y=lat_col, label='Dist_Assignment',size=2), show_legend=False)\n",
    "    + theme_minimal()\n",
    "    + theme(axis_text_x=element_blank(),\n",
    "            axis_text_y=element_blank(),\n",
    "            axis_title_x=element_blank(),\n",
    "            axis_title_y=element_blank(),\n",
    "            axis_ticks=element_blank(),\n",
    "            panel_grid_major=element_blank(),\n",
    "            panel_grid_minor=element_blank(),\n",
    "            # figure_size=(7, 4),\n",
    "            # panel_background = element_rect(fill = 'white'),    #just panel of the map itself\n",
    "            plot_background = element_rect(fill = 'white')       #whole png area\n",
    "            )\n",
    "    + scale_fill_manual(values=color_dict2))\n",
    "        \n",
    "   \n",
    "    return plot_map"
   ]
  },
  {
   "cell_type": "code",
   "execution_count": 94,
   "id": "e79a5ef4",
   "metadata": {},
   "outputs": [
    {
     "data": {
      "image/png": "[encoded data removed]",
      "text/plain": [
       "<Figure size 640x480 with 1 Axes>"
      ]
     },
     "metadata": {},
     "output_type": "display_data"
    },
    {
     "data": {
      "text/plain": [
       "<ggplot: (8744735856818)>"
      ]
     },
     "execution_count": 94,
     "metadata": {},
     "output_type": "execute_result"
    }
   ],
   "source": [
    "district_map(District_Shapefile,'latitude_cent','longitude_cent')"
   ]
  },
  {
   "cell_type": "code",
   "execution_count": 95,
   "id": "a9fd81d1",
   "metadata": {},
   "outputs": [
    {
     "data": {
      "text/plain": [
       "0    POLYGON ((636445.123 4577346.930, 597699.240 4...\n",
       "1    POLYGON ((690119.770 4622832.971, 596992.214 4...\n",
       "dtype: geometry"
      ]
     },
     "execution_count": 95,
     "metadata": {},
     "output_type": "execute_result"
    }
   ],
   "source": [
    "Dist_hulls = District_Shapefile.convex_hull\n",
    "Dist_hulls\n",
    "\n",
    "### some stupid error when trying to append both?\n",
    "# Dist_hulls['latitude_cent'] = Dist_hulls.centroid.y\n",
    "# # Dist_hulls['longitude_cent'] = Dist_hulls.centroid.x"
   ]
  },
  {
   "cell_type": "code",
   "execution_count": 96,
   "id": "7cd9fb04",
   "metadata": {},
   "outputs": [
    {
     "data": {
      "text/plain": [
       "0    655062.781108\n",
       "1    663182.786147\n",
       "dtype: float64"
      ]
     },
     "execution_count": 96,
     "metadata": {},
     "output_type": "execute_result"
    }
   ],
   "source": [
    "Dist_hulls.centroid.x"
   ]
  },
  {
   "cell_type": "code",
   "execution_count": 97,
   "id": "64842c52",
   "metadata": {},
   "outputs": [
    {
     "data": {
      "text/html": [
       "<div>\n",
       "<style scoped>\n",
       "    .dataframe tbody tr th:only-of-type {\n",
       "        vertical-align: middle;\n",
       "    }\n",
       "\n",
       "    .dataframe tbody tr th {\n",
       "        vertical-align: top;\n",
       "    }\n",
       "\n",
       "    .dataframe thead th {\n",
       "        text-align: right;\n",
       "    }\n",
       "</style>\n",
       "<table border=\"1\" class=\"dataframe\">\n",
       "  <thead>\n",
       "    <tr style=\"text-align: right;\">\n",
       "      <th></th>\n",
       "      <th>Dist_Assignment</th>\n",
       "      <th>geometry</th>\n",
       "      <th>population</th>\n",
       "      <th>area</th>\n",
       "      <th>latitude_cent</th>\n",
       "      <th>longitude_cent</th>\n",
       "      <th>area_calculated</th>\n",
       "      <th>perimeter</th>\n",
       "      <th>hull</th>\n",
       "    </tr>\n",
       "  </thead>\n",
       "  <tbody>\n",
       "    <tr>\n",
       "      <th>0</th>\n",
       "      <td>1</td>\n",
       "      <td>POLYGON ((674677.810 4626529.279, 674868.559 4...</td>\n",
       "      <td>389263</td>\n",
       "      <td>5.495912e+09</td>\n",
       "      <td>4.612831e+06</td>\n",
       "      <td>654085.484685</td>\n",
       "      <td>5.495912e+09</td>\n",
       "      <td>399080.741781</td>\n",
       "      <td>POLYGON ((636445.123 4577346.930, 597699.240 4...</td>\n",
       "    </tr>\n",
       "    <tr>\n",
       "      <th>1</th>\n",
       "      <td>2</td>\n",
       "      <td>POLYGON ((693679.404 4626156.596, 693678.021 4...</td>\n",
       "      <td>433644</td>\n",
       "      <td>9.988213e+09</td>\n",
       "      <td>4.672728e+06</td>\n",
       "      <td>664311.230406</td>\n",
       "      <td>9.988213e+09</td>\n",
       "      <td>500269.064605</td>\n",
       "      <td>POLYGON ((690119.770 4622832.971, 596992.214 4...</td>\n",
       "    </tr>\n",
       "  </tbody>\n",
       "</table>\n",
       "</div>"
      ],
      "text/plain": [
       "  Dist_Assignment                                           geometry  \\\n",
       "0               1  POLYGON ((674677.810 4626529.279, 674868.559 4...   \n",
       "1               2  POLYGON ((693679.404 4626156.596, 693678.021 4...   \n",
       "\n",
       "   population          area  latitude_cent  longitude_cent  area_calculated  \\\n",
       "0      389263  5.495912e+09   4.612831e+06   654085.484685     5.495912e+09   \n",
       "1      433644  9.988213e+09   4.672728e+06   664311.230406     9.988213e+09   \n",
       "\n",
       "       perimeter                                               hull  \n",
       "0  399080.741781  POLYGON ((636445.123 4577346.930, 597699.240 4...  \n",
       "1  500269.064605  POLYGON ((690119.770 4622832.971, 596992.214 4...  "
      ]
     },
     "execution_count": 97,
     "metadata": {},
     "output_type": "execute_result"
    }
   ],
   "source": [
    "District_Shapefile['hull'] = Dist_hulls\n",
    "District_Shapefile"
   ]
  },
  {
   "cell_type": "code",
   "execution_count": 98,
   "id": "dfb51bd4",
   "metadata": {},
   "outputs": [
    {
     "data": {
      "text/plain": [
       "0    POLYGON ((674677.810 4626529.279, 674868.559 4...\n",
       "1    POLYGON ((693679.404 4626156.596, 693678.021 4...\n",
       "Name: geometry, dtype: geometry"
      ]
     },
     "execution_count": 98,
     "metadata": {},
     "output_type": "execute_result"
    }
   ],
   "source": [
    "District_Shapefile.geometry"
   ]
  },
  {
   "cell_type": "code",
   "execution_count": 99,
   "id": "2602a4be",
   "metadata": {},
   "outputs": [],
   "source": [
    "#inplace=False so we don't rename the geom column in the original\n",
    "District_Shapefile_hulls = District_Shapefile.rename_geometry('actual_geom', inplace=False)\n",
    "District_Shapefile_hulls = District_Shapefile_hulls.set_geometry(\"hull\")\n",
    "\n",
    "#change name of \"hull\" column to \"geometry\" so the stupid mapping function will recognize it\n",
    "District_Shapefile_hulls.rename_geometry('geometry',inplace=True)"
   ]
  },
  {
   "cell_type": "code",
   "execution_count": 100,
   "id": "9b6e53b2",
   "metadata": {},
   "outputs": [
    {
     "data": {
      "text/plain": [
       "0    POLYGON ((636445.123 4577346.930, 597699.240 4...\n",
       "1    POLYGON ((690119.770 4622832.971, 596992.214 4...\n",
       "Name: geometry, dtype: geometry"
      ]
     },
     "execution_count": 100,
     "metadata": {},
     "output_type": "execute_result"
    }
   ],
   "source": [
    "District_Shapefile_hulls.geometry"
   ]
  },
  {
   "cell_type": "code",
   "execution_count": 101,
   "id": "8df86f05",
   "metadata": {},
   "outputs": [
    {
     "data": {
      "text/html": [
       "<div>\n",
       "<style scoped>\n",
       "    .dataframe tbody tr th:only-of-type {\n",
       "        vertical-align: middle;\n",
       "    }\n",
       "\n",
       "    .dataframe tbody tr th {\n",
       "        vertical-align: top;\n",
       "    }\n",
       "\n",
       "    .dataframe thead th {\n",
       "        text-align: right;\n",
       "    }\n",
       "</style>\n",
       "<table border=\"1\" class=\"dataframe\">\n",
       "  <thead>\n",
       "    <tr style=\"text-align: right;\">\n",
       "      <th></th>\n",
       "      <th>Dist_Assignment</th>\n",
       "      <th>actual_geom</th>\n",
       "      <th>population</th>\n",
       "      <th>area</th>\n",
       "      <th>latitude_cent</th>\n",
       "      <th>longitude_cent</th>\n",
       "      <th>area_calculated</th>\n",
       "      <th>perimeter</th>\n",
       "      <th>geometry</th>\n",
       "    </tr>\n",
       "  </thead>\n",
       "  <tbody>\n",
       "    <tr>\n",
       "      <th>0</th>\n",
       "      <td>1</td>\n",
       "      <td>POLYGON ((674677.810 4626529.279, 674868.559 4...</td>\n",
       "      <td>389263</td>\n",
       "      <td>5.495912e+09</td>\n",
       "      <td>4.612831e+06</td>\n",
       "      <td>654085.484685</td>\n",
       "      <td>5.495912e+09</td>\n",
       "      <td>399080.741781</td>\n",
       "      <td>POLYGON ((636445.123 4577346.930, 597699.240 4...</td>\n",
       "    </tr>\n",
       "    <tr>\n",
       "      <th>1</th>\n",
       "      <td>2</td>\n",
       "      <td>POLYGON ((693679.404 4626156.596, 693678.021 4...</td>\n",
       "      <td>433644</td>\n",
       "      <td>9.988213e+09</td>\n",
       "      <td>4.672728e+06</td>\n",
       "      <td>664311.230406</td>\n",
       "      <td>9.988213e+09</td>\n",
       "      <td>500269.064605</td>\n",
       "      <td>POLYGON ((690119.770 4622832.971, 596992.214 4...</td>\n",
       "    </tr>\n",
       "  </tbody>\n",
       "</table>\n",
       "</div>"
      ],
      "text/plain": [
       "  Dist_Assignment                                        actual_geom  \\\n",
       "0               1  POLYGON ((674677.810 4626529.279, 674868.559 4...   \n",
       "1               2  POLYGON ((693679.404 4626156.596, 693678.021 4...   \n",
       "\n",
       "   population          area  latitude_cent  longitude_cent  area_calculated  \\\n",
       "0      389263  5.495912e+09   4.612831e+06   654085.484685     5.495912e+09   \n",
       "1      433644  9.988213e+09   4.672728e+06   664311.230406     9.988213e+09   \n",
       "\n",
       "       perimeter                                           geometry  \n",
       "0  399080.741781  POLYGON ((636445.123 4577346.930, 597699.240 4...  \n",
       "1  500269.064605  POLYGON ((690119.770 4622832.971, 596992.214 4...  "
      ]
     },
     "execution_count": 101,
     "metadata": {},
     "output_type": "execute_result"
    }
   ],
   "source": [
    "District_Shapefile_hulls"
   ]
  },
  {
   "cell_type": "code",
   "execution_count": 251,
   "id": "44930b36",
   "metadata": {},
   "outputs": [
    {
     "data": {
      "image/png": "[encoded data removed]",
      "text/plain": [
       "<Figure size 700x400 with 1 Axes>"
      ]
     },
     "metadata": {},
     "output_type": "display_data"
    },
    {
     "data": {
      "text/plain": [
       "<ggplot: (8769564501399)>"
      ]
     },
     "execution_count": 251,
     "metadata": {},
     "output_type": "execute_result"
    }
   ],
   "source": [
    "district_map(District_Shapefile_hulls,'latitude_cent','longitude_cent')"
   ]
  },
  {
   "cell_type": "code",
   "execution_count": 115,
   "id": "d550133e",
   "metadata": {},
   "outputs": [
    {
     "data": {
      "text/html": [
       "<div>\n",
       "<style scoped>\n",
       "    .dataframe tbody tr th:only-of-type {\n",
       "        vertical-align: middle;\n",
       "    }\n",
       "\n",
       "    .dataframe tbody tr th {\n",
       "        vertical-align: top;\n",
       "    }\n",
       "\n",
       "    .dataframe thead th {\n",
       "        text-align: right;\n",
       "    }\n",
       "</style>\n",
       "<table border=\"1\" class=\"dataframe\">\n",
       "  <thead>\n",
       "    <tr style=\"text-align: right;\">\n",
       "      <th></th>\n",
       "      <th>Dist_Assignment</th>\n",
       "      <th>geometry</th>\n",
       "      <th>population</th>\n",
       "      <th>area</th>\n",
       "      <th>latitude_cent</th>\n",
       "      <th>longitude_cent</th>\n",
       "      <th>area_calculated</th>\n",
       "      <th>perimeter</th>\n",
       "      <th>hull</th>\n",
       "      <th>district perimeter</th>\n",
       "    </tr>\n",
       "  </thead>\n",
       "  <tbody>\n",
       "    <tr>\n",
       "      <th>0</th>\n",
       "      <td>1</td>\n",
       "      <td>POLYGON ((674677.810 4626529.279, 674868.559 4...</td>\n",
       "      <td>389263</td>\n",
       "      <td>5.495912e+09</td>\n",
       "      <td>4.612831e+06</td>\n",
       "      <td>654085.484685</td>\n",
       "      <td>5.495912e+09</td>\n",
       "      <td>399080.741781</td>\n",
       "      <td>POLYGON ((636445.123 4577346.930, 597699.240 4...</td>\n",
       "      <td>399080.741781</td>\n",
       "    </tr>\n",
       "    <tr>\n",
       "      <th>1</th>\n",
       "      <td>2</td>\n",
       "      <td>POLYGON ((693679.404 4626156.596, 693678.021 4...</td>\n",
       "      <td>433644</td>\n",
       "      <td>9.988213e+09</td>\n",
       "      <td>4.672728e+06</td>\n",
       "      <td>664311.230406</td>\n",
       "      <td>9.988213e+09</td>\n",
       "      <td>500269.064605</td>\n",
       "      <td>POLYGON ((690119.770 4622832.971, 596992.214 4...</td>\n",
       "      <td>500269.064605</td>\n",
       "    </tr>\n",
       "  </tbody>\n",
       "</table>\n",
       "</div>"
      ],
      "text/plain": [
       "  Dist_Assignment                                           geometry  \\\n",
       "0               1  POLYGON ((674677.810 4626529.279, 674868.559 4...   \n",
       "1               2  POLYGON ((693679.404 4626156.596, 693678.021 4...   \n",
       "\n",
       "   population          area  latitude_cent  longitude_cent  area_calculated  \\\n",
       "0      389263  5.495912e+09   4.612831e+06   654085.484685     5.495912e+09   \n",
       "1      433644  9.988213e+09   4.672728e+06   664311.230406     9.988213e+09   \n",
       "\n",
       "       perimeter                                               hull  \\\n",
       "0  399080.741781  POLYGON ((636445.123 4577346.930, 597699.240 4...   \n",
       "1  500269.064605  POLYGON ((690119.770 4622832.971, 596992.214 4...   \n",
       "\n",
       "   district perimeter  \n",
       "0       399080.741781  \n",
       "1       500269.064605  "
      ]
     },
     "execution_count": 115,
     "metadata": {},
     "output_type": "execute_result"
    }
   ],
   "source": [
    "# perimeter:\n",
    "District_Shapefile['district perimeter'] = District_Shapefile['geometry'].length\n",
    "District_Shapefile"
   ]
  },
  {
   "cell_type": "code",
   "execution_count": 105,
   "id": "79c9fd0c",
   "metadata": {},
   "outputs": [],
   "source": [
    "# https://geopandas.org/en/stable/docs/reference/api/geopandas.GeoSeries.minimum_bounding_circle.html\n",
    "\n",
    "from shapely.geometry import Polygon, LineString, Point"
   ]
  },
  {
   "cell_type": "code",
   "execution_count": 107,
   "id": "ffc22866",
   "metadata": {},
   "outputs": [
    {
     "ename": "AttributeError",
     "evalue": "'GeoSeries' object has no attribute 'minimum_bounding_circle'",
     "output_type": "error",
     "traceback": [
      "\u001b[0;31m---------------------------------------------------------------------------\u001b[0m",
      "\u001b[0;31mAttributeError\u001b[0m                            Traceback (most recent call last)",
      "\u001b[0;32m/tmp/ipykernel_5288/993566380.py\u001b[0m in \u001b[0;36m<module>\u001b[0;34m\u001b[0m\n\u001b[0;32m----> 1\u001b[0;31m \u001b[0mDistrict_Shapefile\u001b[0m\u001b[0;34m[\u001b[0m\u001b[0;34m'geometry'\u001b[0m\u001b[0;34m]\u001b[0m\u001b[0;34m.\u001b[0m\u001b[0mminimum_bounding_circle\u001b[0m\u001b[0;34m(\u001b[0m\u001b[0;34m)\u001b[0m\u001b[0;34m\u001b[0m\u001b[0;34m\u001b[0m\u001b[0m\n\u001b[0m",
      "\u001b[0;32m~/anaconda3/lib/python3.9/site-packages/pandas/core/generic.py\u001b[0m in \u001b[0;36m__getattr__\u001b[0;34m(self, name)\u001b[0m\n\u001b[1;32m   5573\u001b[0m         ):\n\u001b[1;32m   5574\u001b[0m             \u001b[0;32mreturn\u001b[0m \u001b[0mself\u001b[0m\u001b[0;34m[\u001b[0m\u001b[0mname\u001b[0m\u001b[0;34m]\u001b[0m\u001b[0;34m\u001b[0m\u001b[0;34m\u001b[0m\u001b[0m\n\u001b[0;32m-> 5575\u001b[0;31m         \u001b[0;32mreturn\u001b[0m \u001b[0mobject\u001b[0m\u001b[0;34m.\u001b[0m\u001b[0m__getattribute__\u001b[0m\u001b[0;34m(\u001b[0m\u001b[0mself\u001b[0m\u001b[0;34m,\u001b[0m \u001b[0mname\u001b[0m\u001b[0;34m)\u001b[0m\u001b[0;34m\u001b[0m\u001b[0;34m\u001b[0m\u001b[0m\n\u001b[0m\u001b[1;32m   5576\u001b[0m \u001b[0;34m\u001b[0m\u001b[0m\n\u001b[1;32m   5577\u001b[0m     \u001b[0;32mdef\u001b[0m \u001b[0m__setattr__\u001b[0m\u001b[0;34m(\u001b[0m\u001b[0mself\u001b[0m\u001b[0;34m,\u001b[0m \u001b[0mname\u001b[0m\u001b[0;34m:\u001b[0m \u001b[0mstr\u001b[0m\u001b[0;34m,\u001b[0m \u001b[0mvalue\u001b[0m\u001b[0;34m)\u001b[0m \u001b[0;34m->\u001b[0m \u001b[0;32mNone\u001b[0m\u001b[0;34m:\u001b[0m\u001b[0;34m\u001b[0m\u001b[0;34m\u001b[0m\u001b[0m\n",
      "\u001b[0;31mAttributeError\u001b[0m: 'GeoSeries' object has no attribute 'minimum_bounding_circle'"
     ]
    }
   ],
   "source": [
    "District_Shapefile['geometry'].minimum_bounding_circle()"
   ]
  },
  {
   "cell_type": "code",
   "execution_count": 110,
   "id": "e647c4c8",
   "metadata": {},
   "outputs": [
    {
     "data": {
      "text/plain": [
       "0    POLYGON ((0.00000 0.00000, 1.00000 1.00000, 0....\n",
       "1    LINESTRING (0.00000 0.00000, 1.00000 1.00000, ...\n",
       "2                              POINT (0.00000 0.00000)\n",
       "dtype: geometry"
      ]
     },
     "execution_count": 110,
     "metadata": {},
     "output_type": "execute_result"
    }
   ],
   "source": [
    "s = gpd.GeoSeries(\n",
    "    [\n",
    "        Polygon([(0, 0), (1, 1), (0, 1), (0, 0)]),\n",
    "        LineString([(0, 0), (1, 1), (1, 0)]),\n",
    "        Point(0, 0),\n",
    "    ]\n",
    ")\n",
    "s"
   ]
  },
  {
   "cell_type": "code",
   "execution_count": 117,
   "id": "de4bbd08",
   "metadata": {},
   "outputs": [
    {
     "ename": "AttributeError",
     "evalue": "'GeoSeries' object has no attribute 'minimum_bounding_circle'",
     "output_type": "error",
     "traceback": [
      "\u001b[0;31m---------------------------------------------------------------------------\u001b[0m",
      "\u001b[0;31mAttributeError\u001b[0m                            Traceback (most recent call last)",
      "\u001b[0;32m/tmp/ipykernel_5288/1200412051.py\u001b[0m in \u001b[0;36m<module>\u001b[0;34m\u001b[0m\n\u001b[0;32m----> 1\u001b[0;31m \u001b[0ms\u001b[0m\u001b[0;34m.\u001b[0m\u001b[0mminimum_bounding_circle\u001b[0m\u001b[0;34m(\u001b[0m\u001b[0;34m)\u001b[0m\u001b[0;34m\u001b[0m\u001b[0;34m\u001b[0m\u001b[0m\n\u001b[0m",
      "\u001b[0;32m~/anaconda3/lib/python3.9/site-packages/pandas/core/generic.py\u001b[0m in \u001b[0;36m__getattr__\u001b[0;34m(self, name)\u001b[0m\n\u001b[1;32m   5573\u001b[0m         ):\n\u001b[1;32m   5574\u001b[0m             \u001b[0;32mreturn\u001b[0m \u001b[0mself\u001b[0m\u001b[0;34m[\u001b[0m\u001b[0mname\u001b[0m\u001b[0;34m]\u001b[0m\u001b[0;34m\u001b[0m\u001b[0;34m\u001b[0m\u001b[0m\n\u001b[0;32m-> 5575\u001b[0;31m         \u001b[0;32mreturn\u001b[0m \u001b[0mobject\u001b[0m\u001b[0;34m.\u001b[0m\u001b[0m__getattribute__\u001b[0m\u001b[0;34m(\u001b[0m\u001b[0mself\u001b[0m\u001b[0;34m,\u001b[0m \u001b[0mname\u001b[0m\u001b[0;34m)\u001b[0m\u001b[0;34m\u001b[0m\u001b[0;34m\u001b[0m\u001b[0m\n\u001b[0m\u001b[1;32m   5576\u001b[0m \u001b[0;34m\u001b[0m\u001b[0m\n\u001b[1;32m   5577\u001b[0m     \u001b[0;32mdef\u001b[0m \u001b[0m__setattr__\u001b[0m\u001b[0;34m(\u001b[0m\u001b[0mself\u001b[0m\u001b[0;34m,\u001b[0m \u001b[0mname\u001b[0m\u001b[0;34m:\u001b[0m \u001b[0mstr\u001b[0m\u001b[0;34m,\u001b[0m \u001b[0mvalue\u001b[0m\u001b[0;34m)\u001b[0m \u001b[0;34m->\u001b[0m \u001b[0;32mNone\u001b[0m\u001b[0;34m:\u001b[0m\u001b[0;34m\u001b[0m\u001b[0;34m\u001b[0m\u001b[0m\n",
      "\u001b[0;31mAttributeError\u001b[0m: 'GeoSeries' object has no attribute 'minimum_bounding_circle'"
     ]
    }
   ],
   "source": [
    "s.minimum_bounding_circle()"
   ]
  },
  {
   "cell_type": "code",
   "execution_count": null,
   "id": "ab3b667d",
   "metadata": {},
   "outputs": [],
   "source": []
  }
 ],
 "metadata": {
  "kernelspec": {
   "display_name": "base",
   "language": "python",
   "name": "python3"
  },
  "language_info": {
   "codemirror_mode": {
    "name": "ipython",
    "version": 3
   },
   "file_extension": ".py",
   "mimetype": "text/x-python",
   "name": "python",
   "nbconvert_exporter": "python",
   "pygments_lexer": "ipython3",
   "version": "3.9.13"
  },
  "vscode": {
   "interpreter": {
    "hash": "c7187ad058efaad0b7526032999616acc13f10c7752ca60ad083c0ec3504d145"
   }
  }
 },
 "nbformat": 4,
 "nbformat_minor": 5
}
